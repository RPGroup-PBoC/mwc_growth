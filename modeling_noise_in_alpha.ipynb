{
 "cells": [
  {
   "cell_type": "markdown",
   "metadata": {},
   "source": [
    "#  Modeling noise in $\\alpha$"
   ]
  },
  {
   "cell_type": "code",
   "execution_count": 1,
   "metadata": {},
   "outputs": [],
   "source": [
    "import numpy as np \n",
    "import matplotlib.pyplot as plt\n",
    "import pandas as pd\n",
    "import seaborn\n",
    "import pymc3 as pm\n",
    "import sys\n",
    "sys.path.insert(0, '../../')\n",
    "import mwc.viz\n",
    "import mwc.stats\n",
    "import mwc.bayes\n",
    "mwc.viz.personal_style()"
   ]
  },
  {
   "cell_type": "markdown",
   "metadata": {},
   "source": [
    "$$\n",
    "\\langle (I_1 - I_2 )^2 \\rangle = \\alpha I_\\text{tot}\n",
    "$$\n",
    "\n",
    "\n",
    "### Model I - No noise.\n",
    "\n",
    "$$\n",
    "I_{tot} = \\alpha N_{tot}\n",
    "$$\n",
    "\n",
    "\n",
    "\n",
    "### Model II -  Normal measurement noise\n",
    "\n",
    "$$\n",
    "I_{tot} = \\alpha N_{tot}  + \\epsilon\\, ;\\, \\epsilon \\sim \\mathcal{Normal}(0, \\sigma)\n",
    "$$\n",
    "\n",
    "\n",
    "### Model III - Cellular noise\n",
    "\n",
    "$$\n",
    "I_{tot} = \\sum\\limits_i^N \\alpha_i + \\epsilon_i \\,;\\, \\epsilon \\sim \\mathcal{Normal}(0, \\sigma)\n",
    "$$\n",
    "\n",
    "### Model IV - Cellular and measurement noise\n",
    "\n",
    "$$\n",
    "I_{tot} = \\gamma + \\sum\\limits_i^N \\alpha_i + \\epsilon_i\\, ;\\, \\epsilon \\sim \\mathcal{Normal}(0, \\sigma)\\, ;\\, \\gamma \\sim \\mathcal{Normal}(0, \\zeta)\n",
    "$$\n"
   ]
  },
  {
   "cell_type": "code",
   "execution_count": null,
   "metadata": {},
   "outputs": [],
   "source": [
    "# Set up some cells. \n",
    "n_div = 1000\n"
   ]
  }
 ],
 "metadata": {
  "kernelspec": {
   "display_name": "Python [default]",
   "language": "python",
   "name": "python3"
  },
  "language_info": {
   "codemirror_mode": {
    "name": "ipython",
    "version": 3
   },
   "file_extension": ".py",
   "mimetype": "text/x-python",
   "name": "python",
   "nbconvert_exporter": "python",
   "pygments_lexer": "ipython3",
   "version": "3.6.4"
  }
 },
 "nbformat": 4,
 "nbformat_minor": 2
}
