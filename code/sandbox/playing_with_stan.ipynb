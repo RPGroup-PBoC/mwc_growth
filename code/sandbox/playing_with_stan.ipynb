{
 "cells": [
  {
   "cell_type": "markdown",
   "metadata": {},
   "source": [
    "# Playing around with Stan\n"
   ]
  },
  {
   "cell_type": "code",
   "execution_count": 1,
   "metadata": {},
   "outputs": [],
   "source": [
    "import numpy as np\n",
    "import matplotlib.pyplot as plt\n",
    "import pandas as pd\n",
    "import pystan as stan\n",
    "import pickle\n",
    "import glob\n",
    "import sys\n",
    "sys.path.insert(0, '../../')\n",
    "import mwc.viz\n",
    "%matplotlib inline"
   ]
  },
  {
   "cell_type": "markdown",
   "metadata": {},
   "source": [
    "[Tutorial](https://github.com/rasmusab/bayesianprobabilitiesworkshop/blob/master/Exercise%203.ipynb) and [answers](https://github.com/rasmusab/bayesianprobabilitiesworkshop/blob/master/Exercise%203%20-%20solutions.ipynb) by Rasmus. "
   ]
  },
  {
   "cell_type": "code",
   "execution_count": 33,
   "metadata": {},
   "outputs": [
    {
     "name": "stderr",
     "output_type": "stream",
     "text": [
      "INFO:pystan:COMPILING THE C++ CODE FOR MODEL anon_model_1c346215b2aadc31d72f8ce81d51b1c3 NOW.\n"
     ]
    }
   ],
   "source": [
    "# Define some model code for stan. \n",
    "model_string = \"\"\"\n",
    "data { \n",
    "    # Number of data points.\n",
    "    int n1;\n",
    "    int n2;\n",
    "    \n",
    "    # Number of successses.\n",
    "    int y1[n1];\n",
    "    int y2[n2];\n",
    "    }\n",
    "    \n",
    "parameters {\n",
    "    real<lower=0, upper=1> theta1;\n",
    "    real<lower=0, upper=1> theta2;\n",
    "    }\n",
    "\n",
    "model {\n",
    "    # Assign priors.\n",
    "    theta1 ~ beta(1, 1);\n",
    "    theta2 ~ beta(1, 1);\n",
    "    \n",
    "    #  Likelihood\n",
    "    y1 ~ bernoulli(theta1);\n",
    "    y2 ~ bernoulli(theta2);\n",
    "}\n",
    "\n",
    "generated quantities {\n",
    "\n",
    "}\n",
    "    \n",
    "\"\"\"\n",
    "\n",
    "# Compile the model. \n",
    "model = stan. StanModel(model_code=model_string)"
   ]
  },
  {
   "cell_type": "code",
   "execution_count": 39,
   "metadata": {},
   "outputs": [],
   "source": [
    "# Set the data\n",
    "y1 = [0, 1, 0, 0, 0, 0, 1, 0, 0, 0]\n",
    "y2 = [0, 0, 1, 1, 1, 0, 1, 1, 1, 0]\n",
    "data_dict = {'y1':y1, 'y2':y2, 'n1': len(y1), 'n2':len(y2)}\n",
    "\n",
    "# Sample the model. \n",
    "samples = model.sampling(data=data_dict, iter=5000, chains=4)\n",
    "\n",
    "df = pd.DataFrame(samples.extract())"
   ]
  }
 ],
 "metadata": {
  "kernelspec": {
   "display_name": "Python [default]",
   "language": "python",
   "name": "python3"
  },
  "language_info": {
   "codemirror_mode": {
    "name": "ipython",
    "version": 3
   },
   "file_extension": ".py",
   "mimetype": "text/x-python",
   "name": "python",
   "nbconvert_exporter": "python",
   "pygments_lexer": "ipython3",
   "version": "3.6.4"
  }
 },
 "nbformat": 4,
 "nbformat_minor": 2
}
