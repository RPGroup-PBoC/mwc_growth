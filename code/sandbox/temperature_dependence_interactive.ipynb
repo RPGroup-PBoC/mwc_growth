#%%
import numpy as np
import pandas as pd
import mwc.viz
import panel as pn
import pandas as pd
import matplotlib.pyplot as plt
import bokeh.io
import bokeh.plotting
import mwc.model
colors, palette = mwc.viz.personal_style()
pn.extension()
bokeh.io.output_notebook()



#%%
# Load teh fold-change data and isolate the 32 C data set. 
data = pd.read_csv('../../data/analyzed_foldchange.csv', comment='#')
data = data[data['temp']==32]
data = data[(data['fold_change'] >= 0) & (data['repressors'] > 0 ) & (data['size']=='large')]
data = data.groupby(['carbon', 'temp', 'atc_ngml', 
                    'date', 'run_number']).mean().reset_index()
data = data.groupby(['atc_ngml']).agg(('mean', 'sem')).reset_index()
 # %%

 # Define the experimental constants. 
ref_temp = 37 + 273.15
temp = 32 + 273.15
epRA_ref = -13.9
epAI_ref = 4.5
rep_range = np.logspace(0, 4, 200)

epRA_slope_slider = pn.widgets.FloatSlider(name = "epRA_m", start=0, end=1, step=0.001, value=0)
epAI_slope_slider = pn.widgets.FloatSlider(name = "epAI_m", start=0, end=1, step=0.001, value=0)


@pn.depends(epRA_slope_slider.param.value, epAI_slope_slider.param.value)
def plot_fold_change(m_RA, m_AI):
    p = bokeh.plotting.figure(x_axis_type='log', y_axis_type='log',
                        x_axis_label='repressors per cell',
                        y_axis_label='fold-change')

    delS_RA = temp * m_RA
    delS_AI = temp * m_AI
    epRA_star = delS_RA * (ref_temp - temp) + epRA_ref
    epAI_star = delS_AI * (ref_temp - temp) + epAI_ref
    pact = (1 + np.exp(-epAI_star))**-1
    foldchange = (1 + pact * rep_range * np.exp(-epRA_star) / 4.6E6)**-1
    p.line(rep_range, foldchange, color=colors['dark_purple'])

    return p 
bokeh.io.show(p)
widgets = pn.Column(epRA_slope_slider, epAI_slope_slider)
pn.Row(plot_fold_change, widgets)

# %%
