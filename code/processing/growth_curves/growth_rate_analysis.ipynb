{
 "cells": [
  {
   "cell_type": "markdown",
   "metadata": {},
   "source": [
    "# Bayesian Parameter Estimation for Growth Rates"
   ]
  },
  {
   "cell_type": "code",
   "execution_count": 3,
   "metadata": {},
   "outputs": [],
   "source": [
    "import sys\n",
    "import numpy as np\n",
    "import pandas as pd\n",
    "import glob\n",
    "import pystan\n",
    "import altair as alt\n",
    "sys.path.insert(0, '../../../')\n",
    "import mwc.viz\n",
    "%load_ext stanmagic"
   ]
  },
  {
   "cell_type": "code",
   "execution_count": 83,
   "metadata": {},
   "outputs": [
    {
     "data": {
      "application/vnd.vegalite.v2+json": {
       "$schema": "https://vega.github.io/schema/vega-lite/v2.6.0.json",
       "config": {
        "view": {
         "height": 300,
         "width": 400
        }
       },
       "data": {
        "name": "data-0fce7b2536e11f3e07c2bfa63096a046"
       },
       "datasets": {
        "data-0fce7b2536e11f3e07c2bfa63096a046": [
         {
          "OD_600": 0.17,
          "carbon": "glucose",
          "clock_time": "10h11m",
          "date": 20180911,
          "elapsed_time_min": 81,
          "idx": 3,
          "operator": "O2",
          "run_number": 1,
          "temperature": 37
         },
         {
          "OD_600": 0.18,
          "carbon": "glucose",
          "clock_time": "10h11m",
          "date": 20180911,
          "elapsed_time_min": 81,
          "idx": 3,
          "operator": "O2",
          "run_number": 1,
          "temperature": 37
         },
         {
          "OD_600": 0.19,
          "carbon": "glucose",
          "clock_time": "10h11m",
          "date": 20180911,
          "elapsed_time_min": 81,
          "idx": 3,
          "operator": "O2",
          "run_number": 1,
          "temperature": 37
         },
         {
          "OD_600": 0.17,
          "carbon": "glucose",
          "clock_time": "10h41m",
          "date": 20180911,
          "elapsed_time_min": 111,
          "idx": 3,
          "operator": "O2",
          "run_number": 1,
          "temperature": 37
         },
         {
          "OD_600": 0.18,
          "carbon": "glucose",
          "clock_time": "10h41m",
          "date": 20180911,
          "elapsed_time_min": 111,
          "idx": 3,
          "operator": "O2",
          "run_number": 1,
          "temperature": 37
         },
         {
          "OD_600": 0.18,
          "carbon": "glucose",
          "clock_time": "10h41m",
          "date": 20180911,
          "elapsed_time_min": 111,
          "idx": 3,
          "operator": "O2",
          "run_number": 1,
          "temperature": 37
         },
         {
          "OD_600": 0.22,
          "carbon": "glucose",
          "clock_time": "11h10m",
          "date": 20180911,
          "elapsed_time_min": 140,
          "idx": 3,
          "operator": "O2",
          "run_number": 1,
          "temperature": 37
         },
         {
          "OD_600": 0.24,
          "carbon": "glucose",
          "clock_time": "11h10m",
          "date": 20180911,
          "elapsed_time_min": 140,
          "idx": 3,
          "operator": "O2",
          "run_number": 1,
          "temperature": 37
         },
         {
          "OD_600": 0.24,
          "carbon": "glucose",
          "clock_time": "11h10m",
          "date": 20180911,
          "elapsed_time_min": 140,
          "idx": 3,
          "operator": "O2",
          "run_number": 1,
          "temperature": 37
         },
         {
          "OD_600": 0.33,
          "carbon": "glucose",
          "clock_time": "11h39m",
          "date": 20180911,
          "elapsed_time_min": 169,
          "idx": 3,
          "operator": "O2",
          "run_number": 1,
          "temperature": 37
         },
         {
          "OD_600": 0.34,
          "carbon": "glucose",
          "clock_time": "11h39m",
          "date": 20180911,
          "elapsed_time_min": 169,
          "idx": 3,
          "operator": "O2",
          "run_number": 1,
          "temperature": 37
         },
         {
          "OD_600": 0.35,
          "carbon": "glucose",
          "clock_time": "11h39m",
          "date": 20180911,
          "elapsed_time_min": 169,
          "idx": 3,
          "operator": "O2",
          "run_number": 1,
          "temperature": 37
         },
         {
          "OD_600": 0.41,
          "carbon": "glucose",
          "clock_time": "11h55m",
          "date": 20180911,
          "elapsed_time_min": 185,
          "idx": 3,
          "operator": "O2",
          "run_number": 1,
          "temperature": 37
         },
         {
          "OD_600": 0.42,
          "carbon": "glucose",
          "clock_time": "11h56m",
          "date": 20180911,
          "elapsed_time_min": 186,
          "idx": 3,
          "operator": "O2",
          "run_number": 1,
          "temperature": 37
         },
         {
          "OD_600": 0.42,
          "carbon": "glucose",
          "clock_time": "11h56m",
          "date": 20180911,
          "elapsed_time_min": 186,
          "idx": 3,
          "operator": "O2",
          "run_number": 1,
          "temperature": 37
         },
         {
          "OD_600": 0.46,
          "carbon": "glucose",
          "clock_time": "12h12m",
          "date": 20180911,
          "elapsed_time_min": 202,
          "idx": 3,
          "operator": "O2",
          "run_number": 1,
          "temperature": 37
         },
         {
          "OD_600": 0.46,
          "carbon": "glucose",
          "clock_time": "12h12m",
          "date": 20180911,
          "elapsed_time_min": 202,
          "idx": 3,
          "operator": "O2",
          "run_number": 1,
          "temperature": 37
         },
         {
          "OD_600": 0.47,
          "carbon": "glucose",
          "clock_time": "12h12m",
          "date": 20180911,
          "elapsed_time_min": 202,
          "idx": 3,
          "operator": "O2",
          "run_number": 1,
          "temperature": 37
         },
         {
          "OD_600": 0.5,
          "carbon": "glucose",
          "clock_time": "12h24m",
          "date": 20180911,
          "elapsed_time_min": 214,
          "idx": 3,
          "operator": "O2",
          "run_number": 1,
          "temperature": 37
         },
         {
          "OD_600": 0.5,
          "carbon": "glucose",
          "clock_time": "12h24m",
          "date": 20180911,
          "elapsed_time_min": 214,
          "idx": 3,
          "operator": "O2",
          "run_number": 1,
          "temperature": 37
         },
         {
          "OD_600": 0.51,
          "carbon": "glucose",
          "clock_time": "12h24m",
          "date": 20180911,
          "elapsed_time_min": 214,
          "idx": 3,
          "operator": "O2",
          "run_number": 1,
          "temperature": 37
         },
         {
          "OD_600": 0.54,
          "carbon": "glucose",
          "clock_time": "12h44m",
          "date": 20180911,
          "elapsed_time_min": 234,
          "idx": 3,
          "operator": "O2",
          "run_number": 1,
          "temperature": 37
         },
         {
          "OD_600": 0.55,
          "carbon": "glucose",
          "clock_time": "12h44m",
          "date": 20180911,
          "elapsed_time_min": 234,
          "idx": 3,
          "operator": "O2",
          "run_number": 1,
          "temperature": 37
         },
         {
          "OD_600": 0.59,
          "carbon": "glucose",
          "clock_time": "12h45m",
          "date": 20180911,
          "elapsed_time_min": 235,
          "idx": 3,
          "operator": "O2",
          "run_number": 1,
          "temperature": 37
         },
         {
          "OD_600": 0.63,
          "carbon": "glucose",
          "clock_time": "12h55m",
          "date": 20180911,
          "elapsed_time_min": 245,
          "idx": 3,
          "operator": "O2",
          "run_number": 1,
          "temperature": 37
         },
         {
          "OD_600": 0.63,
          "carbon": "glucose",
          "clock_time": "12h56m",
          "date": 20180911,
          "elapsed_time_min": 246,
          "idx": 3,
          "operator": "O2",
          "run_number": 1,
          "temperature": 37
         },
         {
          "OD_600": 0.65,
          "carbon": "glucose",
          "clock_time": "12h56m",
          "date": 20180911,
          "elapsed_time_min": 246,
          "idx": 3,
          "operator": "O2",
          "run_number": 1,
          "temperature": 37
         },
         {
          "OD_600": 0.69,
          "carbon": "glucose",
          "clock_time": "13h11m",
          "date": 20180911,
          "elapsed_time_min": 261,
          "idx": 3,
          "operator": "O2",
          "run_number": 1,
          "temperature": 37
         },
         {
          "OD_600": 0.69,
          "carbon": "glucose",
          "clock_time": "13h11m",
          "date": 20180911,
          "elapsed_time_min": 261,
          "idx": 3,
          "operator": "O2",
          "run_number": 1,
          "temperature": 37
         },
         {
          "OD_600": 0.71,
          "carbon": "glucose",
          "clock_time": "13h11m",
          "date": 20180911,
          "elapsed_time_min": 261,
          "idx": 3,
          "operator": "O2",
          "run_number": 1,
          "temperature": 37
         },
         {
          "OD_600": 0.76,
          "carbon": "glucose",
          "clock_time": "13h26m",
          "date": 20180911,
          "elapsed_time_min": 275,
          "idx": 3,
          "operator": "O2",
          "run_number": 1,
          "temperature": 37
         },
         {
          "OD_600": 0.76,
          "carbon": "glucose",
          "clock_time": "13h27m",
          "date": 20180911,
          "elapsed_time_min": 276,
          "idx": 3,
          "operator": "O2",
          "run_number": 1,
          "temperature": 37
         },
         {
          "OD_600": 0.79,
          "carbon": "glucose",
          "clock_time": "13h27m",
          "date": 20180911,
          "elapsed_time_min": 276,
          "idx": 3,
          "operator": "O2",
          "run_number": 1,
          "temperature": 37
         },
         {
          "OD_600": 0.13,
          "carbon": "glucose",
          "clock_time": "09h27m",
          "date": 20180912,
          "elapsed_time_min": 32,
          "idx": 6,
          "operator": "O2",
          "run_number": 2,
          "temperature": 37
         },
         {
          "OD_600": 0.14,
          "carbon": "glucose",
          "clock_time": "09h27m",
          "date": 20180912,
          "elapsed_time_min": 32,
          "idx": 6,
          "operator": "O2",
          "run_number": 2,
          "temperature": 37
         },
         {
          "OD_600": 0.14,
          "carbon": "glucose",
          "clock_time": "09h27m",
          "date": 20180912,
          "elapsed_time_min": 32,
          "idx": 6,
          "operator": "O2",
          "run_number": 2,
          "temperature": 37
         },
         {
          "OD_600": 0.15,
          "carbon": "glucose",
          "clock_time": "09h54m",
          "date": 20180912,
          "elapsed_time_min": 59,
          "idx": 6,
          "operator": "O2",
          "run_number": 2,
          "temperature": 37
         },
         {
          "OD_600": 0.15,
          "carbon": "glucose",
          "clock_time": "09h54m",
          "date": 20180912,
          "elapsed_time_min": 59,
          "idx": 6,
          "operator": "O2",
          "run_number": 2,
          "temperature": 37
         },
         {
          "OD_600": 0.16,
          "carbon": "glucose",
          "clock_time": "09h54m",
          "date": 20180912,
          "elapsed_time_min": 59,
          "idx": 6,
          "operator": "O2",
          "run_number": 2,
          "temperature": 37
         },
         {
          "OD_600": 0.2,
          "carbon": "glucose",
          "clock_time": "10h23m",
          "date": 20180912,
          "elapsed_time_min": 88,
          "idx": 6,
          "operator": "O2",
          "run_number": 2,
          "temperature": 37
         },
         {
          "OD_600": 0.21,
          "carbon": "glucose",
          "clock_time": "10h23m",
          "date": 20180912,
          "elapsed_time_min": 88,
          "idx": 6,
          "operator": "O2",
          "run_number": 2,
          "temperature": 37
         },
         {
          "OD_600": 0.21,
          "carbon": "glucose",
          "clock_time": "10h23m",
          "date": 20180912,
          "elapsed_time_min": 88,
          "idx": 6,
          "operator": "O2",
          "run_number": 2,
          "temperature": 37
         },
         {
          "OD_600": 0.23,
          "carbon": "glucose",
          "clock_time": "10h53m",
          "date": 20180912,
          "elapsed_time_min": 118,
          "idx": 6,
          "operator": "O2",
          "run_number": 2,
          "temperature": 37
         },
         {
          "OD_600": 0.25,
          "carbon": "glucose",
          "clock_time": "10h54m",
          "date": 20180912,
          "elapsed_time_min": 119,
          "idx": 6,
          "operator": "O2",
          "run_number": 2,
          "temperature": 37
         },
         {
          "OD_600": 0.24,
          "carbon": "glucose",
          "clock_time": "10h54m",
          "date": 20180912,
          "elapsed_time_min": 119,
          "idx": 6,
          "operator": "O2",
          "run_number": 2,
          "temperature": 37
         },
         {
          "OD_600": 0.32,
          "carbon": "glucose",
          "clock_time": "11h23m",
          "date": 20180912,
          "elapsed_time_min": 148,
          "idx": 6,
          "operator": "O2",
          "run_number": 2,
          "temperature": 37
         },
         {
          "OD_600": 0.32,
          "carbon": "glucose",
          "clock_time": "11h23m",
          "date": 20180912,
          "elapsed_time_min": 148,
          "idx": 6,
          "operator": "O2",
          "run_number": 2,
          "temperature": 37
         },
         {
          "OD_600": 0.33,
          "carbon": "glucose",
          "clock_time": "11h23m",
          "date": 20180912,
          "elapsed_time_min": 148,
          "idx": 6,
          "operator": "O2",
          "run_number": 2,
          "temperature": 37
         },
         {
          "OD_600": 0.4,
          "carbon": "glucose",
          "clock_time": "11h53m",
          "date": 20180912,
          "elapsed_time_min": 178,
          "idx": 6,
          "operator": "O2",
          "run_number": 2,
          "temperature": 37
         },
         {
          "OD_600": 0.41,
          "carbon": "glucose",
          "clock_time": "11h54m",
          "date": 20180912,
          "elapsed_time_min": 179,
          "idx": 6,
          "operator": "O2",
          "run_number": 2,
          "temperature": 37
         },
         {
          "OD_600": 0.41,
          "carbon": "glucose",
          "clock_time": "11h54m",
          "date": 20180912,
          "elapsed_time_min": 179,
          "idx": 6,
          "operator": "O2",
          "run_number": 2,
          "temperature": 37
         },
         {
          "OD_600": 0.5,
          "carbon": "glucose",
          "clock_time": "12h22m",
          "date": 20180912,
          "elapsed_time_min": 207,
          "idx": 6,
          "operator": "O2",
          "run_number": 2,
          "temperature": 37
         },
         {
          "OD_600": 0.53,
          "carbon": "glucose",
          "clock_time": "12h22m",
          "date": 20180912,
          "elapsed_time_min": 207,
          "idx": 6,
          "operator": "O2",
          "run_number": 2,
          "temperature": 37
         },
         {
          "OD_600": 0.54,
          "carbon": "glucose",
          "clock_time": "12h22m",
          "date": 20180912,
          "elapsed_time_min": 207,
          "idx": 6,
          "operator": "O2",
          "run_number": 2,
          "temperature": 37
         },
         {
          "OD_600": 0.57,
          "carbon": "glucose",
          "clock_time": "12h37m",
          "date": 20180912,
          "elapsed_time_min": 222,
          "idx": 6,
          "operator": "O2",
          "run_number": 2,
          "temperature": 37
         },
         {
          "OD_600": 0.59,
          "carbon": "glucose",
          "clock_time": "12h37m",
          "date": 20180912,
          "elapsed_time_min": 222,
          "idx": 6,
          "operator": "O2",
          "run_number": 2,
          "temperature": 37
         },
         {
          "OD_600": 0.59,
          "carbon": "glucose",
          "clock_time": "12h37m",
          "date": 20180912,
          "elapsed_time_min": 222,
          "idx": 6,
          "operator": "O2",
          "run_number": 2,
          "temperature": 37
         },
         {
          "OD_600": 0.63,
          "carbon": "glucose",
          "clock_time": "12h54m",
          "date": 20180912,
          "elapsed_time_min": 239,
          "idx": 6,
          "operator": "O2",
          "run_number": 2,
          "temperature": 37
         },
         {
          "OD_600": 0.63,
          "carbon": "glucose",
          "clock_time": "12h54m",
          "date": 20180912,
          "elapsed_time_min": 239,
          "idx": 6,
          "operator": "O2",
          "run_number": 2,
          "temperature": 37
         },
         {
          "OD_600": 0.67,
          "carbon": "glucose",
          "clock_time": "12h55m",
          "date": 20180912,
          "elapsed_time_min": 240,
          "idx": 6,
          "operator": "O2",
          "run_number": 2,
          "temperature": 37
         },
         {
          "OD_600": 0.71,
          "carbon": "glucose",
          "clock_time": "13h07m",
          "date": 20180912,
          "elapsed_time_min": 252,
          "idx": 6,
          "operator": "O2",
          "run_number": 2,
          "temperature": 37
         },
         {
          "OD_600": 0.72,
          "carbon": "glucose",
          "clock_time": "13h08m",
          "date": 20180912,
          "elapsed_time_min": 253,
          "idx": 6,
          "operator": "O2",
          "run_number": 2,
          "temperature": 37
         },
         {
          "OD_600": 0.71,
          "carbon": "glucose",
          "clock_time": "13h08m",
          "date": 20180912,
          "elapsed_time_min": 253,
          "idx": 6,
          "operator": "O2",
          "run_number": 2,
          "temperature": 37
         },
         {
          "OD_600": 0.75,
          "carbon": "glucose",
          "clock_time": "13h23m",
          "date": 20180912,
          "elapsed_time_min": 268,
          "idx": 6,
          "operator": "O2",
          "run_number": 2,
          "temperature": 37
         },
         {
          "OD_600": 0.75,
          "carbon": "glucose",
          "clock_time": "13h23m",
          "date": 20180912,
          "elapsed_time_min": 268,
          "idx": 6,
          "operator": "O2",
          "run_number": 2,
          "temperature": 37
         },
         {
          "OD_600": 0.78,
          "carbon": "glucose",
          "clock_time": "13h23m",
          "date": 20180912,
          "elapsed_time_min": 268,
          "idx": 6,
          "operator": "O2",
          "run_number": 2,
          "temperature": 37
         },
         {
          "OD_600": 0.83,
          "carbon": "glucose",
          "clock_time": "13h38m",
          "date": 20180912,
          "elapsed_time_min": 283,
          "idx": 6,
          "operator": "O2",
          "run_number": 2,
          "temperature": 37
         },
         {
          "OD_600": 0.83,
          "carbon": "glucose",
          "clock_time": "13h38m",
          "date": 20180912,
          "elapsed_time_min": 283,
          "idx": 6,
          "operator": "O2",
          "run_number": 2,
          "temperature": 37
         },
         {
          "OD_600": 0.83,
          "carbon": "glucose",
          "clock_time": "13h39m",
          "date": 20180912,
          "elapsed_time_min": 284,
          "idx": 6,
          "operator": "O2",
          "run_number": 2,
          "temperature": 37
         },
         {
          "OD_600": 0.13,
          "carbon": "glucose",
          "clock_time": "09h27m",
          "date": 20180912,
          "elapsed_time_min": 32,
          "idx": 6,
          "operator": "O2",
          "run_number": 2,
          "temperature": 37
         },
         {
          "OD_600": 0.16,
          "carbon": "glucose",
          "clock_time": "15h54m",
          "date": 20180908,
          "elapsed_time_min": 178,
          "idx": 2,
          "operator": "O2",
          "run_number": 2,
          "temperature": 37
         },
         {
          "OD_600": 0.14,
          "carbon": "glucose",
          "clock_time": "16h17m",
          "date": 20180908,
          "elapsed_time_min": 202,
          "idx": 1,
          "operator": "O2",
          "run_number": 1,
          "temperature": 37
         },
         {
          "OD_600": 0.19,
          "carbon": "glucose",
          "clock_time": "16h17m",
          "date": 20180908,
          "elapsed_time_min": 201,
          "idx": 2,
          "operator": "O2",
          "run_number": 2,
          "temperature": 37
         },
         {
          "OD_600": 0.17,
          "carbon": "glucose",
          "clock_time": "16h38m",
          "date": 20180908,
          "elapsed_time_min": 223,
          "idx": 1,
          "operator": "O2",
          "run_number": 1,
          "temperature": 37
         },
         {
          "OD_600": 0.21,
          "carbon": "glucose",
          "clock_time": "16h39m",
          "date": 20180908,
          "elapsed_time_min": 223,
          "idx": 2,
          "operator": "O2",
          "run_number": 2,
          "temperature": 37
         },
         {
          "OD_600": 0.2,
          "carbon": "glucose",
          "clock_time": "16h59m",
          "date": 20180908,
          "elapsed_time_min": 243,
          "idx": 1,
          "operator": "O2",
          "run_number": 1,
          "temperature": 37
         },
         {
          "OD_600": 0.27,
          "carbon": "glucose",
          "clock_time": "16h59m",
          "date": 20180908,
          "elapsed_time_min": 242,
          "idx": 2,
          "operator": "O2",
          "run_number": 2,
          "temperature": 37
         },
         {
          "OD_600": 0.25,
          "carbon": "glucose",
          "clock_time": "17h17m",
          "date": 20180908,
          "elapsed_time_min": 261,
          "idx": 1,
          "operator": "O2",
          "run_number": 1,
          "temperature": 37
         },
         {
          "OD_600": 0.29,
          "carbon": "glucose",
          "clock_time": "17h18m",
          "date": 20180908,
          "elapsed_time_min": 261,
          "idx": 2,
          "operator": "O2",
          "run_number": 2,
          "temperature": 37
         },
         {
          "OD_600": 0.31,
          "carbon": "glucose",
          "clock_time": "17h44m",
          "date": 20180908,
          "elapsed_time_min": 288,
          "idx": 1,
          "operator": "O2",
          "run_number": 1,
          "temperature": 37
         },
         {
          "OD_600": 0.37,
          "carbon": "glucose",
          "clock_time": "17h44m",
          "date": 20180908,
          "elapsed_time_min": 287,
          "idx": 2,
          "operator": "O2",
          "run_number": 2,
          "temperature": 37
         },
         {
          "OD_600": 0.38,
          "carbon": "glucose",
          "clock_time": "18h11m",
          "date": 20180908,
          "elapsed_time_min": 315,
          "idx": 1,
          "operator": "O2",
          "run_number": 1,
          "temperature": 37
         },
         {
          "OD_600": 0.44,
          "carbon": "glucose",
          "clock_time": "18h11m",
          "date": 20180908,
          "elapsed_time_min": 314,
          "idx": 2,
          "operator": "O2",
          "run_number": 2,
          "temperature": 37
         },
         {
          "OD_600": 0.42,
          "carbon": "glucose",
          "clock_time": "18h27m",
          "date": 20180908,
          "elapsed_time_min": 331,
          "idx": 1,
          "operator": "O2",
          "run_number": 1,
          "temperature": 37
         },
         {
          "OD_600": 0.5,
          "carbon": "glucose",
          "clock_time": "18h28m",
          "date": 20180908,
          "elapsed_time_min": 331,
          "idx": 2,
          "operator": "O2",
          "run_number": 2,
          "temperature": 37
         },
         {
          "OD_600": 0.47,
          "carbon": "glucose",
          "clock_time": "18h41m",
          "date": 20180908,
          "elapsed_time_min": 345,
          "idx": 1,
          "operator": "O2",
          "run_number": 1,
          "temperature": 37
         },
         {
          "OD_600": 0.53,
          "carbon": "glucose",
          "clock_time": "18h41m",
          "date": 20180908,
          "elapsed_time_min": 344,
          "idx": 2,
          "operator": "O2",
          "run_number": 2,
          "temperature": 37
         },
         {
          "OD_600": 0.13,
          "carbon": "glucose",
          "clock_time": "09h26m",
          "date": 20180912,
          "elapsed_time_min": 31,
          "idx": 5,
          "operator": "O2",
          "run_number": 1,
          "temperature": 37
         },
         {
          "OD_600": 0.13,
          "carbon": "glucose",
          "clock_time": "09h26m",
          "date": 20180912,
          "elapsed_time_min": 31,
          "idx": 5,
          "operator": "O2",
          "run_number": 1,
          "temperature": 37
         },
         {
          "OD_600": 0.13,
          "carbon": "glucose",
          "clock_time": "09h26m",
          "date": 20180912,
          "elapsed_time_min": 31,
          "idx": 5,
          "operator": "O2",
          "run_number": 1,
          "temperature": 37
         },
         {
          "OD_600": 0.16,
          "carbon": "glucose",
          "clock_time": "09h54m",
          "date": 20180912,
          "elapsed_time_min": 59,
          "idx": 5,
          "operator": "O2",
          "run_number": 1,
          "temperature": 37
         },
         {
          "OD_600": 0.17,
          "carbon": "glucose",
          "clock_time": "09h54m",
          "date": 20180912,
          "elapsed_time_min": 59,
          "idx": 5,
          "operator": "O2",
          "run_number": 1,
          "temperature": 37
         },
         {
          "OD_600": 0.17,
          "carbon": "glucose",
          "clock_time": "09h54m",
          "date": 20180912,
          "elapsed_time_min": 59,
          "idx": 5,
          "operator": "O2",
          "run_number": 1,
          "temperature": 37
         },
         {
          "OD_600": 0.2,
          "carbon": "glucose",
          "clock_time": "10h23m",
          "date": 20180912,
          "elapsed_time_min": 88,
          "idx": 5,
          "operator": "O2",
          "run_number": 1,
          "temperature": 37
         },
         {
          "OD_600": 0.2,
          "carbon": "glucose",
          "clock_time": "10h23m",
          "date": 20180912,
          "elapsed_time_min": 88,
          "idx": 5,
          "operator": "O2",
          "run_number": 1,
          "temperature": 37
         },
         {
          "OD_600": 0.21,
          "carbon": "glucose",
          "clock_time": "10h23m",
          "date": 20180912,
          "elapsed_time_min": 88,
          "idx": 5,
          "operator": "O2",
          "run_number": 1,
          "temperature": 37
         },
         {
          "OD_600": 0.23,
          "carbon": "glucose",
          "clock_time": "10h53m",
          "date": 20180912,
          "elapsed_time_min": 118,
          "idx": 5,
          "operator": "O2",
          "run_number": 1,
          "temperature": 37
         },
         {
          "OD_600": 0.25,
          "carbon": "glucose",
          "clock_time": "10h53m",
          "date": 20180912,
          "elapsed_time_min": 118,
          "idx": 5,
          "operator": "O2",
          "run_number": 1,
          "temperature": 37
         },
         {
          "OD_600": 0.26,
          "carbon": "glucose",
          "clock_time": "10h53m",
          "date": 20180912,
          "elapsed_time_min": 118,
          "idx": 5,
          "operator": "O2",
          "run_number": 1,
          "temperature": 37
         },
         {
          "OD_600": 0.34,
          "carbon": "glucose",
          "clock_time": "11h22m",
          "date": 20180912,
          "elapsed_time_min": 147,
          "idx": 5,
          "operator": "O2",
          "run_number": 1,
          "temperature": 37
         },
         {
          "OD_600": 0.34,
          "carbon": "glucose",
          "clock_time": "11h22m",
          "date": 20180912,
          "elapsed_time_min": 147,
          "idx": 5,
          "operator": "O2",
          "run_number": 1,
          "temperature": 37
         },
         {
          "OD_600": 0.35,
          "carbon": "glucose",
          "clock_time": "11h22m",
          "date": 20180912,
          "elapsed_time_min": 147,
          "idx": 5,
          "operator": "O2",
          "run_number": 1,
          "temperature": 37
         },
         {
          "OD_600": 0.42,
          "carbon": "glucose",
          "clock_time": "11h53m",
          "date": 20180912,
          "elapsed_time_min": 178,
          "idx": 5,
          "operator": "O2",
          "run_number": 1,
          "temperature": 37
         },
         {
          "OD_600": 0.45,
          "carbon": "glucose",
          "clock_time": "11h53m",
          "date": 20180912,
          "elapsed_time_min": 178,
          "idx": 5,
          "operator": "O2",
          "run_number": 1,
          "temperature": 37
         },
         {
          "OD_600": 0.45,
          "carbon": "glucose",
          "clock_time": "11h53m",
          "date": 20180912,
          "elapsed_time_min": 178,
          "idx": 5,
          "operator": "O2",
          "run_number": 1,
          "temperature": 37
         },
         {
          "OD_600": 0.54,
          "carbon": "glucose",
          "clock_time": "12h22m",
          "date": 20180912,
          "elapsed_time_min": 207,
          "idx": 5,
          "operator": "O2",
          "run_number": 1,
          "temperature": 37
         },
         {
          "OD_600": 0.55,
          "carbon": "glucose",
          "clock_time": "12h22m",
          "date": 20180912,
          "elapsed_time_min": 207,
          "idx": 5,
          "operator": "O2",
          "run_number": 1,
          "temperature": 37
         },
         {
          "OD_600": 0.55,
          "carbon": "glucose",
          "clock_time": "12h22m",
          "date": 20180912,
          "elapsed_time_min": 207,
          "idx": 5,
          "operator": "O2",
          "run_number": 1,
          "temperature": 37
         },
         {
          "OD_600": 0.59,
          "carbon": "glucose",
          "clock_time": "12h36m",
          "date": 20180912,
          "elapsed_time_min": 221,
          "idx": 5,
          "operator": "O2",
          "run_number": 1,
          "temperature": 37
         },
         {
          "OD_600": 0.61,
          "carbon": "glucose",
          "clock_time": "12h36m",
          "date": 20180912,
          "elapsed_time_min": 221,
          "idx": 5,
          "operator": "O2",
          "run_number": 1,
          "temperature": 37
         },
         {
          "OD_600": 0.61,
          "carbon": "glucose",
          "clock_time": "12h36m",
          "date": 20180912,
          "elapsed_time_min": 221,
          "idx": 5,
          "operator": "O2",
          "run_number": 1,
          "temperature": 37
         },
         {
          "OD_600": 0.66,
          "carbon": "glucose",
          "clock_time": "12h53m",
          "date": 20180912,
          "elapsed_time_min": 238,
          "idx": 5,
          "operator": "O2",
          "run_number": 1,
          "temperature": 37
         },
         {
          "OD_600": 0.66,
          "carbon": "glucose",
          "clock_time": "12h54m",
          "date": 20180912,
          "elapsed_time_min": 239,
          "idx": 5,
          "operator": "O2",
          "run_number": 1,
          "temperature": 37
         },
         {
          "OD_600": 0.68,
          "carbon": "glucose",
          "clock_time": "12h54m",
          "date": 20180912,
          "elapsed_time_min": 239,
          "idx": 5,
          "operator": "O2",
          "run_number": 1,
          "temperature": 37
         },
         {
          "OD_600": 0.7,
          "carbon": "glucose",
          "clock_time": "13h07m",
          "date": 20180912,
          "elapsed_time_min": 252,
          "idx": 5,
          "operator": "O2",
          "run_number": 1,
          "temperature": 37
         },
         {
          "OD_600": 0.71,
          "carbon": "glucose",
          "clock_time": "13h08m",
          "date": 20180912,
          "elapsed_time_min": 253,
          "idx": 5,
          "operator": "O2",
          "run_number": 1,
          "temperature": 37
         },
         {
          "OD_600": 0.71,
          "carbon": "glucose",
          "clock_time": "13h08m",
          "date": 20180912,
          "elapsed_time_min": 253,
          "idx": 5,
          "operator": "O2",
          "run_number": 1,
          "temperature": 37
         },
         {
          "OD_600": 0.79,
          "carbon": "glucose",
          "clock_time": "13h22m",
          "date": 20180912,
          "elapsed_time_min": 267,
          "idx": 5,
          "operator": "O2",
          "run_number": 1,
          "temperature": 37
         },
         {
          "OD_600": 0.79,
          "carbon": "glucose",
          "clock_time": "13h23m",
          "date": 20180912,
          "elapsed_time_min": 268,
          "idx": 5,
          "operator": "O2",
          "run_number": 1,
          "temperature": 37
         },
         {
          "OD_600": 0.81,
          "carbon": "glucose",
          "clock_time": "13h23m",
          "date": 20180912,
          "elapsed_time_min": 268,
          "idx": 5,
          "operator": "O2",
          "run_number": 1,
          "temperature": 37
         },
         {
          "OD_600": 0.86,
          "carbon": "glucose",
          "clock_time": "13h38m",
          "date": 20180912,
          "elapsed_time_min": 283,
          "idx": 5,
          "operator": "O2",
          "run_number": 1,
          "temperature": 37
         },
         {
          "OD_600": 0.84,
          "carbon": "glucose",
          "clock_time": "13h38m",
          "date": 20180912,
          "elapsed_time_min": 283,
          "idx": 5,
          "operator": "O2",
          "run_number": 1,
          "temperature": 37
         },
         {
          "OD_600": 0.84,
          "carbon": "glucose",
          "clock_time": "13h39m",
          "date": 20180912,
          "elapsed_time_min": 284,
          "idx": 5,
          "operator": "O2",
          "run_number": 1,
          "temperature": 37
         },
         {
          "OD_600": 0.15,
          "carbon": "glucose",
          "clock_time": "10h11m",
          "date": 20180911,
          "elapsed_time_min": 81,
          "idx": 4,
          "operator": "O2",
          "run_number": 2,
          "temperature": 37
         },
         {
          "OD_600": 0.16,
          "carbon": "glucose",
          "clock_time": "10h11m",
          "date": 20180911,
          "elapsed_time_min": 81,
          "idx": 4,
          "operator": "O2",
          "run_number": 2,
          "temperature": 37
         },
         {
          "OD_600": 0.17,
          "carbon": "glucose",
          "clock_time": "10h11m",
          "date": 20180911,
          "elapsed_time_min": 81,
          "idx": 4,
          "operator": "O2",
          "run_number": 2,
          "temperature": 37
         },
         {
          "OD_600": 0.18,
          "carbon": "glucose",
          "clock_time": "10h41m",
          "date": 20180911,
          "elapsed_time_min": 111,
          "idx": 4,
          "operator": "O2",
          "run_number": 2,
          "temperature": 37
         },
         {
          "OD_600": 0.19,
          "carbon": "glucose",
          "clock_time": "10h41m",
          "date": 20180911,
          "elapsed_time_min": 111,
          "idx": 4,
          "operator": "O2",
          "run_number": 2,
          "temperature": 37
         },
         {
          "OD_600": 0.19,
          "carbon": "glucose",
          "clock_time": "10h41m",
          "date": 20180911,
          "elapsed_time_min": 111,
          "idx": 4,
          "operator": "O2",
          "run_number": 2,
          "temperature": 37
         },
         {
          "OD_600": 0.28,
          "carbon": "glucose",
          "clock_time": "11h11m",
          "date": 20180911,
          "elapsed_time_min": 141,
          "idx": 4,
          "operator": "O2",
          "run_number": 2,
          "temperature": 37
         },
         {
          "OD_600": 0.29,
          "carbon": "glucose",
          "clock_time": "11h11m",
          "date": 20180911,
          "elapsed_time_min": 141,
          "idx": 4,
          "operator": "O2",
          "run_number": 2,
          "temperature": 37
         },
         {
          "OD_600": 0.29,
          "carbon": "glucose",
          "clock_time": "11h11m",
          "date": 20180911,
          "elapsed_time_min": 141,
          "idx": 4,
          "operator": "O2",
          "run_number": 2,
          "temperature": 37
         },
         {
          "OD_600": 0.36,
          "carbon": "glucose",
          "clock_time": "11h40m",
          "date": 20180911,
          "elapsed_time_min": 170,
          "idx": 4,
          "operator": "O2",
          "run_number": 2,
          "temperature": 37
         },
         {
          "OD_600": 0.36,
          "carbon": "glucose",
          "clock_time": "11h40m",
          "date": 20180911,
          "elapsed_time_min": 170,
          "idx": 4,
          "operator": "O2",
          "run_number": 2,
          "temperature": 37
         },
         {
          "OD_600": 0.37,
          "carbon": "glucose",
          "clock_time": "11h40m",
          "date": 20180911,
          "elapsed_time_min": 170,
          "idx": 4,
          "operator": "O2",
          "run_number": 2,
          "temperature": 37
         },
         {
          "OD_600": 0.42,
          "carbon": "glucose",
          "clock_time": "11h56m",
          "date": 20180911,
          "elapsed_time_min": 186,
          "idx": 4,
          "operator": "O2",
          "run_number": 2,
          "temperature": 37
         },
         {
          "OD_600": 0.43,
          "carbon": "glucose",
          "clock_time": "11h56m",
          "date": 20180911,
          "elapsed_time_min": 186,
          "idx": 4,
          "operator": "O2",
          "run_number": 2,
          "temperature": 37
         },
         {
          "OD_600": 0.43,
          "carbon": "glucose",
          "clock_time": "11h56m",
          "date": 20180911,
          "elapsed_time_min": 186,
          "idx": 4,
          "operator": "O2",
          "run_number": 2,
          "temperature": 37
         },
         {
          "OD_600": 0.5,
          "carbon": "glucose",
          "clock_time": "12h12m",
          "date": 20180911,
          "elapsed_time_min": 202,
          "idx": 4,
          "operator": "O2",
          "run_number": 2,
          "temperature": 37
         },
         {
          "OD_600": 0.5,
          "carbon": "glucose",
          "clock_time": "12h12m",
          "date": 20180911,
          "elapsed_time_min": 202,
          "idx": 4,
          "operator": "O2",
          "run_number": 2,
          "temperature": 37
         },
         {
          "OD_600": 0.51,
          "carbon": "glucose",
          "clock_time": "12h12m",
          "date": 20180911,
          "elapsed_time_min": 202,
          "idx": 4,
          "operator": "O2",
          "run_number": 2,
          "temperature": 37
         },
         {
          "OD_600": 0.51,
          "carbon": "glucose",
          "clock_time": "12h25m",
          "date": 20180911,
          "elapsed_time_min": 215,
          "idx": 4,
          "operator": "O2",
          "run_number": 2,
          "temperature": 37
         },
         {
          "OD_600": 0.53,
          "carbon": "glucose",
          "clock_time": "12h25m",
          "date": 20180911,
          "elapsed_time_min": 215,
          "idx": 4,
          "operator": "O2",
          "run_number": 2,
          "temperature": 37
         },
         {
          "OD_600": 0.54,
          "carbon": "glucose",
          "clock_time": "12h25m",
          "date": 20180911,
          "elapsed_time_min": 215,
          "idx": 4,
          "operator": "O2",
          "run_number": 2,
          "temperature": 37
         },
         {
          "OD_600": 0.64,
          "carbon": "glucose",
          "clock_time": "12h44m",
          "date": 20180911,
          "elapsed_time_min": 234,
          "idx": 4,
          "operator": "O2",
          "run_number": 2,
          "temperature": 37
         },
         {
          "OD_600": 0.65,
          "carbon": "glucose",
          "clock_time": "12h44m",
          "date": 20180911,
          "elapsed_time_min": 234,
          "idx": 4,
          "operator": "O2",
          "run_number": 2,
          "temperature": 37
         },
         {
          "OD_600": 0.64,
          "carbon": "glucose",
          "clock_time": "12h45m",
          "date": 20180911,
          "elapsed_time_min": 235,
          "idx": 4,
          "operator": "O2",
          "run_number": 2,
          "temperature": 37
         },
         {
          "OD_600": 0.69,
          "carbon": "glucose",
          "clock_time": "12h56m",
          "date": 20180911,
          "elapsed_time_min": 246,
          "idx": 4,
          "operator": "O2",
          "run_number": 2,
          "temperature": 37
         },
         {
          "OD_600": 0.7,
          "carbon": "glucose",
          "clock_time": "12h56m",
          "date": 20180911,
          "elapsed_time_min": 246,
          "idx": 4,
          "operator": "O2",
          "run_number": 2,
          "temperature": 37
         },
         {
          "OD_600": 0.68,
          "carbon": "glucose",
          "clock_time": "12h57m",
          "date": 20180911,
          "elapsed_time_min": 247,
          "idx": 4,
          "operator": "O2",
          "run_number": 2,
          "temperature": 37
         },
         {
          "OD_600": 0.75,
          "carbon": "glucose",
          "clock_time": "13h11m",
          "date": 20180911,
          "elapsed_time_min": 261,
          "idx": 4,
          "operator": "O2",
          "run_number": 2,
          "temperature": 37
         },
         {
          "OD_600": 0.78,
          "carbon": "glucose",
          "clock_time": "13h11m",
          "date": 20180911,
          "elapsed_time_min": 261,
          "idx": 4,
          "operator": "O2",
          "run_number": 2,
          "temperature": 37
         },
         {
          "OD_600": 0.75,
          "carbon": "glucose",
          "clock_time": "13h11m",
          "date": 20180911,
          "elapsed_time_min": 261,
          "idx": 4,
          "operator": "O2",
          "run_number": 2,
          "temperature": 37
         },
         {
          "OD_600": 0.86,
          "carbon": "glucose",
          "clock_time": "13h27m",
          "date": 20180911,
          "elapsed_time_min": 276,
          "idx": 4,
          "operator": "O2",
          "run_number": 2,
          "temperature": 37
         },
         {
          "OD_600": 0.89,
          "carbon": "glucose",
          "clock_time": "13h27m",
          "date": 20180911,
          "elapsed_time_min": 276,
          "idx": 4,
          "operator": "O2",
          "run_number": 2,
          "temperature": 37
         },
         {
          "OD_600": 0.89,
          "carbon": "glucose",
          "clock_time": "13h27m",
          "date": 20180911,
          "elapsed_time_min": 276,
          "idx": 4,
          "operator": "O2",
          "run_number": 2,
          "temperature": 37
         }
        ]
       },
       "encoding": {
        "color": {
         "field": "idx",
         "type": "nominal"
        },
        "x": {
         "axis": {
          "title": "time [min]"
         },
         "field": "elapsed_time_min",
         "type": "quantitative"
        },
        "y": {
         "axis": {
          "title": "optical density at 600nm"
         },
         "field": "OD_600",
         "scale": {
          "type": "log"
         },
         "type": "quantitative"
        }
       },
       "height": 400,
       "mark": {
        "filled": true,
        "type": "point"
       },
       "selection": {
        "selector021": {
         "bind": "scales",
         "encodings": [
          "x",
          "y"
         ],
         "mark": {
          "fill": "#333",
          "fillOpacity": 0.125,
          "stroke": "white"
         },
         "on": "[mousedown, window:mouseup] > window:mousemove!",
         "resolve": "global",
         "translate": "[mousedown, window:mouseup] > window:mousemove!",
         "type": "interval",
         "zoom": "wheel!"
        }
       },
       "width": 600
      },
      "image/png": "[encoded data removed]",
      "text/plain": [
       "<VegaLite 2 object>\n",
       "\n",
       "If you see this message, it means the renderer has not been properly enabled\n",
       "for the frontend that you are using. For more information, see\n",
       "https://altair-viz.github.io/user_guide/troubleshooting.html\n"
      ]
     },
     "execution_count": 83,
     "metadata": {},
     "output_type": "execute_result"
    }
   ],
   "source": [
    "# Define the file pattern for growth experiments of interest. \n",
    "growth_files = glob.glob('201809*/*.csv')\n",
    "\n",
    "# Concatenate all into a single data frame. \n",
    "data = pd.concat([pd.read_csv(g) for g in growth_files], sort=False)\n",
    "data = data[(data['OD_600'] > 0.1) & (data['run_number'] != 3)].copy()\n",
    "\n",
    "# Assign identifiers to each unique run. \n",
    "run_id = 1\n",
    "for g, d in data.groupby(['date', 'run_number']):\n",
    "    data.loc[(data['date']==g[0]) & (data['run_number']==g[1]), 'idx'] = run_id\n",
    "    run_id += 1\n",
    "data['idx'] = data['idx'].astype(int)\n",
    "\n",
    "# Plot all of the data together. \n",
    "points = alt.Chart(data, width=600, height=400).mark_point(filled=True).encode(\n",
    "        x=alt.X('elapsed_time_min:Q', axis={'title':'time [min]'}),\n",
    "        y=alt.Y('OD_600:Q', axis={'title':'optical density at 600nm'}, scale={'type':'log'}), \n",
    "        color='idx:N', )\n",
    "points.interactive()"
   ]
  },
  {
   "cell_type": "markdown",
   "metadata": {},
   "source": [
    "It more or less looks like all traces are linear. Using this total pool of data, we can set a hierarchical model. Let there be some Each curve will have it's own growth rate drawn from a distribution for that day, which is drawn from a hyper distribution itself. "
   ]
  },
  {
   "cell_type": "code",
   "execution_count": 62,
   "metadata": {},
   "outputs": [
    {
     "name": "stdout",
     "output_type": "stream",
     "text": [
      "Using pystan.stanc compiler..\n",
      "-------------------------------------------------------------------------------\n",
      "Model compiled successfully. Output stored in growth_model_code object.\n",
      "Type growth_model_code in a cell to see a nicely formatted code output in a notebook\n",
      "     ^^^^^^^^^^^^^^^^^\n",
      "Access model compile output properties\n",
      "growth_model_code.model_file -> Name of stan_file [None]\n",
      "growth_model_code.model_name -> Name of stan model [None]\n",
      "growth_model_code.model_code -> Model code [data {     int<lower ....]\n"
     ]
    }
   ],
   "source": [
    "%%stan -v growth_model_code\n",
    "data {\n",
    "    int<lower=1> J;\n",
    "    int<lower=1> N;\n",
    "    int<lower=1, upper=J> idx[N]; // ID vector \n",
    "    real<lower=0> time_min[N]; \n",
    "    real<lower=0> absorbance[N];\n",
    "}\n",
    "\n",
    "parameters {\n",
    "    // Hyperparameters\n",
    "    real<lower=0> lambda_mu; \n",
    "    real<lower=0> lambda_sig;\n",
    "    \n",
    "    // Low-level parameters\n",
    "    real<lower=0> lam[J]; // Growth rate in 1/min\n",
    "    real<lower=0> A0[J]; // Initial absorbance\n",
    "    real<lower=0> sigma[J]; // Homoscedastic error\n",
    "    \n",
    "}\n",
    "\n",
    "model { \n",
    "    vector[N] mu; \n",
    "   // Prior definition\n",
    "   lambda_mu ~ normal(0, 100);\n",
    "   lambda_sig ~ normal(0, 1); \n",
    "    \n",
    "   lam ~ normal(lambda_mu, lambda_sig);\n",
    "   A0 ~ normal(0, 1);\n",
    "   sigma ~ normal(0, 1); \n",
    "    \n",
    "  // Evaluate the likelihood \n",
    "  for (i in 1:N) {\n",
    "      mu[i] = A0[idx[i]] * exp(time_min[i] / lam[idx[i]]); \n",
    "      absorbance[i] ~ normal(mu[i], sigma[idx[i]]);\n",
    "  }\n",
    "}\n"
   ]
  },
  {
   "cell_type": "code",
   "execution_count": 63,
   "metadata": {},
   "outputs": [
    {
     "name": "stderr",
     "output_type": "stream",
     "text": [
      "INFO:pystan:COMPILING THE C++ CODE FOR MODEL anon_model_ae7815d3090743092354ccc35324b674 NOW.\n"
     ]
    }
   ],
   "source": [
    "growth_model = pystan.StanModel(model_code=growth_model_code.model_code)"
   ]
  },
  {
   "cell_type": "code",
   "execution_count": 84,
   "metadata": {},
   "outputs": [],
   "source": [
    "# Assemble teh data dictionary and sample!\n",
    "data_dict = dict(J=len(data['idx'].unique()), N=len(data), idx=data['idx'],\n",
    "                time_min=data['elapsed_time_min'], absorbance=data['OD_600'])\n",
    "samples = growth_model.sampling(data_dict, iter=5000, chains=3)"
   ]
  },
  {
   "cell_type": "code",
   "execution_count": 85,
   "metadata": {},
   "outputs": [
    {
     "data": {
      "image/png": "[encoded data removed]",
      "text/plain": [
       "<Figure size 432x288 with 10 Axes>"
      ]
     },
     "metadata": {},
     "output_type": "display_data"
    }
   ],
   "source": [
    "%matplotlib inline\n",
    "_ = samples.plot()"
   ]
  },
  {
   "cell_type": "code",
   "execution_count": 86,
   "metadata": {},
   "outputs": [
    {
     "data": {
      "text/plain": [
       "Inference for Stan model: anon_model_ae7815d3090743092354ccc35324b674.\n",
       "3 chains, each with iter=5000; warmup=2500; thin=1; \n",
       "post-warmup draws per chain=2500, total post-warmup draws=7500.\n",
       "\n",
       "             mean se_mean     sd   2.5%    25%    50%    75%  97.5%  n_eff   Rhat\n",
       "lambda_mu  125.41    7.53  28.19   0.33 130.11 131.65 133.13 135.88     14   1.19\n",
       "lambda_sig    3.8    0.79   2.94   1.72   2.72   3.21   3.72  16.41     14   1.18\n",
       "lam[0]     126.58    3.65  14.13  67.84 126.69 129.29 131.97 136.65     15   1.16\n",
       "lam[1]      130.5     3.9  15.09  66.78 131.35 133.56 135.73 139.63     15   1.17\n",
       "lam[2]     129.32    0.41   3.27 121.93 127.46 129.47 131.44 135.16     65   1.04\n",
       "lam[3]     124.23    0.39    3.5 116.92 122.04 124.15 126.46 131.26     79   1.04\n",
       "lam[4]     137.05    0.04    2.8  131.4  135.2 137.04 138.92 142.56   4568    1.0\n",
       "lam[5]     136.22    0.04   2.42 131.49 134.61 136.21 137.85 141.01   3905    1.0\n",
       "A0[0]        0.03  1.7e-3 6.6e-3 3.5e-3   0.03   0.03   0.03   0.04     15   1.16\n",
       "A0[1]        0.04  2.1e-3 8.2e-3 4.0e-3   0.04   0.04   0.04   0.05     15   1.17\n",
       "A0[2]        0.09  5.2e-4 4.3e-3   0.08   0.09   0.09    0.1    0.1     68   1.04\n",
       "A0[3]        0.09  5.7e-4 5.1e-3   0.08   0.09   0.09    0.1    0.1     79   1.04\n",
       "A0[4]        0.11  6.0e-5 4.2e-3    0.1   0.11   0.11   0.12   0.12   4877    1.0\n",
       "A0[5]        0.11  5.6e-5 3.5e-3    0.1   0.11   0.11   0.11   0.12   3866    1.0\n",
       "sigma[0]     0.02  5.0e-3   0.02 6.6e-3 9.7e-3   0.01   0.02   0.09     18   1.14\n",
       "sigma[1]     0.02  7.7e-3   0.03 7.3e-310.0e-3   0.01   0.02   0.12     20   1.12\n",
       "sigma[2]     0.03  4.6e-5 3.5e-3   0.02   0.02   0.03   0.03   0.03   5751    1.0\n",
       "sigma[3]     0.02  6.8e-5 3.6e-3   0.02   0.02   0.02   0.02   0.03   2707    1.0\n",
       "sigma[4]     0.03  4.5e-5 3.6e-3   0.02   0.02   0.03   0.03   0.03   6173    1.0\n",
       "sigma[5]     0.02  3.6e-5 2.9e-3   0.02   0.02   0.02   0.02   0.03   6703    1.0\n",
       "lp__       477.51   17.88  66.89  180.9 490.12 492.89 495.11  498.3     14   1.19\n",
       "\n",
       "Samples were drawn using NUTS at Fri Sep 14 16:47:06 2018.\n",
       "For each parameter, n_eff is a crude measure of effective sample size,\n",
       "and Rhat is the potential scale reduction factor on split chains (at \n",
       "convergence, Rhat=1)."
      ]
     },
     "execution_count": 86,
     "metadata": {},
     "output_type": "execute_result"
    }
   ],
   "source": [
    "samples"
   ]
  },
  {
   "cell_type": "code",
   "execution_count": null,
   "metadata": {},
   "outputs": [],
   "source": []
  }
 ],
 "metadata": {
  "kernelspec": {
   "display_name": "Python 3",
   "language": "python",
   "name": "python3"
  },
  "language_info": {
   "codemirror_mode": {
    "name": "ipython",
    "version": 3
   },
   "file_extension": ".py",
   "mimetype": "text/x-python",
   "name": "python",
   "nbconvert_exporter": "python",
   "pygments_lexer": "ipython3",
   "version": "3.6.6"
  }
 },
 "nbformat": 4,
 "nbformat_minor": 2
}
