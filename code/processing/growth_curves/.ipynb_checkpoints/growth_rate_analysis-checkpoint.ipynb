{
 "cells": [
  {
   "cell_type": "markdown",
   "metadata": {},
   "source": [
    "# Bayesian Parameter Estimation for Growth Rates"
   ]
  },
  {
   "cell_type": "code",
   "execution_count": 1,
   "metadata": {},
   "outputs": [],
   "source": [
    "import sys\n",
    "import numpy as np\n",
    "import pandas as pd\n",
    "import glob\n",
    "import pystan\n",
    "import altair as alt\n",
    "sys.path.insert(0, '../../../')\n",
    "import mwc.viz\n",
    "%load_ext stanmagic"
   ]
  },
  {
   "cell_type": "code",
   "execution_count": 23,
   "metadata": {},
   "outputs": [
    {
     "name": "stderr",
     "output_type": "stream",
     "text": [
      "/anaconda3/lib/python3.6/site-packages/ipykernel_launcher.py:17: SettingWithCopyWarning: \n",
      "A value is trying to be set on a copy of a slice from a DataFrame.\n",
      "Try using .loc[row_indexer,col_indexer] = value instead\n",
      "\n",
      "See the caveats in the documentation: http://pandas.pydata.org/pandas-docs/stable/indexing.html#indexing-view-versus-copy\n"
     ]
    },
    {
     "data": {
      "application/vnd.vegalite.v2+json": {
       "$schema": "https://vega.github.io/schema/vega-lite/v2.6.0.json",
       "config": {
        "view": {
         "height": 300,
         "width": 400
        }
       },
       "data": {
        "name": "data-b10858539820e9dc9e783b8dd851f84d"
       },
       "datasets": {
        "data-b10858539820e9dc9e783b8dd851f84d": [
         {
          "OD_600": 0.17,
          "date": 20180911,
          "elapsed_time_min": 0,
          "idx": 1,
          "run_number": 1.5,
          "temperature": 37
         },
         {
          "OD_600": 0.18166666666666664,
          "date": 20180911,
          "elapsed_time_min": 30,
          "idx": 1,
          "run_number": 1.5,
          "temperature": 37
         },
         {
          "OD_600": 0.2333333333333333,
          "date": 20180911,
          "elapsed_time_min": 59,
          "idx": 1,
          "run_number": 1,
          "temperature": 37
         },
         {
          "OD_600": 0.2866666666666667,
          "date": 20180911,
          "elapsed_time_min": 60,
          "idx": 1,
          "run_number": 2,
          "temperature": 37
         },
         {
          "OD_600": 0.34,
          "date": 20180911,
          "elapsed_time_min": 88,
          "idx": 1,
          "run_number": 1,
          "temperature": 37
         },
         {
          "OD_600": 0.3633333333333333,
          "date": 20180911,
          "elapsed_time_min": 89,
          "idx": 1,
          "run_number": 2,
          "temperature": 37
         },
         {
          "OD_600": 0.41,
          "date": 20180911,
          "elapsed_time_min": 104,
          "idx": 1,
          "run_number": 1,
          "temperature": 37
         },
         {
          "OD_600": 0.42400000000000004,
          "date": 20180911,
          "elapsed_time_min": 105,
          "idx": 1,
          "run_number": 1.6,
          "temperature": 37
         },
         {
          "OD_600": 0.4833333333333334,
          "date": 20180911,
          "elapsed_time_min": 121,
          "idx": 1,
          "run_number": 1.5,
          "temperature": 37
         },
         {
          "OD_600": 0.5033333333333333,
          "date": 20180911,
          "elapsed_time_min": 133,
          "idx": 1,
          "run_number": 1,
          "temperature": 37
         },
         {
          "OD_600": 0.5266666666666667,
          "date": 20180911,
          "elapsed_time_min": 134,
          "idx": 1,
          "run_number": 2,
          "temperature": 37
         },
         {
          "OD_600": 0.595,
          "date": 20180911,
          "elapsed_time_min": 153,
          "idx": 1,
          "run_number": 1.5,
          "temperature": 37
         },
         {
          "OD_600": 0.615,
          "date": 20180911,
          "elapsed_time_min": 154,
          "idx": 1,
          "run_number": 1.5,
          "temperature": 37
         },
         {
          "OD_600": 0.63,
          "date": 20180911,
          "elapsed_time_min": 164,
          "idx": 1,
          "run_number": 1,
          "temperature": 37
         },
         {
          "OD_600": 0.6675,
          "date": 20180911,
          "elapsed_time_min": 165,
          "idx": 1,
          "run_number": 1.5,
          "temperature": 37
         },
         {
          "OD_600": 0.68,
          "date": 20180911,
          "elapsed_time_min": 166,
          "idx": 1,
          "run_number": 2,
          "temperature": 37
         },
         {
          "OD_600": 0.7283333333333334,
          "date": 20180911,
          "elapsed_time_min": 180,
          "idx": 1,
          "run_number": 1.5,
          "temperature": 37
         },
         {
          "OD_600": 0.76,
          "date": 20180911,
          "elapsed_time_min": 194,
          "idx": 1,
          "run_number": 1,
          "temperature": 37
         },
         {
          "OD_600": 0.8380000000000001,
          "date": 20180911,
          "elapsed_time_min": 195,
          "idx": 1,
          "run_number": 1.6,
          "temperature": 37
         },
         {
          "OD_600": 0.13,
          "date": 20180912,
          "elapsed_time_min": 0,
          "idx": 2,
          "run_number": 1,
          "temperature": 37
         },
         {
          "OD_600": 0.135,
          "date": 20180912,
          "elapsed_time_min": 1,
          "idx": 2,
          "run_number": 2,
          "temperature": 37
         },
         {
          "OD_600": 0.16,
          "date": 20180912,
          "elapsed_time_min": 28,
          "idx": 2,
          "run_number": 1.5,
          "temperature": 37
         },
         {
          "OD_600": 0.205,
          "date": 20180912,
          "elapsed_time_min": 57,
          "idx": 2,
          "run_number": 1.5,
          "temperature": 37
         },
         {
          "OD_600": 0.2425,
          "date": 20180912,
          "elapsed_time_min": 87,
          "idx": 2,
          "run_number": 1.25,
          "temperature": 37
         },
         {
          "OD_600": 0.245,
          "date": 20180912,
          "elapsed_time_min": 88,
          "idx": 2,
          "run_number": 2,
          "temperature": 37
         },
         {
          "OD_600": 0.3433333333333333,
          "date": 20180912,
          "elapsed_time_min": 116,
          "idx": 2,
          "run_number": 1,
          "temperature": 37
         },
         {
          "OD_600": 0.3233333333333333,
          "date": 20180912,
          "elapsed_time_min": 117,
          "idx": 2,
          "run_number": 2,
          "temperature": 37
         },
         {
          "OD_600": 0.43,
          "date": 20180912,
          "elapsed_time_min": 147,
          "idx": 2,
          "run_number": 1.25,
          "temperature": 37
         },
         {
          "OD_600": 0.41,
          "date": 20180912,
          "elapsed_time_min": 148,
          "idx": 2,
          "run_number": 2,
          "temperature": 37
         },
         {
          "OD_600": 0.535,
          "date": 20180912,
          "elapsed_time_min": 176,
          "idx": 2,
          "run_number": 1.5,
          "temperature": 37
         },
         {
          "OD_600": 0.6033333333333334,
          "date": 20180912,
          "elapsed_time_min": 190,
          "idx": 2,
          "run_number": 1,
          "temperature": 37
         },
         {
          "OD_600": 0.5833333333333334,
          "date": 20180912,
          "elapsed_time_min": 191,
          "idx": 2,
          "run_number": 2,
          "temperature": 37
         },
         {
          "OD_600": 0.66,
          "date": 20180912,
          "elapsed_time_min": 207,
          "idx": 2,
          "run_number": 1,
          "temperature": 37
         },
         {
          "OD_600": 0.65,
          "date": 20180912,
          "elapsed_time_min": 208,
          "idx": 2,
          "run_number": 1.5,
          "temperature": 37
         },
         {
          "OD_600": 0.67,
          "date": 20180912,
          "elapsed_time_min": 209,
          "idx": 2,
          "run_number": 2,
          "temperature": 37
         },
         {
          "OD_600": 0.705,
          "date": 20180912,
          "elapsed_time_min": 221,
          "idx": 2,
          "run_number": 1.5,
          "temperature": 37
         },
         {
          "OD_600": 0.7124999999999999,
          "date": 20180912,
          "elapsed_time_min": 222,
          "idx": 2,
          "run_number": 1.5,
          "temperature": 37
         },
         {
          "OD_600": 0.79,
          "date": 20180912,
          "elapsed_time_min": 236,
          "idx": 2,
          "run_number": 1,
          "temperature": 37
         },
         {
          "OD_600": 0.776,
          "date": 20180912,
          "elapsed_time_min": 237,
          "idx": 2,
          "run_number": 1.6,
          "temperature": 37
         },
         {
          "OD_600": 0.84,
          "date": 20180912,
          "elapsed_time_min": 252,
          "idx": 2,
          "run_number": 1.5,
          "temperature": 37
         },
         {
          "OD_600": 0.835,
          "date": 20180912,
          "elapsed_time_min": 253,
          "idx": 2,
          "run_number": 1.5,
          "temperature": 37
         },
         {
          "OD_600": 0.12333333333333334,
          "date": 20180913,
          "elapsed_time_min": 0,
          "idx": 3,
          "run_number": 2,
          "temperature": 37
         },
         {
          "OD_600": 0.16166666666666668,
          "date": 20180913,
          "elapsed_time_min": 29,
          "idx": 3,
          "run_number": 1.5,
          "temperature": 37
         },
         {
          "OD_600": 0.205,
          "date": 20180913,
          "elapsed_time_min": 59,
          "idx": 3,
          "run_number": 1.5,
          "temperature": 37
         },
         {
          "OD_600": 0.2783333333333333,
          "date": 20180913,
          "elapsed_time_min": 90,
          "idx": 3,
          "run_number": 1.5,
          "temperature": 37
         },
         {
          "OD_600": 0.332,
          "date": 20180913,
          "elapsed_time_min": 120,
          "idx": 3,
          "run_number": 1.4,
          "temperature": 37
         },
         {
          "OD_600": 0.43,
          "date": 20180913,
          "elapsed_time_min": 121,
          "idx": 3,
          "run_number": 2,
          "temperature": 37
         },
         {
          "OD_600": 0.31,
          "date": 20180913,
          "elapsed_time_min": 136,
          "idx": 3,
          "run_number": 1,
          "temperature": 37
         },
         {
          "OD_600": 0.47,
          "date": 20180913,
          "elapsed_time_min": 137,
          "idx": 3,
          "run_number": 2,
          "temperature": 37
         },
         {
          "OD_600": 0.33,
          "date": 20180913,
          "elapsed_time_min": 150,
          "idx": 3,
          "run_number": 1,
          "temperature": 37
         },
         {
          "OD_600": 0.54,
          "date": 20180913,
          "elapsed_time_min": 151,
          "idx": 3,
          "run_number": 2,
          "temperature": 37
         },
         {
          "OD_600": 0.35666666666666663,
          "date": 20180913,
          "elapsed_time_min": 165,
          "idx": 3,
          "run_number": 1,
          "temperature": 37
         },
         {
          "OD_600": 0.5733333333333333,
          "date": 20180913,
          "elapsed_time_min": 166,
          "idx": 3,
          "run_number": 2,
          "temperature": 37
         },
         {
          "OD_600": 0.47,
          "date": 20180913,
          "elapsed_time_min": 180,
          "idx": 3,
          "run_number": 1.25,
          "temperature": 37
         },
         {
          "OD_600": 0.615,
          "date": 20180913,
          "elapsed_time_min": 181,
          "idx": 3,
          "run_number": 2,
          "temperature": 37
         },
         {
          "OD_600": 0.5483333333333333,
          "date": 20180913,
          "elapsed_time_min": 195,
          "idx": 3,
          "run_number": 1.5,
          "temperature": 37
         },
         {
          "OD_600": 0.45999999999999996,
          "date": 20180913,
          "elapsed_time_min": 210,
          "idx": 3,
          "run_number": 1,
          "temperature": 37
         },
         {
          "OD_600": 0.69,
          "date": 20180913,
          "elapsed_time_min": 211,
          "idx": 3,
          "run_number": 2,
          "temperature": 37
         },
         {
          "OD_600": 0.6383333333333333,
          "date": 20180913,
          "elapsed_time_min": 225,
          "idx": 3,
          "run_number": 1.5,
          "temperature": 37
         },
         {
          "OD_600": 0.6275,
          "date": 20180913,
          "elapsed_time_min": 240,
          "idx": 3,
          "run_number": 1.25,
          "temperature": 37
         },
         {
          "OD_600": 0.815,
          "date": 20180913,
          "elapsed_time_min": 241,
          "idx": 3,
          "run_number": 2,
          "temperature": 37
         },
         {
          "OD_600": 0.63,
          "date": 20180913,
          "elapsed_time_min": 256,
          "idx": 3,
          "run_number": 1,
          "temperature": 37
         },
         {
          "OD_600": 0.8066666666666666,
          "date": 20180913,
          "elapsed_time_min": 257,
          "idx": 3,
          "run_number": 1.6666666666666667,
          "temperature": 37
         },
         {
          "OD_600": 0.9,
          "date": 20180913,
          "elapsed_time_min": 258,
          "idx": 3,
          "run_number": 2,
          "temperature": 37
         },
         {
          "OD_600": 0.81,
          "date": 20180913,
          "elapsed_time_min": 270,
          "idx": 3,
          "run_number": 1.5,
          "temperature": 37
         },
         {
          "OD_600": 0.825,
          "date": 20180913,
          "elapsed_time_min": 271,
          "idx": 3,
          "run_number": 1.5,
          "temperature": 37
         },
         {
          "OD_600": 0.825,
          "date": 20180913,
          "elapsed_time_min": 272,
          "idx": 3,
          "run_number": 1.5,
          "temperature": 37
         },
         {
          "OD_600": 0.1366666666666667,
          "date": 20180917,
          "elapsed_time_min": 0,
          "idx": 4,
          "run_number": 1.5,
          "temperature": 37
         },
         {
          "OD_600": 0.19333333333333333,
          "date": 20180917,
          "elapsed_time_min": 31,
          "idx": 4,
          "run_number": 1.5,
          "temperature": 37
         },
         {
          "OD_600": 0.26333333333333336,
          "date": 20180917,
          "elapsed_time_min": 61,
          "idx": 4,
          "run_number": 1.5,
          "temperature": 37
         },
         {
          "OD_600": 0.34,
          "date": 20180917,
          "elapsed_time_min": 91,
          "idx": 4,
          "run_number": 1,
          "temperature": 37
         },
         {
          "OD_600": 0.39999999999999997,
          "date": 20180917,
          "elapsed_time_min": 92,
          "idx": 4,
          "run_number": 2,
          "temperature": 37
         },
         {
          "OD_600": 0.3833333333333333,
          "date": 20180917,
          "elapsed_time_min": 106,
          "idx": 4,
          "run_number": 1,
          "temperature": 37
         },
         {
          "OD_600": 0.44333333333333336,
          "date": 20180917,
          "elapsed_time_min": 107,
          "idx": 4,
          "run_number": 2,
          "temperature": 37
         },
         {
          "OD_600": 0.42,
          "date": 20180917,
          "elapsed_time_min": 126,
          "idx": 4,
          "run_number": 1,
          "temperature": 37
         },
         {
          "OD_600": 0.49,
          "date": 20180917,
          "elapsed_time_min": 127,
          "idx": 4,
          "run_number": 2,
          "temperature": 37
         },
         {
          "OD_600": 0.51,
          "date": 20180917,
          "elapsed_time_min": 148,
          "idx": 4,
          "run_number": 1,
          "temperature": 37
         },
         {
          "OD_600": 0.57,
          "date": 20180917,
          "elapsed_time_min": 149,
          "idx": 4,
          "run_number": 2,
          "temperature": 37
         },
         {
          "OD_600": 0.6116666666666667,
          "date": 20180917,
          "elapsed_time_min": 165,
          "idx": 4,
          "run_number": 1.5,
          "temperature": 37
         },
         {
          "OD_600": 0.6416666666666666,
          "date": 20180917,
          "elapsed_time_min": 182,
          "idx": 4,
          "run_number": 1.5,
          "temperature": 37
         },
         {
          "OD_600": 0.6875,
          "date": 20180917,
          "elapsed_time_min": 196,
          "idx": 4,
          "run_number": 1.25,
          "temperature": 37
         },
         {
          "OD_600": 0.74,
          "date": 20180917,
          "elapsed_time_min": 197,
          "idx": 4,
          "run_number": 2,
          "temperature": 37
         },
         {
          "OD_600": 0.745,
          "date": 20180917,
          "elapsed_time_min": 211,
          "idx": 4,
          "run_number": 1.5,
          "temperature": 37
         },
         {
          "OD_600": 0.7399999999999999,
          "date": 20180917,
          "elapsed_time_min": 216,
          "idx": 4,
          "run_number": 1,
          "temperature": 37
         },
         {
          "OD_600": 0.8166666666666665,
          "date": 20180917,
          "elapsed_time_min": 217,
          "idx": 4,
          "run_number": 2,
          "temperature": 37
         },
         {
          "OD_600": 0.8233333333333334,
          "date": 20180917,
          "elapsed_time_min": 232,
          "idx": 4,
          "run_number": 1.5,
          "temperature": 37
         }
        ]
       },
       "encoding": {
        "color": {
         "field": "idx",
         "type": "nominal"
        },
        "x": {
         "axis": {
          "title": "time [min]"
         },
         "field": "elapsed_time_min",
         "type": "quantitative"
        },
        "y": {
         "axis": {
          "title": "optical density at 600nm"
         },
         "field": "OD_600",
         "type": "quantitative"
        }
       },
       "height": 400,
       "mark": {
        "filled": true,
        "type": "point"
       },
       "selection": {
        "selector008": {
         "bind": "scales",
         "encodings": [
          "x",
          "y"
         ],
         "mark": {
          "fill": "#333",
          "fillOpacity": 0.125,
          "stroke": "white"
         },
         "on": "[mousedown, window:mouseup] > window:mousemove!",
         "resolve": "global",
         "translate": "[mousedown, window:mouseup] > window:mousemove!",
         "type": "interval",
         "zoom": "wheel!"
        }
       },
       "width": 600
      },
      "image/png": "[encoded data removed]",
      "text/plain": [
       "<VegaLite 2 object>\n",
       "\n",
       "If you see this message, it means the renderer has not been properly enabled\n",
       "for the frontend that you are using. For more information, see\n",
       "https://altair-viz.github.io/user_guide/troubleshooting.html\n"
      ]
     },
     "execution_count": 23,
     "metadata": {},
     "output_type": "execute_result"
    }
   ],
   "source": [
    "# Define the file pattern for growth experiments of interest. \n",
    "growth_files = glob.glob('201809*/*.csv')\n",
    "\n",
    "# Concatenate all into a single data frame. \n",
    "data = pd.concat([pd.read_csv(g) for g in growth_files], sort=False)\n",
    "data = data[(data['OD_600'] > 0.1) & (data['run_number'] != 3) & (data['date'] != 20180908)].copy()\n",
    "\n",
    "\n",
    "# Assign identifiers to each unique run. \n",
    "run_id = 1\n",
    "for g, d in data.groupby(['date']):\n",
    "    data.loc[(data['date']==g),  'idx'] = run_id\n",
    "    run_id += 1\n",
    "data = pd.DataFrame(data.groupby(['date', 'elapsed_time_min']).mean()).reset_index()\n",
    "dfs = []\n",
    "for g, d in data.groupby(['date']):\n",
    "    d['elapsed_time_min'] = d['elapsed_time_min'].values - d.iloc[0]['elapsed_time_min']\n",
    "    dfs.append(d)\n",
    "data = pd.concat(dfs, sort=False)\n",
    "data['idx'] = data['idx'].astype(int)\n",
    "\n",
    "\n",
    "\n",
    "\n",
    "# Plot all of the data together. \n",
    "points = alt.Chart(data, width=600, height=400).mark_point(filled=True).encode(\n",
    "        x=alt.X('elapsed_time_min:Q', axis={'title':'time [min]'}),\n",
    "        y=alt.Y('OD_600:Q', axis={'title':'optical density at 600nm'}), \n",
    "        color='idx:N', )\n",
    "points.interactive()"
   ]
  },
  {
   "cell_type": "markdown",
   "metadata": {},
   "source": [
    "It more or less looks like all traces are linear. Using this total pool of data, we can set a hierarchical model. Let there be some Each curve will have it's own growth rate drawn from a distribution for that day, which is drawn from a hyper distribution itself. "
   ]
  },
  {
   "cell_type": "code",
   "execution_count": 3,
   "metadata": {},
   "outputs": [
    {
     "name": "stdout",
     "output_type": "stream",
     "text": [
      "Using pystan.stanc compiler..\n",
      "-------------------------------------------------------------------------------\n",
      "Model compiled successfully. Output stored in growth_model_code object.\n",
      "Type growth_model_code in a cell to see a nicely formatted code output in a notebook\n",
      "     ^^^^^^^^^^^^^^^^^\n",
      "Access model compile output properties\n",
      "growth_model_code.model_file -> Name of stan_file [None]\n",
      "growth_model_code.model_name -> Name of stan model [None]\n",
      "growth_model_code.model_code -> Model code [data {     int<lower ....]\n"
     ]
    }
   ],
   "source": [
    "%%stan -v growth_model_code\n",
    "data {\n",
    "    int<lower=1> J;\n",
    "    int<lower=1> N;\n",
    "    int<lower=1, upper=J> idx[N]; // ID vector \n",
    "    real<lower=0> time_min[N]; \n",
    "    real<lower=0> absorbance[N];\n",
    "}\n",
    "\n",
    "parameters {\n",
    "    // Hyperparameters\n",
    "    real<lower=0> lambda_mu; \n",
    "    real<lower=0> lambda_sig;\n",
    "    \n",
    "    // Low-level parameters\n",
    "    real<lower=0> lam[J]; // Growth rate in 1/min\n",
    "    real<lower=0> A0[J]; // Initial absorbance\n",
    "    real<lower=0> sigma[J]; // Homoscedastic error\n",
    "    \n",
    "}\n",
    "\n",
    "model { \n",
    "    vector[N] mu; \n",
    "   // Prior definition\n",
    "   lambda_mu ~ normal(0, 100);\n",
    "   lambda_sig ~ normal(0, 1); \n",
    "    \n",
    "   lam ~ normal(lambda_mu, lambda_sig);\n",
    "   A0 ~ normal(0, 1);\n",
    "   sigma ~ normal(0, 1); \n",
    "    \n",
    "  // Evaluate the likelihood \n",
    "  for (i in 1:N) {\n",
    "      mu[i] = A0[idx[i]] * exp(time_min[i] / lam[idx[i]]); \n",
    "      absorbance[i] ~ normal(mu[i], sigma[idx[i]]);\n",
    "  }\n",
    "}\n"
   ]
  },
  {
   "cell_type": "code",
   "execution_count": 4,
   "metadata": {},
   "outputs": [
    {
     "name": "stderr",
     "output_type": "stream",
     "text": [
      "INFO:pystan:COMPILING THE C++ CODE FOR MODEL anon_model_ae7815d3090743092354ccc35324b674 NOW.\n"
     ]
    }
   ],
   "source": [
    "growth_model = pystan.StanModel(model_code=growth_model_code.model_code)"
   ]
  },
  {
   "cell_type": "code",
   "execution_count": 28,
   "metadata": {},
   "outputs": [],
   "source": [
    "# Assemble teh data dictionary and sample!\n",
    "data_dict = dict(J=len(data['idx'].unique()), N=len(data), idx=data['idx'],\n",
    "                time_min=data['elapsed_time_min'], absorbance=data['OD_600'])\n",
    "samples = growth_model.sampling(data_dict, iter=8000, chains=4)"
   ]
  },
  {
   "cell_type": "code",
   "execution_count": 29,
   "metadata": {},
   "outputs": [
    {
     "data": {
      "image/png": "[encoded data removed]",
      "text/plain": [
       "<Figure size 432x288 with 10 Axes>"
      ]
     },
     "metadata": {},
     "output_type": "display_data"
    }
   ],
   "source": [
    "%matplotlib inline\n",
    "_ = samples.plot()"
   ]
  },
  {
   "cell_type": "code",
   "execution_count": 27,
   "metadata": {},
   "outputs": [
    {
     "data": {
      "text/plain": [
       "Inference for Stan model: anon_model_ae7815d3090743092354ccc35324b674.\n",
       "2 chains, each with iter=5000; warmup=2500; thin=1; \n",
       "post-warmup draws per chain=2500, total post-warmup draws=5000.\n",
       "\n",
       "             mean se_mean     sd   2.5%    25%    50%    75%  97.5%  n_eff   Rhat\n",
       "lambda_mu  142.34    0.13   3.42 135.78 140.23 141.97 144.38 149.94    645   1.01\n",
       "lambda_sig    0.9    0.18   0.63   0.22   0.36   0.76    1.3   2.39     12   1.18\n",
       "lam[0]      141.9    0.11   3.58 134.92 139.86 141.75 143.87 149.93   1053   1.01\n",
       "lam[1]     142.28    0.13   3.32 135.88 140.18 141.97 144.21 149.71    654   1.01\n",
       "lam[2]     142.54    0.14    3.6 135.59 140.34 142.08 144.67 150.37    620   1.01\n",
       "lam[3]     142.64    0.15    3.6 135.82 140.35 142.16 144.82 150.64    557   1.02\n",
       "A0[0]         0.2  2.1e-4 6.0e-3   0.19    0.2    0.2    0.2   0.21    814    1.0\n",
       "A0[1]        0.15  1.3e-4 5.2e-3   0.14   0.14   0.15   0.15   0.16   1597    1.0\n",
       "A0[2]        0.13  1.6e-4 6.7e-3   0.12   0.13   0.13   0.14   0.15   1659    1.0\n",
       "A0[3]        0.18  1.1e-3 7.0e-3   0.16   0.17   0.18   0.18   0.19     40   1.05\n",
       "sigma[0]     0.03  1.5e-4 6.3e-3   0.02   0.03   0.03   0.04   0.05   1662   1.01\n",
       "sigma[1]     0.02  6.3e-5 3.7e-3   0.02   0.02   0.02   0.03   0.03   3413    1.0\n",
       "sigma[2]     0.09  2.8e-3   0.01   0.07   0.08   0.09    0.1   0.12     23   1.07\n",
       "sigma[3]     0.05  1.4e-3 8.4e-3   0.03   0.04   0.04   0.05   0.07     36   1.04\n",
       "lp__        228.5    1.47   4.16 220.26 225.62 228.46 231.68 235.89      8   1.25\n",
       "\n",
       "Samples were drawn using NUTS at Tue Sep 18 10:31:24 2018.\n",
       "For each parameter, n_eff is a crude measure of effective sample size,\n",
       "and Rhat is the potential scale reduction factor on split chains (at \n",
       "convergence, Rhat=1)."
      ]
     },
     "execution_count": 27,
     "metadata": {},
     "output_type": "execute_result"
    }
   ],
   "source": [
    "samples"
   ]
  },
  {
   "cell_type": "code",
   "execution_count": 39,
   "metadata": {},
   "outputs": [],
   "source": [
    "strain_data = pd.concat([pd.read_csv(f) for f in glob.glob('20180917*/*.csv')])\n",
    "avg_data = pd.DataFrame(strain_data.groupby(['run_number', 'elapsed_time_min']).mean()).reset_index()\n",
    "dfs = []\n",
    "for g, d in avg_data.groupby(['run_number']):\n",
    "    d = d.copy()\n",
    "    d['elapsed_time_min'] -= d.iloc[0]['elapsed_time_min']\n",
    "    dfs.append(d)\n",
    "avg_data = pd.concat(dfs)"
   ]
  },
  {
   "cell_type": "code",
   "execution_count": 40,
   "metadata": {},
   "outputs": [
    {
     "data": {
      "application/vnd.vegalite.v2+json": {
       "$schema": "https://vega.github.io/schema/vega-lite/v2.6.0.json",
       "config": {
        "view": {
         "height": 300,
         "width": 400
        }
       },
       "data": {
        "name": "data-942197a8ee9aa14ea0b18cf14626d3d1"
       },
       "datasets": {
        "data-942197a8ee9aa14ea0b18cf14626d3d1": [
         {
          "OD_600": 0.07,
          "date": 20180917,
          "elapsed_time_min": 0,
          "run_number": 1,
          "temperature": 37
         },
         {
          "OD_600": 0.1366666666666667,
          "date": 20180917,
          "elapsed_time_min": 35,
          "run_number": 1,
          "temperature": 37
         },
         {
          "OD_600": 0.18000000000000002,
          "date": 20180917,
          "elapsed_time_min": 66,
          "run_number": 1,
          "temperature": 37
         },
         {
          "OD_600": 0.24333333333333332,
          "date": 20180917,
          "elapsed_time_min": 96,
          "run_number": 1,
          "temperature": 37
         },
         {
          "OD_600": 0.34,
          "date": 20180917,
          "elapsed_time_min": 126,
          "run_number": 1,
          "temperature": 37
         },
         {
          "OD_600": 0.3833333333333333,
          "date": 20180917,
          "elapsed_time_min": 141,
          "run_number": 1,
          "temperature": 37
         },
         {
          "OD_600": 0.42,
          "date": 20180917,
          "elapsed_time_min": 161,
          "run_number": 1,
          "temperature": 37
         },
         {
          "OD_600": 0.51,
          "date": 20180917,
          "elapsed_time_min": 183,
          "run_number": 1,
          "temperature": 37
         },
         {
          "OD_600": 0.5800000000000001,
          "date": 20180917,
          "elapsed_time_min": 200,
          "run_number": 1,
          "temperature": 37
         },
         {
          "OD_600": 0.6,
          "date": 20180917,
          "elapsed_time_min": 217,
          "run_number": 1,
          "temperature": 37
         },
         {
          "OD_600": 0.68,
          "date": 20180917,
          "elapsed_time_min": 231,
          "run_number": 1,
          "temperature": 37
         },
         {
          "OD_600": 0.7066666666666667,
          "date": 20180917,
          "elapsed_time_min": 246,
          "run_number": 1,
          "temperature": 37
         },
         {
          "OD_600": 0.7399999999999999,
          "date": 20180917,
          "elapsed_time_min": 251,
          "run_number": 1,
          "temperature": 37
         },
         {
          "OD_600": 0.8000000000000002,
          "date": 20180917,
          "elapsed_time_min": 267,
          "run_number": 1,
          "temperature": 37
         },
         {
          "OD_600": 0.06666666666666667,
          "date": 20180917,
          "elapsed_time_min": 0,
          "run_number": 2,
          "temperature": 37
         },
         {
          "OD_600": 0.1366666666666667,
          "date": 20180917,
          "elapsed_time_min": 35,
          "run_number": 2,
          "temperature": 37
         },
         {
          "OD_600": 0.20666666666666667,
          "date": 20180917,
          "elapsed_time_min": 66,
          "run_number": 2,
          "temperature": 37
         },
         {
          "OD_600": 0.2833333333333334,
          "date": 20180917,
          "elapsed_time_min": 96,
          "run_number": 2,
          "temperature": 37
         },
         {
          "OD_600": 0.39999999999999997,
          "date": 20180917,
          "elapsed_time_min": 127,
          "run_number": 2,
          "temperature": 37
         },
         {
          "OD_600": 0.44333333333333336,
          "date": 20180917,
          "elapsed_time_min": 142,
          "run_number": 2,
          "temperature": 37
         },
         {
          "OD_600": 0.49,
          "date": 20180917,
          "elapsed_time_min": 162,
          "run_number": 2,
          "temperature": 37
         },
         {
          "OD_600": 0.57,
          "date": 20180917,
          "elapsed_time_min": 184,
          "run_number": 2,
          "temperature": 37
         },
         {
          "OD_600": 0.6433333333333334,
          "date": 20180917,
          "elapsed_time_min": 200,
          "run_number": 2,
          "temperature": 37
         },
         {
          "OD_600": 0.6833333333333332,
          "date": 20180917,
          "elapsed_time_min": 217,
          "run_number": 2,
          "temperature": 37
         },
         {
          "OD_600": 0.71,
          "date": 20180917,
          "elapsed_time_min": 231,
          "run_number": 2,
          "temperature": 37
         },
         {
          "OD_600": 0.74,
          "date": 20180917,
          "elapsed_time_min": 232,
          "run_number": 2,
          "temperature": 37
         },
         {
          "OD_600": 0.7833333333333333,
          "date": 20180917,
          "elapsed_time_min": 246,
          "run_number": 2,
          "temperature": 37
         },
         {
          "OD_600": 0.8166666666666665,
          "date": 20180917,
          "elapsed_time_min": 252,
          "run_number": 2,
          "temperature": 37
         },
         {
          "OD_600": 0.8466666666666667,
          "date": 20180917,
          "elapsed_time_min": 267,
          "run_number": 2,
          "temperature": 37
         }
        ]
       },
       "encoding": {
        "color": {
         "field": "run_number",
         "type": "nominal"
        },
        "x": {
         "field": "elapsed_time_min",
         "type": "quantitative"
        },
        "y": {
         "field": "OD_600",
         "type": "quantitative"
        }
       },
       "mark": "point"
      },
      "image/png": "[encoded data removed]",
      "text/plain": [
       "<VegaLite 2 object>\n",
       "\n",
       "If you see this message, it means the renderer has not been properly enabled\n",
       "for the frontend that you are using. For more information, see\n",
       "https://altair-viz.github.io/user_guide/troubleshooting.html\n"
      ]
     },
     "execution_count": 40,
     "metadata": {},
     "output_type": "execute_result"
    }
   ],
   "source": [
    "alt.Chart(avg_data).mark_point().encode(\n",
    "    x='elapsed_time_min:Q',\n",
    "    y='OD_600:Q',\n",
    "    color='run_number:N')"
   ]
  },
  {
   "cell_type": "code",
   "execution_count": 42,
   "metadata": {},
   "outputs": [],
   "source": [
    "# Assemble teh data dictionary and sample!\n",
    "data_dict = dict(J=len(avg_data['run_number'].unique()), N=len(avg_data), idx=avg_data['run_number'],\n",
    "                time_min=avg_data['elapsed_time_min'], absorbance=avg_data['OD_600'])\n",
    "samples = growth_model.sampling(data_dict, iter=8000, chains=4)"
   ]
  },
  {
   "cell_type": "code",
   "execution_count": 43,
   "metadata": {},
   "outputs": [
    {
     "data": {
      "text/plain": [
       "Inference for Stan model: anon_model_ae7815d3090743092354ccc35324b674.\n",
       "4 chains, each with iter=8000; warmup=4000; thin=1; \n",
       "post-warmup draws per chain=4000, total post-warmup draws=16000.\n",
       "\n",
       "             mean se_mean     sd   2.5%    25%    50%    75%  97.5%  n_eff   Rhat\n",
       "lambda_mu  150.61    0.17   6.38 138.75 146.18 150.51 154.43 164.07   1470    1.0\n",
       "lambda_sig   0.96    0.06   0.56   0.16   0.54   0.85   1.28   2.33     89   1.04\n",
       "lam[0]     150.57    0.16   6.36 138.76 146.15 150.47 154.37 164.08   1672    1.0\n",
       "lam[1]     150.66    0.17   6.38  138.8 146.23 150.59 154.44 164.17   1486    1.0\n",
       "A0[0]        0.14  2.2e-4 9.1e-3   0.12   0.13   0.14   0.15   0.16   1743    1.0\n",
       "A0[1]        0.16  2.2e-4   0.01   0.14   0.15   0.16   0.16   0.18   2073    1.0\n",
       "sigma[0]     0.04  5.0e-4 8.9e-3   0.03   0.03   0.04   0.04   0.06    319   1.01\n",
       "sigma[1]     0.05  3.3e-4   0.01   0.03   0.04   0.05   0.06   0.08   1191    1.0\n",
       "lp__        79.86    0.21   2.42  74.34  78.42  80.13   81.6  83.82    134   1.03\n",
       "\n",
       "Samples were drawn using NUTS at Tue Sep 18 10:43:15 2018.\n",
       "For each parameter, n_eff is a crude measure of effective sample size,\n",
       "and Rhat is the potential scale reduction factor on split chains (at \n",
       "convergence, Rhat=1)."
      ]
     },
     "execution_count": 43,
     "metadata": {},
     "output_type": "execute_result"
    }
   ],
   "source": [
    "samples"
   ]
  },
  {
   "cell_type": "code",
   "execution_count": null,
   "metadata": {},
   "outputs": [],
   "source": []
  }
 ],
 "metadata": {
  "kernelspec": {
   "display_name": "Python 3",
   "language": "python",
   "name": "python3"
  },
  "language_info": {
   "codemirror_mode": {
    "name": "ipython",
    "version": 3
   },
   "file_extension": ".py",
   "mimetype": "text/x-python",
   "name": "python",
   "nbconvert_exporter": "python",
   "pygments_lexer": "ipython3",
   "version": "3.6.6"
  }
 },
 "nbformat": 4,
 "nbformat_minor": 2
}
