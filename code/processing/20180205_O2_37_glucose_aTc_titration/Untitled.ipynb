{
 "cells": [
  {
   "cell_type": "markdown",
   "metadata": {},
   "source": [
    "# Measuring calibration factor "
   ]
  },
  {
   "cell_type": "code",
   "execution_count": 9,
   "metadata": {
    "collapsed": false
   },
   "outputs": [],
   "source": [
    "import numpy as np\n",
    "import matplotlib.pyplot as plt\n",
    "import glob\n",
    "import pandas as pd\n",
    "import pymc3 as pm\n",
    "import scipy.optimize\n",
    "import tqdm\n",
    "import theano.tensor as tt\n",
    "import scipy.io\n",
    "import sys\n",
    "sys.path.insert(0, '../../../')\n",
    "import mwc.process\n",
    "import mwc.viz\n",
    "colors = mwc.viz.set_plotting_style()\n",
    "%matplotlib inline"
   ]
  },
  {
   "cell_type": "code",
   "execution_count": 10,
   "metadata": {
    "collapsed": false
   },
   "outputs": [],
   "source": [
    "def clist_to_df(clist_file, desired_props='default', added_props={}, excluded_props=None):\n",
    "    \"\"\"\n",
    "    Reads in a SuperSegger `clist` file and extracts the desired properties.\n",
    "     \n",
    "    Parameters\n",
    "    ----------\n",
    "    clist_file : str\n",
    "        Path to clist file of interest.\n",
    "    desired_props: list of str\n",
    "        A list of the desired properties. Default selection is ['Area birth', 'Area death', \n",
    "        'Cell ID', 'Cell birth time', 'Cell death time', 'Daughter1 ID', 'Daughter2 ID',\n",
    "        'Fluor1 mean death', 'Fluor2 mean death', 'Mother ID']\n",
    "    added_props : dict\n",
    "        A dict of additional props to include in the DataFrame.\n",
    "    excluded_props : list or tuple of str\n",
    "        Properties from the default included properties to ignore. These should match \n",
    "        the case exactly as defined in the SuperSegger documentation.\n",
    "    \n",
    "    Returns\n",
    "    -------\n",
    "    df : pandas DataFrame\n",
    "        A tidy pandas DataFrame with extracted properties for all cells in the clist file.\n",
    "    \"\"\"\n",
    "    # Ensure that the clist file is a string. \n",
    "    if type(clist_file) is not str:\n",
    "        raise TypeError('clist_file must be a string')\n",
    "   \n",
    "    # Convert the excluded props to a list if is given as a string.\n",
    "    if type(excluded_props) == str:\n",
    "        excluded_props = list(excluded_props)\n",
    "        \n",
    "    # Load the clist file using scipy.\n",
    "    mat = scipy.io.loadmat(clist_file, squeeze_me=True)\n",
    "    \n",
    "    # Assemble a dictionary of the indices and key values. \n",
    "    if desired_props == 'default':\n",
    "        desired_props = ['Area birth', 'Area death', 'Cell ID', 'Cell birth time', \n",
    "                         'Cell death time', 'Daughter1 ID', 'Daughter2 ID',\n",
    "                         'Fluor1 mean death', 'Fluor2 mean death', 'Mother ID']\n",
    "    defs = {key: value for value, key in enumerate(mat['def']) if key in desired_props}\n",
    "    \n",
    "    # Generate an empty DataFrame with the desired columns.\n",
    "    for k, v in added_props.items():\n",
    "        desired_props.append(k)     \n",
    "    df = pd.DataFrame([], columns=desired_props)\n",
    "    \n",
    "    # Iterate through the clist and extrac the properties.\n",
    "    for i, cell in enumerate(mat['data']):  \n",
    "        # Extract the properties and add to DataFrame\n",
    "        cell_dict = {}\n",
    "        try:\n",
    "            for key, value in defs.items():\n",
    "                cell_dict[key] = cell[value]\n",
    "#             cell_dict = {key: cell[value] for key, value in defs.items()}\n",
    "        except:\n",
    "            print(key, value)\n",
    "        \n",
    "        # Add any additional properties. \n",
    "        for k, v in added_props.items():\n",
    "            cell_dict[k] = v\n",
    "        df = df.append(cell_dict, ignore_index=True)\n",
    "         \n",
    "    # Rename the columns to accomodate pep8 style.\n",
    "    if excluded_props is not None:\n",
    "            for x in excluded_props:\n",
    "                df.drop(x, axis=1, inplace=True)\n",
    "    new_cols = {nom: '_'.join(nom.split(' ')).lower() for nom in df.keys()}\n",
    "    df.rename(columns=new_cols, inplace=True)\n",
    "    return df\n",
    "        \n",
    "\n",
    "def parse_clists(clists, parse_position=True, added_props={}, \n",
    "                 verbose=False, **kwargs):\n",
    "    \"\"\"\n",
    "    A helper function to iterate over a list of clist files. See `clist_to_df` for function\n",
    "    documentation\n",
    "    \n",
    "    Parameters\n",
    "    ----------\n",
    "    clists: list of str\n",
    "        A list of pathnames for clist files.\n",
    "    parse_position: bool\n",
    "        If True, the position of the item will be parsed from the file name by splitting at \n",
    "        'xy'.\n",
    "    added_props: dict\n",
    "        A dictionary of additional props to add to the DataFrame. Default is an empty dict.\n",
    "        If `parse_psotion` is True, the position will be passed as an added property.\n",
    "    verbose: bool\n",
    "        If True, a progressbar will be displayed for the clist iteration.\n",
    "    \n",
    "    Returns\n",
    "    -------\n",
    "    df : pandas DataFrame\n",
    "        A pandas DataFrame containing all cell properties for each item in the provided \n",
    "        clist file.\n",
    "    \n",
    "    \"\"\"\n",
    " \n",
    "    # Iterate through each item in the clists.\n",
    "    dfs = []\n",
    "    if verbose:\n",
    "        iterator = tqdm.tqdm(clists)\n",
    "    else:\n",
    "        iterator = clists\n",
    "    for i, c in enumerate(iterator):\n",
    "        # Parse the position.\n",
    "        pos = int(c.split('xy')[-1].split('/')[0])        \n",
    "        print(pos)\n",
    "        if parse_position:\n",
    "            added_props['position'] = pos\n",
    "        \n",
    "        # Pass the file to the parser.\n",
    "        df = clist_to_df(c, added_props=added_props, **kwargs)\n",
    "        dfs.append(df)\n",
    "    return pd.concat(dfs, ignore_index=True) "
   ]
  },
  {
   "cell_type": "code",
   "execution_count": 11,
   "metadata": {
    "collapsed": false
   },
   "outputs": [],
   "source": [
    "# Define the data directory\n",
    "data_dir = '../../../data/images/20180205_37C_glucose_O2_dilution/'\n",
    "\n",
    "# Find all of the growth clist files. \n",
    "growth = glob.glob('{0}/*growth*/xy*/clist.mat'.format(data_dir))\n",
    "\n",
    "# Parse the growth clist files.\n",
    "growth_df = mwc.process.parse_clists(growth, excluded_props=['Fluor2 mean death'])\n",
    "\n",
    "# Parse the snapshots.\n",
    "snaps = glob.glob('{0}/*snaps*/'.format(data_dir))\n",
    "dfs = []\n",
    "for i, s in enumerate(snaps):\n",
    "    # Find the strain. \n",
    "    strain, atc  = s.split('/')[-2].split('_')[-3:-1]\n",
    "    atc_conc = float(atc.split('ngmL')[0])\n",
    "    add_props = {'strain':strain, 'atc_conc':atc_conc}\n",
    " \n",
    "    # Parse the clist files.\n",
    "    clists = glob.glob('{0}/xy*/clist.mat'.format(s))\n",
    "    _df = mwc.process.parse_clists(clists, added_props=add_props, excluded_props=['Cell ID'])       \n",
    "    dfs.append(_df)\n",
    "snap_df = pd.concat(dfs, ignore_index=True)"
   ]
  },
  {
   "cell_type": "code",
   "execution_count": 12,
   "metadata": {
    "collapsed": true
   },
   "outputs": [],
   "source": [
    "# Compute the autofluorescence values.\n",
    "auto_strain = snap_df[snap_df['strain']=='autofluorescence']\n",
    "mean_auto_cherry = auto_strain['fluor1_mean_death'].mean()\n",
    "mean_auto_yfp = auto_strain['fluor2_mean_death'].mean()"
   ]
  },
  {
   "cell_type": "code",
   "execution_count": null,
   "metadata": {
    "collapsed": false
   },
   "outputs": [],
   "source": []
  },
  {
   "cell_type": "code",
   "execution_count": 13,
   "metadata": {
    "collapsed": false
   },
   "outputs": [],
   "source": [
    "# Extract the measured sisters. \n",
    "measured = growth_df[growth_df['fluor1_mean_death'] > 0]\n",
    "grouped = measured.groupby(['position', 'mother_id']) \n",
    "cal_df = pd.DataFrame([], columns=['I_1', 'I_2', 'summed', 'fluctuation'])\n",
    "for g, d in grouped:\n",
    "    if len(d) == 2:\n",
    "        sisters  = (d['fluor1_mean_death'].values - mean_auto_cherry) * d['area_death'].values\n",
    "        if (sisters >= 0).all():\n",
    "            cell_dict = {'I_1':sisters[0], 'I_2':sisters[1], \n",
    "                        'summed':sisters.sum(), 'fluctuation':np.diff(sisters)**2}\n",
    "            cal_df = cal_df.append(cell_dict, ignore_index=True)"
   ]
  },
  {
   "cell_type": "code",
   "execution_count": 14,
   "metadata": {
    "collapsed": false
   },
   "outputs": [
    {
     "data": {
      "text/plain": [
       "[<matplotlib.lines.Line2D at 0x7f929bb0f550>]"
      ]
     },
     "execution_count": 14,
     "metadata": {},
     "output_type": "execute_result"
    },
    {
     "name": "stderr",
     "output_type": "stream",
     "text": [
      "/opt/anaconda/lib/python3.6/site-packages/matplotlib/font_manager.py:1297: UserWarning: findfont: Font family ['Lucida Sans Unicode'] not found. Falling back to DejaVu Sans\n",
      "  (prop.get_family(), self.defaultFamily[fontext]))\n"
     ]
    },
    {
     "data": {
      "image/png": "[encoded data removed]",
      "text/plain": [
       "<matplotlib.figure.Figure at 0x7f929bb769e8>"
      ]
     },
     "metadata": {},
     "output_type": "display_data"
    }
   ],
   "source": [
    "fig, ax = plt.subplots(figsize=(6,6))\n",
    "ax.loglog(cal_df['summed'], cal_df['fluctuation'], '.', color='slategray')"
   ]
  },
  {
   "cell_type": "code",
   "execution_count": 16,
   "metadata": {
    "collapsed": false
   },
   "outputs": [
    {
     "name": "stderr",
     "output_type": "stream",
     "text": [
      "Auto-assigning NUTS sampler...\n",
      "Initializing NUTS using jitter+adapt_diag...\n",
      "100%|██████████| 20000/20000 [00:17<00:00, 1151.35it/s]\n"
     ]
    },
    {
     "ename": "NameError",
     "evalue": "name 'pboc' is not defined",
     "output_type": "error",
     "traceback": [
      "\u001b[0;31m---------------------------------------------------------------------------\u001b[0m",
      "\u001b[0;31mNameError\u001b[0m                                 Traceback (most recent call last)",
      "\u001b[0;32m<ipython-input-16-36ccddd6daa2>\u001b[0m in \u001b[0;36m<module>\u001b[0;34m()\u001b[0m\n\u001b[1;32m      2\u001b[0m     \u001b[0malpha\u001b[0m \u001b[0;34m=\u001b[0m \u001b[0mDeterministicLogPosterior\u001b[0m\u001b[0;34m(\u001b[0m\u001b[0;34m'alpha'\u001b[0m\u001b[0;34m,\u001b[0m \u001b[0mtestval\u001b[0m\u001b[0;34m=\u001b[0m\u001b[0;36m100\u001b[0m\u001b[0;34m)\u001b[0m\u001b[0;34m\u001b[0m\u001b[0m\n\u001b[1;32m      3\u001b[0m     \u001b[0mtrace\u001b[0m \u001b[0;34m=\u001b[0m \u001b[0mpm\u001b[0m\u001b[0;34m.\u001b[0m\u001b[0msample\u001b[0m\u001b[0;34m(\u001b[0m\u001b[0mdraws\u001b[0m\u001b[0;34m=\u001b[0m\u001b[0;36m10000\u001b[0m\u001b[0;34m,\u001b[0m \u001b[0mtune\u001b[0m\u001b[0;34m=\u001b[0m\u001b[0;36m10000\u001b[0m\u001b[0;34m)\u001b[0m\u001b[0;34m\u001b[0m\u001b[0m\n\u001b[0;32m----> 4\u001b[0;31m     \u001b[0mtrace_df\u001b[0m \u001b[0;34m=\u001b[0m \u001b[0mpboc\u001b[0m\u001b[0;34m.\u001b[0m\u001b[0mmcmc\u001b[0m\u001b[0;34m.\u001b[0m\u001b[0mtrace_to_dataframe\u001b[0m\u001b[0;34m(\u001b[0m\u001b[0mtrace\u001b[0m\u001b[0;34m,\u001b[0m \u001b[0mmodel\u001b[0m\u001b[0;34m)\u001b[0m\u001b[0;34m\u001b[0m\u001b[0m\n\u001b[0m\u001b[1;32m      5\u001b[0m     \u001b[0mstats\u001b[0m \u001b[0;34m=\u001b[0m \u001b[0mpboc\u001b[0m\u001b[0;34m.\u001b[0m\u001b[0mmcmc\u001b[0m\u001b[0;34m.\u001b[0m\u001b[0mcompute_statistics\u001b[0m\u001b[0;34m(\u001b[0m\u001b[0mtrace_df\u001b[0m\u001b[0;34m)\u001b[0m\u001b[0;34m\u001b[0m\u001b[0m\n",
      "\u001b[0;31mNameError\u001b[0m: name 'pboc' is not defined"
     ]
    }
   ],
   "source": [
    "with pm.Model() as model:\n",
    "    alpha = DeterministicLogPosterior('alpha', testval=100)\n",
    "    trace = pm.sample(draws=10000, tune=10000)\n",
    "    trace_df = pboc.mcmc.trace_to_dataframe(trace, model)\n",
    "    stats = pboc.mcmc.compute_statistics(trace_df) "
   ]
  },
  {
   "cell_type": "code",
   "execution_count": 17,
   "metadata": {
    "collapsed": false
   },
   "outputs": [
    {
     "name": "stderr",
     "output_type": "stream",
     "text": [
      "/opt/anaconda/lib/python3.6/site-packages/matplotlib/font_manager.py:1297: UserWarning: findfont: Font family ['Lucida Sans Unicode'] not found. Falling back to DejaVu Sans\n",
      "  (prop.get_family(), self.defaultFamily[fontext]))\n"
     ]
    },
    {
     "data": {
      "text/plain": [
       "array([[<matplotlib.axes._subplots.AxesSubplot object at 0x7f92b927f9b0>,\n",
       "        <matplotlib.axes._subplots.AxesSubplot object at 0x7f92b9257a20>]], dtype=object)"
      ]
     },
     "execution_count": 17,
     "metadata": {},
     "output_type": "execute_result"
    },
    {
     "data": {
      "image/png": "[encoded data removed]",
      "text/plain": [
       "<matplotlib.figure.Figure at 0x7f92b927f198>"
      ]
     },
     "metadata": {},
     "output_type": "display_data"
    }
   ],
   "source": [
    "pm.traceplot(trace)"
   ]
  },
  {
   "cell_type": "code",
   "execution_count": 19,
   "metadata": {
    "collapsed": false
   },
   "outputs": [],
   "source": [
    "# Subtract the autofluorescence.\n",
    "snap_df['fluor1_sub'] = snap_df['area_death'] * (snap_df['fluor1_mean_death'] - mean_auto_cherry)\n",
    "snap_df['fluor2_sub'] = snap_df['area_death'] * (snap_df['fluor2_mean_death'] - mean_auto_yfp)\n",
    "\n",
    "# Compute the mean constitutive expression.\n",
    "mean_delta = snap_df[snap_df['strain'] == 'deltaLacI']['fluor2_sub'].mean()\n",
    "\n",
    "# Group the dilution data by the aTc concentration.\n",
    "grouped = snap_df[snap_df['strain']=='dilution'].groupby('atc_conc')\n",
    "\n",
    "# Set up lsits to store the repressor copy number and the fold change. \n",
    "mean_repressors = []\n",
    "repressor_extrema = []\n",
    "fold_change = []\n",
    "\n",
    "for g, d in grouped:\n",
    "    # Compute the fold-change.\n",
    "    fold_change.append(d['fluor2_sub'].values.mean() / mean_delta)\n",
    "    \n",
    "    # Compute the repressor copy number.\n",
    "    mean_repressors.append((d['fluor1_sub'].values.mean() / 950))\n",
    "#     max_rep = d['fluor1_sub'].values.mean() / stats['hpd_max'].values\n",
    "#     min_rep = d['fluor1_sub'].values.mean() / stats['hpd_min'].values\n",
    "#     repressor_extrema.append((min_rep[0], max_rep[0])) "
   ]
  },
  {
   "cell_type": "code",
   "execution_count": 22,
   "metadata": {
    "collapsed": false
   },
   "outputs": [
    {
     "data": {
      "text/plain": [
       "[<matplotlib.lines.Line2D at 0x7f92b935d6d8>]"
      ]
     },
     "execution_count": 22,
     "metadata": {},
     "output_type": "execute_result"
    },
    {
     "name": "stderr",
     "output_type": "stream",
     "text": [
      "/opt/anaconda/lib/python3.6/site-packages/matplotlib/font_manager.py:1297: UserWarning: findfont: Font family ['Lucida Sans Unicode'] not found. Falling back to DejaVu Sans\n",
      "  (prop.get_family(), self.defaultFamily[fontext]))\n"
     ]
    },
    {
     "data": {
      "image/png": "[encoded data removed]",
      "text/plain": [
       "<matplotlib.figure.Figure at 0x7f9293ce8400>"
      ]
     },
     "metadata": {},
     "output_type": "display_data"
    }
   ],
   "source": [
    "# Compute the theoretical fold-change.\n",
    "ep_R = -13.9\n",
    "N_ns = 4.6E6\n",
    "R_range = np.logspace(0, 3, 500)\n",
    "theo = (1 + (R_range / N_ns) * np.exp(-ep_R))**-1\n",
    "\n",
    "# Set up the plotting canvas.\n",
    "fig, ax = plt.subplots()\n",
    "ax.loglog(R_range, theo)\n",
    "ax.loglog(mean_repressors, fold_change, 'o')\n"
   ]
  }
 ],
 "metadata": {
  "kernelspec": {
   "display_name": "Python [default]",
   "language": "python",
   "name": "python3"
  },
  "language_info": {
   "codemirror_mode": {
    "name": "ipython",
    "version": 3
   },
   "file_extension": ".py",
   "mimetype": "text/x-python",
   "name": "python",
   "nbconvert_exporter": "python",
   "pygments_lexer": "ipython3",
   "version": "3.6.4"
  }
 },
 "nbformat": 4,
 "nbformat_minor": 2
}
