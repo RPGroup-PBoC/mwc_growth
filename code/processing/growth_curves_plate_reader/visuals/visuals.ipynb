{
 "cells": [
  {
   "cell_type": "code",
   "execution_count": null,
   "metadata": {},
   "outputs": [],
   "source": [
    "# Save formatting preferences.\n",
    "strain_color_dict = {'blank':'white', 'delta':'black','manuel_delta':'black',\n",
    "                     'geneva_LE':'lightblue','geneva_BW':'mediumpurple'}\n",
    "strain_shape_dict = {'blank':'$B$', 'delta':'$∆$','manuel_delta':'$M∆$','geneva_LE':'$LE$','geneva_BW':'$BW$'}\n",
    "carbon_color_dict = {'blank':'white', 'glucose':'black','LB':'red','glycerol':'blue','acetate':'purple'}\n",
    "carbon_shape_dict = {'blank':'$B$', 'glucose':'$G$','LB':'$LB$','glycerol':'$Gy$','acetate':'$A$'}\n",
    "\n",
    "dicts_to_save = [strain_color_dict,strain_shape_dict,carbon_color_dict,carbon_shape_dict]\n",
    "dicts_save_names = ['strain_colors.csv','strain_shapes.csv','carbon_colors.csv','carbon_shapes.csv']\n",
    "for item in dicts_to_save:\n",
    "    filename = str(item)[:-5]\n",
    "\n",
    "with open('strain_colors.csv', 'w', newline='') as csvfile:\n",
    "    fieldnames = strain_color_dict.keys()\n",
    "    writer = csv.DictWriter(csvfile, fieldnames=fieldnames)\n",
    "    writer.writeheader()\n",
    "    writer.writerow(strain_color_dict)\n",
    "with open('strain_shapes.csv', 'w', newline='') as csvfile:\n",
    "    fieldnames = strain_shape_dict.keys()\n",
    "    writer = csv.DictWriter(csvfile, fieldnames=fieldnames)\n",
    "    writer.writeheader()\n",
    "    writer.writerow(strain_shape_dict)\n",
    "with open('carbon_colors.csv', 'w', newline='') as csvfile:\n",
    "    fieldnames = carbon_color_dict.keys()\n",
    "    writer = csv.DictWriter(csvfile, fieldnames=fieldnames)\n",
    "    writer.writeheader()\n",
    "    writer.writerow(carbon_color_dict)\n",
    "with open('carbon_shapes.csv', 'w', newline='') as csvfile:\n",
    "    fieldnames = carbon_shape_dict.keys()\n",
    "    writer = csv.DictWriter(csvfile, fieldnames=fieldnames)\n",
    "    writer.writeheader()\n",
    "    writer.writerow(carbon_shape_dict)"
   ]
  }
 ],
 "metadata": {
  "kernelspec": {
   "display_name": "Python 3",
   "language": "python",
   "name": "python3"
  },
  "language_info": {
   "codemirror_mode": {
    "name": "ipython",
    "version": 3
   },
   "file_extension": ".py",
   "mimetype": "text/x-python",
   "name": "python",
   "nbconvert_exporter": "python",
   "pygments_lexer": "ipython3",
   "version": "3.6.4"
  }
 },
 "nbformat": 4,
 "nbformat_minor": 2
}
