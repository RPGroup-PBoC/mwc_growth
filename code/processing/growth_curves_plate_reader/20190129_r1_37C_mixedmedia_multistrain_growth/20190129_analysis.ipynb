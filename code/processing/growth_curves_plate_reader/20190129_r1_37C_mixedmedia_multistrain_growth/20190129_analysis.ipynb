{
 "cells": [
  {
   "cell_type": "markdown",
   "metadata": {},
   "source": [
    "# Processing & Analysis of Biotek Plate Reader Records\n",
    "\n",
    "© 2019 Griffin Chure. This work is licensed under a [Creative Commons Attribution License CC-BY 4.0](https://creativecommons.org/licenses/by/4.0/). All code contained herein is licensed under an [MIT license](https://opensource.org/licenses/MIT).\n",
    "\n",
    "--- "
   ]
  },
  {
   "cell_type": "code",
   "execution_count": 1,
   "metadata": {},
   "outputs": [
    {
     "name": "stderr",
     "output_type": "stream",
     "text": [
      "/anaconda3/lib/python3.6/site-packages/h5py/__init__.py:36: FutureWarning: Conversion of the second argument of issubdtype from `float` to `np.floating` is deprecated. In future, it will be treated as `np.float64 == np.dtype(float).type`.\n",
      "  from ._conv import register_converters as _register_converters\n",
      "/anaconda3/lib/python3.6/site-packages/bebi103/viz.py:30: UserWarning: DataShader import failed with error \"No module named 'datashader'\".\n",
      "Features requiring DataShader will not work and you will get exceptions.\n",
      "  Features requiring DataShader will not work and you will get exceptions.\"\"\")\n"
     ]
    }
   ],
   "source": [
    "import sys\n",
    "sys.path.insert(0, '../../../../')\n",
    "import numpy as np\n",
    "import pandas as pd\n",
    "import altair as alt\n",
    "import matplotlib.pyplot as plt\n",
    "import string\n",
    "import mwc.bayes\n",
    "import mwc.stats\n",
    "import mwc.viz\n",
    "import mwc.fitderiv\n",
    "import bebi103.viz\n",
    "import pystan\n",
    "import tqdm\n",
    "import os\n",
    "import csv\n",
    "colors = mwc.viz.personal_style()\n",
    "alt.data_transformers.enable('json')\n",
    "%load_ext stanmagic"
   ]
  },
  {
   "cell_type": "code",
   "execution_count": 2,
   "metadata": {},
   "outputs": [],
   "source": [
    "DATE = 20190129\n",
    "RUN_NO = 1\n",
    "TEMP = 37\n",
    "CARBON = 'mixedmedia'\n",
    "STRAIN = 'multistrain' #treat as operator if using mwc_growth strains"
   ]
  },
  {
   "cell_type": "markdown",
   "metadata": {},
   "source": [
    "## Tidy the Data"
   ]
  },
  {
   "cell_type": "markdown",
   "metadata": {},
   "source": [
    "First, remove unreadable glyphs from the Temperature column name in the data file. Then proceed below."
   ]
  },
  {
   "cell_type": "code",
   "execution_count": 106,
   "metadata": {},
   "outputs": [],
   "source": [
    "# Load the data. \n",
    "data = pd.read_csv(f'../../../../data/plate_reader/{DATE}_{TEMP}C_{CARBON}_{STRAIN}_linear_shaking.csv', skiprows=54)\n",
    "\n",
    "# Trim rows beyond the timeseries data.\n",
    "data = data[0:data[data['Time'] == 'Results'].index[0]].copy()\n",
    "\n",
    "# Prune the nans\n",
    "data.dropna(inplace=True)\n",
    "\n",
    "# Convert the time to minutes\n",
    "time = pd.DatetimeIndex(data['Time'])\n",
    "time_minutes = time.hour * 60 + time.minute + time.second/60\n",
    "data['Time'] = time_minutes\n",
    "\n",
    "# Rename columns for simplicity\n",
    "data.rename(columns={'Time':'time_min', 'T Read 2:600':'temp_C'}, inplace=True)\n",
    "\n",
    "# Melt to longform tidy\n",
    "data = data.melt(id_vars=['time_min', 'temp_C'])\n",
    "\n",
    "# Rename variable and value vars.\n",
    "data.rename(columns={'variable':'well_id', 'value':'od_600nm'}, inplace=True)\n",
    "\n",
    "# Convert OD values to floats.\n",
    "data['od_600nm'] = pd.to_numeric(data['od_600nm'])\n",
    "\n",
    "# Rename well id to well number. \n",
    "alpha_map = {alpha:no for alpha, no in zip(string.ascii_uppercase, np.arange(0, 27, 1) * 12)}\n",
    "alphanumeric_map = {f'{a}{n}':alpha_map[a] + n for n in np.arange(1, 13, 1) for a in string.ascii_uppercase}\n",
    "data['well_id'] = [alphanumeric_map[a] for a in data['well_id'].values]\n",
    "\n",
    "# 'A','B','C','D','E','F','G','H'\n",
    "\n",
    "# Include strain IDs and carbons.\n",
    "strain_wells = {**{alphanumeric_map[f'{row}{col}']:'delta' for row in ['B', 'F'] for col in np.arange(2, 12, 1)},\n",
    "                **{alphanumeric_map[f'{row}{col}']:'manuel_delta' for row in ['C', 'G'] for col in np.arange(2, 12, 1)},\n",
    "                **{alphanumeric_map[f'{row}{col}']:'geneva_LE' for row in ['D'] for col in np.arange(2, 12, 1)},\n",
    "                **{alphanumeric_map[f'{row}{col}']:'geneva_BW' for row in ['E'] for col in np.arange(2, 12, 1)},\n",
    "                **{alphanumeric_map[f'{row}{col}']:'delta' for row in ['G'] for col in [2]}, #switched some strains\n",
    "                **{alphanumeric_map[f'{row}{col}']:'manuel_delta' for row in ['F'] for col in [2]}, #switched some strains\n",
    "               }\n",
    "carbon_wells = {**{alphanumeric_map[f'{row}{col}']:'LB' for row in ['B','D','E','F','G'] \n",
    "                   for col in np.arange(2, 7, 1)}, \n",
    "                **{alphanumeric_map[f'{row}{col}']:'glucose' for row in ['B','D','E','F','G'] \n",
    "                   for col in np.arange(7, 12, 1)},\n",
    "                **{alphanumeric_map[f'{row}{col}']:'LB' for row in ['C'] for col in np.arange(7, 12, 1)}, \n",
    "                **{alphanumeric_map[f'{row}{col}']:'glucose' for row in ['C'] for col in np.arange(2, 7, 1)}}\n",
    "\n",
    "for well in data['well_id'].unique():\n",
    "    if well in strain_wells.keys():\n",
    "        data.loc[data['well_id']==well, 'strain'] = strain_wells[well]\n",
    "    else:\n",
    "        data.loc[data['well_id']==well, 'strain'] = 'blank'\n",
    "    if well in carbon_wells.keys():\n",
    "        data.loc[data['well_id']==well, 'carbon'] = carbon_wells[well]\n",
    "    else:\n",
    "        data.loc[data['well_id']==well, 'carbon'] = 'blank'\n",
    "\n",
    "# Insert identifier information. \n",
    "data['date'] = DATE\n",
    "data['run_number'] = RUN_NO\n",
    "\n",
    "# Save it to the output file\n",
    "if os.path.exists('./output') == False:\n",
    "    os.mkdir('./output')\n",
    "data.to_csv(f'output/{DATE}_r{RUN_NO}_{TEMP}C_{CARBON}_{STRAIN}_growth_plate.csv', index=False)"
   ]
  },
  {
   "cell_type": "markdown",
   "metadata": {},
   "source": [
    "## Generate Plate Summary Figures "
   ]
  },
  {
   "cell_type": "code",
   "execution_count": 107,
   "metadata": {},
   "outputs": [
    {
     "data": {
      "image/png": "[encoded data removed]",
      "text/plain": [
       "<Figure size 576x216 with 2 Axes>"
      ]
     },
     "metadata": {},
     "output_type": "display_data"
    }
   ],
   "source": [
    "# Make array of media used.\n",
    "carbon_map = np.full((8, 12), 'blank', dtype='<U10')\n",
    "for row in np.arange(0,8,1): \n",
    "    for column in np.arange(0,12,1):\n",
    "        if 12*row+column+1 in carbon_wells.keys():\n",
    "            carbon_map[row][column] = carbon_wells[12*row+column+1]\n",
    "\n",
    "# Make array of strains used. \n",
    "strain_map = np.full((8, 12), 'blank', dtype='<U20')\n",
    "for row in np.arange(0,8,1): \n",
    "    for column in np.arange(0,12,1):\n",
    "        if 12*row+column+1 in strain_wells.keys():\n",
    "            strain_map[row][column] = strain_wells[12*row+column+1]\n",
    "            \n",
    "# Set up coloring and shape formatting.\n",
    "carbon_color_dict = {'blank':'white', 'glucose':'black','LB':'red','glycerol':'blue','acetate':'purple'}\n",
    "carbon_shape_dict = {'blank':'$B$', 'glucose':'$G$','LB':'$LB$','glycerol':'$Gy$','acetate':'$A$'}\n",
    "strain_color_dict = {'blank':'white', 'delta':'black','manuel_delta':'black',\n",
    "                     'geneva_LE':'lightblue','geneva_BW':'mediumpurple'}\n",
    "strain_shape_dict = {'blank':'$B$', 'delta':'$∆$','manuel_delta':'$M∆$','geneva_LE':'$LE$','geneva_BW':'$BW$'}\n",
    "\n",
    "# Set up plot and axes formatting.\n",
    "fig, ax = plt.subplots(1, 2, figsize=(8, 3))\n",
    "ax[0].set_title('Strains', y=1.12, fontsize = 13)\n",
    "ax[1].set_title('Media', y=1.12, fontsize = 13)\n",
    "for i in range(2):\n",
    "    ax[i].set_xlim([0.5, 12.5])\n",
    "    ax[i].set_ylim([0.5, 8.5])\n",
    "    ax[i].set_facecolor('darkgray')\n",
    "    ax[i].set_yticklabels(('$H$','$G$','$F$','$E$','$D$','$C$','$B$','$A$'))\n",
    "    ax[i].yaxis.set_ticks(np.arange(1,9,1))\n",
    "    ax[i].xaxis.set_ticks(np.arange(1,13,1))\n",
    "    ax[i].xaxis.tick_top()\n",
    "    ax[i].tick_params(axis='both', which='both', top=False, left=False, labelsize='medium', pad=0)\n",
    "\n",
    "# Plot strain and media glyphs.\n",
    "for row in np.arange(0,8,1): \n",
    "    for column in np.arange(0,12,1):\n",
    "        ax[1].scatter(column+1, 8-row, s = 150, marker=carbon_shape_dict[carbon_map[row][column]], \n",
    "                    c=carbon_color_dict[carbon_map[row][column]])\n",
    "for row in np.arange(0,8,1): \n",
    "    for column in np.arange(0,12,1):\n",
    "        ax[0].scatter(column+1, 8-row, s = 150, marker=strain_shape_dict[strain_map[row][column]], \n",
    "                    c=strain_color_dict[strain_map[row][column]])\n",
    "\n",
    "# Save figure.\n",
    "plt.tight_layout()\n",
    "plt.savefig(f'output/{DATE}_r{RUN_NO}_{TEMP}C_{CARBON}_{STRAIN}_growth_plate_layout.pdf', bbox_inches='tight')"
   ]
  },
  {
   "cell_type": "code",
   "execution_count": 108,
   "metadata": {},
   "outputs": [
    {
     "data": {
      "image/png": "[encoded data removed]",
      "text/plain": [
       "<Figure size 576x288 with 96 Axes>"
      ]
     },
     "metadata": {},
     "output_type": "display_data"
    }
   ],
   "source": [
    "# Make summary growth curve figure.\n",
    "row_letters = {no:alpha for no, alpha in zip(np.arange(0, 27, 1),string.ascii_uppercase)}\n",
    "fig, ax = plt.subplots(8, 12, figsize=(8, 4))\n",
    "for r in np.arange(0,8,1):\n",
    "    for c in np.arange(0,12,1):\n",
    "        ax[r][c].set_ylim([0, 1.5])\n",
    "        ax[r][c].get_xaxis().set_visible(False)\n",
    "        ax[r][c].get_yaxis().set_visible(False)\n",
    "        row_letter = row_letters[r]\n",
    "        well_id = alphanumeric_map[f'{row_letter}{c+1}']\n",
    "        well_dat = data[data['well_id']==well_id]\n",
    "        ax[r][c].scatter(well_dat['time_min'], well_dat['od_600nm'], marker='.', s=0.2)\n",
    "plt.tight_layout()\n",
    "plt.savefig(f'output/{DATE}_r{RUN_NO}_{TEMP}C_{CARBON}_{STRAIN}_growth_plate_summary.pdf', bbox_inches='tight')"
   ]
  },
  {
   "cell_type": "markdown",
   "metadata": {},
   "source": [
    "## Clean Dusty Data"
   ]
  },
  {
   "cell_type": "markdown",
   "metadata": {},
   "source": [
    "Let's zoom in on the center four wells. "
   ]
  },
  {
   "cell_type": "code",
   "execution_count": 109,
   "metadata": {},
   "outputs": [
    {
     "data": {
      "image/png": "[encoded data removed]",
      "text/plain": [
       "<Figure size 360x360 with 16 Axes>"
      ]
     },
     "metadata": {},
     "output_type": "display_data"
    }
   ],
   "source": [
    "# Look for wells affected by plastic dust.\n",
    "row_letters = {no:alpha for no, alpha in zip(np.arange(0, 27, 1),string.ascii_uppercase)}\n",
    "excluded_wells = []\n",
    "for i in ['C6','E7','E8','F7']:\n",
    "    excluded_wells.append(alphanumeric_map[i])\n",
    "\n",
    "fig, ax = plt.subplots(4, 4, figsize=(5, 5))\n",
    "for r in np.arange(2,6,1):\n",
    "    for c in np.arange(4,8,1):\n",
    "        ax[r-2][c-4].set_ylim([0, 1.5])\n",
    "        ax[r-2][c-4].get_xaxis().set_visible(False)\n",
    "        ax[r-2][c-4].get_yaxis().set_visible(False)\n",
    "        row_letter = row_letters[r]\n",
    "        well_id = alphanumeric_map[f'{row_letter}{c+1}']\n",
    "        well_dat = data[data['well_id']==well_id]\n",
    "        ax[r-2][c-4].scatter(well_dat['time_min'], well_dat['od_600nm'], marker='.', s=0.2)\n",
    "        if well_id in excluded_wells:\n",
    "            ax[r-2][c-4].set_facecolor('lavender')\n",
    "for c in np.arange(0,4,1):\n",
    "    ax[0][c].set_title(str(5+c),fontsize=10)\n",
    "for r in np.arange(0,4,1):\n",
    "    ax[r][0].get_yaxis().set_visible(True)\n",
    "    ax[r][0].get_yaxis().set_ticks([])\n",
    "    ax[r][0].set_ylabel(row_letters[r+2],rotation='horizontal',fontsize=10,labelpad=10)\n",
    "\n",
    "plt.tight_layout()"
   ]
  },
  {
   "cell_type": "code",
   "execution_count": 6,
   "metadata": {},
   "outputs": [
    {
     "data": {
      "image/png": "[encoded data removed]",
      "text/plain": [
       "<Figure size 360x360 with 16 Axes>"
      ]
     },
     "metadata": {},
     "output_type": "display_data"
    }
   ],
   "source": [
    "# Look for wells affected by plastic dust.\n",
    "row_letters = {no:alpha for no, alpha in zip(np.arange(0, 27, 1),string.ascii_uppercase)}\n",
    "excluded_wells = []\n",
    "for i in ['C6','E7','E8','F7']:\n",
    "    excluded_wells.append(alphanumeric_map[i])\n",
    "\n",
    "fig, ax = plt.subplots(4, 4, figsize=(5, 5))\n",
    "for r in np.arange(2,6,1):\n",
    "    for c in np.arange(4,8,1):\n",
    "        ax[r-2][c-4].set_ylim([0, 1.5])\n",
    "        ax[r-2][c-4].get_xaxis().set_visible(False)\n",
    "        ax[r-2][c-4].get_yaxis().set_visible(False)\n",
    "        row_letter = row_letters[r]\n",
    "        well_id = alphanumeric_map[f'{row_letter}{c+1}']\n",
    "        well_dat = data[data['well_id']==well_id]\n",
    "        ax[r-2][c-4].scatter(well_dat['time_min'], well_dat['od_600nm'], marker='.', s=0.2)\n",
    "        if well_id in excluded_wells:\n",
    "            ax[r-2][c-4].set_facecolor('lavender')\n",
    "for c in np.arange(0,4,1):\n",
    "    ax[0][c].set_title(str(5+c),fontsize=10)\n",
    "for r in np.arange(0,4,1):\n",
    "    ax[r][0].get_yaxis().set_visible(True)\n",
    "    ax[r][0].get_yaxis().set_ticks([])\n",
    "    ax[r][0].set_ylabel(row_letters[r+2],rotation='horizontal',fontsize=10,labelpad=10)\n",
    "\n",
    "plt.tight_layout()"
   ]
  },
  {
   "cell_type": "markdown",
   "metadata": {},
   "source": [
    "In this case, we'll remove the data from wells 'C6','E7','E8', and 'F7'."
   ]
  },
  {
   "cell_type": "code",
   "execution_count": 110,
   "metadata": {},
   "outputs": [],
   "source": [
    "# Remove dirty wells. \n",
    "data_full = data\n",
    "data = data[~data.well_id.isin(excluded_wells)].copy()"
   ]
  },
  {
   "cell_type": "markdown",
   "metadata": {},
   "source": [
    "## Analysis "
   ]
  },
  {
   "cell_type": "code",
   "execution_count": 111,
   "metadata": {},
   "outputs": [],
   "source": [
    "# Generate a dictionary of the mean blank at each time point. \n",
    "blank_vals = {t:val['od_600nm'].mean() for t, val in data[data['strain']=='blank'].groupby(['time_min'])}\n",
    "\n",
    "# Add mean blank values for each time point to the dataframe, as well as background subtracted OD values.\n",
    "for k, v in blank_vals.items():\n",
    "    data.loc[data['time_min']==k, 'blank_val'] = v\n",
    "data['od_sub'] = data['od_600nm'] - data['blank_val']"
   ]
  },
  {
   "cell_type": "markdown",
   "metadata": {},
   "source": [
    "Make the model we'll use to fit to exponential growth."
   ]
  },
  {
   "cell_type": "code",
   "execution_count": 9,
   "metadata": {},
   "outputs": [
    {
     "name": "stdout",
     "output_type": "stream",
     "text": [
      "Using pystan.stanc compiler..\n",
      "-------------------------------------------------------------------------------\n",
      "Model compiled successfully. Output stored in exp_growth object.\n",
      "Type exp_growth in a cell to see a nicely formatted code output in a notebook\n",
      "     ^^^^^^^^^^\n",
      "Access model compile output properties\n",
      "exp_growth.model_file -> Name of stan_file [None]\n",
      "exp_growth.model_name -> Name of stan model [None]\n",
      "exp_growth.model_code -> Model code [data {     int<lower ....]\n"
     ]
    }
   ],
   "source": [
    "%%stan -v exp_growth\n",
    "data {\n",
    "    int<lower=0> N;\n",
    "    real<lower=0> time[N];\n",
    "    real<lower=0> absorb[N];\n",
    "}\n",
    "\n",
    "transformed data {\n",
    "    real log_abs[N] = log(absorb);\n",
    "}\n",
    "parameters {\n",
    "    real<lower=0> A_0;\n",
    "    real<lower=0> lambda;\n",
    "    real<lower=0> sigma;\n",
    "}\n",
    "\n",
    "model {\n",
    "    A_0 ~ normal(0, 0.1);\n",
    "    lambda ~ normal(0, 100);\n",
    "    sigma ~ normal(0, 0.1);\n",
    "    for (i in 1:N) {\n",
    "        log_abs[i] ~ normal(log(A_0) + time[i] / lambda, sigma); \n",
    "    }\n",
    "}"
   ]
  },
  {
   "cell_type": "code",
   "execution_count": 10,
   "metadata": {},
   "outputs": [
    {
     "name": "stderr",
     "output_type": "stream",
     "text": [
      "INFO:pystan:COMPILING THE C++ CODE FOR MODEL anon_model_84499dfd991246c763c99f7879827f02 NOW.\n"
     ]
    },
    {
     "name": "stdout",
     "output_type": "stream",
     "text": [
      "In file included from /var/folders/2l/sd6bqywd6txgwwkbmf6jqbw40000gn/T/tmp0hbnc5vd/stanfit4anon_model_84499dfd991246c763c99f7879827f02_9126840903639066395.cpp:600:\n",
      "In file included from /anaconda3/lib/python3.6/site-packages/numpy/core/include/numpy/arrayobject.h:4:\n",
      "In file included from /anaconda3/lib/python3.6/site-packages/numpy/core/include/numpy/ndarrayobject.h:18:\n",
      "In file included from /anaconda3/lib/python3.6/site-packages/numpy/core/include/numpy/ndarraytypes.h:1816:\n",
      "/anaconda3/lib/python3.6/site-packages/numpy/core/include/numpy/npy_1_7_deprecated_api.h:15:2: warning: \"Using deprecated NumPy API, disable it by \"          \"#defining NPY_NO_DEPRECATED_API NPY_1_7_API_VERSION\" [-W#warnings]\n",
      "#warning \"Using deprecated NumPy API, disable it by \" \\\n",
      " ^\n",
      "1 warning generated.\n",
      "ld: warning: -pie being ignored. It is only used when linking a main executable\n",
      "ld: warning: ignoring file /Applications/Xcode.app/Contents/Developer/Platforms/MacOSX.platform/Developer/SDKs/MacOSX10.14.sdk/usr/lib/libSystem.tbd, file was built for unsupported file format ( 0x2D 0x2D 0x2D 0x20 0x21 0x74 0x61 0x70 0x69 0x2D 0x74 0x62 0x64 0x2D 0x76 0x33 ) which is not the architecture being linked (x86_64): /Applications/Xcode.app/Contents/Developer/Platforms/MacOSX.platform/Developer/SDKs/MacOSX10.14.sdk/usr/lib/libSystem.tbd\n"
     ]
    }
   ],
   "source": [
    "model = pystan.StanModel(model_code=exp_growth.model_code)"
   ]
  },
  {
   "cell_type": "markdown",
   "metadata": {},
   "source": [
    "### Delta in Glucose"
   ]
  },
  {
   "cell_type": "code",
   "execution_count": 112,
   "metadata": {},
   "outputs": [],
   "source": [
    "current_strain = 'delta'\n",
    "current_carbon = 'glucose'"
   ]
  },
  {
   "cell_type": "markdown",
   "metadata": {},
   "source": [
    "Run the analysis code chunks below."
   ]
  },
  {
   "cell_type": "code",
   "execution_count": 120,
   "metadata": {},
   "outputs": [
    {
     "data": {
      "text/plain": [
       "67.40207553050394"
      ]
     },
     "execution_count": 120,
     "metadata": {},
     "output_type": "execute_result"
    }
   ],
   "source": [
    "stats['doubling time']"
   ]
  },
  {
   "cell_type": "markdown",
   "metadata": {},
   "source": [
    "### Delta in LB"
   ]
  },
  {
   "cell_type": "code",
   "execution_count": 135,
   "metadata": {},
   "outputs": [],
   "source": [
    "current_strain = 'delta'\n",
    "current_carbon = 'LB'"
   ]
  },
  {
   "cell_type": "markdown",
   "metadata": {},
   "source": [
    "Run the analysis code chunks below."
   ]
  },
  {
   "cell_type": "code",
   "execution_count": 155,
   "metadata": {},
   "outputs": [
    {
     "data": {
      "text/plain": [
       "27.054873863568652"
      ]
     },
     "execution_count": 155,
     "metadata": {},
     "output_type": "execute_result"
    }
   ],
   "source": [
    "stats['doubling time']"
   ]
  },
  {
   "cell_type": "markdown",
   "metadata": {},
   "source": [
    "### Manuel Delta in Glucose"
   ]
  },
  {
   "cell_type": "code",
   "execution_count": 156,
   "metadata": {},
   "outputs": [],
   "source": [
    "current_strain = 'manuel_delta'\n",
    "current_carbon = 'glucose'"
   ]
  },
  {
   "cell_type": "markdown",
   "metadata": {},
   "source": [
    "Run the analysis code chunks below."
   ]
  },
  {
   "cell_type": "code",
   "execution_count": 76,
   "metadata": {},
   "outputs": [
    {
     "data": {
      "text/plain": [
       "62.577004168556826"
      ]
     },
     "execution_count": 76,
     "metadata": {},
     "output_type": "execute_result"
    }
   ],
   "source": [
    "stats['doubling time']"
   ]
  },
  {
   "cell_type": "markdown",
   "metadata": {},
   "source": [
    "### Manuel Delta in LB"
   ]
  },
  {
   "cell_type": "code",
   "execution_count": 77,
   "metadata": {},
   "outputs": [],
   "source": [
    "current_strain = 'manuel_delta'\n",
    "current_carbon = 'LB'"
   ]
  },
  {
   "cell_type": "markdown",
   "metadata": {},
   "source": [
    "Run the analysis code chunks below."
   ]
  },
  {
   "cell_type": "code",
   "execution_count": 93,
   "metadata": {},
   "outputs": [
    {
     "data": {
      "text/plain": [
       "25.447891460644975"
      ]
     },
     "execution_count": 93,
     "metadata": {},
     "output_type": "execute_result"
    }
   ],
   "source": [
    "stats['doubling time']"
   ]
  },
  {
   "cell_type": "markdown",
   "metadata": {},
   "source": [
    "### Geneva's LE in Glucose"
   ]
  },
  {
   "cell_type": "code",
   "execution_count": 157,
   "metadata": {},
   "outputs": [],
   "source": [
    "# current_strain = 'geneva_LE'\n",
    "# current_carbon = 'glucose'"
   ]
  },
  {
   "cell_type": "markdown",
   "metadata": {},
   "source": [
    "Run the analysis code chunks below."
   ]
  },
  {
   "cell_type": "code",
   "execution_count": 100,
   "metadata": {},
   "outputs": [
    {
     "name": "stdout",
     "output_type": "stream",
     "text": [
      "no growth\n"
     ]
    }
   ],
   "source": [
    "print(\"no growth\")"
   ]
  },
  {
   "cell_type": "markdown",
   "metadata": {},
   "source": [
    "### Geneva's LE in LB"
   ]
  },
  {
   "cell_type": "code",
   "execution_count": 159,
   "metadata": {},
   "outputs": [],
   "source": [
    "current_strain = 'geneva_LE'\n",
    "current_carbon = 'LB'"
   ]
  },
  {
   "cell_type": "markdown",
   "metadata": {},
   "source": [
    "Run the analysis code chunks below."
   ]
  },
  {
   "cell_type": "code",
   "execution_count": 191,
   "metadata": {},
   "outputs": [
    {
     "data": {
      "text/plain": [
       "25.740914566155435"
      ]
     },
     "execution_count": 191,
     "metadata": {},
     "output_type": "execute_result"
    }
   ],
   "source": [
    "stats['doubling time']"
   ]
  },
  {
   "cell_type": "markdown",
   "metadata": {},
   "source": [
    "### Geneva's BW in Glucose"
   ]
  },
  {
   "cell_type": "code",
   "execution_count": 192,
   "metadata": {},
   "outputs": [],
   "source": [
    "current_strain = 'geneva_BW'\n",
    "current_carbon = 'glucose'"
   ]
  },
  {
   "cell_type": "markdown",
   "metadata": {},
   "source": [
    "Run the analysis code chunks below."
   ]
  },
  {
   "cell_type": "code",
   "execution_count": 211,
   "metadata": {},
   "outputs": [
    {
     "data": {
      "text/plain": [
       "58.74705831824152"
      ]
     },
     "execution_count": 211,
     "metadata": {},
     "output_type": "execute_result"
    }
   ],
   "source": [
    "stats['doubling time']"
   ]
  },
  {
   "cell_type": "markdown",
   "metadata": {},
   "source": [
    "### Geneva's BW in LB"
   ]
  },
  {
   "cell_type": "code",
   "execution_count": 212,
   "metadata": {},
   "outputs": [],
   "source": [
    "current_strain = 'geneva_BW'\n",
    "current_carbon = 'LB'"
   ]
  },
  {
   "cell_type": "markdown",
   "metadata": {},
   "source": [
    "Run the analysis code chunks below."
   ]
  },
  {
   "cell_type": "code",
   "execution_count": 233,
   "metadata": {},
   "outputs": [
    {
     "data": {
      "text/plain": [
       "25.237682074376238"
      ]
     },
     "execution_count": 233,
     "metadata": {},
     "output_type": "execute_result"
    }
   ],
   "source": [
    "stats['doubling time']"
   ]
  },
  {
   "cell_type": "markdown",
   "metadata": {},
   "source": [
    "#### Plot the Data"
   ]
  },
  {
   "cell_type": "code",
   "execution_count": 215,
   "metadata": {},
   "outputs": [
    {
     "data": {
      "image/png": "[encoded data removed]",
      "text/plain": [
       "<Figure size 576x288 with 2 Axes>"
      ]
     },
     "metadata": {},
     "output_type": "display_data"
    }
   ],
   "source": [
    "# Plot the growth data. \n",
    "grouped = data[(data['strain']==current_strain) & (data['carbon']==current_carbon)].groupby(\n",
    "    ['time_min']).agg(('mean', 'std')).reset_index()\n",
    "fig, ax = plt.subplots(1, 2, figsize=(8, 4))\n",
    "for i in range(2):\n",
    "    ax[i].set_xlabel('time [min]', fontsize=10)\n",
    "    ax[i].set_ylabel('background subtracted OD', fontsize=10)\n",
    "\n",
    "ax[1].set_yscale('log')\n",
    "ax[1].set_xlim([0, 400])\n",
    "ax[0].errorbar(grouped['time_min'], grouped['od_sub']['mean'], grouped['od_sub']['std'], linestyle='none',\n",
    "           lw=1, capsize=1, fmt='.')\n",
    "ax[1].errorbar(grouped['time_min'], grouped['od_sub']['mean'], grouped['od_sub']['std'], linestyle='none',\n",
    "           lw=1, capsize=1, fmt='.')\n",
    "plt.tight_layout()\n",
    "plt.savefig(f'output/{current_strain}_{current_carbon}_growth_curves_full_and_inset.pdf')"
   ]
  },
  {
   "cell_type": "markdown",
   "metadata": {},
   "source": [
    "View all the datapoints in linear (exponential) region."
   ]
  },
  {
   "cell_type": "code",
   "execution_count": 218,
   "metadata": {},
   "outputs": [
    {
     "data": {
      "text/plain": [
       "Text(0,0.5,'background subtracted absorbance')"
      ]
     },
     "execution_count": 218,
     "metadata": {},
     "output_type": "execute_result"
    },
    {
     "data": {
      "image/png": "[encoded data removed]",
      "text/plain": [
       "<Figure size 432x288 with 1 Axes>"
      ]
     },
     "metadata": {},
     "output_type": "display_data"
    }
   ],
   "source": [
    "# Restrict to the desired range\n",
    "restricted = data[(data['strain']==current_strain) & (data['carbon']==current_carbon) & \n",
    "                  (data['time_min'] >= 50) & (data['time_min'] <= 200)].copy()\n",
    "# Plot the data\n",
    "fig, ax = plt.subplots(1, 1)\n",
    "ax.semilogy(restricted['time_min'], restricted['od_sub'], '.')\n",
    "ax.set_xlabel('time [min]', fontsize=10)\n",
    "ax.set_ylabel('background subtracted absorbance', fontsize=10)"
   ]
  },
  {
   "cell_type": "markdown",
   "metadata": {},
   "source": [
    "#### Fit to an Exponential"
   ]
  },
  {
   "cell_type": "markdown",
   "metadata": {},
   "source": [
    "Fit the model for all wells together, for a broad set of time ranges."
   ]
  },
  {
   "cell_type": "code",
   "execution_count": 219,
   "metadata": {},
   "outputs": [
    {
     "name": "stderr",
     "output_type": "stream",
     "text": [
      "  0%|          | 0/39 [00:00<?, ?it/s]WARNING:pystan:44 of 10000 iterations ended with a divergence (0.44%).\n",
      "WARNING:pystan:Try running with adapt_delta larger than 0.95 to remove the divergences.\n",
      "100%|██████████| 39/39 [01:46<00:00,  2.74s/it]\n"
     ]
    }
   ],
   "source": [
    "growth_rates = []\n",
    "growth_hpd_min = []\n",
    "growth_hpd_max = []\n",
    "for i in tqdm.tqdm(range(10, 400, 10)):\n",
    "    restricted = data[(data['strain']==current_strain) & (data['carbon']==current_carbon) & \n",
    "                      (data['time_min'] >= 0) & (data['time_min'] <= i)].copy()\n",
    "    data_dict = {'N': len(restricted),\n",
    "              'time': restricted['time_min'],\n",
    "              'absorb': restricted['od_600nm']}\n",
    "    samples = model.sampling(data_dict, iter=5000, control=dict(adapt_delta=0.95))\n",
    "    samp_df = samples.to_dataframe()\n",
    "    growth_rates.append(np.median(samp_df['lambda']))\n",
    "    hpd_min, hpd_max = mwc.stats.compute_hpd(samp_df['lambda'], 0.95)\n",
    "    growth_hpd_min.append(hpd_min) \n",
    "    growth_hpd_max.append(hpd_max)"
   ]
  },
  {
   "cell_type": "code",
   "execution_count": 220,
   "metadata": {},
   "outputs": [],
   "source": [
    "t_double = np.log(2) * np.array(growth_rates)\n",
    "t_double_min = np.log(2) * np.array(growth_hpd_min)\n",
    "t_double_max = np.log(2) * np.array(growth_hpd_max)"
   ]
  },
  {
   "cell_type": "code",
   "execution_count": 222,
   "metadata": {},
   "outputs": [
    {
     "data": {
      "image/png": "[encoded data removed]",
      "text/plain": [
       "<Figure size 432x288 with 1 Axes>"
      ]
     },
     "metadata": {},
     "output_type": "display_data"
    }
   ],
   "source": [
    "fig, ax = plt.subplots(1, 1)\n",
    "t = np.arange(10, 400, 10)\n",
    "ax.plot(t, t_double, '.')\n",
    "ax.fill_between(t, t_double_min, t_double_max, alpha=0.5)\n",
    "ax.set_ylabel('doubling time [min]')\n",
    "ax.set_xlabel('number of time points considered')\n",
    "ax.set_title(f'{current_strain}, {current_carbon}', fontsize=10)\n",
    "plt.savefig(f'output/{current_strain}_{current_carbon}_time_dependence_inference_unsubtracted_abs.pdf')"
   ]
  },
  {
   "cell_type": "markdown",
   "metadata": {},
   "source": [
    "Fit the model for each well separately and compile the results, for the data between 100 and 400 minutes."
   ]
  },
  {
   "cell_type": "code",
   "execution_count": 223,
   "metadata": {},
   "outputs": [
    {
     "name": "stderr",
     "output_type": "stream",
     "text": [
      "100%|██████████| 5/5 [00:03<00:00,  1.58it/s]\n"
     ]
    }
   ],
   "source": [
    "t_double = []\n",
    "t_double_max = []\n",
    "t_double_min = []\n",
    "\n",
    "restricted = data[(data['strain']==current_strain) & (data['carbon']==current_carbon) & \n",
    "                  (data['time_min'] >= 50) & (data['time_min'] <= 200)].copy()\n",
    "\n",
    "for g, d in tqdm.tqdm(restricted.groupby(['well_id'])):\n",
    "    data_dict = {'N': len(d),\n",
    "              'time': d['time_min'],\n",
    "              'absorb': d['od_sub']}\n",
    "    samples = model.sampling(data_dict, iter=2000, control=dict(adapt_delta=0.95))\n",
    "    samp_df = samples.to_dataframe()\n",
    "    growth_rate_median = np.median(samp_df['lambda'])\n",
    "    hpd_min, hpd_max = mwc.stats.compute_hpd(samp_df['lambda'], 0.95)\n",
    "    t_double.append(np.log(2) * growth_rate_median)\n",
    "    t_double_max.append(np.log(2) * hpd_min)\n",
    "    t_double_min.append(np.log(2) * hpd_max)"
   ]
  },
  {
   "cell_type": "code",
   "execution_count": 224,
   "metadata": {},
   "outputs": [
    {
     "data": {
      "image/png": "[encoded data removed]",
      "text/plain": [
       "<Figure size 432x288 with 1 Axes>"
      ]
     },
     "metadata": {},
     "output_type": "display_data"
    }
   ],
   "source": [
    "x_median = np.sort(t_double)\n",
    "x_max = np.sort(t_double_max)\n",
    "x_min = np.sort(t_double_min)\n",
    "y = np.arange(0, len(t_double), 1)/len(x_median)\n",
    "plt.step(x_median, y)\n",
    "plt.fill_betweenx(y, x_min, x_max, alpha=0.5, step='post')\n",
    "plt.ylim([0, 1])\n",
    "plt.xlabel('doubling time [min]')\n",
    "plt.ylabel('cumulative distribution')\n",
    "plt.title(f'{current_strain}, {current_carbon}', fontsize=10)\n",
    "plt.savefig(f'output/{current_strain}_{current_carbon}_cumulative_dist.pdf')"
   ]
  },
  {
   "cell_type": "markdown",
   "metadata": {},
   "source": [
    "####  Using Gaussian Processes to Infer Growth Rates"
   ]
  },
  {
   "cell_type": "code",
   "execution_count": 227,
   "metadata": {},
   "outputs": [],
   "source": [
    "restricted = data[(data['strain']==current_strain) & (data['carbon']==current_carbon) \n",
    "                  & (data['time_min'] > 50) & (data['time_min'] < 200)].sort_values('time_min')"
   ]
  },
  {
   "cell_type": "code",
   "execution_count": 228,
   "metadata": {},
   "outputs": [
    {
     "data": {
      "text/plain": [
       "[<matplotlib.lines.Line2D at 0x1d1e6ac0f0>]"
      ]
     },
     "execution_count": 228,
     "metadata": {},
     "output_type": "execute_result"
    },
    {
     "data": {
      "image/png": "[encoded data removed]",
      "text/plain": [
       "<Figure size 432x288 with 1 Axes>"
      ]
     },
     "metadata": {},
     "output_type": "display_data"
    }
   ],
   "source": [
    "plt.plot(restricted['time_min'], restricted['od_sub'], '.')"
   ]
  },
  {
   "cell_type": "markdown",
   "metadata": {},
   "source": [
    "Using the package [`fitderiv`](http://swainlab.bio.ed.ac.uk/software/fitderiv/) from Peter Swain's lab, we can perform non-parametric inference of the time-dependent growth rates of these data"
   ]
  },
  {
   "cell_type": "code",
   "execution_count": 229,
   "metadata": {},
   "outputs": [
    {
     "name": "stdout",
     "output_type": "stream",
     "text": [
      "Taking natural logarithm of the data.\n",
      "Fitting measurement errors.\n",
      "Using a squared exponential Gaussian process.\n",
      "hparam[0] determines the amplitude of variation\n",
      "hparam[1] determines the flexibility\n",
      "hparam[2] determines the variance of the measurement error\n",
      "log(max likelihood)= 1.268854e+02\n",
      "hparam[0]= 9.005507e+00 [1.000000e-05, 1.000000e+05]\n",
      "hparam[1]= 5.996918e-05 [1.000000e-06, 1.000000e+02]\n",
      "hparam[2]= 3.816016e-03 [1.000000e-05, 1.000000e+02]\n",
      "\n",
      "Calculating statistics with 100 samples\n",
      "\t(displaying mean +/- standard deviation [standard error])\n",
      "\n",
      "         max df= 2.746477e-02 +/- 3.719839e-04 [3.719839e-05]\n",
      " time of max df= 1.415467e+02 +/- 3.599389e+00 [3.599389e-01]\n",
      " inverse max df= 2.524231e+01 +/- 3.415852e-01 [3.415852e-02]\n",
      "          max y= 1.981897e-01 +/- 4.213144e-03 [4.213144e-04]\n",
      "       lag time= 7.886555e+01 +/- 1.181710e+00 [1.181710e-01]\n"
     ]
    }
   ],
   "source": [
    "gp = mwc.fitderiv.fitderiv(restricted['time_min'].values, restricted['od_sub'].values)"
   ]
  },
  {
   "cell_type": "markdown",
   "metadata": {},
   "source": [
    "For exponential growth, the doubling time is ln(2)/λ, where lambda is the growth rate."
   ]
  },
  {
   "cell_type": "code",
   "execution_count": 230,
   "metadata": {},
   "outputs": [],
   "source": [
    "# Calculate doubling time and export summary statistics.\n",
    "stats = gp.printstats(performprint=False).copy()\n",
    "stats['doubling time']=(np.log(2)/gp.ds['max df'])\n",
    "\n",
    "with open(f'output/{current_strain}_{current_carbon}_GP_summary.csv','w') as f:\n",
    "    w = csv.writer(f)\n",
    "    w.writerow(['parameter','value'])\n",
    "    w.writerows(stats.items())"
   ]
  },
  {
   "cell_type": "code",
   "execution_count": 231,
   "metadata": {},
   "outputs": [
    {
     "data": {
      "text/plain": [
       "25.237682074376238"
      ]
     },
     "execution_count": 231,
     "metadata": {},
     "output_type": "execute_result"
    }
   ],
   "source": [
    "stats['doubling time']"
   ]
  },
  {
   "cell_type": "code",
   "execution_count": 232,
   "metadata": {},
   "outputs": [
    {
     "data": {
      "image/png": "[encoded data removed]",
      "text/plain": [
       "<Figure size 720x288 with 3 Axes>"
      ]
     },
     "metadata": {},
     "output_type": "display_data"
    }
   ],
   "source": [
    "plt.figure(figsize=(10, 4))\n",
    "plt.subplot(1,3,1)\n",
    "plt.title('growth vs time', fontsize = 10)\n",
    "gp.plotfit('f')\n",
    "plt.subplot(1,3,2)\n",
    "plt.title('time derivative vs time', fontsize=10)\n",
    "gp.plotfit('df')\n",
    "plt.subplot(1,3,3)\n",
    "plt.title('doubling time vs time', fontsize=10)\n",
    "gp.plotdoubtime()\n",
    "plt.axhline(y=stats['doubling time'],c='red')\n",
    "locs, _ = plt.yticks()\n",
    "plt.yticks(np.append(locs[1:-1],round(stats['doubling time'],2)))\n",
    "plt.tight_layout()\n",
    "plt.savefig(f'output/{current_strain}_{current_carbon}_GP_fit_and_time_derivative.pdf')"
   ]
  },
  {
   "cell_type": "code",
   "execution_count": null,
   "metadata": {},
   "outputs": [],
   "source": []
  }
 ],
 "metadata": {
  "kernelspec": {
   "display_name": "Python 3",
   "language": "python",
   "name": "python3"
  },
  "language_info": {
   "codemirror_mode": {
    "name": "ipython",
    "version": 3
   },
   "file_extension": ".py",
   "mimetype": "text/x-python",
   "name": "python",
   "nbconvert_exporter": "python",
   "pygments_lexer": "ipython3",
   "version": "3.6.4"
  }
 },
 "nbformat": 4,
 "nbformat_minor": 2
}
