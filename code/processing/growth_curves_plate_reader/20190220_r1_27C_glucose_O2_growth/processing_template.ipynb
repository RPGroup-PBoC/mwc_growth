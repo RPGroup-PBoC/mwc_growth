{
 "cells": [
  {
   "cell_type": "markdown",
   "metadata": {},
   "source": [
    "# Processing & Analysis of Biotek Plate Reader Records\n",
    "\n",
    "© 2019 Griffin Chure. This work is licensed under a [Creative Commons Attribution License CC-BY 4.0](https://creativecommons.org/licenses/by/4.0/). All code contained herein is licensed under an [MIT license](https://opensource.org/licenses/MIT).\n",
    "\n",
    "--- "
   ]
  },
  {
   "cell_type": "code",
   "execution_count": null,
   "metadata": {},
   "outputs": [],
   "source": [
    "import sys\n",
    "sys.path.insert(0, '../../../../')\n",
    "import numpy as np\n",
    "import pandas as pd\n",
    "import altair as alt\n",
    "import matplotlib.pyplot as plt\n",
    "import string\n",
    "import mwc.bayes\n",
    "import mwc.stats\n",
    "import mwc.viz\n",
    "import mwc.fitderiv\n",
    "import bebi103.viz\n",
    "import pystan\n",
    "import tqdm\n",
    "import os\n",
    "import csv\n",
    "colors = mwc.viz.personal_style()\n",
    "alt.data_transformers.enable('json')"
   ]
  },
  {
   "cell_type": "code",
   "execution_count": 14,
   "metadata": {},
   "outputs": [],
   "source": [
    "import sys\n",
    "sys.path.insert(0, '../../../../')\n",
    "import numpy as np\n",
    "import pandas as pd\n",
    "import string\n",
    "import os\n",
    "import csv\n",
    "import matplotlib.pyplot as plt\n",
    "import mwc.viz\n",
    "colors = mwc.viz.personal_style()"
   ]
  },
  {
   "cell_type": "code",
   "execution_count": 4,
   "metadata": {},
   "outputs": [],
   "source": [
    "# Define the experimental constants\n",
    "DATE = 20190220\n",
    "RUN_NO = 1\n",
    "TEMP = 27\n",
    "CARBON = 'glucose'\n",
    "STRAIN = 'O2' #treat as operator if using mwc_growth strains\n",
    "\n",
    "alpha_map = {alpha:no for alpha, no in zip(string.ascii_uppercase, np.arange(0, 27, 1) * 12)}\n",
    "alphanumeric_map = {f'{a}{n}':alpha_map[a] + n for n in np.arange(1, 13, 1) for a in string.ascii_uppercase}\n",
    "\n",
    "# Assign strains and carbons to wells that weren't blanks\n",
    "strain_wells = {**{alphanumeric_map[f'{row}{col}']:'delta' \n",
    "                   for row in ['C','D','E','F'] for col in np.arange(3, 10+1, 1)}}\n",
    "carbon_wells = {**{alphanumeric_map[f'{row}{col}']:'glucose' \n",
    "                   for row in ['C','D','E','F'] for col in np.arange(3, 10+1, 1)}}"
   ]
  },
  {
   "cell_type": "code",
   "execution_count": 7,
   "metadata": {},
   "outputs": [],
   "source": [
    "# Load the data. \n",
    "data = pd.read_csv(f'../../../../data/plate_reader/{DATE}_r{RUN_NO}_{TEMP}C_{CARBON}_{STRAIN}_growth.csv', \n",
    "                   skiprows=53)\n",
    "\n",
    "# Trim rows beyond the timeseries data.\n",
    "data = data[0:data[data['Time'] == 'Results'].index[0]].copy()\n",
    "\n",
    "# Prune the nans\n",
    "data.dropna(inplace=True)\n",
    "\n",
    "# Convert the time to minutes\n",
    "data['Time'] = data['Time'].str.split(':').apply(lambda x: int(x[0]) * 60 + int(x[1])+int(x[2])/60)\n",
    "\n",
    "# Rename columns for simplicity\n",
    "data.rename(columns={'Time':'time_min', 'T Read 2:600':'temp_C'}, inplace=True)\n",
    "\n",
    "# Melt to longform tidy\n",
    "data = data.melt(id_vars=['time_min', 'temp_C'])\n",
    "\n",
    "# Rename variable and value vars.\n",
    "data.rename(columns={'variable':'well_id', 'value':'od_600nm'}, inplace=True)\n",
    "\n",
    "# Convert OD values to floats.\n",
    "data['od_600nm'] = pd.to_numeric(data['od_600nm'])\n",
    "\n",
    "# Redefine well id as well numbers. \n",
    "data['well_id'] = [alphanumeric_map[a] for a in data['well_id'].values]\n",
    "\n",
    "# Include strain IDs and carbons.\n",
    "for well in data['well_id'].unique():\n",
    "    if well in strain_wells.keys():\n",
    "        data.loc[data['well_id']==well, 'strain'] = strain_wells[well]\n",
    "    else: data.loc[data['well_id']==well, 'strain'] = 'blank'\n",
    "    if well in carbon_wells.keys():\n",
    "        data.loc[data['well_id']==well, 'carbon'] = carbon_wells[well]\n",
    "    else: data.loc[data['well_id']==well, 'carbon'] = 'blank'\n",
    "\n",
    "# Insert identifier information. \n",
    "data['date'] = DATE\n",
    "data['run_number'] = RUN_NO\n",
    "\n",
    "# Save it to the output file\n",
    "if os.path.exists('./output') == False:\n",
    "    os.mkdir('./output')\n",
    "data.to_csv(f'output/growth_plate.csv', index=False)"
   ]
  },
  {
   "cell_type": "markdown",
   "metadata": {},
   "source": [
    "## Generate Plate Summary Figures "
   ]
  },
  {
   "cell_type": "code",
   "execution_count": 12,
   "metadata": {},
   "outputs": [
    {
     "data": {
      "image/png": "[encoded data removed]",
      "text/plain": [
       "<Figure size 576x216 with 2 Axes>"
      ]
     },
     "metadata": {},
     "output_type": "display_data"
    }
   ],
   "source": [
    "# Make array of media used.\n",
    "carbon_map = np.full((8, 12), 'blank', dtype='<U10')\n",
    "for row in np.arange(0,8,1): \n",
    "    for column in np.arange(0,12,1):\n",
    "        if 12*row+column+1 in carbon_wells.keys():\n",
    "            carbon_map[row][column] = carbon_wells[12*row+column+1]\n",
    "\n",
    "# Make array of strains used. \n",
    "strain_map = np.full((8, 12), 'blank', dtype='<U20')\n",
    "for row in np.arange(0,8,1): \n",
    "    for column in np.arange(0,12,1):\n",
    "        if 12*row+column+1 in strain_wells.keys():\n",
    "            strain_map[row][column] = strain_wells[12*row+column+1]\n",
    "            \n",
    "# Load coloring and shape formatting.\n",
    "with open('../visuals/strain_colors.csv', newline='') as csvfile:\n",
    "    reader = csv.DictReader(csvfile)\n",
    "    first_row = list(reader)[0] # Should only be one row in the reader, but make sure, just in case.\n",
    "    strain_color_dict = {key:first_row[key] for key in first_row.keys()}\n",
    "with open('../visuals/carbon_colors.csv', newline='') as csvfile:\n",
    "    reader = csv.DictReader(csvfile)\n",
    "    first_row = list(reader)[0]\n",
    "    carbon_color_dict = {key:first_row[key] for key in first_row.keys()}\n",
    "with open('../visuals/strain_shapes.csv', newline='') as csvfile:\n",
    "    reader = csv.DictReader(csvfile)\n",
    "    first_row = list(reader)[0]\n",
    "    strain_shape_dict = {key:first_row[key] for key in first_row.keys()}\n",
    "with open('../visuals/carbon_shapes.csv', newline='') as csvfile:\n",
    "    reader = csv.DictReader(csvfile)\n",
    "    first_row = list(reader)[0]\n",
    "    carbon_shape_dict = {key:first_row[key] for key in first_row.keys()}\n",
    "\n",
    "# Set up plot and axes formatting.\n",
    "fig, ax = plt.subplots(1, 2, figsize=(8, 3))\n",
    "ax[0].set_title('Strains', y=1.12, fontsize = 13)\n",
    "ax[1].set_title('Media', y=1.12, fontsize = 13)\n",
    "for i in range(2):\n",
    "    ax[i].set_xlim([0.5, 12.5])\n",
    "    ax[i].set_ylim([0.5, 8.5])\n",
    "    ax[i].set_facecolor('darkgray')\n",
    "    ax[i].set_yticklabels(('$H$','$G$','$F$','$E$','$D$','$C$','$B$','$A$'))\n",
    "    ax[i].yaxis.set_ticks(np.arange(1,9,1))\n",
    "    ax[i].xaxis.set_ticks(np.arange(1,13,1))\n",
    "    ax[i].xaxis.tick_top()\n",
    "    ax[i].tick_params(axis='both', which='both', top=False, left=False, labelsize='medium', pad=0)\n",
    "\n",
    "# Plot strain and media glyphs.\n",
    "for row in np.arange(0,8,1): \n",
    "    for column in np.arange(0,12,1):\n",
    "        ax[1].scatter(column+1, 8-row, s = 150, marker=carbon_shape_dict[carbon_map[row][column]], \n",
    "                    c=carbon_color_dict[carbon_map[row][column]])\n",
    "for row in np.arange(0,8,1): \n",
    "    for column in np.arange(0,12,1):\n",
    "        ax[0].scatter(column+1, 8-row, s = 150, marker=strain_shape_dict[strain_map[row][column]], \n",
    "                    c=strain_color_dict[strain_map[row][column]])\n",
    "\n",
    "# Save figure.\n",
    "plt.tight_layout()\n",
    "plt.savefig(f'output/growth_plate_layout.png', bbox_inches='tight')"
   ]
  },
  {
   "cell_type": "code",
   "execution_count": 15,
   "metadata": {},
   "outputs": [
    {
     "data": {
      "image/png": "[encoded data removed]",
      "text/plain": [
       "<Figure size 800x400 with 96 Axes>"
      ]
     },
     "metadata": {},
     "output_type": "display_data"
    }
   ],
   "source": [
    "# Make summary growth curve figure.\n",
    "row_letters = {no:alpha for no, alpha in zip(np.arange(0, 27, 1),string.ascii_uppercase)}\n",
    "fig, ax = plt.subplots(8, 12, figsize=(8, 4))\n",
    "for r in np.arange(0,8,1):\n",
    "    for c in np.arange(0,12,1):\n",
    "        ax[r][c].set_ylim([0, 1.5])\n",
    "        ax[r][c].get_xaxis().set_visible(False)\n",
    "        ax[r][c].get_yaxis().set_visible(False)\n",
    "        row_letter = row_letters[r]\n",
    "        well_id = alphanumeric_map[f'{row_letter}{c+1}']\n",
    "        well_dat = data[data['well_id']==well_id]\n",
    "        ax[r][c].scatter(well_dat['time_min'], well_dat['od_600nm'], marker='.', s=0.2)\n",
    "plt.tight_layout()\n",
    "plt.savefig(f'output/growth_plate_summary.png', bbox_inches='tight')"
   ]
  },
  {
   "cell_type": "code",
   "execution_count": null,
   "metadata": {},
   "outputs": [],
   "source": []
  }
 ],
 "metadata": {
  "kernelspec": {
   "display_name": "Python 3",
   "language": "python",
   "name": "python3"
  },
  "language_info": {
   "codemirror_mode": {
    "name": "ipython",
    "version": 3
   },
   "file_extension": ".py",
   "mimetype": "text/x-python",
   "name": "python",
   "nbconvert_exporter": "python",
   "pygments_lexer": "ipython3",
   "version": "3.6.4"
  }
 },
 "nbformat": 4,
 "nbformat_minor": 2
}
