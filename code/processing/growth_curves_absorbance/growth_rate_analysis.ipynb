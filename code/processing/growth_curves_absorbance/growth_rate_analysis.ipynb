{
 "cells": [
  {
   "cell_type": "markdown",
   "metadata": {},
   "source": [
    "# Bayesian Parameter Estimation for Growth Rates"
   ]
  },
  {
   "cell_type": "code",
   "execution_count": 3,
   "metadata": {},
   "outputs": [],
   "source": [
    "import sys\n",
    "import numpy as np\n",
    "import pandas as pd\n",
    "import glob\n",
    "import pystan\n",
    "import altair as alt\n",
    "sys.path.insert(0, '../../../')\n",
    "import mwc.viz\n",
    "import mwc.bayes\n",
    "import arviz as az\n",
    "%load_ext stanmagic"
   ]
  },
  {
   "cell_type": "code",
   "execution_count": 4,
   "metadata": {},
   "outputs": [
    {
     "name": "stderr",
     "output_type": "stream",
     "text": [
      "/anaconda3/lib/python3.6/site-packages/ipykernel_launcher.py:17: SettingWithCopyWarning: \n",
      "A value is trying to be set on a copy of a slice from a DataFrame.\n",
      "Try using .loc[row_indexer,col_indexer] = value instead\n",
      "\n",
      "See the caveats in the documentation: http://pandas.pydata.org/pandas-docs/stable/indexing.html#indexing-view-versus-copy\n"
     ]
    },
    {
     "data": {
      "application/vnd.vegalite.v2+json": {
       "$schema": "https://vega.github.io/schema/vega-lite/v2.6.0.json",
       "config": {
        "view": {
         "height": 300,
         "width": 400
        }
       },
       "data": {
        "name": "data-ab68912b109e5dc8ac7ae6cad7a7527f"
       },
       "datasets": {
        "data-ab68912b109e5dc8ac7ae6cad7a7527f": [
         {
          "OD_600": 0.17,
          "date": 20180911,
          "elapsed_time_min": 0,
          "idx": 1,
          "run_number": 1.5,
          "temperature": 37,
          "time_elapsed_min": null
         },
         {
          "OD_600": 0.18166666666666664,
          "date": 20180911,
          "elapsed_time_min": 30,
          "idx": 1,
          "run_number": 1.5,
          "temperature": 37,
          "time_elapsed_min": null
         },
         {
          "OD_600": 0.2333333333333333,
          "date": 20180911,
          "elapsed_time_min": 59,
          "idx": 1,
          "run_number": 1,
          "temperature": 37,
          "time_elapsed_min": null
         },
         {
          "OD_600": 0.2866666666666667,
          "date": 20180911,
          "elapsed_time_min": 60,
          "idx": 1,
          "run_number": 2,
          "temperature": 37,
          "time_elapsed_min": null
         },
         {
          "OD_600": 0.34,
          "date": 20180911,
          "elapsed_time_min": 88,
          "idx": 1,
          "run_number": 1,
          "temperature": 37,
          "time_elapsed_min": null
         },
         {
          "OD_600": 0.3633333333333333,
          "date": 20180911,
          "elapsed_time_min": 89,
          "idx": 1,
          "run_number": 2,
          "temperature": 37,
          "time_elapsed_min": null
         },
         {
          "OD_600": 0.41,
          "date": 20180911,
          "elapsed_time_min": 104,
          "idx": 1,
          "run_number": 1,
          "temperature": 37,
          "time_elapsed_min": null
         },
         {
          "OD_600": 0.42400000000000004,
          "date": 20180911,
          "elapsed_time_min": 105,
          "idx": 1,
          "run_number": 1.6,
          "temperature": 37,
          "time_elapsed_min": null
         },
         {
          "OD_600": 0.4833333333333334,
          "date": 20180911,
          "elapsed_time_min": 121,
          "idx": 1,
          "run_number": 1.5,
          "temperature": 37,
          "time_elapsed_min": null
         },
         {
          "OD_600": 0.5033333333333333,
          "date": 20180911,
          "elapsed_time_min": 133,
          "idx": 1,
          "run_number": 1,
          "temperature": 37,
          "time_elapsed_min": null
         },
         {
          "OD_600": 0.5266666666666667,
          "date": 20180911,
          "elapsed_time_min": 134,
          "idx": 1,
          "run_number": 2,
          "temperature": 37,
          "time_elapsed_min": null
         },
         {
          "OD_600": 0.595,
          "date": 20180911,
          "elapsed_time_min": 153,
          "idx": 1,
          "run_number": 1.5,
          "temperature": 37,
          "time_elapsed_min": null
         },
         {
          "OD_600": 0.615,
          "date": 20180911,
          "elapsed_time_min": 154,
          "idx": 1,
          "run_number": 1.5,
          "temperature": 37,
          "time_elapsed_min": null
         },
         {
          "OD_600": 0.63,
          "date": 20180911,
          "elapsed_time_min": 164,
          "idx": 1,
          "run_number": 1,
          "temperature": 37,
          "time_elapsed_min": null
         },
         {
          "OD_600": 0.6675,
          "date": 20180911,
          "elapsed_time_min": 165,
          "idx": 1,
          "run_number": 1.5,
          "temperature": 37,
          "time_elapsed_min": null
         },
         {
          "OD_600": 0.68,
          "date": 20180911,
          "elapsed_time_min": 166,
          "idx": 1,
          "run_number": 2,
          "temperature": 37,
          "time_elapsed_min": null
         },
         {
          "OD_600": 0.7283333333333334,
          "date": 20180911,
          "elapsed_time_min": 180,
          "idx": 1,
          "run_number": 1.5,
          "temperature": 37,
          "time_elapsed_min": null
         },
         {
          "OD_600": 0.76,
          "date": 20180911,
          "elapsed_time_min": 194,
          "idx": 1,
          "run_number": 1,
          "temperature": 37,
          "time_elapsed_min": null
         },
         {
          "OD_600": 0.8380000000000001,
          "date": 20180911,
          "elapsed_time_min": 195,
          "idx": 1,
          "run_number": 1.6,
          "temperature": 37,
          "time_elapsed_min": null
         },
         {
          "OD_600": 0.13,
          "date": 20180912,
          "elapsed_time_min": 0,
          "idx": 2,
          "run_number": 1,
          "temperature": 37,
          "time_elapsed_min": null
         },
         {
          "OD_600": 0.135,
          "date": 20180912,
          "elapsed_time_min": 1,
          "idx": 2,
          "run_number": 2,
          "temperature": 37,
          "time_elapsed_min": null
         },
         {
          "OD_600": 0.16,
          "date": 20180912,
          "elapsed_time_min": 28,
          "idx": 2,
          "run_number": 1.5,
          "temperature": 37,
          "time_elapsed_min": null
         },
         {
          "OD_600": 0.205,
          "date": 20180912,
          "elapsed_time_min": 57,
          "idx": 2,
          "run_number": 1.5,
          "temperature": 37,
          "time_elapsed_min": null
         },
         {
          "OD_600": 0.2425,
          "date": 20180912,
          "elapsed_time_min": 87,
          "idx": 2,
          "run_number": 1.25,
          "temperature": 37,
          "time_elapsed_min": null
         },
         {
          "OD_600": 0.245,
          "date": 20180912,
          "elapsed_time_min": 88,
          "idx": 2,
          "run_number": 2,
          "temperature": 37,
          "time_elapsed_min": null
         },
         {
          "OD_600": 0.3433333333333333,
          "date": 20180912,
          "elapsed_time_min": 116,
          "idx": 2,
          "run_number": 1,
          "temperature": 37,
          "time_elapsed_min": null
         },
         {
          "OD_600": 0.3233333333333333,
          "date": 20180912,
          "elapsed_time_min": 117,
          "idx": 2,
          "run_number": 2,
          "temperature": 37,
          "time_elapsed_min": null
         },
         {
          "OD_600": 0.43,
          "date": 20180912,
          "elapsed_time_min": 147,
          "idx": 2,
          "run_number": 1.25,
          "temperature": 37,
          "time_elapsed_min": null
         },
         {
          "OD_600": 0.41,
          "date": 20180912,
          "elapsed_time_min": 148,
          "idx": 2,
          "run_number": 2,
          "temperature": 37,
          "time_elapsed_min": null
         },
         {
          "OD_600": 0.535,
          "date": 20180912,
          "elapsed_time_min": 176,
          "idx": 2,
          "run_number": 1.5,
          "temperature": 37,
          "time_elapsed_min": null
         },
         {
          "OD_600": 0.6033333333333334,
          "date": 20180912,
          "elapsed_time_min": 190,
          "idx": 2,
          "run_number": 1,
          "temperature": 37,
          "time_elapsed_min": null
         },
         {
          "OD_600": 0.5833333333333334,
          "date": 20180912,
          "elapsed_time_min": 191,
          "idx": 2,
          "run_number": 2,
          "temperature": 37,
          "time_elapsed_min": null
         },
         {
          "OD_600": 0.66,
          "date": 20180912,
          "elapsed_time_min": 207,
          "idx": 2,
          "run_number": 1,
          "temperature": 37,
          "time_elapsed_min": null
         },
         {
          "OD_600": 0.65,
          "date": 20180912,
          "elapsed_time_min": 208,
          "idx": 2,
          "run_number": 1.5,
          "temperature": 37,
          "time_elapsed_min": null
         },
         {
          "OD_600": 0.67,
          "date": 20180912,
          "elapsed_time_min": 209,
          "idx": 2,
          "run_number": 2,
          "temperature": 37,
          "time_elapsed_min": null
         },
         {
          "OD_600": 0.705,
          "date": 20180912,
          "elapsed_time_min": 221,
          "idx": 2,
          "run_number": 1.5,
          "temperature": 37,
          "time_elapsed_min": null
         },
         {
          "OD_600": 0.7124999999999999,
          "date": 20180912,
          "elapsed_time_min": 222,
          "idx": 2,
          "run_number": 1.5,
          "temperature": 37,
          "time_elapsed_min": null
         },
         {
          "OD_600": 0.79,
          "date": 20180912,
          "elapsed_time_min": 236,
          "idx": 2,
          "run_number": 1,
          "temperature": 37,
          "time_elapsed_min": null
         },
         {
          "OD_600": 0.776,
          "date": 20180912,
          "elapsed_time_min": 237,
          "idx": 2,
          "run_number": 1.6,
          "temperature": 37,
          "time_elapsed_min": null
         },
         {
          "OD_600": 0.84,
          "date": 20180912,
          "elapsed_time_min": 252,
          "idx": 2,
          "run_number": 1.5,
          "temperature": 37,
          "time_elapsed_min": null
         },
         {
          "OD_600": 0.835,
          "date": 20180912,
          "elapsed_time_min": 253,
          "idx": 2,
          "run_number": 1.5,
          "temperature": 37,
          "time_elapsed_min": null
         },
         {
          "OD_600": 0.12333333333333334,
          "date": 20180913,
          "elapsed_time_min": 0,
          "idx": 3,
          "run_number": 2,
          "temperature": 37,
          "time_elapsed_min": null
         },
         {
          "OD_600": 0.16166666666666668,
          "date": 20180913,
          "elapsed_time_min": 29,
          "idx": 3,
          "run_number": 1.5,
          "temperature": 37,
          "time_elapsed_min": null
         },
         {
          "OD_600": 0.205,
          "date": 20180913,
          "elapsed_time_min": 59,
          "idx": 3,
          "run_number": 1.5,
          "temperature": 37,
          "time_elapsed_min": null
         },
         {
          "OD_600": 0.2783333333333333,
          "date": 20180913,
          "elapsed_time_min": 90,
          "idx": 3,
          "run_number": 1.5,
          "temperature": 37,
          "time_elapsed_min": null
         },
         {
          "OD_600": 0.332,
          "date": 20180913,
          "elapsed_time_min": 120,
          "idx": 3,
          "run_number": 1.4,
          "temperature": 37,
          "time_elapsed_min": null
         },
         {
          "OD_600": 0.43,
          "date": 20180913,
          "elapsed_time_min": 121,
          "idx": 3,
          "run_number": 2,
          "temperature": 37,
          "time_elapsed_min": null
         },
         {
          "OD_600": 0.31,
          "date": 20180913,
          "elapsed_time_min": 136,
          "idx": 3,
          "run_number": 1,
          "temperature": 37,
          "time_elapsed_min": null
         },
         {
          "OD_600": 0.47,
          "date": 20180913,
          "elapsed_time_min": 137,
          "idx": 3,
          "run_number": 2,
          "temperature": 37,
          "time_elapsed_min": null
         },
         {
          "OD_600": 0.33,
          "date": 20180913,
          "elapsed_time_min": 150,
          "idx": 3,
          "run_number": 1,
          "temperature": 37,
          "time_elapsed_min": null
         },
         {
          "OD_600": 0.54,
          "date": 20180913,
          "elapsed_time_min": 151,
          "idx": 3,
          "run_number": 2,
          "temperature": 37,
          "time_elapsed_min": null
         },
         {
          "OD_600": 0.35666666666666663,
          "date": 20180913,
          "elapsed_time_min": 165,
          "idx": 3,
          "run_number": 1,
          "temperature": 37,
          "time_elapsed_min": null
         },
         {
          "OD_600": 0.5733333333333333,
          "date": 20180913,
          "elapsed_time_min": 166,
          "idx": 3,
          "run_number": 2,
          "temperature": 37,
          "time_elapsed_min": null
         },
         {
          "OD_600": 0.47,
          "date": 20180913,
          "elapsed_time_min": 180,
          "idx": 3,
          "run_number": 1.25,
          "temperature": 37,
          "time_elapsed_min": null
         },
         {
          "OD_600": 0.615,
          "date": 20180913,
          "elapsed_time_min": 181,
          "idx": 3,
          "run_number": 2,
          "temperature": 37,
          "time_elapsed_min": null
         },
         {
          "OD_600": 0.5483333333333333,
          "date": 20180913,
          "elapsed_time_min": 195,
          "idx": 3,
          "run_number": 1.5,
          "temperature": 37,
          "time_elapsed_min": null
         },
         {
          "OD_600": 0.45999999999999996,
          "date": 20180913,
          "elapsed_time_min": 210,
          "idx": 3,
          "run_number": 1,
          "temperature": 37,
          "time_elapsed_min": null
         },
         {
          "OD_600": 0.69,
          "date": 20180913,
          "elapsed_time_min": 211,
          "idx": 3,
          "run_number": 2,
          "temperature": 37,
          "time_elapsed_min": null
         },
         {
          "OD_600": 0.6383333333333333,
          "date": 20180913,
          "elapsed_time_min": 225,
          "idx": 3,
          "run_number": 1.5,
          "temperature": 37,
          "time_elapsed_min": null
         },
         {
          "OD_600": 0.6275,
          "date": 20180913,
          "elapsed_time_min": 240,
          "idx": 3,
          "run_number": 1.25,
          "temperature": 37,
          "time_elapsed_min": null
         },
         {
          "OD_600": 0.815,
          "date": 20180913,
          "elapsed_time_min": 241,
          "idx": 3,
          "run_number": 2,
          "temperature": 37,
          "time_elapsed_min": null
         },
         {
          "OD_600": 0.63,
          "date": 20180913,
          "elapsed_time_min": 256,
          "idx": 3,
          "run_number": 1,
          "temperature": 37,
          "time_elapsed_min": null
         },
         {
          "OD_600": 0.8066666666666666,
          "date": 20180913,
          "elapsed_time_min": 257,
          "idx": 3,
          "run_number": 1.6666666666666667,
          "temperature": 37,
          "time_elapsed_min": null
         },
         {
          "OD_600": 0.9,
          "date": 20180913,
          "elapsed_time_min": 258,
          "idx": 3,
          "run_number": 2,
          "temperature": 37,
          "time_elapsed_min": null
         },
         {
          "OD_600": 0.81,
          "date": 20180913,
          "elapsed_time_min": 270,
          "idx": 3,
          "run_number": 1.5,
          "temperature": 37,
          "time_elapsed_min": null
         },
         {
          "OD_600": 0.825,
          "date": 20180913,
          "elapsed_time_min": 271,
          "idx": 3,
          "run_number": 1.5,
          "temperature": 37,
          "time_elapsed_min": null
         },
         {
          "OD_600": 0.825,
          "date": 20180913,
          "elapsed_time_min": 272,
          "idx": 3,
          "run_number": 1.5,
          "temperature": 37,
          "time_elapsed_min": null
         },
         {
          "OD_600": 0.1366666666666667,
          "date": 20180917,
          "elapsed_time_min": 0,
          "idx": 4,
          "run_number": 1.5,
          "temperature": 37,
          "time_elapsed_min": null
         },
         {
          "OD_600": 0.19333333333333333,
          "date": 20180917,
          "elapsed_time_min": 31,
          "idx": 4,
          "run_number": 1.5,
          "temperature": 37,
          "time_elapsed_min": null
         },
         {
          "OD_600": 0.26333333333333336,
          "date": 20180917,
          "elapsed_time_min": 61,
          "idx": 4,
          "run_number": 1.5,
          "temperature": 37,
          "time_elapsed_min": null
         },
         {
          "OD_600": 0.34,
          "date": 20180917,
          "elapsed_time_min": 91,
          "idx": 4,
          "run_number": 1,
          "temperature": 37,
          "time_elapsed_min": null
         },
         {
          "OD_600": 0.39999999999999997,
          "date": 20180917,
          "elapsed_time_min": 92,
          "idx": 4,
          "run_number": 2,
          "temperature": 37,
          "time_elapsed_min": null
         },
         {
          "OD_600": 0.3833333333333333,
          "date": 20180917,
          "elapsed_time_min": 106,
          "idx": 4,
          "run_number": 1,
          "temperature": 37,
          "time_elapsed_min": null
         },
         {
          "OD_600": 0.44333333333333336,
          "date": 20180917,
          "elapsed_time_min": 107,
          "idx": 4,
          "run_number": 2,
          "temperature": 37,
          "time_elapsed_min": null
         },
         {
          "OD_600": 0.42,
          "date": 20180917,
          "elapsed_time_min": 126,
          "idx": 4,
          "run_number": 1,
          "temperature": 37,
          "time_elapsed_min": null
         },
         {
          "OD_600": 0.49,
          "date": 20180917,
          "elapsed_time_min": 127,
          "idx": 4,
          "run_number": 2,
          "temperature": 37,
          "time_elapsed_min": null
         },
         {
          "OD_600": 0.51,
          "date": 20180917,
          "elapsed_time_min": 148,
          "idx": 4,
          "run_number": 1,
          "temperature": 37,
          "time_elapsed_min": null
         },
         {
          "OD_600": 0.57,
          "date": 20180917,
          "elapsed_time_min": 149,
          "idx": 4,
          "run_number": 2,
          "temperature": 37,
          "time_elapsed_min": null
         },
         {
          "OD_600": 0.6116666666666667,
          "date": 20180917,
          "elapsed_time_min": 165,
          "idx": 4,
          "run_number": 1.5,
          "temperature": 37,
          "time_elapsed_min": null
         },
         {
          "OD_600": 0.6416666666666666,
          "date": 20180917,
          "elapsed_time_min": 182,
          "idx": 4,
          "run_number": 1.5,
          "temperature": 37,
          "time_elapsed_min": null
         },
         {
          "OD_600": 0.6875,
          "date": 20180917,
          "elapsed_time_min": 196,
          "idx": 4,
          "run_number": 1.25,
          "temperature": 37,
          "time_elapsed_min": null
         },
         {
          "OD_600": 0.74,
          "date": 20180917,
          "elapsed_time_min": 197,
          "idx": 4,
          "run_number": 2,
          "temperature": 37,
          "time_elapsed_min": null
         },
         {
          "OD_600": 0.745,
          "date": 20180917,
          "elapsed_time_min": 211,
          "idx": 4,
          "run_number": 1.5,
          "temperature": 37,
          "time_elapsed_min": null
         },
         {
          "OD_600": 0.7399999999999999,
          "date": 20180917,
          "elapsed_time_min": 216,
          "idx": 4,
          "run_number": 1,
          "temperature": 37,
          "time_elapsed_min": null
         },
         {
          "OD_600": 0.8166666666666665,
          "date": 20180917,
          "elapsed_time_min": 217,
          "idx": 4,
          "run_number": 2,
          "temperature": 37,
          "time_elapsed_min": null
         },
         {
          "OD_600": 0.8233333333333334,
          "date": 20180917,
          "elapsed_time_min": 232,
          "idx": 4,
          "run_number": 1.5,
          "temperature": 37,
          "time_elapsed_min": null
         },
         {
          "OD_600": 0.11,
          "date": 20180918,
          "elapsed_time_min": 0,
          "idx": 5,
          "run_number": 1,
          "temperature": 37,
          "time_elapsed_min": null
         },
         {
          "OD_600": 0.11,
          "date": 20180918,
          "elapsed_time_min": 30,
          "idx": 5,
          "run_number": 1,
          "temperature": 37,
          "time_elapsed_min": null
         },
         {
          "OD_600": 0.11333333333333333,
          "date": 20180918,
          "elapsed_time_min": 57,
          "idx": 5,
          "run_number": 1,
          "temperature": 37,
          "time_elapsed_min": null
         },
         {
          "OD_600": 0.125,
          "date": 20180918,
          "elapsed_time_min": 87,
          "idx": 5,
          "run_number": 1.5,
          "temperature": 37,
          "time_elapsed_min": null
         },
         {
          "OD_600": 0.14333333333333334,
          "date": 20180918,
          "elapsed_time_min": 121,
          "idx": 5,
          "run_number": 1,
          "temperature": 37,
          "time_elapsed_min": null
         },
         {
          "OD_600": 0.12666666666666668,
          "date": 20180918,
          "elapsed_time_min": 122,
          "idx": 5,
          "run_number": 2,
          "temperature": 37,
          "time_elapsed_min": null
         },
         {
          "OD_600": 0.195,
          "date": 20180918,
          "elapsed_time_min": 148,
          "idx": 5,
          "run_number": 1.25,
          "temperature": 37,
          "time_elapsed_min": null
         },
         {
          "OD_600": 0.175,
          "date": 20180918,
          "elapsed_time_min": 149,
          "idx": 5,
          "run_number": 2,
          "temperature": 37,
          "time_elapsed_min": null
         },
         {
          "OD_600": 0.20166666666666666,
          "date": 20180918,
          "elapsed_time_min": 176,
          "idx": 5,
          "run_number": 1.5,
          "temperature": 37,
          "time_elapsed_min": null
         },
         {
          "OD_600": 0.17666666666666667,
          "date": 20180918,
          "elapsed_time_min": 216,
          "idx": 5,
          "run_number": 1,
          "temperature": 37,
          "time_elapsed_min": null
         },
         {
          "OD_600": 0.23666666666666666,
          "date": 20180918,
          "elapsed_time_min": 217,
          "idx": 5,
          "run_number": 2,
          "temperature": 37,
          "time_elapsed_min": null
         },
         {
          "OD_600": 0.29000000000000004,
          "date": 20180918,
          "elapsed_time_min": 237,
          "idx": 5,
          "run_number": 1,
          "temperature": 37,
          "time_elapsed_min": null
         },
         {
          "OD_600": 0.26666666666666666,
          "date": 20180918,
          "elapsed_time_min": 238,
          "idx": 5,
          "run_number": 2,
          "temperature": 37,
          "time_elapsed_min": null
         },
         {
          "OD_600": 0.33499999999999996,
          "date": 20180918,
          "elapsed_time_min": 266,
          "idx": 5,
          "run_number": 1.5,
          "temperature": 37,
          "time_elapsed_min": null
         },
         {
          "OD_600": 0.41333333333333333,
          "date": 20180918,
          "elapsed_time_min": 298,
          "idx": 5,
          "run_number": 1,
          "temperature": 37,
          "time_elapsed_min": null
         },
         {
          "OD_600": 0.3499999999999999,
          "date": 20180918,
          "elapsed_time_min": 299,
          "idx": 5,
          "run_number": 2,
          "temperature": 37,
          "time_elapsed_min": null
         },
         {
          "OD_600": 0.4333333333333333,
          "date": 20180918,
          "elapsed_time_min": 327,
          "idx": 5,
          "run_number": 1.5,
          "temperature": 37,
          "time_elapsed_min": null
         },
         {
          "OD_600": 0.4716666666666667,
          "date": 20180918,
          "elapsed_time_min": 356,
          "idx": 5,
          "run_number": 1.5,
          "temperature": 37,
          "time_elapsed_min": null
         },
         {
          "OD_600": 0.5599999999999999,
          "date": 20180918,
          "elapsed_time_min": 398,
          "idx": 5,
          "run_number": 1,
          "temperature": 37,
          "time_elapsed_min": null
         },
         {
          "OD_600": 0.5766666666666667,
          "date": 20180918,
          "elapsed_time_min": 399,
          "idx": 5,
          "run_number": 2,
          "temperature": 37,
          "time_elapsed_min": null
         },
         {
          "OD_600": 0.5883333333333333,
          "date": 20180918,
          "elapsed_time_min": 440,
          "idx": 5,
          "run_number": 1.5,
          "temperature": 37,
          "time_elapsed_min": null
         },
         {
          "OD_600": 0.6433333333333334,
          "date": 20180918,
          "elapsed_time_min": 451,
          "idx": 5,
          "run_number": 1.5,
          "temperature": 37,
          "time_elapsed_min": null
         },
         {
          "OD_600": 0.6900000000000001,
          "date": 20180918,
          "elapsed_time_min": 478,
          "idx": 5,
          "run_number": 1.5,
          "temperature": 37,
          "time_elapsed_min": null
         },
         {
          "OD_600": 0.73,
          "date": 20180918,
          "elapsed_time_min": 507,
          "idx": 5,
          "run_number": 1.5,
          "temperature": 37,
          "time_elapsed_min": null
         },
         {
          "OD_600": 0.8116666666666666,
          "date": 20180918,
          "elapsed_time_min": 537,
          "idx": 5,
          "run_number": 1.5,
          "temperature": 37,
          "time_elapsed_min": null
         }
        ]
       },
       "encoding": {
        "color": {
         "field": "idx",
         "type": "nominal"
        },
        "x": {
         "axis": {
          "title": "time [min]"
         },
         "field": "elapsed_time_min",
         "type": "quantitative"
        },
        "y": {
         "axis": {
          "title": "optical density at 600nm"
         },
         "field": "OD_600",
         "type": "quantitative"
        }
       },
       "height": 400,
       "mark": {
        "filled": true,
        "type": "point"
       },
       "selection": {
        "selector001": {
         "bind": "scales",
         "encodings": [
          "x",
          "y"
         ],
         "mark": {
          "fill": "#333",
          "fillOpacity": 0.125,
          "stroke": "white"
         },
         "on": "[mousedown, window:mouseup] > window:mousemove!",
         "resolve": "global",
         "translate": "[mousedown, window:mouseup] > window:mousemove!",
         "type": "interval",
         "zoom": "wheel!"
        }
       },
       "width": 600
      },
      "image/png": "[encoded data removed]",
      "text/plain": [
       "<VegaLite 2 object>\n",
       "\n",
       "If you see this message, it means the renderer has not been properly enabled\n",
       "for the frontend that you are using. For more information, see\n",
       "https://altair-viz.github.io/user_guide/troubleshooting.html\n"
      ]
     },
     "execution_count": 4,
     "metadata": {},
     "output_type": "execute_result"
    }
   ],
   "source": [
    "# Define the file pattern for growth experiments of interest. \n",
    "growth_files = glob.glob('201809*/*.csv')\n",
    "\n",
    "# Concatenate all into a single data frame. \n",
    "data = pd.concat([pd.read_csv(g) for g in growth_files], sort=False)\n",
    "data = data[(data['OD_600'] > 0.1) & (data['run_number'] != 3) & (data['date'] != 20180908)].copy()\n",
    "\n",
    "\n",
    "# Assign identifiers to each unique run. \n",
    "run_id = 1\n",
    "for g, d in data.groupby(['date']):\n",
    "    data.loc[(data['date']==g),  'idx'] = run_id\n",
    "    run_id += 1\n",
    "data = pd.DataFrame(data.groupby(['date', 'elapsed_time_min']).mean()).reset_index()\n",
    "dfs = []\n",
    "for g, d in data.groupby(['date']):\n",
    "    d['elapsed_time_min'] = d['elapsed_time_min'].values - d.iloc[0]['elapsed_time_min']\n",
    "    dfs.append(d)\n",
    "data = pd.concat(dfs, sort=False)\n",
    "data['idx'] = data['idx'].astype(int)\n",
    "\n",
    "\n",
    "\n",
    "\n",
    "# Plot all of the data together. \n",
    "points = alt.Chart(data, width=600, height=400).mark_point(filled=True).encode(\n",
    "        x=alt.X('elapsed_time_min:Q', axis={'title':'time [min]'}),\n",
    "        y=alt.Y('OD_600:Q', axis={'title':'optical density at 600nm'}), \n",
    "        color='idx:N', )\n",
    "points.interactive()"
   ]
  },
  {
   "cell_type": "markdown",
   "metadata": {},
   "source": [
    "It more or less looks like all traces are linear. Using this total pool of data, we can set a hierarchical model. Let there be some Each curve will have it's own growth rate drawn from a distribution for that day, which is drawn from a hyper distribution itself. "
   ]
  },
  {
   "cell_type": "code",
   "execution_count": 7,
   "metadata": {},
   "outputs": [
    {
     "name": "stdout",
     "output_type": "stream",
     "text": [
      "Using pystan.stanc compiler..\n",
      "Failed to parse Stan model 'anon_model_7502f22c16eff8fa9f49d8553cec6e99'. Error message:\n",
      "SYNTAX ERROR, MESSAGE(S) FROM PARSER:\n",
      "\n",
      "  error in 'unknown file name' at line 6, column 5\n",
      "  -------------------------------------------------\n",
      "     4:     int<lower=1> N;\n",
      "     5:     int<lower=1, upper=M> media_idx[N]\n",
      "     6:     int<lower=1, upper=J> run_idx[N]; // ID vector \n",
      "            ^\n",
      "     7:     real<lower=0> time_min[N]; \n",
      "  -------------------------------------------------\n",
      "\n",
      "PARSER EXPECTED: \";\"\n",
      "\n"
     ]
    }
   ],
   "source": [
    "%%stan -v growth_model_code\n",
    "data {\n",
    "    int<lower=1> J;\n",
    "    int<lower=1> N;\n",
    "    int<lower=1, upper=J> idx[N]; // ID vector \n",
    "    real<lower=0> time_min[N]; \n",
    "    real<lower=0> absorbance[N];\n",
    "}\n",
    "\n",
    "parameters {\n",
    "    // Hyperparameters\n",
    "    real<lower=0> lambda_mu; \n",
    "    real<lower=0> lambda_sig;\n",
    "    \n",
    "    // Low-level parameters\n",
    "    real<lower=0> lam[J]; // Growth rate in 1/min\n",
    "    real<lower=0> A0[J]; // Initial absorbance\n",
    "    real<lower=0> sigma[J]; // Homoscedastic error\n",
    "    \n",
    "}\n",
    "\n",
    "model { \n",
    "    vector[N] mu; \n",
    "   // Prior definition\n",
    "   lambda_mu ~ normal(0, 100);\n",
    "   lambda_sig ~ normal(0, 1); \n",
    "    \n",
    "   lam ~ normal(lambda_mu, lambda_sig);\n",
    "   A0 ~ normal(0, 1);\n",
    "   sigma ~ normal(0, 1); \n",
    "    \n",
    "  // Evaluate the likelihood \n",
    "  for (i in 1:N) {\n",
    "      mu[i] = A0[idx[i]] * exp(time_min[i] / lam[idx[i]]); \n",
    "      absorbance[i] ~ normal(mu[i], sigma[idx[i]]);\n",
    "  }\n",
    "}\n"
   ]
  },
  {
   "cell_type": "code",
   "execution_count": 8,
   "metadata": {},
   "outputs": [
    {
     "name": "stderr",
     "output_type": "stream",
     "text": [
      "INFO:pystan:COMPILING THE C++ CODE FOR MODEL anon_model_d16d1aafb79b932beb39de7e135532d3 NOW.\n"
     ]
    },
    {
     "name": "stdout",
     "output_type": "stream",
     "text": [
      "In file included from /var/folders/2q/lvh2zsws3lxckq8xtkn_84z80000gn/T/tmptey7h_q9/stanfit4anon_model_d16d1aafb79b932beb39de7e135532d3_4723503240447984139.cpp:641:\n",
      "In file included from /anaconda3/lib/python3.6/site-packages/numpy/core/include/numpy/arrayobject.h:4:\n",
      "In file included from /anaconda3/lib/python3.6/site-packages/numpy/core/include/numpy/ndarrayobject.h:18:\n",
      "In file included from /anaconda3/lib/python3.6/site-packages/numpy/core/include/numpy/ndarraytypes.h:1823:\n",
      "/anaconda3/lib/python3.6/site-packages/numpy/core/include/numpy/npy_1_7_deprecated_api.h:15:2: warning: \"Using deprecated NumPy API, disable it by \"          \"#defining NPY_NO_DEPRECATED_API NPY_1_7_API_VERSION\" [-W#warnings]\n",
      "#warning \"Using deprecated NumPy API, disable it by \" \\\n",
      " ^\n",
      "/var/folders/2q/lvh2zsws3lxckq8xtkn_84z80000gn/T/tmptey7h_q9/stanfit4anon_model_d16d1aafb79b932beb39de7e135532d3_4723503240447984139.cpp:9215:30: warning: comparison of integers of different signs: 'Py_ssize_t' (aka 'long') and 'std::__1::vector<std::__1::basic_string<char>, std::__1::allocator<std::__1::basic_string<char> > >::size_type' (aka 'unsigned long') [-Wsign-compare]\n",
      "    __pyx_t_12 = ((__pyx_t_9 != __pyx_v_fitptr->param_names_oi().size()) != 0);\n",
      "                   ~~~~~~~~~ ^  ~~~~~~~~~~~~~~~~~~~~~~~~~~~~~~~~~~~~~~~\n",
      "/var/folders/2q/lvh2zsws3lxckq8xtkn_84z80000gn/T/tmptey7h_q9/stanfit4anon_model_d16d1aafb79b932beb39de7e135532d3_4723503240447984139.cpp:25445:52: warning: code will never be executed [-Wunreachable-code]\n",
      "        } else if (PY_VERSION_HEX >= 0x030700A0 && flag == (METH_FASTCALL | METH_KEYWORDS)) {\n",
      "                                                   ^~~~\n",
      "/var/folders/2q/lvh2zsws3lxckq8xtkn_84z80000gn/T/tmptey7h_q9/stanfit4anon_model_d16d1aafb79b932beb39de7e135532d3_4723503240447984139.cpp:25445:38: note: silence by adding parentheses to mark code as explicitly dead\n",
      "        } else if (PY_VERSION_HEX >= 0x030700A0 && flag == (METH_FASTCALL | METH_KEYWORDS)) {\n",
      "                                     ^\n",
      "                                     /* DISABLES CODE */ ( )\n",
      "In file included from /var/folders/2q/lvh2zsws3lxckq8xtkn_84z80000gn/T/tmptey7h_q9/stanfit4anon_model_d16d1aafb79b932beb39de7e135532d3_4723503240447984139.cpp:645:\n",
      "In file included from /anaconda3/lib/python3.6/site-packages/pystan/stan_fit.hpp:22:\n",
      "In file included from /anaconda3/lib/python3.6/site-packages/pystan/stan/src/stan/services/diagnose/diagnose.hpp:10:\n",
      "In file included from /anaconda3/lib/python3.6/site-packages/pystan/stan/src/stan/model/test_gradients.hpp:7:\n",
      "In file included from /anaconda3/lib/python3.6/site-packages/pystan/stan/src/stan/model/log_prob_grad.hpp:4:\n",
      "In file included from /anaconda3/lib/python3.6/site-packages/pystan/stan/lib/stan_math/stan/math/rev/mat.hpp:12:\n",
      "In file included from /anaconda3/lib/python3.6/site-packages/pystan/stan/lib/stan_math/stan/math/prim/mat.hpp:298:\n",
      "In file included from /anaconda3/lib/python3.6/site-packages/pystan/stan/lib/stan_math/stan/math/prim/arr.hpp:38:\n",
      "In file included from /anaconda3/lib/python3.6/site-packages/pystan/stan/lib/stan_math/stan/math/prim/arr/functor/integrate_ode_rk45.hpp:17:\n",
      "In file included from /anaconda3/lib/python3.6/site-packages/pystan/stan/lib/stan_math/lib/boost_1.64.0/boost/numeric/odeint.hpp:61:\n",
      "In file included from /anaconda3/lib/python3.6/site-packages/pystan/stan/lib/stan_math/lib/boost_1.64.0/boost/numeric/odeint/util/multi_array_adaption.hpp:29:\n",
      "In file included from /anaconda3/lib/python3.6/site-packages/pystan/stan/lib/stan_math/lib/boost_1.64.0/boost/multi_array.hpp:21:\n",
      "In file included from /anaconda3/lib/python3.6/site-packages/pystan/stan/lib/stan_math/lib/boost_1.64.0/boost/multi_array/base.hpp:28:\n",
      "/anaconda3/lib/python3.6/site-packages/pystan/stan/lib/stan_math/lib/boost_1.64.0/boost/multi_array/concept_checks.hpp:42:43: warning: unused typedef 'index_range' [-Wunused-local-typedef]\n",
      "      typedef typename Array::index_range index_range;\n",
      "                                          ^\n",
      "/anaconda3/lib/python3.6/site-packages/pystan/stan/lib/stan_math/lib/boost_1.64.0/boost/multi_array/concept_checks.hpp:43:37: warning: unused typedef 'index' [-Wunused-local-typedef]\n",
      "      typedef typename Array::index index;\n",
      "                                    ^\n",
      "/anaconda3/lib/python3.6/site-packages/pystan/stan/lib/stan_math/lib/boost_1.64.0/boost/multi_array/concept_checks.hpp:53:43: warning: unused typedef 'index_range' [-Wunused-local-typedef]\n",
      "      typedef typename Array::index_range index_range;\n",
      "                                          ^\n",
      "/anaconda3/lib/python3.6/site-packages/pystan/stan/lib/stan_math/lib/boost_1.64.0/boost/multi_array/concept_checks.hpp:54:37: warning: unused typedef 'index' [-Wunused-local-typedef]\n",
      "      typedef typename Array::index index;\n",
      "                                    ^\n",
      "7 warnings generated.\n"
     ]
    }
   ],
   "source": [
    "growth_model = pystan.StanModel(model_code=growth_model_code.model_code)"
   ]
  },
  {
   "cell_type": "code",
   "execution_count": 28,
   "metadata": {},
   "outputs": [],
   "source": [
    "# Assemble teh data dictionary and sample!\n",
    "data_dict = dict(J=len(data['idx'].unique()), N=len(data), idx=data['idx'],\n",
    "                time_min=data['elapsed_time_min'], absorbance=data['OD_600'])\n",
    "samples = growth_model.sampling(data_dict, iter=8000, chains=4)"
   ]
  },
  {
   "cell_type": "code",
   "execution_count": 29,
   "metadata": {},
   "outputs": [
    {
     "data": {
      "image/png": "[encoded data removed]",
      "text/plain": [
       "<Figure size 432x288 with 10 Axes>"
      ]
     },
     "metadata": {},
     "output_type": "display_data"
    }
   ],
   "source": [
    "%matplotlib inline\n",
    "_ = samples.plot()"
   ]
  },
  {
   "cell_type": "code",
   "execution_count": 27,
   "metadata": {},
   "outputs": [
    {
     "data": {
      "text/plain": [
       "Inference for Stan model: anon_model_ae7815d3090743092354ccc35324b674.\n",
       "2 chains, each with iter=5000; warmup=2500; thin=1; \n",
       "post-warmup draws per chain=2500, total post-warmup draws=5000.\n",
       "\n",
       "             mean se_mean     sd   2.5%    25%    50%    75%  97.5%  n_eff   Rhat\n",
       "lambda_mu  142.34    0.13   3.42 135.78 140.23 141.97 144.38 149.94    645   1.01\n",
       "lambda_sig    0.9    0.18   0.63   0.22   0.36   0.76    1.3   2.39     12   1.18\n",
       "lam[0]      141.9    0.11   3.58 134.92 139.86 141.75 143.87 149.93   1053   1.01\n",
       "lam[1]     142.28    0.13   3.32 135.88 140.18 141.97 144.21 149.71    654   1.01\n",
       "lam[2]     142.54    0.14    3.6 135.59 140.34 142.08 144.67 150.37    620   1.01\n",
       "lam[3]     142.64    0.15    3.6 135.82 140.35 142.16 144.82 150.64    557   1.02\n",
       "A0[0]         0.2  2.1e-4 6.0e-3   0.19    0.2    0.2    0.2   0.21    814    1.0\n",
       "A0[1]        0.15  1.3e-4 5.2e-3   0.14   0.14   0.15   0.15   0.16   1597    1.0\n",
       "A0[2]        0.13  1.6e-4 6.7e-3   0.12   0.13   0.13   0.14   0.15   1659    1.0\n",
       "A0[3]        0.18  1.1e-3 7.0e-3   0.16   0.17   0.18   0.18   0.19     40   1.05\n",
       "sigma[0]     0.03  1.5e-4 6.3e-3   0.02   0.03   0.03   0.04   0.05   1662   1.01\n",
       "sigma[1]     0.02  6.3e-5 3.7e-3   0.02   0.02   0.02   0.03   0.03   3413    1.0\n",
       "sigma[2]     0.09  2.8e-3   0.01   0.07   0.08   0.09    0.1   0.12     23   1.07\n",
       "sigma[3]     0.05  1.4e-3 8.4e-3   0.03   0.04   0.04   0.05   0.07     36   1.04\n",
       "lp__        228.5    1.47   4.16 220.26 225.62 228.46 231.68 235.89      8   1.25\n",
       "\n",
       "Samples were drawn using NUTS at Tue Sep 18 10:31:24 2018.\n",
       "For each parameter, n_eff is a crude measure of effective sample size,\n",
       "and Rhat is the potential scale reduction factor on split chains (at \n",
       "convergence, Rhat=1)."
      ]
     },
     "execution_count": 27,
     "metadata": {},
     "output_type": "execute_result"
    }
   ],
   "source": [
    "samples"
   ]
  },
  {
   "cell_type": "code",
   "execution_count": 235,
   "metadata": {},
   "outputs": [],
   "source": [
    "strain_data = pd.concat([pd.read_csv(f) for f in glob.glob('20180917*/*.csv')])\n",
    "avg_data = pd.DataFrame(strain_data.groupby(['run_number', 'elapsed_time_min']).mean()).reset_index()\n",
    "dfs = []\n",
    "for g, d in avg_data.groupby(['run_number']):\n",
    "    d = d.copy()\n",
    "    d['elapsed_time_min'] -= d.iloc[0]['elapsed_time_min']\n",
    "    dfs.append(d)\n",
    "avg_data = pd.concat(dfs)"
   ]
  },
  {
   "cell_type": "code",
   "execution_count": 236,
   "metadata": {},
   "outputs": [
    {
     "data": {
      "application/vnd.vegalite.v2+json": {
       "$schema": "https://vega.github.io/schema/vega-lite/v2.6.0.json",
       "config": {
        "view": {
         "height": 300,
         "width": 400
        }
       },
       "data": {
        "name": "data-942197a8ee9aa14ea0b18cf14626d3d1"
       },
       "datasets": {
        "data-942197a8ee9aa14ea0b18cf14626d3d1": [
         {
          "OD_600": 0.07,
          "date": 20180917,
          "elapsed_time_min": 0,
          "run_number": 1,
          "temperature": 37
         },
         {
          "OD_600": 0.1366666666666667,
          "date": 20180917,
          "elapsed_time_min": 35,
          "run_number": 1,
          "temperature": 37
         },
         {
          "OD_600": 0.18000000000000002,
          "date": 20180917,
          "elapsed_time_min": 66,
          "run_number": 1,
          "temperature": 37
         },
         {
          "OD_600": 0.24333333333333332,
          "date": 20180917,
          "elapsed_time_min": 96,
          "run_number": 1,
          "temperature": 37
         },
         {
          "OD_600": 0.34,
          "date": 20180917,
          "elapsed_time_min": 126,
          "run_number": 1,
          "temperature": 37
         },
         {
          "OD_600": 0.3833333333333333,
          "date": 20180917,
          "elapsed_time_min": 141,
          "run_number": 1,
          "temperature": 37
         },
         {
          "OD_600": 0.42,
          "date": 20180917,
          "elapsed_time_min": 161,
          "run_number": 1,
          "temperature": 37
         },
         {
          "OD_600": 0.51,
          "date": 20180917,
          "elapsed_time_min": 183,
          "run_number": 1,
          "temperature": 37
         },
         {
          "OD_600": 0.5800000000000001,
          "date": 20180917,
          "elapsed_time_min": 200,
          "run_number": 1,
          "temperature": 37
         },
         {
          "OD_600": 0.6,
          "date": 20180917,
          "elapsed_time_min": 217,
          "run_number": 1,
          "temperature": 37
         },
         {
          "OD_600": 0.68,
          "date": 20180917,
          "elapsed_time_min": 231,
          "run_number": 1,
          "temperature": 37
         },
         {
          "OD_600": 0.7066666666666667,
          "date": 20180917,
          "elapsed_time_min": 246,
          "run_number": 1,
          "temperature": 37
         },
         {
          "OD_600": 0.7399999999999999,
          "date": 20180917,
          "elapsed_time_min": 251,
          "run_number": 1,
          "temperature": 37
         },
         {
          "OD_600": 0.8000000000000002,
          "date": 20180917,
          "elapsed_time_min": 267,
          "run_number": 1,
          "temperature": 37
         },
         {
          "OD_600": 0.06666666666666667,
          "date": 20180917,
          "elapsed_time_min": 0,
          "run_number": 2,
          "temperature": 37
         },
         {
          "OD_600": 0.1366666666666667,
          "date": 20180917,
          "elapsed_time_min": 35,
          "run_number": 2,
          "temperature": 37
         },
         {
          "OD_600": 0.20666666666666667,
          "date": 20180917,
          "elapsed_time_min": 66,
          "run_number": 2,
          "temperature": 37
         },
         {
          "OD_600": 0.2833333333333334,
          "date": 20180917,
          "elapsed_time_min": 96,
          "run_number": 2,
          "temperature": 37
         },
         {
          "OD_600": 0.39999999999999997,
          "date": 20180917,
          "elapsed_time_min": 127,
          "run_number": 2,
          "temperature": 37
         },
         {
          "OD_600": 0.44333333333333336,
          "date": 20180917,
          "elapsed_time_min": 142,
          "run_number": 2,
          "temperature": 37
         },
         {
          "OD_600": 0.49,
          "date": 20180917,
          "elapsed_time_min": 162,
          "run_number": 2,
          "temperature": 37
         },
         {
          "OD_600": 0.57,
          "date": 20180917,
          "elapsed_time_min": 184,
          "run_number": 2,
          "temperature": 37
         },
         {
          "OD_600": 0.6433333333333334,
          "date": 20180917,
          "elapsed_time_min": 200,
          "run_number": 2,
          "temperature": 37
         },
         {
          "OD_600": 0.6833333333333332,
          "date": 20180917,
          "elapsed_time_min": 217,
          "run_number": 2,
          "temperature": 37
         },
         {
          "OD_600": 0.71,
          "date": 20180917,
          "elapsed_time_min": 231,
          "run_number": 2,
          "temperature": 37
         },
         {
          "OD_600": 0.74,
          "date": 20180917,
          "elapsed_time_min": 232,
          "run_number": 2,
          "temperature": 37
         },
         {
          "OD_600": 0.7833333333333333,
          "date": 20180917,
          "elapsed_time_min": 246,
          "run_number": 2,
          "temperature": 37
         },
         {
          "OD_600": 0.8166666666666665,
          "date": 20180917,
          "elapsed_time_min": 252,
          "run_number": 2,
          "temperature": 37
         },
         {
          "OD_600": 0.8466666666666667,
          "date": 20180917,
          "elapsed_time_min": 267,
          "run_number": 2,
          "temperature": 37
         }
        ]
       },
       "encoding": {
        "color": {
         "field": "run_number",
         "type": "nominal"
        },
        "x": {
         "field": "elapsed_time_min",
         "type": "quantitative"
        },
        "y": {
         "field": "OD_600",
         "type": "quantitative"
        }
       },
       "mark": "point"
      },
      "image/png": "[encoded data removed]",
      "text/plain": [
       "<VegaLite 2 object>\n",
       "\n",
       "If you see this message, it means the renderer has not been properly enabled\n",
       "for the frontend that you are using. For more information, see\n",
       "https://altair-viz.github.io/user_guide/troubleshooting.html\n"
      ]
     },
     "execution_count": 236,
     "metadata": {},
     "output_type": "execute_result"
    }
   ],
   "source": [
    "alt.Chart(avg_data).mark_point().encode(\n",
    "    x='elapsed_time_min:Q',\n",
    "    y='OD_600:Q',\n",
    "    color='run_number:N')"
   ]
  },
  {
   "cell_type": "code",
   "execution_count": 237,
   "metadata": {},
   "outputs": [
    {
     "name": "stderr",
     "output_type": "stream",
     "text": [
      "WARNING:pystan:1093 of 16000 iterations ended with a divergence (6.83125%).\n",
      "WARNING:pystan:Try running with adapt_delta larger than 0.8 to remove the divergences.\n"
     ]
    }
   ],
   "source": [
    "# Assemble teh data dictionary and sample!\n",
    "data_dict = dict(J=len(avg_data['run_number'].unique()), M=1, N=len(avg_data), run_idx=avg_data['run_number'].values.astype(int),\n",
    "                media_idx=np.ones(len(avg_data)).astype(int), time_min=avg_data['elapsed_time_min'], absorbance=avg_data['OD_600'])\n",
    "samples = model.sampling(data_dict, iter=8000, chains=4)"
   ]
  },
  {
   "cell_type": "code",
   "execution_count": 43,
   "metadata": {},
   "outputs": [
    {
     "data": {
      "text/plain": [
       "Inference for Stan model: anon_model_ae7815d3090743092354ccc35324b674.\n",
       "4 chains, each with iter=8000; warmup=4000; thin=1; \n",
       "post-warmup draws per chain=4000, total post-warmup draws=16000.\n",
       "\n",
       "             mean se_mean     sd   2.5%    25%    50%    75%  97.5%  n_eff   Rhat\n",
       "lambda_mu  150.61    0.17   6.38 138.75 146.18 150.51 154.43 164.07   1470    1.0\n",
       "lambda_sig   0.96    0.06   0.56   0.16   0.54   0.85   1.28   2.33     89   1.04\n",
       "lam[0]     150.57    0.16   6.36 138.76 146.15 150.47 154.37 164.08   1672    1.0\n",
       "lam[1]     150.66    0.17   6.38  138.8 146.23 150.59 154.44 164.17   1486    1.0\n",
       "A0[0]        0.14  2.2e-4 9.1e-3   0.12   0.13   0.14   0.15   0.16   1743    1.0\n",
       "A0[1]        0.16  2.2e-4   0.01   0.14   0.15   0.16   0.16   0.18   2073    1.0\n",
       "sigma[0]     0.04  5.0e-4 8.9e-3   0.03   0.03   0.04   0.04   0.06    319   1.01\n",
       "sigma[1]     0.05  3.3e-4   0.01   0.03   0.04   0.05   0.06   0.08   1191    1.0\n",
       "lp__        79.86    0.21   2.42  74.34  78.42  80.13   81.6  83.82    134   1.03\n",
       "\n",
       "Samples were drawn using NUTS at Tue Sep 18 10:43:15 2018.\n",
       "For each parameter, n_eff is a crude measure of effective sample size,\n",
       "and Rhat is the potential scale reduction factor on split chains (at \n",
       "convergence, Rhat=1)."
      ]
     },
     "execution_count": 43,
     "metadata": {},
     "output_type": "execute_result"
    }
   ],
   "source": [
    "samples"
   ]
  },
  {
   "cell_type": "code",
   "execution_count": 5,
   "metadata": {},
   "outputs": [],
   "source": [
    "strain_data = pd.concat([pd.read_csv(f) for f in glob.glob('20180920*/*.csv')])\n",
    "# strain_data = strain_data[strain_data['OD_600'] > 0.1]\n",
    "avg_data = pd.DataFrame(strain_data.groupby(['run_number', 'time_elapsed_min', 'growth_medium']).mean()).reset_index()\n",
    "dfs = []\n",
    "for g, d in avg_data.groupby(['run_number']):\n",
    "    d = d.copy() \n",
    "    d.sort_values('time_elapsed_min', inplace=True)\n",
    "#     d['time_elapsed_min'] -= d.iloc[0]['time_elapsed_min']\n",
    "    d['A_A0'] = d['OD_600'].values / d.iloc[0]['OD_600']\n",
    "    dfs.append(d)\n",
    "avg_data = pd.concat(dfs)"
   ]
  },
  {
   "cell_type": "code",
   "execution_count": 6,
   "metadata": {},
   "outputs": [
    {
     "data": {
      "application/vnd.vegalite.v2+json": {
       "$schema": "https://vega.github.io/schema/vega-lite/v2.6.0.json",
       "config": {
        "view": {
         "height": 300,
         "width": 400
        }
       },
       "data": {
        "name": "data-434018c46f6ddedeb4bec64b5c87631a"
       },
       "datasets": {
        "data-434018c46f6ddedeb4bec64b5c87631a": [
         {
          "A_A0": 1,
          "OD_600": 0.06666666666666667,
          "date": 20180918,
          "growth_medium": "difco",
          "run_number": 1,
          "time_elapsed_min": 0
         },
         {
          "A_A0": 0.6,
          "OD_600": 0.04,
          "date": 20180918,
          "growth_medium": "sigma",
          "run_number": 1,
          "time_elapsed_min": 0
         },
         {
          "A_A0": 0.9,
          "OD_600": 0.06,
          "date": 20180918,
          "growth_medium": "teknova",
          "run_number": 1,
          "time_elapsed_min": 0
         },
         {
          "A_A0": 1.35,
          "OD_600": 0.09000000000000001,
          "date": 20180918,
          "growth_medium": "sigma",
          "run_number": 1,
          "time_elapsed_min": 34
         },
         {
          "A_A0": 1.25,
          "OD_600": 0.08333333333333333,
          "date": 20180918,
          "growth_medium": "difco",
          "run_number": 1,
          "time_elapsed_min": 35
         },
         {
          "A_A0": 1.4000000000000001,
          "OD_600": 0.09333333333333334,
          "date": 20180918,
          "growth_medium": "teknova",
          "run_number": 1,
          "time_elapsed_min": 35
         },
         {
          "A_A0": 2,
          "OD_600": 0.13333333333333333,
          "date": 20180918,
          "growth_medium": "sigma",
          "run_number": 1,
          "time_elapsed_min": 67
         },
         {
          "A_A0": 2.3,
          "OD_600": 0.15333333333333332,
          "date": 20180918,
          "growth_medium": "teknova",
          "run_number": 1,
          "time_elapsed_min": 67
         },
         {
          "A_A0": 1.6500000000000001,
          "OD_600": 0.11,
          "date": 20180918,
          "growth_medium": "difco",
          "run_number": 1,
          "time_elapsed_min": 68
         },
         {
          "A_A0": 4,
          "OD_600": 0.26666666666666666,
          "date": 20180918,
          "growth_medium": "teknova",
          "run_number": 1,
          "time_elapsed_min": 97
         },
         {
          "A_A0": 3.4999999999999996,
          "OD_600": 0.2333333333333333,
          "date": 20180918,
          "growth_medium": "sigma",
          "run_number": 1,
          "time_elapsed_min": 97
         },
         {
          "A_A0": 3.3000000000000003,
          "OD_600": 0.22,
          "date": 20180918,
          "growth_medium": "difco",
          "run_number": 1,
          "time_elapsed_min": 99
         },
         {
          "A_A0": 4.250000000000001,
          "OD_600": 0.2833333333333334,
          "date": 20180918,
          "growth_medium": "sigma",
          "run_number": 1,
          "time_elapsed_min": 122
         },
         {
          "A_A0": 4.5,
          "OD_600": 0.3,
          "date": 20180918,
          "growth_medium": "teknova",
          "run_number": 1,
          "time_elapsed_min": 122
         },
         {
          "A_A0": 3.65,
          "OD_600": 0.24333333333333332,
          "date": 20180918,
          "growth_medium": "difco",
          "run_number": 1,
          "time_elapsed_min": 123
         },
         {
          "A_A0": 5.1000000000000005,
          "OD_600": 0.34,
          "date": 20180918,
          "growth_medium": "difco",
          "run_number": 1,
          "time_elapsed_min": 144
         },
         {
          "A_A0": 5.3,
          "OD_600": 0.35333333333333333,
          "date": 20180918,
          "growth_medium": "sigma",
          "run_number": 1,
          "time_elapsed_min": 144
         },
         {
          "A_A0": 5.4,
          "OD_600": 0.36000000000000004,
          "date": 20180918,
          "growth_medium": "teknova",
          "run_number": 1,
          "time_elapsed_min": 144
         },
         {
          "A_A0": 7.1499999999999995,
          "OD_600": 0.4766666666666666,
          "date": 20180918,
          "growth_medium": "sigma",
          "run_number": 1,
          "time_elapsed_min": 185
         },
         {
          "A_A0": 7.1499999999999995,
          "OD_600": 0.4766666666666666,
          "date": 20180918,
          "growth_medium": "teknova",
          "run_number": 1,
          "time_elapsed_min": 185
         },
         {
          "A_A0": 6.65,
          "OD_600": 0.44333333333333336,
          "date": 20180918,
          "growth_medium": "difco",
          "run_number": 1,
          "time_elapsed_min": 185
         },
         {
          "A_A0": 8.549999999999999,
          "OD_600": 0.57,
          "date": 20180918,
          "growth_medium": "difco",
          "run_number": 1,
          "time_elapsed_min": 219
         },
         {
          "A_A0": 9.8,
          "OD_600": 0.6533333333333333,
          "date": 20180918,
          "growth_medium": "sigma",
          "run_number": 1,
          "time_elapsed_min": 219
         },
         {
          "A_A0": 9.15,
          "OD_600": 0.61,
          "date": 20180918,
          "growth_medium": "teknova",
          "run_number": 1,
          "time_elapsed_min": 219
         },
         {
          "A_A0": 9.15,
          "OD_600": 0.61,
          "date": 20180918,
          "growth_medium": "difco",
          "run_number": 1,
          "time_elapsed_min": 232
         },
         {
          "A_A0": 9.55,
          "OD_600": 0.6366666666666667,
          "date": 20180918,
          "growth_medium": "sigma",
          "run_number": 1,
          "time_elapsed_min": 232
         },
         {
          "A_A0": 9.55,
          "OD_600": 0.6366666666666667,
          "date": 20180918,
          "growth_medium": "teknova",
          "run_number": 1,
          "time_elapsed_min": 232
         },
         {
          "A_A0": 10.05,
          "OD_600": 0.67,
          "date": 20180918,
          "growth_medium": "teknova",
          "run_number": 1,
          "time_elapsed_min": 248
         },
         {
          "A_A0": 9.6,
          "OD_600": 0.64,
          "date": 20180918,
          "growth_medium": "difco",
          "run_number": 1,
          "time_elapsed_min": 248
         },
         {
          "A_A0": 9.75,
          "OD_600": 0.65,
          "date": 20180918,
          "growth_medium": "sigma",
          "run_number": 1,
          "time_elapsed_min": 248
         },
         {
          "A_A0": 11.200000000000001,
          "OD_600": 0.7466666666666667,
          "date": 20180918,
          "growth_medium": "teknova",
          "run_number": 1,
          "time_elapsed_min": 262
         },
         {
          "A_A0": 10.499999999999998,
          "OD_600": 0.6999999999999998,
          "date": 20180918,
          "growth_medium": "difco",
          "run_number": 1,
          "time_elapsed_min": 262
         },
         {
          "A_A0": 11.15,
          "OD_600": 0.7433333333333333,
          "date": 20180918,
          "growth_medium": "sigma",
          "run_number": 1,
          "time_elapsed_min": 262
         },
         {
          "A_A0": 10.95,
          "OD_600": 0.73,
          "date": 20180918,
          "growth_medium": "difco",
          "run_number": 1,
          "time_elapsed_min": 271
         },
         {
          "A_A0": 10.899999999999999,
          "OD_600": 0.7266666666666666,
          "date": 20180918,
          "growth_medium": "sigma",
          "run_number": 1,
          "time_elapsed_min": 271
         },
         {
          "A_A0": 11.299999999999999,
          "OD_600": 0.7533333333333333,
          "date": 20180918,
          "growth_medium": "teknova",
          "run_number": 1,
          "time_elapsed_min": 271
         },
         {
          "A_A0": 12.1,
          "OD_600": 0.8066666666666666,
          "date": 20180918,
          "growth_medium": "sigma",
          "run_number": 1,
          "time_elapsed_min": 291
         },
         {
          "A_A0": 12.05,
          "OD_600": 0.8033333333333333,
          "date": 20180918,
          "growth_medium": "difco",
          "run_number": 1,
          "time_elapsed_min": 291
         },
         {
          "A_A0": 12.8,
          "OD_600": 0.8533333333333334,
          "date": 20180918,
          "growth_medium": "teknova",
          "run_number": 1,
          "time_elapsed_min": 291
         },
         {
          "A_A0": 12.85,
          "OD_600": 0.8566666666666666,
          "date": 20180918,
          "growth_medium": "teknova",
          "run_number": 1,
          "time_elapsed_min": 306
         },
         {
          "A_A0": 12.85,
          "OD_600": 0.8566666666666666,
          "date": 20180918,
          "growth_medium": "sigma",
          "run_number": 1,
          "time_elapsed_min": 306
         },
         {
          "A_A0": 13.200000000000001,
          "OD_600": 0.88,
          "date": 20180918,
          "growth_medium": "difco",
          "run_number": 1,
          "time_elapsed_min": 307
         },
         {
          "A_A0": 1,
          "OD_600": 0.03,
          "date": 20180918,
          "growth_medium": "difco",
          "run_number": 2,
          "time_elapsed_min": 0
         },
         {
          "A_A0": 3.0000000000000004,
          "OD_600": 0.09000000000000001,
          "date": 20180918,
          "growth_medium": "sigma",
          "run_number": 2,
          "time_elapsed_min": 0
         },
         {
          "A_A0": 0.5555555555555556,
          "OD_600": 0.016666666666666666,
          "date": 20180918,
          "growth_medium": "teknova",
          "run_number": 2,
          "time_elapsed_min": 0
         },
         {
          "A_A0": 2.555555555555556,
          "OD_600": 0.07666666666666667,
          "date": 20180918,
          "growth_medium": "difco",
          "run_number": 2,
          "time_elapsed_min": 34
         },
         {
          "A_A0": 3.6666666666666665,
          "OD_600": 0.10999999999999999,
          "date": 20180918,
          "growth_medium": "sigma",
          "run_number": 2,
          "time_elapsed_min": 36
         },
         {
          "A_A0": 2.111111111111111,
          "OD_600": 0.06333333333333334,
          "date": 20180918,
          "growth_medium": "teknova",
          "run_number": 2,
          "time_elapsed_min": 36
         },
         {
          "A_A0": 5.666666666666667,
          "OD_600": 0.17,
          "date": 20180918,
          "growth_medium": "sigma",
          "run_number": 2,
          "time_elapsed_min": 66
         },
         {
          "A_A0": 4.333333333333334,
          "OD_600": 0.13,
          "date": 20180918,
          "growth_medium": "teknova",
          "run_number": 2,
          "time_elapsed_min": 67
         },
         {
          "A_A0": 3.333333333333334,
          "OD_600": 0.10000000000000002,
          "date": 20180918,
          "growth_medium": "difco",
          "run_number": 2,
          "time_elapsed_min": 68
         },
         {
          "A_A0": 7.4444444444444455,
          "OD_600": 0.22333333333333336,
          "date": 20180918,
          "growth_medium": "teknova",
          "run_number": 2,
          "time_elapsed_min": 98
         },
         {
          "A_A0": 8.11111111111111,
          "OD_600": 0.24333333333333332,
          "date": 20180918,
          "growth_medium": "sigma",
          "run_number": 2,
          "time_elapsed_min": 98
         },
         {
          "A_A0": 8.444444444444445,
          "OD_600": 0.25333333333333335,
          "date": 20180918,
          "growth_medium": "difco",
          "run_number": 2,
          "time_elapsed_min": 98
         },
         {
          "A_A0": 9.222222222222223,
          "OD_600": 0.27666666666666667,
          "date": 20180918,
          "growth_medium": "difco",
          "run_number": 2,
          "time_elapsed_min": 122
         },
         {
          "A_A0": 9.555555555555557,
          "OD_600": 0.2866666666666667,
          "date": 20180918,
          "growth_medium": "sigma",
          "run_number": 2,
          "time_elapsed_min": 122
         },
         {
          "A_A0": 8.666666666666668,
          "OD_600": 0.26,
          "date": 20180918,
          "growth_medium": "teknova",
          "run_number": 2,
          "time_elapsed_min": 122
         },
         {
          "A_A0": 12.000000000000002,
          "OD_600": 0.36000000000000004,
          "date": 20180918,
          "growth_medium": "difco",
          "run_number": 2,
          "time_elapsed_min": 144
         },
         {
          "A_A0": 11.666666666666664,
          "OD_600": 0.3499999999999999,
          "date": 20180918,
          "growth_medium": "sigma",
          "run_number": 2,
          "time_elapsed_min": 144
         },
         {
          "A_A0": 11.222222222222223,
          "OD_600": 0.33666666666666667,
          "date": 20180918,
          "growth_medium": "teknova",
          "run_number": 2,
          "time_elapsed_min": 144
         },
         {
          "A_A0": 14.888888888888891,
          "OD_600": 0.4466666666666667,
          "date": 20180918,
          "growth_medium": "difco",
          "run_number": 2,
          "time_elapsed_min": 185
         },
         {
          "A_A0": 15.333333333333332,
          "OD_600": 0.45999999999999996,
          "date": 20180918,
          "growth_medium": "sigma",
          "run_number": 2,
          "time_elapsed_min": 185
         },
         {
          "A_A0": 14.222222222222223,
          "OD_600": 0.4266666666666667,
          "date": 20180918,
          "growth_medium": "teknova",
          "run_number": 2,
          "time_elapsed_min": 185
         },
         {
          "A_A0": 18.666666666666668,
          "OD_600": 0.56,
          "date": 20180918,
          "growth_medium": "teknova",
          "run_number": 2,
          "time_elapsed_min": 219
         },
         {
          "A_A0": 19.333333333333332,
          "OD_600": 0.58,
          "date": 20180918,
          "growth_medium": "difco",
          "run_number": 2,
          "time_elapsed_min": 219
         },
         {
          "A_A0": 18.333333333333336,
          "OD_600": 0.55,
          "date": 20180918,
          "growth_medium": "sigma",
          "run_number": 2,
          "time_elapsed_min": 219
         },
         {
          "A_A0": 19.88888888888889,
          "OD_600": 0.5966666666666667,
          "date": 20180918,
          "growth_medium": "difco",
          "run_number": 2,
          "time_elapsed_min": 232
         },
         {
          "A_A0": 18.333333333333332,
          "OD_600": 0.5499999999999999,
          "date": 20180918,
          "growth_medium": "sigma",
          "run_number": 2,
          "time_elapsed_min": 232
         },
         {
          "A_A0": 19.666666666666668,
          "OD_600": 0.59,
          "date": 20180918,
          "growth_medium": "teknova",
          "run_number": 2,
          "time_elapsed_min": 232
         },
         {
          "A_A0": 19.88888888888889,
          "OD_600": 0.5966666666666667,
          "date": 20180918,
          "growth_medium": "difco",
          "run_number": 2,
          "time_elapsed_min": 248
         },
         {
          "A_A0": 18.888888888888893,
          "OD_600": 0.5666666666666668,
          "date": 20180918,
          "growth_medium": "sigma",
          "run_number": 2,
          "time_elapsed_min": 248
         },
         {
          "A_A0": 19.777777777777775,
          "OD_600": 0.5933333333333333,
          "date": 20180918,
          "growth_medium": "teknova",
          "run_number": 2,
          "time_elapsed_min": 248
         },
         {
          "A_A0": 24.000000000000004,
          "OD_600": 0.7200000000000001,
          "date": 20180918,
          "growth_medium": "teknova",
          "run_number": 2,
          "time_elapsed_min": 262
         },
         {
          "A_A0": 21.44444444444445,
          "OD_600": 0.6433333333333334,
          "date": 20180918,
          "growth_medium": "sigma",
          "run_number": 2,
          "time_elapsed_min": 262
         },
         {
          "A_A0": 22.666666666666668,
          "OD_600": 0.68,
          "date": 20180918,
          "growth_medium": "difco",
          "run_number": 2,
          "time_elapsed_min": 262
         },
         {
          "A_A0": 23.666666666666668,
          "OD_600": 0.71,
          "date": 20180918,
          "growth_medium": "difco",
          "run_number": 2,
          "time_elapsed_min": 271
         },
         {
          "A_A0": 21,
          "OD_600": 0.63,
          "date": 20180918,
          "growth_medium": "sigma",
          "run_number": 2,
          "time_elapsed_min": 271
         },
         {
          "A_A0": 24.22222222222222,
          "OD_600": 0.7266666666666666,
          "date": 20180918,
          "growth_medium": "teknova",
          "run_number": 2,
          "time_elapsed_min": 271
         },
         {
          "A_A0": 27.111111111111114,
          "OD_600": 0.8133333333333334,
          "date": 20180918,
          "growth_medium": "difco",
          "run_number": 2,
          "time_elapsed_min": 291
         },
         {
          "A_A0": 21.888888888888893,
          "OD_600": 0.6566666666666667,
          "date": 20180918,
          "growth_medium": "sigma",
          "run_number": 2,
          "time_elapsed_min": 291
         },
         {
          "A_A0": 25.888888888888893,
          "OD_600": 0.7766666666666667,
          "date": 20180918,
          "growth_medium": "teknova",
          "run_number": 2,
          "time_elapsed_min": 291
         },
         {
          "A_A0": 24.11111111111111,
          "OD_600": 0.7233333333333333,
          "date": 20180918,
          "growth_medium": "sigma",
          "run_number": 2,
          "time_elapsed_min": 306
         },
         {
          "A_A0": 27.333333333333332,
          "OD_600": 0.82,
          "date": 20180918,
          "growth_medium": "teknova",
          "run_number": 2,
          "time_elapsed_min": 306
         },
         {
          "A_A0": 29.555555555555557,
          "OD_600": 0.8866666666666667,
          "date": 20180918,
          "growth_medium": "difco",
          "run_number": 2,
          "time_elapsed_min": 306
         },
         {
          "A_A0": 24.11111111111111,
          "OD_600": 0.7233333333333333,
          "date": 20180918,
          "growth_medium": "sigma",
          "run_number": 2,
          "time_elapsed_min": 321
         }
        ]
       },
       "encoding": {
        "color": {
         "field": "run_number",
         "type": "nominal"
        },
        "shape": {
         "field": "growth_medium",
         "type": "ordinal"
        },
        "x": {
         "field": "time_elapsed_min",
         "type": "quantitative"
        },
        "y": {
         "field": "OD_600",
         "type": "quantitative"
        }
       },
       "mark": "point",
       "selection": {
        "selector002": {
         "bind": "scales",
         "encodings": [
          "x",
          "y"
         ],
         "mark": {
          "fill": "#333",
          "fillOpacity": 0.125,
          "stroke": "white"
         },
         "on": "[mousedown, window:mouseup] > window:mousemove!",
         "resolve": "global",
         "translate": "[mousedown, window:mouseup] > window:mousemove!",
         "type": "interval",
         "zoom": "wheel!"
        }
       }
      },
      "image/png": "[encoded data removed]",
      "text/plain": [
       "<VegaLite 2 object>\n",
       "\n",
       "If you see this message, it means the renderer has not been properly enabled\n",
       "for the frontend that you are using. For more information, see\n",
       "https://altair-viz.github.io/user_guide/troubleshooting.html\n"
      ]
     },
     "execution_count": 6,
     "metadata": {},
     "output_type": "execute_result"
    }
   ],
   "source": [
    "alt.Chart(avg_data).mark_point().encode(\n",
    "    x='time_elapsed_min:Q',\n",
    "    y=alt.X('OD_600:Q'),\n",
    "    color='run_number:N',\n",
    "    shape='growth_medium:O').interactive()"
   ]
  },
  {
   "cell_type": "code",
   "execution_count": 12,
   "metadata": {},
   "outputs": [
    {
     "name": "stdout",
     "output_type": "stream",
     "text": [
      "Using pystan.stanc compiler..\n",
      "-------------------------------------------------------------------------------\n",
      "Model compiled successfully. Output stored in growth_model_code object.\n",
      "Type growth_model_code in a cell to see a nicely formatted code output in a notebook\n",
      "     ^^^^^^^^^^^^^^^^^\n",
      "Access model compile output properties\n",
      "growth_model_code.model_file -> Name of stan_file [None]\n",
      "growth_model_code.model_name -> Name of stan model [None]\n",
      "growth_model_code.model_code -> Model code [data {     int<lower ....]\n"
     ]
    }
   ],
   "source": [
    "%%stan -v growth_model_code\n",
    "data {\n",
    "    int<lower=1> M;\n",
    "    int<lower=1> J;\n",
    "    int<lower=1> N;\n",
    "    int<lower=1, upper=M> media_idx[N];\n",
    "    int<lower=1, upper=J> run_idx[N]; // ID vector \n",
    "    real<lower=0> time_min[N]; \n",
    "    real<lower=0> absorbance[N];\n",
    "}\n",
    "\n",
    "parameters {\n",
    "    // Hyperparameters\n",
    "    real<lower=0> lambda_mu[M]; \n",
    "    real<lower=0> lambda_sig[M];\n",
    "    // Low-level parameters\n",
    "    matrix<lower=0>[M, J] lam; // Growth rate in 1/min\n",
    "    matrix<lower=0>[M, J] A0; // Initial absorbance\n",
    "    matrix<lower=0>[M, J] sigma; // Homoscedastic error\n",
    "    \n",
    "}\n",
    "\n",
    "model { \n",
    "    vector[N] mu; \n",
    "    lambda_mu ~ inv_gamma(1, 2);\n",
    "    lambda_sig ~ normal(0, 1); \n",
    "\n",
    "   // Prior definition \n",
    "    for (j in 1:M){\n",
    "        for (i in 1:J){\n",
    "           lam[j, i] ~ normal(lambda_mu[j], lambda_sig[j]);\n",
    "           A0[j, i] ~ normal(0, 1);\n",
    "           sigma[j, i] ~ normal(0, .1); \n",
    "    } \n",
    "    }\n",
    "  // Evaluate the likelihood \n",
    "  for (i in 1:N) {\n",
    "      mu[i] = A0[media_idx[i], run_idx[i]] * exp(-exp(-time_min[i] / lam[media_idx[i],run_idx[i]])); \n",
    "      absorbance[i] ~ normal(mu[i], sigma[media_idx[i],run_idx[i]]);\n",
    "  }\n",
    "}\n",
    "\n",
    "generated quantities {\n",
    "    matrix<lower=0>[M, J] t_double;\n",
    "    real y_rep[N];\n",
    "    for (j in 1:M) {\n",
    "        for (i in 1:J) {\n",
    "        t_double[j, i] = -log(log(2)) * lam[j, i];\n",
    "        }\n",
    "    }\n",
    "    for (i in 1:N) {\n",
    "        y_rep[i] = normal_rng(A0[media_idx[i], run_idx[i]] * exp(-exp(-time_min[i] / lam[media_idx[i], run_idx[i]])),\n",
    "                             sigma[media_idx[i], run_idx[i]]);\n",
    "    }\n",
    "}"
   ]
  },
  {
   "cell_type": "code",
   "execution_count": 13,
   "metadata": {},
   "outputs": [
    {
     "name": "stderr",
     "output_type": "stream",
     "text": [
      "INFO:pystan:COMPILING THE C++ CODE FOR MODEL anon_model_745903d20ede2d302a751a343180aca0 NOW.\n"
     ]
    },
    {
     "name": "stdout",
     "output_type": "stream",
     "text": [
      "In file included from /var/folders/2q/lvh2zsws3lxckq8xtkn_84z80000gn/T/tmpmr259kpd/stanfit4anon_model_745903d20ede2d302a751a343180aca0_8785424130321482461.cpp:642:\n",
      "In file included from /anaconda3/lib/python3.6/site-packages/numpy/core/include/numpy/arrayobject.h:4:\n",
      "In file included from /anaconda3/lib/python3.6/site-packages/numpy/core/include/numpy/ndarrayobject.h:18:\n",
      "In file included from /anaconda3/lib/python3.6/site-packages/numpy/core/include/numpy/ndarraytypes.h:1823:\n",
      "/anaconda3/lib/python3.6/site-packages/numpy/core/include/numpy/npy_1_7_deprecated_api.h:15:2: warning: \"Using deprecated NumPy API, disable it by \"          \"#defining NPY_NO_DEPRECATED_API NPY_1_7_API_VERSION\" [-W#warnings]\n",
      "#warning \"Using deprecated NumPy API, disable it by \" \\\n",
      " ^\n",
      "/var/folders/2q/lvh2zsws3lxckq8xtkn_84z80000gn/T/tmpmr259kpd/stanfit4anon_model_745903d20ede2d302a751a343180aca0_8785424130321482461.cpp:9397:30: warning: comparison of integers of different signs: 'Py_ssize_t' (aka 'long') and 'std::__1::vector<std::__1::basic_string<char>, std::__1::allocator<std::__1::basic_string<char> > >::size_type' (aka 'unsigned long') [-Wsign-compare]\n",
      "    __pyx_t_12 = ((__pyx_t_9 != __pyx_v_fitptr->param_names_oi().size()) != 0);\n",
      "                   ~~~~~~~~~ ^  ~~~~~~~~~~~~~~~~~~~~~~~~~~~~~~~~~~~~~~~\n",
      "/var/folders/2q/lvh2zsws3lxckq8xtkn_84z80000gn/T/tmpmr259kpd/stanfit4anon_model_745903d20ede2d302a751a343180aca0_8785424130321482461.cpp:27799:52: warning: code will never be executed [-Wunreachable-code]\n",
      "        } else if (PY_VERSION_HEX >= 0x030700A0 && flag == (METH_FASTCALL | METH_KEYWORDS)) {\n",
      "                                                   ^~~~\n",
      "/var/folders/2q/lvh2zsws3lxckq8xtkn_84z80000gn/T/tmpmr259kpd/stanfit4anon_model_745903d20ede2d302a751a343180aca0_8785424130321482461.cpp:27799:38: note: silence by adding parentheses to mark code as explicitly dead\n",
      "        } else if (PY_VERSION_HEX >= 0x030700A0 && flag == (METH_FASTCALL | METH_KEYWORDS)) {\n",
      "                                     ^\n",
      "                                     /* DISABLES CODE */ ( )\n",
      "3 warnings generated.\n"
     ]
    }
   ],
   "source": [
    "model = pystan.StanModel(model_code=growth_model_code.model_code)"
   ]
  },
  {
   "cell_type": "code",
   "execution_count": 14,
   "metadata": {},
   "outputs": [],
   "source": [
    "# Assign a media key. \n",
    "media_key = {m:i + 1  for i, m in enumerate(avg_data['growth_medium'].unique())}\n",
    "for m, idx in media_key.items():\n",
    "    avg_data.loc[avg_data['growth_medium']==m, 'medium_idx'] = idx\n",
    "avg_data['medium_idx'] = avg_data['medium_idx'].astype(int)"
   ]
  },
  {
   "cell_type": "code",
   "execution_count": 15,
   "metadata": {},
   "outputs": [
    {
     "name": "stderr",
     "output_type": "stream",
     "text": [
      "WARNING:pystan:246 of 1200 iterations ended with a divergence (20.5%).\n",
      "WARNING:pystan:Try running with adapt_delta larger than 0.8 to remove the divergences.\n",
      "WARNING:pystan:174 of 1200 iterations saturated the maximum tree depth of 10 (14.5%)\n",
      "WARNING:pystan:Run again with max_treedepth larger than 10 to avoid saturation\n"
     ]
    }
   ],
   "source": [
    "# Assemble the data dictionary and sample!\n",
    "data_dict = dict(M=len(avg_data['growth_medium'].unique()),\n",
    "                 J=len(avg_data['run_number'].unique()), \n",
    "                 N=len(avg_data), run_idx=avg_data['run_number'].values.astype(int),\n",
    "                 media_idx=avg_data['medium_idx'].values,\n",
    "                time_min=avg_data['time_elapsed_min'], absorbance=avg_data['OD_600'])\n",
    "samples = model.sampling(data_dict, iter=8000, chains=3, thin=10)"
   ]
  },
  {
   "cell_type": "code",
   "execution_count": 16,
   "metadata": {},
   "outputs": [],
   "source": [
    "samp_df = samples.to_dataframe()"
   ]
  },
  {
   "cell_type": "code",
   "execution_count": null,
   "metadata": {},
   "outputs": [],
   "source": [
    "samps = [np.median(samp_df['y_rep[{}]'.format(i+1)]) for i in range(len(avg_data))]"
   ]
  },
  {
   "cell_type": "code",
   "execution_count": null,
   "metadata": {},
   "outputs": [],
   "source": [
    "_yrep = pd.DataFrame(np.array([samps, avg_data['time_elapsed_min']]).T, columns=['y_rep', 'time'])\n",
    "avg_data['log_abs'] = np.log(avg_data['OD_600'])\n",
    "# Plot the ppc data over the \n",
    "points = alt.Chart(avg_data).mark_point(filled=True, color='slategray', opacity=0.5).encode( \n",
    "            x=alt.X('time_elapsed_min:Q'),\n",
    "            y=alt.Y('OD_600:Q'))\n",
    "reps = alt.Chart(_yrep).mark_point(filled=True, color='firebrick').encode(\n",
    "            x=alt.X('time:Q'),\n",
    "            y=alt.Y('y_rep:Q'))\n",
    "\n",
    "points + reps"
   ]
  },
  {
   "cell_type": "code",
   "execution_count": 124,
   "metadata": {},
   "outputs": [
    {
     "name": "stderr",
     "output_type": "stream",
     "text": [
      "WARNING:pystan:Truncated summary with the 'fit.__repr__' method. For the full summary use 'print(fit)'\n"
     ]
    },
    {
     "data": {
      "text/plain": [
       "\n",
       "Warning: Shown data is truncated to 100 parameters\n",
       "For the full summary use 'print(fit)'\n",
       "\n",
       "Inference for Stan model: anon_model_fc7a49b4136685f164f35233c7ee02ca.\n",
       "3 chains, each with iter=8000; warmup=4000; thin=10; \n",
       "post-warmup draws per chain=400, total post-warmup draws=1200.\n",
       "\n",
       "                mean se_mean     sd   2.5%    25%    50%    75%  97.5%  n_eff   Rhat\n",
       "lambda_mu[1]  167.18    0.31   9.23 153.28 161.81 165.27 171.55 187.97    876    1.0\n",
       "lambda_mu[2]  219.84    0.77  17.66 193.64 206.86 217.19 228.86 259.55    521   1.01\n",
       "lambda_mu[3]  178.47     0.3   9.82 161.47 172.39 177.63 183.69 200.99   1090    1.0\n",
       "lambda_sig[1]    0.9    0.08   0.56   0.14   0.43    0.8   1.23   2.23     46   1.08\n",
       "lambda_sig[2]    1.0    0.04   0.56   0.22   0.55   0.91   1.45   2.29    167   1.02\n",
       "lambda_sig[3]   0.89    0.04   0.53   0.17   0.49   0.78   1.17   2.26    190   1.01\n",
       "lam[1,1]      167.16    0.31   9.24 153.33 161.65 165.32 171.45 187.52    874    1.0\n",
       "lam[2,1]      219.82    0.81  17.71 193.84  206.8 217.38  229.2 259.84    476   1.01\n",
       "lam[3,1]      178.51     0.3   9.83 161.36 172.21 177.93 183.51  200.9   1083    1.0\n",
       "lam[1,2]      167.21    0.31   9.29 153.01 161.78 165.34 171.68  188.1    873    1.0\n",
       "lam[2,2]      219.97     0.7  17.54 193.92 207.29 217.43 228.99 259.96    630   1.01\n",
       "lam[3,2]      178.42     0.3   9.82 161.41 172.42 177.55 183.68 200.68   1083    1.0\n",
       "A0[1,1]         0.14  4.2e-4   0.01   0.12   0.14   0.14   0.15   0.17    856    1.0\n",
       "A0[2,1]         0.21  1.1e-3   0.02   0.18    0.2   0.21   0.22   0.26    358   1.02\n",
       "A0[3,1]         0.16  4.1e-4   0.01   0.14   0.16   0.16   0.17   0.19    985    1.0\n",
       "A0[1,2]         0.14  4.9e-4   0.01   0.12   0.13   0.14   0.15   0.17    653   1.01\n",
       "A0[2,2]         0.18  6.8e-4   0.02   0.15   0.17   0.18   0.19   0.22    609   1.01\n",
       "A0[3,2]         0.15  3.8e-4   0.01   0.13   0.15   0.15   0.16   0.18   1093    1.0\n",
       "sigma[1,1]      0.29  3.0e-3   0.04   0.23   0.26   0.29   0.32   0.39    177   1.03\n",
       "sigma[2,1]      0.33  3.5e-3   0.04   0.26   0.29   0.32   0.35   0.41    132   1.03\n",
       "sigma[3,1]      0.28  1.4e-3   0.04   0.21   0.25   0.27    0.3   0.36    654    1.0\n",
       "sigma[1,2]      0.31  1.3e-3   0.04   0.25   0.29   0.31   0.34   0.39    789    1.0\n",
       "sigma[2,2]      0.26  1.5e-3   0.04    0.2   0.23   0.25   0.28   0.34    540   1.01\n",
       "sigma[3,2]      0.33  2.1e-3   0.04   0.25    0.3   0.33   0.36   0.41    349   1.01\n",
       "t_double[1,1] 115.87    0.22   6.41 106.28 112.05 114.59 118.84 129.98    874    1.0\n",
       "t_double[2,1] 152.36    0.56  12.28 134.36 143.34 150.68 158.87 180.11    476   1.01\n",
       "t_double[3,1] 123.74    0.21   6.82 111.84 119.37 123.33  127.2 139.25   1083    1.0\n",
       "t_double[1,2]  115.9    0.22   6.44 106.06 112.14 114.61  119.0 130.38    873    1.0\n",
       "t_double[2,2] 152.47    0.48  12.16 134.42 143.68 150.71 158.72 180.19    630   1.01\n",
       "t_double[3,2] 123.67    0.21   6.81 111.88 119.51 123.07 127.32  139.1   1083    1.0\n",
       "y_rep[1]        0.15  9.3e-3    0.3  -0.44  -0.05   0.15   0.35   0.71   1000    1.0\n",
       "y_rep[2]        0.21    0.01   0.33  -0.45 1.0e-3   0.21   0.42   0.85    958    1.0\n",
       "y_rep[3]        0.16  8.3e-3   0.29   -0.4  -0.03   0.16   0.35   0.73   1181    1.0\n",
       "y_rep[4]        0.25  9.7e-3   0.33  -0.39   0.02   0.26   0.47   0.89   1126    1.0\n",
       "y_rep[5]        0.16  8.5e-3    0.3  -0.39  -0.04   0.17   0.36   0.74   1242    1.0\n",
       "y_rep[6]         0.2  8.4e-3   0.28  -0.35   0.01   0.18   0.39   0.78   1151    1.0\n",
       "y_rep[7]        0.31    0.01   0.33   -0.3   0.08    0.3   0.52   0.97    985    1.0\n",
       "y_rep[8]        0.24  8.7e-3   0.29  -0.32   0.05   0.23   0.44    0.8   1099    1.0\n",
       "y_rep[9]        0.22  9.4e-3   0.29  -0.36   0.03   0.22   0.41   0.78    966    1.0\n",
       "y_rep[10]       0.27  8.4e-3   0.28   -0.3   0.09   0.27   0.46   0.82   1142    1.0\n",
       "y_rep[11]       0.32  9.4e-3   0.33  -0.35   0.11   0.32   0.53   0.99   1232    1.0\n",
       "y_rep[12]       0.26  8.9e-3    0.3  -0.36   0.06   0.26   0.47   0.87   1172    1.0\n",
       "y_rep[13]       0.37  9.6e-3   0.32  -0.28   0.16   0.36   0.59    1.0   1126    1.0\n",
       "y_rep[14]       0.33  9.8e-3   0.29  -0.27   0.14   0.32   0.52   0.89    858    1.0\n",
       "y_rep[15]       0.28  8.4e-3   0.29  -0.29    0.1   0.29   0.48   0.88   1214    1.0\n",
       "y_rep[16]       0.33  8.5e-3   0.28  -0.24   0.13   0.34   0.52   0.88   1118    1.0\n",
       "y_rep[17]        0.4    0.01   0.32  -0.26   0.19   0.39   0.61   1.03    986    1.0\n",
       "y_rep[18]       0.37  8.3e-3   0.28   -0.2   0.18   0.38   0.55   0.95   1165    1.0\n",
       "y_rep[19]        0.5  9.2e-3   0.32  -0.15   0.29    0.5    0.7   1.14   1236    1.0\n",
       "y_rep[20]       0.46  7.8e-3   0.27  -0.09   0.27   0.46   0.64   1.01   1223    1.0\n",
       "y_rep[21]       0.42  9.0e-3    0.3  -0.18   0.24   0.42   0.62   0.98   1123    1.0\n",
       "y_rep[22]       0.53  8.9e-3   0.32  -0.11   0.32   0.54   0.74   1.16   1277    1.0\n",
       "y_rep[23]       0.59  9.5e-3   0.32  -0.06   0.38   0.59   0.79   1.23   1131    1.0\n",
       "y_rep[24]       0.55  7.9e-3   0.28-6.8e-3   0.37   0.56   0.73   1.13   1272    1.0\n",
       "y_rep[25]       0.57  8.5e-3    0.3  -0.05   0.38   0.58   0.76   1.14   1211    1.0\n",
       "y_rep[26]       0.61  9.6e-3   0.33  -0.06   0.39   0.61   0.83    1.3   1221    1.0\n",
       "y_rep[27]       0.61  7.7e-3   0.27   0.08   0.43   0.61   0.79   1.17   1246    1.0\n",
       "y_rep[28]       0.67  8.6e-3   0.28   0.14   0.48   0.67   0.86   1.23   1075    1.0\n",
       "y_rep[29]       0.63  8.3e-3   0.29   0.07   0.44   0.62   0.83   1.22   1242    1.0\n",
       "y_rep[30]       0.64    0.01   0.34  -0.02   0.44   0.64   0.86   1.33   1085    1.0\n",
       "y_rep[31]       0.71  8.1e-3   0.28    0.1   0.53   0.71   0.88   1.24   1200    1.0\n",
       "y_rep[32]       0.69  8.7e-3   0.31   0.08   0.49   0.68    0.9   1.26   1240    1.0\n",
       "y_rep[33]        0.7  9.2e-3   0.32   0.06   0.49    0.7   0.92    1.3   1225    1.0\n",
       "y_rep[34]       0.72  8.6e-3    0.3   0.16   0.52   0.71   0.91   1.34   1202    1.0\n",
       "y_rep[35]       0.72  9.1e-3   0.33   0.06   0.51   0.72   0.95   1.37   1347    1.0\n",
       "y_rep[36]       0.76  7.6e-3   0.27   0.27   0.57   0.76   0.93   1.29   1217    1.0\n",
       "y_rep[37]       0.81  9.6e-3   0.33   0.16   0.58   0.82   1.03    1.4   1177    1.0\n",
       "y_rep[38]       0.82  8.6e-3    0.3   0.22   0.62   0.82   1.01   1.43   1223    1.0\n",
       "y_rep[39]       0.83  7.8e-3   0.27   0.31   0.65   0.84   1.02   1.39   1230    1.0\n",
       "y_rep[40]        0.9  8.5e-3   0.28   0.37   0.72    0.9   1.08   1.47   1067    1.0\n",
       "y_rep[41]       0.86  9.6e-3   0.33   0.22   0.64   0.86   1.08   1.56   1188    1.0\n",
       "y_rep[42]        0.9  8.6e-3    0.3   0.34   0.72    0.9   1.11    1.5   1197    1.0\n",
       "y_rep[43]       0.15  9.0e-3   0.32  -0.49  -0.06   0.15   0.37    0.8   1233    1.0\n",
       "y_rep[44]       0.18  7.3e-3   0.26  -0.34 2.3e-3   0.18   0.35   0.68   1289    1.0\n",
       "y_rep[45]       0.14  9.2e-3   0.33  -0.51  -0.08   0.14   0.36    0.8   1284    1.0\n",
       "y_rep[46]       0.18  9.0e-3   0.31  -0.43  -0.03   0.19   0.39   0.78   1208    1.0\n",
       "y_rep[47]       0.21  7.9e-3   0.27  -0.32   0.04   0.21   0.39   0.71   1138    1.0\n",
       "y_rep[48]       0.18  9.2e-3   0.32  -0.47  -0.03   0.19    0.4   0.82   1207    1.0\n",
       "y_rep[49]       0.25  7.8e-3   0.26  -0.26   0.08   0.26   0.43   0.75   1086    1.0\n",
       "y_rep[50]       0.22  9.8e-3   0.33  -0.43   0.01   0.23   0.44   0.84   1114    1.0\n",
       "y_rep[51]       0.22  9.9e-3   0.32  -0.42 6.6e-3   0.22   0.44   0.88   1084    1.0\n",
       "y_rep[52]       0.27  9.7e-3   0.32  -0.38   0.05   0.27   0.49   0.91   1130    1.0\n",
       "y_rep[53]       0.29  7.6e-3   0.26  -0.22   0.11   0.28   0.46   0.78   1126    1.0\n",
       "y_rep[54]       0.25  9.1e-3   0.31  -0.34   0.03   0.25   0.46   0.88   1182    1.0\n",
       "y_rep[55]       0.28  8.9e-3   0.32  -0.33   0.05   0.27    0.5   0.87   1299    1.0\n",
       "y_rep[56]       0.31  7.4e-3   0.25  -0.18   0.15   0.31   0.47   0.81   1138    1.0\n",
       "y_rep[57]        0.3    0.01   0.33  -0.37   0.09    0.3   0.52   0.94    954    1.0\n",
       "y_rep[58]       0.34  9.2e-3   0.31  -0.32   0.13   0.35   0.54   0.98   1175    1.0\n",
       "y_rep[59]       0.35  8.3e-3   0.26  -0.15   0.18   0.34   0.52   0.86    974    1.0\n",
       "y_rep[60]       0.33  9.9e-3   0.34   -0.3    0.1   0.33   0.55   0.97   1153    1.0\n",
       "y_rep[61]       0.44  8.9e-3   0.31  -0.17   0.24   0.43   0.64   1.05   1199    1.0\n",
       "y_rep[62]       0.42  8.0e-3   0.26  -0.11   0.25   0.42   0.58   0.92   1059    1.0\n",
       "y_rep[63]       0.43 10.0e-3   0.34   -0.2   0.21   0.43   0.64   1.11   1132    1.0\n",
       "y_rep[64]       0.53  9.1e-3   0.32  -0.08    0.3   0.53   0.74   1.15   1243    1.0\n",
       "y_rep[65]       0.53  8.8e-3   0.32  -0.12   0.33   0.54   0.73   1.17   1276    1.0\n",
       "y_rep[66]        0.5  7.0e-3   0.25   0.02   0.34    0.5   0.66   0.97   1270    1.0\n",
       "y_rep[67]       0.57  9.2e-3   0.32  -0.06   0.35   0.57   0.77   1.22   1208    1.0\n",
       "y_rep[68]       0.52  7.6e-3   0.27 8.8e-4   0.34   0.52    0.7   1.04   1209    1.0\n",
       "y_rep[69]       0.56  9.4e-3   0.33  -0.06   0.35   0.55   0.78   1.24   1235    1.0\n",
       "lp__            2.31     0.3   3.85  -5.83  -0.11   2.53   4.94   9.21    163   1.02\n",
       "\n",
       "Samples were drawn using NUTS at Mon Sep 24 14:00:42 2018.\n",
       "For each parameter, n_eff is a crude measure of effective sample size,\n",
       "and Rhat is the potential scale reduction factor on split chains (at \n",
       "convergence, Rhat=1)."
      ]
     },
     "execution_count": 124,
     "metadata": {},
     "output_type": "execute_result"
    }
   ],
   "source": [
    "samples"
   ]
  },
  {
   "cell_type": "code",
   "execution_count": 115,
   "metadata": {},
   "outputs": [
    {
     "ename": "NameError",
     "evalue": "name 'ar' is not defined",
     "output_type": "error",
     "traceback": [
      "\u001b[0;31m---------------------------------------------------------------------------\u001b[0m",
      "\u001b[0;31mNameError\u001b[0m                                 Traceback (most recent call last)",
      "\u001b[0;32m<ipython-input-115-8775832645f4>\u001b[0m in \u001b[0;36m<module>\u001b[0;34m()\u001b[0m\n\u001b[1;32m      1\u001b[0m \u001b[0mget_ipython\u001b[0m\u001b[0;34m(\u001b[0m\u001b[0;34m)\u001b[0m\u001b[0;34m.\u001b[0m\u001b[0mrun_line_magic\u001b[0m\u001b[0;34m(\u001b[0m\u001b[0;34m'matplotlib'\u001b[0m\u001b[0;34m,\u001b[0m \u001b[0;34m'inline'\u001b[0m\u001b[0;34m)\u001b[0m\u001b[0;34m\u001b[0m\u001b[0m\n\u001b[0;32m----> 2\u001b[0;31m \u001b[0m_\u001b[0m \u001b[0;34m=\u001b[0m \u001b[0mar\u001b[0m\u001b[0;34m.\u001b[0m\u001b[0mplot_forest\u001b[0m\u001b[0;34m(\u001b[0m\u001b[0msamples\u001b[0m\u001b[0;34m)\u001b[0m\u001b[0;34m\u001b[0m\u001b[0m\n\u001b[0m",
      "\u001b[0;31mNameError\u001b[0m: name 'ar' is not defined"
     ]
    }
   ],
   "source": [
    "%matplotlib inline\n",
    "_ = ar.plot_forest(samples)"
   ]
  },
  {
   "cell_type": "code",
   "execution_count": 167,
   "metadata": {},
   "outputs": [
    {
     "ename": "SyntaxError",
     "evalue": "invalid syntax (<ipython-input-167-9d100cdbe656>, line 1)",
     "output_type": "error",
     "traceback": [
      "\u001b[0;36m  File \u001b[0;32m\"<ipython-input-167-9d100cdbe656>\"\u001b[0;36m, line \u001b[0;32m1\u001b[0m\n\u001b[0;31m    ar.ppcplot.\u001b[0m\n\u001b[0m               ^\u001b[0m\n\u001b[0;31mSyntaxError\u001b[0m\u001b[0;31m:\u001b[0m invalid syntax\n"
     ]
    }
   ],
   "source": [
    "ar.ppcplot."
   ]
  },
  {
   "cell_type": "code",
   "execution_count": null,
   "metadata": {},
   "outputs": [],
   "source": []
  }
 ],
 "metadata": {
  "kernelspec": {
   "display_name": "Python 3",
   "language": "python",
   "name": "python3"
  },
  "language_info": {
   "codemirror_mode": {
    "name": "ipython",
    "version": 3
   },
   "file_extension": ".py",
   "mimetype": "text/x-python",
   "name": "python",
   "nbconvert_exporter": "python",
   "pygments_lexer": "ipython3",
   "version": "3.6.6"
  }
 },
 "nbformat": 4,
 "nbformat_minor": 2
}
