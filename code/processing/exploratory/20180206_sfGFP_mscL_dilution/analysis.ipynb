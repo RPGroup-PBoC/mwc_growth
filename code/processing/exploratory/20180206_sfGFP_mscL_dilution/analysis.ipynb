{
 "cells": [
  {
   "cell_type": "markdown",
   "metadata": {},
   "source": [
    "# Analysis of GFP dilution "
   ]
  },
  {
   "cell_type": "code",
   "execution_count": 26,
   "metadata": {
    "collapsed": false
   },
   "outputs": [
    {
     "data": {
      "text/html": [
       "\n",
       "    <div class=\"bk-root\">\n",
       "        <a href=\"http://bokeh.pydata.org\" target=\"_blank\" class=\"bk-logo bk-logo-small bk-logo-notebook\"></a>\n",
       "        <span id=\"fca7b8e7-0a98-4251-bf8f-fe4bf9cb36cf\">Loading BokehJS ...</span>\n",
       "    </div>"
      ]
     },
     "metadata": {},
     "output_type": "display_data"
    },
    {
     "data": {
      "application/javascript": [
       "\n",
       "(function(global) {\n",
       "  function now() {\n",
       "    return new Date();\n",
       "  }\n",
       "\n",
       "  var force = true;\n",
       "\n",
       "  if (typeof (window._bokeh_onload_callbacks) === \"undefined\" || force === true) {\n",
       "    window._bokeh_onload_callbacks = [];\n",
       "    window._bokeh_is_loading = undefined;\n",
       "  }\n",
       "\n",
       "\n",
       "  \n",
       "  if (typeof (window._bokeh_timeout) === \"undefined\" || force === true) {\n",
       "    window._bokeh_timeout = Date.now() + 5000;\n",
       "    window._bokeh_failed_load = false;\n",
       "  }\n",
       "\n",
       "  var NB_LOAD_WARNING = {'data': {'text/html':\n",
       "     \"<div style='background-color: #fdd'>\\n\"+\n",
       "     \"<p>\\n\"+\n",
       "     \"BokehJS does not appear to have successfully loaded. If loading BokehJS from CDN, this \\n\"+\n",
       "     \"may be due to a slow or bad network connection. Possible fixes:\\n\"+\n",
       "     \"</p>\\n\"+\n",
       "     \"<ul>\\n\"+\n",
       "     \"<li>re-rerun `output_notebook()` to attempt to load from CDN again, or</li>\\n\"+\n",
       "     \"<li>use INLINE resources instead, as so:</li>\\n\"+\n",
       "     \"</ul>\\n\"+\n",
       "     \"<code>\\n\"+\n",
       "     \"from bokeh.resources import INLINE\\n\"+\n",
       "     \"output_notebook(resources=INLINE)\\n\"+\n",
       "     \"</code>\\n\"+\n",
       "     \"</div>\"}};\n",
       "\n",
       "  function display_loaded() {\n",
       "    if (window.Bokeh !== undefined) {\n",
       "      document.getElementById(\"fca7b8e7-0a98-4251-bf8f-fe4bf9cb36cf\").textContent = \"BokehJS successfully loaded.\";\n",
       "    } else if (Date.now() < window._bokeh_timeout) {\n",
       "      setTimeout(display_loaded, 100)\n",
       "    }\n",
       "  }\n",
       "\n",
       "  function run_callbacks() {\n",
       "    window._bokeh_onload_callbacks.forEach(function(callback) { callback() });\n",
       "    delete window._bokeh_onload_callbacks\n",
       "    console.info(\"Bokeh: all callbacks have finished\");\n",
       "  }\n",
       "\n",
       "  function load_libs(js_urls, callback) {\n",
       "    window._bokeh_onload_callbacks.push(callback);\n",
       "    if (window._bokeh_is_loading > 0) {\n",
       "      console.log(\"Bokeh: BokehJS is being loaded, scheduling callback at\", now());\n",
       "      return null;\n",
       "    }\n",
       "    if (js_urls == null || js_urls.length === 0) {\n",
       "      run_callbacks();\n",
       "      return null;\n",
       "    }\n",
       "    console.log(\"Bokeh: BokehJS not loaded, scheduling load and callback at\", now());\n",
       "    window._bokeh_is_loading = js_urls.length;\n",
       "    for (var i = 0; i < js_urls.length; i++) {\n",
       "      var url = js_urls[i];\n",
       "      var s = document.createElement('script');\n",
       "      s.src = url;\n",
       "      s.async = false;\n",
       "      s.onreadystatechange = s.onload = function() {\n",
       "        window._bokeh_is_loading--;\n",
       "        if (window._bokeh_is_loading === 0) {\n",
       "          console.log(\"Bokeh: all BokehJS libraries loaded\");\n",
       "          run_callbacks()\n",
       "        }\n",
       "      };\n",
       "      s.onerror = function() {\n",
       "        console.warn(\"failed to load library \" + url);\n",
       "      };\n",
       "      console.log(\"Bokeh: injecting script tag for BokehJS library: \", url);\n",
       "      document.getElementsByTagName(\"head\")[0].appendChild(s);\n",
       "    }\n",
       "  };var element = document.getElementById(\"fca7b8e7-0a98-4251-bf8f-fe4bf9cb36cf\");\n",
       "  if (element == null) {\n",
       "    console.log(\"Bokeh: ERROR: autoload.js configured with elementid 'fca7b8e7-0a98-4251-bf8f-fe4bf9cb36cf' but no matching script tag was found. \")\n",
       "    return false;\n",
       "  }\n",
       "\n",
       "  var js_urls = [\"https://cdn.pydata.org/bokeh/release/bokeh-0.12.4.min.js\", \"https://cdn.pydata.org/bokeh/release/bokeh-widgets-0.12.4.min.js\"];\n",
       "\n",
       "  var inline_js = [\n",
       "    function(Bokeh) {\n",
       "      Bokeh.set_log_level(\"info\");\n",
       "    },\n",
       "    \n",
       "    function(Bokeh) {\n",
       "      \n",
       "      document.getElementById(\"fca7b8e7-0a98-4251-bf8f-fe4bf9cb36cf\").textContent = \"BokehJS is loading...\";\n",
       "    },\n",
       "    function(Bokeh) {\n",
       "      console.log(\"Bokeh: injecting CSS: https://cdn.pydata.org/bokeh/release/bokeh-0.12.4.min.css\");\n",
       "      Bokeh.embed.inject_css(\"https://cdn.pydata.org/bokeh/release/bokeh-0.12.4.min.css\");\n",
       "      console.log(\"Bokeh: injecting CSS: https://cdn.pydata.org/bokeh/release/bokeh-widgets-0.12.4.min.css\");\n",
       "      Bokeh.embed.inject_css(\"https://cdn.pydata.org/bokeh/release/bokeh-widgets-0.12.4.min.css\");\n",
       "    }\n",
       "  ];\n",
       "\n",
       "  function run_inline_js() {\n",
       "    \n",
       "    if ((window.Bokeh !== undefined) || (force === true)) {\n",
       "      for (var i = 0; i < inline_js.length; i++) {\n",
       "        inline_js[i](window.Bokeh);\n",
       "      }if (force === true) {\n",
       "        display_loaded();\n",
       "      }} else if (Date.now() < window._bokeh_timeout) {\n",
       "      setTimeout(run_inline_js, 100);\n",
       "    } else if (!window._bokeh_failed_load) {\n",
       "      console.log(\"Bokeh: BokehJS failed to load within specified timeout.\");\n",
       "      window._bokeh_failed_load = true;\n",
       "    } else if (force !== true) {\n",
       "      var cell = $(document.getElementById(\"fca7b8e7-0a98-4251-bf8f-fe4bf9cb36cf\")).parents('.cell').data().cell;\n",
       "      cell.output_area.append_execute_result(NB_LOAD_WARNING)\n",
       "    }\n",
       "\n",
       "  }\n",
       "\n",
       "  if (window._bokeh_is_loading === 0) {\n",
       "    console.log(\"Bokeh: BokehJS loaded, going straight to plotting\");\n",
       "    run_inline_js();\n",
       "  } else {\n",
       "    load_libs(js_urls, function() {\n",
       "      console.log(\"Bokeh: BokehJS plotting callback run at\", now());\n",
       "      run_inline_js();\n",
       "    });\n",
       "  }\n",
       "}(this));"
      ]
     },
     "metadata": {},
     "output_type": "display_data"
    }
   ],
   "source": [
    "import numpy as npj\n",
    "import pandas as pd\n",
    "import bokeh.io\n",
    "import bokeh.plotting\n",
    "import glob\n",
    "import pymc3 as pm\n",
    "import theano.tensor as tt\n",
    "import scipy.optimize\n",
    "import sys\n",
    "sys.path.insert(0, '../../../')\n",
    "import mwc.viz\n",
    "import mwc.process\n",
    "colors = mwc.viz.set_plotting_style()\n",
    "bokeh.io.output_notebook()"
   ]
  },
  {
   "cell_type": "code",
   "execution_count": 17,
   "metadata": {
    "collapsed": false
   },
   "outputs": [],
   "source": [
    "# Load all of the clist files for the growth experiment.\n",
    "data_dir = '../../../data/images/20180206_sfGFP_mscL_dilution/'\n",
    "growth_clist = glob.glob('{0}/*growth*/xy*/clist.mat'.format(data_dir))\n",
    "growth_df = mwc.process.parse_clists(growth_clist)"
   ]
  },
  {
   "cell_type": "code",
   "execution_count": 18,
   "metadata": {
    "collapsed": true
   },
   "outputs": [],
   "source": [
    "# Load the autofluorescence and mlg910\n",
    "samps = ['autofluorescence', 'mlg910']\n",
    "dfs = []\n",
    "for i, s in enumerate(samps):\n",
    "    clists = glob.glob('{0}/*{1}*/xy*/clist.mat'.format(data_dir, s))\n",
    "    _df = mwc.process.parse_clists(clists, added_props={'strain':s})\n",
    "    dfs.append(_df)\n",
    "snap_df = pd.concat(dfs, ignore_index=True)"
   ]
  },
  {
   "cell_type": "code",
   "execution_count": 19,
   "metadata": {
    "collapsed": false
   },
   "outputs": [],
   "source": [
    "# Compute the mean autofluorescence\n",
    "mean_auto_gfp = snap_df[snap_df['strain']=='autofluorescence']['fluor1_mean_death'].mean()"
   ]
  },
  {
   "cell_type": "code",
   "execution_count": 20,
   "metadata": {
    "collapsed": false
   },
   "outputs": [
    {
     "data": {
      "text/plain": [
       "308.9851078426133"
      ]
     },
     "execution_count": 20,
     "metadata": {},
     "output_type": "execute_result"
    }
   ],
   "source": [
    "mean_auto_gfp"
   ]
  },
  {
   "cell_type": "markdown",
   "metadata": {
    "collapsed": true
   },
   "source": [
    "Now, isolate the cells in which the fluorescence was actually measured."
   ]
  },
  {
   "cell_type": "markdown",
   "metadata": {},
   "source": []
  },
  {
   "cell_type": "code",
   "execution_count": 21,
   "metadata": {
    "collapsed": false
   },
   "outputs": [],
   "source": [
    "# Look at only the measured cells\n",
    "measured = growth_df[growth_df['fluor1_mean_death'] > 0]\n",
    "\n",
    "\n",
    "# Set up the calibration dataframe.\n",
    "cal_df = pd.DataFrame([], columns=['I_1', 'I_2', 'summed', 'fluct'])\n",
    "# Group the cells by position and mother ID for calculation.\n",
    "grouped = growth_df.groupby(['position', 'mother_id'])\n",
    "for g, d in grouped:\n",
    "    if len(d) == 2:\n",
    "        daughters = d['area_death'].values * (d['fluor1_mean_death'].values - mean_auto_gfp)\n",
    "        if (daughters > 0).all():\n",
    "            I_1, I_2 = daughters\n",
    "            summed = np.sum(daughters)\n",
    "            fluct = np.diff(daughters)[0]**2\n",
    "            cell_dict = dict(I_1=I_1, I_2=I_2, summed=summed, fluct=fluct)\n",
    "            cal_df = cal_df.append(cell_dict, ignore_index=True)"
   ]
  },
  {
   "cell_type": "code",
   "execution_count": null,
   "metadata": {
    "collapsed": true
   },
   "outputs": [],
   "source": [
    "def deterministic_log_post(alpha, i1, i2, neg=True):\n",
    "    if neg:\n",
    "        prefactor = "
   ]
  },
  {
   "cell_type": "code",
   "execution_count": null,
   "metadata": {
    "collapsed": true
   },
   "outputs": [],
   "source": []
  },
  {
   "cell_type": "code",
   "execution_count": 54,
   "metadata": {
    "collapsed": false
   },
   "outputs": [],
   "source": [
    "def deterministic_log_post(alpha, i1, i2, neg=True):\n",
    "    if neg:\n",
    "        prefactor = -1\n",
    "    else:\n",
    "        prefactor = 1\n",
    "    if alpha < 1E-9:\n",
    "        return prefactor * -np.inf\n",
    "    n1 = i1 / alpha\n",
    "    n2 = i2 / alpha\n",
    "    ntot = n1 + n2\n",
    "    k = len(n1)\n",
    "    binom = scipy.special.gammaln(ntot+1).sum() - scipy.special.gammaln(n1+1).sum() -\\\n",
    "                scipy.special.gammaln(n2+1).sum()\n",
    "    lp = -k * np.log(alpha) - ntot.sum() * np.log(2) + binom\n",
    "    return prefactor * lp\n",
    "    "
   ]
  },
  {
   "cell_type": "code",
   "execution_count": null,
   "metadata": {
    "collapsed": true
   },
   "outputs": [],
   "source": []
  },
  {
   "cell_type": "code",
   "execution_count": 57,
   "metadata": {
    "collapsed": false
   },
   "outputs": [],
   "source": [
    "# Minimize teh log posterior given the data. \n",
    "popt = scipy.optimize.minimize_scalar(deterministic_log_post, args=(cal_df.I_1, cal_df.I_2, True))"
   ]
  },
  {
   "cell_type": "code",
   "execution_count": 58,
   "metadata": {
    "collapsed": false
   },
   "outputs": [
    {
     "data": {
      "text/plain": [
       "     fun: 4682.5942389145785\n",
       "    nfev: 14\n",
       "     nit: 13\n",
       " success: True\n",
       "       x: 621.32650708632798"
      ]
     },
     "execution_count": 58,
     "metadata": {},
     "output_type": "execute_result"
    }
   ],
   "source": [
    "popt"
   ]
  },
  {
   "cell_type": "code",
   "execution_count": null,
   "metadata": {
    "collapsed": true
   },
   "outputs": [],
   "source": []
  },
  {
   "cell_type": "code",
   "execution_count": 61,
   "metadata": {
    "collapsed": false
   },
   "outputs": [
    {
     "data": {
      "text/html": [
       "\n",
       "\n",
       "    <div class=\"bk-root\">\n",
       "        <div class=\"bk-plotdiv\" id=\"8e6f4269-730f-4efd-b4ae-0552a6dfd75d\"></div>\n",
       "    </div>\n",
       "<script type=\"text/javascript\">\n",
       "  \n",
       "  (function(global) {\n",
       "    function now() {\n",
       "      return new Date();\n",
       "    }\n",
       "  \n",
       "    var force = false;\n",
       "  \n",
       "    if (typeof (window._bokeh_onload_callbacks) === \"undefined\" || force === true) {\n",
       "      window._bokeh_onload_callbacks = [];\n",
       "      window._bokeh_is_loading = undefined;\n",
       "    }\n",
       "  \n",
       "  \n",
       "    \n",
       "    if (typeof (window._bokeh_timeout) === \"undefined\" || force === true) {\n",
       "      window._bokeh_timeout = Date.now() + 0;\n",
       "      window._bokeh_failed_load = false;\n",
       "    }\n",
       "  \n",
       "    var NB_LOAD_WARNING = {'data': {'text/html':\n",
       "       \"<div style='background-color: #fdd'>\\n\"+\n",
       "       \"<p>\\n\"+\n",
       "       \"BokehJS does not appear to have successfully loaded. If loading BokehJS from CDN, this \\n\"+\n",
       "       \"may be due to a slow or bad network connection. Possible fixes:\\n\"+\n",
       "       \"</p>\\n\"+\n",
       "       \"<ul>\\n\"+\n",
       "       \"<li>re-rerun `output_notebook()` to attempt to load from CDN again, or</li>\\n\"+\n",
       "       \"<li>use INLINE resources instead, as so:</li>\\n\"+\n",
       "       \"</ul>\\n\"+\n",
       "       \"<code>\\n\"+\n",
       "       \"from bokeh.resources import INLINE\\n\"+\n",
       "       \"output_notebook(resources=INLINE)\\n\"+\n",
       "       \"</code>\\n\"+\n",
       "       \"</div>\"}};\n",
       "  \n",
       "    function display_loaded() {\n",
       "      if (window.Bokeh !== undefined) {\n",
       "        document.getElementById(\"8e6f4269-730f-4efd-b4ae-0552a6dfd75d\").textContent = \"BokehJS successfully loaded.\";\n",
       "      } else if (Date.now() < window._bokeh_timeout) {\n",
       "        setTimeout(display_loaded, 100)\n",
       "      }\n",
       "    }\n",
       "  \n",
       "    function run_callbacks() {\n",
       "      window._bokeh_onload_callbacks.forEach(function(callback) { callback() });\n",
       "      delete window._bokeh_onload_callbacks\n",
       "      console.info(\"Bokeh: all callbacks have finished\");\n",
       "    }\n",
       "  \n",
       "    function load_libs(js_urls, callback) {\n",
       "      window._bokeh_onload_callbacks.push(callback);\n",
       "      if (window._bokeh_is_loading > 0) {\n",
       "        console.log(\"Bokeh: BokehJS is being loaded, scheduling callback at\", now());\n",
       "        return null;\n",
       "      }\n",
       "      if (js_urls == null || js_urls.length === 0) {\n",
       "        run_callbacks();\n",
       "        return null;\n",
       "      }\n",
       "      console.log(\"Bokeh: BokehJS not loaded, scheduling load and callback at\", now());\n",
       "      window._bokeh_is_loading = js_urls.length;\n",
       "      for (var i = 0; i < js_urls.length; i++) {\n",
       "        var url = js_urls[i];\n",
       "        var s = document.createElement('script');\n",
       "        s.src = url;\n",
       "        s.async = false;\n",
       "        s.onreadystatechange = s.onload = function() {\n",
       "          window._bokeh_is_loading--;\n",
       "          if (window._bokeh_is_loading === 0) {\n",
       "            console.log(\"Bokeh: all BokehJS libraries loaded\");\n",
       "            run_callbacks()\n",
       "          }\n",
       "        };\n",
       "        s.onerror = function() {\n",
       "          console.warn(\"failed to load library \" + url);\n",
       "        };\n",
       "        console.log(\"Bokeh: injecting script tag for BokehJS library: \", url);\n",
       "        document.getElementsByTagName(\"head\")[0].appendChild(s);\n",
       "      }\n",
       "    };var element = document.getElementById(\"8e6f4269-730f-4efd-b4ae-0552a6dfd75d\");\n",
       "    if (element == null) {\n",
       "      console.log(\"Bokeh: ERROR: autoload.js configured with elementid '8e6f4269-730f-4efd-b4ae-0552a6dfd75d' but no matching script tag was found. \")\n",
       "      return false;\n",
       "    }\n",
       "  \n",
       "    var js_urls = [];\n",
       "  \n",
       "    var inline_js = [\n",
       "      function(Bokeh) {\n",
       "        (function() {\n",
       "          var fn = function() {\n",
       "            var docs_json = {\"599cf786-3052-44fd-8f89-25a69c4d8242\":{\"roots\":{\"references\":[{\"attributes\":{\"plot\":{\"id\":\"2fb233bf-5848-4964-bf74-fb81ecbe7715\",\"subtype\":\"Figure\",\"type\":\"Plot\"}},\"id\":\"3c86c2be-40b5-4af1-bd08-96504abecfcc\",\"type\":\"ResetTool\"},{\"attributes\":{\"plot\":null,\"text\":\"\"},\"id\":\"84f7c299-599c-406e-b118-8841555a6606\",\"type\":\"Title\"},{\"attributes\":{\"plot\":{\"id\":\"2fb233bf-5848-4964-bf74-fb81ecbe7715\",\"subtype\":\"Figure\",\"type\":\"Plot\"}},\"id\":\"d8639ecd-b9c8-42d5-8b89-a9b32ad36ccb\",\"type\":\"WheelZoomTool\"},{\"attributes\":{\"axis_label\":\"squared fluctuation\",\"axis_label_standoff\":3,\"axis_label_text_color\":{\"value\":\"#3c3c3c\"},\"axis_label_text_font\":\"Lucida Sans Unicode\",\"axis_label_text_font_size\":{\"value\":\"1em\"},\"axis_label_text_font_style\":\"normal\",\"axis_line_color\":{\"value\":null},\"formatter\":{\"id\":\"4978addd-440d-4c4d-a6a9-80b809fc0487\",\"type\":\"LogTickFormatter\"},\"major_label_text_font\":\"Lucida Sans Unicode\",\"major_label_text_font_size\":{\"value\":\"0.75em\"},\"major_tick_line_color\":{\"value\":null},\"minor_tick_line_color\":{\"value\":null},\"plot\":{\"id\":\"2fb233bf-5848-4964-bf74-fb81ecbe7715\",\"subtype\":\"Figure\",\"type\":\"Plot\"},\"ticker\":{\"id\":\"0c85818b-a74a-4531-880e-02b1dcac73ab\",\"type\":\"LogTicker\"}},\"id\":\"49a76a7c-5c8e-4b09-9897-6653576e62e6\",\"type\":\"LogAxis\"},{\"attributes\":{\"background_fill_color\":{\"value\":\"#E3DCD0\"},\"below\":[{\"id\":\"72e1f655-c736-491d-b322-7cd9630d63e9\",\"type\":\"LogAxis\"}],\"left\":[{\"id\":\"49a76a7c-5c8e-4b09-9897-6653576e62e6\",\"type\":\"LogAxis\"}],\"plot_width\":800,\"renderers\":[{\"id\":\"72e1f655-c736-491d-b322-7cd9630d63e9\",\"type\":\"LogAxis\"},{\"id\":\"d05528d9-dddc-4772-b787-e3acdf92eb18\",\"type\":\"Grid\"},{\"id\":\"49a76a7c-5c8e-4b09-9897-6653576e62e6\",\"type\":\"LogAxis\"},{\"id\":\"f62134f6-a712-46ec-b116-69e08b948eb5\",\"type\":\"Grid\"},{\"id\":\"80607901-1057-428e-9f8d-b8c7cace3b70\",\"type\":\"BoxAnnotation\"},{\"id\":\"8b7ebc4e-9fbc-4f18-bdbe-c44eb84188eb\",\"type\":\"GlyphRenderer\"},{\"id\":\"235f3752-7e72-4845-9452-daf9d3e62583\",\"type\":\"GlyphRenderer\"}],\"title\":{\"id\":\"84f7c299-599c-406e-b118-8841555a6606\",\"type\":\"Title\"},\"tool_events\":{\"id\":\"e4efea60-35f8-467f-802d-b25437b040f3\",\"type\":\"ToolEvents\"},\"toolbar\":{\"id\":\"802cd401-6364-4808-a4bf-0c55f69755b1\",\"type\":\"Toolbar\"},\"x_mapper_type\":\"log\",\"x_range\":{\"id\":\"bb395b8a-9c2a-48e7-a85a-038fd0774b6f\",\"type\":\"DataRange1d\"},\"y_mapper_type\":\"log\",\"y_range\":{\"id\":\"c7eb8bf7-d5b4-4223-8e5f-fd4295753ae6\",\"type\":\"DataRange1d\"}},\"id\":\"2fb233bf-5848-4964-bf74-fb81ecbe7715\",\"subtype\":\"Figure\",\"type\":\"Plot\"},{\"attributes\":{\"grid_line_color\":{\"value\":\"#FFFFFF\"},\"grid_line_width\":{\"value\":0.75},\"plot\":{\"id\":\"2fb233bf-5848-4964-bf74-fb81ecbe7715\",\"subtype\":\"Figure\",\"type\":\"Plot\"},\"ticker\":{\"id\":\"2daf6abb-9a44-4e0a-88ad-6cc6a6d26565\",\"type\":\"LogTicker\"}},\"id\":\"d05528d9-dddc-4772-b787-e3acdf92eb18\",\"type\":\"Grid\"},{\"attributes\":{},\"id\":\"e4efea60-35f8-467f-802d-b25437b040f3\",\"type\":\"ToolEvents\"},{\"attributes\":{\"num_minor_ticks\":10},\"id\":\"2daf6abb-9a44-4e0a-88ad-6cc6a6d26565\",\"type\":\"LogTicker\"},{\"attributes\":{\"plot\":{\"id\":\"2fb233bf-5848-4964-bf74-fb81ecbe7715\",\"subtype\":\"Figure\",\"type\":\"Plot\"}},\"id\":\"26d97eb2-4580-4c6d-aa1f-54ba0d2b0188\",\"type\":\"HelpTool\"},{\"attributes\":{\"data_source\":{\"id\":\"e0c17b29-bde6-4252-81b0-c2e589edd9c8\",\"type\":\"ColumnDataSource\"},\"glyph\":{\"id\":\"50682325-baa1-4e4f-bcf7-f09fc0399abd\",\"type\":\"Line\"},\"hover_glyph\":null,\"nonselection_glyph\":{\"id\":\"f48879f4-7ef8-4044-9917-cca86459c8a6\",\"type\":\"Line\"},\"selection_glyph\":null},\"id\":\"235f3752-7e72-4845-9452-daf9d3e62583\",\"type\":\"GlyphRenderer\"},{\"attributes\":{\"axis_label\":\"summed intensity [a.u.]\",\"axis_label_standoff\":3,\"axis_label_text_color\":{\"value\":\"#3c3c3c\"},\"axis_label_text_font\":\"Lucida Sans Unicode\",\"axis_label_text_font_size\":{\"value\":\"1em\"},\"axis_label_text_font_style\":\"normal\",\"axis_line_color\":{\"value\":null},\"formatter\":{\"id\":\"b87e28d7-360c-400a-9e11-5acf27fd6751\",\"type\":\"LogTickFormatter\"},\"major_label_text_font\":\"Lucida Sans Unicode\",\"major_label_text_font_size\":{\"value\":\"0.75em\"},\"major_tick_line_color\":{\"value\":null},\"minor_tick_line_color\":{\"value\":null},\"plot\":{\"id\":\"2fb233bf-5848-4964-bf74-fb81ecbe7715\",\"subtype\":\"Figure\",\"type\":\"Plot\"},\"ticker\":{\"id\":\"2daf6abb-9a44-4e0a-88ad-6cc6a6d26565\",\"type\":\"LogTicker\"}},\"id\":\"72e1f655-c736-491d-b322-7cd9630d63e9\",\"type\":\"LogAxis\"},{\"attributes\":{\"fill_alpha\":{\"value\":0.1},\"fill_color\":{\"value\":\"#1f77b4\"},\"line_alpha\":{\"value\":0.1},\"line_color\":{\"value\":\"#1f77b4\"},\"size\":{\"units\":\"screen\",\"value\":3},\"x\":{\"field\":\"summed\"},\"y\":{\"field\":\"fluct\"}},\"id\":\"32e165ea-4bad-4d76-8977-76c55e785e56\",\"type\":\"Circle\"},{\"attributes\":{\"plot\":{\"id\":\"2fb233bf-5848-4964-bf74-fb81ecbe7715\",\"subtype\":\"Figure\",\"type\":\"Plot\"}},\"id\":\"b1b80df3-9a42-4476-b144-4bffc17a9b4d\",\"type\":\"SaveTool\"},{\"attributes\":{\"plot\":{\"id\":\"2fb233bf-5848-4964-bf74-fb81ecbe7715\",\"subtype\":\"Figure\",\"type\":\"Plot\"}},\"id\":\"d8151dc9-711f-4f4f-8e5a-e3f81e8a4e38\",\"type\":\"PanTool\"},{\"attributes\":{\"line_color\":{\"value\":\"tomato\"},\"x\":{\"field\":\"x\"},\"y\":{\"field\":\"y\"}},\"id\":\"50682325-baa1-4e4f-bcf7-f09fc0399abd\",\"type\":\"Line\"},{\"attributes\":{\"callback\":null},\"id\":\"c7eb8bf7-d5b4-4223-8e5f-fd4295753ae6\",\"type\":\"DataRange1d\"},{\"attributes\":{\"callback\":null},\"id\":\"bb395b8a-9c2a-48e7-a85a-038fd0774b6f\",\"type\":\"DataRange1d\"},{\"attributes\":{\"num_minor_ticks\":10},\"id\":\"0c85818b-a74a-4531-880e-02b1dcac73ab\",\"type\":\"LogTicker\"},{\"attributes\":{\"dimension\":1,\"grid_line_color\":{\"value\":\"#FFFFFF\"},\"grid_line_width\":{\"value\":0.75},\"plot\":{\"id\":\"2fb233bf-5848-4964-bf74-fb81ecbe7715\",\"subtype\":\"Figure\",\"type\":\"Plot\"},\"ticker\":{\"id\":\"0c85818b-a74a-4531-880e-02b1dcac73ab\",\"type\":\"LogTicker\"}},\"id\":\"f62134f6-a712-46ec-b116-69e08b948eb5\",\"type\":\"Grid\"},{\"attributes\":{\"line_alpha\":{\"value\":0.1},\"line_color\":{\"value\":\"#1f77b4\"},\"x\":{\"field\":\"x\"},\"y\":{\"field\":\"y\"}},\"id\":\"f48879f4-7ef8-4044-9917-cca86459c8a6\",\"type\":\"Line\"},{\"attributes\":{\"overlay\":{\"id\":\"80607901-1057-428e-9f8d-b8c7cace3b70\",\"type\":\"BoxAnnotation\"},\"plot\":{\"id\":\"2fb233bf-5848-4964-bf74-fb81ecbe7715\",\"subtype\":\"Figure\",\"type\":\"Plot\"}},\"id\":\"c2bea532-2766-4258-a5b4-13d2d5ad152b\",\"type\":\"BoxZoomTool\"},{\"attributes\":{\"data_source\":{\"id\":\"00289b88-4118-4c7a-80e2-4580c1900a1f\",\"type\":\"ColumnDataSource\"},\"glyph\":{\"id\":\"f1c9848d-42fa-43f9-85a5-6b20bb54c1af\",\"type\":\"Circle\"},\"hover_glyph\":null,\"nonselection_glyph\":{\"id\":\"32e165ea-4bad-4d76-8977-76c55e785e56\",\"type\":\"Circle\"},\"selection_glyph\":null},\"id\":\"8b7ebc4e-9fbc-4f18-bdbe-c44eb84188eb\",\"type\":\"GlyphRenderer\"},{\"attributes\":{\"callback\":null,\"column_names\":[\"I_1\",\"I_2\",\"summed\",\"fluct\",\"index\"],\"data\":{\"I_1\":[13948.627010037084,23780.11400032067,14004.550323795063,31920.039539533736,23406.91817681954,15712.356725749052,10559.482539373399,10337.659019806966,11836.003764881938,10454.227147242742,6591.720813891597,5796.180245315482,3698.182470770589,5768.771480700794,8429.05888260131,8434.250255192232,7191.778157066052,7098.478088463231,18083.11845123086,14275.569666862626,2696.2078041751683,12381.505647322903,2001.2078041751824,1071.627010037083,6554.629235492176,6389.512323688169,13209.84816694281,6199.522764935395,12175.51831402522,15768.912186482537,8598.150461000709,8032.388735518906,13291.959088409787,13134.884627622836,14434.661245262048,27806.11845123087,26319.959088409778,39729.907735572335,12290.773706155858,18267.939745342224,7773.256931557515,10128.12067668594,7779.867510010377,8724.21225508536,6382.780382521136,11440.944196252385,11788.96131386487,12384.929304095,8357.197362927973,20099.28671587229,13954.288941327377,13677.167578613202,2223.6292354921793,1076.825058993305,6351.271823714907,2466.884627622844,7500.699245368942,23101.120676685954,15569.750598206369,27057.344059046743,10150.30160802967,2282.2971571195076,4409.899519780236,2869.0782256688663,10496.031323741616,3879.482539373396,3254.7975001336154,15275.973980567158,5572.378294271702,16464.98664726946,15401.627010037104,26444.18024531549,11230.227147242742,17285.00153942684,10971.29938257459,20872.093117826265,20036.40807858647,18302.55254925015,19390.825058993294,16287.656794351875,11248.08045112397,9921.376068816604,14563.495206075704,16435.14823554564,19953.061108056405,16127.371617906438,10546.65901980695,6895.616568789891,19056.912186482532,7535.691029576811,10966.214480540444,13189.244264855211,10235.88685307794,15549.53765709277,13002.616568789887,14880.020882494422,13913.614343334786,8572.720813891587,14409.254706102425,10409.871960920551,10220.944196252396,19123.852617852983,4598.19958838306,16982.046215899005,6337.569666862638,13106.376068816611,9919.788598313266,10640.210029630272,8509.06110805639,15054.705921734205,12826.254706102423,4668.746147296183,19596.652343441692,10576.946421707482,13871.140019753508,5037.614343334804,5103.52499039047,13414.086441460979,15250.612117879698,10304.303833484762,17655.733480593895,16595.818382628036,7406.267372804731,16993.081990550796,6721.684353211549,18551.14601009054,7380.895068870064,17711.40140222121,18349.512323688185,11324.884627622843,18043.46097085075,13553.539882547868,9775.527215845561,14117.061108056407,7435.758813998473,18512.761039453566,11433.420745288762,8042.408078586474,7170.373843361511,30270.761039453573,30228.731255138813,12277.301608029666,19967.01643158423,23220.016431584234,13946.110235438737,14320.542108002957,22995.031323741616,14875.89951978023,24159.267372804716,14215.214480540446,19783.09311782627,16182.737931504063,12681.482539373397,22703.539882547855,15738.422970743866,16273.612117879702,28940.312049276872,22056.969529657,18816.729029683724,24094.699245368945,8459.473637553048,2531.98887272455,24402.041764988844,273.5376570927686,10637.599451177402,23694.68435321156,3566.2398139450265,10927.778157066048,8778.46542176092,13415.048441354105,6707.869735465467,5645.0335491967035,8788.750598206363,6483.758813998479,1803.2226963325625,17493.222696332567,9052.837725695601,8380.641902194471,12815.726804228629,12401.463196305851,22806.25470610242,16790.42074528877,28074.17579440532,8622.929304095007,8066.51232368817,15846.256931557511,15623.988872724554,11229.557000160334,10182.065558966573,17866.36117665922,18445.437862901235,7575.435637446147,10517.66124526204,8482.718588436495,13663.46764721601,9375.52721584556,8879.559225615425,12019.229372697833,9304.678362874523,11022.378294271699,5259.88462762284,5752.214480540444,6854.661245262046,4533.748372751281,10317.482539373403,7954.0037648819325,8580.527215845566,30622.346284501837,6553.880176712678,6738.679902301379,7959.250255192253,18480.25693155752,28963.12290214104,7347.629235492174,57.28894132737514,7355.48253937341,7580.320951097238,9822.810166835914,11114.584559020032,8347.490755165509,14078.018657039325,16855.718588436495,15129.237588489956,6992.299382574578,6278.363402114303,7698.827284448389,4475.663470717136,6150.420745288773,7517.807941380824,6390.854843308076,8862.403627676298,15857.614343334799,17601.277814051948,8877.524990390473,9261.071549303604,8109.912186482521,25321.411843468424,15902.286715872286,7355.418519833676,7163.150461000711,665.4207452887645,2160.316500187052,7781.735706048986,8126.703696279124,13374.714137526322,14341.133343388243,22423.280039507034,10783.686578666648,18434.17579440531,12432.192912017796,23720.845941487714,13997.256931557507,13263.167578613193,16359.554774705253,26843.265147349633,19222.46542176093,17242.552549250166,25735.64190219448,17707.03132374162,15512.299382574576,15569.416294378589,1828.5994511774156,8280.807941380828,17095.84816694281,7243.314274731963,9695.98887272455,12711.77815706606,4664.986647269473,11823.316500187062,12207.914411937625,7630.646353104654,14478.959088409776,11729.7059217342,9784.167578613193,8293.265147349646,1919.4803139183186,2219.629235492173,5249.329166889349,10471.120676685945,3817.388735518906,83.37161790642568,4717.994863061598,16970.52875527241,8747.860833645107,3650.443853238262,9284.039539533744,9087.937519887126,9844.93306897694,9972.877951257587,16645.020196466157,16914.305372911596,17171.74169638599,18603.38651006382,18197.341833591643,14253.79304922344,16058.803490470646,19395.384284608732,15978.89951978024,16173.016431584238,24905.939745342217,15699.361176659218,22680.597225722315,13041.912186482534,13628.618794244978,32070.2055787201,15940.405853131384,17921.316500187055,9175.63146094727,9918.720813891588,6396.465421760925,9648.480313918306,11541.810166835909,1001.7185884365026,10119.686578666648,8369.227147242736,7233.152686455798,15599.1675786132,15488.539882547862,19435.4952060757,19894.331392344444,6252.01198067405,1809.212255085356,4701.137794298428,7860.256931557519,3919.65901980696,20362.863059100197,13034.301608029667,16353.227147242735,15593.390960973997,9035.884627622854,16289.020882494422,15780.825058993294,10471.301608029677,1499.9479611343322,1522.765490363745,1808.9695296569953,9367.26959825981,10772.54809833997,7819.5823335649375,4508.314274731976,8020.7505982063685,8098.871960920542,11756.41851983369,6496.011980674073,7607.763264908672,4690.344059046739,7045.242039400127,8926.1526864558,5252.018657039322,11874.833274785407,474.89506887005854,2475.348509956918,6394.499656985884,4487.2911667824665,8938.07822566887,7923.080451123964,18436.644127649568,8934.224921787643,7066.548098339966,2750.6247845820035,4958.567441407548,2128.7803825211454,4068.0782256688803,12632.781921948004,10813.04399044392,8627.13779429842,12603.31427473196,10413.716362981408,3698.1973629279764,3437.7357060489867,12054.761039453577,10681.431186535983,113.83995115068473,4064.356725749031,5690.224921787647,4929.822833538216,1497.018657039332,1159.8101668359036,2737.221156905712,612.8377256956032,590.6865786666422,3309.3016080296684,882.8652845552846,6134.524990390469,8445.433411991067,3068.731255138802,3230.7163629814036,9714.875725802503,12732.545872884897,4663.882402167757,6827.0611080563995,4266.090892371179,9858.512323688183,5773.316500187071,13723.388735518894,6152.018657039327,3262.5950002672266,8770.833274785422,7706.646353104666,7831.599451177413,1173.897294325154,1847.1973629279767,6091.810166835907,7996.988872724549,659.0462158990173,6009.973980567164,23568.84594148771,6583.837725695594,15334.463196305847,6519.288941327375,13607.408078586475,496.90174523532244,8146.150461000709,140.89506887005626,9451.790823768335,5759.284490417203,3422.895068870057,4604.3313923444575,663.9590884097868,3944.0864414609878,3706.23536303486,769.0186570393253,1620.4460786933623,15229.929304095016,3724.6441276495666,3939.5696668626288,24436.590549357054,21066.118451230854,6709.220470877472,3537.5249903904687,5859.750598206361,3200.562990497369,9487.914411937623,6770.6270100370875,4730.978431477342,5375.495206075705,18105.38651006382,26037.545872884904,10104.512323688172,6576.271823714909,10908.056657146217,12182.256931557524,9796.06333351149,10524.061108056401,9254.857068763164,8420.601676632496,11983.7312551388,6277.729029683712,7171.140019753514,6732.4014022211995,10095.537657092773,10572.91218648254,13521.816157172925,7269.952412044524,15224.443853238274,7513.907735572355,6975.316500187059,8163.79304922343,8526.178019860392,7902.99708851668,2668.5503237950606,3857.5205394802883,10375.271823714897,5059.07600021378,3153.877951257591,1360.0782256688817,12501.414068923514,2661.5249903904833,8350.033549196716,12298.765490363749,4618.393186429083,14703.75059820636,10360.031323741621,10006.229372697833,9843.408078586464,4613.899519780236,15580.552549250151,2608.2122550853596,4931.899519780231,6886.212255085363,9767.452755058637,7242.408078586473,7245.4676472160145,1285.8697354654619,5043.212255085359,14908.612117879702,31.446078693363688,2912.105784528548,1916.3291668893607,5871.465421760926,6672.482539373411,7500.341833591651,16822.941970797307,4708.820608083121,3179.146010090525,14643.552549250153,13922.195137472885,8274.271823714897,7805.140019753502,8511.71413752633,14716.146010090535,4507.482539373407,12689.629235492177,2911.8228335382146,3682.939745342201,7224.5994511774115,2074.0037648819325,7674.686578666638,3016.662784688886,524.5718923177304,13865.195137472887,2838.822833538202,12563.52276493538,13177.058882601305,14065.105784528565,4247.1824707705755,1909.6716865092421,8575.956862954696,7360.212255085361,5418.373843361518,4220.024647376349,10736.120676685943,9364.492980620622,19543.688804121735,3260.152686455803,5078.929304095,5108.40585313139,9615.239813945049,11814.433411991056,21505.239813945034,995.3589512041342,11244.140019753504],\"I_2\":[10886.058882601314,21136.041764988826,14562.87795125759,34089.933068976934,32061.067098393447,13100.473637553037,7472.571892317723,8942.61656878988,10751.316500187066,8456.016431584248,5570.154911910899,4243.699245368944,4329.778157066046,6502.99931397176,10501.237588489957,5372.66946105417,9557.986647269461,6344.909961027444,18389.133343388232,19394.23981394504,5144.701470824018,12828.997088516657,3748.8950688700575,3894.0164315842303,7995.6016766324965,7641.882402167761,8301.918176819547,10026.388735518907,13389.24802973716,15770.92707863992,9670.929304094998,9496.22269633255,14007.422970743859,11337.214480540446,14996.40585313138,21329.55254925015,34522.2718237149,39007.565215952454,10364.207804175174,27483.458745395656,5999.9441962524015,6431.763264908654,6242.986647269454,4914.586784475103,5193.899519780225,13872.227147242744,13907.512323688175,11489.065558966578,7724.376068816607,18053.122902141036,16792.539882547862,17057.554774705237,5856.43563744616,3684.4974315307895,6292.361176659226,4007.7059217341985,8104.937519887137,20348.86973546546,16206.482539373399,25712.718588436503,8382.854843308078,2172.2055787200998,5118.7654903637485,2855.9293040950024,9771.79304922343,4576.691029576825,2735.527215845568,11696.68880412172,5608.720813891588,17917.45052960353,18327.403627676296,25906.90996102745,11548.48031391831,18425.67168650925,12220.733480593897,17422.06555896657,19736.586784475112,16165.101333618388,17119.224921787656,16122.420745288768,9674.98887272455,9384.033549196707,11396.676137419434,6876.401402221198,19927.684353211538,11873.371617906423,7105.584559020023,7694.569666862637,16402.971755112085,12248.765490363749,14227.378294271706,12900.452755058628,12980.661245262036,20977.56744140754,19415.108009983644,11314.499656985881,15926.614343334793,9308.780382521138,17451.26959825981,10106.484764828496,9427.81016683591,14122.773706155886,3451.931529550096,13725.014206129154,7253.671686509249,13524.74837275127,13366.294931664395,9668.733480593895,7527.699245368945,14315.078225668865,10380.688804121733,2442.522764935391,10625.47363755306,10301.018657039323,14148.005990337035,4578.780382521136,4126.182470770575,8573.011980674048,17877.058882601305,14496.58678447511,17093.34628450184,20712.46097085076,3234.6247845820035,21098.1757944053,5926.326941434256,15341.371617906421,1638.7908237683414,18032.892843414968,18758.705921734203,12494.79304922343,19171.04176498884,12195.944196252389,9284.795274678523,14456.81016683591,832.5287552724159,19219.314274731976,9537.420745288771,7492.512323688185,9915.49298062061,23102.358951204125,34581.4036276763,11389.150461000709,21017.418519833667,23884.48031391832,17211.393186429086,15514.167578613193,21577.807941380823,16838.22714724274,24482.701470824028,12545.244264855219,17360.048441354094,15326.20181383814,18865.1675786132,19621.97175511207,12428.916637392704,14982.314274731969,30936.74392184111,21341.79304922344,23355.758813998473,20537.99263760651,8023.071549303604,3046.1229021410363,20115.29270620933,2655.8652845552874,14954.688804121735,17530.265147349626,1710.029098286524,9622.731255138802,7987.376068816607,13596.644127649563,9871.303833484757,9188.288941327384,12111.733480593884,1589.114000320677,3901.924853184827,16015.969529656986,7501.62923549219,13466.463196305851,11318.203353265006,17371.522764935376,26582.071549303593,16618.627010037086,32813.85860819001,9682.720813891588,3808.810166835909,10214.450529603546,15104.81016683592,16594.825058993298,16224.586784475116,22636.078225668876,21188.98887272456,7502.837725695596,8864.020882494422,7507.390960974002,11010.078225668867,6592.122902141032,8681.961313864873,9888.752823661456,10939.333617799544,9753.646353104656,8505.093117826269,6125.9293040950015,1754.4378629012413,4643.1251275961295,9937.735706048987,9504.61656878988,5110.110235438737,38014.53543163768,5516.056657146205,11427.904824089042,14636.322490524102,17687.80794138083,32373.403627676296,8020.2271472427465,752.1846962256684,7457.259157012595,6644.648578559747,13865.269598259803,15029.197362927976,6469.282264962111,13077.765490363745,15518.70369627911,12902.892843414964,8835.701470824028,7823.452755058633,6518.303833484757,5929.827284448387,5063.733480593888,4029.3016080296684,5001.735706048972,5361.105784528558,19810.195137472874,21237.248029737173,14356.332931771316,14439.952412044511,11417.96952965699,21895.877951257593,19789.063333511487,7110.29938257458,5897.882402167763,1420.1377942984184,1348.9590884097754,4636.108009983655,7705.454980513718,10664.950186589429,12203.8503923979,18843.28003950702,9267.99931397177,18399.75881399847,15265.046215899009,18566.69701991385,14323.450529603542,11520.390960973993,20434.686578666628,25880.565215952465,14243.090892371181,17852.865284555286,21490.807941380823,17165.86528455529,16511.98664726947,14195.612117879706,3173.569666862645,10852.242039400136,19340.848166942804,12782.224921787658,13022.644127649572,11236.19736292796,6569.390960974,8644.53765709276,12652.408078586473,3842.7185884365026,11746.229372697835,12578.944196252392,5553.584559020024,6592.041764988822,1660.614343334786,2883.5845590200224,3650.1184512308423,7673.08644146098,6674.388735518911,3149.2249217876515,3435.7268042286146,13081.007529763863,5082.935294432025,7310.265147349629,8496.13111793316,8696.428961080885,14734.23313757977,2293.8019510437907,19931.005304308776,9746.141559180345,13838.935294432042,19783.565215952465,17902.892843414953,13616.76326490867,15662.969529656988,19591.222696332574,19814.122902141036,19503.64190219449,26417.131117933146,17782.64412764958,20885.029098286523,15063.703696279124,23317.269598259805,25317.178019860392,18458.25693155752,21514.73348059388,8729.959088409789,7507.182470770572,8584.122902141029,10545.03354919671,11053.854843308081,2339.06333351149,10339.152686455813,7693.614343334786,7109.2569315575165,6332.889078533022,1584.0722353318424,18088.55477470526,18660.748372751277,1458.761039453576,5949.061108056403,5828.703696279124,5832.122902141029,5487.435637446157,32596.36494154117,13208.599451177412,6049.7572745716325,14243.331392344446,12924.85261785299,12186.976206022262,12323.014206129152,12208.299382574583,2842.6352258292177,2007.4378629012504,33.507872778001456,12659.656794351878,6545.411843468413,7793.597225722316,12254.55254925015,6638.780382521145,7551.169804068281,16177.907735572364,2638.026872831435,3715.971755112088,2450.656794351857,4221.9166373927055,7254.1080099836445,3342.348509956916,17143.818382628022,2497.8034904706574,3997.9910981796475,6628.303833484761,7550.797500133622,9555.408078586464,10638.018657039323,15622.793049223426,6638.897294325143,1561.5927748121283,945.3738433615133,2708.222696332568,5204.376068816609,5427.839951150685,7779.192912017782,6696.267372804721,8755.227147242746,10559.880176712662,11209.805715925731,5012.286715872288,2183.991098179644,3979.971755112072,10722.252480647341,1155.5994511774152,6460.224921787656,7339.807941380821,2989.480313918323,1062.6612452620425,5270.003764881932,17199.852617852994,3107.016431584232,539.8206080831328,258.07600021378676,3433.895068870057,8117.016431584232,6440.884627622847,8836.148235545634,4369.5674414075565,19064.424510170727,16352.056657146211,4883.237588489943,3400.4036276762877,9871.43563744616,8349.842176605769,6031.929304094999,4615.271823714891,6664.301608029675,3415.831049330338,7987.580108109848,9165.10800998364,13243.361176659228,1103.3462845018403,1773.5249903904787,6601.929304095015,7131.256931557518,2016.4207452887613,9649.854843308065,25824.458745395666,9452.35895120413,13899.584559020013,3989.1824707705764,20407.852617852983,848.1251275961192,11283.897294325143,8306.0611080564,9985.565215952469,2201.3269414342594,4329.5376570927665,8930.105784528552,1840.2271472427337,1540.5056473229192,743.4758630081427,2399.6761374194343,5563.743921841089,14261.83995115069,5034.301608029677,3933.9121864825324,26583.235363034866,20954.803490470655,6517.0566571462305,55.197362927960455,1959.7632649086586,983.679902301364,5170.750598206365,682.6694610541563,7373.422970743856,6223.301608029675,17078.897294325147,23854.169118040034,11842.984421814373,8131.078225668868,13182.86528455527,13493.616568789881,11880.676137419436,9340.63146094728,7898.899519780237,7599.723039346685,9415.016431584241,9087.282264962121,8127.24426485521,10514.433411991067,12319.13556884332,11011.061108056401,13027.056657146219,10126.146010090546,11822.558539587202,3996.3120492768767,6800.480313918322,4816.805715925723,6356.652343441678,5683.280039507021,3566.9099610274325,269.280039507011,9666.71858843651,6941.8228335382155,700.520539480284,591.5547747052565,8835.59500026723,7238.4207452887695,9632.348509956924,8434.703696279106,3969.557000160344,18433.048441354094,12465.108009983642,9921.42297074386,7411.663470717137,5240.093117826268,15699.297157119505,4869.524990390465,2448.1824707705755,7932.452755058638,9179.035774651802,6998.050666809183,4902.857068763158,1612.7975001336156,4479.167578613197,9496.073774758683,411.73125513878927,3241.4974315307977,2696.7654903637595,11398.197362927967,8543.333617799533,7727.478088463217,15918.554774705255,4629.550323795061,113.12666702295701,14663.597225722311,22363.163127703003,10321.408078586473,10363.437862901246,23298.92040227464,13451.90773557236,1742.661245262042,12092.37606881661,2822.450529603543,770.8801767126702,8714.346284501837,526.1973629279764,6268.612117879718,1501.2011278099023,1748.0484413540917,13975.954637499588,4761.869735465457,10246.046215899021,14069.520539480296,14523.86528455528,3153.733480593881,508.56744140755717,4433.612117879718,3643.3611766592207,5844.4058531313885,762.8310493303253,13161.135568843321,11579.463196305836,12001.105784528556,7556.705921734209,8475.388735518896,7012.318725642145,11145.237588489936,10940.14823554563,28292.267372804723,1473.629235492178,6310.514549143266],\"fluct\":[9379323.535185441,6991117.98565274,311729.7395879331,4708437.9291194575,74894293.55677879,6821933.266404351,9529017.342905695,1946143.4401397614,1176546.462191244,3992846.0641724286,1043596.8920896372,2410197.255195005,398913.1109470296,539090.511149777,4293924.58913835,9373276.959035045,5598942.619110698,567864.922687078,93645.11422208736,26200784.074632715,5995121.235619526,200248.58994166247,3054410.775176654,7965882.046861241,2076401.576125894,1568430.8134709792,24087776.787951328,14644903.15681009,1473139.8228021893,4.059790405878833,1150854.4461907216,2142809.8648313605,511888.56692454277,3231617.9577112217,315557.00447026954,41945905.8826993,67277934.20774862,521778.7156507974,3711656.1746746483,84925790.4403458,3144638.0571953026,13663058.115600877,2362002.786259285,14513246.226322424,1413437.7057915723,5911136.787776386,4488258.381223351,802571.8498355208,400462.79028078413,4186786.352623233,8055668.405338971,11427017.59550297,13197282.35407783,6799955.202495273,3470.464336519098,2374130.2603869885,365103.89239272545,7574885.243449088,405427.5649023348,1808017.6562138118,3123868.066124821,12120.155634472956,502490.96425130527,172.89413855562205,524521.078277079,486099.67881174485,269641.6281445893,12811282.374322044,1320.778732321794,2109651.3294849647,8560168.816324234,288659.3583789502,101285.07809902664,1301128.3844450028,1561085.565293318,11902690.156891393,89892.80840261048,4568697.699205702,5160167.183352673,27302.95190998557,2474617.1140311747,288736.9833914592,10028743.013604967,91369641.02359004,643.9796864564711,18096516.000000123,11840993.444680037,638326.0529200387,7043399.813262755,22213070.87292208,10635189.41999023,83400.53613059009,7533786.463989572,29463507.33940826,41120046.483383186,12712941.609551927,4052169.0000000293,541783.6885711207,9253854.604107298,92043.79075259909,629061.5886184308,25010790.281021424,1313930.4627006904,10608257.512665438,839242.9104006006,175035.38469959443,11878405.905829448,943766.6853276283,963071.1055373716,547049.1287869222,5980792.580930625,4956070.548169926,80482047.37298965,76136.13131476665,76654.76566715848,210528.60359595905,955198.4006569649,23436001.934883475,6898222.607916592,17575236.34116434,316279.35832828365,16946746.19916908,17402601.88387362,16851795.138444632,632593.4124690748,10302651.64872092,32971761.161615226,103356.74676083896,167439.4006818465,1368685.7149319763,1271438.4473090896,1843066.0474480926,240817.83808156906,115429.42294155865,43602647.208463326,499217.4742823886,3594815.9999999655,302385.34125516005,7535679.077746136,51385988.498819046,18945756.782651115,788812.459968852,1103344.546998778,441512.2509264868,10662072.750028245,1424741.764089506,2008522.1155101666,3850729.7175026345,104609.61576156587,2788800.5212757643,5871145.504180145,733654.1208662111,38237960.66451816,9496062.12402809,10952832.170491457,1667450.1197179877,3985740.221790346,511477.3981653314,20602791.382896397,12650161.89370098,190446.7826284757,264333.8002040322,18376217.492947053,5675484.924571193,18637260.48130532,38000064.14559948,3445518.2209254503,1703147.4162299025,625822.3643418531,32976.9932811181,10007315.29251112,12554658.773863144,11042215.23664048,23957547.852063004,4404550.743176348,2182276.91845303,2406247.7800791464,25865578.23563675,2242576.4861859987,24701492.115725905,14256792.833401674,29513.087471726234,22464593.175285917,1123158.0442369177,18128027.656464398,31717243.349089667,269546.52864819753,28786101.34313324,36512062.76072126,22750200.727613397,7527072.143502583,5270.456790540695,2734526.4493742166,951263.9808916159,7040475.422378281,7747339.573548971,39044.934728178996,4538930.3259939505,2672097.802453985,1609680.7385374936,10531378.144888422,139662.76934441394,26012278.54997988,11963.274500390116,144207.6574199218,2404400.0676432643,12043794.017896058,54644460.387033,1077077.6577653412,21988830.367114518,44583293.63583946,627975.4020320559,11630014.626957275,452387.9508912305,482880.11017566884,10358.47989807289,875482.788729938,16341478.254707955,15324193.404520022,3527667.132672126,1000506.3974445263,1787608.821850625,4956610.9239230305,3398131.258962432,2387301.1085819257,1393635.618275083,2114592.3971654167,1180889.2112500512,12169676.437831122,1929651.9774994769,12259086.586431019,15622894.934189178,13220279.409350066,30017336.458537787,26820806.990464002,10943243.385730525,11734282.446685087,15107032.475426832,60083.39145064381,1600903.2607028978,569597.8240658403,658300.8496459213,9894973.602253279,177450.4805340045,7342820.669797119,4567978.412593986,12816400.000000104,2297307.8843582403,1184.5285403248492,8025057.841310704,26565251.105761044,106402.26340621813,3037270.3389899293,16606699.219657484,926791.1579121124,24794170.703935396,372481.634875618,18018615.354876947,292860.68196862016,999374.6271931593,1887337.915365774,1808944.8810803727,6612273.3204563735,5040024.999999967,30679531.15606693,11066635.185120257,2177338.6800292283,3626755.7900564116,10104634.933303948,197574.61969093754,14348396.750343857,7467811.699135066,721205.6469066378,17897832.68567005,2894160.9966912023,67011.59072615433,440836.67164097127,2557474.913076993,7828995.581490957,8162449.000000029,9399456.480919426,1644211.3747033079,15128375.363681518,13431679.207976298,13394291.904831002,620799.6808291222,153278.95161853996,23905255.160839636,58968208.21705952,10797698.128963463,51382572.46048615,11107598.512905227,1392821.7778329942,86700.20781607257,405806.9461041236,156684.52453342816,38352.68350651705,14708938.39260699,11093066.025477761,2283699.364593256,4340067.853887104,3224064.900263277,4087640.9090855774,93869954.40213716,45603381.21071869,6339574.053131657,12912645.595076112,198623.86364318756,5815517.180342858,4785845.251463026,803807.7036881747,238100.39775914652,1788490.9671796826,48165.37246812544,456452.6608043626,15350.158081815085,85863917.24104814,193334220.55247703,1814248.5256603868,1521727.066228595,22975254.585510965,17138348.525445692,1271404.863309541,4113327.641277169,2457923.5228162007,149658568.30768687,30379.73812595559,106161491.41704108,1822660.8388482092,15124072.029034622,16826770.52777359,11956455.894185048,3017161.268773959,1802809.0907738334,234907.30870113446,3152264.095047502,10839813.448990988,17868680.917249534,675.225829592685,60004207.405610286,1909841.6770410633,299977.6526206182,19549566.884893388,14884049.092335572,15146041.155724773,5016199.043636441,7971166.32562037,2795733.4001188753,3646840.070657736,27762204.066667248,4092158.482182626,2318440.451469613,54664.392948317836,9385071.054482639,381096.1473032577,7370889.461938911,7917757.89155996,5268528.917392631,30304533.114037476,3258930.9607774657,5064051.471686578,9459288.825559266,1848951.9500852546,23557326.277315438,16947849.71954085,16406.88233769601,4175622.9129479392,633758.2578713121,1726830.8275216005,1571875.5417614523,65202221.98651639,1666.3780529259855,1085262.8558959432,5740184.412789376,2721124.1385301338,3764929.0934448754,188666.3611658659,16893691.41341855,209167708.7751821,6220927.416908275,2587.3469634024386,9309977.709791396,6507752.960461074,3930272.3144065253,4018215.82891211,33263098.625885054,1296981.7788324116,87414062.47128133,13100858.317383954,48116.69776644074,11741981.487844976,31419889.711139712,2276085.6126976716,66880.58234512023,82957793.6790901,262433.82187537896,23481.286732472254,613485.5231073145,2127110.404586163,29287164.9733899,4977.444987089311,5427.618475303882,260221.53419797705,749491.7939568348,1842465.6130360293,13248732.694947444,5087789.12115351,8228414.021193,2058876.703739252,6401438.752353381,46246045.931639664,123357.86431695847,9845455.190037515,66669936.447482,284915.1017515415,12659061.920364719,822000.7827791736,18712324.092075676,1383606.546230629,5777200.633949388,8777943.854998562,2659043.8183196057,15549597.879773514,937196.995284163,1715202.7159155782,32.00708425117492,4608083.9560898505,12391.02048904465,36926.93130773514,12126605.704988662,15209901.199882526,4914570.626729455,18637903.394590624,37063227.11821826,6982513.143099419,718775.6951941361,1053680.1100277996,4767134.053596918,3022285.2359633176,2417422.9475570153,5174754.291334659,1719664.0981621796,4345610.542216944,1400505.7296568211,1838620.874643786,673841.7371522089,6598295.84474893,7893589.381863377,914135.3275014833,14303766.122923905,4944387.673141392,191974.4774763383,244786.96286667662,8157841.869519082,11572823.687234849,12373479.412244556,30567.692028996513,11202324.209255295,4706841.6606400795,4927143.777664152,807050.0378082787,12875469.885648474,502047.68722346873,3544735.6383931884,6018962.589922646,590628.2946810396,13438229.444124019,20947974.751205955,1644331.6585894541,14930973.548504625,420988.396611761,13907662.402906349,4431347.854959686,7192.125812378743,5913381.8379015485,392118.4222338356,14100.281898046596,5113535.286853058,6168850.379541229,1094619.183784329,346234.5428310978,59710.544690495866,5487824.322279226,106881.76331091569,318146.39705658576,29295571.31575523,144616.81542412846,108498.85711485457,609080.8549982363,30544765.949516013,3500083.757648186,51590.878277081014,817916.2004552428,6283.777971109977,9400474.612064483,401.78905487349425,71249940.61208947,4190766.846009626,6544887.854254399,218661469.11621168,1598298.414756692,7644236.788371644,356711.3451039934,7987.408710591288,8480090.93124681,2219345.6274001524,2395704.6579296514,1977045.3892772256,2296624.033470394,1496894.8660419234,12267.666846164793,3698109.3870120137,5370697.555333471,796487.8089991949,210460.27886476208,1195630.6941184334,1963093.1056419623,17159019.98705028,13814981.939197563,181503.273348555,11952187.574370412,5880697.22718506,4906093.056372605,56890558.607455365,18460369.703581344,11535936.669308338,3624884.226112154,2340893.1901123063,764374.5697522102,46063743.0847209,228742.4648329662,24340660.284254093],\"index\":[0,1,2,3,4,5,6,7,8,9,10,11,12,13,14,15,16,17,18,19,20,21,22,23,24,25,26,27,28,29,30,31,32,33,34,35,36,37,38,39,40,41,42,43,44,45,46,47,48,49,50,51,52,53,54,55,56,57,58,59,60,61,62,63,64,65,66,67,68,69,70,71,72,73,74,75,76,77,78,79,80,81,82,83,84,85,86,87,88,89,90,91,92,93,94,95,96,97,98,99,100,101,102,103,104,105,106,107,108,109,110,111,112,113,114,115,116,117,118,119,120,121,122,123,124,125,126,127,128,129,130,131,132,133,134,135,136,137,138,139,140,141,142,143,144,145,146,147,148,149,150,151,152,153,154,155,156,157,158,159,160,161,162,163,164,165,166,167,168,169,170,171,172,173,174,175,176,177,178,179,180,181,182,183,184,185,186,187,188,189,190,191,192,193,194,195,196,197,198,199,200,201,202,203,204,205,206,207,208,209,210,211,212,213,214,215,216,217,218,219,220,221,222,223,224,225,226,227,228,229,230,231,232,233,234,235,236,237,238,239,240,241,242,243,244,245,246,247,248,249,250,251,252,253,254,255,256,257,258,259,260,261,262,263,264,265,266,267,268,269,270,271,272,273,274,275,276,277,278,279,280,281,282,283,284,285,286,287,288,289,290,291,292,293,294,295,296,297,298,299,300,301,302,303,304,305,306,307,308,309,310,311,312,313,314,315,316,317,318,319,320,321,322,323,324,325,326,327,328,329,330,331,332,333,334,335,336,337,338,339,340,341,342,343,344,345,346,347,348,349,350,351,352,353,354,355,356,357,358,359,360,361,362,363,364,365,366,367,368,369,370,371,372,373,374,375,376,377,378,379,380,381,382,383,384,385,386,387,388,389,390,391,392,393,394,395,396,397,398,399,400,401,402,403,404,405,406,407,408,409,410,411,412,413,414,415,416,417,418,419,420,421,422,423,424,425,426,427,428,429,430,431,432,433,434,435,436,437,438,439,440,441,442,443,444,445,446,447,448,449,450,451,452,453,454,455,456,457,458,459,460,461,462,463,464,465,466,467,468,469,470,471,472,473,474,475,476,477,478,479,480,481,482,483,484,485,486,487,488,489,490,491,492,493,494,495,496,497,498,499,500,501,502,503,504,505,506,507,508,509,510,511,512,513,514,515,516,517,518,519,520,521,522,523,524,525,526,527,528,529,530,531],\"summed\":[24834.685892638397,44916.15576530949,28567.428275052654,66009.97260851067,55467.98527521299,28812.83036330209,18032.054431691122,19280.275588596844,22587.320265069004,18910.24357882699,12161.875725802496,10039.879490684427,8027.9606278366355,12271.770794672553,18930.296471091267,13806.9197162464,16749.764804335515,13443.388049490675,36472.25179461909,33669.80948080767,7840.909274999186,25210.50273583956,5750.10287304524,4965.643441621313,14550.230912124673,14031.394725855931,21511.766343762356,16225.911500454302,25564.766343762378,31539.839265122457,18269.079765095707,17528.611431851456,27299.382059153646,24472.099108163282,29431.06709839343,49135.671000481016,60842.23091212468,78737.47295152479,22654.981510331032,45751.398490737876,13773.201127809916,16559.88394159459,14022.854157279831,13638.799039560463,11576.679902301361,25313.17134349513,25696.473637553045,23873.994863061576,16081.573431744579,38152.40961801333,30746.82882387524,30734.722353318437,8080.064872938339,4761.322490524095,12643.633000374133,6474.590549357043,15605.636765256078,43449.99041215141,31776.233137579766,52770.062647483246,18533.156451337745,4454.502735839607,9528.665010143985,5725.007529763869,20267.824372965046,8456.17356895022,5990.324715979184,26972.66278468888,11181.09910816329,34382.43717687299,33729.0306377134,52351.09020634294,22778.70746116105,35710.67322593609,23192.03286316849,38294.15867679284,39772.99486306158,34467.65388286854,36510.049980780954,32410.077539640642,20923.06932384852,19305.409618013313,25960.171343495138,23311.54963776684,39880.74546126794,28000.74323581286,17652.243578826972,14590.186235652527,35459.88394159461,19784.45651994056,25193.59277481215,26089.697019913838,23216.548098339976,36527.10509850031,32417.72457877353,26194.520539480305,29840.22868666958,17881.501196412726,31860.524304362232,20516.356725749047,19648.75436308831,33246.62632400887,8050.131117933155,30707.06042202816,13591.241353371886,26631.12444156788,23286.08352997766,20308.94351022417,16036.760353425336,29369.784147403072,23206.943510224155,7111.268912231574,30222.12598099475,20877.965078746805,28019.146010090542,9616.39472585594,9229.707461161044,21987.098422135026,33127.671000481,24800.89061795987,34749.07976509574,37308.27935347879,10640.892157386734,38091.25778495609,12648.011294645805,33892.51762799696,9019.685892638405,35744.29424563618,37108.21824542239,23819.677676846273,37214.50273583959,25749.484078800255,19060.322490524086,28573.871274892317,8268.28756927089,37732.07531418554,20970.841490577535,15534.92040227466,17085.86682398212,53373.119990657695,64810.13488281511,23666.452069030376,40984.4349514179,47104.496745502554,31157.503421867823,29834.709686616152,44572.83926512244,31714.126667022967,48641.96884362874,26760.458745395663,37143.14155918037,31508.939745342206,31546.650117986595,42325.511637659925,28167.33960813657,31255.92639261167,59877.05597111798,43398.76257888044,42172.4878436822,44632.69188297546,16482.545186856652,5578.111774865587,44517.33447119818,2929.402941648056,25592.288255299136,41224.94950056118,5276.2689122315505,20550.50941220485,16765.841490577528,27011.692569003666,16579.173568950224,14833.322490524088,20900.484078800248,8072.8728143191565,5705.147549517389,33509.19222598955,16554.46696118779,21847.105098500324,24133.930157493633,29772.985961241226,49388.32625540601,33409.04775532585,60888.03440259532,18305.650117986595,11875.322490524079,26060.70746116106,30728.799039560472,27824.38205915363,26406.65234344169,40502.43940232809,39634.42673562579,15078.273363141743,19381.68212775646,15990.109549410497,24673.545872884875,15967.650117986592,17561.520539480298,21907.98219635929,20244.01198067407,20776.024647376355,13764.977745449109,11878.143784635446,8609.099108163287,9176.87350034741,20255.218245422388,17458.62033367181,13690.637451284303,68636.88171613953,12069.936833858883,18166.58472639042,22595.572745716356,36168.064872938354,61336.52652981733,15367.85638273492,809.4736375530435,14812.741696386005,14224.969529656984,23688.079765095717,26143.781921948008,14816.77302012762,27155.784147403072,32374.422284715605,28032.13043190492,15828.000853398606,14101.816157172936,14217.131117933146,10405.490755165523,11214.154225882661,11547.109549410492,11392.590549357048,14223.509412204856,35667.80948080767,38838.52584378912,23233.85792216179,23701.023961348117,19527.881716139513,47217.28979472602,35691.35004938377,14465.717902408256,13061.032863168475,2085.558539587183,3509.275588596827,12417.843716032641,15832.158676792842,24039.66432411575,26544.983735786143,41266.56007901405,20051.685892638416,36833.93460840378,27697.239127916804,42287.54296140156,28320.70746116105,24783.558539587186,36794.24135337188,52723.8303633021,33465.55631413211,35095.41783380545,47226.449843575305,34872.89660829691,32024.286029844046,29765.028412258296,5002.169118040061,19133.049980780965,36436.696333885615,20025.53919651962,22718.633000374124,23947.97551999402,11234.377608243474,20467.85415727982,24860.3224905241,11473.364941541156,26225.18846110761,24308.65011798659,15337.752137633217,14885.306912338468,3580.0946572531047,5103.213794512196,8899.447618120192,18144.207118146925,10491.777471037816,3232.5965396940774,8153.721667290212,30051.536285036273,13830.796128077132,10960.70900058789,17780.170657466904,17784.366480968012,24579.166206556707,12266.679902301377,36576.02550077494,26660.44693209194,31010.676990818032,38386.95172601628,36100.23467700659,27870.55631413211,31721.773020127635,38986.6069809413,35793.022421921276,35676.65833377873,51323.07086327537,33482.0053043088,43565.62632400884,28105.61588276166,36945.888392504785,57387.38359858049,34398.6627846889,39436.04998078094,17905.59054935706,17425.90328466216,14980.588323901953,20193.51386311502,22595.66501014399,3340.7819219479925,20458.83926512246,16062.841490577523,14342.409618013315,21932.056657146222,17072.612117879704,37524.049980780954,38555.079765095725,7710.773020127626,7758.27336314176,10529.841490577553,13692.37983369855,9407.094657253117,52959.228000641364,26242.901059207077,22402.984421814366,29836.722353318444,21960.737245475844,28475.997088516684,28103.839265122446,22679.60099060426,4342.583186963549,3530.2033532649953,1842.4774024349967,22026.92639261169,17317.95994180838,15613.179559287253,16762.866823982127,14659.530980727513,15650.041764988822,27934.326255406057,9134.038853505508,11323.73502002076,7141.0008533985965,11267.158676792833,16180.260696439444,8594.367166996239,29018.65165741343,2972.6985593407157,6473.339608136565,13022.803490470644,12038.088666916088,18493.486304255333,18561.09910816329,34059.43717687299,15573.122216112786,8628.140873152093,3695.998627943517,7666.790137740116,7333.156451337754,9495.918176819565,20411.974833965785,17509.311363248642,17382.364941541164,23163.194451444622,21623.52207890714,8710.484078800266,5621.7268042286305,16034.732794565649,21403.683667183323,1269.4394023281,10524.581647536686,13030.032863168468,7919.30314745654,2559.6799023013746,6429.813931717836,19937.073774758705,3719.8541572798354,1130.507186749775,3567.377608243455,4316.760353425341,14251.5414219747,14886.318039613914,11904.879490684436,7600.283804388961,28779.30023597323,29084.60253003111,9547.1199906577,10227.464735732687,14137.52652981734,18208.35450029395,11805.245804282069,18338.660559233787,12816.320265069002,6678.426049597565,16758.41338289527,16871.754363088305,21074.96062783664,2277.243578826994,3620.722353318455,12693.739470930923,15128.245804282067,2675.4669611877785,15659.828823875228,49393.30468688338,16036.196676899724,29234.04775532586,10508.471412097952,34015.26069643946,1345.0268728314418,19430.047755325853,8446.956176926456,19437.356039720806,7960.611431851463,7752.4327259628235,13534.437176873009,2504.1862356525207,5484.5920887839075,4449.711226043002,3168.6947944587596,7184.190000534451,29491.76925524571,8758.945735679243,7873.481853345162,51019.82591239192,42020.92194170151,13226.277128023703,3592.722353318429,7819.51386311502,4184.242892798733,14658.665010143988,7453.296471091244,12104.4014022212,11598.796814105379,35184.283804388964,49891.71499092494,21947.496745502547,14707.350049383778,24090.921941701487,25675.873500347407,21676.739470930926,19864.69256900368,17153.7565885434,16020.32471597918,21398.747686723043,15365.011294645832,15298.384284608725,17246.834814212267,22414.673225936094,21583.97329453894,26548.872814319144,17396.09842213507,27047.002392825474,11510.219784849232,13775.796814105383,12980.598765149152,14882.83036330207,13586.277128023701,6235.460284822493,4126.8005789873,20041.990412151405,12000.898833751995,3854.3984907378754,1951.6330003741382,21337.009069190746,9899.945735679252,17982.382059153642,20733.469186642855,8587.950186589427,33136.79903956046,22825.139333725263,19927.652343441696,17255.0715493036,9853.992637606505,31279.849706369656,7477.737245475824,7380.081990550806,14818.665010144001,18946.48852971044,14240.458745395656,12148.324715979172,2898.6672355990777,9522.379833698556,24404.685892638387,443.17733383215295,6153.603216059346,4613.09465725312,17269.662784688895,15215.816157172943,15227.819922054869,32741.49674550256,9338.370931878182,3292.272677113482,29307.149774972466,36285.35826517589,18595.67990230137,18168.577882654747,31810.634539800973,28168.053745662895,6250.143784635449,24782.005304308786,5734.273363141758,4453.819922054871,15938.945735679248,2600.201127809909,13943.298696546357,4517.8639124987885,2272.620333671822,27841.149774972473,7600.692569003659,22809.568980834403,27246.579422081602,28588.971069083847,7400.915951364456,2418.239127916799,13009.568980834414,11003.573431744582,11262.779696492908,4982.855696706674,23897.256245529265,20943.95617692646,31544.794588650293,10816.858608190012,13554.318039613896,12120.724578773536,20760.477402434983,22754.58164753669,49797.50718674976,2468.9881866963124,17554.65456889677]}},\"id\":\"00289b88-4118-4c7a-80e2-4580c1900a1f\",\"type\":\"ColumnDataSource\"},{\"attributes\":{\"ticker\":null},\"id\":\"4978addd-440d-4c4d-a6a9-80b809fc0487\",\"type\":\"LogTickFormatter\"},{\"attributes\":{\"bottom_units\":\"screen\",\"fill_alpha\":{\"value\":0.5},\"fill_color\":{\"value\":\"lightgrey\"},\"left_units\":\"screen\",\"level\":\"overlay\",\"line_alpha\":{\"value\":1.0},\"line_color\":{\"value\":\"black\"},\"line_dash\":[4,4],\"line_width\":{\"value\":2},\"plot\":null,\"render_mode\":\"css\",\"right_units\":\"screen\",\"top_units\":\"screen\"},\"id\":\"80607901-1057-428e-9f8d-b8c7cace3b70\",\"type\":\"BoxAnnotation\"},{\"attributes\":{\"active_drag\":\"auto\",\"active_scroll\":\"auto\",\"active_tap\":\"auto\",\"tools\":[{\"id\":\"d8151dc9-711f-4f4f-8e5a-e3f81e8a4e38\",\"type\":\"PanTool\"},{\"id\":\"d8639ecd-b9c8-42d5-8b89-a9b32ad36ccb\",\"type\":\"WheelZoomTool\"},{\"id\":\"c2bea532-2766-4258-a5b4-13d2d5ad152b\",\"type\":\"BoxZoomTool\"},{\"id\":\"b1b80df3-9a42-4476-b144-4bffc17a9b4d\",\"type\":\"SaveTool\"},{\"id\":\"3c86c2be-40b5-4af1-bd08-96504abecfcc\",\"type\":\"ResetTool\"},{\"id\":\"26d97eb2-4580-4c6d-aa1f-54ba0d2b0188\",\"type\":\"HelpTool\"}]},\"id\":\"802cd401-6364-4808-a4bf-0c55f69755b1\",\"type\":\"Toolbar\"},{\"attributes\":{\"callback\":null,\"column_names\":[\"x\",\"y\"],\"data\":{\"x\":{\"__ndarray__\":\"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\",\"dtype\":\"float64\",\"shape\":[500]},\"y\":{\"__ndarray__\":\"I+ma0pRW7kBAJpLg18LuQNi6vUOdMO9AKbe+Xuqf70CQ57ZTYgjwQCH3j9OYQfBABOB1fZt78EBCGPgpbbbwQDL0zbsQ8vBAOuT6H4ku8UCwM/NN2WvxQP1KwUcEqvFAkHYrGg3p8UDXNNrc9ijyQLsMf7LEafJAxO77yHmr8kCyIotZGe7yQMDD56imMfNALc12ByV280BauXDRl7vzQHC1C28CAvRAgmumVGhJ9ECZZfMCzZH0QF0LJQc02/RA2Dwa+6Al9UBJjIuFF3H1QIcZOVqbvfVA4BAZOjAL9kD2z4bz2Vn2QL6ycmKcqfZATIuScHv69kBYxpIVe0z3QEU/SFefn/dAzMXiSezz90BCWCAQZkn4QFgUgdsQoPhAYuF77PD3+ECF1rOSClH5QFhfLi1iq/lAAiKKKvwG+kDoqDYJ3WP6QELTrFcJwvpA2g6otIUh+0BMXmDPVoL7QBQuxWeB5PtAsPu4TgpI/EB60U1m9qz8QKeaAqJKE/1AxVEBBwx7/UBhDV6sP+T9QGjtVrvqTv5AA+2UbxK7/kBxm20XvCj/QI+/JRTtl/9AlnQabVUEAEGm+cR4fT0AQaY96HpxdwBBwqdbSzSyAEGo7BvMyO0AQRlDb+kxKgFBixkKmnJnAUHTTjTfjaUBQa7v7sSG5AFB23oaYmAkAkHvrZ3YHWUCQXPcjFXCpgJBgtNREVHpAkGeS9RPzSwDQQrromA6cQNBUtocn5u2A0FA7Zty9PwDQU5in05IRARBgzr3spqMBEE8LPAr79UEQYUygFJJIAVBibtzzKxrBUFmeJtMHbgFQT3Q+pKeBQZBMvn2bDRUBkFquYa14qMGQWDSYlWt9AZBOhk3Q5hGB0EWPtSDp5kHQR1FYirf7QdBjbOTWENDCEGjc9k+2JkIQW1xlxyi8QhBgPNZQKVKCUEPsgsI5qQJQdiuLOFoAApBG9EJSTJdCkG8R/XMRrsKQZa0fwqrGgtBGSSyr2N7C0Fy00h7dd0LQZvI7jzlQAxBEz961belDEEG7Ck38gsNQXYd42WZcw1BvrZwd7LcDUHXDcOTQkcOQdusMPVOsw5BPfq36NwgD0F4y0HO8Y8PQatycoxJABBBgjaVJ2M5EEGspqmFSHMQQfhJz338rRBBnGRI8YHpEEF3I57L2yURQZpIxQINYxFBclpDlxihEUHNV1SUAeARQVnyEBDLHxJBg1GVK3hgEkHSXygTDKISQVWkY/6J5BJBS6pbMPUnE0Ee+cj3UGwTQWqeMa+gsRNBSkwTvef3E0H8DQ6UKT8UQeSUD7NphxRB/x9/pavQFEEzAGoD8xoVQVS7sHFDZhVBK9A0oqCyFUEPHgdUDgAWQdfxllOQThZB0LrheiqeFkHsaaOx4O4WQXx9h+22QBdBILxaMrGTF0EAoT2S0+cXQep71y0iPRhBIkiKNKGTGEHsO6fkVOsYQcYTpItBRBlBxhtRhmueGUHe+Q9B1/kZQXU7CziJVhpBjalu94W0GkGnZaAb0hMbQXfSelFydBtBgEuHVmvWG0HxrTn5wTkcQRC2LBl7nhxBIDRfp5sEHUF1G3KmKGwdQWJv5yon1R1BXhBiW5w/HkHWbOZwjaseQSoZHLf/GB9BYVGQjPiHH0FkaPliffgfQeiTvd9JNSBB1RF2nSBvIEHhAg7BxakgQdJpDSs85SBBhJlAxoYhIUH419yHqF4hQVSEpW+knCFBQsERiH3bIUHJpXLmNhsiQXj2GavTWyJBomiBAVedIkHrcXIgxN8iQbilLkoeIyNBoqKYzGhnI0Exkl0Bp6wjQXI8H07c8iNBzbGeJAw6JEEYjecCOoIkQQzQe3NpyyRBIFyADZ4VJUFcCup022AlQbZjq1olrSVB+fzifH/6JUHRdwqn7UgmQbErJrJzmCZB0Hj1hBXpJkGMxyMU1zonQZs2emK8jSdBtfoRgcnhJ0HPcYePAjcoQZTsLbxrjShB5jBERAnlKEGLtyl03z0pQeKnlKfylylBR5TISUfzKUHP+c3V4U8qQeWFqtbGrSpBCiWa5/oMK0HD3Ei0gm0rQWp0DflizytB+u4kg6AyLEFD2e4wQJcsQUhvKvJG/SxB15s0yLlkLUE41UbGnc0tQYnathH4Ny5BElQ34s2jLkGzWhmCJBEvQc3ojk4BgC9Bczjut2nwL0H4CPugMTEwQQuHCcL5ajBB3efSFJClMEHKGyV59+AwQVjLD9kyHTFB6fAIKUVaMUFj9RFoMZgxQQZR3Z/61jFBpLL05KMWMkH7rt9WMFcyQST6SiCjmDJB1iwwd//aMkHcF/6cSB4zQRqnwd6BYjNBy1ZPla6nM0F8PG0l0u0zQROm/f/vNDRB/FAqogt9NEGAO5CVKMY0QYISbHBKEDVBqT3H1XRbNUGRjKV1q6c1QZyGMw3y9DVBXWD1ZkxDNkFkmPZavpI2Qfg9+s5L4zZBI+Srtvg0N0FtQ9ETyYc3QZGMfPbA2zdBCm8/feQwOEFg1V7VN4c4QWhaBzu/3jhBc3mC+X43OUF1fGxre5E5QYEq6/q47DlBhDnlITxJOkHJhTpqCac6QQQS/W0lBjtBDdOq15RmO0FxSWhiXMg7QYfsO9qAKzxBSWlKHAeQPEE9uBMX9PU8QWkNscpMXT1BOqUTSRbGPUF5cUS2VTA+QbuppEgQnD5BzkEvSUsJP0EuSrsTDHg/QRA9PxdY6D9B0Z0KaxotQEF0HyDz02ZAQbIf2XhboUBBnKtJ27PcQEHw8MQD4BhBQdnOAebiVUFB7+g/gL+TQUG7Pm3beNJBQT1JTAsSEkJBe6CaLo5SQkEEKzhv8JNCQUvZTgI81kJBpe56KHQZQ0FR2vMtnF1DQe2htWq3okNBBeCqQsnoQ0FLWNcl1S9EQc4jg5Ded0RBSHdmC+nAREGeBdYr+ApFQa8A8JMPVkVB6LrJ8jKiRUGM650EZu9FQQaY+5KsPUZB3aT1dAqNRkErEFOPg91GQU7Yv9QbL0dBEJH+RdeBR0HDqRryudVHQa5mm/bHKkhBm5C3fwWBSEF/3InIdthIQYAORhsgMUlBVNpu0QWLSUH+gwxULOZJQXxD5BuYQkpBIW6wsU2gSkEyaFmuUf9KQQRiL7uoX0tB4+IkklfBS0HdJAr+YiRMQaREydrPiExB70ejFaPuTEHG/W2t4VVNQYy70rKQvk1B+/mNSLUoTkH31K+jVJROQeRx3Qt0AU9B4k6T2xhwT0Elf2iASOBPQW9rqT0EKVBBTAV2MK9iUEGc4tvsJ51QQQhcNVFx2FBBNlQZRo4UUUFUv3++gVFRQams5rdOj1FBqtR3OvjNUUHTrC5ZgQ1SQXsD/zHtTVJBcCX87T6PUkE5j4DBedFSQQ4sVuygFFNBTyTfubdYU0HOPT+BwZ1TQXzPhaXB41NBDUvYlbsqVEE3Xp3NsnJUQfKtqNSqu1RBuC1nP6cFVUEcFQyvq1BVQZV1vtG7nFVBU3PHYtvpVUGVIsEqDjhWQacMxv9Xh1ZBIl6hxbzXVkFLwf9tQClXQabmoPjme1dBbL6Jc7TPV0EuZTf7rCRYQefF0rrUelhBOvVk7C/SWEEORgzZwipZQREdMtmRhFlBU4PBVKHfWUEIfF7D9TtaQbofnqyTmVpBUH8/qH/4WkEXU2VevlhbQQt20IdUultBsDMb7kYdXEGyZ/VrmoFcQZh1Ye1T51xBIBnyb3hOXUGAEwkDDbddQVW4FsgWIV5B+Vza8pqMXkHSrqPJnvleQRTxlKUnaF9B9Cjm8jrYX0G3m5QY7yRgQfpzx3mLXmBBJXqWcPWYYEFkgaLaL9RgQexQxp89EGFB+iE7siFNYUGjoL0O34phQblvs7x4yWFBiDNRzvEIYkGwI8FgTUliQesmSpyOimJBR3p3tLjMYkHu5UDozg9jQWuBM4LUU2NBJgmb2MyYY0EfyKtNu95jQQoWrU+jJWRBRW4kWYhtZEG+HwHxbbZkQR+ZyKpXAGVB+1LDJklLZUH8WSoSRpdlQWR8VSdS5GVBBxvqLXEyZkHdogr7poFmQXquhnH30WZBkdQLgmYjZ0HRI1cr+HVnQalPZ3qwyWdBFZCvipMeaEGvNkuGpXRoQZn8Mabqy2hBvAltMmckaUHmukyCH35pQR8mn/wX2WlB62LnF1U1akEIl5Va25JqQWzLP1uv8WpBH4zbwNVRa0FbVfhCU7NrQR/S+qksFmxBoexYz2Z6bEGuttadBuBsQVgqxBERR21BaMc7OYuvbUFBEGI0ehluQebopTXjhG5B2NwBgsvxbkEBTD5xOGBvQQyGNG4v0G9BdWmJ+9ogcEECuNDOaFpwQT1BxAPElHBBs4FLd+/PcEGdVIUQ7gtxQaBo7MDCSHFBRzd8hHCGcUFhf9Zh+sRxQVhGaWpjBHJB6F+Vuq5EckFkgNV534VyQbvZ5dr4x3JBJUbsG/4Kc0EUAqGG8k5zQUr3d3DZk3NB8ZvKOrbZc0H6ZQJTjCB0QV/XwzJfaHRBmyIaYDKxdEEIbKNtCft0QXaovfrnRXVBJRy0s9GRdUEXfO1Ryt51QbSzGpzVLHZBJVJmZvd7dkGsn6SSM8x2Qc9fhBCOHXdBvkDA3Qpwd0Fe+1AGrsN3QUgmoKR7GHhBxL274XdueEGOZIr1psV4QZ9dACcNHnlBvkRVzK53eUEMhTpLkNJ5QVOTEhm2LnpBlOwouySMekGt3OrG4Op6QasPIeLuSntBGfApw1Ose0Gk1jQxFA98QVYLfgQ1c3xB2Z6LJrvYfEHsGmuSqz99QaoQ8FQLqH1B+oTzjN8RfkHCP5RrLX1+QY0AeDT66X5BfpsNPktYf0FHA9DxJch/QU8gRebHHIBBAi9OL0dWgEEmpCCmk5CAQX7U6iawy4BBst4PmJ8HgUESF0zqZESBQVD12RgDgoFByoWXKX3AgUEZYSwt1v+BQREqMD8RQIJBKZZRhjGBgkGCAH40OsOCQWiKCYcuBoNBAMvXxhFKg0HnD4VI546DQbsxkGyy1INBw/yEn3YbhEFLMidaN2OEQRsiniH4q4RBn+Cgh7z1hEE3GqMqiECFQZyGArZejIVBpP404kPZhUEANvd0OyeGQakcfEFJdoZB/eecKHHGhkHhyAkZtxeHQSBOew8faodBVnjkFq29h0HDf6VIZRKIQZZPv8xLaIhB87gH2mS/iEHoX162tBeJQSRm4rY/cYlByNMoQArMiUHRw3PGGCiKQXFU6s1vhYpBal/R6hPkikHJ/MTBCUSLQYHS8gdWpYtBFTVVg/0HjEGrGe8KBWyMQe7fCIdx0YxB8vJt8Uc4jUGsR6tVjaCNQQ==\",\"dtype\":\"float64\",\"shape\":[500]}}},\"id\":\"e0c17b29-bde6-4252-81b0-c2e589edd9c8\",\"type\":\"ColumnDataSource\"},{\"attributes\":{\"fill_color\":{\"value\":\"slategray\"},\"line_color\":{\"value\":\"slategray\"},\"size\":{\"units\":\"screen\",\"value\":3},\"x\":{\"field\":\"summed\"},\"y\":{\"field\":\"fluct\"}},\"id\":\"f1c9848d-42fa-43f9-85a5-6b20bb54c1af\",\"type\":\"Circle\"},{\"attributes\":{\"ticker\":null},\"id\":\"b87e28d7-360c-400a-9e11-5acf27fd6751\",\"type\":\"LogTickFormatter\"}],\"root_ids\":[\"2fb233bf-5848-4964-bf74-fb81ecbe7715\"]},\"title\":\"Bokeh Application\",\"version\":\"0.12.4\"}};\n",
       "            var render_items = [{\"docid\":\"599cf786-3052-44fd-8f89-25a69c4d8242\",\"elementid\":\"8e6f4269-730f-4efd-b4ae-0552a6dfd75d\",\"modelid\":\"2fb233bf-5848-4964-bf74-fb81ecbe7715\"}];\n",
       "            \n",
       "            Bokeh.embed.embed_items(docs_json, render_items);\n",
       "          };\n",
       "          if (document.readyState != \"loading\") fn();\n",
       "          else document.addEventListener(\"DOMContentLoaded\", fn);\n",
       "        })();\n",
       "      },\n",
       "      function(Bokeh) {\n",
       "      }\n",
       "    ];\n",
       "  \n",
       "    function run_inline_js() {\n",
       "      \n",
       "      if ((window.Bokeh !== undefined) || (force === true)) {\n",
       "        for (var i = 0; i < inline_js.length; i++) {\n",
       "          inline_js[i](window.Bokeh);\n",
       "        }if (force === true) {\n",
       "          display_loaded();\n",
       "        }} else if (Date.now() < window._bokeh_timeout) {\n",
       "        setTimeout(run_inline_js, 100);\n",
       "      } else if (!window._bokeh_failed_load) {\n",
       "        console.log(\"Bokeh: BokehJS failed to load within specified timeout.\");\n",
       "        window._bokeh_failed_load = true;\n",
       "      } else if (force !== true) {\n",
       "        var cell = $(document.getElementById(\"8e6f4269-730f-4efd-b4ae-0552a6dfd75d\")).parents('.cell').data().cell;\n",
       "        cell.output_area.append_execute_result(NB_LOAD_WARNING)\n",
       "      }\n",
       "  \n",
       "    }\n",
       "  \n",
       "    if (window._bokeh_is_loading === 0) {\n",
       "      console.log(\"Bokeh: BokehJS loaded, going straight to plotting\");\n",
       "      run_inline_js();\n",
       "    } else {\n",
       "      load_libs(js_urls, function() {\n",
       "        console.log(\"Bokeh: BokehJS plotting callback run at\", now());\n",
       "        run_inline_js();\n",
       "      });\n",
       "    }\n",
       "  }(this));\n",
       "</script>"
      ]
     },
     "metadata": {},
     "output_type": "display_data"
    }
   ],
   "source": [
    "# Generate the plot.\n",
    "I_tot_range = np.logspace(2, 5, 500)\n",
    "theo = popt.x * I_tot_range\n",
    "p = mwc.viz.boilerplate(plot_width=800, x_axis_label='summed intensity [a.u.]',\n",
    "                       y_axis_label='squared fluctuation', x_axis_type='log',\n",
    "                       y_axis_type='log')\n",
    "\n",
    "p.circle('summed', 'fluct', source=cal_df, size=3, color='slategray')\n",
    "p.line(I_tot_range, theo, color='tomato')\n",
    "bokeh.io.show(p)"
   ]
  },
  {
   "cell_type": "code",
   "execution_count": 68,
   "metadata": {
    "collapsed": false
   },
   "outputs": [],
   "source": [
    "mlg910 = snap_df[snap_df['strain']=='mlg910']\n",
    "mean_mlg910 = np.mean((mlg910['area_death'] - mean_auto_gfp) * mlg910['fluor1_mean_death'])"
   ]
  },
  {
   "cell_type": "code",
   "execution_count": 69,
   "metadata": {
    "collapsed": false
   },
   "outputs": [
    {
     "data": {
      "text/plain": [
       "23.821720243081977"
      ]
     },
     "execution_count": 69,
     "metadata": {},
     "output_type": "execute_result"
    }
   ],
   "source": [
    "mean_mlg910 / (5 * popt.x)"
   ]
  },
  {
   "cell_type": "code",
   "execution_count": null,
   "metadata": {
    "collapsed": true
   },
   "outputs": [],
   "source": []
  },
  {
   "cell_type": "code",
   "execution_count": null,
   "metadata": {
    "collapsed": true
   },
   "outputs": [],
   "source": []
  }
 ],
 "metadata": {
  "kernelspec": {
   "display_name": "Python [default]",
   "language": "python",
   "name": "python3"
  },
  "language_info": {
   "codemirror_mode": {
    "name": "ipython",
    "version": 3
   },
   "file_extension": ".py",
   "mimetype": "text/x-python",
   "name": "python",
   "nbconvert_exporter": "python",
   "pygments_lexer": "ipython3",
   "version": "3.6.4"
  }
 },
 "nbformat": 4,
 "nbformat_minor": 2
}
