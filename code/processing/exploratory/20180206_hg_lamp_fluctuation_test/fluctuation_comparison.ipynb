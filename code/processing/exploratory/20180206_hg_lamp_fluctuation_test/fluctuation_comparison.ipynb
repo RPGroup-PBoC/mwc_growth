{
 "cells": [
  {
   "cell_type": "markdown",
   "metadata": {},
   "source": [
    "#  Comparison of Hg Lamp and Laser stability"
   ]
  },
  {
   "cell_type": "code",
   "execution_count": 2,
   "metadata": {},
   "outputs": [
    {
     "data": {
      "text/html": [
       "\n",
       "    <div class=\"bk-root\">\n",
       "        <a href=\"https://bokeh.pydata.org\" target=\"_blank\" class=\"bk-logo bk-logo-small bk-logo-notebook\"></a>\n",
       "        <span id=\"5f6a628f-85a8-40a1-a2b0-1f18847eec42\">Loading BokehJS ...</span>\n",
       "    </div>"
      ]
     },
     "metadata": {},
     "output_type": "display_data"
    },
    {
     "data": {
      "application/javascript": [
       "\n",
       "(function(root) {\n",
       "  function now() {\n",
       "    return new Date();\n",
       "  }\n",
       "\n",
       "  var force = true;\n",
       "\n",
       "  if (typeof (root._bokeh_onload_callbacks) === \"undefined\" || force === true) {\n",
       "    root._bokeh_onload_callbacks = [];\n",
       "    root._bokeh_is_loading = undefined;\n",
       "  }\n",
       "\n",
       "  var JS_MIME_TYPE = 'application/javascript';\n",
       "  var HTML_MIME_TYPE = 'text/html';\n",
       "  var EXEC_MIME_TYPE = 'application/vnd.bokehjs_exec.v0+json';\n",
       "  var CLASS_NAME = 'output_bokeh rendered_html';\n",
       "\n",
       "  /**\n",
       "   * Render data to the DOM node\n",
       "   */\n",
       "  function render(props, node) {\n",
       "    var script = document.createElement(\"script\");\n",
       "    node.appendChild(script);\n",
       "  }\n",
       "\n",
       "  /**\n",
       "   * Handle when an output is cleared or removed\n",
       "   */\n",
       "  function handleClearOutput(event, handle) {\n",
       "    var cell = handle.cell;\n",
       "\n",
       "    var id = cell.output_area._bokeh_element_id;\n",
       "    var server_id = cell.output_area._bokeh_server_id;\n",
       "    // Clean up Bokeh references\n",
       "    if (id !== undefined) {\n",
       "      Bokeh.index[id].model.document.clear();\n",
       "      delete Bokeh.index[id];\n",
       "    }\n",
       "\n",
       "    if (server_id !== undefined) {\n",
       "      // Clean up Bokeh references\n",
       "      var cmd = \"from bokeh.io.state import curstate; print(curstate().uuid_to_server['\" + server_id + \"'].get_sessions()[0].document.roots[0]._id)\";\n",
       "      cell.notebook.kernel.execute(cmd, {\n",
       "        iopub: {\n",
       "          output: function(msg) {\n",
       "            var element_id = msg.content.text.trim();\n",
       "            Bokeh.index[element_id].model.document.clear();\n",
       "            delete Bokeh.index[element_id];\n",
       "          }\n",
       "        }\n",
       "      });\n",
       "      // Destroy server and session\n",
       "      var cmd = \"import bokeh.io.notebook as ion; ion.destroy_server('\" + server_id + \"')\";\n",
       "      cell.notebook.kernel.execute(cmd);\n",
       "    }\n",
       "  }\n",
       "\n",
       "  /**\n",
       "   * Handle when a new output is added\n",
       "   */\n",
       "  function handleAddOutput(event, handle) {\n",
       "    var output_area = handle.output_area;\n",
       "    var output = handle.output;\n",
       "\n",
       "    // limit handleAddOutput to display_data with EXEC_MIME_TYPE content only\n",
       "    if ((output.output_type != \"display_data\") || (!output.data.hasOwnProperty(EXEC_MIME_TYPE))) {\n",
       "      return\n",
       "    }\n",
       "\n",
       "    var toinsert = output_area.element.find(\".\" + CLASS_NAME.split(' ')[0]);\n",
       "\n",
       "    if (output.metadata[EXEC_MIME_TYPE][\"id\"] !== undefined) {\n",
       "      toinsert[0].firstChild.textContent = output.data[JS_MIME_TYPE];\n",
       "      // store reference to embed id on output_area\n",
       "      output_area._bokeh_element_id = output.metadata[EXEC_MIME_TYPE][\"id\"];\n",
       "    }\n",
       "    if (output.metadata[EXEC_MIME_TYPE][\"server_id\"] !== undefined) {\n",
       "      var bk_div = document.createElement(\"div\");\n",
       "      bk_div.innerHTML = output.data[HTML_MIME_TYPE];\n",
       "      var script_attrs = bk_div.children[0].attributes;\n",
       "      for (var i = 0; i < script_attrs.length; i++) {\n",
       "        toinsert[0].firstChild.setAttribute(script_attrs[i].name, script_attrs[i].value);\n",
       "      }\n",
       "      // store reference to server id on output_area\n",
       "      output_area._bokeh_server_id = output.metadata[EXEC_MIME_TYPE][\"server_id\"];\n",
       "    }\n",
       "  }\n",
       "\n",
       "  function register_renderer(events, OutputArea) {\n",
       "\n",
       "    function append_mime(data, metadata, element) {\n",
       "      // create a DOM node to render to\n",
       "      var toinsert = this.create_output_subarea(\n",
       "        metadata,\n",
       "        CLASS_NAME,\n",
       "        EXEC_MIME_TYPE\n",
       "      );\n",
       "      this.keyboard_manager.register_events(toinsert);\n",
       "      // Render to node\n",
       "      var props = {data: data, metadata: metadata[EXEC_MIME_TYPE]};\n",
       "      render(props, toinsert[0]);\n",
       "      element.append(toinsert);\n",
       "      return toinsert\n",
       "    }\n",
       "\n",
       "    /* Handle when an output is cleared or removed */\n",
       "    events.on('clear_output.CodeCell', handleClearOutput);\n",
       "    events.on('delete.Cell', handleClearOutput);\n",
       "\n",
       "    /* Handle when a new output is added */\n",
       "    events.on('output_added.OutputArea', handleAddOutput);\n",
       "\n",
       "    /**\n",
       "     * Register the mime type and append_mime function with output_area\n",
       "     */\n",
       "    OutputArea.prototype.register_mime_type(EXEC_MIME_TYPE, append_mime, {\n",
       "      /* Is output safe? */\n",
       "      safe: true,\n",
       "      /* Index of renderer in `output_area.display_order` */\n",
       "      index: 0\n",
       "    });\n",
       "  }\n",
       "\n",
       "  // register the mime type if in Jupyter Notebook environment and previously unregistered\n",
       "  if (root.Jupyter !== undefined) {\n",
       "    var events = require('base/js/events');\n",
       "    var OutputArea = require('notebook/js/outputarea').OutputArea;\n",
       "\n",
       "    if (OutputArea.prototype.mime_types().indexOf(EXEC_MIME_TYPE) == -1) {\n",
       "      register_renderer(events, OutputArea);\n",
       "    }\n",
       "  }\n",
       "\n",
       "  \n",
       "  if (typeof (root._bokeh_timeout) === \"undefined\" || force === true) {\n",
       "    root._bokeh_timeout = Date.now() + 5000;\n",
       "    root._bokeh_failed_load = false;\n",
       "  }\n",
       "\n",
       "  var NB_LOAD_WARNING = {'data': {'text/html':\n",
       "     \"<div style='background-color: #fdd'>\\n\"+\n",
       "     \"<p>\\n\"+\n",
       "     \"BokehJS does not appear to have successfully loaded. If loading BokehJS from CDN, this \\n\"+\n",
       "     \"may be due to a slow or bad network connection. Possible fixes:\\n\"+\n",
       "     \"</p>\\n\"+\n",
       "     \"<ul>\\n\"+\n",
       "     \"<li>re-rerun `output_notebook()` to attempt to load from CDN again, or</li>\\n\"+\n",
       "     \"<li>use INLINE resources instead, as so:</li>\\n\"+\n",
       "     \"</ul>\\n\"+\n",
       "     \"<code>\\n\"+\n",
       "     \"from bokeh.resources import INLINE\\n\"+\n",
       "     \"output_notebook(resources=INLINE)\\n\"+\n",
       "     \"</code>\\n\"+\n",
       "     \"</div>\"}};\n",
       "\n",
       "  function display_loaded() {\n",
       "    var el = document.getElementById(\"5f6a628f-85a8-40a1-a2b0-1f18847eec42\");\n",
       "    if (el != null) {\n",
       "      el.textContent = \"BokehJS is loading...\";\n",
       "    }\n",
       "    if (root.Bokeh !== undefined) {\n",
       "      if (el != null) {\n",
       "        el.textContent = \"BokehJS \" + root.Bokeh.version + \" successfully loaded.\";\n",
       "      }\n",
       "    } else if (Date.now() < root._bokeh_timeout) {\n",
       "      setTimeout(display_loaded, 100)\n",
       "    }\n",
       "  }\n",
       "\n",
       "\n",
       "  function run_callbacks() {\n",
       "    try {\n",
       "      root._bokeh_onload_callbacks.forEach(function(callback) { callback() });\n",
       "    }\n",
       "    finally {\n",
       "      delete root._bokeh_onload_callbacks\n",
       "    }\n",
       "    console.info(\"Bokeh: all callbacks have finished\");\n",
       "  }\n",
       "\n",
       "  function load_libs(js_urls, callback) {\n",
       "    root._bokeh_onload_callbacks.push(callback);\n",
       "    if (root._bokeh_is_loading > 0) {\n",
       "      console.log(\"Bokeh: BokehJS is being loaded, scheduling callback at\", now());\n",
       "      return null;\n",
       "    }\n",
       "    if (js_urls == null || js_urls.length === 0) {\n",
       "      run_callbacks();\n",
       "      return null;\n",
       "    }\n",
       "    console.log(\"Bokeh: BokehJS not loaded, scheduling load and callback at\", now());\n",
       "    root._bokeh_is_loading = js_urls.length;\n",
       "    for (var i = 0; i < js_urls.length; i++) {\n",
       "      var url = js_urls[i];\n",
       "      var s = document.createElement('script');\n",
       "      s.src = url;\n",
       "      s.async = false;\n",
       "      s.onreadystatechange = s.onload = function() {\n",
       "        root._bokeh_is_loading--;\n",
       "        if (root._bokeh_is_loading === 0) {\n",
       "          console.log(\"Bokeh: all BokehJS libraries loaded\");\n",
       "          run_callbacks()\n",
       "        }\n",
       "      };\n",
       "      s.onerror = function() {\n",
       "        console.warn(\"failed to load library \" + url);\n",
       "      };\n",
       "      console.log(\"Bokeh: injecting script tag for BokehJS library: \", url);\n",
       "      document.getElementsByTagName(\"head\")[0].appendChild(s);\n",
       "    }\n",
       "  };var element = document.getElementById(\"5f6a628f-85a8-40a1-a2b0-1f18847eec42\");\n",
       "  if (element == null) {\n",
       "    console.log(\"Bokeh: ERROR: autoload.js configured with elementid '5f6a628f-85a8-40a1-a2b0-1f18847eec42' but no matching script tag was found. \")\n",
       "    return false;\n",
       "  }\n",
       "\n",
       "  var js_urls = [\"https://cdn.pydata.org/bokeh/release/bokeh-0.12.13.min.js\", \"https://cdn.pydata.org/bokeh/release/bokeh-widgets-0.12.13.min.js\", \"https://cdn.pydata.org/bokeh/release/bokeh-tables-0.12.13.min.js\", \"https://cdn.pydata.org/bokeh/release/bokeh-gl-0.12.13.min.js\"];\n",
       "\n",
       "  var inline_js = [\n",
       "    function(Bokeh) {\n",
       "      Bokeh.set_log_level(\"info\");\n",
       "    },\n",
       "    \n",
       "    function(Bokeh) {\n",
       "      \n",
       "    },\n",
       "    function(Bokeh) {\n",
       "      console.log(\"Bokeh: injecting CSS: https://cdn.pydata.org/bokeh/release/bokeh-0.12.13.min.css\");\n",
       "      Bokeh.embed.inject_css(\"https://cdn.pydata.org/bokeh/release/bokeh-0.12.13.min.css\");\n",
       "      console.log(\"Bokeh: injecting CSS: https://cdn.pydata.org/bokeh/release/bokeh-widgets-0.12.13.min.css\");\n",
       "      Bokeh.embed.inject_css(\"https://cdn.pydata.org/bokeh/release/bokeh-widgets-0.12.13.min.css\");\n",
       "      console.log(\"Bokeh: injecting CSS: https://cdn.pydata.org/bokeh/release/bokeh-tables-0.12.13.min.css\");\n",
       "      Bokeh.embed.inject_css(\"https://cdn.pydata.org/bokeh/release/bokeh-tables-0.12.13.min.css\");\n",
       "    }\n",
       "  ];\n",
       "\n",
       "  function run_inline_js() {\n",
       "    \n",
       "    if ((root.Bokeh !== undefined) || (force === true)) {\n",
       "      for (var i = 0; i < inline_js.length; i++) {\n",
       "        inline_js[i].call(root, root.Bokeh);\n",
       "      }if (force === true) {\n",
       "        display_loaded();\n",
       "      }} else if (Date.now() < root._bokeh_timeout) {\n",
       "      setTimeout(run_inline_js, 100);\n",
       "    } else if (!root._bokeh_failed_load) {\n",
       "      console.log(\"Bokeh: BokehJS failed to load within specified timeout.\");\n",
       "      root._bokeh_failed_load = true;\n",
       "    } else if (force !== true) {\n",
       "      var cell = $(document.getElementById(\"5f6a628f-85a8-40a1-a2b0-1f18847eec42\")).parents('.cell').data().cell;\n",
       "      cell.output_area.append_execute_result(NB_LOAD_WARNING)\n",
       "    }\n",
       "\n",
       "  }\n",
       "\n",
       "  if (root._bokeh_is_loading === 0) {\n",
       "    console.log(\"Bokeh: BokehJS loaded, going straight to plotting\");\n",
       "    run_inline_js();\n",
       "  } else {\n",
       "    load_libs(js_urls, function() {\n",
       "      console.log(\"Bokeh: BokehJS plotting callback run at\", now());\n",
       "      run_inline_js();\n",
       "    });\n",
       "  }\n",
       "}(window));"
      ],
      "application/vnd.bokehjs_load.v0+json": "\n(function(root) {\n  function now() {\n    return new Date();\n  }\n\n  var force = true;\n\n  if (typeof (root._bokeh_onload_callbacks) === \"undefined\" || force === true) {\n    root._bokeh_onload_callbacks = [];\n    root._bokeh_is_loading = undefined;\n  }\n\n  \n\n  \n  if (typeof (root._bokeh_timeout) === \"undefined\" || force === true) {\n    root._bokeh_timeout = Date.now() + 5000;\n    root._bokeh_failed_load = false;\n  }\n\n  var NB_LOAD_WARNING = {'data': {'text/html':\n     \"<div style='background-color: #fdd'>\\n\"+\n     \"<p>\\n\"+\n     \"BokehJS does not appear to have successfully loaded. If loading BokehJS from CDN, this \\n\"+\n     \"may be due to a slow or bad network connection. Possible fixes:\\n\"+\n     \"</p>\\n\"+\n     \"<ul>\\n\"+\n     \"<li>re-rerun `output_notebook()` to attempt to load from CDN again, or</li>\\n\"+\n     \"<li>use INLINE resources instead, as so:</li>\\n\"+\n     \"</ul>\\n\"+\n     \"<code>\\n\"+\n     \"from bokeh.resources import INLINE\\n\"+\n     \"output_notebook(resources=INLINE)\\n\"+\n     \"</code>\\n\"+\n     \"</div>\"}};\n\n  function display_loaded() {\n    var el = document.getElementById(\"5f6a628f-85a8-40a1-a2b0-1f18847eec42\");\n    if (el != null) {\n      el.textContent = \"BokehJS is loading...\";\n    }\n    if (root.Bokeh !== undefined) {\n      if (el != null) {\n        el.textContent = \"BokehJS \" + root.Bokeh.version + \" successfully loaded.\";\n      }\n    } else if (Date.now() < root._bokeh_timeout) {\n      setTimeout(display_loaded, 100)\n    }\n  }\n\n\n  function run_callbacks() {\n    try {\n      root._bokeh_onload_callbacks.forEach(function(callback) { callback() });\n    }\n    finally {\n      delete root._bokeh_onload_callbacks\n    }\n    console.info(\"Bokeh: all callbacks have finished\");\n  }\n\n  function load_libs(js_urls, callback) {\n    root._bokeh_onload_callbacks.push(callback);\n    if (root._bokeh_is_loading > 0) {\n      console.log(\"Bokeh: BokehJS is being loaded, scheduling callback at\", now());\n      return null;\n    }\n    if (js_urls == null || js_urls.length === 0) {\n      run_callbacks();\n      return null;\n    }\n    console.log(\"Bokeh: BokehJS not loaded, scheduling load and callback at\", now());\n    root._bokeh_is_loading = js_urls.length;\n    for (var i = 0; i < js_urls.length; i++) {\n      var url = js_urls[i];\n      var s = document.createElement('script');\n      s.src = url;\n      s.async = false;\n      s.onreadystatechange = s.onload = function() {\n        root._bokeh_is_loading--;\n        if (root._bokeh_is_loading === 0) {\n          console.log(\"Bokeh: all BokehJS libraries loaded\");\n          run_callbacks()\n        }\n      };\n      s.onerror = function() {\n        console.warn(\"failed to load library \" + url);\n      };\n      console.log(\"Bokeh: injecting script tag for BokehJS library: \", url);\n      document.getElementsByTagName(\"head\")[0].appendChild(s);\n    }\n  };var element = document.getElementById(\"5f6a628f-85a8-40a1-a2b0-1f18847eec42\");\n  if (element == null) {\n    console.log(\"Bokeh: ERROR: autoload.js configured with elementid '5f6a628f-85a8-40a1-a2b0-1f18847eec42' but no matching script tag was found. \")\n    return false;\n  }\n\n  var js_urls = [\"https://cdn.pydata.org/bokeh/release/bokeh-0.12.13.min.js\", \"https://cdn.pydata.org/bokeh/release/bokeh-widgets-0.12.13.min.js\", \"https://cdn.pydata.org/bokeh/release/bokeh-tables-0.12.13.min.js\", \"https://cdn.pydata.org/bokeh/release/bokeh-gl-0.12.13.min.js\"];\n\n  var inline_js = [\n    function(Bokeh) {\n      Bokeh.set_log_level(\"info\");\n    },\n    \n    function(Bokeh) {\n      \n    },\n    function(Bokeh) {\n      console.log(\"Bokeh: injecting CSS: https://cdn.pydata.org/bokeh/release/bokeh-0.12.13.min.css\");\n      Bokeh.embed.inject_css(\"https://cdn.pydata.org/bokeh/release/bokeh-0.12.13.min.css\");\n      console.log(\"Bokeh: injecting CSS: https://cdn.pydata.org/bokeh/release/bokeh-widgets-0.12.13.min.css\");\n      Bokeh.embed.inject_css(\"https://cdn.pydata.org/bokeh/release/bokeh-widgets-0.12.13.min.css\");\n      console.log(\"Bokeh: injecting CSS: https://cdn.pydata.org/bokeh/release/bokeh-tables-0.12.13.min.css\");\n      Bokeh.embed.inject_css(\"https://cdn.pydata.org/bokeh/release/bokeh-tables-0.12.13.min.css\");\n    }\n  ];\n\n  function run_inline_js() {\n    \n    if ((root.Bokeh !== undefined) || (force === true)) {\n      for (var i = 0; i < inline_js.length; i++) {\n        inline_js[i].call(root, root.Bokeh);\n      }if (force === true) {\n        display_loaded();\n      }} else if (Date.now() < root._bokeh_timeout) {\n      setTimeout(run_inline_js, 100);\n    } else if (!root._bokeh_failed_load) {\n      console.log(\"Bokeh: BokehJS failed to load within specified timeout.\");\n      root._bokeh_failed_load = true;\n    } else if (force !== true) {\n      var cell = $(document.getElementById(\"5f6a628f-85a8-40a1-a2b0-1f18847eec42\")).parents('.cell').data().cell;\n      cell.output_area.append_execute_result(NB_LOAD_WARNING)\n    }\n\n  }\n\n  if (root._bokeh_is_loading === 0) {\n    console.log(\"Bokeh: BokehJS loaded, going straight to plotting\");\n    run_inline_js();\n  } else {\n    load_libs(js_urls, function() {\n      console.log(\"Bokeh: BokehJS plotting callback run at\", now());\n      run_inline_js();\n    });\n  }\n}(window));"
     },
     "metadata": {},
     "output_type": "display_data"
    }
   ],
   "source": [
    "import numpy as np\n",
    "import pandas as pd\n",
    "import skimage.io\n",
    "import bokeh.io\n",
    "import bokeh.plotting\n",
    "import glob\n",
    "import sys\n",
    "sys.path.insert(0, '../../../')\n",
    "import mwc.viz\n",
    "colors = mwc.viz.set_plotting_style()\n",
    "bokeh.io.output_notebook()"
   ]
  },
  {
   "cell_type": "markdown",
   "metadata": {},
   "source": [
    "## The problem "
   ]
  },
  {
   "cell_type": "markdown",
   "metadata": {},
   "source": [
    "I want to directly compare the stability in time and space for the Hg lamp as well as the mCherry laser. To do so, I took several data sets on 20180201 of a fluorescent slide being illuminated by the mCherry laser line. On 20180206, I took comparable measurements using an Hg lamp as an illumination source.  "
   ]
  },
  {
   "cell_type": "markdown",
   "metadata": {},
   "source": [
    "## Loading the data"
   ]
  },
  {
   "cell_type": "code",
   "execution_count": 71,
   "metadata": {},
   "outputs": [],
   "source": [
    "# Define the data directories\n",
    "data_dir = '../../../data/images'\n",
    "lamp_files = np.sort(glob.glob('{0}/20180206_hg*/*test_0*/*mCherry*.tif'.format(data_dir)))\n",
    "laser_files = np.sort(glob.glob('{0}/20180207_laser*/*mcherry_single_pos_1/*Pos0/*.tif'.format(data_dir)))\n",
    "\n",
    "# Load each image set\n",
    "lamp_ims = skimage.io.ImageCollection(lamp_files)\n",
    "laser_ims = skimage.io.ImageCollection(laser_files)\n",
    "\n",
    "# Compute the means.\n",
    "mean_lamp = np.array([np.mean(im.astype(np.uint16)) for im in lamp_ims])\n",
    "mean_laser = np.array([np.mean(im.astype(np.uint16)) for im in laser_ims])\n",
    "mean_lamp = mean_lamp / np.max(mean_lamp)\n",
    "mean_laser = mean_laser / np.max(mean_laser)\n",
    "# Normalize each to the mean. \n",
    "lamp_norm = mean_lamp - np.mean(mean_lamp)\n",
    "laser_norm = mean_laser - np.mean(mean_laser)"
   ]
  },
  {
   "cell_type": "code",
   "execution_count": 72,
   "metadata": {},
   "outputs": [
    {
     "data": {
      "text/html": [
       "\n",
       "<div class=\"bk-root\">\n",
       "    <div class=\"bk-plotdiv\" id=\"898c2021-68d5-4eea-aeac-ae3d41ee0e5f\"></div>\n",
       "</div>"
      ]
     },
     "metadata": {},
     "output_type": "display_data"
    },
    {
     "data": {
      "application/javascript": [
       "(function(root) {\n",
       "  function embed_document(root) {\n",
       "    \n",
       "  var docs_json = {\"b07cf839-839a-4961-947d-f6022acf96cc\":{\"roots\":{\"references\":[{\"attributes\":{},\"id\":\"7a593ec3-b28e-40db-b811-2629e4ccd6e9\",\"type\":\"ResetTool\"},{\"attributes\":{\"bottom_units\":\"screen\",\"fill_alpha\":{\"value\":0.5},\"fill_color\":{\"value\":\"lightgrey\"},\"left_units\":\"screen\",\"level\":\"overlay\",\"line_alpha\":{\"value\":1.0},\"line_color\":{\"value\":\"black\"},\"line_dash\":[4,4],\"line_width\":{\"value\":2},\"plot\":null,\"render_mode\":\"css\",\"right_units\":\"screen\",\"top_units\":\"screen\"},\"id\":\"1d725eb5-a1b2-4bd3-be8b-d0427dc3471c\",\"type\":\"BoxAnnotation\"},{\"attributes\":{},\"id\":\"026f5e87-3f1e-4802-a70d-be12707d3817\",\"type\":\"SaveTool\"},{\"attributes\":{},\"id\":\"cf857203-7438-4c09-948e-a0e8f665c52f\",\"type\":\"HelpTool\"},{\"attributes\":{\"line_alpha\":0.1,\"line_color\":\"#1f77b4\",\"x\":{\"field\":\"x\"},\"y\":{\"field\":\"y\"}},\"id\":\"7beff2af-894f-432c-b92d-a2b09b3ed37b\",\"type\":\"Line\"},{\"attributes\":{},\"id\":\"9fda2017-ab2b-453f-98c4-9db27e51e9f0\",\"type\":\"BasicTickFormatter\"},{\"attributes\":{\"axis_label\":\"normalized intensity\",\"axis_label_standoff\":3,\"axis_label_text_color\":{\"value\":\"#3c3c3c\"},\"axis_label_text_font\":\"Lucida Sans Unicode\",\"axis_label_text_font_size\":{\"value\":\"1em\"},\"axis_label_text_font_style\":\"normal\",\"axis_line_color\":{\"value\":null},\"formatter\":{\"id\":\"9fda2017-ab2b-453f-98c4-9db27e51e9f0\",\"type\":\"BasicTickFormatter\"},\"major_label_text_font\":\"Lucida Sans Unicode\",\"major_label_text_font_size\":{\"value\":\"0.75em\"},\"major_tick_line_color\":{\"value\":null},\"minor_tick_line_color\":{\"value\":null},\"plot\":{\"id\":\"735ba092-08e8-4332-8e6f-3df1e06c9606\",\"subtype\":\"Figure\",\"type\":\"Plot\"},\"ticker\":{\"id\":\"7acff6ba-687b-4c08-8ddf-9444d4efb19f\",\"type\":\"BasicTicker\"}},\"id\":\"345524ea-d56a-4926-8f17-021b5b626b26\",\"type\":\"LinearAxis\"},{\"attributes\":{},\"id\":\"d575a8a8-fc23-4511-94ab-38bf1f73bd4e\",\"type\":\"BasicTicker\"},{\"attributes\":{\"line_alpha\":0.1,\"line_color\":\"#1f77b4\",\"x\":{\"field\":\"x\"},\"y\":{\"field\":\"y\"}},\"id\":\"cdf94a2f-5525-4d18-82c3-d37215a44756\",\"type\":\"Line\"},{\"attributes\":{\"grid_line_color\":{\"value\":\"#FFFFFF\"},\"grid_line_width\":{\"value\":0.75},\"plot\":{\"id\":\"735ba092-08e8-4332-8e6f-3df1e06c9606\",\"subtype\":\"Figure\",\"type\":\"Plot\"},\"ticker\":{\"id\":\"d575a8a8-fc23-4511-94ab-38bf1f73bd4e\",\"type\":\"BasicTicker\"}},\"id\":\"f09f2974-9c83-4fb9-bcab-65f4d505ed9e\",\"type\":\"Grid\"},{\"attributes\":{},\"id\":\"89ffca76-9378-4c23-a249-88cc7db52fb5\",\"type\":\"WheelZoomTool\"},{\"attributes\":{\"background_fill_color\":{\"value\":\"#E3DCD0\"},\"below\":[{\"id\":\"2ff25c45-5dab-46e6-8622-75d9a5537a6c\",\"type\":\"LinearAxis\"}],\"left\":[{\"id\":\"345524ea-d56a-4926-8f17-021b5b626b26\",\"type\":\"LinearAxis\"}],\"renderers\":[{\"id\":\"2ff25c45-5dab-46e6-8622-75d9a5537a6c\",\"type\":\"LinearAxis\"},{\"id\":\"f09f2974-9c83-4fb9-bcab-65f4d505ed9e\",\"type\":\"Grid\"},{\"id\":\"345524ea-d56a-4926-8f17-021b5b626b26\",\"type\":\"LinearAxis\"},{\"id\":\"1b298b37-d8b6-4a5f-bc02-2f6f0a4761e0\",\"type\":\"Grid\"},{\"id\":\"1d725eb5-a1b2-4bd3-be8b-d0427dc3471c\",\"type\":\"BoxAnnotation\"},{\"id\":\"7fa8c5fe-f7be-4adf-888c-ee082551096d\",\"type\":\"Legend\"},{\"id\":\"61cf62bc-a959-44b1-ba06-15a89db83c13\",\"type\":\"GlyphRenderer\"},{\"id\":\"0a45fe6d-59ee-40ce-9438-e4916e056c91\",\"type\":\"GlyphRenderer\"}],\"title\":{\"id\":\"dc0da9e9-b8ac-475d-a75c-a65c9f46292f\",\"type\":\"Title\"},\"toolbar\":{\"id\":\"4948aea9-5f54-462c-8521-bb47a3a17a3d\",\"type\":\"Toolbar\"},\"x_range\":{\"id\":\"60655878-4daa-453e-80d7-2a41d1eabaa2\",\"type\":\"DataRange1d\"},\"x_scale\":{\"id\":\"707958fb-8d06-4194-9fe6-37713117d1cb\",\"type\":\"LinearScale\"},\"y_range\":{\"id\":\"02e1fa19-cc6b-454e-b78b-03d64d067d7e\",\"type\":\"DataRange1d\"},\"y_scale\":{\"id\":\"3d466723-4f2b-4975-9d98-8a81a91250fb\",\"type\":\"LinearScale\"}},\"id\":\"735ba092-08e8-4332-8e6f-3df1e06c9606\",\"subtype\":\"Figure\",\"type\":\"Plot\"},{\"attributes\":{\"label\":{\"value\":\"Hg lamp\"},\"renderers\":[{\"id\":\"61cf62bc-a959-44b1-ba06-15a89db83c13\",\"type\":\"GlyphRenderer\"}]},\"id\":\"ee9ad065-12e5-4510-94ec-c119170a3f2f\",\"type\":\"LegendItem\"},{\"attributes\":{\"source\":{\"id\":\"58df0003-e1b7-4d8f-ba7a-4b5d168c6103\",\"type\":\"ColumnDataSource\"}},\"id\":\"5a828e3f-dd33-4726-9d05-3542dbdbc513\",\"type\":\"CDSView\"},{\"attributes\":{\"plot\":null,\"text\":\"\"},\"id\":\"dc0da9e9-b8ac-475d-a75c-a65c9f46292f\",\"type\":\"Title\"},{\"attributes\":{\"callback\":null},\"id\":\"60655878-4daa-453e-80d7-2a41d1eabaa2\",\"type\":\"DataRange1d\"},{\"attributes\":{\"label\":{\"value\":\"laser\"},\"renderers\":[{\"id\":\"0a45fe6d-59ee-40ce-9438-e4916e056c91\",\"type\":\"GlyphRenderer\"}]},\"id\":\"33e029b4-4c7d-463b-bf20-6e90c40db696\",\"type\":\"LegendItem\"},{\"attributes\":{\"callback\":null},\"id\":\"02e1fa19-cc6b-454e-b78b-03d64d067d7e\",\"type\":\"DataRange1d\"},{\"attributes\":{\"active_drag\":\"auto\",\"active_inspect\":\"auto\",\"active_scroll\":\"auto\",\"active_tap\":\"auto\",\"tools\":[{\"id\":\"1d3aeb3a-f3b9-4775-986d-11457e2166eb\",\"type\":\"PanTool\"},{\"id\":\"89ffca76-9378-4c23-a249-88cc7db52fb5\",\"type\":\"WheelZoomTool\"},{\"id\":\"ce0214c1-a826-47bc-9169-3156a20c2893\",\"type\":\"BoxZoomTool\"},{\"id\":\"026f5e87-3f1e-4802-a70d-be12707d3817\",\"type\":\"SaveTool\"},{\"id\":\"7a593ec3-b28e-40db-b811-2629e4ccd6e9\",\"type\":\"ResetTool\"},{\"id\":\"cf857203-7438-4c09-948e-a0e8f665c52f\",\"type\":\"HelpTool\"}]},\"id\":\"4948aea9-5f54-462c-8521-bb47a3a17a3d\",\"type\":\"Toolbar\"},{\"attributes\":{\"source\":{\"id\":\"0db0056e-177c-4c22-8a89-45d25dbe7ab9\",\"type\":\"ColumnDataSource\"}},\"id\":\"4c468dd4-34d2-4b6d-924d-0b00d0e6d4a6\",\"type\":\"CDSView\"},{\"attributes\":{\"data_source\":{\"id\":\"0db0056e-177c-4c22-8a89-45d25dbe7ab9\",\"type\":\"ColumnDataSource\"},\"glyph\":{\"id\":\"3f7ca166-9e1a-451b-a724-f076435504c8\",\"type\":\"Line\"},\"hover_glyph\":null,\"muted_glyph\":null,\"nonselection_glyph\":{\"id\":\"cdf94a2f-5525-4d18-82c3-d37215a44756\",\"type\":\"Line\"},\"selection_glyph\":null,\"view\":{\"id\":\"4c468dd4-34d2-4b6d-924d-0b00d0e6d4a6\",\"type\":\"CDSView\"}},\"id\":\"0a45fe6d-59ee-40ce-9438-e4916e056c91\",\"type\":\"GlyphRenderer\"},{\"attributes\":{\"line_color\":\"tomato\",\"x\":{\"field\":\"x\"},\"y\":{\"field\":\"y\"}},\"id\":\"f81b0e5a-4753-4b4e-a6f4-beb11c355e5c\",\"type\":\"Line\"},{\"attributes\":{},\"id\":\"6768a5f4-8ae8-4299-904b-91aca7dcc8f4\",\"type\":\"BasicTickFormatter\"},{\"attributes\":{\"line_color\":\"dodgerblue\",\"x\":{\"field\":\"x\"},\"y\":{\"field\":\"y\"}},\"id\":\"3f7ca166-9e1a-451b-a724-f076435504c8\",\"type\":\"Line\"},{\"attributes\":{\"axis_label\":\"frame number\",\"axis_label_standoff\":3,\"axis_label_text_color\":{\"value\":\"#3c3c3c\"},\"axis_label_text_font\":\"Lucida Sans Unicode\",\"axis_label_text_font_size\":{\"value\":\"1em\"},\"axis_label_text_font_style\":\"normal\",\"axis_line_color\":{\"value\":null},\"formatter\":{\"id\":\"6768a5f4-8ae8-4299-904b-91aca7dcc8f4\",\"type\":\"BasicTickFormatter\"},\"major_label_text_font\":\"Lucida Sans Unicode\",\"major_label_text_font_size\":{\"value\":\"0.75em\"},\"major_tick_line_color\":{\"value\":null},\"minor_tick_line_color\":{\"value\":null},\"plot\":{\"id\":\"735ba092-08e8-4332-8e6f-3df1e06c9606\",\"subtype\":\"Figure\",\"type\":\"Plot\"},\"ticker\":{\"id\":\"d575a8a8-fc23-4511-94ab-38bf1f73bd4e\",\"type\":\"BasicTicker\"}},\"id\":\"2ff25c45-5dab-46e6-8622-75d9a5537a6c\",\"type\":\"LinearAxis\"},{\"attributes\":{},\"id\":\"3d466723-4f2b-4975-9d98-8a81a91250fb\",\"type\":\"LinearScale\"},{\"attributes\":{\"data_source\":{\"id\":\"58df0003-e1b7-4d8f-ba7a-4b5d168c6103\",\"type\":\"ColumnDataSource\"},\"glyph\":{\"id\":\"f81b0e5a-4753-4b4e-a6f4-beb11c355e5c\",\"type\":\"Line\"},\"hover_glyph\":null,\"muted_glyph\":null,\"nonselection_glyph\":{\"id\":\"7beff2af-894f-432c-b92d-a2b09b3ed37b\",\"type\":\"Line\"},\"selection_glyph\":null,\"view\":{\"id\":\"5a828e3f-dd33-4726-9d05-3542dbdbc513\",\"type\":\"CDSView\"}},\"id\":\"61cf62bc-a959-44b1-ba06-15a89db83c13\",\"type\":\"GlyphRenderer\"},{\"attributes\":{\"items\":[{\"id\":\"ee9ad065-12e5-4510-94ec-c119170a3f2f\",\"type\":\"LegendItem\"},{\"id\":\"33e029b4-4c7d-463b-bf20-6e90c40db696\",\"type\":\"LegendItem\"}],\"plot\":{\"id\":\"735ba092-08e8-4332-8e6f-3df1e06c9606\",\"subtype\":\"Figure\",\"type\":\"Plot\"}},\"id\":\"7fa8c5fe-f7be-4adf-888c-ee082551096d\",\"type\":\"Legend\"},{\"attributes\":{\"callback\":null,\"column_names\":[\"x\",\"y\"],\"data\":{\"x\":[0,1,2,3,4,5,6,7,8,9,10,11,12,13,14,15,16,17,18,19,20,21,22,23,24,25,26,27,28,29,30,31,32,33,34,35,36,37,38,39,40,41,42,43,44,45,46,47,48,49,50,51,52,53,54,55,56,57,58,59,60,61,62,63,64,65,66,67,68,69,70,71,72,73,74,75,76,77,78,79,80,81,82,83,84,85,86,87,88,89,90,91,92,93,94,95,96,97,98,99],\"y\":{\"__ndarray__\":\"4JRK8mwXoz9A9VQMUp+aP8B+7seMhI4/AI++7rfZeD+ANSS9lvp9P4AnG/gShn4/wD6DgR1niD9AW7GgHHKJPwAwMO5Bj4U/AGnW4xCXiD+AhN4CPxeKP4Dw1XyObYk/gGHn4X0Xjj8AnGHEQk5HP8BbTad/GIo/ABriZg4heD/A/onhPWqCP4A7Q0IpDoU/gHOjjalLgD8AxdG3iOWAP0A5MSgHcYY/gME3lDkBhT/A047yt5aDP4BzZ6g9EYM/gKeLqCiHij9AwaG+BQaNPwClBPoABIQ/ALKefSdCgT8ADBCIUCyFP0Cx5aKds4g/gPoNcjlQgT+A5BVNn+l/P4BfaerOKns/wM8XxJn/gD8A/xzLyLqAPyDsEznfj5Q/gA1gYCwEgz8ArgmP1HN/PwDOmhsKp4E/AEkwcSozcT8ArlGGDulaP4Cdm0bcAnm/gFlzRqybdj8A/teTzxiOPwDN+bnrkX0/AGwsVkrhcz8ASKYE+QBjP0CJveCTnYM/AAQvGt+veD8AwYXb8f5nPwDd2b5bhmo/AIqo1BOJaz8ApLD6xORWPwAU/mUGllC/gNJiBx8hcb8ASHuY8jVOvwDQQt7A0FW/APomhU6kUz8AkKB8mfZwvwCLhf4/aXA/AClPPTBpZb+AejVUrRt0vwDNeeSO83S/AJajrLDiZr8AVJhWMXt5P4Avo9gex3G/QOW/dBspjL/AvwyOcBuDv8DlNO37P4O/AKuD+L/nlb8ApUTfWZyBvwA+7XHpaFE/wDEpH44mgb+AZsEsVtGLv4B3Eejw3IK/wENuOzvAgL+A4s5SKQ2BvwBcY9qmFWm/wE9eJR9CjL8AkPparRuBv0DBxSatEoq/wOsIpRQ9j79gkrjRyl+QvwCbkHp3KXa/QB/BYMWnkL+Ai5A5srp3vwBCLCi/bY+/QFKjxy9gkb9AbuVm+Y+NvwCcFQQpoJC/YOxZQy8Wkr+AKursCmyPv8Drbu0r6JS/IC0Z2ngyl7/AiSBIaQCXv4BSXCY7qZK/QM9gfwxIl7+AZnMSAjOXv4Az1lexHJi/IBO3nAlklL8=\",\"dtype\":\"float64\",\"shape\":[100]}}},\"id\":\"0db0056e-177c-4c22-8a89-45d25dbe7ab9\",\"type\":\"ColumnDataSource\"},{\"attributes\":{\"overlay\":{\"id\":\"1d725eb5-a1b2-4bd3-be8b-d0427dc3471c\",\"type\":\"BoxAnnotation\"}},\"id\":\"ce0214c1-a826-47bc-9169-3156a20c2893\",\"type\":\"BoxZoomTool\"},{\"attributes\":{\"dimension\":1,\"grid_line_color\":{\"value\":\"#FFFFFF\"},\"grid_line_width\":{\"value\":0.75},\"plot\":{\"id\":\"735ba092-08e8-4332-8e6f-3df1e06c9606\",\"subtype\":\"Figure\",\"type\":\"Plot\"},\"ticker\":{\"id\":\"7acff6ba-687b-4c08-8ddf-9444d4efb19f\",\"type\":\"BasicTicker\"}},\"id\":\"1b298b37-d8b6-4a5f-bc02-2f6f0a4761e0\",\"type\":\"Grid\"},{\"attributes\":{},\"id\":\"707958fb-8d06-4194-9fe6-37713117d1cb\",\"type\":\"LinearScale\"},{\"attributes\":{\"callback\":null,\"column_names\":[\"x\",\"y\"],\"data\":{\"x\":[0,1,2,3,4,5,6,7,8,9,10,11,12,13,14,15,16,17,18,19,20,21,22,23,24,25,26,27,28,29,30,31,32,33,34,35,36,37,38,39,40,41,42,43,44,45,46,47,48,49,50,51,52,53,54,55,56,57,58,59,60,61,62,63,64,65,66,67,68,69,70,71,72,73,74,75,76,77,78,79,80,81,82,83,84,85,86,87,88,89,90,91,92,93,94,95,96,97,98,99],\"y\":{\"__ndarray__\":\"AMKheSSWVD8AIvHqI+RZPwDNk60PmWI/AKr053KCVz8ACC1U+xxJPwBQ259noFk/AMxVyoW7ST8AzJOl5JFJPwB0HiuxjlY/AOAUwxydMD8AIHD17VtZPwBAc4yM40c/ALjHjGDqXT8AgBAKEQkUPwBuslgutFG/AHwDKkKpYT8Atphs5ndrPwBigHrSoGk/ABYLFUrfbz8AGOkN335yP4BvGBHn2XE/gN3E5hAIcT+AVEcOB3t3PwBGepjbo3M/gNF4uGwCgj8AbvLCl+hyPwCiZQ2vNng/APkOo3x0fz+A939Bekx9P4ABoYTr/nc/AMWKt303fz/Aylr2U5OAP4AIpQlOJ4E/AOEjfI1hej8AEIzuXUh9P8Ch5zhjzYA/QINV3yBhgD+AzWO4VtN4P4CLnlB1bnc/AOExN7FQcD+AfFXwu7lyPwB9B+tVX2s/AD7Nl5HAYD8ATGOpsahhPwBxga4E+2I/AISPeW7rZj8ASPSAK7BwPwDTWZHstmY/AKbS3skXYT8ACgP09UBVPwD2Wybzl1Y/AGSI2dESXj8A8Ta+gAZlPwBCVzqPeFo/AACQldZsrT4ANu0KF6tcPwA4kqY2AEA/AKBnZg9+PT8AQArKqN44PwCAYe9q0hu/AFTeV72yXT8AOvyMYFdWvwBKeYIKBWG/AEFYpWHyYr8Aq52l6lxlvwC8awEfAVE/AHiICkYKPb8A1oIS1FhYvwAZ5CCjR2i/AGp7y+Feab8A6v+bRkZcvwC/x+puhGm/AChcbEBheL8AgYxjm2BuvwAgYsZG9G+/AECzwXArXr8Aql8xJb1iv4BYv3Uwu3C/AHEc+bfFb78AZ8yIxfJwv4AGcqVaIHu/gJgbkAGZd7+A9x096Xh3v8Ca6fAQkoC/gOVr8hOoeL8AlwbLy2J6v8AV9g1Va4K/AGGWtRWJgL+A7KDlx2N8v4BpfXvWrny/AD91exuce7+AQF3+5QqAv4CkhIuwB32/AOlr/aUnfr+At/6IHeh/v0DkKIbrrIO/gMJGVDQJgr/A34B0iIeEvwAs2f9QYni/gLGRP4Lrg78=\",\"dtype\":\"float64\",\"shape\":[100]}}},\"id\":\"58df0003-e1b7-4d8f-ba7a-4b5d168c6103\",\"type\":\"ColumnDataSource\"},{\"attributes\":{},\"id\":\"1d3aeb3a-f3b9-4775-986d-11457e2166eb\",\"type\":\"PanTool\"},{\"attributes\":{},\"id\":\"7acff6ba-687b-4c08-8ddf-9444d4efb19f\",\"type\":\"BasicTicker\"}],\"root_ids\":[\"735ba092-08e8-4332-8e6f-3df1e06c9606\"]},\"title\":\"Bokeh Application\",\"version\":\"0.12.13\"}};\n",
       "  var render_items = [{\"docid\":\"b07cf839-839a-4961-947d-f6022acf96cc\",\"elementid\":\"898c2021-68d5-4eea-aeac-ae3d41ee0e5f\",\"modelid\":\"735ba092-08e8-4332-8e6f-3df1e06c9606\"}];\n",
       "  root.Bokeh.embed.embed_items_notebook(docs_json, render_items);\n",
       "\n",
       "  }\n",
       "  if (root.Bokeh !== undefined) {\n",
       "    embed_document(root);\n",
       "  } else {\n",
       "    var attempts = 0;\n",
       "    var timer = setInterval(function(root) {\n",
       "      if (root.Bokeh !== undefined) {\n",
       "        embed_document(root);\n",
       "        clearInterval(timer);\n",
       "      }\n",
       "      attempts++;\n",
       "      if (attempts > 100) {\n",
       "        console.log(\"Bokeh: ERROR: Unable to run BokehJS code because BokehJS library is missing\")\n",
       "        clearInterval(timer);\n",
       "      }\n",
       "    }, 10, root)\n",
       "  }\n",
       "})(window);"
      ],
      "application/vnd.bokehjs_exec.v0+json": ""
     },
     "metadata": {
      "application/vnd.bokehjs_exec.v0+json": {
       "id": "735ba092-08e8-4332-8e6f-3df1e06c9606"
      }
     },
     "output_type": "display_data"
    }
   ],
   "source": [
    "# Plot each one. \n",
    "p = mwc.viz.boilerplate(x_axis_label='frame number',\n",
    "                       y_axis_label='normalized intensity')\n",
    "frames = np.arange(0, len(lamp_norm))\n",
    "p.line(frames, lamp_norm, color='tomato', legend='Hg lamp')\n",
    "p.line(frames, laser_norm, color='dodgerblue', legend='laser')\n",
    "bokeh.io.show(p)"
   ]
  },
  {
   "cell_type": "code",
   "execution_count": 73,
   "metadata": {},
   "outputs": [],
   "source": [
    "diff_laser = np.sqrt((np.diff(mean_laser) / mean_laser[:-1])**2)\n",
    "diff_lamp = np.sqrt((np.diff(mean_lamp) / mean_lamp[:-1])**2)"
   ]
  },
  {
   "cell_type": "code",
   "execution_count": 74,
   "metadata": {},
   "outputs": [
    {
     "data": {
      "text/html": [
       "\n",
       "<div class=\"bk-root\">\n",
       "    <div class=\"bk-plotdiv\" id=\"7e0da500-986a-40a8-ab80-1bed342b1aab\"></div>\n",
       "</div>"
      ]
     },
     "metadata": {},
     "output_type": "display_data"
    },
    {
     "data": {
      "application/javascript": [
       "(function(root) {\n",
       "  function embed_document(root) {\n",
       "    \n",
       "  var docs_json = {\"99bc2108-acdf-4f9b-a338-1d55d9f1c7e2\":{\"roots\":{\"references\":[{\"attributes\":{},\"id\":\"ae0016a6-6770-46cf-b4b1-fd6bdaa37b97\",\"type\":\"BasicTicker\"},{\"attributes\":{},\"id\":\"e5adb803-9c12-4440-a133-ec1b2ac8a620\",\"type\":\"PanTool\"},{\"attributes\":{\"axis_label\":\"percent difference\",\"axis_label_standoff\":3,\"axis_label_text_color\":{\"value\":\"#3c3c3c\"},\"axis_label_text_font\":\"Lucida Sans Unicode\",\"axis_label_text_font_size\":{\"value\":\"1em\"},\"axis_label_text_font_style\":\"normal\",\"axis_line_color\":{\"value\":null},\"formatter\":{\"id\":\"667457e7-2321-4d85-87db-78b6ac0b554c\",\"type\":\"BasicTickFormatter\"},\"major_label_text_font\":\"Lucida Sans Unicode\",\"major_label_text_font_size\":{\"value\":\"0.75em\"},\"major_tick_line_color\":{\"value\":null},\"minor_tick_line_color\":{\"value\":null},\"plot\":{\"id\":\"cc3a13f8-5ede-41aa-9b48-82b160556cf2\",\"subtype\":\"Figure\",\"type\":\"Plot\"},\"ticker\":{\"id\":\"be189624-3540-4777-ae16-6db508d9a611\",\"type\":\"BasicTicker\"}},\"id\":\"8322005c-92d6-4052-b2c6-1519b22f0293\",\"type\":\"LinearAxis\"},{\"attributes\":{},\"id\":\"3171c871-39c9-40a5-a179-38046e9482cf\",\"type\":\"HelpTool\"},{\"attributes\":{\"plot\":null,\"text\":\"\"},\"id\":\"01f070e9-1612-4029-aee0-7e7960eadcf8\",\"type\":\"Title\"},{\"attributes\":{},\"id\":\"667457e7-2321-4d85-87db-78b6ac0b554c\",\"type\":\"BasicTickFormatter\"},{\"attributes\":{\"overlay\":{\"id\":\"58eda7c6-959a-4d87-9f2c-3a6b58870494\",\"type\":\"BoxAnnotation\"}},\"id\":\"07b55a73-409d-40c5-a0bf-ac0e895a7665\",\"type\":\"BoxZoomTool\"},{\"attributes\":{\"callback\":null},\"id\":\"5da8014e-9d9a-4138-b344-214a197d40e5\",\"type\":\"DataRange1d\"},{\"attributes\":{},\"id\":\"53509cb9-3346-4cdb-bb2d-466887be4316\",\"type\":\"WheelZoomTool\"},{\"attributes\":{\"background_fill_color\":{\"value\":\"#E3DCD0\"},\"below\":[{\"id\":\"6d97f309-c205-433c-9f53-d878f1b03a5a\",\"type\":\"LinearAxis\"}],\"left\":[{\"id\":\"8322005c-92d6-4052-b2c6-1519b22f0293\",\"type\":\"LinearAxis\"}],\"renderers\":[{\"id\":\"6d97f309-c205-433c-9f53-d878f1b03a5a\",\"type\":\"LinearAxis\"},{\"id\":\"5e26d24f-c20d-408e-85dc-f8da6e5f703d\",\"type\":\"Grid\"},{\"id\":\"8322005c-92d6-4052-b2c6-1519b22f0293\",\"type\":\"LinearAxis\"},{\"id\":\"1d7caa52-b959-46a9-b911-0cc8781abc02\",\"type\":\"Grid\"},{\"id\":\"58eda7c6-959a-4d87-9f2c-3a6b58870494\",\"type\":\"BoxAnnotation\"},{\"id\":\"1f05d6f2-e644-4002-a6eb-87b5f3b617d7\",\"type\":\"Legend\"},{\"id\":\"512a9bb7-a8dc-4900-8667-bdad33c04f7f\",\"type\":\"GlyphRenderer\"},{\"id\":\"f031f35c-0ab6-4a19-aae4-467e5ddd1d6d\",\"type\":\"GlyphRenderer\"}],\"title\":{\"id\":\"01f070e9-1612-4029-aee0-7e7960eadcf8\",\"type\":\"Title\"},\"toolbar\":{\"id\":\"f5e1b393-1095-4873-b4b5-d8f66e9c07ff\",\"type\":\"Toolbar\"},\"x_range\":{\"id\":\"5da8014e-9d9a-4138-b344-214a197d40e5\",\"type\":\"DataRange1d\"},\"x_scale\":{\"id\":\"658f4afb-3bdf-4da1-ba10-e0babb79c168\",\"type\":\"LinearScale\"},\"y_range\":{\"id\":\"a462b7b0-586f-4d7c-bd58-72dfef6a6f26\",\"type\":\"DataRange1d\"},\"y_scale\":{\"id\":\"9b5cc9d0-0637-4507-9412-f62840aa58e7\",\"type\":\"LinearScale\"}},\"id\":\"cc3a13f8-5ede-41aa-9b48-82b160556cf2\",\"subtype\":\"Figure\",\"type\":\"Plot\"},{\"attributes\":{\"line_color\":\"tomato\",\"x\":{\"field\":\"x\"},\"y\":{\"field\":\"y\"}},\"id\":\"ccbf9205-6cac-4a00-9b4e-d7e52aa533f5\",\"type\":\"Line\"},{\"attributes\":{\"dimension\":1,\"grid_line_color\":{\"value\":\"#FFFFFF\"},\"grid_line_width\":{\"value\":0.75},\"plot\":{\"id\":\"cc3a13f8-5ede-41aa-9b48-82b160556cf2\",\"subtype\":\"Figure\",\"type\":\"Plot\"},\"ticker\":{\"id\":\"be189624-3540-4777-ae16-6db508d9a611\",\"type\":\"BasicTicker\"}},\"id\":\"1d7caa52-b959-46a9-b911-0cc8781abc02\",\"type\":\"Grid\"},{\"attributes\":{\"source\":{\"id\":\"583a2f7a-23db-4840-84d6-c32124b50cd2\",\"type\":\"ColumnDataSource\"}},\"id\":\"bf0af696-4b13-40cd-8045-15f507e803f4\",\"type\":\"CDSView\"},{\"attributes\":{\"bottom_units\":\"screen\",\"fill_alpha\":{\"value\":0.5},\"fill_color\":{\"value\":\"lightgrey\"},\"left_units\":\"screen\",\"level\":\"overlay\",\"line_alpha\":{\"value\":1.0},\"line_color\":{\"value\":\"black\"},\"line_dash\":[4,4],\"line_width\":{\"value\":2},\"plot\":null,\"render_mode\":\"css\",\"right_units\":\"screen\",\"top_units\":\"screen\"},\"id\":\"58eda7c6-959a-4d87-9f2c-3a6b58870494\",\"type\":\"BoxAnnotation\"},{\"attributes\":{},\"id\":\"658f4afb-3bdf-4da1-ba10-e0babb79c168\",\"type\":\"LinearScale\"},{\"attributes\":{\"active_drag\":\"auto\",\"active_inspect\":\"auto\",\"active_scroll\":\"auto\",\"active_tap\":\"auto\",\"tools\":[{\"id\":\"e5adb803-9c12-4440-a133-ec1b2ac8a620\",\"type\":\"PanTool\"},{\"id\":\"53509cb9-3346-4cdb-bb2d-466887be4316\",\"type\":\"WheelZoomTool\"},{\"id\":\"07b55a73-409d-40c5-a0bf-ac0e895a7665\",\"type\":\"BoxZoomTool\"},{\"id\":\"ac1dee92-69a3-4538-b55f-96cdb93e3c9f\",\"type\":\"SaveTool\"},{\"id\":\"897ee550-8f4a-423b-9320-bfd59f82a574\",\"type\":\"ResetTool\"},{\"id\":\"3171c871-39c9-40a5-a179-38046e9482cf\",\"type\":\"HelpTool\"}]},\"id\":\"f5e1b393-1095-4873-b4b5-d8f66e9c07ff\",\"type\":\"Toolbar\"},{\"attributes\":{\"data_source\":{\"id\":\"583a2f7a-23db-4840-84d6-c32124b50cd2\",\"type\":\"ColumnDataSource\"},\"glyph\":{\"id\":\"ccbf9205-6cac-4a00-9b4e-d7e52aa533f5\",\"type\":\"Line\"},\"hover_glyph\":null,\"muted_glyph\":null,\"nonselection_glyph\":{\"id\":\"f4533a20-85c9-4171-84d1-38d7f4347747\",\"type\":\"Line\"},\"selection_glyph\":null,\"view\":{\"id\":\"bf0af696-4b13-40cd-8045-15f507e803f4\",\"type\":\"CDSView\"}},\"id\":\"f031f35c-0ab6-4a19-aae4-467e5ddd1d6d\",\"type\":\"GlyphRenderer\"},{\"attributes\":{},\"id\":\"76fba0b2-692c-4948-84ef-cfbfc9abd5f7\",\"type\":\"BasicTickFormatter\"},{\"attributes\":{},\"id\":\"9b5cc9d0-0637-4507-9412-f62840aa58e7\",\"type\":\"LinearScale\"},{\"attributes\":{},\"id\":\"897ee550-8f4a-423b-9320-bfd59f82a574\",\"type\":\"ResetTool\"},{\"attributes\":{\"line_color\":\"dodgerblue\",\"x\":{\"field\":\"x\"},\"y\":{\"field\":\"y\"}},\"id\":\"f86565cd-506b-4c0c-b0bc-c708384bbd7c\",\"type\":\"Line\"},{\"attributes\":{\"axis_label\":\"time step\",\"axis_label_standoff\":3,\"axis_label_text_color\":{\"value\":\"#3c3c3c\"},\"axis_label_text_font\":\"Lucida Sans Unicode\",\"axis_label_text_font_size\":{\"value\":\"1em\"},\"axis_label_text_font_style\":\"normal\",\"axis_line_color\":{\"value\":null},\"formatter\":{\"id\":\"76fba0b2-692c-4948-84ef-cfbfc9abd5f7\",\"type\":\"BasicTickFormatter\"},\"major_label_text_font\":\"Lucida Sans Unicode\",\"major_label_text_font_size\":{\"value\":\"0.75em\"},\"major_tick_line_color\":{\"value\":null},\"minor_tick_line_color\":{\"value\":null},\"plot\":{\"id\":\"cc3a13f8-5ede-41aa-9b48-82b160556cf2\",\"subtype\":\"Figure\",\"type\":\"Plot\"},\"ticker\":{\"id\":\"ae0016a6-6770-46cf-b4b1-fd6bdaa37b97\",\"type\":\"BasicTicker\"}},\"id\":\"6d97f309-c205-433c-9f53-d878f1b03a5a\",\"type\":\"LinearAxis\"},{\"attributes\":{\"line_alpha\":0.1,\"line_color\":\"#1f77b4\",\"x\":{\"field\":\"x\"},\"y\":{\"field\":\"y\"}},\"id\":\"f4533a20-85c9-4171-84d1-38d7f4347747\",\"type\":\"Line\"},{\"attributes\":{},\"id\":\"be189624-3540-4777-ae16-6db508d9a611\",\"type\":\"BasicTicker\"},{\"attributes\":{\"callback\":null,\"column_names\":[\"x\",\"y\"],\"data\":{\"x\":[0,1,2,3,4,5,6,7,8,9,10,11,12,13,14,15,16,17,18,19,20,21,22,23,24,25,26,27,28,29,30,31,32,33,34,35,36,37,38,39,40,41,42,43,44,45,46,47,48,49,50,51,52,53,54,55,56,57,58,59,60,61,62,63,64,65,66,67,68,69,70,71,72,73,74,75,76,77,78,79,80,81,82,83,84,85,86,87,88,89,90,91,92,93,94,95,96,97,98],\"y\":{\"__ndarray__\":\"CFLkQUQQ8j9dsAojSfXxP6qsxZy96uw/qPXrcPCKwD9WEqyuuxWMP/xShjGjcd0/JHDEAq/Aqj8gPOS4YOjIP2ywbBUhdsM/YWxmxM4+sz8yW0b0//ygP9AQUTJt5M0/0E7Upmzj9j8JL/nK5/rzP89mvSeveeY//1USzAh91D/Zz/T6g/vAP5d/cMsAk84/IQgVkhH2nj98rdx2lNjRP/DS8cPdcbI/XgdFGTkxsj/3sBCvLtCaPya4lChJ/Nc/bc14//n4vz+PyGqf1dDcP+eVDJ1guME/WyF5ZqUxyT+ajQWI/qnGP3iCKeKPr9c/R8KO7Jl3sT8qNIs8Wo++P1hZirSEBMY/zsoiChKviz8kDyOPNKHzP6ng/Cn1kvE/DDEXOcUnxT87fnviItC4P6Nmc8/MH90/CT6NK0Ls0D81hksKY7bpP+KtPw3xcfM/HSxMtMpT7j/DirBoVnroP3tYuwJKOM8/bqLt/GnC0D/azBTlSBHoPxraD91uX9c/1NOvs2l31D+eOslET16gP91r5fb5J4o/A6zEq3UFyj+k9ODH3/3PP94imjL4F9U/lMYvhEzE1T+XsJDoUs2lP0jovbpD2NA/DVrNIYq64T/K218iXzPrP2R1TpQG6uU/Lf3nEMGazj+uGboVzQKWP5MXsKzBB88/+0JAZSYN7j/0GEUfm3DxP8YXG12Ba+8/vZVwsT/Q3T9ksB/ARPJ9P1Gm+wiwIPQ/ovaTupu+9T9V8JKxuDPwPw+NEBJPVe8/WFgTuQB34T8V+SPasXvdP0UIwIp5sLs/CVLZ+nF7jz/u0YQ5M6bhP+Gx341T5vE/Pts6+y5c4j+U4CYJ3VrdP1QLNOgZ/tA/IN8Z2jfrsz+5L5ccWuHxP71Vj24/JPI/Zmhlcumz8T8XPPeT8PHvP6jFmKfJ68U/ES0LpGYl0T/A+/p2F1DIP8oqiJ2yS8M/q1pdyhFszz8rEDQtpSPhP4JsJW+PYc4/7GkFy0nNlD8dJvfhNNrcP1wVTJcbk94/CevgF918gT8wKi8DpUa4P5J9zYvGw9g/\",\"dtype\":\"float64\",\"shape\":[99]}}},\"id\":\"ee88ee95-5331-451d-9928-056f7dca3bec\",\"type\":\"ColumnDataSource\"},{\"attributes\":{\"label\":{\"value\":\"laser\"},\"renderers\":[{\"id\":\"512a9bb7-a8dc-4900-8667-bdad33c04f7f\",\"type\":\"GlyphRenderer\"}]},\"id\":\"c6706d61-843c-4f64-892e-8007bde7cae7\",\"type\":\"LegendItem\"},{\"attributes\":{\"callback\":null},\"id\":\"a462b7b0-586f-4d7c-bd58-72dfef6a6f26\",\"type\":\"DataRange1d\"},{\"attributes\":{\"data_source\":{\"id\":\"ee88ee95-5331-451d-9928-056f7dca3bec\",\"type\":\"ColumnDataSource\"},\"glyph\":{\"id\":\"f86565cd-506b-4c0c-b0bc-c708384bbd7c\",\"type\":\"Line\"},\"hover_glyph\":null,\"muted_glyph\":null,\"nonselection_glyph\":{\"id\":\"e49a18a0-3755-43a5-ba42-d2202e0fb952\",\"type\":\"Line\"},\"selection_glyph\":null,\"view\":{\"id\":\"dd960ffa-32de-4af6-af19-abfe4082bec7\",\"type\":\"CDSView\"}},\"id\":\"512a9bb7-a8dc-4900-8667-bdad33c04f7f\",\"type\":\"GlyphRenderer\"},{\"attributes\":{\"source\":{\"id\":\"ee88ee95-5331-451d-9928-056f7dca3bec\",\"type\":\"ColumnDataSource\"}},\"id\":\"dd960ffa-32de-4af6-af19-abfe4082bec7\",\"type\":\"CDSView\"},{\"attributes\":{},\"id\":\"ac1dee92-69a3-4538-b55f-96cdb93e3c9f\",\"type\":\"SaveTool\"},{\"attributes\":{\"items\":[{\"id\":\"c6706d61-843c-4f64-892e-8007bde7cae7\",\"type\":\"LegendItem\"},{\"id\":\"bb6eea34-3d47-4df9-acf5-2f8d6c3eb8e5\",\"type\":\"LegendItem\"}],\"plot\":{\"id\":\"cc3a13f8-5ede-41aa-9b48-82b160556cf2\",\"subtype\":\"Figure\",\"type\":\"Plot\"}},\"id\":\"1f05d6f2-e644-4002-a6eb-87b5f3b617d7\",\"type\":\"Legend\"},{\"attributes\":{\"grid_line_color\":{\"value\":\"#FFFFFF\"},\"grid_line_width\":{\"value\":0.75},\"plot\":{\"id\":\"cc3a13f8-5ede-41aa-9b48-82b160556cf2\",\"subtype\":\"Figure\",\"type\":\"Plot\"},\"ticker\":{\"id\":\"ae0016a6-6770-46cf-b4b1-fd6bdaa37b97\",\"type\":\"BasicTicker\"}},\"id\":\"5e26d24f-c20d-408e-85dc-f8da6e5f703d\",\"type\":\"Grid\"},{\"attributes\":{\"line_alpha\":0.1,\"line_color\":\"#1f77b4\",\"x\":{\"field\":\"x\"},\"y\":{\"field\":\"y\"}},\"id\":\"e49a18a0-3755-43a5-ba42-d2202e0fb952\",\"type\":\"Line\"},{\"attributes\":{\"callback\":null,\"column_names\":[\"x\",\"y\"],\"data\":{\"x\":[0,1,2,3,4,5,6,7,8,9,10,11,12,13,14,15,16,17,18,19,20,21,22,23,24,25,26,27,28,29,30,31,32,33,34,35,36,37,38,39,40,41,42,43,44,45,46,47,48,49,50,51,52,53,54,55,56,57,58,59,60,61,62,63,64,65,66,67,68,69,70,71,72,73,74,75,76,77,78,79,80,81,82,83,84,85,86,87,88,89,90,91,92,93,94,95,96,97,98],\"y\":{\"__ndarray__\":\"b0fd1PizoD/dX+W9s8qxPzHSnOFvhrU/T+JQ26k9sT9a8CD0S5a0P0cc5L5MFbQ/F59C641kQD92hBjZG8muP1HRXqiX+Lw/PvzOfaq1wD8hNioPCB21P3Q24qDiTrw/joVWguOMxj+mEdLxGOG9PzlexHR/69Q/MBO4eS7avj8NBZKjryCXP4DbKZqrn7M/lC5NEVgTsD81Pmf67y2QP+viVVRJlZQ/3qlJT0g/xD+lHK7HrRO4P6wnPz/asdk/0MLenya82j9rIP9i1qXAP4xE0yzhscY/oPBbLtD7qj/41u7UVpnAP9E+KJrKocY/NhYRfdM0qD+PD7/pBuycP1tdcEt0x8g/o0ja7oktsj9V8XRZcQ67P2IxgsYmKJU/dqLip6zPyD8+9bX7OnmhPwNqrWiRTsY/9axqak5Grj9/An/IGaG/P1UcmrVcr8A/KR/bxo/Shj8C8DphUKGQPxkFBkerx6g/g5OeOeZvwD+jP9tB77zAP0PvaVmKrLE/t2Cqb8RXtD9D+P/0vt+AP0BzVFCrjKc/pV9XN3zYsj+x7I5g/364P8PUJMGR0cQ/BhzylKCVxj/8FvFf50LAPzI0hhHVoG8/qXwdfXwifT8L9cukDxOpP/YmNbzfx8g/icCiTIl41D+upSkTPneyP2g+eTaIWpg/vHO8tIaKnj+SaQtu6pnXP+n4tZHQGsM/chHTWYDyuj+Q1Io21RzDP3FpIVQtmIs/L6BMEWzDwT8wcD7yavjBP1IlUDKEYNI/7sCW2QInzT9mJi32v/WTP2aoQvGAsso/xRKviEAVpz+TAWV/a0PHPwuQ8NTOZpU/NCeZSw7lmj8b3fgmjxzQPwKFwMRTZrY/hwWIjM9xaT/Hk+5wEanOP7WV5TA/+Mo/TGKirC/xpT/8djkCu5XQP+E1SGRC+bc/VzhLU2/CvT/VNgPEm8l9P39p+CB/Qps/9Vnik4xpvD82ibTV0WqzP782w0ckk5w/PuaxA+RBpj8QQizN0KfHP3vhEjfL4LQ/Tfuq9A66vz+jTeiG143aP21ZXE/hgtg/\",\"dtype\":\"float64\",\"shape\":[99]}}},\"id\":\"583a2f7a-23db-4840-84d6-c32124b50cd2\",\"type\":\"ColumnDataSource\"},{\"attributes\":{\"label\":{\"value\":\"lamp\"},\"renderers\":[{\"id\":\"f031f35c-0ab6-4a19-aae4-467e5ddd1d6d\",\"type\":\"GlyphRenderer\"}]},\"id\":\"bb6eea34-3d47-4df9-acf5-2f8d6c3eb8e5\",\"type\":\"LegendItem\"}],\"root_ids\":[\"cc3a13f8-5ede-41aa-9b48-82b160556cf2\"]},\"title\":\"Bokeh Application\",\"version\":\"0.12.13\"}};\n",
       "  var render_items = [{\"docid\":\"99bc2108-acdf-4f9b-a338-1d55d9f1c7e2\",\"elementid\":\"7e0da500-986a-40a8-ab80-1bed342b1aab\",\"modelid\":\"cc3a13f8-5ede-41aa-9b48-82b160556cf2\"}];\n",
       "  root.Bokeh.embed.embed_items_notebook(docs_json, render_items);\n",
       "\n",
       "  }\n",
       "  if (root.Bokeh !== undefined) {\n",
       "    embed_document(root);\n",
       "  } else {\n",
       "    var attempts = 0;\n",
       "    var timer = setInterval(function(root) {\n",
       "      if (root.Bokeh !== undefined) {\n",
       "        embed_document(root);\n",
       "        clearInterval(timer);\n",
       "      }\n",
       "      attempts++;\n",
       "      if (attempts > 100) {\n",
       "        console.log(\"Bokeh: ERROR: Unable to run BokehJS code because BokehJS library is missing\")\n",
       "        clearInterval(timer);\n",
       "      }\n",
       "    }, 10, root)\n",
       "  }\n",
       "})(window);"
      ],
      "application/vnd.bokehjs_exec.v0+json": ""
     },
     "metadata": {
      "application/vnd.bokehjs_exec.v0+json": {
       "id": "cc3a13f8-5ede-41aa-9b48-82b160556cf2"
      }
     },
     "output_type": "display_data"
    }
   ],
   "source": [
    "p = mwc.viz.boilerplate(x_axis_label='time step', y_axis_label='percent difference')\n",
    "p.line(frames[:-1], diff_laser * 100, color='dodgerblue', legend='laser' )\n",
    "p.line(frames[:-1], diff_lamp * 100, color='tomato', legend='lamp' )\n",
    "bokeh.io.show(p)"
   ]
  },
  {
   "cell_type": "code",
   "execution_count": 75,
   "metadata": {},
   "outputs": [
    {
     "data": {
      "text/html": [
       "\n",
       "<div class=\"bk-root\">\n",
       "    <div class=\"bk-plotdiv\" id=\"a8645548-e32f-4255-82e7-2373091431c9\"></div>\n",
       "</div>"
      ]
     },
     "metadata": {},
     "output_type": "display_data"
    },
    {
     "data": {
      "application/javascript": [
       "(function(root) {\n",
       "  function embed_document(root) {\n",
       "    \n",
       "  var docs_json = {\"35652514-fdf4-47e4-a5da-f214e4ae551c\":{\"roots\":{\"references\":[{\"attributes\":{\"source\":{\"id\":\"e0d0168b-c49f-4def-bd58-7c3bede71c37\",\"type\":\"ColumnDataSource\"}},\"id\":\"04d02052-50a8-4bce-a20e-da897a1fb8b9\",\"type\":\"CDSView\"},{\"attributes\":{\"data_source\":{\"id\":\"f00ff009-9f5f-4069-8a51-9c5ada3aede7\",\"type\":\"ColumnDataSource\"},\"glyph\":{\"id\":\"bd8574fa-2418-482a-8307-c835a0c42dd0\",\"type\":\"Circle\"},\"hover_glyph\":null,\"muted_glyph\":null,\"nonselection_glyph\":{\"id\":\"26d65343-4621-473b-950a-3673038967c0\",\"type\":\"Circle\"},\"selection_glyph\":null,\"view\":{\"id\":\"c1d1b947-0160-4d84-bb90-0d240cdec68c\",\"type\":\"CDSView\"}},\"id\":\"4045182d-b39c-4122-aaf1-e25c8758fcde\",\"type\":\"GlyphRenderer\"},{\"attributes\":{},\"id\":\"e77c1c36-7b48-4538-a36e-5ba1056e0de7\",\"type\":\"WheelZoomTool\"},{\"attributes\":{\"axis_label\":\"cumulative distribution\",\"axis_label_standoff\":3,\"axis_label_text_color\":{\"value\":\"#3c3c3c\"},\"axis_label_text_font\":\"Lucida Sans Unicode\",\"axis_label_text_font_size\":{\"value\":\"1em\"},\"axis_label_text_font_style\":\"normal\",\"axis_line_color\":{\"value\":null},\"formatter\":{\"id\":\"4c01cd0a-598b-4049-980c-031f1ba0c316\",\"type\":\"BasicTickFormatter\"},\"major_label_text_font\":\"Lucida Sans Unicode\",\"major_label_text_font_size\":{\"value\":\"0.75em\"},\"major_tick_line_color\":{\"value\":null},\"minor_tick_line_color\":{\"value\":null},\"plot\":{\"id\":\"5cc75ecb-d068-4aab-ab60-4bc0a7ebde17\",\"subtype\":\"Figure\",\"type\":\"Plot\"},\"ticker\":{\"id\":\"7c154221-0092-4b71-a9b6-7f50148a5fcc\",\"type\":\"BasicTicker\"}},\"id\":\"d369bf28-ab60-4291-935e-21f81f017063\",\"type\":\"LinearAxis\"},{\"attributes\":{\"label\":{\"value\":\"laser\"},\"renderers\":[{\"id\":\"0593536c-ddb0-4334-b430-707c860d5f16\",\"type\":\"GlyphRenderer\"}]},\"id\":\"2eb3d42c-1734-4817-9ca9-c481ac6f3e55\",\"type\":\"LegendItem\"},{\"attributes\":{\"callback\":null,\"column_names\":[\"x\",\"y\"],\"data\":{\"x\":{\"__ndarray__\":\"F59C641kQD+HBYiMz3FpPzI0hhHVoG8/qXwdfXwifT/VNgPEm8l9P0P4//S+34A/KR/bxo/Shj9xaSFULZiLPzU+Z/rvLZA/AvA6YVChkD9mJi32v/WTP+viVVRJlZQ/YjGCxiYolT8LkPDUzmaVPw0FkqOvIJc/aD55NohamD80J5lLDuWaP39p+CB/Qps/vzbDRySTnD+PD7/pBuycP7xzvLSGip4/b0fd1PizoD8+9bX7OnmhP0xioqwv8aU/PuaxA+RBpj/FEq+IQBWnP0BzVFCrjKc/NhYRfdM0qD8ZBQZHq8eoPwv1y6QPE6k/oPBbLtD7qj/1rGpqTkauP3aEGNkbya4/lC5NEVgTsD9P4lDbqT2xP0PvaVmKrLE/3V/lvbPKsT+jSNruiS2yP66lKRM+d7I/pV9XN3zYsj82ibTV0WqzP4DbKZqrn7M/RxzkvkwVtD+3YKpvxFe0P1rwIPRLlrQ/e+ESN8vgtD8hNioPCB21PzHSnOFvhrU/AoXAxFNmtj/hNUhkQvm3P6UcrsetE7g/seyOYP9+uD9yEdNZgPK6P1XxdFlxDrs/dDbioOJOvD/1WeKTjGm8P1HRXqiX+Lw/VzhLU2/CvT+mEdLxGOG9PzATuHku2r4/fwJ/yBmhvz9N+6r0Drq/P/wW8V/nQsA/g5OeOeZvwD/41u7UVpnAP2sg/2LWpcA/VRyatVyvwD8+/M59qrXAP6M/20HvvMA/L6BMEWzDwT8wcD7yavjBP+n4tZHQGsM/kNSKNtUcwz/eqUlPSD/EP8PUJMGR0cQ/A2qtaJFOxj+OhVaC44zGPwYc8pSglcY/0T4omsqhxj+MRNMs4bHGP5MBZX9rQ8c/EEIszdCnxz9bXXBLdMfIP/YmNbzfx8g/dqLip6zPyD9mqELxgLLKP7WV5TA/+Mo/7sCW2QInzT/Hk+5wEanOPxvd+CaPHNA//HY5AruV0D9SJVAyhGDSP4nAokyJeNQ/OV7EdH/r1D+SaQtu6pnXP21ZXE/hgtg/rCc/P9qx2T+jTeiG143aP9DC3p8mvNo/\",\"dtype\":\"float64\",\"shape\":[99]},\"y\":{\"__ndarray__\":\"AAAAAAAAAABbv1Kg1q+EP1u/UqDWr5Q/CB988MEHnz9bv1Kg1q+kPzFvZ0jM26k/CB988MEHrz9vZ0jM2xmyP1u/UqDWr7Q/RhdddNFFtz8xb2dIzNu5PxzHcRzHcbw/CB988MEHvz96O0Ni3s7AP29nSMzbGcI/ZZNNNtlkwz9bv1Kg1q/EP1DrVwrU+sU/RhdddNFFxz87Q2LezpDIPzFvZ0jM28k/J5tssskmyz8cx3Ecx3HMPxLzdobEvM0/CB988MEHzz9/pUCtXynQP3o7Q2LeztA/dNFFF1100T9vZ0jM2xnSP2r9SoFav9I/ZZNNNtlk0z9gKVDrVwrUP1u/UqDWr9Q/VVVVVVVV1T9Q61cK1PrVP0uBWr9SoNY/RhdddNFF1z9BrV8pUOvXPztDYt7OkNg/Ntlkk0022T8xb2dIzNvZPywFav1Kgdo/J5tssskm2z8iMW9nSMzbPxzHcRzHcdw/F1100UUX3T8S83aGxLzdPw2JeTtDYt4/CB988MEH3z8DtX6lQK3fP3+lQK1fKeA/fPDBBx984D96O0Ni3s7gP3eGxLydIeE/dNFFF1104T9yHMdxHMfhP29nSMzbGeI/bbLJJpts4j9q/UqBWr/iP2dIzNsZEuM/ZZNNNtlk4z9i3s6QmLfjP2ApUOtXCuQ/XXTRRRdd5D9bv1Kg1q/kP1gK1PqVAuU/VVVVVVVV5T9ToNavFKjlP1DrVwrU+uU/TjbZZJNN5j9LgVq/UqDmP0jM2xkS8+Y/RhdddNFF5z9DYt7OkJjnP0GtXylQ6+c/Pvjggw8+6D87Q2LezpDoPzmO4ziO4+g/Ntlkk0026T80JObtDInpPzFvZ0jM2+k/L7rooosu6j8sBWr9SoHqPylQ61cK1Oo/J5tssskm6z8k5u0MiXnrPyIxb2dIzOs/H3zwwQcf7D8cx3Ecx3HsPxoS83aGxOw/F1100UUX7T8VqPUrBWrtPxLzdobEvO0/ED744IMP7j8NiXk7Q2LuPwrU+pUCte4/CB988MEH7z8Fav1KgVrvPwO1fqVAre8/\",\"dtype\":\"float64\",\"shape\":[99]}}},\"id\":\"f00ff009-9f5f-4069-8a51-9c5ada3aede7\",\"type\":\"ColumnDataSource\"},{\"attributes\":{\"overlay\":{\"id\":\"738a914e-7b20-4feb-9898-04444a670114\",\"type\":\"BoxAnnotation\"}},\"id\":\"b0ff0b64-27a2-4ed0-8c48-7c4be5ce34c4\",\"type\":\"BoxZoomTool\"},{\"attributes\":{\"fill_color\":{\"value\":\"dodgerblue\"},\"line_color\":{\"value\":\"dodgerblue\"},\"x\":{\"field\":\"x\"},\"y\":{\"field\":\"y\"}},\"id\":\"25051866-28b3-4086-80c4-e7a19136267a\",\"type\":\"Circle\"},{\"attributes\":{},\"id\":\"1d074527-40ab-431c-90f7-fb14fb9dc254\",\"type\":\"SaveTool\"},{\"attributes\":{},\"id\":\"4c01cd0a-598b-4049-980c-031f1ba0c316\",\"type\":\"BasicTickFormatter\"},{\"attributes\":{\"dimension\":1,\"grid_line_color\":{\"value\":\"#FFFFFF\"},\"grid_line_width\":{\"value\":0.75},\"plot\":{\"id\":\"5cc75ecb-d068-4aab-ab60-4bc0a7ebde17\",\"subtype\":\"Figure\",\"type\":\"Plot\"},\"ticker\":{\"id\":\"7c154221-0092-4b71-a9b6-7f50148a5fcc\",\"type\":\"BasicTicker\"}},\"id\":\"5c7a60fc-7e36-4925-8535-001f6f277f6c\",\"type\":\"Grid\"},{\"attributes\":{\"items\":[{\"id\":\"6b32d7e0-766d-40e4-9787-3f935eef0e24\",\"type\":\"LegendItem\"},{\"id\":\"2eb3d42c-1734-4817-9ca9-c481ac6f3e55\",\"type\":\"LegendItem\"}],\"plot\":{\"id\":\"5cc75ecb-d068-4aab-ab60-4bc0a7ebde17\",\"subtype\":\"Figure\",\"type\":\"Plot\"}},\"id\":\"bad4f947-78f2-40c5-bb09-cdca7d1aea39\",\"type\":\"Legend\"},{\"attributes\":{},\"id\":\"17ab1ad8-a765-4a78-87da-c7ff0d35a2ec\",\"type\":\"PanTool\"},{\"attributes\":{\"fill_alpha\":{\"value\":0.1},\"fill_color\":{\"value\":\"#1f77b4\"},\"line_alpha\":{\"value\":0.1},\"line_color\":{\"value\":\"#1f77b4\"},\"x\":{\"field\":\"x\"},\"y\":{\"field\":\"y\"}},\"id\":\"f8b9b27c-90cc-44f7-a0dd-b969ff59c002\",\"type\":\"Circle\"},{\"attributes\":{\"active_drag\":\"auto\",\"active_inspect\":\"auto\",\"active_scroll\":\"auto\",\"active_tap\":\"auto\",\"tools\":[{\"id\":\"17ab1ad8-a765-4a78-87da-c7ff0d35a2ec\",\"type\":\"PanTool\"},{\"id\":\"e77c1c36-7b48-4538-a36e-5ba1056e0de7\",\"type\":\"WheelZoomTool\"},{\"id\":\"b0ff0b64-27a2-4ed0-8c48-7c4be5ce34c4\",\"type\":\"BoxZoomTool\"},{\"id\":\"1d074527-40ab-431c-90f7-fb14fb9dc254\",\"type\":\"SaveTool\"},{\"id\":\"3f25b3de-f957-4947-9577-fa94af9a19be\",\"type\":\"ResetTool\"},{\"id\":\"766e3b89-1ca4-4cbd-a789-02b29534ca34\",\"type\":\"HelpTool\"}]},\"id\":\"3922feda-5284-4d18-aac4-4d13e53be959\",\"type\":\"Toolbar\"},{\"attributes\":{\"callback\":null},\"id\":\"22b49aad-043c-413b-8d84-0d147508e0ce\",\"type\":\"DataRange1d\"},{\"attributes\":{\"label\":{\"value\":\"lamp\"},\"renderers\":[{\"id\":\"4045182d-b39c-4122-aaf1-e25c8758fcde\",\"type\":\"GlyphRenderer\"}]},\"id\":\"6b32d7e0-766d-40e4-9787-3f935eef0e24\",\"type\":\"LegendItem\"},{\"attributes\":{\"fill_color\":{\"value\":\"tomato\"},\"line_color\":{\"value\":\"tomato\"},\"x\":{\"field\":\"x\"},\"y\":{\"field\":\"y\"}},\"id\":\"bd8574fa-2418-482a-8307-c835a0c42dd0\",\"type\":\"Circle\"},{\"attributes\":{\"bottom_units\":\"screen\",\"fill_alpha\":{\"value\":0.5},\"fill_color\":{\"value\":\"lightgrey\"},\"left_units\":\"screen\",\"level\":\"overlay\",\"line_alpha\":{\"value\":1.0},\"line_color\":{\"value\":\"black\"},\"line_dash\":[4,4],\"line_width\":{\"value\":2},\"plot\":null,\"render_mode\":\"css\",\"right_units\":\"screen\",\"top_units\":\"screen\"},\"id\":\"738a914e-7b20-4feb-9898-04444a670114\",\"type\":\"BoxAnnotation\"},{\"attributes\":{},\"id\":\"7c154221-0092-4b71-a9b6-7f50148a5fcc\",\"type\":\"BasicTicker\"},{\"attributes\":{\"source\":{\"id\":\"f00ff009-9f5f-4069-8a51-9c5ada3aede7\",\"type\":\"ColumnDataSource\"}},\"id\":\"c1d1b947-0160-4d84-bb90-0d240cdec68c\",\"type\":\"CDSView\"},{\"attributes\":{\"callback\":null,\"column_names\":[\"x\",\"y\"],\"data\":{\"x\":{\"__ndarray__\":\"ZLAfwETyfT8J6+AX3XyBP91r5fb5J4o/zsoiChKviz9WEqyuuxWMPwlS2fpxe48/7GkFy0nNlD+uGboVzQKWP/ewEK8u0Jo/IQgVkhH2nj+eOslET16gPzJbRvT//KA/l7CQ6FLNpT8kcMQCr8CqP0fCjuyZd7E/XgdFGTkxsj/w0vHD3XGyP2FsZsTOPrM/IN8Z2jfrsz8wKi8DpUa4Pzt+e+Ii0Lg/RQjAinmwuz8qNIs8Wo++P23NeP/5+L8/qPXrcPCKwD/Zz/T6g/vAP+eVDJ1guME/yiqInbJLwz9ssGwVIXbDPwwxFznFJ8U/qMWYp8nrxT9YWYq0hATGP5qNBYj+qcY/wPv6dhdQyD8gPOS4YOjIP1sheWalMck/A6zEq3UFyj/QEFEybeTNP4JsJW+PYc4/l39wywCTzj8t/ecQwZrOP5MXsKzBB88/e1i7Ako4zz+rWl3KEWzPP6T04Mff/c8/bqLt/GnC0D9I6L26Q9jQPwk+jStC7NA/VAs06Bn+0D8RLQukZiXRP3yt3HaU2NE/1NOvs2l31D//VRLMCH3UP94imjL4F9U/lMYvhEzE1T8a2g/dbl/XP3iCKeKPr9c/JriUKEn81z+Sfc2LxsPYP4/Iap/V0Nw/HSb34TTa3D+jZnPPzB/dP5TgJgndWt0//FKGMaNx3T8V+SPasXvdP72VcLE/0N0/XBVMlxuT3j8rEDQtpSPhP1hYE7kAd+E/7tGEOTOm4T8NWs0hirrhPz7bOvsuXOI/ZHVOlAbq5T/PZr0nr3nmP9rMFOVIEeg/w4qwaFZ66D81hksKY7bpP8rbXyJfM+s/qqzFnL3q7D/7QkBlJg3uPx0sTLTKU+4/D40QEk9V7z/GFxtdgWvvPxc895Pw8e8/VfCSsbgz8D/0GEUfm3DxP6ng/Cn1kvE/Zmhlcumz8T+5L5ccWuHxP+Gx341T5vE/XbAKI0n18T8IUuRBRBDyP71Vj24/JPI/4q0/DfFx8z8kDyOPNKHzPwkv+crn+vM/Uab7CLAg9D+i9pO6m771P9BO1KZs4/Y/\",\"dtype\":\"float64\",\"shape\":[99]},\"y\":{\"__ndarray__\":\"AAAAAAAAAABbv1Kg1q+EP1u/UqDWr5Q/CB988MEHnz9bv1Kg1q+kPzFvZ0jM26k/CB988MEHrz9vZ0jM2xmyP1u/UqDWr7Q/RhdddNFFtz8xb2dIzNu5PxzHcRzHcbw/CB988MEHvz96O0Ni3s7AP29nSMzbGcI/ZZNNNtlkwz9bv1Kg1q/EP1DrVwrU+sU/RhdddNFFxz87Q2LezpDIPzFvZ0jM28k/J5tssskmyz8cx3Ecx3HMPxLzdobEvM0/CB988MEHzz9/pUCtXynQP3o7Q2LeztA/dNFFF1100T9vZ0jM2xnSP2r9SoFav9I/ZZNNNtlk0z9gKVDrVwrUP1u/UqDWr9Q/VVVVVVVV1T9Q61cK1PrVP0uBWr9SoNY/RhdddNFF1z9BrV8pUOvXPztDYt7OkNg/Ntlkk0022T8xb2dIzNvZPywFav1Kgdo/J5tssskm2z8iMW9nSMzbPxzHcRzHcdw/F1100UUX3T8S83aGxLzdPw2JeTtDYt4/CB988MEH3z8DtX6lQK3fP3+lQK1fKeA/fPDBBx984D96O0Ni3s7gP3eGxLydIeE/dNFFF1104T9yHMdxHMfhP29nSMzbGeI/bbLJJpts4j9q/UqBWr/iP2dIzNsZEuM/ZZNNNtlk4z9i3s6QmLfjP2ApUOtXCuQ/XXTRRRdd5D9bv1Kg1q/kP1gK1PqVAuU/VVVVVVVV5T9ToNavFKjlP1DrVwrU+uU/TjbZZJNN5j9LgVq/UqDmP0jM2xkS8+Y/RhdddNFF5z9DYt7OkJjnP0GtXylQ6+c/Pvjggw8+6D87Q2LezpDoPzmO4ziO4+g/Ntlkk0026T80JObtDInpPzFvZ0jM2+k/L7rooosu6j8sBWr9SoHqPylQ61cK1Oo/J5tssskm6z8k5u0MiXnrPyIxb2dIzOs/H3zwwQcf7D8cx3Ecx3HsPxoS83aGxOw/F1100UUX7T8VqPUrBWrtPxLzdobEvO0/ED744IMP7j8NiXk7Q2LuPwrU+pUCte4/CB988MEH7z8Fav1KgVrvPwO1fqVAre8/\",\"dtype\":\"float64\",\"shape\":[99]}}},\"id\":\"e0d0168b-c49f-4def-bd58-7c3bede71c37\",\"type\":\"ColumnDataSource\"},{\"attributes\":{\"axis_label\":\"percent difference\",\"axis_label_standoff\":3,\"axis_label_text_color\":{\"value\":\"#3c3c3c\"},\"axis_label_text_font\":\"Lucida Sans Unicode\",\"axis_label_text_font_size\":{\"value\":\"1em\"},\"axis_label_text_font_style\":\"normal\",\"axis_line_color\":{\"value\":null},\"formatter\":{\"id\":\"91fc3067-23d8-4570-a0eb-03970e912696\",\"type\":\"BasicTickFormatter\"},\"major_label_text_font\":\"Lucida Sans Unicode\",\"major_label_text_font_size\":{\"value\":\"0.75em\"},\"major_tick_line_color\":{\"value\":null},\"minor_tick_line_color\":{\"value\":null},\"plot\":{\"id\":\"5cc75ecb-d068-4aab-ab60-4bc0a7ebde17\",\"subtype\":\"Figure\",\"type\":\"Plot\"},\"ticker\":{\"id\":\"79a5a1e9-6fb7-4c21-a91b-cc813cd2cfd7\",\"type\":\"BasicTicker\"}},\"id\":\"8b377f53-b756-446d-b3c4-f203aaf28b4d\",\"type\":\"LinearAxis\"},{\"attributes\":{\"background_fill_color\":{\"value\":\"#E3DCD0\"},\"below\":[{\"id\":\"8b377f53-b756-446d-b3c4-f203aaf28b4d\",\"type\":\"LinearAxis\"}],\"left\":[{\"id\":\"d369bf28-ab60-4291-935e-21f81f017063\",\"type\":\"LinearAxis\"}],\"plot_width\":800,\"renderers\":[{\"id\":\"8b377f53-b756-446d-b3c4-f203aaf28b4d\",\"type\":\"LinearAxis\"},{\"id\":\"56d08390-c73e-4034-8bf8-43c29d6f703e\",\"type\":\"Grid\"},{\"id\":\"d369bf28-ab60-4291-935e-21f81f017063\",\"type\":\"LinearAxis\"},{\"id\":\"5c7a60fc-7e36-4925-8535-001f6f277f6c\",\"type\":\"Grid\"},{\"id\":\"738a914e-7b20-4feb-9898-04444a670114\",\"type\":\"BoxAnnotation\"},{\"id\":\"bad4f947-78f2-40c5-bb09-cdca7d1aea39\",\"type\":\"Legend\"},{\"id\":\"4045182d-b39c-4122-aaf1-e25c8758fcde\",\"type\":\"GlyphRenderer\"},{\"id\":\"0593536c-ddb0-4334-b430-707c860d5f16\",\"type\":\"GlyphRenderer\"}],\"title\":{\"id\":\"69b298f8-f46a-4c04-befd-b22c4617127d\",\"type\":\"Title\"},\"toolbar\":{\"id\":\"3922feda-5284-4d18-aac4-4d13e53be959\",\"type\":\"Toolbar\"},\"x_range\":{\"id\":\"22b49aad-043c-413b-8d84-0d147508e0ce\",\"type\":\"DataRange1d\"},\"x_scale\":{\"id\":\"574be065-1072-4660-8392-e7181df884d8\",\"type\":\"LinearScale\"},\"y_range\":{\"id\":\"d3c7a2ea-55d8-40b7-83ac-4ebe73dc7454\",\"type\":\"DataRange1d\"},\"y_scale\":{\"id\":\"9c82824e-3a61-4a50-88c0-f6c9f5c4bdb2\",\"type\":\"LinearScale\"}},\"id\":\"5cc75ecb-d068-4aab-ab60-4bc0a7ebde17\",\"subtype\":\"Figure\",\"type\":\"Plot\"},{\"attributes\":{},\"id\":\"574be065-1072-4660-8392-e7181df884d8\",\"type\":\"LinearScale\"},{\"attributes\":{\"plot\":null,\"text\":\"\"},\"id\":\"69b298f8-f46a-4c04-befd-b22c4617127d\",\"type\":\"Title\"},{\"attributes\":{},\"id\":\"91fc3067-23d8-4570-a0eb-03970e912696\",\"type\":\"BasicTickFormatter\"},{\"attributes\":{},\"id\":\"3f25b3de-f957-4947-9577-fa94af9a19be\",\"type\":\"ResetTool\"},{\"attributes\":{\"callback\":null},\"id\":\"d3c7a2ea-55d8-40b7-83ac-4ebe73dc7454\",\"type\":\"DataRange1d\"},{\"attributes\":{},\"id\":\"79a5a1e9-6fb7-4c21-a91b-cc813cd2cfd7\",\"type\":\"BasicTicker\"},{\"attributes\":{},\"id\":\"766e3b89-1ca4-4cbd-a789-02b29534ca34\",\"type\":\"HelpTool\"},{\"attributes\":{\"fill_alpha\":{\"value\":0.1},\"fill_color\":{\"value\":\"#1f77b4\"},\"line_alpha\":{\"value\":0.1},\"line_color\":{\"value\":\"#1f77b4\"},\"x\":{\"field\":\"x\"},\"y\":{\"field\":\"y\"}},\"id\":\"26d65343-4621-473b-950a-3673038967c0\",\"type\":\"Circle\"},{\"attributes\":{},\"id\":\"9c82824e-3a61-4a50-88c0-f6c9f5c4bdb2\",\"type\":\"LinearScale\"},{\"attributes\":{\"grid_line_color\":{\"value\":\"#FFFFFF\"},\"grid_line_width\":{\"value\":0.75},\"plot\":{\"id\":\"5cc75ecb-d068-4aab-ab60-4bc0a7ebde17\",\"subtype\":\"Figure\",\"type\":\"Plot\"},\"ticker\":{\"id\":\"79a5a1e9-6fb7-4c21-a91b-cc813cd2cfd7\",\"type\":\"BasicTicker\"}},\"id\":\"56d08390-c73e-4034-8bf8-43c29d6f703e\",\"type\":\"Grid\"},{\"attributes\":{\"data_source\":{\"id\":\"e0d0168b-c49f-4def-bd58-7c3bede71c37\",\"type\":\"ColumnDataSource\"},\"glyph\":{\"id\":\"25051866-28b3-4086-80c4-e7a19136267a\",\"type\":\"Circle\"},\"hover_glyph\":null,\"muted_glyph\":null,\"nonselection_glyph\":{\"id\":\"f8b9b27c-90cc-44f7-a0dd-b969ff59c002\",\"type\":\"Circle\"},\"selection_glyph\":null,\"view\":{\"id\":\"04d02052-50a8-4bce-a20e-da897a1fb8b9\",\"type\":\"CDSView\"}},\"id\":\"0593536c-ddb0-4334-b430-707c860d5f16\",\"type\":\"GlyphRenderer\"}],\"root_ids\":[\"5cc75ecb-d068-4aab-ab60-4bc0a7ebde17\"]},\"title\":\"Bokeh Application\",\"version\":\"0.12.13\"}};\n",
       "  var render_items = [{\"docid\":\"35652514-fdf4-47e4-a5da-f214e4ae551c\",\"elementid\":\"a8645548-e32f-4255-82e7-2373091431c9\",\"modelid\":\"5cc75ecb-d068-4aab-ab60-4bc0a7ebde17\"}];\n",
       "  root.Bokeh.embed.embed_items_notebook(docs_json, render_items);\n",
       "\n",
       "  }\n",
       "  if (root.Bokeh !== undefined) {\n",
       "    embed_document(root);\n",
       "  } else {\n",
       "    var attempts = 0;\n",
       "    var timer = setInterval(function(root) {\n",
       "      if (root.Bokeh !== undefined) {\n",
       "        embed_document(root);\n",
       "        clearInterval(timer);\n",
       "      }\n",
       "      attempts++;\n",
       "      if (attempts > 100) {\n",
       "        console.log(\"Bokeh: ERROR: Unable to run BokehJS code because BokehJS library is missing\")\n",
       "        clearInterval(timer);\n",
       "      }\n",
       "    }, 10, root)\n",
       "  }\n",
       "})(window);"
      ],
      "application/vnd.bokehjs_exec.v0+json": ""
     },
     "metadata": {
      "application/vnd.bokehjs_exec.v0+json": {
       "id": "5cc75ecb-d068-4aab-ab60-4bc0a7ebde17"
      }
     },
     "output_type": "display_data"
    }
   ],
   "source": [
    "# Look at the distribution of differences\n",
    "lamp_x, lamp_y = np.sort(diff_lamp * 100), np.arange(len(diff_lamp)) / len(diff_lamp)\n",
    "laser_x, laser_y = np.sort(diff_laser * 100), np.arange(len(diff_laser)) / len(diff_laser)\n",
    "\n",
    "p = mwc.viz.boilerplate(x_axis_label='percent difference', y_axis_label='cumulative distribution',\n",
    "                       plot_width=800)\n",
    "p.circle(lamp_x, lamp_y, color='tomato', legend='lamp')\n",
    "p.circle(laser_x, laser_y, color='dodgerblue', legend='laser')\n",
    "bokeh.io.show(p)"
   ]
  },
  {
   "cell_type": "code",
   "execution_count": 77,
   "metadata": {},
   "outputs": [
    {
     "name": "stdout",
     "output_type": "stream",
     "text": [
      "0.0821651783437 16.7590187156\n"
     ]
    }
   ],
   "source": [
    "var_lamp = np.var(diff_lamp*100)\n",
    "var_laser = np.var(diff_laser*100)\n",
    "avg_lamp = np.mean(diff_lamp*100)\n",
    "avg_laser = np.mean(diff_laser*100)\n",
    "fano_lamp = var_lamp / avg_lamp\n",
    "fano_laser = var_laser / var_lamp\n",
    "print(fano_lamp, fano_laser)"
   ]
  },
  {
   "cell_type": "code",
   "execution_count": 78,
   "metadata": {},
   "outputs": [
    {
     "data": {
      "text/plain": [
       "0.11623255109093981"
      ]
     },
     "execution_count": 78,
     "metadata": {},
     "output_type": "execute_result"
    }
   ],
   "source": [
    "avg_lamp"
   ]
  },
  {
   "cell_type": "code",
   "execution_count": 79,
   "metadata": {},
   "outputs": [
    {
     "data": {
      "text/plain": [
       "0.44611136628861842"
      ]
     },
     "execution_count": 79,
     "metadata": {},
     "output_type": "execute_result"
    }
   ],
   "source": [
    "avg_laser"
   ]
  },
  {
   "cell_type": "code",
   "execution_count": null,
   "metadata": {},
   "outputs": [],
   "source": []
  }
 ],
 "metadata": {
  "kernelspec": {
   "display_name": "Python [default]",
   "language": "python",
   "name": "python3"
  },
  "language_info": {
   "codemirror_mode": {
    "name": "ipython",
    "version": 3
   },
   "file_extension": ".py",
   "mimetype": "text/x-python",
   "name": "python",
   "nbconvert_exporter": "python",
   "pygments_lexer": "ipython3",
   "version": "3.6.4"
  }
 },
 "nbformat": 4,
 "nbformat_minor": 2
}
