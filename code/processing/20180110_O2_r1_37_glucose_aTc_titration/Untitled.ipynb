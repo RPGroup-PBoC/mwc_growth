{
 "cells": [
  {
   "cell_type": "markdown",
   "metadata": {},
   "source": [
    "# First pass at analyzing O2 dilution data"
   ]
  },
  {
   "cell_type": "code",
   "execution_count": 5,
   "metadata": {
    "scrolled": true
   },
   "outputs": [],
   "source": [
    "import numpy as np\n",
    "import matplotlib.pyplot as plt\n",
    "import pboc.plotting\n",
    "import sys\n",
    "sys.path.insert(0, '../../../')\n",
    "import mwc_growth as mwc\n",
    "import pandas as pd\n",
    "import matlab.engine as matlab\n",
    "import scipy.optimize\n",
    "import glob\n",
    "import seaborn as sns\n",
    "eng = matlab.start_matlab()\n",
    "colors = pboc.plotting.set_plotting_style()\n",
    "%matplotlib inline"
   ]
  },
  {
   "cell_type": "markdown",
   "metadata": {},
   "source": [
    "## Calculating the calibration factor."
   ]
  },
  {
   "cell_type": "code",
   "execution_count": 6,
   "metadata": {
    "scrolled": true
   },
   "outputs": [],
   "source": [
    "# Define the data directory.\n",
    "data_dir = '../../../data/images/20180110_37C_glucose_O2_dilution/'\n",
    "\n",
    "# Grab the growth positions.\n",
    "growth_pos = glob.glob('{0}20180110_growth/xy*'.format(data_dir))\n",
    "\n",
    "# Set up a list to store the resultant dataframes\n",
    "dfs = []\n",
    "\n",
    "# iterate through each position and load the cell files into python.\n",
    "for i, pos in enumerate(growth_pos):\n",
    "    \n",
    "    # Load the cell files.\n",
    "    cell_files = glob.glob('{0}/cell/*ell*.mat'.format(pos))\n",
    "    \n",
    "    # Parse each cell file and get a resulting dataframe.\n",
    "    position = int(pos.split('/')[-1].split('xy')[1])\n",
    "    _df = mwc.parse_cell_files(cell_files, eng=eng, add_props=dict(position=position))\n",
    "   \n",
    "    # Append to the storage list.\n",
    "    dfs.append(_df)\n",
    "    \n",
    "# Concatenate into a single data frame.\n",
    "growth_df = pd.concat(dfs, ignore_index=True)"
   ]
  },
  {
   "cell_type": "code",
   "execution_count": 7,
   "metadata": {
    "scrolled": true
   },
   "outputs": [
    {
     "name": "stdout",
     "output_type": "stream",
     "text": [
      "the MATLAB function has been cancelled\n"
     ]
    },
    {
     "ename": "TypeError",
     "evalue": "'NoneType' object is not subscriptable",
     "output_type": "error",
     "traceback": [
      "\u001b[0;31m---------------------------------------------------------------------------\u001b[0m",
      "\u001b[0;31mTypeError\u001b[0m                                 Traceback (most recent call last)",
      "\u001b[0;32m<ipython-input-7-81f223f7fa4d>\u001b[0m in \u001b[0;36m<module>\u001b[0;34m()\u001b[0m\n\u001b[1;32m     20\u001b[0m         \u001b[0;31m# Parse them and exclude properties\u001b[0m\u001b[0;34m\u001b[0m\u001b[0;34m\u001b[0m\u001b[0m\n\u001b[1;32m     21\u001b[0m         _df = mwc.parse_cell_files(cell_files, eng=eng, add_props=dict(position=j, strain=strain, atc=atc),\n\u001b[0;32m---> 22\u001b[0;31m                                    excluded_props=excluded_props)\n\u001b[0m\u001b[1;32m     23\u001b[0m         \u001b[0mdfs\u001b[0m\u001b[0;34m.\u001b[0m\u001b[0mappend\u001b[0m\u001b[0;34m(\u001b[0m\u001b[0m_df\u001b[0m\u001b[0;34m)\u001b[0m\u001b[0;34m\u001b[0m\u001b[0m\n\u001b[1;32m     24\u001b[0m \u001b[0;34m\u001b[0m\u001b[0m\n",
      "\u001b[0;32m~/Lab/PhillipsLab201401-XXX/lab_code/mwc_growth/mwc_growth.py\u001b[0m in \u001b[0;36mparse_cell_files\u001b[0;34m(files, eng, verbose, **kwargs)\u001b[0m\n\u001b[1;32m    389\u001b[0m         \u001b[0mfiles\u001b[0m \u001b[0;34m=\u001b[0m \u001b[0mtqdm\u001b[0m\u001b[0;34m.\u001b[0m\u001b[0mtqdm\u001b[0m\u001b[0;34m(\u001b[0m\u001b[0mfiles\u001b[0m\u001b[0;34m)\u001b[0m\u001b[0;34m\u001b[0m\u001b[0m\n\u001b[1;32m    390\u001b[0m     \u001b[0;32mfor\u001b[0m \u001b[0mi\u001b[0m\u001b[0;34m,\u001b[0m \u001b[0mf\u001b[0m \u001b[0;32min\u001b[0m \u001b[0menumerate\u001b[0m\u001b[0;34m(\u001b[0m\u001b[0mfiles\u001b[0m\u001b[0;34m)\u001b[0m\u001b[0;34m:\u001b[0m\u001b[0;34m\u001b[0m\u001b[0m\n\u001b[0;32m--> 391\u001b[0;31m         \u001b[0mcell_dict\u001b[0m \u001b[0;34m=\u001b[0m \u001b[0mcell_to_dict\u001b[0m\u001b[0;34m(\u001b[0m\u001b[0mf\u001b[0m\u001b[0;34m,\u001b[0m \u001b[0meng\u001b[0m\u001b[0;34m,\u001b[0m \u001b[0;34m**\u001b[0m\u001b[0mkwargs\u001b[0m\u001b[0;34m)\u001b[0m\u001b[0;34m\u001b[0m\u001b[0m\n\u001b[0m\u001b[1;32m    392\u001b[0m         \u001b[0;32mif\u001b[0m \u001b[0mi\u001b[0m \u001b[0;34m==\u001b[0m \u001b[0;36m0\u001b[0m\u001b[0;34m:\u001b[0m\u001b[0;34m\u001b[0m\u001b[0m\n\u001b[1;32m    393\u001b[0m             \u001b[0mkeys\u001b[0m \u001b[0;34m=\u001b[0m \u001b[0mcell_dict\u001b[0m\u001b[0;34m.\u001b[0m\u001b[0mkeys\u001b[0m\u001b[0;34m(\u001b[0m\u001b[0;34m)\u001b[0m\u001b[0;34m\u001b[0m\u001b[0m\n",
      "\u001b[0;32m~/Lab/PhillipsLab201401-XXX/lab_code/mwc_growth/mwc_growth.py\u001b[0m in \u001b[0;36mcell_to_dict\u001b[0;34m(file, eng, add_props, excluded_props)\u001b[0m\n\u001b[1;32m    330\u001b[0m \u001b[0;34m\u001b[0m\u001b[0m\n\u001b[1;32m    331\u001b[0m     \u001b[0;31m# Assemble the dictionary for constant properties.\u001b[0m\u001b[0;34m\u001b[0m\u001b[0;34m\u001b[0m\u001b[0m\n\u001b[0;32m--> 332\u001b[0;31m     \u001b[0mcell_dict\u001b[0m \u001b[0;34m=\u001b[0m \u001b[0;34m{\u001b[0m\u001b[0mv\u001b[0m\u001b[0;34m:\u001b[0m \u001b[0mmat\u001b[0m\u001b[0;34m[\u001b[0m\u001b[0mv\u001b[0m\u001b[0;34m]\u001b[0m \u001b[0;32mfor\u001b[0m \u001b[0mv\u001b[0m \u001b[0;32min\u001b[0m \u001b[0mvals\u001b[0m\u001b[0;34m[\u001b[0m\u001b[0;34m:\u001b[0m\u001b[0;34m-\u001b[0m\u001b[0;36m6\u001b[0m\u001b[0;34m]\u001b[0m\u001b[0;34m}\u001b[0m\u001b[0;34m\u001b[0m\u001b[0m\n\u001b[0m\u001b[1;32m    333\u001b[0m     \u001b[0mdaughters\u001b[0m \u001b[0;34m=\u001b[0m \u001b[0mnp\u001b[0m\u001b[0;34m.\u001b[0m\u001b[0marray\u001b[0m\u001b[0;34m(\u001b[0m\u001b[0mmat\u001b[0m\u001b[0;34m[\u001b[0m\u001b[0;34m'daughterID'\u001b[0m\u001b[0;34m]\u001b[0m\u001b[0;34m)\u001b[0m\u001b[0;34m\u001b[0m\u001b[0m\n\u001b[1;32m    334\u001b[0m \u001b[0;34m\u001b[0m\u001b[0m\n",
      "\u001b[0;32m~/Lab/PhillipsLab201401-XXX/lab_code/mwc_growth/mwc_growth.py\u001b[0m in \u001b[0;36m<dictcomp>\u001b[0;34m(.0)\u001b[0m\n\u001b[1;32m    330\u001b[0m \u001b[0;34m\u001b[0m\u001b[0m\n\u001b[1;32m    331\u001b[0m     \u001b[0;31m# Assemble the dictionary for constant properties.\u001b[0m\u001b[0;34m\u001b[0m\u001b[0;34m\u001b[0m\u001b[0m\n\u001b[0;32m--> 332\u001b[0;31m     \u001b[0mcell_dict\u001b[0m \u001b[0;34m=\u001b[0m \u001b[0;34m{\u001b[0m\u001b[0mv\u001b[0m\u001b[0;34m:\u001b[0m \u001b[0mmat\u001b[0m\u001b[0;34m[\u001b[0m\u001b[0mv\u001b[0m\u001b[0;34m]\u001b[0m \u001b[0;32mfor\u001b[0m \u001b[0mv\u001b[0m \u001b[0;32min\u001b[0m \u001b[0mvals\u001b[0m\u001b[0;34m[\u001b[0m\u001b[0;34m:\u001b[0m\u001b[0;34m-\u001b[0m\u001b[0;36m6\u001b[0m\u001b[0;34m]\u001b[0m\u001b[0;34m}\u001b[0m\u001b[0;34m\u001b[0m\u001b[0m\n\u001b[0m\u001b[1;32m    333\u001b[0m     \u001b[0mdaughters\u001b[0m \u001b[0;34m=\u001b[0m \u001b[0mnp\u001b[0m\u001b[0;34m.\u001b[0m\u001b[0marray\u001b[0m\u001b[0;34m(\u001b[0m\u001b[0mmat\u001b[0m\u001b[0;34m[\u001b[0m\u001b[0;34m'daughterID'\u001b[0m\u001b[0;34m]\u001b[0m\u001b[0;34m)\u001b[0m\u001b[0;34m\u001b[0m\u001b[0m\n\u001b[1;32m    334\u001b[0m \u001b[0;34m\u001b[0m\u001b[0m\n",
      "\u001b[0;31mTypeError\u001b[0m: 'NoneType' object is not subscriptable"
     ]
    }
   ],
   "source": [
    "# Load the other data sets.\n",
    "other_sets = glob.glob('{0}/*snaps*/'.format(data_dir))\n",
    "desired_props = ['fluor1_birth_fluo', 'fluo2_birth_fluo', 'birth_area']\n",
    "excluded_props = [f for f in growth_df.keys() if f not in desired_props]\n",
    "excluded_props.append('fluor2_death_fluo')\n",
    "dfs = []\n",
    "for i, samp in enumerate(other_sets):\n",
    "    # Get the identity of the sample.\n",
    "    _, _, strain, atc, _ = samp.split('/')[-2].split('_')\n",
    "    atc = int(atc.split('ngmL')[0])\n",
    "    \n",
    "    # Get all of the positions in each folder.\n",
    "    positions = glob.glob('{0}/xy*/'.format(samp))\n",
    "    \n",
    "    # Loop through each position.\n",
    "    for j, pos in enumerate(positions):\n",
    "        # Get a list of all cell files.\n",
    "        cell_files = glob.glob('{0}/cell/*ell*.mat'.format(pos))\n",
    "        \n",
    "        # Parse them and exclude properties\n",
    "        _df = mwc.parse_cell_files(cell_files, eng=eng, add_props=dict(position=j, strain=strain, atc=atc),\n",
    "                                   excluded_props=excluded_props)\n",
    "        dfs.append(_df)\n",
    "        \n",
    "snap_df = pd.concat(dfs, ignore_index=True)"
   ]
  },
  {
   "cell_type": "code",
   "execution_count": null,
   "metadata": {},
   "outputs": [],
   "source": [
    "# Find the mean autofluorescence value. \n",
    "auto_strain = snap_df[snap_df['strain']=='auto']\n",
    "mean_auto_cherry = np.mean(auto_strain['fluor1_birth_fluo'] / auto_strain['birth_area'])\n",
    "mean_auto_yfp = np.mean(auto_strain['fluor2_birth_fluo'] / auto_strain['birth_area'])"
   ]
  },
  {
   "cell_type": "code",
   "execution_count": null,
   "metadata": {
    "scrolled": true
   },
   "outputs": [],
   "source": [
    "# Compute the triads.\n",
    "measured = growth_df[(growth_df['fluor1_birth_fluo'] > 0) | (growth_df['fluor1_death_fluo'] > 0)]\n",
    "I_1, I_2, I_tot = [], [], []\n",
    "grouped = measured.groupby(['position', 'motherID'])\n",
    "for g, d in grouped:\n",
    "    if len(d) == 2:\n",
    "        daughters = d['fluor1_birth_fluo'].values - (mean_auto_cherry * d['birth_area']).values\n",
    "        _mom = growth_df.loc[(growth_df['position']==g[0]) & (growth_df['ID']==g[1])]\n",
    "        mom = _mom['fluor1_death_fluo'].values[0] - (mean_auto_cherry * _mom['death_area'].values)\n",
    "     \n",
    "        if (daughters[0] > 0) and (daughters[1] > 0) and (mom > 0): \n",
    "            I_1.append(daughters[0])\n",
    "            I_2.append(daughters[1])\n",
    "            I_tot.append(mom[0])"
   ]
  },
  {
   "cell_type": "code",
   "execution_count": null,
   "metadata": {
    "scrolled": false
   },
   "outputs": [],
   "source": [
    "# Make the conservation of fluroescence plot.\n",
    "fig, ax = plt.subplots(1, 1)\n",
    "ax.set_xscale('log')\n",
    "ax.set_yscale('log')\n",
    "ax.set_xlabel('$I_{tot}$ [a.u.]')\n",
    "ax.set_ylabel('$I_1 + I_2$ [a. u.]')\n",
    "\n",
    "I_tot_range = np.logspace(2, 6, 500)\n",
    "ax.plot(I_tot, (np.array(I_1) + np.array(I_2)), '.', color='slategray')\n",
    "ax.plot(I_tot_range, I_tot_range, '-')"
   ]
  },
  {
   "cell_type": "code",
   "execution_count": null,
   "metadata": {},
   "outputs": [],
   "source": [
    "def deterministic_log_posterior(alpha, I_1, I_2, I_tot, neg=True):\n",
    "    \"\"\"\n",
    "    Computes the log posterior of the deterministic solution to the estimation of the \n",
    "    calibration factor value.\n",
    "    \n",
    "    Parameters\n",
    "    ----------\n",
    "    alpha : float \n",
    "        The value of the calibration factor.\n",
    "    I_1, I_2, I_tot : 1d-arrays or Pandas Series\n",
    "        The intensity measurements of the daughter cells and the mother cell for a series of division events.\n",
    "    neg : bool\n",
    "        If True, the negative log posterior is returned. Default is True.\n",
    "    \n",
    "    Returns\n",
    "    -------\n",
    "    lp : float\n",
    "        Value of the log posterior evaluated at the given value of alpha.\n",
    "    \"\"\"\n",
    "    # Determine if the negative log posterior should be returned.\n",
    "    if neg is True:\n",
    "        prefactor = -1\n",
    "    else: \n",
    "        prefactor = 1\n",
    "    # Ensure that the intensity values are not negative.\n",
    "    if (I_1 <= 0).any() or (I_2 <= 0).any() or (I_tot <= 0).any():\n",
    "        return ValueError('I_1 and I_2 must be positive.')\n",
    "    \n",
    "    # Ensure that alpha is positive.\n",
    "    if (alpha < 0) | (alpha > 2**16):\n",
    "        return prefactor * -np.inf\n",
    "    \n",
    "    \n",
    "    # Compute the binomial coefficient.\n",
    "    n_1 = I_1 / alpha \n",
    "    n_2 = I_2 / alpha\n",
    "    n_tot = I_tot / alpha\n",
    "    binom = scipy.special.gammaln(n_tot+1).sum() - scipy.special.gammaln(n_1+1).sum() -\\\n",
    "            scipy.special.gammaln(n_2+1).sum()\n",
    " \n",
    "    # Compute the log posterior.\n",
    "    lp = -len(I_1) * np.log(alpha) + binom - n_tot.sum() * np.log(2)\n",
    "     \n",
    "    return prefactor * lp"
   ]
  },
  {
   "cell_type": "code",
   "execution_count": null,
   "metadata": {
    "scrolled": true
   },
   "outputs": [],
   "source": [
    "#  Calculate the calibration factor.\n",
    "popt = scipy.optimize.minimize_scalar(deterministic_log_posterior, args=(np.array(I_1), np.array(I_2), np.array(I_1) + np.array(I_2)))\n",
    "alpha_opt = popt.x"
   ]
  },
  {
   "cell_type": "code",
   "execution_count": null,
   "metadata": {},
   "outputs": [],
   "source": [
    "alpha_opt"
   ]
  },
  {
   "cell_type": "code",
   "execution_count": null,
   "metadata": {
    "scrolled": true
   },
   "outputs": [],
   "source": [
    "# Bin the data for plotting.\n",
    "def binning_mean(data, bin_width, sort_values=False):\n",
    "    \"\"\"\n",
    "    Computes the mean value of squared difference and summed intensity of the \n",
    "    supplied data with a given number of events per bin. \n",
    "    \n",
    "    Parameters\n",
    "    ----------\n",
    "    data : pandas DataFrame\n",
    "        A dataframe containing the intensities of the daughter cells and the sum\n",
    "        total intensity.\n",
    "    bin_width : int\n",
    "        Number of events to consider per bin.\n",
    "    sort_values : bool\n",
    "        If True, the supplied data will be sorted in increasing order of the \n",
    "        sum total fluorescence. Default is False.\n",
    "        \n",
    "    Returns\n",
    "    -------\n",
    "    mean_sq_diff, mean_sum : 1d-arrays\n",
    "        Arrays of the mean square difference value and the mean summed intensity \n",
    "        in a given bin width.  \n",
    "    \"\"\"\n",
    "    # Sort the data if necessary.\n",
    "    if sort_values:\n",
    "        data = data.sort_values(by='I_tot')\n",
    "        \n",
    "    # Set the bins. \n",
    "    bins = np.arange(0, len(data) + bin_width, bin_width)\n",
    "    \n",
    "    # Compute the means. \n",
    "    mean_sq_diff = [np.mean((data.iloc[bins[i-1]:bins[i]+1]['I_1'] -\\\n",
    "                         data.iloc[bins[i-1]:bins[i]+1]['I_2'])**2) for i in range(1, len(bins))]\n",
    "    mean_I_tot = [data.iloc[bins[i-1]:bins[i]+1]['I_tot'].mean() for i in range(1, len(bins))] \n",
    "    return [np.array(mean_sq_diff), np.array(mean_I_tot)] "
   ]
  },
  {
   "cell_type": "code",
   "execution_count": null,
   "metadata": {
    "scrolled": true
   },
   "outputs": [],
   "source": [
    "# Set up the data frame.\n",
    "binning_df = pd.DataFrame(np.array([I_1, I_2, I_tot]).T, columns=['I_1', 'I_2', 'I_tot'])\n",
    "\n",
    "# Bin the data. \n",
    "bin_size = 10\n",
    "mean_sq_diff, mean_I_tot = binning_mean(binning_df, bin_width=bin_size, sort_values=True)"
   ]
  },
  {
   "cell_type": "code",
   "execution_count": null,
   "metadata": {
    "scrolled": false
   },
   "outputs": [],
   "source": [
    "# Make the scatter plot.\n",
    "fig, ax = plt.subplots(1, 1)\n",
    "ax.set_xscale('log')\n",
    "ax.set_yscale('log')\n",
    "ax.set_xlabel('$I_{tot}$ [a.u.]')\n",
    "ax.set_ylabel('$(I_1 - I_2)^2$ [a.u.]')\n",
    "\n",
    "# Plot the data\n",
    "_ = ax.plot(np.array(I_1) + np.array(I_2), (np.array(I_1) - np.array(I_2))**2, '.', color='slategray', label='data')\n",
    "\n",
    "# Plot the binned data.\n",
    "_ = ax.plot(mean_I_tot, mean_sq_diff, 'o', color='dodgerblue', label='binned data')\n",
    "\n",
    "# Plot the theory curve. \n",
    "theo = alpha_opt * I_tot_range\n",
    "_ = ax.plot(I_tot_range, theo, '-', color='tomato', label='fit')\n",
    "\n",
    "_ = ax.legend()"
   ]
  },
  {
   "cell_type": "markdown",
   "metadata": {},
   "source": [
    "## Testing the calibration factor. "
   ]
  },
  {
   "cell_type": "code",
   "execution_count": null,
   "metadata": {},
   "outputs": [],
   "source": [
    "def ecdf(data):\n",
    "    return np.sort(data), np.arange(0, len(data), 1) / len(data)"
   ]
  },
  {
   "cell_type": "code",
   "execution_count": null,
   "metadata": {},
   "outputs": [],
   "source": [
    "# Plot the various fluorescence distributions.\n",
    "fig, ax = plt.subplots(2, 1, sharex=True)\n",
    "ax[0].set_xlabel('fluorescence intensity [a.u.]')\n",
    "ax[0].set_ylabel('ECDF')\n",
    "ax[1].set_xlabel('fluorescence intensity [a.u.]')\n",
    "ax[1].set_ylabel('ECDF')\n",
    "\n",
    "\n",
    "for a in ax:\n",
    "    a.set_xscale('log')\n",
    "     \n",
    "# Group the data. \n",
    "grouped = snap_df.groupby(['strain', 'atc']) \n",
    "_yfp_colors = sns.color_palette('Greens_r', n_colors=7)\n",
    "concs = np.sort(snap_df['atc'].unique())\n",
    "yfp_colors = {i:j for i, j in zip(concs, _yfp_colors)}\n",
    "_rfp_colors = sns.color_palette('Reds_r', n_colors=7)\n",
    "rfp_colors = {i:j for i, j in zip(concs, _rfp_colors)}\n",
    "for g, d in grouped:\n",
    "    # Compute the two ECDFs\n",
    "    YFP_x, YFP_y = ecdf(d['fluor2_birth_fluo'])\n",
    "    RFP_x, RFP_y = ecdf(d['fluor1_birth_fluo'])\n",
    "    \n",
    "    # Figure out the colors\n",
    "    if (g[0] == 'auto'):\n",
    "        r_color = 'slategray'\n",
    "        y_color = 'slategray'\n",
    "        label = 'auto'\n",
    "    elif 'delta' in g[0]:\n",
    "        r_color = 'dodgerblue'\n",
    "        y_color = 'dodgerblue'\n",
    "        label = g[0]\n",
    "    else:\n",
    "        r_color = rfp_colors[g[1]]\n",
    "        y_color = yfp_colors[g[1]]\n",
    "        label = g[1]\n",
    "        \n",
    "    # Generate the plot\n",
    "    if 'deltaLacI' == g[0]:\n",
    "        _ = ax[0].step(YFP_x, YFP_y, color=y_color, label=label)\n",
    "#     if 'deltaTetR' == g[0]:\n",
    "#         _ = ax[1].step(RFP_x, RFP_y, color=y_color, label=label)\n",
    "    else: \n",
    "        _ = ax[0].step(YFP_x, YFP_y, color=y_color, label=label)\n",
    "        print(g[0], r_color)\n",
    "        _ = ax[1].step(RFP_x, RFP_y, color=r_color, label=label)\n",
    "\n",
    "_ = ax[0].legend()\n",
    "_ = ax[1].legend()\n",
    "\n",
    "plt.tight_layout()"
   ]
  },
  {
   "cell_type": "code",
   "execution_count": null,
   "metadata": {},
   "outputs": [],
   "source": [
    "snap_df[snap_df['strain']=='deltaLacI']"
   ]
  },
  {
   "cell_type": "markdown",
   "metadata": {},
   "source": [
    "That all makes sense"
   ]
  },
  {
   "cell_type": "code",
   "execution_count": null,
   "metadata": {},
   "outputs": [],
   "source": [
    "# Subtract the autofluorescence from each channel.\n",
    "snap_df.loc[:, 'fluor2_sub'] = snap_df['fluor2_birth_fluo'] - mean_auto_yfp * snap_df['birth_area']\n",
    "snap_df.loc[:, 'fluor1_sub'] = snap_df['fluor1_birth_fluo'] - mean_auto_cherry * snap_df['birth_area']\n",
    "\n",
    "# Compute the mean delta for each.\n",
    "mean_delta_yfp = snap_df[snap_df['strain']=='deltaLacI']['fluor2_sub'].mean()\n",
    "mean_delta_cherry = snap_df[snap_df['strain']=='deltaTetR']['fluor1_sub'].mean()\n",
    "\n",
    "# Look at only the dilution strain and calculate the fold change.\n",
    "dilution_strain = snap_df[snap_df['strain']=='dilution']\n",
    "fold_change = []\n",
    "repressors = []\n",
    "grouped = dilution_strain.groupby('atc')\n",
    "for g, d in grouped:\n",
    "    mean_yfp = d['fluor2_sub'].mean()\n",
    "    fold_change.append(mean_yfp / mean_delta_yfp)\n",
    "    mean_repressors = np.mean(d['fluor1_sub'] / alpha_opt)\n",
    "    repressors.append(mean_repressors)"
   ]
  },
  {
   "cell_type": "code",
   "execution_count": null,
   "metadata": {},
   "outputs": [],
   "source": [
    "# Compute the prediction.\n",
    "rep_range = np.logspace(-1, 3, 300)\n",
    "fc_theo = (1 +  (1 / (1 + np.exp(-4.5))) * (rep_range / 5E6) * np.exp(13.9))**-1\n",
    "\n",
    "# Generate the plot\n",
    "fig, ax = plt.subplots(1, 1)\n",
    "ax.set_xscale('log')\n",
    "ax.set_yscale('log')\n",
    "ax.set_xlabel('number of repressors')\n",
    "ax.set_ylabel('foldchange')\n",
    "all_fc = dilution_strain['fluor2_sub'] / mean_delta_yfp\n",
    "all_rep = dilution_strain['fluor1_sub'] / alpha_opt\n",
    "# Plot the prediction.\n",
    "_ = ax.plot(rep_range, fc_theo, color='slategray', label='theory')\n",
    "\n",
    "# Plot the data\n",
    "_ = ax.plot(6 * np.array(repressors), fold_change, 'o', color='tomato', label='data')\n",
    "# _ = ax.plot(all_rep, all_fc, ',', color='dodgerblue')\n"
   ]
  },
  {
   "cell_type": "code",
   "execution_count": null,
   "metadata": {},
   "outputs": [],
   "source": [
    "6 * np.array(repressors)"
   ]
  },
  {
   "cell_type": "code",
   "execution_count": null,
   "metadata": {},
   "outputs": [],
   "source": []
  },
  {
   "cell_type": "code",
   "execution_count": null,
   "metadata": {},
   "outputs": [],
   "source": []
  }
 ],
 "metadata": {
  "kernelspec": {
   "display_name": "Python 3",
   "language": "python",
   "name": "python3"
  },
  "language_info": {
   "codemirror_mode": {
    "name": "ipython",
    "version": 3
   },
   "file_extension": ".py",
   "mimetype": "text/x-python",
   "name": "python",
   "nbconvert_exporter": "python",
   "pygments_lexer": "ipython3",
   "version": "3.6.3"
  }
 },
 "nbformat": 4,
 "nbformat_minor": 2
}
