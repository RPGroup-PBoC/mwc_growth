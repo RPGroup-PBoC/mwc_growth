{
 "cells": [
  {
   "cell_type": "markdown",
   "metadata": {},
   "source": [
    "# Modeling noise in the dilution experiment"
   ]
  },
  {
   "cell_type": "code",
   "execution_count": 9,
   "metadata": {
    "collapsed": true
   },
   "outputs": [],
   "source": [
    "import numpy as np\n",
    "import pandas as pd\n",
    "import matplotlib.pyplot as plt\n",
    "import seaborn as sns\n",
    "import sys\n",
    "sys.path.insert(0, '../../')\n",
    "import scipy.misc\n",
    "import mwc.stats\n",
    "import mwc.bayes\n",
    "import mwc.stats\n",
    "import scipy.special\n",
    "import scipy.misc\n",
    "import tqdm \n",
    "import mwc.viz\n",
    "# Seed for reproducibility\n",
    "np.random.seed(666)\n",
    "colors = mwc.viz.personal_style()\n",
    "%matplotlib inline"
   ]
  },
  {
   "cell_type": "markdown",
   "metadata": {},
   "source": [
    "## Simulating the dilution experiment "
   ]
  },
  {
   "cell_type": "code",
   "execution_count": 10,
   "metadata": {
    "collapsed": true
   },
   "outputs": [],
   "source": [
    "# Define the constants of the simulation.\n",
    "num_sim = 100 \n",
    "alpha_true = 150 \n",
    "\n",
    "# Set up the experiment using the magic of numpy arrays\n",
    "prot_range = np.arange(10, 1000, 10)\n",
    "ntot = np.array([prot_range for i in range(num_sim)])\n",
    "n1 = np.random.binomial(ntot, 0.5)\n",
    "n2 = ntot - n1\n",
    "\n",
    "# Convert the counts to intensities using alpha_true\n",
    "i1 = n1 * alpha_true\n",
    "i2 = n2 * alpha_true\n",
    "itot = ntot * alpha_true\n",
    "\n",
    "# Make it a DataFrame\n",
    "flat_transpose = np.array([n1.flatten(), n2.T.flatten(), ntot.flatten(), \n",
    "                           i1.flatten(), i2.flatten(), i1.flatten() + i2.flatten()]).T\n",
    "sim_df = pd.DataFrame(flat_transpose, columns=['n_1', 'n_2', 'n_tot',\n",
    "                                               'I_1', 'I_2', 'I_tot'])\n",
    "\n",
    "# Compute the difference and fluctuations. \n",
    "sim_df.loc[:, 'fluct'] = np.diff(sim_df[['I_1', 'I_2']])**2\n",
    "\n",
    "# Compute the averages for each protein copy number.\n",
    "grouped = sim_df.groupby('n_tot').mean()\n",
    "\n",
    "# Compute the theoretical curve.\n",
    "I_tot_range = np.linspace(itot.min(), itot.max(), 500)\n",
    "truth = alpha_true * I_tot_range "
   ]
  },
  {
   "cell_type": "code",
   "execution_count": 11,
   "metadata": {
    "collapsed": false
   },
   "outputs": [
    {
     "name": "stderr",
     "output_type": "stream",
     "text": [
      "/opt/anaconda/lib/python3.6/site-packages/matplotlib/font_manager.py:1297: UserWarning: findfont: Font family ['Arial'] not found. Falling back to DejaVu Sans\n",
      "  (prop.get_family(), self.defaultFamily[fontext]))\n"
     ]
    },
    {
     "data": {
      "image/png": "[encoded data removed]",
      "text/plain": [
       "<matplotlib.figure.Figure at 0x7f5fcfa0c710>"
      ]
     },
     "metadata": {},
     "output_type": "display_data"
    }
   ],
   "source": [
    "# Set up the figure canvas\n",
    "fig, ax = plt.subplots(1,1)\n",
    "ax.set_yscale('log')\n",
    "ax.set_xscale('log')\n",
    "ax.set_xlabel('$I_1 + I_2$ [a.u.]')\n",
    "ax.set_ylabel('$(I_1 + I_2)^2$ [a.u.]')\n",
    "\n",
    "# Plot the result\n",
    "_ = ax.plot(sim_df['I_tot'], sim_df['fluct'], '.', ms=2, alpha=0.2, label='simulation')\n",
    "_ = ax.plot(grouped['I_tot'], grouped['fluct'], '.', ms=5, label='average')\n",
    "_ = ax.plot(I_tot_range, truth, '-', label='theory')\n",
    "_ = ax.legend()\n",
    "sns.despine(offset=7)"
   ]
  },
  {
   "cell_type": "code",
   "execution_count": 12,
   "metadata": {
    "collapsed": true
   },
   "outputs": [],
   "source": [
    "# Estimating the calibration factor. \n",
    "alpha_opt, alpha_std = mwc.bayes.estimate_calibration_factor(sim_df['I_1'], sim_df['I_2'])"
   ]
  },
  {
   "cell_type": "code",
   "execution_count": 13,
   "metadata": {
    "collapsed": false
   },
   "outputs": [
    {
     "data": {
      "text/plain": [
       "(152.41269424865328, 2.1580473974467771)"
      ]
     },
     "execution_count": 13,
     "metadata": {},
     "output_type": "execute_result"
    }
   ],
   "source": [
    "alpha_opt, alpha_std"
   ]
  },
  {
   "cell_type": "code",
   "execution_count": 14,
   "metadata": {
    "collapsed": false
   },
   "outputs": [],
   "source": [
    "# Plot the log posterior.\n",
    "alpha_range = np.linspace(100, 200, 500)\n",
    "log_post = np.zeros(len(alpha_range))\n",
    "for i, a in enumerate(alpha_range):\n",
    "    log_post[i] = mwc.bayes.deterministic_log_posterior(a, sim_df['I_1'], sim_df['I_2'],\n",
    "                                                       neg=False)\n",
    "    \n",
    "# Renormalize the log posterior for plotting.\n",
    "posterior = np.exp(log_post - scipy.misc.logsumexp(log_post))"
   ]
  },
  {
   "cell_type": "code",
   "execution_count": 15,
   "metadata": {
    "collapsed": false
   },
   "outputs": [
    {
     "name": "stderr",
     "output_type": "stream",
     "text": [
      "/opt/anaconda/lib/python3.6/site-packages/matplotlib/font_manager.py:1297: UserWarning: findfont: Font family ['Arial'] not found. Falling back to DejaVu Sans\n",
      "  (prop.get_family(), self.defaultFamily[fontext]))\n"
     ]
    },
    {
     "data": {
      "image/png": "[encoded data removed]",
      "text/plain": [
       "<matplotlib.figure.Figure at 0x7f5fb7c71898>"
      ]
     },
     "metadata": {},
     "output_type": "display_data"
    }
   ],
   "source": [
    "fig, ax = plt.subplots(1, 1)\n",
    "ax.set_xlabel('calibration factor [a.u. / molecule]')\n",
    "ax.set_ylabel(r'$f(\\alpha\\vert [I_1, I_2])$')\n",
    "_ = ax.plot(alpha_range, posterior)\n",
    "_ = ax.fill_between(alpha_range, posterior, color=colors[0], alpha=0.4)\n",
    "sns.despine(offset=7)"
   ]
  },
  {
   "cell_type": "markdown",
   "metadata": {},
   "source": [
    "##  Model I: Simple Measurement Noise"
   ]
  },
  {
   "cell_type": "markdown",
   "metadata": {},
   "source": [
    "Our model is\n",
    "$$\n",
    "I = \\alpha N + \\epsilon\n",
    "$$\n",
    "\n",
    "where $\\epsilon$ is normally distributed."
   ]
  },
  {
   "cell_type": "code",
   "execution_count": null,
   "metadata": {
    "collapsed": true
   },
   "outputs": [],
   "source": [
    "# Define noise in fractional units of cellular intensity\n",
    "noise_range = np.logspace(0, 3, 500)\n",
    "alpha_est = np.zeros_like(noise_range)\n",
    "for i, ep in enumerate(noise_range): \n",
    "    i1 = sim_df['I_1']+ np.random.normal(0, ep, size=len(sim_df))\n",
    "    i2 = sim_df['I_2']+ np.random.normal(0, ep, size=len(sim_df))\n",
    "    exp_df = pd.DataFrame(np.array([i1, i2]).T, columns=['i1', 'i2'])\n",
    "    exp_df = exp_df[exp_df >= 0]\n",
    "    est, err = mwc.bayes.estimate_calibration_factor(exp_df['i1'], exp_df['i2'])\n",
    "    alpha_est[i] = est"
   ]
  },
  {
   "cell_type": "code",
   "execution_count": null,
   "metadata": {
    "collapsed": false
   },
   "outputs": [],
   "source": [
    "fig, ax = plt.subplots(2, 1, figsize=(5, 4), sharex=True)\n",
    "ax[1].set_xlabel('percent measurement error')\n",
    "for a in ax:\n",
    "    a.set_xscale('log')\n",
    "    a.set_yscale('log')\n",
    "\n",
    "    \n",
    "ax[0].set_ylabel(r'estimated $\\alpha$ [a.u.]')\n",
    "ax[1].set_ylabel(r'$\\alpha_\\mathrm{est} / \\alpha_\\mathrm{true}$')\n",
    "_ = ax[0].plot(noise_range * 100, alpha_est,'.', markersize=2) \n",
    "_ = ax[1].plot(noise_range * 100, alpha_est / alpha_true, '.',\n",
    "              markersize=True)\n",
    "\n",
    "mwc.viz.format_axes()\n",
    "plt.tight_layout()"
   ]
  },
  {
   "cell_type": "code",
   "execution_count": null,
   "metadata": {
    "collapsed": false
   },
   "outputs": [],
   "source": [
    "est"
   ]
  },
  {
   "cell_type": "code",
   "execution_count": null,
   "metadata": {
    "collapsed": true
   },
   "outputs": [],
   "source": []
  }
 ],
 "metadata": {
  "kernelspec": {
   "display_name": "Python [default]",
   "language": "python",
   "name": "python3"
  },
  "language_info": {
   "codemirror_mode": {
    "name": "ipython",
    "version": 3
   },
   "file_extension": ".py",
   "mimetype": "text/x-python",
   "name": "python",
   "nbconvert_exporter": "python",
   "pygments_lexer": "ipython3",
   "version": "3.6.4"
  }
 },
 "nbformat": 4,
 "nbformat_minor": 2
}
