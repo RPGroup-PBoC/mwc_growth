{
 "cells": [
  {
   "cell_type": "markdown",
   "metadata": {},
   "source": [
    "# Complete error estimation  "
   ]
  },
  {
   "cell_type": "code",
   "execution_count": 13,
   "metadata": {
    "collapsed": false
   },
   "outputs": [],
   "source": [
    "import numpy as np\n",
    "import matplotlib.pyplot\n",
    "import pymc3 as pm\n",
    "import pandas as pd\n",
    "import scipy.special\n",
    "import scipy.stats\n",
    "import matplotlib.pyplot as plt\n",
    "import theano.tensor as tt\n",
    "import sys\n",
    "sys.path.insert(0, '../../')\n",
    "import mwc.viz\n",
    "import mwc.bayes\n",
    "import mwc.stats\n",
    "colors = mwc.viz.personal_style()\n",
    "np.random.seed(666)\n",
    "%matplotlib inline"
   ]
  },
  {
   "cell_type": "code",
   "execution_count": 14,
   "metadata": {
    "collapsed": false
   },
   "outputs": [
    {
     "name": "stderr",
     "output_type": "stream",
     "text": [
      "/opt/anaconda/lib/python3.6/site-packages/matplotlib/font_manager.py:1297: UserWarning: findfont: Font family ['Arial'] not found. Falling back to DejaVu Sans\n",
      "  (prop.get_family(), self.defaultFamily[fontext]))\n"
     ]
    },
    {
     "data": {
      "image/png": "[encoded data removed]",
      "text/plain": [
       "<matplotlib.figure.Figure at 0x7f12a5cbf358>"
      ]
     },
     "metadata": {},
     "output_type": "display_data"
    }
   ],
   "source": [
    "# Simulate the data.\n",
    "num_div = 1000\n",
    "ntot = np.random.gamma(5, 50, size=num_div).astype(int)\n",
    "n1 = np.random.binomial(ntot, p=0.5)\n",
    "n2 = ntot - n1\n",
    "\n",
    "# Define alpha with measurement noise. \n",
    "alpha_true = 100\n",
    "err = 10\n",
    "\n",
    "# Compute the intensities.\n",
    "i1 = alpha_true * n1 + np.random.normal(0, err, size=num_div)\n",
    "i2 = alpha_true * n2 + np.random.normal(0, err, size=num_div)\n",
    "itot = i1 + i2\n",
    "\n",
    "# Make a dataframe. \n",
    "df = pd.DataFrame(np.array([i1, i2, i1 + i2, (i1 - i2)**2]).T, \n",
    "                 columns=['I_1', 'I_2', 'summed', 'fluct'])\n",
    "\n",
    "# Bin the data\n",
    "bin_size = 50 \n",
    "bin_dict = mwc.stats.bin_by_events(df, 50)\n",
    "\n",
    "# Compute the theory. \n",
    "i_tot_range = np.linspace(itot.min(), itot.max(), 500)\n",
    "theo = alpha_true * i_tot_range\n",
    "# Plot the data. \n",
    "fig, ax = plt.subplots(1,1, figsize=(5, 6))\n",
    "ax.set_xscale('log')\n",
    "ax.set_yscale('log')\n",
    "ax.set_xlabel('$I_1 + I_2$ [a.u.]')\n",
    "ax.set_ylabel('$(I_1 - I_2)^2$ [a.u.]')\n",
    "_ = ax.plot(i1 + i1, (i1 - i2)**2, '.', ms=2, alpha=0.5, label='simulated data')\n",
    "_ = ax.plot(bin_dict['summed'], bin_dict['fluct'], '.', ms=8, alpha=0.5, label='binned data')\n",
    "_ = ax.plot(i_tot_range, theo, label='theory')\n",
    "_ = ax.legend()\n",
    "mwc.viz.format_axes()"
   ]
  },
  {
   "cell_type": "code",
   "execution_count": 19,
   "metadata": {
    "collapsed": false
   },
   "outputs": [],
   "source": [
    "class ErrorModel(pm.Continuous):\n",
    "    def __init__(self, alpha, N1, Ntot, I1, I2, *args, **kwargs):\n",
    "        super(ErrorModel, self).__init__(*args, **kwargs)\n",
    "        self.alpha = alpha = pm.theanof.floatX(tt.as_tensor_variable(alpha))\n",
    "        self.n1 = N1 = pm.theanof.floatX(tt.as_tensor_variable(N1))\n",
    "        self.ntot = Ntot = pm.theanof.floatX(tt.as_tensor_variable(Ntot))\n",
    "        self.n2 = Ntot - N1\n",
    "        self.i1 = I1\n",
    "        self.i2 = I2\n",
    "    \n",
    "    def logp(self, value):\n",
    "        alpha = self.alpha\n",
    "        n1 = self.n1\n",
    "        ntot = self.ntot \n",
    "        i1 = self.i1\n",
    "        i2 = self.i2\n",
    "        k = len(i2)\n",
    "        \n",
    "        # Compute the various parts\n",
    "        return -0.5 * k * tt.log(tt.sum((i1 - alpha * n1)**2  + (i2 - alpha * (ntot - n1)**2)))\n",
    "         \n",
    "        \n",
    "class GammaApproxBinomial(pm.Continuous):\n",
    "    def __init__(self, ntot, p, *args, **kwargs):\n",
    "        super(GammaApproxBinomial, self).__init__(*args, **kwargs)\n",
    "        self.ntot = ntot = pm.theanof.floatX(tt.as_tensor_variable(ntot))\n",
    "        self.p = p = pm.theanof.floatX(tt.as_tensor_variable(p)) \n",
    "        self.mean = self.ntot * self.p\n",
    "    \n",
    "    def logp(self, value):\n",
    "        ntot= self.ntot\n",
    "        p = self.p\n",
    "        n1 = value\n",
    "        coeff = tt.gammaln(ntot + 1) - tt.gammaln(n1 + 1) - tt.gammaln(ntot - n1 + 1)\n",
    "        prob = n1 * tt.log(p) + (ntot - n1) * tt.log(1 - p)\n",
    "        return coeff + prob\n",
    "        "
   ]
  },
  {
   "cell_type": "code",
   "execution_count": null,
   "metadata": {
    "collapsed": false
   },
   "outputs": [],
   "source": [
    "with pm.Model() as model:\n",
    "    alpha = pm.Uniform('alpha', lower=100, upper=200)\n",
    "    ntot = pm.Uniform('ntot', lower=1, upper=5000, shape=len(df))\n",
    "    n1 = GammaApproxBinomial('n1', ntot, p=0.5, shape=len(df))\n",
    "    _i1 = df['I_1'].values\n",
    "    _i2 = df['I_2'].values\n",
    "    like = ErrorModel('like', alpha, n1, ntot, _i1, _i2, testval=100)\n",
    "    trace = pm.sample(tune=1000, draws=1000, njobs=12)"
   ]
  },
  {
   "cell_type": "code",
   "execution_count": null,
   "metadata": {
    "collapsed": true
   },
   "outputs": [],
   "source": [
    "print('a')"
   ]
  },
  {
   "cell_type": "code",
   "execution_count": null,
   "metadata": {
    "collapsed": true
   },
   "outputs": [],
   "source": [
    "pm.Binomial('n1', ntot, 0.5, shape=len(df))"
   ]
  }
 ],
 "metadata": {
  "kernelspec": {
   "display_name": "Python [default]",
   "language": "python",
   "name": "python3"
  },
  "language_info": {
   "codemirror_mode": {
    "name": "ipython",
    "version": 3
   },
   "file_extension": ".py",
   "mimetype": "text/x-python",
   "name": "python",
   "nbconvert_exporter": "python",
   "pygments_lexer": "ipython3",
   "version": "3.6.4"
  }
 },
 "nbformat": 4,
 "nbformat_minor": 2
}
