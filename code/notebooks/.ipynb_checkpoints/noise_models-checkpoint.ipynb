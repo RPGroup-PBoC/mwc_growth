{
 "cells": [
  {
   "cell_type": "markdown",
   "metadata": {},
   "source": [
    "# Modeling noise in the dilution experiment"
   ]
  },
  {
   "cell_type": "code",
   "execution_count": 3,
   "metadata": {},
   "outputs": [],
   "source": [
    "import numpy as np\n",
    "import pandas as pd\n",
    "import matplotlib.pyplot as plt\n",
    "import seaborn as sns\n",
    "import sys\n",
    "sys.path.insert(0, '../../')\n",
    "import mwc.stats\n",
    "import mwc.bayes\n",
    "%matplotlib inline"
   ]
  },
  {
   "cell_type": "markdown",
   "metadata": {},
   "source": [
    "## Simulating the dilution experiment "
   ]
  },
  {
   "cell_type": "code",
   "execution_count": 12,
   "metadata": {},
   "outputs": [],
   "source": [
    "# Define the constants of the simulation.\n",
    "num_sim = 100\n",
    "alpha_true = 100\n",
    "\n",
    "\n",
    "prot_range = np.arange(10, 1000, 5)\n",
    "ntot = np.array([prot_range for i in range(num_sim)])\n",
    "n1 = np.random.binomial(ntot, 0.5)\n",
    "n2 = ntot - n1"
   ]
  },
  {
   "cell_type": "code",
   "execution_count": 14,
   "metadata": {},
   "outputs": [
    {
     "data": {
      "text/plain": [
       "array([[  5,   5,   8, ..., 476, 517, 517],\n",
       "       [  4,   9,   9, ..., 495, 487, 502],\n",
       "       [  5,   9,  11, ..., 503, 478, 500],\n",
       "       ..., \n",
       "       [  5,   7,  11, ..., 473, 498, 516],\n",
       "       [  5,  10,   7, ..., 497, 514, 473],\n",
       "       [  8,  10,   5, ..., 491, 501, 494]])"
      ]
     },
     "execution_count": 14,
     "metadata": {},
     "output_type": "execute_result"
    }
   ],
   "source": []
  },
  {
   "cell_type": "code",
   "execution_count": null,
   "metadata": {},
   "outputs": [],
   "source": []
  }
 ],
 "metadata": {
  "kernelspec": {
   "display_name": "Python [default]",
   "language": "python",
   "name": "python3"
  },
  "language_info": {
   "codemirror_mode": {
    "name": "ipython",
    "version": 3
   },
   "file_extension": ".py",
   "mimetype": "text/x-python",
   "name": "python",
   "nbconvert_exporter": "python",
   "pygments_lexer": "ipython3",
   "version": "3.6.4"
  }
 },
 "nbformat": 4,
 "nbformat_minor": 2
}
