{
 "cells": [
  {
   "cell_type": "markdown",
   "metadata": {},
   "source": [
    "# A Principled Bayesian Inference of a Fluorescence Calibration Factor\n",
    "\n",
    "© 2019 Griffin Chure. This work is licensed under a [Creative Commons Attribution License CC-BY 4.0](https://creativecommons.org/licenses/by/4.0/). All code contained herein is licensed under an [MIT license](https://opensource.org/licenses/MIT).\n",
    "\n",
    "--- "
   ]
  },
  {
   "cell_type": "code",
   "execution_count": 125,
   "metadata": {},
   "outputs": [
    {
     "name": "stdout",
     "output_type": "stream",
     "text": [
      "The stanmagic extension is already loaded. To reload it, use:\n",
      "  %reload_ext stanmagic\n"
     ]
    }
   ],
   "source": [
    "import sys\n",
    "sys.path.insert(0, '../../../')\n",
    "import numpy as np\n",
    "import pandas as pd\n",
    "import pystan \n",
    "import mwc.viz\n",
    "import mwc.stats\n",
    "import mwc.bayes\n",
    "import scipy.stats\n",
    "import matplotlib.pyplot as plt\n",
    "import multiprocessing as mp\n",
    "import joblib\n",
    "import mwc.viz\n",
    "import tqdm\n",
    "seed = np.random.seed(666)\n",
    "colors = mwc.viz.personal_style()\n",
    "# import altair as alt\n",
    "# alt.data_transformers.enable('json')\n",
    "%load_ext stanmagic"
   ]
  },
  {
   "cell_type": "markdown",
   "metadata": {},
   "source": [
    "In this notebook, we lay out a principled workflow for the parameter estimation of a fluorescence calibration factor. This notebook covers the inference of the calibratoin factor from a single measurement. A principled analysis of a hierarchical approach will be written at a later date. "
   ]
  },
  {
   "cell_type": "markdown",
   "metadata": {},
   "source": [
    "## Writing A Physical Model\n",
    "\n",
    "It has become trivial in the era of molecular biology to label your favorite protein with a reporter that fluoresces at your favorite wavelength. Similarly, single-cell and single-molecule microscopy has become commonplace, making precise measurement of total cell fluorescence and/or localization a relatively painless procedure. However, it is still remarkably difficult to translate that precise measurement of fluorescence into the absolute copy number of your protein. \n",
    "\n",
    "By measuring the fluctuations in intensity between a mother/daughter pair after cell division, we can back calculate how bright a single molecule of interest is in arbitrary unitls, permitting the relatively easy calculation of protein copy number. We operate under the assumption that protein degradation is negligible and that protein production is ceased immediately before division. Using these assumptions, we can say that the total intensity of a given cell $I_\\text{tot}$ is related to the number of fluorescent proteins and their relative brightness,\n",
    "\n",
    "$$\n",
    "I_\\text{tot} = \\alpha N_\\text{tot}, \\tag{1}\n",
    "$$\n",
    "\n",
    "where $N_\\text{tot}$ is the total number of proteins and $\\alpha$ is the brightness of a single fluorophore. Assuming there is no more production or deradation, we can relate the intensity of the mother cell to the daughter cells by dictating that the fluorescence must be conserved,\n",
    "\n",
    "$$\n",
    "I_\\text{tot} = I_1 + I_2 = \\alpha (N_1 + N_2), \\tag{2}\n",
    "$$\n",
    "\n",
    "where we have used $I_1$ and $I_2$ to represent the total intensity of daughter cells 1 and 2. By looking at the fluctuations in intensity between the two daughter cells, followed by invocation of the mean and variance of the Binomial distribution, we arrive at the simple relation that\n",
    "\n",
    "$$\n",
    "\\langle (I_1 - I_2)^2 \\rangle = \\alpha I_\\text{tot}. \\tag{3}\n",
    "$$\n",
    "\n",
    "Of course, lumped in with $\\alpha$ is all of the features of the detector, fluorophore quantum efficiency, and other minutae of measurement. While incorporating these details into the generative model building is the proper thing to do, I know from experience in these experiments and quantitative biological. microscopy in general that the noise in these measurements is much smaller than the noise of the biological system. To this end, we will neglect them for simplicity. "
   ]
  },
  {
   "cell_type": "markdown",
   "metadata": {},
   "source": [
    "## Building a Generative Statistical Model"
   ]
  },
  {
   "cell_type": "markdown",
   "metadata": {},
   "source": [
    "The posterior probability distribution for our parameter of interest $\\alpha$ is given by Bayes' theorem as\n",
    "\n",
    "$$\n",
    "g(\\alpha\\,\\vert\\,[I_1, I_2]) \\propto f([I_1, I_2]\\,\\vert\\, \\alpha)g(\\alpha)\n",
    "\\tag{4},\n",
    "$$\n",
    "\n",
    "where I have used $g$ and $f$ to denote probability density functions over parameters and data, respectively. As $I_1$ and $I_2$ are related to each other (through Eq. 2), the likelihood $f([I_1, I_2]\\,\\vert\\, \\alpha)$ can be rewritten in the form,\n",
    "\n",
    "$$\n",
    "f([I_1, I_2]\\,\\vert\\,\\alpha) = f([I_1]\\,\\vert\\, \\alpha, [I_2]).\\tag{5}\n",
    "$$\n",
    "\n",
    "Ultimately, we would like to translate the observed intensity into the nubmer of fluorescent proteins in the cell. Using Eq. 1 and the change-of-variables formula, Eq. 5 can be written in terms of $N_1$ as\n",
    "\n",
    "$$\n",
    "f([I_1]\\,\\vert\\, \\alpha, [I_2]) = f([N_1]\\,\\vert\\,\\alpha, [I_2]) {d N_1 \\over d I_1} = {1 \\over \\alpha^k}f([N_1]\\,\\vert\\,\\alpha,[I_2]),\\tag{6}\n",
    "$$\n",
    "\n",
    "where $k$ is the number of observed division events in the set of observed intensities $[I_1, I_2]$. \n",
    "\n",
    "The number of proteins present in the arbitrarily chosen daughter cell 1 ($N_1$) should be binomial distributed with $N_{tot}$ proteins in the mother cell. As such, the functional form of our likelihood can be written as\n",
    "\n",
    "$$\n",
    "f([N_1]\\,\\vert\\,\\alpha,[I_2]) = {1 \\over \\alpha^k}\\prod\\limits_{i=1}^k {\\Gamma\\left({I_{1,i} + I_{2,i} \\over \\alpha} + 1\\right) \\over \\Gamma\\left({I_1 \\over \\alpha} + 1\\right) \\Gamma\\left({I_2 \\over \\alpha} + 1\\right)} 2^{-{I_1 + I_2 \\over \\alpha}},\\tag{7}\n",
    "$$\n",
    "\n",
    "where Gamma functions are used to avoid factorials of continuous variables. Note here we have used the simplifying assumption that the proteins are partitioned between the two proteins with an equal probability, $p = 1/2$. This is a fair approximation as the repressors to which the fluorescent proteins are covalently bound are always bound to the DNA and therefore are partitioned via segregation of the chromosomes. \n",
    "\n",
    "\n",
    "With the likelihood in hand, we are now assigned the task of setting a prior for $\\alpha$, which will be verified by prior predictive checks. This is certainly not an obvious endeavor as we do not have a good intuitoin for how bright a single fluorophore should be. However, we do know some limits. For example, it is not possible for the fluoropohore to have a negative value as the detector returns unsigned integeters per pixel as the readout. We also know that our resolution is diffraction limited meaning in the extreme case in which the repressors are frozen in a specific point, their fluorescence will be detected across several pixels. In our system, the interpixel distance of the camera is on the order of 50 nm / pixel meaning that a single fluorophore will have a diameter of 4 - 5 pixels (assuming the extreme scenario in which diffusion of the fluorophore is much slower than the frame rate of our camera). With a bit-depth of 12, the maximum value that a pixel can be assigned is $2^{12} - 1 = 4095$ arbitrary units. Thus, the maximum brightness of a single fluorophore that can be detected on our system is $ 4 \\times 4095 \\approx 1.5\\times 10^4$ a.u. /molecule. This, of course is a large upper bound and in our system the fluorescence will be below this value. However, we can use these bounds to  define a prior. As flat priors are difficult to sample and a uniform prior is not appropriate, we can assign a log-normal prior centered at $\\approx 5$ (~200 [a.u.]) with a scale parameter of 3.\n",
    "\n",
    "## Prior Predictive Checks\n",
    "The best way to check if this choice of prior is reasonable is to draw $N$ values from this prior distribution and use $\\alpha$ to generate a data set of $M$ values for $I_1$ based on a set of $M$ protein copy numbers. To start, we will define a set protein copy numbers $N_1$ that cover physiologically reasonable values of intenisities."
   ]
  },
  {
   "cell_type": "code",
   "execution_count": 126,
   "metadata": {},
   "outputs": [],
   "source": [
    "# Define the set of copy numbers. \n",
    "M = 500\n",
    "N1 = np.random.gamma(10, 10, M).astype(int) # Gamma distributed to mimic bursty gene expression"
   ]
  },
  {
   "cell_type": "markdown",
   "metadata": {},
   "source": [
    "We can now make $N$ draws out of the prior distribution for $\\alpha$ and compute the observed intensities $I_1$. We'll make this as a data frame for use later. "
   ]
  },
  {
   "cell_type": "code",
   "execution_count": 152,
   "metadata": {},
   "outputs": [],
   "source": [
    "# Make N draws out of a lognormal distribution for alpha. \n",
    "N = 200\n",
    "alpha_draws = np.random.lognormal(2, 2, N)\n",
    "\n",
    "# Compute the intensities. \n",
    "n, a = np.meshgrid(N1, alpha_draws)\n",
    "I1 = n * a\n",
    "\n",
    "# Make the dataframe. \n",
    "ppc_df = pd.DataFrame(np.array([I1.flatten(), n.flatten(), a. flatten()]).T, \n",
    "                     columns=['I1', 'N1', 'alpha_true'])"
   ]
  },
  {
   "cell_type": "markdown",
   "metadata": {},
   "source": [
    "We can now plot the ECDF of each data set and see how they are distributed."
   ]
  },
  {
   "cell_type": "code",
   "execution_count": 153,
   "metadata": {},
   "outputs": [
    {
     "data": {
      "text/plain": [
       "<matplotlib.legend.Legend at 0x7f08eddbbf60>"
      ]
     },
     "execution_count": 153,
     "metadata": {},
     "output_type": "execute_result"
    },
    {
     "data": {
      "image/png": "[encoded data removed]",
      "text/plain": [
       "<Figure size 600x400 with 1 Axes>"
      ]
     },
     "metadata": {
      "needs_background": "light"
     },
     "output_type": "display_data"
    }
   ],
   "source": [
    "# Compute percentiles of the data.\n",
    "percentiles = [0.99, 0.95, 0.75, 0.5, 0.25, 0.1, 0.05, 0.01]\n",
    "cmap = plt.cm.Blues_r(percentiles)\n",
    "percentile_df = pd.DataFrame([])\n",
    "for g, d in ppc_df.groupby(['N1']):\n",
    "    for i, p in enumerate(percentiles):\n",
    "        lower, upper = np.percentile(d['I1'], (50 * p, (100 - ((100 * p)/2))))\n",
    "        percentile_df= percentile_df.append({'N1': g,\n",
    "                                        'lower': lower,\n",
    "                                        'upper': upper,\n",
    "                                        'percentile': p}, ignore_index=True)\n",
    "        \n",
    "fig, ax = plt.subplots(1, 1, figsize=(6,4))\n",
    "for i, p in enumerate(percentiles):\n",
    "    d = percentile_df[percentile_df['percentile']==p]\n",
    "    y = np.linspace(0, 1, len(d))\n",
    "    min_sorted = np.sort(d['lower'])\n",
    "    max_sorted = np.sort(d['upper'])\n",
    "    ax.fill_betweenx(y, min_sorted, max_sorted, color=cmap[i], label=p*100, alpha=0.2)\n",
    "    \n",
    "ax.set_xscale('log')\n",
    "ax.set_xlabel('cell intensity [a.u.]')\n",
    "ax.set_ylabel('cumulative distribution')\n",
    "ax.legend()   "
   ]
  },
  {
   "cell_type": "markdown",
   "metadata": {},
   "source": [
    "These distributions look pretty good -- most of the generated intensities are between $10^2$ and $10^7$ a.u. per cell which is in line with what I would see in the extremes of my experiments. There s also barely any density below $1$ a.u. / cell, which is what we would want to see during the prior predictive checks. \n",
    "\n",
    "Satisfied with our choice of prior, we can now define the model using Stan, as given in the cell below. "
   ]
  },
  {
   "cell_type": "code",
   "execution_count": 155,
   "metadata": {},
   "outputs": [
    {
     "name": "stdout",
     "output_type": "stream",
     "text": [
      "Using pystan.stanc compiler..\n",
      "-------------------------------------------------------------------------------\n",
      "Model compiled successfully. Output stored in hier object.\n",
      "Type hier in a cell to see a nicely formatted code output in a notebook\n",
      "     ^^^^\n",
      "Access model compile output properties\n",
      "hier.model_file -> Name of stan_file [None]\n",
      "hier.model_name -> Name of stan model [None]\n",
      "hier.model_code -> Model code [functions{     /**   ....]\n"
     ]
    }
   ],
   "source": [
    "%%stan -v hier\n",
    "functions{\n",
    "    /** \n",
    "    * Approximate the Binomial distirubution for continuous variables \n",
    "    * as a ratio of Gamma functions \n",
    "    * \n",
    "    * @param I1: Observed fluorescence of daughter cell 1. \n",
    "    * @param I2: Observed fluorescence of daughter cell 2.\n",
    "    * @param alpha: Fluorescenc calibration factor in units of a.u. / molecule\n",
    "    * @param N: Total number of measurements \n",
    "    **/\n",
    "    real GammaApproxBinom_lpdf(vector I1, vector I2, real alpha) {\n",
    "        return sum(-log(alpha) + lgamma(((I1 + I2) ./ alpha) + 1) - lgamma((I1 ./ alpha) + 1) - lgamma((I2 ./ alpha) + 1) - ((I1 + I2) ./ alpha) * log(2));\n",
    "    } \n",
    "\n",
    "}\n",
    "     \n",
    "data {\n",
    "    int<lower=0> N; // Number of data points\n",
    "    vector<lower=0>[N] I1; // Observed fluorescence of daughter cell 1\n",
    "    vector<lower=0>[N] I2; // Observed fluorescence of daughter cell 2\n",
    "}\n",
    "\n",
    "parameters {\n",
    "    // Generate entered parameters\n",
    "    real<lower=0> alpha;\n",
    "}\n",
    "model {     \n",
    "    alpha ~ lognormal(2, 2);\n",
    "    I1 ~ GammaApproxBinom(I2, alpha);  \n",
    "}"
   ]
  },
  {
   "cell_type": "code",
   "execution_count": 157,
   "metadata": {},
   "outputs": [
    {
     "name": "stderr",
     "output_type": "stream",
     "text": [
      "INFO:pystan:COMPILING THE C++ CODE FOR MODEL anon_model_e3a97fe22faa3c13cf4572a32ed16255 NOW.\n"
     ]
    }
   ],
   "source": [
    "# Compile the model \n",
    "model = pystan.StanModel(model_code=hier.model_code)"
   ]
  },
  {
   "cell_type": "markdown",
   "metadata": {},
   "source": [
    "## Computational Tractability"
   ]
  },
  {
   "cell_type": "markdown",
   "metadata": {},
   "source": [
    "Our next step in the workflow is to ensure that our model is well specified and computationally accessible. To do so, we perform [Simulation Based Calibration]() as put forward by Talts. et al. in 2018. To do so, given the draws from the prior, we generate $M$ simulated data sets for the partitioning with $N$ divisions each, where the intensity is dicted by the draw from the $\\alpha$ prior distribution. Using this data set, we then perform inference on these data and compare the data-averaged posterior distribution for $\\alpha$ to the true prior distribution. If everything works as expected, we should recover the prior distribution and have uniformly distributed rank statistics. In addition, we can check the degree to which the prior distribution shrinks (shrinkage) as well as the $z-$score, which quantifies how accurately the posterior captures the model configuration.\n",
    "\n",
    "To permit direct comparison between inferential runs, we will use the same randomly generated protein copy numbers and only change the measured intensity $I$. "
   ]
  },
  {
   "cell_type": "code",
   "execution_count": 158,
   "metadata": {},
   "outputs": [],
   "source": [
    "# Define the number of divisions\n",
    "n_tot = np.random.gamma(10, 10, M).astype(int)\n",
    "n1 = np.random.binomial(n_tot, p=0.5)\n",
    "n2 = n_tot - n1\n",
    "\n",
    "# Define a function to evaluate a single run. \n",
    "def sbc(alpha):\n",
    "        df = pd.DataFrame([])\n",
    "        # Compute intensities\n",
    "        I1 = n1 * alpha\n",
    "        I2 = n2 * alpha\n",
    "    \n",
    "        # Perform inference. \n",
    "        samples = model.sampling(dict(N=M, I1=I1, I2=I2), n_jobs=1, thin=2)\n",
    "        samples = samples.to_dataframe()\n",
    "    \n",
    "        # Compute the statistics. \n",
    "        mean_alpha = np.mean(samples['alpha'])\n",
    "        shrinkage = 1 - (np.var(samples['alpha']) / np.var(alpha_draws))\n",
    "        z_score = np.abs((mean_alpha - alpha) / np.std(samples['alpha']))\n",
    "        df = df.append(dict(alpha_true=alpha, mean_alpha=mean_alpha, \n",
    "                           shrinkage=shrinkage, z_score=z_score), ignore_index=True)\n",
    "        return df"
   ]
  },
  {
   "cell_type": "code",
   "execution_count": 159,
   "metadata": {},
   "outputs": [
    {
     "name": "stderr",
     "output_type": "stream",
     "text": [
      "\n",
      "\n",
      "\n",
      "\n",
      "\n",
      "  0%|          | 0/200 [00:00<?, ?it/s]\u001b[A\u001b[A\u001b[A\u001b[A\u001b[A\n",
      "\n",
      "\n",
      "\n",
      "\n",
      "  0%|          | 1/200 [01:49<6:02:05, 109.17s/it]\u001b[A\u001b[A\u001b[A\u001b[A\u001b[A\n",
      "\n",
      "\n",
      "\n",
      "\n",
      "  1%|          | 2/200 [01:49<4:12:34, 76.54s/it] \u001b[A\u001b[A\u001b[A\u001b[A\u001b[A\n",
      "\n",
      "\n",
      "\n",
      "\n",
      "  4%|▍         | 9/200 [01:50<2:50:38, 53.60s/it]\u001b[A\u001b[A\u001b[A\u001b[A\u001b[A\n",
      "\n",
      "\n",
      "\n",
      "\n",
      "  9%|▉         | 18/200 [01:50<1:53:52, 37.54s/it]\u001b[A\u001b[A\u001b[A\u001b[A\u001b[A\n",
      "\n",
      "\n",
      "\n",
      "\n",
      " 24%|██▍       | 49/200 [03:29<1:08:32, 27.23s/it]\u001b[A\u001b[A\u001b[A\u001b[A\u001b[A\n",
      "\n",
      "\n",
      "\n",
      "\n",
      " 25%|██▌       | 50/200 [03:34<51:18, 20.52s/it]  \u001b[A\u001b[A\u001b[A\u001b[A\u001b[A\n",
      "\n",
      "\n",
      "\n",
      "\n",
      " 27%|██▋       | 54/200 [03:36<35:17, 14.50s/it]\u001b[A\u001b[A\u001b[A\u001b[A\u001b[A\n",
      "\n",
      "\n",
      "\n",
      "\n",
      " 28%|██▊       | 57/200 [03:37<24:32, 10.30s/it]\u001b[A\u001b[A\u001b[A\u001b[A\u001b[A\n",
      "\n",
      "\n",
      "\n",
      "\n",
      " 48%|████▊     | 95/200 [03:40<12:39,  7.24s/it]\u001b[A\u001b[A\u001b[A\u001b[A\u001b[A\n",
      "\n",
      "\n",
      "\n",
      "\n",
      " 48%|████▊     | 97/200 [05:12<32:16, 18.80s/it]\u001b[A\u001b[A\u001b[A\u001b[A\u001b[A\n",
      "\n",
      "\n",
      "\n",
      "\n",
      " 49%|████▉     | 98/200 [05:13<22:44, 13.37s/it]\u001b[A\u001b[A\u001b[A\u001b[A\u001b[A\n",
      "\n",
      "\n",
      "\n",
      "\n",
      " 50%|████▉     | 99/200 [05:16<17:32, 10.42s/it]\u001b[A\u001b[A\u001b[A\u001b[A\u001b[A\n",
      "\n",
      "\n",
      "\n",
      "\n",
      " 51%|█████     | 102/200 [05:22<12:45,  7.81s/it]\u001b[A\u001b[A\u001b[A\u001b[A\u001b[A\n",
      "\n",
      "\n",
      "\n",
      "\n",
      " 60%|█████▉    | 119/200 [05:23<07:24,  5.49s/it]\u001b[A\u001b[A\u001b[A\u001b[A\u001b[A\n",
      "\n",
      "\n",
      "\n",
      "\n",
      " 65%|██████▌   | 130/200 [05:24<04:31,  3.88s/it]\u001b[A\u001b[A\u001b[A\u001b[A\u001b[A\n",
      "\n",
      "\n",
      "\n",
      "\n",
      " 66%|██████▋   | 133/200 [05:25<03:07,  2.80s/it]\u001b[A\u001b[A\u001b[A\u001b[A\u001b[A\n",
      "\n",
      "\n",
      "\n",
      "\n",
      " 70%|███████   | 140/200 [05:27<02:03,  2.05s/it]\u001b[A\u001b[A\u001b[A\u001b[A\u001b[A\n",
      "\n",
      "\n",
      "\n",
      "\n",
      " 72%|███████▎  | 145/200 [06:59<06:21,  6.93s/it]\u001b[A\u001b[A\u001b[A\u001b[A\u001b[A\n",
      "\n",
      "\n",
      "\n",
      "\n",
      " 73%|███████▎  | 146/200 [07:00<04:39,  5.17s/it]\u001b[A\u001b[A\u001b[A\u001b[A\u001b[A\n",
      "\n",
      "\n",
      "\n",
      "\n",
      " 75%|███████▌  | 150/200 [07:01<03:04,  3.69s/it]\u001b[A\u001b[A\u001b[A\u001b[A\u001b[A\n",
      "\n",
      "\n",
      "\n",
      "\n",
      " 76%|███████▌  | 152/200 [07:01<02:08,  2.67s/it]\u001b[A\u001b[A\u001b[A\u001b[A\u001b[A\n",
      "\n",
      "\n",
      "\n",
      "\n",
      " 76%|███████▋  | 153/200 [07:03<01:54,  2.43s/it]\u001b[A\u001b[A\u001b[A\u001b[A\u001b[A\n",
      "\n",
      "\n",
      "\n",
      "\n",
      " 79%|███████▉  | 158/200 [07:05<01:16,  1.83s/it]\u001b[A\u001b[A\u001b[A\u001b[A\u001b[A\n",
      "\n",
      "\n",
      "\n",
      "\n",
      " 82%|████████▏ | 163/200 [07:07<00:51,  1.40s/it]\u001b[A\u001b[A\u001b[A\u001b[A\u001b[A\n",
      "\n",
      "\n",
      "\n",
      "\n",
      " 83%|████████▎ | 166/200 [07:09<00:40,  1.21s/it]\u001b[A\u001b[A\u001b[A\u001b[A\u001b[A\n",
      "\n",
      "\n",
      "\n",
      "\n",
      " 90%|█████████ | 180/200 [07:10<00:17,  1.17it/s]\u001b[A\u001b[A\u001b[A\u001b[A\u001b[A\n",
      "\n",
      "\n",
      "\n",
      "\n",
      " 92%|█████████▏| 183/200 [07:10<00:10,  1.59it/s]\u001b[A\u001b[A\u001b[A\u001b[A\u001b[A\n",
      "\n",
      "\n",
      "\n",
      "\n",
      " 93%|█████████▎| 186/200 [07:12<00:08,  1.66it/s]\u001b[A\u001b[A\u001b[A\u001b[A\u001b[A\n",
      "\n",
      "\n",
      "\n",
      "\n",
      " 95%|█████████▌| 190/200 [07:14<00:05,  1.83it/s]\u001b[A\u001b[A\u001b[A\u001b[A\u001b[A\n",
      "\n",
      "\n",
      "\n",
      "\n",
      " 96%|█████████▋| 193/200 [08:17<00:47,  6.76s/it]\u001b[A\u001b[A\u001b[A\u001b[A\u001b[A\n",
      "\n",
      "\n",
      "\n",
      "\n",
      " 99%|█████████▉| 198/200 [08:18<00:09,  4.75s/it]\u001b[A\u001b[A\u001b[A\u001b[A\u001b[A\n",
      "\n",
      "\n",
      "\n",
      "\n",
      "100%|█████████▉| 199/200 [08:20<00:03,  3.94s/it]\u001b[A\u001b[A\u001b[A\u001b[A\u001b[A\n",
      "\n",
      "\n",
      "\n",
      "\n",
      "100%|██████████| 200/200 [08:20<00:00,  2.50s/it]\u001b[A\u001b[A\u001b[A\u001b[A\u001b[A"
     ]
    }
   ],
   "source": [
    "with mp.Pool(processes=48) as pool:\n",
    "    result = list(tqdm.tqdm(pool.imap(sbc, alpha_draws), total=len(alpha_draws)))"
   ]
  },
  {
   "cell_type": "code",
   "execution_count": null,
   "metadata": {},
   "outputs": [],
   "source": [
    "sbc_df = pd.concat(result)\n",
    "# Compute the rank statistic. \n",
    "rank = [np.sum(sbc_df['mean_alpha'] < a) for a in sbc_df['alpha_true']]\n",
    "sbc_df['rank'] = rank\n",
    "sbc_df.to_csv('../../data/sbc_calibration_factor.csv', index=False)"
   ]
  },
  {
   "cell_type": "code",
   "execution_count": null,
   "metadata": {},
   "outputs": [],
   "source": [
    "plt.plot(np.sort(sbc_df['rank']), np.linspace(0, 1, len(sbc_df)))"
   ]
  },
  {
   "cell_type": "code",
   "execution_count": null,
   "metadata": {},
   "outputs": [],
   "source": [
    "plt.plot(sbc_df['shrinkage'], sbc_df['z_score'], '.')\n",
    "plt.xlim([0, 1])"
   ]
  },
  {
   "cell_type": "code",
   "execution_count": null,
   "metadata": {},
   "outputs": [],
   "source": [
    "bins = np.logspace(3, 6, 100)\n",
    "plt.hist(sbc_df['mean_alpha'], bins=bins)\n",
    "plt.xscale('log')"
   ]
  },
  {
   "cell_type": "code",
   "execution_count": null,
   "metadata": {},
   "outputs": [],
   "source": [
    "output = joblib.Parallel(n_jobs=mp.cpu_count())(joblib.delayed(sbc)(a) for a in alpha_draws)"
   ]
  },
  {
   "cell_type": "code",
   "execution_count": null,
   "metadata": {},
   "outputs": [],
   "source": [
    "# Compute the rank statistic.\n",
    "sbc_df['rank_statistic'] = np.array([np.sum(sbc_df['mean_alpha'] <= a) for a in alpha_draws])"
   ]
  },
  {
   "cell_type": "code",
   "execution_count": null,
   "metadata": {},
   "outputs": [],
   "source": [
    "a = procs[0]"
   ]
  },
  {
   "cell_type": "code",
   "execution_count": null,
   "metadata": {},
   "outputs": [],
   "source": []
  },
  {
   "cell_type": "code",
   "execution_count": null,
   "metadata": {},
   "outputs": [],
   "source": [
    "a.is_alive()"
   ]
  },
  {
   "cell_type": "code",
   "execution_count": 7,
   "metadata": {},
   "outputs": [
    {
     "name": "stdout",
     "output_type": "stream",
     "text": [
      "Using pystan.stanc compiler..\n",
      "Failed to parse Stan model 'anon_model_4ef06f7f06edfad400f84734048ad16f'. Error message:\n",
      "SYNTAX ERROR, MESSAGE(S) FROM PARSER:\n",
      "\n",
      "No matches for: \n",
      "\n",
      "  lgamma_rng(vector)\n",
      "\n",
      "Function lgamma_rng not found.\n",
      "  error in 'anon_6b1ab98c-fcd5-4b85-b62d-bf6aea75b94d.stan' at line 15, column 70\n",
      "  -------------------------------------------------\n",
      "    13:     } \n",
      "    14:     real GammaApproxBinom_rng(vector I1, vector I2, real alpha) {\n",
      "    15:         return exp(-log(alpha) + lgamma_rng(((I1 + I2) ./ alpha) + 1) - lgamma_rng((I1 ./ alpha) + 1) - lgamma_rng((I2 ./ alpha) + 1) - ((I1 + I2) ./ alpha) * log(2));\n",
      "                                                                             ^\n",
      "    16:     } \n",
      "  -------------------------------------------------\n",
      "\n",
      "\n"
     ]
    }
   ],
   "source": [
    "%%stan -v hier\n",
    "functions{\n",
    "    /** \n",
    "    * Approximate the Binomial distirubution for continuous variables \n",
    "    * as a ratio of Gamma functions \n",
    "    * \n",
    "    * @param I1: Observed fluorescence of daughter cell 1. \n",
    "    * @param I2: Observed fluorescence of daughter cell 2.\n",
    "    * @param alpha: Fluorescenc calibration factor in units of a.u. / molecule\n",
    "    * @param N: Total number of measurements \n",
    "    **/\n",
    "    real GammaApproxBinom_lpdf(vector I1, vector I2, real alpha) {\n",
    "        return sum(-log(alpha) + lgamma(((I1 + I2) ./ alpha) + 1) - lgamma((I1 ./ alpha) + 1) - lgamma((I2 ./ alpha) + 1) - ((I1 + I2) ./ alpha) * log(2));\n",
    "    } \n",
    "\n",
    "}\n",
    "     \n",
    "data {\n",
    "    int<lower=0> N; // Number of data points\n",
    "    vector<lower=0>[N] I1; // Observed fluorescence of daughter cell 1\n",
    "    vector<lower=0>[N] I2; // Observed fluorescence of daughter cell 2\n",
    "}\n",
    "\n",
    "parameters {\n",
    "    // Generate non-centered modifiers\n",
    "    real<lower=0> alpha_mu;\n",
    "    real alpha_raw; \n",
    "    real<lower=0> tau;\n",
    "}\n",
    "\n",
    "transformed parameters{\n",
    "    real alpha = alpha_mu + tau * alpha_raw;\n",
    "}\n",
    "\n",
    "\n",
    "model {    \n",
    "    alpha_raw ~ normal(0, 2);\n",
    "    alpha_mu ~ lognormal(2, 2);\n",
    "    tau ~ normal(0, 1);\n",
    "    I1 ~ GammaApproxBinom(I2, alpha);  \n",
    "}\n"
   ]
  },
  {
   "cell_type": "code",
   "execution_count": 36,
   "metadata": {},
   "outputs": [
    {
     "name": "stderr",
     "output_type": "stream",
     "text": [
      "INFO:pystan:COMPILING THE C++ CODE FOR MODEL anon_model_8279ca5d8b472d53461b0ef41ed5fb07 NOW.\n",
      "/anaconda3/lib/python3.6/site-packages/Cython/Compiler/Main.py:367: FutureWarning: Cython directive 'language_level' not set, using 2 for now (Py2). This will change in a later release! File: /var/folders/2q/lvh2zsws3lxckq8xtkn_84z80000gn/T/tmpcrh9exh8/stanfit4anon_model_8279ca5d8b472d53461b0ef41ed5fb07_8943798297178481699.pyx\n",
      "  tree = Parsing.p_module(s, pxd, full_module_name)\n"
     ]
    }
   ],
   "source": [
    "model = pystan.StanModel(model_code=hier.model_code)"
   ]
  },
  {
   "cell_type": "code",
   "execution_count": 37,
   "metadata": {},
   "outputs": [],
   "source": [
    "data_dict = {'N': len(df), 'I1':df['I1'], 'I2':df['I2']};\n",
    "samples = model.sampling(data_dict, iter=1000)"
   ]
  },
  {
   "cell_type": "code",
   "execution_count": 38,
   "metadata": {},
   "outputs": [
    {
     "data": {
      "text/plain": [
       "Inference for Stan model: anon_model_8279ca5d8b472d53461b0ef41ed5fb07.\n",
       "4 chains, each with iter=1000; warmup=500; thin=1; \n",
       "post-warmup draws per chain=500, total post-warmup draws=2000.\n",
       "\n",
       "            mean se_mean     sd   2.5%    25%    50%    75%  97.5%  n_eff   Rhat\n",
       "alpha_mu  141.52    0.28   9.34 123.24  135.4 141.35 147.46 160.41   1121    1.0\n",
       "alpha_raw   0.08    0.05   1.98  -3.65  -1.29   0.06   1.39   4.11   1406    1.0\n",
       "tau         0.82    0.02   0.59   0.04   0.35   0.71   1.17   2.24   1502    1.0\n",
       "alpha     141.59    0.26   9.17 123.83 135.35 141.43 147.41 159.95   1227    1.0\n",
       "lp__       -3990    0.05   1.31  -3993  -3990  -3989  -3989  -3988    650    1.0\n",
       "\n",
       "Samples were drawn using NUTS at Fri Feb 15 16:15:28 2019.\n",
       "For each parameter, n_eff is a crude measure of effective sample size,\n",
       "and Rhat is the potential scale reduction factor on split chains (at \n",
       "convergence, Rhat=1)."
      ]
     },
     "execution_count": 38,
     "metadata": {},
     "output_type": "execute_result"
    }
   ],
   "source": [
    "samples"
   ]
  },
  {
   "cell_type": "code",
   "execution_count": null,
   "metadata": {},
   "outputs": [],
   "source": []
  }
 ],
 "metadata": {
  "kernelspec": {
   "display_name": "Python [default]",
   "language": "python",
   "name": "python3"
  },
  "language_info": {
   "codemirror_mode": {
    "name": "ipython",
    "version": 3
   },
   "file_extension": ".py",
   "mimetype": "text/x-python",
   "name": "python",
   "nbconvert_exporter": "python",
   "pygments_lexer": "ipython3",
   "version": "3.6.6"
  }
 },
 "nbformat": 4,
 "nbformat_minor": 2
}
