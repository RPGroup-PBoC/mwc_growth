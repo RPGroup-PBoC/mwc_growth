{
 "cells": [
  {
   "cell_type": "markdown",
   "metadata": {},
   "source": [
    "# A Principled Bayesian Inference of a Fluorescence Calibration Factor\n",
    "\n",
    "© 2019 Griffin Chure. This work is licensed under a [Creative Commons Attribution License CC-BY 4.0](https://creativecommons.org/licenses/by/4.0/). All code contained herein is licensed under an [MIT license](https://opensource.org/licenses/MIT).\n",
    "\n",
    "--- "
   ]
  },
  {
   "cell_type": "code",
   "execution_count": 2,
   "metadata": {},
   "outputs": [],
   "source": [
    "import numpy as np\n",
    "import pandas as pd\n",
    "import pystan \n",
    "import mwc.viz\n",
    "import mwc.stats\n",
    "import mwc.bayes\n",
    "import scipy.stats\n",
    "import altair as alt\n",
    "%load_ext stanmagic"
   ]
  },
  {
   "cell_type": "markdown",
   "metadata": {},
   "source": [
    "In this notebook, we lay out a principled workflow for the parameter estimation of a fluorescence calibration factor. This notebook covers the inference of the calibratoin factor from a single measurement. A principled analysis of a hierarchical approach will be written at a later date. "
   ]
  },
  {
   "cell_type": "markdown",
   "metadata": {},
   "source": [
    "## Writing A Physical Model\n",
    "\n",
    "It has become trivial in the era of molecular biology to label your favorite protein with a reporter that fluoresces at your favorite wavelength. Similarly, single-cell and single-molecule microscopy has become commonplace, making precise measurement of total cell fluorescence and/or localization a relatively painless procedure. However, it is still remarkably difficult to translate that precise measurement of fluorescence into the absolute copy number of your protein. \n",
    "\n",
    "By measuring the fluctuations in intensity between a mother/daughter pair after cell division, we can back calculate how bright a single molecule of interest is in arbitrary unitls, permitting the relatively easy calculation of protein copy number. We operate under the assumption that protein degradation is negligible and that protein production is ceased immediately before division. Using these assumptions, we can say that the total intensity of a given cell $I_\\text{tot}$ is related to the number of fluorescent proteins and their relative brightness,\n",
    "\n",
    "$$\n",
    "I_\\text{tot} = \\alpha N_\\text{tot}, \\tag{1}\n",
    "$$\n",
    "\n",
    "where $N_\\text{tot}$ is the total number of proteins and $\\alpha$ is the brightness of a single fluorophore. Assuming there is no more production or deradation, we can relate the intensity of the mother cell to the daughter cells by dictating that the fluorescence must be conserved,\n",
    "\n",
    "$$\n",
    "I_\\text{tot} = I_1 + I_2 = \\alpha (N_1 + N_2), \\tag{2}\n",
    "$$\n",
    "\n",
    "where we have used $I_1$ and $I_2$ to represent the total intensity of daughter cells 1 and 2. By looking at the fluctuations in intensity between the two daughter cells, followed by invocation of the mean and variance of the Binomial distribution, we arrive at the simple relation that\n",
    "\n",
    "$$\n",
    "\\langle (I_1 - I_2)^2 \\rangle = \\alpha I_\\text{tot}. \\tag{3}\n",
    "$$\n",
    "\n",
    "Of course, lumped in with $\\alpha$ is all of the features of the detector, fluorophore quantum efficiency, and other minutae of measurement. While incorporating these details into the generative model building is the proper thing to do, I know from experience in these experiments and quantitative biological. microscopy in general that the noise in these measurements is much smaller than the noise of the biological system. To this end, we will neglect them for simplicity. "
   ]
  },
  {
   "cell_type": "markdown",
   "metadata": {},
   "source": [
    "## Building a generative statistical model"
   ]
  },
  {
   "cell_type": "markdown",
   "metadata": {},
   "source": [
    "The posterior probability distribution for our parameter of interest $\\alpha$ is given by Bayes' theorem as\n",
    "$$\n",
    "g(\\alpha\\,\\vert\\,[I_1, I_2]) \\propto f([I_1, I_2]\\,\\vert\\, \\alpha)g(\\alpha)\n",
    "\\tag{4},\n",
    "$$\n",
    "where I have used $g$ and $f$ to denote probability density functions over parameters and data"
   ]
  },
  {
   "cell_type": "code",
   "execution_count": 19,
   "metadata": {},
   "outputs": [],
   "source": [
    "n_div = 500\n",
    "n_tot = np.random.gamma(10, 10, n_div).astype(int)\n",
    "n1 = np.random.binomial(n_tot, p=0.5)\n",
    "n2 = n_tot - n1\n",
    "alpha_mu = 150\n",
    "alpha_sig = 20\n",
    "alpha_rand = np.random.normal(alpha_mu, alpha_sig, n_div)\n",
    "I1 = n1 * alpha_rand\n",
    "I2 = n2 * alpha_rand\n",
    "sq_diff = (I1 - I2)**2\n",
    "summed = I1 + I2\n",
    "df = pd.DataFrame(np.array([n_tot, n1, n2, I1, I2, sq_diff, summed, alpha_rand]).T,\n",
    "                 columns=['n_tot', 'n_1', 'n_2', 'I1', 'I2', 'sq_diff', 'summed', 'alpha'])"
   ]
  },
  {
   "cell_type": "code",
   "execution_count": 35,
   "metadata": {},
   "outputs": [
    {
     "name": "stdout",
     "output_type": "stream",
     "text": [
      "Using pystan.stanc compiler..\n",
      "-------------------------------------------------------------------------------\n",
      "Model compiled successfully. Output stored in hier object.\n",
      "Type hier in a cell to see a nicely formatted code output in a notebook\n",
      "     ^^^^\n",
      "Access model compile output properties\n",
      "hier.model_file -> Name of stan_file [None]\n",
      "hier.model_name -> Name of stan model [None]\n",
      "hier.model_code -> Model code [functions{     /**   ....]\n"
     ]
    }
   ],
   "source": [
    "%%stan -v hier\n",
    "functions{\n",
    "    /** \n",
    "    * Approximate the Binomial distirubution for continuous variables \n",
    "    * as a ratio of Gamma functions \n",
    "    * \n",
    "    * @param I1: Observed fluorescence of daughter cell 1. \n",
    "    * @param I2: Observed fluorescence of daughter cell 2.\n",
    "    * @param alpha: Fluorescenc calibration factor in units of a.u. / molecule\n",
    "    * @param N: Total number of measurements \n",
    "    **/\n",
    "    real GammaApproxBinom_lpdf(vector I1, vector I2, real alpha) {\n",
    "        return sum(-log(alpha) + lgamma(((I1 + I2) ./ alpha) + 1) - lgamma((I1 ./ alpha) + 1) - lgamma((I2 ./ alpha) + 1) - ((I1 + I2) ./ alpha) * log(2));\n",
    "    } \n",
    "}\n",
    "     \n",
    "data {\n",
    "    int<lower=0> N; // Number of data points\n",
    "    vector<lower=0>[N] I1; // Observed fluorescence of daughter cell 1\n",
    "    vector<lower=0>[N] I2; // Observed fluorescence of daughter cell 2\n",
    "}\n",
    "\n",
    "parameters {\n",
    "    // Generate non-centered modifiers\n",
    "    real<lower=0> alpha_mu;\n",
    "    real alpha_raw; \n",
    "    real<lower=0> tau;\n",
    "}\n",
    "\n",
    "transformed parameters{\n",
    "    real alpha = alpha_mu + tau * alpha_raw;\n",
    "}\n",
    "\n",
    "\n",
    "model {    \n",
    "    alpha_raw ~ normal(0, 2);\n",
    "    alpha_mu ~ lognormal(2, 2);\n",
    "    tau ~ normal(0, 1);\n",
    "    I1 ~ GammaApproxBinom(I2, alpha);  \n",
    "}\n"
   ]
  },
  {
   "cell_type": "code",
   "execution_count": 36,
   "metadata": {},
   "outputs": [
    {
     "name": "stderr",
     "output_type": "stream",
     "text": [
      "INFO:pystan:COMPILING THE C++ CODE FOR MODEL anon_model_8279ca5d8b472d53461b0ef41ed5fb07 NOW.\n",
      "/anaconda3/lib/python3.6/site-packages/Cython/Compiler/Main.py:367: FutureWarning: Cython directive 'language_level' not set, using 2 for now (Py2). This will change in a later release! File: /var/folders/2q/lvh2zsws3lxckq8xtkn_84z80000gn/T/tmpcrh9exh8/stanfit4anon_model_8279ca5d8b472d53461b0ef41ed5fb07_8943798297178481699.pyx\n",
      "  tree = Parsing.p_module(s, pxd, full_module_name)\n"
     ]
    }
   ],
   "source": [
    "model = pystan.StanModel(model_code=hier.model_code)"
   ]
  },
  {
   "cell_type": "code",
   "execution_count": 37,
   "metadata": {},
   "outputs": [],
   "source": [
    "data_dict = {'N': len(df), 'I1':df['I1'], 'I2':df['I2']};\n",
    "samples = model.sampling(data_dict, iter=1000)"
   ]
  },
  {
   "cell_type": "code",
   "execution_count": 38,
   "metadata": {},
   "outputs": [
    {
     "data": {
      "text/plain": [
       "Inference for Stan model: anon_model_8279ca5d8b472d53461b0ef41ed5fb07.\n",
       "4 chains, each with iter=1000; warmup=500; thin=1; \n",
       "post-warmup draws per chain=500, total post-warmup draws=2000.\n",
       "\n",
       "            mean se_mean     sd   2.5%    25%    50%    75%  97.5%  n_eff   Rhat\n",
       "alpha_mu  141.52    0.28   9.34 123.24  135.4 141.35 147.46 160.41   1121    1.0\n",
       "alpha_raw   0.08    0.05   1.98  -3.65  -1.29   0.06   1.39   4.11   1406    1.0\n",
       "tau         0.82    0.02   0.59   0.04   0.35   0.71   1.17   2.24   1502    1.0\n",
       "alpha     141.59    0.26   9.17 123.83 135.35 141.43 147.41 159.95   1227    1.0\n",
       "lp__       -3990    0.05   1.31  -3993  -3990  -3989  -3989  -3988    650    1.0\n",
       "\n",
       "Samples were drawn using NUTS at Fri Feb 15 16:15:28 2019.\n",
       "For each parameter, n_eff is a crude measure of effective sample size,\n",
       "and Rhat is the potential scale reduction factor on split chains (at \n",
       "convergence, Rhat=1)."
      ]
     },
     "execution_count": 38,
     "metadata": {},
     "output_type": "execute_result"
    }
   ],
   "source": [
    "samples"
   ]
  },
  {
   "cell_type": "code",
   "execution_count": null,
   "metadata": {},
   "outputs": [],
   "source": []
  }
 ],
 "metadata": {
  "kernelspec": {
   "display_name": "Python 3",
   "language": "python",
   "name": "python3"
  },
  "language_info": {
   "codemirror_mode": {
    "name": "ipython",
    "version": 3
   },
   "file_extension": ".py",
   "mimetype": "text/x-python",
   "name": "python",
   "nbconvert_exporter": "python",
   "pygments_lexer": "ipython3",
   "version": "3.6.7"
  }
 },
 "nbformat": 4,
 "nbformat_minor": 2
}
