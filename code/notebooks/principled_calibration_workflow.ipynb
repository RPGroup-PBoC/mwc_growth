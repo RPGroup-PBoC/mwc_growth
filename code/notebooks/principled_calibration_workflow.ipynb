{
 "cells": [
  {
   "cell_type": "markdown",
   "metadata": {},
   "source": [
    "# A Principled Bayesian Inference of a Fluorescence Calibration Factor\n",
    "\n",
    "© 2019 Griffin Chure. This work is licensed under a [Creative Commons Attribution License CC-BY 4.0](https://creativecommons.org/licenses/by/4.0/). All code contained herein is licensed under an [MIT license](https://opensource.org/licenses/MIT).\n",
    "\n",
    "--- "
   ]
  },
  {
   "cell_type": "code",
   "execution_count": 20,
   "metadata": {},
   "outputs": [
    {
     "data": {
      "text/html": [
       "\n",
       "    <div class=\"bk-root\">\n",
       "        <a href=\"https://bokeh.pydata.org\" target=\"_blank\" class=\"bk-logo bk-logo-small bk-logo-notebook\"></a>\n",
       "        <span id=\"1140\">Loading BokehJS ...</span>\n",
       "    </div>"
      ]
     },
     "metadata": {},
     "output_type": "display_data"
    },
    {
     "data": {
      "application/javascript": [
       "\n",
       "(function(root) {\n",
       "  function now() {\n",
       "    return new Date();\n",
       "  }\n",
       "\n",
       "  var force = true;\n",
       "\n",
       "  if (typeof (root._bokeh_onload_callbacks) === \"undefined\" || force === true) {\n",
       "    root._bokeh_onload_callbacks = [];\n",
       "    root._bokeh_is_loading = undefined;\n",
       "  }\n",
       "\n",
       "  var JS_MIME_TYPE = 'application/javascript';\n",
       "  var HTML_MIME_TYPE = 'text/html';\n",
       "  var EXEC_MIME_TYPE = 'application/vnd.bokehjs_exec.v0+json';\n",
       "  var CLASS_NAME = 'output_bokeh rendered_html';\n",
       "\n",
       "  /**\n",
       "   * Render data to the DOM node\n",
       "   */\n",
       "  function render(props, node) {\n",
       "    var script = document.createElement(\"script\");\n",
       "    node.appendChild(script);\n",
       "  }\n",
       "\n",
       "  /**\n",
       "   * Handle when an output is cleared or removed\n",
       "   */\n",
       "  function handleClearOutput(event, handle) {\n",
       "    var cell = handle.cell;\n",
       "\n",
       "    var id = cell.output_area._bokeh_element_id;\n",
       "    var server_id = cell.output_area._bokeh_server_id;\n",
       "    // Clean up Bokeh references\n",
       "    if (id != null && id in Bokeh.index) {\n",
       "      Bokeh.index[id].model.document.clear();\n",
       "      delete Bokeh.index[id];\n",
       "    }\n",
       "\n",
       "    if (server_id !== undefined) {\n",
       "      // Clean up Bokeh references\n",
       "      var cmd = \"from bokeh.io.state import curstate; print(curstate().uuid_to_server['\" + server_id + \"'].get_sessions()[0].document.roots[0]._id)\";\n",
       "      cell.notebook.kernel.execute(cmd, {\n",
       "        iopub: {\n",
       "          output: function(msg) {\n",
       "            var id = msg.content.text.trim();\n",
       "            if (id in Bokeh.index) {\n",
       "              Bokeh.index[id].model.document.clear();\n",
       "              delete Bokeh.index[id];\n",
       "            }\n",
       "          }\n",
       "        }\n",
       "      });\n",
       "      // Destroy server and session\n",
       "      var cmd = \"import bokeh.io.notebook as ion; ion.destroy_server('\" + server_id + \"')\";\n",
       "      cell.notebook.kernel.execute(cmd);\n",
       "    }\n",
       "  }\n",
       "\n",
       "  /**\n",
       "   * Handle when a new output is added\n",
       "   */\n",
       "  function handleAddOutput(event, handle) {\n",
       "    var output_area = handle.output_area;\n",
       "    var output = handle.output;\n",
       "\n",
       "    // limit handleAddOutput to display_data with EXEC_MIME_TYPE content only\n",
       "    if ((output.output_type != \"display_data\") || (!output.data.hasOwnProperty(EXEC_MIME_TYPE))) {\n",
       "      return\n",
       "    }\n",
       "\n",
       "    var toinsert = output_area.element.find(\".\" + CLASS_NAME.split(' ')[0]);\n",
       "\n",
       "    if (output.metadata[EXEC_MIME_TYPE][\"id\"] !== undefined) {\n",
       "      toinsert[toinsert.length - 1].firstChild.textContent = output.data[JS_MIME_TYPE];\n",
       "      // store reference to embed id on output_area\n",
       "      output_area._bokeh_element_id = output.metadata[EXEC_MIME_TYPE][\"id\"];\n",
       "    }\n",
       "    if (output.metadata[EXEC_MIME_TYPE][\"server_id\"] !== undefined) {\n",
       "      var bk_div = document.createElement(\"div\");\n",
       "      bk_div.innerHTML = output.data[HTML_MIME_TYPE];\n",
       "      var script_attrs = bk_div.children[0].attributes;\n",
       "      for (var i = 0; i < script_attrs.length; i++) {\n",
       "        toinsert[toinsert.length - 1].firstChild.setAttribute(script_attrs[i].name, script_attrs[i].value);\n",
       "      }\n",
       "      // store reference to server id on output_area\n",
       "      output_area._bokeh_server_id = output.metadata[EXEC_MIME_TYPE][\"server_id\"];\n",
       "    }\n",
       "  }\n",
       "\n",
       "  function register_renderer(events, OutputArea) {\n",
       "\n",
       "    function append_mime(data, metadata, element) {\n",
       "      // create a DOM node to render to\n",
       "      var toinsert = this.create_output_subarea(\n",
       "        metadata,\n",
       "        CLASS_NAME,\n",
       "        EXEC_MIME_TYPE\n",
       "      );\n",
       "      this.keyboard_manager.register_events(toinsert);\n",
       "      // Render to node\n",
       "      var props = {data: data, metadata: metadata[EXEC_MIME_TYPE]};\n",
       "      render(props, toinsert[toinsert.length - 1]);\n",
       "      element.append(toinsert);\n",
       "      return toinsert\n",
       "    }\n",
       "\n",
       "    /* Handle when an output is cleared or removed */\n",
       "    events.on('clear_output.CodeCell', handleClearOutput);\n",
       "    events.on('delete.Cell', handleClearOutput);\n",
       "\n",
       "    /* Handle when a new output is added */\n",
       "    events.on('output_added.OutputArea', handleAddOutput);\n",
       "\n",
       "    /**\n",
       "     * Register the mime type and append_mime function with output_area\n",
       "     */\n",
       "    OutputArea.prototype.register_mime_type(EXEC_MIME_TYPE, append_mime, {\n",
       "      /* Is output safe? */\n",
       "      safe: true,\n",
       "      /* Index of renderer in `output_area.display_order` */\n",
       "      index: 0\n",
       "    });\n",
       "  }\n",
       "\n",
       "  // register the mime type if in Jupyter Notebook environment and previously unregistered\n",
       "  if (root.Jupyter !== undefined) {\n",
       "    var events = require('base/js/events');\n",
       "    var OutputArea = require('notebook/js/outputarea').OutputArea;\n",
       "\n",
       "    if (OutputArea.prototype.mime_types().indexOf(EXEC_MIME_TYPE) == -1) {\n",
       "      register_renderer(events, OutputArea);\n",
       "    }\n",
       "  }\n",
       "\n",
       "  \n",
       "  if (typeof (root._bokeh_timeout) === \"undefined\" || force === true) {\n",
       "    root._bokeh_timeout = Date.now() + 5000;\n",
       "    root._bokeh_failed_load = false;\n",
       "  }\n",
       "\n",
       "  var NB_LOAD_WARNING = {'data': {'text/html':\n",
       "     \"<div style='background-color: #fdd'>\\n\"+\n",
       "     \"<p>\\n\"+\n",
       "     \"BokehJS does not appear to have successfully loaded. If loading BokehJS from CDN, this \\n\"+\n",
       "     \"may be due to a slow or bad network connection. Possible fixes:\\n\"+\n",
       "     \"</p>\\n\"+\n",
       "     \"<ul>\\n\"+\n",
       "     \"<li>re-rerun `output_notebook()` to attempt to load from CDN again, or</li>\\n\"+\n",
       "     \"<li>use INLINE resources instead, as so:</li>\\n\"+\n",
       "     \"</ul>\\n\"+\n",
       "     \"<code>\\n\"+\n",
       "     \"from bokeh.resources import INLINE\\n\"+\n",
       "     \"output_notebook(resources=INLINE)\\n\"+\n",
       "     \"</code>\\n\"+\n",
       "     \"</div>\"}};\n",
       "\n",
       "  function display_loaded() {\n",
       "    var el = document.getElementById(\"1140\");\n",
       "    if (el != null) {\n",
       "      el.textContent = \"BokehJS is loading...\";\n",
       "    }\n",
       "    if (root.Bokeh !== undefined) {\n",
       "      if (el != null) {\n",
       "        el.textContent = \"BokehJS \" + root.Bokeh.version + \" successfully loaded.\";\n",
       "      }\n",
       "    } else if (Date.now() < root._bokeh_timeout) {\n",
       "      setTimeout(display_loaded, 100)\n",
       "    }\n",
       "  }\n",
       "\n",
       "\n",
       "  function run_callbacks() {\n",
       "    try {\n",
       "      root._bokeh_onload_callbacks.forEach(function(callback) { callback() });\n",
       "    }\n",
       "    finally {\n",
       "      delete root._bokeh_onload_callbacks\n",
       "    }\n",
       "    console.info(\"Bokeh: all callbacks have finished\");\n",
       "  }\n",
       "\n",
       "  function load_libs(js_urls, callback) {\n",
       "    root._bokeh_onload_callbacks.push(callback);\n",
       "    if (root._bokeh_is_loading > 0) {\n",
       "      console.log(\"Bokeh: BokehJS is being loaded, scheduling callback at\", now());\n",
       "      return null;\n",
       "    }\n",
       "    if (js_urls == null || js_urls.length === 0) {\n",
       "      run_callbacks();\n",
       "      return null;\n",
       "    }\n",
       "    console.log(\"Bokeh: BokehJS not loaded, scheduling load and callback at\", now());\n",
       "    root._bokeh_is_loading = js_urls.length;\n",
       "    for (var i = 0; i < js_urls.length; i++) {\n",
       "      var url = js_urls[i];\n",
       "      var s = document.createElement('script');\n",
       "      s.src = url;\n",
       "      s.async = false;\n",
       "      s.onreadystatechange = s.onload = function() {\n",
       "        root._bokeh_is_loading--;\n",
       "        if (root._bokeh_is_loading === 0) {\n",
       "          console.log(\"Bokeh: all BokehJS libraries loaded\");\n",
       "          run_callbacks()\n",
       "        }\n",
       "      };\n",
       "      s.onerror = function() {\n",
       "        console.warn(\"failed to load library \" + url);\n",
       "      };\n",
       "      console.log(\"Bokeh: injecting script tag for BokehJS library: \", url);\n",
       "      document.getElementsByTagName(\"head\")[0].appendChild(s);\n",
       "    }\n",
       "  };var element = document.getElementById(\"1140\");\n",
       "  if (element == null) {\n",
       "    console.log(\"Bokeh: ERROR: autoload.js configured with elementid '1140' but no matching script tag was found. \")\n",
       "    return false;\n",
       "  }\n",
       "\n",
       "  var js_urls = [\"https://cdn.pydata.org/bokeh/release/bokeh-1.0.4.min.js\", \"https://cdn.pydata.org/bokeh/release/bokeh-widgets-1.0.4.min.js\", \"https://cdn.pydata.org/bokeh/release/bokeh-tables-1.0.4.min.js\", \"https://cdn.pydata.org/bokeh/release/bokeh-gl-1.0.4.min.js\"];\n",
       "\n",
       "  var inline_js = [\n",
       "    function(Bokeh) {\n",
       "      Bokeh.set_log_level(\"info\");\n",
       "    },\n",
       "    \n",
       "    function(Bokeh) {\n",
       "      \n",
       "    },\n",
       "    function(Bokeh) {\n",
       "      console.log(\"Bokeh: injecting CSS: https://cdn.pydata.org/bokeh/release/bokeh-1.0.4.min.css\");\n",
       "      Bokeh.embed.inject_css(\"https://cdn.pydata.org/bokeh/release/bokeh-1.0.4.min.css\");\n",
       "      console.log(\"Bokeh: injecting CSS: https://cdn.pydata.org/bokeh/release/bokeh-widgets-1.0.4.min.css\");\n",
       "      Bokeh.embed.inject_css(\"https://cdn.pydata.org/bokeh/release/bokeh-widgets-1.0.4.min.css\");\n",
       "      console.log(\"Bokeh: injecting CSS: https://cdn.pydata.org/bokeh/release/bokeh-tables-1.0.4.min.css\");\n",
       "      Bokeh.embed.inject_css(\"https://cdn.pydata.org/bokeh/release/bokeh-tables-1.0.4.min.css\");\n",
       "    }\n",
       "  ];\n",
       "\n",
       "  function run_inline_js() {\n",
       "    \n",
       "    if ((root.Bokeh !== undefined) || (force === true)) {\n",
       "      for (var i = 0; i < inline_js.length; i++) {\n",
       "        inline_js[i].call(root, root.Bokeh);\n",
       "      }if (force === true) {\n",
       "        display_loaded();\n",
       "      }} else if (Date.now() < root._bokeh_timeout) {\n",
       "      setTimeout(run_inline_js, 100);\n",
       "    } else if (!root._bokeh_failed_load) {\n",
       "      console.log(\"Bokeh: BokehJS failed to load within specified timeout.\");\n",
       "      root._bokeh_failed_load = true;\n",
       "    } else if (force !== true) {\n",
       "      var cell = $(document.getElementById(\"1140\")).parents('.cell').data().cell;\n",
       "      cell.output_area.append_execute_result(NB_LOAD_WARNING)\n",
       "    }\n",
       "\n",
       "  }\n",
       "\n",
       "  if (root._bokeh_is_loading === 0) {\n",
       "    console.log(\"Bokeh: BokehJS loaded, going straight to plotting\");\n",
       "    run_inline_js();\n",
       "  } else {\n",
       "    load_libs(js_urls, function() {\n",
       "      console.log(\"Bokeh: BokehJS plotting callback run at\", now());\n",
       "      run_inline_js();\n",
       "    });\n",
       "  }\n",
       "}(window));"
      ],
      "application/vnd.bokehjs_load.v0+json": "\n(function(root) {\n  function now() {\n    return new Date();\n  }\n\n  var force = true;\n\n  if (typeof (root._bokeh_onload_callbacks) === \"undefined\" || force === true) {\n    root._bokeh_onload_callbacks = [];\n    root._bokeh_is_loading = undefined;\n  }\n\n  \n\n  \n  if (typeof (root._bokeh_timeout) === \"undefined\" || force === true) {\n    root._bokeh_timeout = Date.now() + 5000;\n    root._bokeh_failed_load = false;\n  }\n\n  var NB_LOAD_WARNING = {'data': {'text/html':\n     \"<div style='background-color: #fdd'>\\n\"+\n     \"<p>\\n\"+\n     \"BokehJS does not appear to have successfully loaded. If loading BokehJS from CDN, this \\n\"+\n     \"may be due to a slow or bad network connection. Possible fixes:\\n\"+\n     \"</p>\\n\"+\n     \"<ul>\\n\"+\n     \"<li>re-rerun `output_notebook()` to attempt to load from CDN again, or</li>\\n\"+\n     \"<li>use INLINE resources instead, as so:</li>\\n\"+\n     \"</ul>\\n\"+\n     \"<code>\\n\"+\n     \"from bokeh.resources import INLINE\\n\"+\n     \"output_notebook(resources=INLINE)\\n\"+\n     \"</code>\\n\"+\n     \"</div>\"}};\n\n  function display_loaded() {\n    var el = document.getElementById(\"1140\");\n    if (el != null) {\n      el.textContent = \"BokehJS is loading...\";\n    }\n    if (root.Bokeh !== undefined) {\n      if (el != null) {\n        el.textContent = \"BokehJS \" + root.Bokeh.version + \" successfully loaded.\";\n      }\n    } else if (Date.now() < root._bokeh_timeout) {\n      setTimeout(display_loaded, 100)\n    }\n  }\n\n\n  function run_callbacks() {\n    try {\n      root._bokeh_onload_callbacks.forEach(function(callback) { callback() });\n    }\n    finally {\n      delete root._bokeh_onload_callbacks\n    }\n    console.info(\"Bokeh: all callbacks have finished\");\n  }\n\n  function load_libs(js_urls, callback) {\n    root._bokeh_onload_callbacks.push(callback);\n    if (root._bokeh_is_loading > 0) {\n      console.log(\"Bokeh: BokehJS is being loaded, scheduling callback at\", now());\n      return null;\n    }\n    if (js_urls == null || js_urls.length === 0) {\n      run_callbacks();\n      return null;\n    }\n    console.log(\"Bokeh: BokehJS not loaded, scheduling load and callback at\", now());\n    root._bokeh_is_loading = js_urls.length;\n    for (var i = 0; i < js_urls.length; i++) {\n      var url = js_urls[i];\n      var s = document.createElement('script');\n      s.src = url;\n      s.async = false;\n      s.onreadystatechange = s.onload = function() {\n        root._bokeh_is_loading--;\n        if (root._bokeh_is_loading === 0) {\n          console.log(\"Bokeh: all BokehJS libraries loaded\");\n          run_callbacks()\n        }\n      };\n      s.onerror = function() {\n        console.warn(\"failed to load library \" + url);\n      };\n      console.log(\"Bokeh: injecting script tag for BokehJS library: \", url);\n      document.getElementsByTagName(\"head\")[0].appendChild(s);\n    }\n  };var element = document.getElementById(\"1140\");\n  if (element == null) {\n    console.log(\"Bokeh: ERROR: autoload.js configured with elementid '1140' but no matching script tag was found. \")\n    return false;\n  }\n\n  var js_urls = [\"https://cdn.pydata.org/bokeh/release/bokeh-1.0.4.min.js\", \"https://cdn.pydata.org/bokeh/release/bokeh-widgets-1.0.4.min.js\", \"https://cdn.pydata.org/bokeh/release/bokeh-tables-1.0.4.min.js\", \"https://cdn.pydata.org/bokeh/release/bokeh-gl-1.0.4.min.js\"];\n\n  var inline_js = [\n    function(Bokeh) {\n      Bokeh.set_log_level(\"info\");\n    },\n    \n    function(Bokeh) {\n      \n    },\n    function(Bokeh) {\n      console.log(\"Bokeh: injecting CSS: https://cdn.pydata.org/bokeh/release/bokeh-1.0.4.min.css\");\n      Bokeh.embed.inject_css(\"https://cdn.pydata.org/bokeh/release/bokeh-1.0.4.min.css\");\n      console.log(\"Bokeh: injecting CSS: https://cdn.pydata.org/bokeh/release/bokeh-widgets-1.0.4.min.css\");\n      Bokeh.embed.inject_css(\"https://cdn.pydata.org/bokeh/release/bokeh-widgets-1.0.4.min.css\");\n      console.log(\"Bokeh: injecting CSS: https://cdn.pydata.org/bokeh/release/bokeh-tables-1.0.4.min.css\");\n      Bokeh.embed.inject_css(\"https://cdn.pydata.org/bokeh/release/bokeh-tables-1.0.4.min.css\");\n    }\n  ];\n\n  function run_inline_js() {\n    \n    if ((root.Bokeh !== undefined) || (force === true)) {\n      for (var i = 0; i < inline_js.length; i++) {\n        inline_js[i].call(root, root.Bokeh);\n      }if (force === true) {\n        display_loaded();\n      }} else if (Date.now() < root._bokeh_timeout) {\n      setTimeout(run_inline_js, 100);\n    } else if (!root._bokeh_failed_load) {\n      console.log(\"Bokeh: BokehJS failed to load within specified timeout.\");\n      root._bokeh_failed_load = true;\n    } else if (force !== true) {\n      var cell = $(document.getElementById(\"1140\")).parents('.cell').data().cell;\n      cell.output_area.append_execute_result(NB_LOAD_WARNING)\n    }\n\n  }\n\n  if (root._bokeh_is_loading === 0) {\n    console.log(\"Bokeh: BokehJS loaded, going straight to plotting\");\n    run_inline_js();\n  } else {\n    load_libs(js_urls, function() {\n      console.log(\"Bokeh: BokehJS plotting callback run at\", now());\n      run_inline_js();\n    });\n  }\n}(window));"
     },
     "metadata": {},
     "output_type": "display_data"
    },
    {
     "name": "stdout",
     "output_type": "stream",
     "text": [
      "The stanmagic extension is already loaded. To reload it, use:\n",
      "  %reload_ext stanmagic\n"
     ]
    }
   ],
   "source": [
    "import numpy as np\n",
    "import pandas as pd\n",
    "import pystan \n",
    "import mwc.viz\n",
    "import mwc.stats\n",
    "import mwc.bayes\n",
    "import scipy.stats\n",
    "import matplotlib.pyplot as plt\n",
    "import bokeh.io\n",
    "import bokeh.plotting\n",
    "import bokeh.palettes\n",
    "import multiprocessing as mp\n",
    "import joblib\n",
    "import mwc.viz\n",
    "import tqdm\n",
    "seed = np.random.seed(666)\n",
    "colors, colors_list = mwc.viz.bokeh_theme() \n",
    "bokeh.io.output_notebook()\n",
    "%load_ext stanmagic"
   ]
  },
  {
   "cell_type": "markdown",
   "metadata": {},
   "source": [
    "In this notebook, we lay out a principled workflow for the parameter estimation of a fluorescence calibration factor. This notebook covers the inference of the calibratoin factor from a single measurement. A principled analysis of a hierarchical approach will be written at a later date. "
   ]
  },
  {
   "cell_type": "markdown",
   "metadata": {},
   "source": [
    "## Writing A Physical Model\n",
    "\n",
    "It has become trivial in the era of molecular biology to label your favorite protein with a reporter that fluoresces at your favorite wavelength. Similarly, single-cell and single-molecule microscopy has become commonplace, making precise measurement of total cell fluorescence and/or localization a relatively painless procedure. However, it is still remarkably difficult to translate that precise measurement of fluorescence into the absolute copy number of your protein. \n",
    "\n",
    "By measuring the fluctuations in intensity between a mother/daughter pair after cell division, we can back calculate how bright a single molecule of interest is in arbitrary unitls, permitting the relatively easy calculation of protein copy number. We operate under the assumption that protein degradation is negligible and that protein production is ceased immediately before division. Using these assumptions, we can say that the total intensity of a given cell $I_\\text{tot}$ is related to the number of fluorescent proteins and their relative brightness,\n",
    "\n",
    "$$\n",
    "I_\\text{tot} = \\alpha N_\\text{tot}, \\tag{1}\n",
    "$$\n",
    "\n",
    "where $N_\\text{tot}$ is the total number of proteins and $\\alpha$ is the brightness of a single fluorophore. Assuming there is no more production or deradation, we can relate the intensity of the mother cell to the daughter cells by dictating that the fluorescence must be conserved,\n",
    "\n",
    "$$\n",
    "I_\\text{tot} = I_1 + I_2 = \\alpha (N_1 + N_2), \\tag{2}\n",
    "$$\n",
    "\n",
    "where we have used $I_1$ and $I_2$ to represent the total intensity of daughter cells 1 and 2. By looking at the fluctuations in intensity between the two daughter cells, followed by invocation of the mean and variance of the Binomial distribution, we arrive at the simple relation that\n",
    "\n",
    "$$\n",
    "\\langle (I_1 - I_2)^2 \\rangle = \\alpha I_\\text{tot}. \\tag{3}\n",
    "$$\n",
    "\n",
    "Of course, lumped in with $\\alpha$ is all of the features of the detector, fluorophore quantum efficiency, and other minutae of measurement. While incorporating these details into the generative model building is the proper thing to do, I know from experience in these experiments and quantitative biological. microscopy in general that the noise in these measurements is much smaller than the noise of the biological system. To this end, we will neglect them for simplicity. "
   ]
  },
  {
   "cell_type": "markdown",
   "metadata": {},
   "source": [
    "## Building a Generative Statistical Model"
   ]
  },
  {
   "cell_type": "markdown",
   "metadata": {},
   "source": [
    "The posterior probability distribution for our parameter of interest $\\alpha$ is given by Bayes' theorem as\n",
    "\n",
    "$$\n",
    "g(\\alpha\\,\\vert\\,[I_1, I_2]) \\propto f([I_1, I_2]\\,\\vert\\, \\alpha)g(\\alpha)\n",
    "\\tag{4},\n",
    "$$\n",
    "\n",
    "where I have used $g$ and $f$ to denote probability density functions over parameters and data, respectively. As $I_1$ and $I_2$ are related to each other (through Eq. 2), the likelihood $f([I_1, I_2]\\,\\vert\\, \\alpha)$ can be rewritten in the form,\n",
    "\n",
    "$$\n",
    "f([I_1, I_2]\\,\\vert\\,\\alpha) = f([I_1]\\,\\vert\\, \\alpha, [I_2]).\\tag{5}\n",
    "$$\n",
    "\n",
    "Ultimately, we would like to translate the observed intensity into the nubmer of fluorescent proteins in the cell. Using Eq. 1 and the change-of-variables formula, Eq. 5 can be written in terms of $N_1$ as\n",
    "\n",
    "$$\n",
    "f([I_1]\\,\\vert\\, \\alpha, [I_2]) = f([N_1]\\,\\vert\\,\\alpha, [I_2]) {d N_1 \\over d I_1} = {1 \\over \\alpha^k}f([N_1]\\,\\vert\\,\\alpha,[I_2]),\\tag{6}\n",
    "$$\n",
    "\n",
    "where $k$ is the number of observed division events in the set of observed intensities $[I_1, I_2]$. \n",
    "\n",
    "The number of proteins present in the arbitrarily chosen daughter cell 1 ($N_1$) should be binomial distributed with $N_{tot}$ proteins in the mother cell. As such, the functional form of our likelihood can be written as\n",
    "\n",
    "$$\n",
    "f([N_1]\\,\\vert\\,\\alpha,[I_2]) = {1 \\over \\alpha^k}\\prod\\limits_{i=1}^k {\\Gamma\\left({I_{1,i} + I_{2,i} \\over \\alpha} + 1\\right) \\over \\Gamma\\left({I_1 \\over \\alpha} + 1\\right) \\Gamma\\left({I_2 \\over \\alpha} + 1\\right)} 2^{-{I_1 + I_2 \\over \\alpha}},\\tag{7}\n",
    "$$\n",
    "\n",
    "where Gamma functions are used to avoid factorials of continuous variables. Note here we have used the simplifying assumption that the proteins are partitioned between the two proteins with an equal probability, $p = 1/2$. This is a fair approximation as the repressors to which the fluorescent proteins are covalently bound are always bound to the DNA and therefore are partitioned via segregation of the chromosomes. \n",
    "\n",
    "\n",
    "With the likelihood in hand, we are now assigned the task of setting a prior for $\\alpha$, which will be verified by prior predictive checks. This is certainly not an obvious endeavor as we do not have a good intuitoin for how bright a single fluorophore should be. However, we do know some limits. For example, it is not possible for the fluoropohore to have a negative value as the detector returns unsigned integeters per pixel as the readout. We also know that our resolution is diffraction limited meaning in the extreme case in which the repressors are frozen in a specific point, their fluorescence will be detected across several pixels. In our system, the interpixel distance of the camera is on the order of 50 nm / pixel meaning that a single fluorophore will have a diameter of 4 - 5 pixels (assuming the extreme scenario in which diffusion of the fluorophore is much slower than the frame rate of our camera). With a bit-depth of 12, the maximum value that a pixel can be assigned is $2^{12} - 1 = 4095$ arbitrary units. Thus, the maximum brightness of a single fluorophore that can be detected on our system is $ 4 \\times 4095 \\approx 1.5\\times 10^4$ a.u. /molecule. This, of course is a large upper bound and in our system the fluorescence will be below this value. However, we can use these bounds to  define a prior. As flat priors are difficult to sample and a uniform prior is not appropriate, we can assign a log-normal prior centered at $\\approx 5$ (~200 [a.u.]) with a scale parameter of 3.\n",
    "\n",
    "## Prior Predictive Checks\n",
    "The best way to check if this choice of prior is reasonable is to draw $N$ values from this prior distribution and use $\\alpha$ to generate a data set of $M$ values for $I_1$ based on a set of $M$ protein copy numbers. To start, we will define a set protein copy numbers $N_1$ that cover physiologically reasonable values of intenisities."
   ]
  },
  {
   "cell_type": "code",
   "execution_count": 47,
   "metadata": {},
   "outputs": [],
   "source": [
    "# Define the set of copy numbers. \n",
    "M = 5\n",
    "N1 = np.random.gamma(10, 10, M).astype(int) # Gamma distributed to mimic bursty gene expression"
   ]
  },
  {
   "cell_type": "markdown",
   "metadata": {},
   "source": [
    "We can now make $N$ draws out of the prior distribution for $\\alpha$ and compute the observed intensities $I_1$. We'll make this as a data frame for use later. "
   ]
  },
  {
   "cell_type": "code",
   "execution_count": 48,
   "metadata": {},
   "outputs": [],
   "source": [
    "# Make N draws out of a lognormal distribution for alpha. \n",
    "N = 500\n",
    "alpha_draws = np.random.lognormal(3, 3, N)\n",
    "\n",
    "# Compute the intensities. \n",
    "n, a = np.meshgrid(N1, alpha_draws)\n",
    "I1 = n * a\n",
    "\n",
    "# Make the dataframe. \n",
    "ppc_df = pd.DataFrame(np.array([I1.flatten(), n.flatten(), a. flatten()]).T, \n",
    "                     columns=['I1', 'N1', 'alpha_true'])"
   ]
  },
  {
   "cell_type": "code",
   "execution_count": 49,
   "metadata": {},
   "outputs": [
    {
     "data": {
      "text/html": [
       "\n",
       "\n",
       "\n",
       "\n",
       "\n",
       "\n",
       "  <div class=\"bk-root\" id=\"7b0d6cfa-c5e8-4aca-8700-a0409cbdd051\" data-root-id=\"5595\"></div>\n"
      ]
     },
     "metadata": {},
     "output_type": "display_data"
    },
    {
     "data": {
      "application/javascript": [
       "(function(root) {\n",
       "  function embed_document(root) {\n",
       "    \n",
       "  var docs_json = {\"df21e620-1be2-412b-b971-7e10934ac507\":{\"roots\":{\"references\":[{\"attributes\":{\"background_fill_color\":{\"value\":\"#EEEEEE\"},\"below\":[{\"id\":\"5604\",\"type\":\"LogAxis\"}],\"left\":[{\"id\":\"5609\",\"type\":\"LinearAxis\"}],\"plot_height\":400,\"renderers\":[{\"id\":\"5604\",\"type\":\"LogAxis\"},{\"id\":\"5608\",\"type\":\"Grid\"},{\"id\":\"5609\",\"type\":\"LinearAxis\"},{\"id\":\"5613\",\"type\":\"Grid\"},{\"id\":\"5622\",\"type\":\"BoxAnnotation\"},{\"id\":\"5632\",\"type\":\"GlyphRenderer\"},{\"id\":\"5637\",\"type\":\"GlyphRenderer\"},{\"id\":\"5642\",\"type\":\"GlyphRenderer\"},{\"id\":\"5647\",\"type\":\"GlyphRenderer\"},{\"id\":\"5652\",\"type\":\"GlyphRenderer\"}],\"title\":{\"id\":\"6038\",\"type\":\"Title\"},\"toolbar\":{\"id\":\"5620\",\"type\":\"Toolbar\"},\"x_range\":{\"id\":\"5596\",\"type\":\"DataRange1d\"},\"x_scale\":{\"id\":\"5600\",\"type\":\"LogScale\"},\"y_range\":{\"id\":\"5598\",\"type\":\"DataRange1d\"},\"y_scale\":{\"id\":\"5602\",\"type\":\"LinearScale\"}},\"id\":\"5595\",\"subtype\":\"Figure\",\"type\":\"Plot\"},{\"attributes\":{\"line_color\":\"#5F2E88\",\"line_width\":0.5,\"x\":{\"field\":\"x\"},\"y\":{\"field\":\"y\"}},\"id\":\"5650\",\"type\":\"Line\"},{\"attributes\":{\"line_alpha\":0.1,\"line_color\":\"#1f77b4\",\"line_width\":0.5,\"x\":{\"field\":\"x\"},\"y\":{\"field\":\"y\"}},\"id\":\"5631\",\"type\":\"Line\"},{\"attributes\":{},\"id\":\"5617\",\"type\":\"SaveTool\"},{\"attributes\":{\"axis_label\":\"cumulative distribution\",\"axis_line_color\":{\"value\":\"slategray\"},\"formatter\":{\"id\":\"6043\",\"type\":\"BasicTickFormatter\"},\"major_tick_line_color\":{\"value\":null},\"minor_tick_line_color\":{\"value\":null},\"plot\":{\"id\":\"5595\",\"subtype\":\"Figure\",\"type\":\"Plot\"},\"ticker\":{\"id\":\"5610\",\"type\":\"BasicTicker\"}},\"id\":\"5609\",\"type\":\"LinearAxis\"},{\"attributes\":{\"callback\":null,\"data\":{\"x\":{\"__ndarray__\":\"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\",\"dtype\":\"float64\",\"shape\":[500]},\"y\":{\"__ndarray__\":\"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\",\"dtype\":\"float64\",\"shape\":[500]}},\"selected\":{\"id\":\"6049\",\"type\":\"Selection\"},\"selection_policy\":{\"id\":\"6048\",\"type\":\"UnionRenderers\"}},\"id\":\"5639\",\"type\":\"ColumnDataSource\"},{\"attributes\":{\"source\":{\"id\":\"5644\",\"type\":\"ColumnDataSource\"}},\"id\":\"5648\",\"type\":\"CDSView\"},{\"attributes\":{\"align\":\"center\",\"background_fill_color\":{\"value\":\"#EEEEEE\"},\"offset\":2,\"plot\":null,\"text\":\"\",\"text_color\":{\"value\":\"#3c3c3c\"},\"text_font\":\"Arial\"},\"id\":\"6038\",\"type\":\"Title\"},{\"attributes\":{\"data_source\":{\"id\":\"5649\",\"type\":\"ColumnDataSource\"},\"glyph\":{\"id\":\"5650\",\"type\":\"Line\"},\"hover_glyph\":null,\"muted_glyph\":null,\"nonselection_glyph\":{\"id\":\"5651\",\"type\":\"Line\"},\"selection_glyph\":null,\"view\":{\"id\":\"5653\",\"type\":\"CDSView\"}},\"id\":\"5652\",\"type\":\"GlyphRenderer\"},{\"attributes\":{\"line_color\":\"#5F2E88\",\"line_width\":0.5,\"x\":{\"field\":\"x\"},\"y\":{\"field\":\"y\"}},\"id\":\"5630\",\"type\":\"Line\"},{\"attributes\":{},\"id\":\"5619\",\"type\":\"HelpTool\"},{\"attributes\":{\"callback\":null},\"id\":\"5596\",\"type\":\"DataRange1d\"},{\"attributes\":{},\"id\":\"6045\",\"type\":\"Selection\"},{\"attributes\":{\"source\":{\"id\":\"5649\",\"type\":\"ColumnDataSource\"}},\"id\":\"5653\",\"type\":\"CDSView\"},{\"attributes\":{\"data_source\":{\"id\":\"5634\",\"type\":\"ColumnDataSource\"},\"glyph\":{\"id\":\"5635\",\"type\":\"Line\"},\"hover_glyph\":null,\"muted_glyph\":null,\"nonselection_glyph\":{\"id\":\"5636\",\"type\":\"Line\"},\"selection_glyph\":null,\"view\":{\"id\":\"5638\",\"type\":\"CDSView\"}},\"id\":\"5637\",\"type\":\"GlyphRenderer\"},{\"attributes\":{\"callback\":null,\"data\":{\"x\":{\"__ndarray__\":\"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\",\"dtype\":\"float64\",\"shape\":[500]},\"y\":{\"__ndarray__\":\"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\",\"dtype\":\"float64\",\"shape\":[500]}},\"selected\":{\"id\":\"6053\",\"type\":\"Selection\"},\"selection_policy\":{\"id\":\"6052\",\"type\":\"UnionRenderers\"}},\"id\":\"5649\",\"type\":\"ColumnDataSource\"},{\"attributes\":{},\"id\":\"6046\",\"type\":\"UnionRenderers\"},{\"attributes\":{\"callback\":null,\"data\":{\"x\":{\"__ndarray__\":\"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\",\"dtype\":\"float64\",\"shape\":[500]},\"y\":{\"__ndarray__\":\"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\",\"dtype\":\"float64\",\"shape\":[500]}},\"selected\":{\"id\":\"6047\",\"type\":\"Selection\"},\"selection_policy\":{\"id\":\"6046\",\"type\":\"UnionRenderers\"}},\"id\":\"5634\",\"type\":\"ColumnDataSource\"},{\"attributes\":{\"line_color\":\"#5F2E88\",\"line_width\":0.5,\"x\":{\"field\":\"x\"},\"y\":{\"field\":\"y\"}},\"id\":\"5640\",\"type\":\"Line\"},{\"attributes\":{},\"id\":\"6044\",\"type\":\"UnionRenderers\"},{\"attributes\":{},\"id\":\"6047\",\"type\":\"Selection\"},{\"attributes\":{\"line_color\":\"#5F2E88\",\"line_width\":0.5,\"x\":{\"field\":\"x\"},\"y\":{\"field\":\"y\"}},\"id\":\"5645\",\"type\":\"Line\"},{\"attributes\":{},\"id\":\"6048\",\"type\":\"UnionRenderers\"},{\"attributes\":{\"line_alpha\":0.1,\"line_color\":\"#1f77b4\",\"line_width\":0.5,\"x\":{\"field\":\"x\"},\"y\":{\"field\":\"y\"}},\"id\":\"5636\",\"type\":\"Line\"},{\"attributes\":{\"source\":{\"id\":\"5629\",\"type\":\"ColumnDataSource\"}},\"id\":\"5633\",\"type\":\"CDSView\"},{\"attributes\":{\"line_alpha\":0.1,\"line_color\":\"#1f77b4\",\"line_width\":0.5,\"x\":{\"field\":\"x\"},\"y\":{\"field\":\"y\"}},\"id\":\"5641\",\"type\":\"Line\"},{\"attributes\":{},\"id\":\"5600\",\"type\":\"LogScale\"},{\"attributes\":{\"callback\":null,\"data\":{\"x\":{\"__ndarray__\":\"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\",\"dtype\":\"float64\",\"shape\":[500]},\"y\":{\"__ndarray__\":\"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\",\"dtype\":\"float64\",\"shape\":[500]}},\"selected\":{\"id\":\"6045\",\"type\":\"Selection\"},\"selection_policy\":{\"id\":\"6044\",\"type\":\"UnionRenderers\"}},\"id\":\"5629\",\"type\":\"ColumnDataSource\"},{\"attributes\":{\"data_source\":{\"id\":\"5629\",\"type\":\"ColumnDataSource\"},\"glyph\":{\"id\":\"5630\",\"type\":\"Line\"},\"hover_glyph\":null,\"muted_glyph\":null,\"nonselection_glyph\":{\"id\":\"5631\",\"type\":\"Line\"},\"selection_glyph\":null,\"view\":{\"id\":\"5633\",\"type\":\"CDSView\"}},\"id\":\"5632\",\"type\":\"GlyphRenderer\"},{\"attributes\":{\"callback\":null},\"id\":\"5598\",\"type\":\"DataRange1d\"},{\"attributes\":{},\"id\":\"5614\",\"type\":\"PanTool\"},{\"attributes\":{\"source\":{\"id\":\"5634\",\"type\":\"ColumnDataSource\"}},\"id\":\"5638\",\"type\":\"CDSView\"},{\"attributes\":{},\"id\":\"5602\",\"type\":\"LinearScale\"},{\"attributes\":{},\"id\":\"6050\",\"type\":\"UnionRenderers\"},{\"attributes\":{\"num_minor_ticks\":10},\"id\":\"5605\",\"type\":\"LogTicker\"},{\"attributes\":{\"active_drag\":\"auto\",\"active_inspect\":\"auto\",\"active_multi\":null,\"active_scroll\":\"auto\",\"active_tap\":\"auto\",\"tools\":[{\"id\":\"5614\",\"type\":\"PanTool\"},{\"id\":\"5615\",\"type\":\"WheelZoomTool\"},{\"id\":\"5616\",\"type\":\"BoxZoomTool\"},{\"id\":\"5617\",\"type\":\"SaveTool\"},{\"id\":\"5618\",\"type\":\"ResetTool\"},{\"id\":\"5619\",\"type\":\"HelpTool\"}]},\"id\":\"5620\",\"type\":\"Toolbar\"},{\"attributes\":{\"overlay\":{\"id\":\"5622\",\"type\":\"BoxAnnotation\"}},\"id\":\"5616\",\"type\":\"BoxZoomTool\"},{\"attributes\":{\"axis_label\":\"cell intensity [a.u.]\",\"axis_line_color\":{\"value\":\"slategray\"},\"formatter\":{\"id\":\"6041\",\"type\":\"LogTickFormatter\"},\"major_tick_line_color\":{\"value\":null},\"minor_tick_line_color\":{\"value\":null},\"plot\":{\"id\":\"5595\",\"subtype\":\"Figure\",\"type\":\"Plot\"},\"ticker\":{\"id\":\"5605\",\"type\":\"LogTicker\"}},\"id\":\"5604\",\"type\":\"LogAxis\"},{\"attributes\":{\"bottom_units\":\"screen\",\"fill_alpha\":{\"value\":0.5},\"fill_color\":{\"value\":\"lightgrey\"},\"left_units\":\"screen\",\"level\":\"overlay\",\"line_alpha\":{\"value\":1.0},\"line_color\":{\"value\":\"black\"},\"line_dash\":[4,4],\"line_width\":{\"value\":2},\"plot\":null,\"render_mode\":\"css\",\"right_units\":\"screen\",\"top_units\":\"screen\"},\"id\":\"5622\",\"type\":\"BoxAnnotation\"},{\"attributes\":{\"data_source\":{\"id\":\"5639\",\"type\":\"ColumnDataSource\"},\"glyph\":{\"id\":\"5640\",\"type\":\"Line\"},\"hover_glyph\":null,\"muted_glyph\":null,\"nonselection_glyph\":{\"id\":\"5641\",\"type\":\"Line\"},\"selection_glyph\":null,\"view\":{\"id\":\"5643\",\"type\":\"CDSView\"}},\"id\":\"5642\",\"type\":\"GlyphRenderer\"},{\"attributes\":{},\"id\":\"6049\",\"type\":\"Selection\"},{\"attributes\":{\"source\":{\"id\":\"5639\",\"type\":\"ColumnDataSource\"}},\"id\":\"5643\",\"type\":\"CDSView\"},{\"attributes\":{},\"id\":\"5618\",\"type\":\"ResetTool\"},{\"attributes\":{\"grid_line_color\":{\"value\":\"#FFFFFF\"},\"grid_line_width\":{\"value\":0.75},\"plot\":{\"id\":\"5595\",\"subtype\":\"Figure\",\"type\":\"Plot\"},\"ticker\":{\"id\":\"5605\",\"type\":\"LogTicker\"}},\"id\":\"5608\",\"type\":\"Grid\"},{\"attributes\":{\"line_color\":\"#5F2E88\",\"line_width\":0.5,\"x\":{\"field\":\"x\"},\"y\":{\"field\":\"y\"}},\"id\":\"5635\",\"type\":\"Line\"},{\"attributes\":{\"ticker\":null},\"id\":\"6041\",\"type\":\"LogTickFormatter\"},{\"attributes\":{},\"id\":\"6053\",\"type\":\"Selection\"},{\"attributes\":{},\"id\":\"6043\",\"type\":\"BasicTickFormatter\"},{\"attributes\":{\"data_source\":{\"id\":\"5644\",\"type\":\"ColumnDataSource\"},\"glyph\":{\"id\":\"5645\",\"type\":\"Line\"},\"hover_glyph\":null,\"muted_glyph\":null,\"nonselection_glyph\":{\"id\":\"5646\",\"type\":\"Line\"},\"selection_glyph\":null,\"view\":{\"id\":\"5648\",\"type\":\"CDSView\"}},\"id\":\"5647\",\"type\":\"GlyphRenderer\"},{\"attributes\":{},\"id\":\"6052\",\"type\":\"UnionRenderers\"},{\"attributes\":{},\"id\":\"6051\",\"type\":\"Selection\"},{\"attributes\":{},\"id\":\"5610\",\"type\":\"BasicTicker\"},{\"attributes\":{\"line_alpha\":0.1,\"line_color\":\"#1f77b4\",\"line_width\":0.5,\"x\":{\"field\":\"x\"},\"y\":{\"field\":\"y\"}},\"id\":\"5646\",\"type\":\"Line\"},{\"attributes\":{\"callback\":null,\"data\":{\"x\":{\"__ndarray__\":\"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\",\"dtype\":\"float64\",\"shape\":[500]},\"y\":{\"__ndarray__\":\"AAAAAAAAAAD7EnmctWpgP/sSeZy1anA/eJy1ahCgeD/7EnmctWqAP7pXlwNjhYQ/eJy1ahCgiD834dPRvbqMP/sSeZy1apA/WjUIUAx4kj+6V5cDY4WUPxl6Jre5kpY/eJy1ahCgmD/YvkQeZ62aPzfh09G9upw/lwNjhRTInj/7EnmctWqgPyukQPZgcaE/WjUIUAx4oj+Kxs+pt36jP7pXlwNjhaQ/6eheXQ6MpT8Zeia3uZKmP0kL7hBlmac/eJy1ahCgqD+oLX3Eu6apP9i+RB5nrao/CFAMeBK0qz834dPRvbqsP2dymytpwa0/lwNjhRTIrj/GlCrfv86vP/sSeZy1arA/k9tcSQvusD8rpED2YHGxP8NsJKO29LE/WjUIUAx4sj/y/ev8YfuyP4rGz6m3frM/Io+zVg0CtD+6V5cDY4W0P1Ige7C4CLU/6eheXQ6MtT+BsUIKZA+2Pxl6Jre5krY/sUIKZA8Wtz9JC+4QZZm3P+HT0b26HLg/eJy1ahCguD8QZZkXZiO5P6gtfcS7prk/QPZgcREquj/YvkQeZ626P3CHKMu8MLs/CFAMeBK0uz+fGPAkaDe8Pzfh09G9urw/z6m3fhM+vT9ncpsracG9P/86f9i+RL4/lwNjhRTIvj8uzEYyaku/P8aUKt+/zr8/ry4HxgopwD/7EnmctWrAP0f36nJgrMA/k9tcSQvuwD/fv84fti/BPyukQPZgccE/d4iyzAuzwT/DbCSjtvTBPw5RlnlhNsI/WjUIUAx4wj+mGXomt7nCP/L96/xh+8I/PuJd0ww9wz+Kxs+pt37DP9aqQYBiwMM/Io+zVg0CxD9ucyUtuEPEP7pXlwNjhcQ/BjwJ2g3HxD9SIHuwuAjFP54E7YZjSsU/6eheXQ6MxT81zdAzuc3FP4GxQgpkD8Y/zZW04A5Rxj8Zeia3uZLGP2VemI1k1MY/sUIKZA8Wxz/9Jnw6ulfHP0kL7hBlmcc/le9f5w/bxz/h09G9uhzIPy24Q5RlXsg/eJy1ahCgyD/EgCdBu+HIPxBlmRdmI8k/XEkL7hBlyT+oLX3Eu6bJP/QR75pm6Mk/QPZgcREqyj+M2tJHvGvKP9i+RB5nrco/JKO29BHvyj9whyjLvDDLP7xrmqFncss/CFAMeBK0yz9TNH5OvfXLP58Y8CRoN8w/6/xh+xJ5zD834dPRvbrMP4PFRaho/Mw/z6m3fhM+zT8bjilVvn/NP2dymytpwc0/s1YNAhQDzj//On/YvkTOP0sf8a5phs4/lwNjhRTIzj/j59RbvwnPPy7MRjJqS88/erC4CBWNzz/GlCrfv87PP4k8zlo1CNA/ry4Hxgop0D/VIEAx4EnQP/sSeZy1atA/IQWyB4uL0D9H9+pyYKzQP23pI941zdA/k9tcSQvu0D+5zZW04A7RP9+/zh+2L9E/BbIHi4tQ0T8rpED2YHHRP1GWeWE2ktE/d4iyzAuz0T+deus34dPRP8NsJKO29NE/6F5dDowV0j8OUZZ5YTbSPzRDz+Q2V9I/WjUIUAx40j+AJ0G74ZjSP6YZeia3udI/zAuzkYza0j/y/ev8YfvSPxjwJGg3HNM/PuJd0ww90z9k1JY+4l3TP4rGz6m3ftM/sLgIFY2f0z/WqkGAYsDTP/yceus34dM/Io+zVg0C1D9IgezB4iLUP25zJS24Q9Q/lGVemI1k1D+6V5cDY4XUP+BJ0G44ptQ/BjwJ2g3H1D8sLkJF4+fUP1Ige7C4CNU/eBK0G44p1T+eBO2GY0rVP8P2JfI4a9U/6eheXQ6M1T8P25fI46zVPzXN0DO5zdU/W78Jn47u1T+BsUIKZA/WP6eje3U5MNY/zZW04A5R1j/zh+1L5HHWPxl6Jre5ktY/P2xfIo+z1j9lXpiNZNTWP4tQ0fg59dY/sUIKZA8W1z/XNEPP5DbXP/0mfDq6V9c/Ixm1pY941z9JC+4QZZnXP2/9Jnw6utc/le9f5w/b1z+74ZhS5fvXP+HT0b26HNg/B8YKKZA92D8tuEOUZV7YP1OqfP86f9g/eJy1ahCg2D+eju7V5cDYP8SAJ0G74dg/6nJgrJAC2T8QZZkXZiPZPzZX0oI7RNk/XEkL7hBl2T+CO0RZ5oXZP6gtfcS7ptk/zh+2L5HH2T/0Ee+aZujZPxoEKAY8Cdo/QPZgcREq2j9m6Jnc5kraP4za0ke8a9o/sswLs5GM2j/YvkQeZ63aP/6wfYk8zto/JKO29BHv2j9Kle9f5w/bP3CHKMu8MNs/lnlhNpJR2z+8a5qhZ3LbP+Jd0ww9k9s/CFAMeBK02z8uQkXj59TbP1M0fk699ds/eSa3uZIW3D+fGPAkaDfcP8UKKZA9WNw/6/xh+xJ53D8R75pm6JncPzfh09G9utw/XdMMPZPb3D+DxUWoaPzcP6m3fhM+Hd0/z6m3fhM+3T/1m/Dp6F7dPxuOKVW+f90/QYBiwJOg3T9ncpsracHdP41k1JY+4t0/s1YNAhQD3j/ZSEZt6SPeP/86f9i+RN4/JS24Q5Rl3j9LH/GuaYbeP3ERKho/p94/lwNjhRTI3j+99Zvw6ejeP+Pn1Fu/Cd8/CdoNx5Qq3z8uzEYyakvfP1S+f50/bN8/erC4CBWN3z+govFz6q3fP8aUKt+/zt8/7IZjSpXv3z+JPM5aNQjgP5y1ahCgGOA/ry4Hxgop4D/Cp6N7dTngP9UgQDHgSeA/6Jnc5kpa4D/7EnmctWrgPw6MFVIge+A/IQWyB4uL4D80fk699ZvgP0f36nJgrOA/WnCHKMu84D9t6SPeNc3gP4BiwJOg3eA/k9tcSQvu4D+mVPn+df7gP7nNlbTgDuE/zEYyaksf4T/fv84fti/hP/I4a9UgQOE/BbIHi4tQ4T8YK6RA9mDhPyukQPZgceE/Ph3dq8uB4T9RlnlhNpLhP2QPFhehouE/d4iyzAuz4T+KAU+CdsPhP5166zfh0+E/sPOH7Uvk4T/DbCSjtvThP9blwFghBeI/6F5dDowV4j/71/nD9iXiPw5RlnlhNuI/IcoyL8xG4j80Q8/kNlfiP0e8a5qhZ+I/WjUIUAx44j9trqQFd4jiP4AnQbvhmOI/k6DdcEyp4j+mGXomt7niP7mSFtwhyuI/zAuzkYza4j/fhE9H9+riP/L96/xh++I/BXeIsswL4z8Y8CRoNxzjPytpwR2iLOM/PuJd0ww94z9RW/qId03jP2TUlj7iXeM/d00z9Exu4z+Kxs+pt37jP50/bF8ij+M/sLgIFY2f4z/DMaXK96/jP9aqQYBiwOM/6SPeNc3Q4z/8nHrrN+HjPw8WF6Gi8eM/Io+zVg0C5D81CFAMeBLkP0iB7MHiIuQ/W/qId00z5D9ucyUtuEPkP4HsweIiVOQ/lGVemI1k5D+n3vpN+HTkP7pXlwNjheQ/zdAzuc2V5D/gSdBuOKbkP/PCbCSjtuQ/BjwJ2g3H5D8ZtaWPeNfkPywuQkXj5+Q/P6fe+k345D9SIHuwuAjlP2WZF2YjGeU/eBK0G44p5T+Li1DR+DnlP54E7YZjSuU/sH2JPM5a5T/D9iXyOGvlP9Zvwqeje+U/6eheXQ6M5T/8YfsSeZzlPw/bl8jjrOU/IlQ0fk695T81zdAzuc3lP0hGbekj3uU/W78Jn47u5T9uOKZU+f7lP4GxQgpkD+Y/lCrfv84f5j+no3t1OTDmP7ocGCukQOY/zZW04A5R5j/gDlGWeWHmP/OH7UvkceY/BgGKAU+C5j8Zeia3uZLmPyzzwmwko+Y/P2xfIo+z5j9S5fvX+cPmP2VemI1k1OY/eNc0Q8/k5j+LUNH4OfXmP57Jba6kBec/sUIKZA8W5z/Eu6YZeibnP9c0Q8/kNuc/6q3fhE9H5z/9Jnw6ulfnPxCgGPAkaOc/Ixm1pY945z82klFb+ojnP0kL7hBlmec/XISKxs+p5z9v/SZ8OrrnP4J2wzGlyuc/le9f5w/b5z+oaPyceuvnP7vhmFLl++c/zlo1CFAM6D/h09G9uhzoP/RMbnMlLeg/B8YKKZA96D8aP6fe+k3oPy24Q5RlXug/QDHgSdBu6D9Tqnz/On/oP2YjGbWlj+g/eJy1ahCg6D+LFVIge7DoP56O7tXlwOg/sQeLi1DR6D/EgCdBu+HoP9f5w/Yl8ug/6nJgrJAC6T/96/xh+xLpPxBlmRdmI+k/I941zdAz6T82V9KCO0TpP0nQbjimVOk/XEkL7hBl6T9vwqeje3XpP4I7RFnmhek/lbTgDlGW6T+oLX3Eu6bpP7umGXomt+k/zh+2L5HH6T/hmFLl+9fpP/QR75pm6Ok/B4uLUNH46T8aBCgGPAnqPy19xLumGeo/QPZgcREq6j9Tb/0mfDrqP2bomdzmSuo/eWE2klFb6j+M2tJHvGvqP59Tb/0mfOo/sswLs5GM6j/FRaho/JzqP9i+RB5nreo/6zfh09G96j/+sH2JPM7qPxEqGj+n3uo/JKO29BHv6j83HFOqfP/qP0qV71/nD+s/XQ6MFVIg6z9whyjLvDDrP4MAxYAnQes/lnlhNpJR6z+p8v3r/GHrP7xrmqFncus/z+Q2V9KC6z/iXdMMPZPrP/XWb8Kno+s/CFAMeBK06z8byagtfcTrPy5CRePn1Os/QbvhmFLl6z9TNH5OvfXrP2atGgQoBuw/eSa3uZIW7D+Mn1Nv/SbsP58Y8CRoN+w/spGM2tJH7D/FCimQPVjsP9iDxUWoaOw/6/xh+xJ57D/+df6wfYnsPxHvmmbomew/JGg3HFOq7D834dPRvbrsP0pacIcoy+w/XdMMPZPb7D9wTKny/evsP4PFRaho/Ow/lj7iXdMM7T+pt34TPh3tP7wwG8moLe0/z6m3fhM+7T/iIlQ0fk7tP/Wb8OnoXu0/CBWNn1Nv7T8bjilVvn/tPy4HxgopkO0/QYBiwJOg7T9U+f51/rDtP2dymytpwe0/eus34dPR7T+NZNSWPuLtP6DdcEyp8u0/s1YNAhQD7j/Gz6m3fhPuP9lIRm3pI+4/7MHiIlQ07j//On/YvkTuPxK0G44pVe4/JS24Q5Rl7j84plT5/nXuP0sf8a5phu4/XpiNZNSW7j9xESoaP6fuP4SKxs+pt+4/lwNjhRTI7j+qfP86f9juP731m/Dp6O4/0G44plT57j/j59RbvwnvP/ZgcREqGu8/CdoNx5Qq7z8bU6p8/zrvPy7MRjJqS+8/QUXj59Rb7z9Uvn+dP2zvP2c3HFOqfO8/erC4CBWN7z+NKVW+f53vP6Ci8XPqre8/sxuOKVW+7z/GlCrfv87vP9kNx5Qq3+8/7IZjSpXv7z8AAAAAAADwPw==\",\"dtype\":\"float64\",\"shape\":[500]}},\"selected\":{\"id\":\"6051\",\"type\":\"Selection\"},\"selection_policy\":{\"id\":\"6050\",\"type\":\"UnionRenderers\"}},\"id\":\"5644\",\"type\":\"ColumnDataSource\"},{\"attributes\":{\"line_alpha\":0.1,\"line_color\":\"#1f77b4\",\"line_width\":0.5,\"x\":{\"field\":\"x\"},\"y\":{\"field\":\"y\"}},\"id\":\"5651\",\"type\":\"Line\"},{\"attributes\":{\"dimension\":1,\"grid_line_color\":{\"value\":\"#FFFFFF\"},\"grid_line_width\":{\"value\":0.75},\"plot\":{\"id\":\"5595\",\"subtype\":\"Figure\",\"type\":\"Plot\"},\"ticker\":{\"id\":\"5610\",\"type\":\"BasicTicker\"}},\"id\":\"5613\",\"type\":\"Grid\"},{\"attributes\":{},\"id\":\"5615\",\"type\":\"WheelZoomTool\"}],\"root_ids\":[\"5595\"]},\"title\":\"Bokeh Application\",\"version\":\"1.0.4\"}};\n",
       "  var render_items = [{\"docid\":\"df21e620-1be2-412b-b971-7e10934ac507\",\"roots\":{\"5595\":\"7b0d6cfa-c5e8-4aca-8700-a0409cbdd051\"}}];\n",
       "  root.Bokeh.embed.embed_items_notebook(docs_json, render_items);\n",
       "\n",
       "  }\n",
       "  if (root.Bokeh !== undefined) {\n",
       "    embed_document(root);\n",
       "  } else {\n",
       "    var attempts = 0;\n",
       "    var timer = setInterval(function(root) {\n",
       "      if (root.Bokeh !== undefined) {\n",
       "        embed_document(root);\n",
       "        clearInterval(timer);\n",
       "      }\n",
       "      attempts++;\n",
       "      if (attempts > 100) {\n",
       "        console.log(\"Bokeh: ERROR: Unable to run BokehJS code because BokehJS library is missing\");\n",
       "        clearInterval(timer);\n",
       "      }\n",
       "    }, 10, root)\n",
       "  }\n",
       "})(window);"
      ],
      "application/vnd.bokehjs_exec.v0+json": ""
     },
     "metadata": {
      "application/vnd.bokehjs_exec.v0+json": {
       "id": "5595"
      }
     },
     "output_type": "display_data"
    }
   ],
   "source": [
    "# Compute percentiles of the data.\n",
    "percentiles = [0.99, 0.95, 0.75, 0.5, 0.25, 0.1, 0.05, 0.01]\n",
    "cmap = bokeh.palettes.Purples9\n",
    "ax = bokeh.plotting.figure(width=600, height=400, \n",
    "                          x_axis_label='cell intensity [a.u.]',\n",
    "                         y_axis_label='cumulative distribution',\n",
    "                         x_axis_type='log')\n",
    "\n",
    "percentile_df = pd.DataFrame([])\n",
    "for g, d in ppc_df.groupby(['N1']):\n",
    "    x = np.sort(d['I1'].values) \n",
    "    y = np.linspace(0, 1, len(d))\n",
    "    ax.line(x, y, line_width=0.5, color=colors_list[0])\n",
    "\n",
    "bokeh.io.show(ax)"
   ]
  },
  {
   "cell_type": "markdown",
   "metadata": {},
   "source": [
    "These distributions look pretty good -- most of the generated intensities are between $10^2$ and $10^7$ a.u. per cell which is in line with what I would see in the extremes of my experiments. There s also barely any density below $1$ a.u. / cell, which is what we would want to see during the prior predictive checks. \n",
    "\n",
    "Satisfied with our choice of prior, we can now define the model using Stan, as given in the cell below. "
   ]
  },
  {
   "cell_type": "code",
   "execution_count": 15,
   "metadata": {},
   "outputs": [
    {
     "name": "stdout",
     "output_type": "stream",
     "text": [
      "Using pystan.stanc compiler..\n",
      "-------------------------------------------------------------------------------\n",
      "Model compiled successfully. Output stored in hier object.\n",
      "Type hier in a cell to see a nicely formatted code output in a notebook\n",
      "     ^^^^\n",
      "Access model compile output properties\n",
      "hier.model_file -> Name of stan_file [None]\n",
      "hier.model_name -> Name of stan model [None]\n",
      "hier.model_code -> Model code [functions{     /**   ....]\n"
     ]
    }
   ],
   "source": [
    "%%stan -v hier\n",
    "functions{\n",
    "    /** \n",
    "    * Approximate the Binomial distirubution for continuous variables \n",
    "    * as a ratio of Gamma functions \n",
    "    * \n",
    "    * @param I1: Observed fluorescence of daughter cell 1. \n",
    "    * @param I2: Observed fluorescence of daughter cell 2.\n",
    "    * @param alpha: Fluorescenc calibration factor in units of a.u. / molecule\n",
    "    * @param N: Total number of measurements \n",
    "    **/\n",
    "    real GammaApproxBinom_lpdf(vector I1, vector I2, real alpha) {\n",
    "        return sum(-log(alpha) + lgamma(((I1 + I2) ./ alpha) + 1) - lgamma((I1 ./ alpha) + 1) - lgamma((I2 ./ alpha) + 1) - ((I1 + I2) ./ alpha) * log(2));\n",
    "    } \n",
    "\n",
    "}\n",
    "     \n",
    "data {\n",
    "    int<lower=0> N; // Number of data points\n",
    "    vector<lower=0>[N] I1; // Observed fluorescence of daughter cell 1\n",
    "    vector<lower=0>[N] I2; // Observed fluorescence of daughter cell 2\n",
    "}\n",
    "\n",
    "\n",
    "parameters {\n",
    "    // Generate entered parameters\n",
    "    real<lower=0> alpha;\n",
    "}\n",
    "\n",
    "transformed parameters { \n",
    "    real log_alpha = log(alpha);\n",
    "}\n",
    "model {     \n",
    "    log_alpha ~ normal(3, 3);\n",
    "    I1 ~ GammaApproxBinom(I2, alpha);  \n",
    "}\n"
   ]
  },
  {
   "cell_type": "code",
   "execution_count": 40,
   "metadata": {},
   "outputs": [
    {
     "name": "stdout",
     "output_type": "stream",
     "text": [
      "Using pystan.stanc compiler..\n",
      "-------------------------------------------------------------------------------\n",
      "Model compiled successfully. Output stored in proper object.\n",
      "Type proper in a cell to see a nicely formatted code output in a notebook\n",
      "     ^^^^^^\n",
      "Access model compile output properties\n",
      "proper.model_file -> Name of stan_file [None]\n",
      "proper.model_name -> Name of stan model [None]\n",
      "proper.model_code -> Model code [data {     int<lower ....]\n"
     ]
    }
   ],
   "source": [
    "%%stan -v proper\n",
    "data {\n",
    "    int<lower=1> N;\n",
    "    vector<lower=0>[N] I1;\n",
    "    vector<lower=0>[N] I2;\n",
    "}\n",
    "\n",
    "parameters {\n",
    "    vector<lower=0>[N] n_tot;\n",
    "    vector<lower=0>[N] n1;\n",
    "    real<lower=0> alpha;\n",
    "    real<lower=0> sigma;\n",
    "}\n",
    "\n",
    "model {\n",
    "    vector[N] n2;\n",
    "    n_tot ~ lognormal(3, 3);\n",
    "    sigma ~ normal(0, 1);\n",
    "    alpha ~ lognormal(3, 3);\n",
    "    n1 ~ normal(n_tot/2, n_tot/4);\n",
    "    n2 = n_tot - n1;\n",
    "    I1 ~ normal(alpha * n1, sigma);\n",
    "    I2 ~ normal(alpha * n2, sigma);\n",
    "}"
   ]
  },
  {
   "cell_type": "code",
   "execution_count": 41,
   "metadata": {},
   "outputs": [
    {
     "name": "stderr",
     "output_type": "stream",
     "text": [
      "INFO:pystan:COMPILING THE C++ CODE FOR MODEL anon_model_e990100cd3b0f8139db2a753eb929f1c NOW.\n",
      "/anaconda3/lib/python3.6/site-packages/Cython/Compiler/Main.py:367: FutureWarning: Cython directive 'language_level' not set, using 2 for now (Py2). This will change in a later release! File: /var/folders/2q/lvh2zsws3lxckq8xtkn_84z80000gn/T/tmphvxr68yq/stanfit4anon_model_e990100cd3b0f8139db2a753eb929f1c_6693636796176802354.pyx\n",
      "  tree = Parsing.p_module(s, pxd, full_module_name)\n"
     ]
    }
   ],
   "source": [
    "# Compile the model \n",
    "model = pystan.StanModel(model_code=proper.model_code)"
   ]
  },
  {
   "cell_type": "markdown",
   "metadata": {},
   "source": [
    "## Computational Tractability"
   ]
  },
  {
   "cell_type": "markdown",
   "metadata": {},
   "source": [
    "Our next step in the workflow is to ensure that our model is well specified and computationally accessible. To do so, we perform [Simulation Based Calibration]() as put forward by Talts. et al. in 2018. To do so, given the draws from the prior, we generate $M$ simulated data sets for the partitioning with $N$ divisions each, where the intensity is dicted by the draw from the $\\alpha$ prior distribution. Using this data set, we then perform inference on these data and compare the data-averaged posterior distribution for $\\alpha$ to the true prior distribution. If everything works as expected, we should recover the prior distribution and have uniformly distributed rank statistics. In addition, we can check the degree to which the prior distribution shrinks (shrinkage) as well as the $z-$score, which quantifies how accurately the posterior captures the model configuration.\n",
    "\n",
    "To permit direct comparison between inferential runs, we will use the same randomly generated protein copy numbers and only change the measured intensity $I$. "
   ]
  },
  {
   "cell_type": "code",
   "execution_count": 50,
   "metadata": {},
   "outputs": [],
   "source": [
    "# Define the number of divisions\n",
    "n_tot = np.random.gamma(10, 10, M).astype(int)\n",
    "n1 = np.random.binomial(n_tot, p=0.5)\n",
    "n2 = n_tot - n1\n",
    "\n",
    "# Define a function to evaluate a single run. \n",
    "def sbc(alpha):\n",
    "        df = pd.DataFrame([])\n",
    "        # Compute intensities\n",
    "        I1 = n1 * alpha\n",
    "        I2 = n2 * alpha\n",
    "    \n",
    "        # Perform inference. \n",
    "        samples = model.sampling(dict(N=M, I1=I1, I2=I2), iter=5000, n_jobs=1, thin=5,\n",
    "                                control=dict(adapt_delta=0.95))\n",
    "        samples = samples.to_dataframe()\n",
    "    \n",
    "        # Compute the statistics. \n",
    "        samples['alpha'] = np.exp(samples['alpha'])\n",
    "        mean_alpha = np.mean(samples['alpha'])\n",
    "        shrinkage = 1 - (np.var(samples['alpha']) / np.var(alpha_draws))\n",
    "        z_score = (mean_alpha - alpha) / np.std(samples['alpha'])\n",
    "        df = df.append(dict(alpha_true=alpha, mean_alpha=mean_alpha, \n",
    "                           shrinkage=shrinkage, z_score=z_score), ignore_index=True)\n",
    "        return df"
   ]
  },
  {
   "cell_type": "code",
   "execution_count": null,
   "metadata": {},
   "outputs": [],
   "source": [
    "result = joblib.Parallel(n_jobs=3)(joblib.delayed(sbc)(a) for a in alpha_draws)"
   ]
  },
  {
   "cell_type": "code",
   "execution_count": null,
   "metadata": {},
   "outputs": [],
   "source": [
    "sbc_df = pd.concat(result)\n",
    "# Compute the rank statistic. \n",
    "rank = [np.sum(sbc_df['mean_alpha'] < a) for a in alpha_draws]\n",
    "sbc_df['rank'] = rank\n",
    "sbc_df.to_csv('../../data/sbc_calibration_factor.csv', index=False)"
   ]
  },
  {
   "cell_type": "code",
   "execution_count": 25,
   "metadata": {},
   "outputs": [
    {
     "data": {
      "text/plain": [
       "[<matplotlib.lines.Line2D at 0x1c24247518>]"
      ]
     },
     "execution_count": 25,
     "metadata": {},
     "output_type": "execute_result"
    },
    {
     "data": {
      "image/png": "[encoded data removed]",
      "text/plain": [
       "<Figure size 432x288 with 1 Axes>"
      ]
     },
     "metadata": {
      "needs_background": "light"
     },
     "output_type": "display_data"
    }
   ],
   "source": [
    "ax = bokeh.plotting.figure(width=600, height=400, x_axis_label='rank statistic', y_axis_label='cumulative distribution')\n",
    "ax.step(np.sort(sbc_df['rank']), np.linspace(0, 1, len(sbc_df)), color=colors['dark_purple'])\n",
    "bokeh.io.show(ax)"
   ]
  },
  {
   "cell_type": "code",
   "execution_count": 28,
   "metadata": {},
   "outputs": [
    {
     "data": {
      "text/plain": [
       "(-5, 5)"
      ]
     },
     "execution_count": 28,
     "metadata": {},
     "output_type": "execute_result"
    },
    {
     "data": {
      "image/png": "[encoded data removed]",
      "text/plain": [
       "<Figure size 432x288 with 1 Axes>"
      ]
     },
     "metadata": {
      "needs_background": "light"
     },
     "output_type": "display_data"
    }
   ],
   "source": [
    "plt.plot(sbc_df['shrinkage'], sbc_df['z_score'], '.')\n",
    "plt.xlim([0, 1])\n",
    "plt.ylim([-5, 5])"
   ]
  },
  {
   "cell_type": "code",
   "execution_count": 24,
   "metadata": {},
   "outputs": [
    {
     "data": {
      "text/plain": [
       "(array([86.,  3.,  4.,  2.,  1.,  0.,  0.,  1.,  1.,  0.,  0.,  0.,  0.,\n",
       "         0.,  0.,  0.,  0.,  1.,  0.,  0.,  0.,  0.,  0.,  0.,  0.,  0.,\n",
       "         0.,  0.,  0.,  0.,  0.,  0.,  0.,  0.,  0.,  0.,  0.,  0.,  0.,\n",
       "         0.,  0.,  0.,  0.,  0.,  0.,  0.,  0.,  0.,  0.,  0.,  0.,  0.,\n",
       "         0.,  0.,  0.,  0.,  0.,  0.,  0.,  0.,  0.,  0.,  0.,  0.,  0.,\n",
       "         0.,  0.,  0.,  0.,  0.,  0.,  0.,  0.,  0.,  0.,  0.,  0.,  0.,\n",
       "         0.,  0.,  0.,  0.,  0.,  0.,  0.,  0.,  0.,  0.,  0.,  0.,  0.,\n",
       "         0.,  0.,  0.,  0.,  0.,  0.,  0.,  0.,  1.]),\n",
       " array([2.96488903e-02, 3.95394404e+02, 7.90759160e+02, 1.18612392e+03,\n",
       "        1.58148867e+03, 1.97685343e+03, 2.37221818e+03, 2.76758294e+03,\n",
       "        3.16294769e+03, 3.55831245e+03, 3.95367720e+03, 4.34904196e+03,\n",
       "        4.74440671e+03, 5.13977147e+03, 5.53513623e+03, 5.93050098e+03,\n",
       "        6.32586574e+03, 6.72123049e+03, 7.11659525e+03, 7.51196000e+03,\n",
       "        7.90732476e+03, 8.30268951e+03, 8.69805427e+03, 9.09341902e+03,\n",
       "        9.48878378e+03, 9.88414853e+03, 1.02795133e+04, 1.06748780e+04,\n",
       "        1.10702428e+04, 1.14656076e+04, 1.18609723e+04, 1.22563371e+04,\n",
       "        1.26517018e+04, 1.30470666e+04, 1.34424313e+04, 1.38377961e+04,\n",
       "        1.42331608e+04, 1.46285256e+04, 1.50238904e+04, 1.54192551e+04,\n",
       "        1.58146199e+04, 1.62099846e+04, 1.66053494e+04, 1.70007141e+04,\n",
       "        1.73960789e+04, 1.77914436e+04, 1.81868084e+04, 1.85821732e+04,\n",
       "        1.89775379e+04, 1.93729027e+04, 1.97682674e+04, 2.01636322e+04,\n",
       "        2.05589969e+04, 2.09543617e+04, 2.13497264e+04, 2.17450912e+04,\n",
       "        2.21404560e+04, 2.25358207e+04, 2.29311855e+04, 2.33265502e+04,\n",
       "        2.37219150e+04, 2.41172797e+04, 2.45126445e+04, 2.49080092e+04,\n",
       "        2.53033740e+04, 2.56987388e+04, 2.60941035e+04, 2.64894683e+04,\n",
       "        2.68848330e+04, 2.72801978e+04, 2.76755625e+04, 2.80709273e+04,\n",
       "        2.84662920e+04, 2.88616568e+04, 2.92570216e+04, 2.96523863e+04,\n",
       "        3.00477511e+04, 3.04431158e+04, 3.08384806e+04, 3.12338453e+04,\n",
       "        3.16292101e+04, 3.20245748e+04, 3.24199396e+04, 3.28153044e+04,\n",
       "        3.32106691e+04, 3.36060339e+04, 3.40013986e+04, 3.43967634e+04,\n",
       "        3.47921281e+04, 3.51874929e+04, 3.55828576e+04, 3.59782224e+04,\n",
       "        3.63735871e+04, 3.67689519e+04, 3.71643167e+04, 3.75596814e+04,\n",
       "        3.79550462e+04, 3.83504109e+04, 3.87457757e+04, 3.91411404e+04,\n",
       "        3.95365052e+04]),\n",
       " <a list of 100 Patch objects>)"
      ]
     },
     "execution_count": 24,
     "metadata": {},
     "output_type": "execute_result"
    },
    {
     "data": {
      "image/png": "[encoded data removed]",
      "text/plain": [
       "<Figure size 432x288 with 1 Axes>"
      ]
     },
     "metadata": {
      "needs_background": "light"
     },
     "output_type": "display_data"
    }
   ],
   "source": [
    "\n",
    "plt.hist(sbc_df['mean_alpha'], bins=100)\n",
    "# plt.xscale('log')"
   ]
  },
  {
   "cell_type": "code",
   "execution_count": 23,
   "metadata": {},
   "outputs": [
    {
     "name": "stderr",
     "output_type": "stream",
     "text": [
      "ERROR:root:Internal Python error in the inspect module.\n",
      "Below is the traceback from this internal error.\n",
      "\n",
      "INFO:root:\n",
      "Unfortunately, your original traceback can not be constructed.\n",
      "\n"
     ]
    },
    {
     "name": "stdout",
     "output_type": "stream",
     "text": [
      "Traceback (most recent call last):\n",
      "  File \"/anaconda3/lib/python3.6/site-packages/IPython/core/interactiveshell.py\", line 3267, in run_code\n",
      "    exec(code_obj, self.user_global_ns, self.user_ns)\n",
      "  File \"<ipython-input-23-6662d88c9822>\", line 1, in <module>\n",
      "    output = joblib.Parallel(n_jobs=mp.cpu_count())(joblib.delayed(sbc)(a) for a in alpha_draws)\n",
      "  File \"/anaconda3/lib/python3.6/site-packages/joblib/parallel.py\", line 996, in __call__\n",
      "    self.retrieve()\n",
      "  File \"/anaconda3/lib/python3.6/site-packages/joblib/parallel.py\", line 899, in retrieve\n",
      "    self._output.extend(job.get(timeout=self.timeout))\n",
      "  File \"/anaconda3/lib/python3.6/site-packages/joblib/_parallel_backends.py\", line 517, in wrap_future_result\n",
      "    return future.result(timeout=timeout)\n",
      "  File \"/anaconda3/lib/python3.6/concurrent/futures/_base.py\", line 427, in result\n",
      "    self._condition.wait(timeout)\n",
      "  File \"/anaconda3/lib/python3.6/threading.py\", line 295, in wait\n",
      "    waiter.acquire()\n",
      "KeyboardInterrupt\n",
      "\n",
      "During handling of the above exception, another exception occurred:\n",
      "\n",
      "Traceback (most recent call last):\n",
      "  File \"/anaconda3/lib/python3.6/site-packages/IPython/core/interactiveshell.py\", line 2018, in showtraceback\n",
      "    stb = value._render_traceback_()\n",
      "AttributeError: 'KeyboardInterrupt' object has no attribute '_render_traceback_'\n",
      "\n",
      "During handling of the above exception, another exception occurred:\n",
      "\n",
      "Traceback (most recent call last):\n",
      "  File \"/anaconda3/lib/python3.6/site-packages/IPython/core/ultratb.py\", line 1095, in get_records\n",
      "    return _fixed_getinnerframes(etb, number_of_lines_of_context, tb_offset)\n",
      "  File \"/anaconda3/lib/python3.6/site-packages/IPython/core/ultratb.py\", line 313, in wrapped\n",
      "    return f(*args, **kwargs)\n",
      "  File \"/anaconda3/lib/python3.6/site-packages/IPython/core/ultratb.py\", line 347, in _fixed_getinnerframes\n",
      "    records = fix_frame_records_filenames(inspect.getinnerframes(etb, context))\n",
      "  File \"/anaconda3/lib/python3.6/inspect.py\", line 1488, in getinnerframes\n",
      "    frameinfo = (tb.tb_frame,) + getframeinfo(tb, context)\n",
      "  File \"/anaconda3/lib/python3.6/inspect.py\", line 1446, in getframeinfo\n",
      "    filename = getsourcefile(frame) or getfile(frame)\n",
      "  File \"/anaconda3/lib/python3.6/inspect.py\", line 696, in getsourcefile\n",
      "    if getattr(getmodule(object, filename), '__loader__', None) is not None:\n",
      "  File \"/anaconda3/lib/python3.6/inspect.py\", line 742, in getmodule\n",
      "    os.path.realpath(f)] = module.__name__\n",
      "  File \"/anaconda3/lib/python3.6/posixpath.py\", line 388, in realpath\n",
      "    path, ok = _joinrealpath(filename[:0], filename, {})\n",
      "  File \"/anaconda3/lib/python3.6/posixpath.py\", line 422, in _joinrealpath\n",
      "    if not islink(newpath):\n",
      "  File \"/anaconda3/lib/python3.6/posixpath.py\", line 174, in islink\n",
      "    return stat.S_ISLNK(st.st_mode)\n",
      "KeyboardInterrupt\n"
     ]
    },
    {
     "ename": "KeyboardInterrupt",
     "evalue": "",
     "output_type": "error",
     "traceback": [
      "\u001b[0;31m---------------------------------------------------------------------------\u001b[0m"
     ]
    }
   ],
   "source": [
    "output = joblib.Parallel(n_jobs=mp.cpu_count())(joblib.delayed(sbc)(a) for a in alpha_draws)"
   ]
  },
  {
   "cell_type": "code",
   "execution_count": null,
   "metadata": {},
   "outputs": [],
   "source": [
    "# Compute the rank statistic.\n",
    "sbc_df['rank_statistic'] = np.array([np.sum(sbc_df['mean_alpha'] <= a) for a in alpha_draws])"
   ]
  },
  {
   "cell_type": "code",
   "execution_count": null,
   "metadata": {},
   "outputs": [],
   "source": [
    "a = procs[0]"
   ]
  },
  {
   "cell_type": "code",
   "execution_count": null,
   "metadata": {},
   "outputs": [],
   "source": []
  },
  {
   "cell_type": "code",
   "execution_count": null,
   "metadata": {},
   "outputs": [],
   "source": [
    "a.is_alive()"
   ]
  },
  {
   "cell_type": "code",
   "execution_count": null,
   "metadata": {},
   "outputs": [],
   "source": [
    "%%stan -v hier\n",
    "functions{\n",
    "    /** \n",
    "    * Approximate the Binomial distirubution for continuous variables \n",
    "    * as a ratio of Gamma functions \n",
    "    * \n",
    "    * @param I1: Observed fluorescence of daughter cell 1. \n",
    "    * @param I2: Observed fluorescence of daughter cell 2.\n",
    "    * @param alpha: Fluorescenc calibration factor in units of a.u. / molecule\n",
    "    * @param N: Total number of measurements \n",
    "    **/\n",
    "    real GammaApproxBinom_lpdf(vector I1, vector I2, real alpha) {\n",
    "        return sum(-log(alpha) + lgamma(((I1 + I2) ./ alpha) + 1) - lgamma((I1 ./ alpha) + 1) - lgamma((I2 ./ alpha) + 1) - ((I1 + I2) ./ alpha) * log(2));\n",
    "    } \n",
    "\n",
    "}\n",
    "     \n",
    "data {\n",
    "    int<lower=0> N; // Number of data points\n",
    "    vector<lower=0>[N] I1; // Observed fluorescence of daughter cell 1\n",
    "    vector<lower=0>[N] I2; // Observed fluorescence of daughter cell 2\n",
    "}\n",
    "\n",
    "parameters {\n",
    "    // Generate non-centered modifiers\n",
    "    real<lower=0> alpha_mu;\n",
    "    real alpha_raw; \n",
    "    real<lower=0> tau;\n",
    "}\n",
    "\n",
    "transformed parameters{\n",
    "    real alpha = alpha_mu + tau * alpha_raw;\n",
    "}\n",
    "\n",
    "\n",
    "model {    \n",
    "    alpha_raw ~ normal(0, 2);\n",
    "    alpha_mu ~ lognormal(2, 2);\n",
    "    tau ~ normal(0, 1);\n",
    "    I1 ~ GammaApproxBinom(I2, alpha);  \n",
    "}\n"
   ]
  },
  {
   "cell_type": "code",
   "execution_count": 36,
   "metadata": {},
   "outputs": [
    {
     "name": "stderr",
     "output_type": "stream",
     "text": [
      "INFO:pystan:COMPILING THE C++ CODE FOR MODEL anon_model_8279ca5d8b472d53461b0ef41ed5fb07 NOW.\n",
      "/anaconda3/lib/python3.6/site-packages/Cython/Compiler/Main.py:367: FutureWarning: Cython directive 'language_level' not set, using 2 for now (Py2). This will change in a later release! File: /var/folders/2q/lvh2zsws3lxckq8xtkn_84z80000gn/T/tmpcrh9exh8/stanfit4anon_model_8279ca5d8b472d53461b0ef41ed5fb07_8943798297178481699.pyx\n",
      "  tree = Parsing.p_module(s, pxd, full_module_name)\n"
     ]
    }
   ],
   "source": [
    "model = pystan.StanModel(model_code=hier.model_code)"
   ]
  },
  {
   "cell_type": "code",
   "execution_count": 37,
   "metadata": {},
   "outputs": [],
   "source": [
    "data_dict = {'N': len(df), 'I1':df['I1'], 'I2':df['I2']};\n",
    "samples = model.sampling(data_dict, iter=1000)"
   ]
  },
  {
   "cell_type": "code",
   "execution_count": 38,
   "metadata": {},
   "outputs": [
    {
     "data": {
      "text/plain": [
       "Inference for Stan model: anon_model_8279ca5d8b472d53461b0ef41ed5fb07.\n",
       "4 chains, each with iter=1000; warmup=500; thin=1; \n",
       "post-warmup draws per chain=500, total post-warmup draws=2000.\n",
       "\n",
       "            mean se_mean     sd   2.5%    25%    50%    75%  97.5%  n_eff   Rhat\n",
       "alpha_mu  141.52    0.28   9.34 123.24  135.4 141.35 147.46 160.41   1121    1.0\n",
       "alpha_raw   0.08    0.05   1.98  -3.65  -1.29   0.06   1.39   4.11   1406    1.0\n",
       "tau         0.82    0.02   0.59   0.04   0.35   0.71   1.17   2.24   1502    1.0\n",
       "alpha     141.59    0.26   9.17 123.83 135.35 141.43 147.41 159.95   1227    1.0\n",
       "lp__       -3990    0.05   1.31  -3993  -3990  -3989  -3989  -3988    650    1.0\n",
       "\n",
       "Samples were drawn using NUTS at Fri Feb 15 16:15:28 2019.\n",
       "For each parameter, n_eff is a crude measure of effective sample size,\n",
       "and Rhat is the potential scale reduction factor on split chains (at \n",
       "convergence, Rhat=1)."
      ]
     },
     "execution_count": 38,
     "metadata": {},
     "output_type": "execute_result"
    }
   ],
   "source": [
    "samples"
   ]
  },
  {
   "cell_type": "code",
   "execution_count": null,
   "metadata": {},
   "outputs": [],
   "source": []
  }
 ],
 "metadata": {
  "kernelspec": {
   "display_name": "Python 3",
   "language": "python",
   "name": "python3"
  },
  "language_info": {
   "codemirror_mode": {
    "name": "ipython",
    "version": 3
   },
   "file_extension": ".py",
   "mimetype": "text/x-python",
   "name": "python",
   "nbconvert_exporter": "python",
   "pygments_lexer": "ipython3",
   "version": "3.6.7"
  }
 },
 "nbformat": 4,
 "nbformat_minor": 2
}
