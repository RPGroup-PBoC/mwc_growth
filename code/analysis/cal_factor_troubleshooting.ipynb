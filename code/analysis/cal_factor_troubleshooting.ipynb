{
 "cells": [
  {
   "cell_type": "markdown",
   "metadata": {},
   "source": [
    "# Computing the calibration factor (in progress)"
   ]
  },
  {
   "cell_type": "code",
   "execution_count": 1,
   "metadata": {},
   "outputs": [
    {
     "data": {
      "text/html": [
       "\n",
       "    <div class=\"bk-root\">\n",
       "        <a href=\"https://bokeh.pydata.org\" target=\"_blank\" class=\"bk-logo bk-logo-small bk-logo-notebook\"></a>\n",
       "        <span id=\"1001\">Loading BokehJS ...</span>\n",
       "    </div>"
      ]
     },
     "metadata": {},
     "output_type": "display_data"
    },
    {
     "data": {
      "application/javascript": [
       "\n",
       "(function(root) {\n",
       "  function now() {\n",
       "    return new Date();\n",
       "  }\n",
       "\n",
       "  var force = true;\n",
       "\n",
       "  if (typeof root._bokeh_onload_callbacks === \"undefined\" || force === true) {\n",
       "    root._bokeh_onload_callbacks = [];\n",
       "    root._bokeh_is_loading = undefined;\n",
       "  }\n",
       "\n",
       "  var JS_MIME_TYPE = 'application/javascript';\n",
       "  var HTML_MIME_TYPE = 'text/html';\n",
       "  var EXEC_MIME_TYPE = 'application/vnd.bokehjs_exec.v0+json';\n",
       "  var CLASS_NAME = 'output_bokeh rendered_html';\n",
       "\n",
       "  /**\n",
       "   * Render data to the DOM node\n",
       "   */\n",
       "  function render(props, node) {\n",
       "    var script = document.createElement(\"script\");\n",
       "    node.appendChild(script);\n",
       "  }\n",
       "\n",
       "  /**\n",
       "   * Handle when an output is cleared or removed\n",
       "   */\n",
       "  function handleClearOutput(event, handle) {\n",
       "    var cell = handle.cell;\n",
       "\n",
       "    var id = cell.output_area._bokeh_element_id;\n",
       "    var server_id = cell.output_area._bokeh_server_id;\n",
       "    // Clean up Bokeh references\n",
       "    if (id != null && id in Bokeh.index) {\n",
       "      Bokeh.index[id].model.document.clear();\n",
       "      delete Bokeh.index[id];\n",
       "    }\n",
       "\n",
       "    if (server_id !== undefined) {\n",
       "      // Clean up Bokeh references\n",
       "      var cmd = \"from bokeh.io.state import curstate; print(curstate().uuid_to_server['\" + server_id + \"'].get_sessions()[0].document.roots[0]._id)\";\n",
       "      cell.notebook.kernel.execute(cmd, {\n",
       "        iopub: {\n",
       "          output: function(msg) {\n",
       "            var id = msg.content.text.trim();\n",
       "            if (id in Bokeh.index) {\n",
       "              Bokeh.index[id].model.document.clear();\n",
       "              delete Bokeh.index[id];\n",
       "            }\n",
       "          }\n",
       "        }\n",
       "      });\n",
       "      // Destroy server and session\n",
       "      var cmd = \"import bokeh.io.notebook as ion; ion.destroy_server('\" + server_id + \"')\";\n",
       "      cell.notebook.kernel.execute(cmd);\n",
       "    }\n",
       "  }\n",
       "\n",
       "  /**\n",
       "   * Handle when a new output is added\n",
       "   */\n",
       "  function handleAddOutput(event, handle) {\n",
       "    var output_area = handle.output_area;\n",
       "    var output = handle.output;\n",
       "\n",
       "    // limit handleAddOutput to display_data with EXEC_MIME_TYPE content only\n",
       "    if ((output.output_type != \"display_data\") || (!output.data.hasOwnProperty(EXEC_MIME_TYPE))) {\n",
       "      return\n",
       "    }\n",
       "\n",
       "    var toinsert = output_area.element.find(\".\" + CLASS_NAME.split(' ')[0]);\n",
       "\n",
       "    if (output.metadata[EXEC_MIME_TYPE][\"id\"] !== undefined) {\n",
       "      toinsert[toinsert.length - 1].firstChild.textContent = output.data[JS_MIME_TYPE];\n",
       "      // store reference to embed id on output_area\n",
       "      output_area._bokeh_element_id = output.metadata[EXEC_MIME_TYPE][\"id\"];\n",
       "    }\n",
       "    if (output.metadata[EXEC_MIME_TYPE][\"server_id\"] !== undefined) {\n",
       "      var bk_div = document.createElement(\"div\");\n",
       "      bk_div.innerHTML = output.data[HTML_MIME_TYPE];\n",
       "      var script_attrs = bk_div.children[0].attributes;\n",
       "      for (var i = 0; i < script_attrs.length; i++) {\n",
       "        toinsert[toinsert.length - 1].firstChild.setAttribute(script_attrs[i].name, script_attrs[i].value);\n",
       "      }\n",
       "      // store reference to server id on output_area\n",
       "      output_area._bokeh_server_id = output.metadata[EXEC_MIME_TYPE][\"server_id\"];\n",
       "    }\n",
       "  }\n",
       "\n",
       "  function register_renderer(events, OutputArea) {\n",
       "\n",
       "    function append_mime(data, metadata, element) {\n",
       "      // create a DOM node to render to\n",
       "      var toinsert = this.create_output_subarea(\n",
       "        metadata,\n",
       "        CLASS_NAME,\n",
       "        EXEC_MIME_TYPE\n",
       "      );\n",
       "      this.keyboard_manager.register_events(toinsert);\n",
       "      // Render to node\n",
       "      var props = {data: data, metadata: metadata[EXEC_MIME_TYPE]};\n",
       "      render(props, toinsert[toinsert.length - 1]);\n",
       "      element.append(toinsert);\n",
       "      return toinsert\n",
       "    }\n",
       "\n",
       "    /* Handle when an output is cleared or removed */\n",
       "    events.on('clear_output.CodeCell', handleClearOutput);\n",
       "    events.on('delete.Cell', handleClearOutput);\n",
       "\n",
       "    /* Handle when a new output is added */\n",
       "    events.on('output_added.OutputArea', handleAddOutput);\n",
       "\n",
       "    /**\n",
       "     * Register the mime type and append_mime function with output_area\n",
       "     */\n",
       "    OutputArea.prototype.register_mime_type(EXEC_MIME_TYPE, append_mime, {\n",
       "      /* Is output safe? */\n",
       "      safe: true,\n",
       "      /* Index of renderer in `output_area.display_order` */\n",
       "      index: 0\n",
       "    });\n",
       "  }\n",
       "\n",
       "  // register the mime type if in Jupyter Notebook environment and previously unregistered\n",
       "  if (root.Jupyter !== undefined) {\n",
       "    var events = require('base/js/events');\n",
       "    var OutputArea = require('notebook/js/outputarea').OutputArea;\n",
       "\n",
       "    if (OutputArea.prototype.mime_types().indexOf(EXEC_MIME_TYPE) == -1) {\n",
       "      register_renderer(events, OutputArea);\n",
       "    }\n",
       "  }\n",
       "\n",
       "  \n",
       "  if (typeof (root._bokeh_timeout) === \"undefined\" || force === true) {\n",
       "    root._bokeh_timeout = Date.now() + 5000;\n",
       "    root._bokeh_failed_load = false;\n",
       "  }\n",
       "\n",
       "  var NB_LOAD_WARNING = {'data': {'text/html':\n",
       "     \"<div style='background-color: #fdd'>\\n\"+\n",
       "     \"<p>\\n\"+\n",
       "     \"BokehJS does not appear to have successfully loaded. If loading BokehJS from CDN, this \\n\"+\n",
       "     \"may be due to a slow or bad network connection. Possible fixes:\\n\"+\n",
       "     \"</p>\\n\"+\n",
       "     \"<ul>\\n\"+\n",
       "     \"<li>re-rerun `output_notebook()` to attempt to load from CDN again, or</li>\\n\"+\n",
       "     \"<li>use INLINE resources instead, as so:</li>\\n\"+\n",
       "     \"</ul>\\n\"+\n",
       "     \"<code>\\n\"+\n",
       "     \"from bokeh.resources import INLINE\\n\"+\n",
       "     \"output_notebook(resources=INLINE)\\n\"+\n",
       "     \"</code>\\n\"+\n",
       "     \"</div>\"}};\n",
       "\n",
       "  function display_loaded() {\n",
       "    var el = document.getElementById(\"1001\");\n",
       "    if (el != null) {\n",
       "      el.textContent = \"BokehJS is loading...\";\n",
       "    }\n",
       "    if (root.Bokeh !== undefined) {\n",
       "      if (el != null) {\n",
       "        el.textContent = \"BokehJS \" + root.Bokeh.version + \" successfully loaded.\";\n",
       "      }\n",
       "    } else if (Date.now() < root._bokeh_timeout) {\n",
       "      setTimeout(display_loaded, 100)\n",
       "    }\n",
       "  }\n",
       "\n",
       "\n",
       "  function run_callbacks() {\n",
       "    try {\n",
       "      root._bokeh_onload_callbacks.forEach(function(callback) {\n",
       "        if (callback != null)\n",
       "          callback();\n",
       "      });\n",
       "    } finally {\n",
       "      delete root._bokeh_onload_callbacks\n",
       "    }\n",
       "    console.debug(\"Bokeh: all callbacks have finished\");\n",
       "  }\n",
       "\n",
       "  function load_libs(css_urls, js_urls, callback) {\n",
       "    if (css_urls == null) css_urls = [];\n",
       "    if (js_urls == null) js_urls = [];\n",
       "\n",
       "    root._bokeh_onload_callbacks.push(callback);\n",
       "    if (root._bokeh_is_loading > 0) {\n",
       "      console.debug(\"Bokeh: BokehJS is being loaded, scheduling callback at\", now());\n",
       "      return null;\n",
       "    }\n",
       "    if (js_urls == null || js_urls.length === 0) {\n",
       "      run_callbacks();\n",
       "      return null;\n",
       "    }\n",
       "    console.debug(\"Bokeh: BokehJS not loaded, scheduling load and callback at\", now());\n",
       "    root._bokeh_is_loading = css_urls.length + js_urls.length;\n",
       "\n",
       "    function on_load() {\n",
       "      root._bokeh_is_loading--;\n",
       "      if (root._bokeh_is_loading === 0) {\n",
       "        console.debug(\"Bokeh: all BokehJS libraries/stylesheets loaded\");\n",
       "        run_callbacks()\n",
       "      }\n",
       "    }\n",
       "\n",
       "    function on_error() {\n",
       "      console.error(\"failed to load \" + url);\n",
       "    }\n",
       "\n",
       "    for (var i = 0; i < css_urls.length; i++) {\n",
       "      var url = css_urls[i];\n",
       "      const element = document.createElement(\"link\");\n",
       "      element.onload = on_load;\n",
       "      element.onerror = on_error;\n",
       "      element.rel = \"stylesheet\";\n",
       "      element.type = \"text/css\";\n",
       "      element.href = url;\n",
       "      console.debug(\"Bokeh: injecting link tag for BokehJS stylesheet: \", url);\n",
       "      document.body.appendChild(element);\n",
       "    }\n",
       "\n",
       "    for (var i = 0; i < js_urls.length; i++) {\n",
       "      var url = js_urls[i];\n",
       "      var element = document.createElement('script');\n",
       "      element.onload = on_load;\n",
       "      element.onerror = on_error;\n",
       "      element.async = false;\n",
       "      element.src = url;\n",
       "      console.debug(\"Bokeh: injecting script tag for BokehJS library: \", url);\n",
       "      document.head.appendChild(element);\n",
       "    }\n",
       "  };var element = document.getElementById(\"1001\");\n",
       "  if (element == null) {\n",
       "    console.error(\"Bokeh: ERROR: autoload.js configured with elementid '1001' but no matching script tag was found. \")\n",
       "    return false;\n",
       "  }\n",
       "\n",
       "  function inject_raw_css(css) {\n",
       "    const element = document.createElement(\"style\");\n",
       "    element.appendChild(document.createTextNode(css));\n",
       "    document.body.appendChild(element);\n",
       "  }\n",
       "\n",
       "  var js_urls = [\"https://cdn.pydata.org/bokeh/release/bokeh-1.2.0.min.js\", \"https://cdn.pydata.org/bokeh/release/bokeh-widgets-1.2.0.min.js\", \"https://cdn.pydata.org/bokeh/release/bokeh-tables-1.2.0.min.js\", \"https://cdn.pydata.org/bokeh/release/bokeh-gl-1.2.0.min.js\"];\n",
       "  var css_urls = [\"https://cdn.pydata.org/bokeh/release/bokeh-1.2.0.min.css\", \"https://cdn.pydata.org/bokeh/release/bokeh-widgets-1.2.0.min.css\", \"https://cdn.pydata.org/bokeh/release/bokeh-tables-1.2.0.min.css\"];\n",
       "\n",
       "  var inline_js = [\n",
       "    function(Bokeh) {\n",
       "      Bokeh.set_log_level(\"info\");\n",
       "    },\n",
       "    \n",
       "    function(Bokeh) {\n",
       "      \n",
       "    },\n",
       "    function(Bokeh) {} // ensure no trailing comma for IE\n",
       "  ];\n",
       "\n",
       "  function run_inline_js() {\n",
       "    \n",
       "    if ((root.Bokeh !== undefined) || (force === true)) {\n",
       "      for (var i = 0; i < inline_js.length; i++) {\n",
       "        inline_js[i].call(root, root.Bokeh);\n",
       "      }if (force === true) {\n",
       "        display_loaded();\n",
       "      }} else if (Date.now() < root._bokeh_timeout) {\n",
       "      setTimeout(run_inline_js, 100);\n",
       "    } else if (!root._bokeh_failed_load) {\n",
       "      console.log(\"Bokeh: BokehJS failed to load within specified timeout.\");\n",
       "      root._bokeh_failed_load = true;\n",
       "    } else if (force !== true) {\n",
       "      var cell = $(document.getElementById(\"1001\")).parents('.cell').data().cell;\n",
       "      cell.output_area.append_execute_result(NB_LOAD_WARNING)\n",
       "    }\n",
       "\n",
       "  }\n",
       "\n",
       "  if (root._bokeh_is_loading === 0) {\n",
       "    console.debug(\"Bokeh: BokehJS loaded, going straight to plotting\");\n",
       "    run_inline_js();\n",
       "  } else {\n",
       "    load_libs(css_urls, js_urls, function() {\n",
       "      console.debug(\"Bokeh: BokehJS plotting callback run at\", now());\n",
       "      run_inline_js();\n",
       "    });\n",
       "  }\n",
       "}(window));"
      ],
      "application/vnd.bokehjs_load.v0+json": "\n(function(root) {\n  function now() {\n    return new Date();\n  }\n\n  var force = true;\n\n  if (typeof root._bokeh_onload_callbacks === \"undefined\" || force === true) {\n    root._bokeh_onload_callbacks = [];\n    root._bokeh_is_loading = undefined;\n  }\n\n  \n\n  \n  if (typeof (root._bokeh_timeout) === \"undefined\" || force === true) {\n    root._bokeh_timeout = Date.now() + 5000;\n    root._bokeh_failed_load = false;\n  }\n\n  var NB_LOAD_WARNING = {'data': {'text/html':\n     \"<div style='background-color: #fdd'>\\n\"+\n     \"<p>\\n\"+\n     \"BokehJS does not appear to have successfully loaded. If loading BokehJS from CDN, this \\n\"+\n     \"may be due to a slow or bad network connection. Possible fixes:\\n\"+\n     \"</p>\\n\"+\n     \"<ul>\\n\"+\n     \"<li>re-rerun `output_notebook()` to attempt to load from CDN again, or</li>\\n\"+\n     \"<li>use INLINE resources instead, as so:</li>\\n\"+\n     \"</ul>\\n\"+\n     \"<code>\\n\"+\n     \"from bokeh.resources import INLINE\\n\"+\n     \"output_notebook(resources=INLINE)\\n\"+\n     \"</code>\\n\"+\n     \"</div>\"}};\n\n  function display_loaded() {\n    var el = document.getElementById(\"1001\");\n    if (el != null) {\n      el.textContent = \"BokehJS is loading...\";\n    }\n    if (root.Bokeh !== undefined) {\n      if (el != null) {\n        el.textContent = \"BokehJS \" + root.Bokeh.version + \" successfully loaded.\";\n      }\n    } else if (Date.now() < root._bokeh_timeout) {\n      setTimeout(display_loaded, 100)\n    }\n  }\n\n\n  function run_callbacks() {\n    try {\n      root._bokeh_onload_callbacks.forEach(function(callback) {\n        if (callback != null)\n          callback();\n      });\n    } finally {\n      delete root._bokeh_onload_callbacks\n    }\n    console.debug(\"Bokeh: all callbacks have finished\");\n  }\n\n  function load_libs(css_urls, js_urls, callback) {\n    if (css_urls == null) css_urls = [];\n    if (js_urls == null) js_urls = [];\n\n    root._bokeh_onload_callbacks.push(callback);\n    if (root._bokeh_is_loading > 0) {\n      console.debug(\"Bokeh: BokehJS is being loaded, scheduling callback at\", now());\n      return null;\n    }\n    if (js_urls == null || js_urls.length === 0) {\n      run_callbacks();\n      return null;\n    }\n    console.debug(\"Bokeh: BokehJS not loaded, scheduling load and callback at\", now());\n    root._bokeh_is_loading = css_urls.length + js_urls.length;\n\n    function on_load() {\n      root._bokeh_is_loading--;\n      if (root._bokeh_is_loading === 0) {\n        console.debug(\"Bokeh: all BokehJS libraries/stylesheets loaded\");\n        run_callbacks()\n      }\n    }\n\n    function on_error() {\n      console.error(\"failed to load \" + url);\n    }\n\n    for (var i = 0; i < css_urls.length; i++) {\n      var url = css_urls[i];\n      const element = document.createElement(\"link\");\n      element.onload = on_load;\n      element.onerror = on_error;\n      element.rel = \"stylesheet\";\n      element.type = \"text/css\";\n      element.href = url;\n      console.debug(\"Bokeh: injecting link tag for BokehJS stylesheet: \", url);\n      document.body.appendChild(element);\n    }\n\n    for (var i = 0; i < js_urls.length; i++) {\n      var url = js_urls[i];\n      var element = document.createElement('script');\n      element.onload = on_load;\n      element.onerror = on_error;\n      element.async = false;\n      element.src = url;\n      console.debug(\"Bokeh: injecting script tag for BokehJS library: \", url);\n      document.head.appendChild(element);\n    }\n  };var element = document.getElementById(\"1001\");\n  if (element == null) {\n    console.error(\"Bokeh: ERROR: autoload.js configured with elementid '1001' but no matching script tag was found. \")\n    return false;\n  }\n\n  function inject_raw_css(css) {\n    const element = document.createElement(\"style\");\n    element.appendChild(document.createTextNode(css));\n    document.body.appendChild(element);\n  }\n\n  var js_urls = [\"https://cdn.pydata.org/bokeh/release/bokeh-1.2.0.min.js\", \"https://cdn.pydata.org/bokeh/release/bokeh-widgets-1.2.0.min.js\", \"https://cdn.pydata.org/bokeh/release/bokeh-tables-1.2.0.min.js\", \"https://cdn.pydata.org/bokeh/release/bokeh-gl-1.2.0.min.js\"];\n  var css_urls = [\"https://cdn.pydata.org/bokeh/release/bokeh-1.2.0.min.css\", \"https://cdn.pydata.org/bokeh/release/bokeh-widgets-1.2.0.min.css\", \"https://cdn.pydata.org/bokeh/release/bokeh-tables-1.2.0.min.css\"];\n\n  var inline_js = [\n    function(Bokeh) {\n      Bokeh.set_log_level(\"info\");\n    },\n    \n    function(Bokeh) {\n      \n    },\n    function(Bokeh) {} // ensure no trailing comma for IE\n  ];\n\n  function run_inline_js() {\n    \n    if ((root.Bokeh !== undefined) || (force === true)) {\n      for (var i = 0; i < inline_js.length; i++) {\n        inline_js[i].call(root, root.Bokeh);\n      }if (force === true) {\n        display_loaded();\n      }} else if (Date.now() < root._bokeh_timeout) {\n      setTimeout(run_inline_js, 100);\n    } else if (!root._bokeh_failed_load) {\n      console.log(\"Bokeh: BokehJS failed to load within specified timeout.\");\n      root._bokeh_failed_load = true;\n    } else if (force !== true) {\n      var cell = $(document.getElementById(\"1001\")).parents('.cell').data().cell;\n      cell.output_area.append_execute_result(NB_LOAD_WARNING)\n    }\n\n  }\n\n  if (root._bokeh_is_loading === 0) {\n    console.debug(\"Bokeh: BokehJS loaded, going straight to plotting\");\n    run_inline_js();\n  } else {\n    load_libs(css_urls, js_urls, function() {\n      console.debug(\"Bokeh: BokehJS plotting callback run at\", now());\n      run_inline_js();\n    });\n  }\n}(window));"
     },
     "metadata": {},
     "output_type": "display_data"
    }
   ],
   "source": [
    "import numpy as np \n",
    "import pandas as pd\n",
    "import bokeh.io \n",
    "import bokeh.plotting\n",
    "import bokeh_catplot as bkcat \n",
    "import scipy.optimize\n",
    "import mwc.stats \n",
    "import imp\n",
    "import mwc.bayes \n",
    "imp.reload(mwc.bayes)\n",
    "import mwc.viz\n",
    "import bokeh.models\n",
    "import bokeh.transform\n",
    "import tqdm\n",
    "import bokeh.palettes\n",
    "import scipy.stats\n",
    "import scipy.special\n",
    "import statsmodels.tools.numdiff as smnd\n",
    "import tqdm\n",
    "colors, color_list = mwc.viz.bokeh_theme()\n",
    "bokeh.io.output_notebook()"
   ]
  },
  {
   "cell_type": "code",
   "execution_count": 59,
   "metadata": {},
   "outputs": [
    {
     "name": "stderr",
     "output_type": "stream",
     "text": [
      "INFO:pystan:COMPILING THE C++ CODE FOR MODEL anon_model_1119c0132ed1322ef92595a04109d58c NOW.\n"
     ]
    },
    {
     "name": "stdout",
     "output_type": "stream",
     "text": [
      "Precompiled model not found. Compiling model...\n",
      "finished!\n"
     ]
    }
   ],
   "source": [
    "# Load the snapshots\n",
    "snaps = pd.read_csv('../../data/raw_compiled_snaps.csv')\n",
    "\n",
    "# Load the lineages\n",
    "lineages = pd.read_csv('../../data/raw_compiled_lineages.csv')\n",
    "\n",
    "# Apply morphology filters to both. \n",
    "min_size = 0.5 / 0.065**2\n",
    "max_size = 5 / 0.065**2\n",
    "snaps = mwc.process.morphological_filter(snaps, area_bounds=[0.5, 5], \n",
    "                                         ar_bounds=[0, 0.8], ip_dist=0.065)\n",
    "lineages = lineages[(lineages['area_1'] >= min_size) & (lineages['area_2'] >= min_size) &\n",
    "                   (lineages['area_1'] <= max_size) & (lineages['area_2'] <= max_size)]\n",
    "\n",
    "# Drop error frames \n",
    "lineages['error_frame'] = np.nan_to_num(lineages['error_frame'])\n",
    "lineages = lineages[lineages['error_frame'] == 0].copy()\n",
    "\n",
    "\n",
    "# Load the hierarchical model. \n",
    "\n",
    "model = mwc.bayes.StanModel('../stan/hierarchical_calibration_factor.stan', force_compile=True)"
   ]
  },
  {
   "cell_type": "code",
   "execution_count": 60,
   "metadata": {},
   "outputs": [],
   "source": [
    "# Start with examining **only** the glucose sample\n",
    "carbon = 'glucose'\n",
    "samp = lineages[(lineages['carbon']==carbon) & (lineages['temp']==37)].copy()\n",
    "auto_samp = snaps[(snaps['carbon']==carbon) & (snaps['temp']==37) & (snaps['strain']=='auto')].copy()\n",
    "\n",
    "# Iterate through all of the days and run numbers and subratcting the chosen value\n",
    "funcs = {'mean_auto':np.mean, 'median_auto':np.mean}\n",
    "for g, d in samp.groupby(['date', 'run_number']):\n",
    "    _auto = auto_samp[(auto_samp['date']==g[0]) &\n",
    "                     (auto_samp['run_number']==g[1])]['fluor2_mean_death'].values\n",
    "    # Compute the summary statistica and add it to the samp\n",
    "    for v, f in funcs.items():\n",
    "        auto_mch = f(_auto)\n",
    "        samp.loc[(samp['date']==g[0]) & (samp['run_number']==g[1]), v] = f(_auto)\n"
   ]
  },
  {
   "cell_type": "code",
   "execution_count": 61,
   "metadata": {},
   "outputs": [
    {
     "name": "stdout",
     "output_type": "stream",
     "text": [
      "Beginning sampling...\n"
     ]
    },
    {
     "name": "stderr",
     "output_type": "stream",
     "text": [
      "WARNING:pystan:n_eff / iter below 0.001 indicates that the effective sample size has likely been overestimated\n",
      "WARNING:pystan:Rhat above 1.1 or below 0.9 indicates that the chains very likely have not mixed\n",
      "WARNING:pystan:3 of 8000 iterations ended with a divergence (0.0375 %).\n",
      "WARNING:pystan:Try running with adapt_delta larger than 0.8 to remove the divergences.\n",
      "WARNING:pystan:450 of 8000 iterations saturated the maximum tree depth of 11 (5.62 %)\n",
      "WARNING:pystan:Run again with max_treedepth larger than 11 to avoid saturation\n",
      "WARNING:pystan:Chain 1: E-BFMI = 0.00119\n",
      "WARNING:pystan:Chain 2: E-BFMI = 0.0032\n",
      "WARNING:pystan:Chain 3: E-BFMI = 2.64e-05\n",
      "WARNING:pystan:E-BFMI below 0.2 indicates you may need to reparameterize your model\n"
     ]
    },
    {
     "name": "stdout",
     "output_type": "stream",
     "text": [
      "finished sampling!\n"
     ]
    }
   ],
   "source": [
    "# Perform the background subtraction and compute integrated intensity. \n",
    "samp['I_1_tot'] = samp['area_1'] * (samp['I_1'].values - samp['median_auto'])\n",
    "samp['I_2_tot'] = samp['area_2'] * (samp['I_2'].values - samp['median_auto'])\n",
    "\n",
    "# Remove unphysical values. \n",
    "samp = samp[(samp['I_1_tot'] >0) & (samp['I_2_tot'] > 0)]\n",
    "\n",
    "# Add identifiers for each category.\n",
    "samp['idx'] = samp.groupby(['date']).ngroup() + 1\n",
    "\n",
    "# Set up the data dictionary. \n",
    "data_dict = {'J':samp['idx'].max(), \n",
    "             'N': len(samp),\n",
    "             'idx': samp['idx'].values,\n",
    "             'I_1':samp['I_1_tot'].values,\n",
    "             'I_2':samp['I_2_tot'].values}\n",
    "\n",
    "# Sample the motherfucker\n",
    "fit, mcmc_samples = model.sample(data_dict, iter=4000, control=dict(max_treedepth=11))"
   ]
  },
  {
   "cell_type": "code",
   "execution_count": 62,
   "metadata": {},
   "outputs": [
    {
     "data": {
      "text/plain": [
       "Inference for Stan model: anon_model_1119c0132ed1322ef92595a04109d58c.\n",
       "4 chains, each with iter=4000; warmup=2000; thin=1; \n",
       "post-warmup draws per chain=2000, total post-warmup draws=8000.\n",
       "\n",
       "              mean se_mean     sd   2.5%    25%    50%    75%  97.5%  n_eff   Rhat\n",
       "alpha_1      3.1e4   1.8e4  2.8e4 1467.3 1919.2  1.1e4  6.5e4  6.6e4      2   4.04\n",
       "sigma        2.5e4  1597.7 2263.6  2.1e4  2.3e4  2.6e4  2.6e4  2.6e4      2  16.61\n",
       "alpha_2[1]   1.1e7   4.5e6  6.4e6   1.32  6.5e6  1.5e7  1.5e7  1.5e7      2 269.69\n",
       "alpha_2[2]   2.6e7   1.7e6  2.5e6  2.2e7  2.5e7  2.8e7  2.8e7  2.8e7      2  16.42\n",
       "alpha_2[3]   1.4e7   5.7e6  8.0e6   1.28  8.2e6  1.8e7  1.8e7  1.9e7      2 291.04\n",
       "alpha_2[4]   1.9e7   1.3e6  1.9e6  1.6e7  1.8e7  2.0e7  2.0e7  2.0e7      2   3.55\n",
       "alpha_2[5]   1.7e7   1.2e6  1.9e6  1.4e7  1.8e7  1.8e7  1.8e7  1.8e7      2   2.31\n",
       "alpha_2[6]   1.7e7   6.9e6  9.7e6   1.21 10.0e6  2.2e7  2.2e7  2.3e7      2 304.86\n",
       "alpha_2[7]   1.6e7   6.5e6  9.2e6   1.47  9.5e6  2.1e7  2.1e7  2.1e7      2 287.68\n",
       "alpha_2[8]   7.3e6   3.0e6  4.4e6   1.18 151.99  9.9e6  9.9e6 10.0e6      2   4.19\n",
       "alpha_2[9]   2.7e7   1.8e6  2.5e6  2.3e7  2.5e7  2.8e7  2.8e7  2.9e7      2  16.23\n",
       "alpha_2[10]  2.2e7   1.4e6  2.0e6  1.9e7  2.1e7  2.3e7  2.3e7  2.3e7      2  16.46\n",
       "lp__         9.7e7   1.1e7  1.6e7  6.7e7  8.8e7  1.1e8  1.1e8  1.1e8      2   17.0\n",
       "\n",
       "Samples were drawn using NUTS at Tue Jul 23 18:08:08 2019.\n",
       "For each parameter, n_eff is a crude measure of effective sample size,\n",
       "and Rhat is the potential scale reduction factor on split chains (at \n",
       "convergence, Rhat=1)."
      ]
     },
     "execution_count": 62,
     "metadata": {},
     "output_type": "execute_result"
    }
   ],
   "source": [
    "fit"
   ]
  },
  {
   "cell_type": "code",
   "execution_count": 55,
   "metadata": {},
   "outputs": [
    {
     "name": "stdout",
     "output_type": "stream",
     "text": [
      "Found precompiled model. Loading...\n",
      "finished!\n"
     ]
    }
   ],
   "source": [
    "model = mwc.bayes.StanModel('../stan/calibration_factor.stan') #, force_compile=True)"
   ]
  },
  {
   "cell_type": "code",
   "execution_count": 56,
   "metadata": {},
   "outputs": [
    {
     "name": "stderr",
     "output_type": "stream",
     "text": [
      "  0%|          | 0/12 [00:00<?, ?it/s]"
     ]
    },
    {
     "name": "stdout",
     "output_type": "stream",
     "text": [
      "Beginning sampling...\n",
      "finished sampling!\n"
     ]
    },
    {
     "name": "stderr",
     "output_type": "stream",
     "text": [
      "  8%|▊         | 1/12 [00:01<00:14,  1.35s/it]"
     ]
    },
    {
     "name": "stdout",
     "output_type": "stream",
     "text": [
      "Beginning sampling...\n",
      "finished sampling!\n"
     ]
    },
    {
     "name": "stderr",
     "output_type": "stream",
     "text": [
      " 17%|█▋        | 2/12 [00:03<00:16,  1.63s/it]"
     ]
    },
    {
     "name": "stdout",
     "output_type": "stream",
     "text": [
      "Beginning sampling...\n",
      "finished sampling!\n"
     ]
    },
    {
     "name": "stderr",
     "output_type": "stream",
     "text": [
      " 25%|██▌       | 3/12 [00:05<00:14,  1.59s/it]"
     ]
    },
    {
     "name": "stdout",
     "output_type": "stream",
     "text": [
      "Beginning sampling...\n",
      "finished sampling!\n"
     ]
    },
    {
     "name": "stderr",
     "output_type": "stream",
     "text": [
      " 33%|███▎      | 4/12 [00:06<00:12,  1.57s/it]"
     ]
    },
    {
     "name": "stdout",
     "output_type": "stream",
     "text": [
      "Beginning sampling...\n",
      "finished sampling!\n"
     ]
    },
    {
     "name": "stderr",
     "output_type": "stream",
     "text": [
      " 42%|████▏     | 5/12 [00:08<00:10,  1.55s/it]"
     ]
    },
    {
     "name": "stdout",
     "output_type": "stream",
     "text": [
      "Beginning sampling...\n",
      "finished sampling!\n"
     ]
    },
    {
     "name": "stderr",
     "output_type": "stream",
     "text": [
      " 50%|█████     | 6/12 [00:09<00:09,  1.54s/it]"
     ]
    },
    {
     "name": "stdout",
     "output_type": "stream",
     "text": [
      "Beginning sampling...\n",
      "finished sampling!\n"
     ]
    },
    {
     "name": "stderr",
     "output_type": "stream",
     "text": [
      " 58%|█████▊    | 7/12 [00:10<00:07,  1.44s/it]"
     ]
    },
    {
     "name": "stdout",
     "output_type": "stream",
     "text": [
      "Beginning sampling...\n",
      "finished sampling!\n"
     ]
    },
    {
     "name": "stderr",
     "output_type": "stream",
     "text": [
      " 67%|██████▋   | 8/12 [00:12<00:05,  1.43s/it]"
     ]
    },
    {
     "name": "stdout",
     "output_type": "stream",
     "text": [
      "Beginning sampling...\n",
      "finished sampling!\n"
     ]
    },
    {
     "name": "stderr",
     "output_type": "stream",
     "text": [
      " 75%|███████▌  | 9/12 [00:13<00:04,  1.36s/it]"
     ]
    },
    {
     "name": "stdout",
     "output_type": "stream",
     "text": [
      "Beginning sampling...\n",
      "finished sampling!\n"
     ]
    },
    {
     "name": "stderr",
     "output_type": "stream",
     "text": [
      " 83%|████████▎ | 10/12 [00:14<00:02,  1.28s/it]"
     ]
    },
    {
     "name": "stdout",
     "output_type": "stream",
     "text": [
      "Beginning sampling...\n",
      "finished sampling!\n"
     ]
    },
    {
     "name": "stderr",
     "output_type": "stream",
     "text": [
      " 92%|█████████▏| 11/12 [00:16<00:01,  1.58s/it]"
     ]
    },
    {
     "name": "stdout",
     "output_type": "stream",
     "text": [
      "Beginning sampling...\n",
      "finished sampling!\n"
     ]
    },
    {
     "name": "stderr",
     "output_type": "stream",
     "text": [
      "100%|██████████| 12/12 [00:18<00:00,  1.68s/it]\n"
     ]
    }
   ],
   "source": [
    "stats_dfs = pd.DataFrame([])\n",
    "for g, d in tqdm.tqdm(samp.groupby(['date', 'run_number'])):\n",
    "    # Set up the data dict and sample\n",
    "    data_dict = {'N': len(d), 'I1':d['I_1_tot'], 'I2':d['I_2_tot']}\n",
    "    _, samples = model.sample(data_dict, iter=2000)\n",
    "\n",
    "    # Compute the important stats of alpha. \n",
    "    mean_alpha = np.median(samples['alpha'])\n",
    "    alpha_min,alpha_max = mwc.stats.compute_hpd(samples['alpha'], 0.95)\n",
    "    stats_dfs = stats_dfs.append({'date':g[0], 'run_number':g[1], \n",
    "                                  'mean_alpha':mean_alpha,\n",
    "                                  'alpha_min':alpha_min, \n",
    "                                  'alpha_max':alpha_max}, ignore_index=True)"
   ]
  },
  {
   "cell_type": "code",
   "execution_count": 57,
   "metadata": {},
   "outputs": [],
   "source": [
    "def bin_by_value(df, bins):\n",
    "    \"\"\"\n",
    "    Bins by predefined bins. Returns the mean and SEM of all points in that bin\n",
    "    \"\"\"\n",
    "    # Iterate through the bins.\n",
    "    df = df.copy()\n",
    "    summed_means = np.zeros(len(bins) - 1)\n",
    "    fluct_means = np.zeros(len(bins) - 1)\n",
    "    summed_sems = np.zeros(len(bins) - 1)\n",
    "    fluct_sems = np.zeros(len(bins) - 1)\n",
    "    for i in range(len(bins) - 1):\n",
    "        lower = bins[i] - 1\n",
    "        upper = bins[i+1] + 1\n",
    "        samps = df[(df['summed'] >= lower) & (df['summed'] <= upper)]\n",
    "        summed_means[i] = np.mean(samps['summed'])\n",
    "        fluct_means[i] = np.mean(samps['fluct'])\n",
    "        summed_sems[i] = np.std(samps['summed']) / np.sqrt(len(samps))\n",
    "        fluct_sems[i] = np.std(samps['fluct']) / np.sqrt(len(samps))\n",
    "    # assemble into a dataframe\n",
    "    _df = pd.DataFrame(np.array([summed_means, summed_sems, fluct_means, fluct_sems]).T,\n",
    "                       columns=['summed_mean', 'summed_sem', 'fluct_mean', 'fluct_sem'])\n",
    "    # Compute the mins and max for eaach. \n",
    "    _df['summed_min'] = _df['summed_mean'] - _df['summed_sem']\n",
    "    _df['summed_max'] = _df['summed_mean'] + _df['summed_sem']\n",
    "    _df['fluct_min'] = _df['fluct_mean'] - _df['fluct_sem']\n",
    "    _df['fluct_max'] = _df['fluct_mean'] + _df['fluct_sem']\n",
    "    return _df\n",
    "        "
   ]
  },
  {
   "cell_type": "code",
   "execution_count": 58,
   "metadata": {},
   "outputs": [
    {
     "data": {
      "text/html": [
       "\n",
       "\n",
       "\n",
       "\n",
       "\n",
       "\n",
       "  <div class=\"bk-root\" id=\"c9b97e50-25f5-40ca-b7ee-0f9a9c251981\" data-root-id=\"18197\"></div>\n"
      ]
     },
     "metadata": {},
     "output_type": "display_data"
    },
    {
     "data": {
      "application/javascript": [
       "(function(root) {\n",
       "  function embed_document(root) {\n",
       "    \n",
       "  var docs_json = {\"9c1aa6a2-ef98-4c0f-95bc-7520618919d1\":{\"roots\":{\"references\":[{\"attributes\":{\"background_fill_color\":{\"value\":\"#EEEEEE\"},\"below\":[{\"id\":\"18206\",\"type\":\"LogAxis\"}],\"center\":[{\"id\":\"18210\",\"type\":\"Grid\"},{\"id\":\"18215\",\"type\":\"Grid\"},{\"id\":\"18241\",\"type\":\"Legend\"}],\"left\":[{\"id\":\"18211\",\"type\":\"LogAxis\"}],\"plot_height\":300,\"plot_width\":800,\"renderers\":[{\"id\":\"18232\",\"type\":\"GlyphRenderer\"},{\"id\":\"18246\",\"type\":\"GlyphRenderer\"},{\"id\":\"18260\",\"type\":\"GlyphRenderer\"},{\"id\":\"18276\",\"type\":\"GlyphRenderer\"},{\"id\":\"18294\",\"type\":\"GlyphRenderer\"},{\"id\":\"18315\",\"type\":\"GlyphRenderer\"},{\"id\":\"18337\",\"type\":\"GlyphRenderer\"},{\"id\":\"18361\",\"type\":\"GlyphRenderer\"},{\"id\":\"18387\",\"type\":\"GlyphRenderer\"},{\"id\":\"18416\",\"type\":\"GlyphRenderer\"},{\"id\":\"18446\",\"type\":\"GlyphRenderer\"},{\"id\":\"18478\",\"type\":\"GlyphRenderer\"},{\"id\":\"18512\",\"type\":\"GlyphRenderer\"},{\"id\":\"18549\",\"type\":\"GlyphRenderer\"},{\"id\":\"18587\",\"type\":\"GlyphRenderer\"},{\"id\":\"18627\",\"type\":\"GlyphRenderer\"},{\"id\":\"18669\",\"type\":\"GlyphRenderer\"},{\"id\":\"18714\",\"type\":\"GlyphRenderer\"},{\"id\":\"18760\",\"type\":\"GlyphRenderer\"},{\"id\":\"18808\",\"type\":\"GlyphRenderer\"},{\"id\":\"18858\",\"type\":\"GlyphRenderer\"},{\"id\":\"18911\",\"type\":\"GlyphRenderer\"},{\"id\":\"18965\",\"type\":\"GlyphRenderer\"},{\"id\":\"19021\",\"type\":\"GlyphRenderer\"},{\"id\":\"19079\",\"type\":\"GlyphRenderer\"},{\"id\":\"19140\",\"type\":\"GlyphRenderer\"},{\"id\":\"19202\",\"type\":\"GlyphRenderer\"},{\"id\":\"19266\",\"type\":\"GlyphRenderer\"},{\"id\":\"19332\",\"type\":\"GlyphRenderer\"},{\"id\":\"19401\",\"type\":\"GlyphRenderer\"},{\"id\":\"19471\",\"type\":\"GlyphRenderer\"},{\"id\":\"19543\",\"type\":\"GlyphRenderer\"},{\"id\":\"19617\",\"type\":\"GlyphRenderer\"},{\"id\":\"19694\",\"type\":\"GlyphRenderer\"},{\"id\":\"19772\",\"type\":\"GlyphRenderer\"},{\"id\":\"19852\",\"type\":\"GlyphRenderer\"},{\"id\":\"19934\",\"type\":\"GlyphRenderer\"},{\"id\":\"20019\",\"type\":\"GlyphRenderer\"},{\"id\":\"20105\",\"type\":\"GlyphRenderer\"},{\"id\":\"20193\",\"type\":\"GlyphRenderer\"}],\"title\":{\"id\":\"18235\",\"type\":\"Title\"},\"toolbar\":{\"id\":\"18222\",\"type\":\"Toolbar\"},\"x_range\":{\"id\":\"18198\",\"type\":\"DataRange1d\"},\"x_scale\":{\"id\":\"18202\",\"type\":\"LogScale\"},\"y_range\":{\"id\":\"18200\",\"type\":\"DataRange1d\"},\"y_scale\":{\"id\":\"18204\",\"type\":\"LogScale\"}},\"id\":\"18197\",\"subtype\":\"Figure\",\"type\":\"Plot\"},{\"attributes\":{\"data_source\":{\"id\":\"19769\",\"type\":\"ColumnDataSource\"},\"glyph\":{\"id\":\"19770\",\"type\":\"Line\"},\"hover_glyph\":null,\"muted_glyph\":null,\"nonselection_glyph\":{\"id\":\"19771\",\"type\":\"Line\"},\"selection_glyph\":null,\"view\":{\"id\":\"19773\",\"type\":\"CDSView\"}},\"id\":\"19772\",\"type\":\"GlyphRenderer\"},{\"attributes\":{},\"id\":\"19689\",\"type\":\"UnionRenderers\"},{\"attributes\":{},\"id\":\"19768\",\"type\":\"UnionRenderers\"},{\"attributes\":{\"callback\":null,\"data\":{\"x\":{\"__ndarray__\":\"AAAAAAAA+H8AAAAAAAD4fwAAAAAAAPh/AAAAAAAA+H8AAAAAAAD4fwAAAAAAAPh/AAAAAAAA+H8AAAAAAAD4fwAAAAAAAPh/AAAAAAAA+H8AAAAAAAD4fwAAAAAAAPh/AAAAAAAA+H8AAAAAAAD4fwAAAAAAAPh/AAAAAAAA+H9dsORfoBd0QAAAAAAAAPh/AAAAAAAA+H8AAAAAAAD4fxyr8biHiodAVMCCQunUjECe41Hn47iQQEpjE3CW95ZAdBR5L81SnUAcn2l0iWyhQAYwitS6yaRAntm5UXu1qUBDSaEPJmmwQAI7rjniX7RAho8L3XyMuED8MO8WBp+9QBAySE7dKcNAe4rjDvrgxkDbls/8ATTNQEy7paGzCtJA+PUD6Edk1kAtmXmmVmzbQJwuxkg88eBAtbtiw4XG5EA3jQnkrJHpQJDuOm67MO9AxAa6dyfO80CCHu4zuDj4QBlBHipdp/1AHaw+jjHyAkHao5tWgc0GQQAAAAAAAPh/AAAAAAAA+H8=\",\"dtype\":\"float64\",\"shape\":[49]},\"y\":{\"__ndarray__\":\"AAAAAAAA+H8AAAAAAAD4fwAAAAAAAPh/AAAAAAAA+H8AAAAAAAD4fwAAAAAAAPh/AAAAAAAA+H8AAAAAAAD4fwAAAAAAAPh/AAAAAAAA+H8AAAAAAAD4fwAAAAAAAPh/AAAAAAAA+H8AAAAAAAD4fwAAAAAAAPh/AAAAAAAA+H8/hK4Atl7fQAAAAAAAAPh/AAAAAAAA+H8AAAAAAAD4f7Ow0xylL/dAeLBrhiX0BkH0yhNuXA+mQLRscb8GmhFBvSlgrF3AK0GUWNA8mg8hQUifIyIoUxpBLfmK4HN/SEFab4Y0spszQf7U1LOsiEhBCzZZUOZiUkGjkGn9tu4wQaF3CYmysVhBchXVt4h+YkF6Ih+kuS9sQVTjXuKMGGNB94uHvXKkgkFhiZoRlIxxQRGWY7CY7W5BiFvAVRUfgEFrFyx6pFiYQbNY2+2caaVBTUjoJ4H8s0EgWs5FiRa3QRSZYt03EcNBod7eMJ3s5kFdJFAr12GVQQAAAAAAAPh/AAAAAAAA+H8=\",\"dtype\":\"float64\",\"shape\":[49]}},\"selected\":{\"id\":\"19847\",\"type\":\"Selection\"},\"selection_policy\":{\"id\":\"19848\",\"type\":\"UnionRenderers\"}},\"id\":\"19691\",\"type\":\"ColumnDataSource\"},{\"attributes\":{\"fill_alpha\":{\"value\":0.1},\"fill_color\":{\"value\":\"#1f77b4\"},\"line_alpha\":{\"value\":0.1},\"line_color\":{\"value\":\"#1f77b4\"},\"size\":{\"units\":\"screen\",\"value\":1},\"x\":{\"field\":\"x\"},\"y\":{\"field\":\"y\"}},\"id\":\"19616\",\"type\":\"Circle\"},{\"attributes\":{\"callback\":null,\"data\":{\"x\":{\"__ndarray__\":\"AAAAAAAAJEBlm5whrLUoQHrj1I5Chy5AAY++W8/bMkDzMfI3rUw3QHYvvYNByTxAZXt8d0vIQUCaRfpFSPhFQNh4Ml60JEtAJNzrtoDEUEDN8KxRULdUQD8eNkQnmFlASzaMyRKfX0A+wSCOqYhjQBowWpQ7ImhAOKhgzxnRbUDUAZtgSGtyQMhguq+mwXZAzwJuBX4dfEAQE/JzMF6BQCBNptUwdYVALkFvQb6CikDBmXDZc2CQQHKj+g+0O5RA1EExVG//mEC9fOhsZOKeQB1sNS8bFKNAHxlyyDqSp0BL7xv8Lx+tQM2iX9Vg/bFA++YTtN05tkDR8+hru3W7QHhq846O9sBA0XOXmif1xEAhzUaMjuTJQJQL5fF3/c9AQh/iX/nC00AmjxalRmrYQIzM2OYbKt5A/hNhSkSi4kDskn48lQXnQL9GfL9rcexAI0mpEwmS8UA7FCzvPrX1QCETwtPh0fpADKrABleRAEEienVZGngEQV1uTLgOSglBK6GRVpY+D0HMt2YQD00TQQ==\",\"dtype\":\"float64\",\"shape\":[50]},\"y\":{\"__ndarray__\":\"e8BBaWhc3UADfz1XMiPiQFe/PgqXaOZATma9cnWv60BWadWONxrxQGW2m1M2IfVAKl+FN/0a+kCGXLX+WyAAQe+RZXCE7ANBtVDIFZqdCEFr1Y10hWkOQdUW6m1wyRJBP2iI1Po1F0FARBbhNq0cQWFvGe34tiFB30BveeHiJUG/GNJnQworQRHT9D4rtDBBM++lLyKjNEEkTv6YOH85QSip8xtFgD9BUpq4PqJ1Q0HihrwouQpIQR03mScOtE1BhzebEFdZUkHW/jm6e6tWQd5C3LQaAlxBjWHyRUVNYUH/mXa8SWBlQeuAqxDraGpBy97P139QcEGPkKpX/id0QaIFnm0V53hBQ6E8jE7EfkF46ldqhQGDQZppC6REe4dBWXgFpNECjUG61yKV2uuRQY+XZQQ3JJZBJWEKh/tam0EfBJlUCOagQc6LyTq94KRBXo63c1XLqUEqrDhQTt6vQYaGy0K5r7NB1EN5C35SuEHwTWKKuQy+QduKkWodkMJB99FIGijvxkHH7vWstlXMQQ==\",\"dtype\":\"float64\",\"shape\":[50]}},\"selected\":{\"id\":\"20950\",\"type\":\"Selection\"},\"selection_policy\":{\"id\":\"20951\",\"type\":\"UnionRenderers\"}},\"id\":\"20190\",\"type\":\"ColumnDataSource\"},{\"attributes\":{\"data_source\":{\"id\":\"19614\",\"type\":\"ColumnDataSource\"},\"glyph\":{\"id\":\"19615\",\"type\":\"Circle\"},\"hover_glyph\":null,\"muted_glyph\":null,\"nonselection_glyph\":{\"id\":\"19616\",\"type\":\"Circle\"},\"selection_glyph\":null,\"view\":{\"id\":\"19618\",\"type\":\"CDSView\"}},\"id\":\"19617\",\"type\":\"GlyphRenderer\"},{\"attributes\":{\"fill_color\":{\"value\":\"#7292C7\"},\"line_color\":{\"value\":\"#7292C7\"},\"size\":{\"units\":\"screen\",\"value\":6},\"x\":{\"field\":\"x\"},\"y\":{\"field\":\"y\"}},\"id\":\"19692\",\"type\":\"Circle\"},{\"attributes\":{\"fill_alpha\":{\"value\":0.1},\"fill_color\":{\"value\":\"#1f77b4\"},\"line_alpha\":{\"value\":0.1},\"line_color\":{\"value\":\"#1f77b4\"},\"size\":{\"units\":\"screen\",\"value\":6},\"x\":{\"field\":\"x\"},\"y\":{\"field\":\"y\"}},\"id\":\"19693\",\"type\":\"Circle\"},{\"attributes\":{\"data_source\":{\"id\":\"19849\",\"type\":\"ColumnDataSource\"},\"glyph\":{\"id\":\"19850\",\"type\":\"Line\"},\"hover_glyph\":null,\"muted_glyph\":null,\"nonselection_glyph\":{\"id\":\"19851\",\"type\":\"Line\"},\"selection_glyph\":null,\"view\":{\"id\":\"19853\",\"type\":\"CDSView\"}},\"id\":\"19852\",\"type\":\"GlyphRenderer\"},{\"attributes\":{\"callback\":null,\"data\":{\"x\":{\"__ndarray__\":\"AAAAAAAAJEBlm5whrLUoQHrj1I5Chy5AAY++W8/bMkDzMfI3rUw3QHYvvYNByTxAZXt8d0vIQUCaRfpFSPhFQNh4Ml60JEtAJNzrtoDEUEDN8KxRULdUQD8eNkQnmFlASzaMyRKfX0A+wSCOqYhjQBowWpQ7ImhAOKhgzxnRbUDUAZtgSGtyQMhguq+mwXZAzwJuBX4dfEAQE/JzMF6BQCBNptUwdYVALkFvQb6CikDBmXDZc2CQQHKj+g+0O5RA1EExVG//mEC9fOhsZOKeQB1sNS8bFKNAHxlyyDqSp0BL7xv8Lx+tQM2iX9Vg/bFA++YTtN05tkDR8+hru3W7QHhq846O9sBA0XOXmif1xEAhzUaMjuTJQJQL5fF3/c9AQh/iX/nC00AmjxalRmrYQIzM2OYbKt5A/hNhSkSi4kDskn48lQXnQL9GfL9rcexAI0mpEwmS8UA7FCzvPrX1QCETwtPh0fpADKrABleRAEEienVZGngEQV1uTLgOSglBK6GRVpY+D0HMt2YQD00TQQ==\",\"dtype\":\"float64\",\"shape\":[50]},\"y\":{\"__ndarray__\":\"2DJjuMnvzkA50RmaYRzTQEkLNw10nNdAnOxNk9Er3UAacT5bLgXiQNU03JuBQ+ZADFb2eaSB60B/YAIW6v3wQPtigqs+/vRAlhIpmcnv+UA+8JsCrAUAQYo+h6OLywNByV7snt10CEHqXh9EMTcOQeON61RZqhJBUHpTgJEPF0GCsjj4wX0cQWZjiwqomSFBIv8/Uam+JUFkTHTQg90qQT5eBaeGmDBBGjYLLfuANEFdYhfCBlU5QTspEp8jTD9BCmogL25VQ0HduU/D7+JHQSNJoEXmgk1BTFWfevk6UkHDtVmY94VWQUdaIPfA01tB8g0rUKMwYUE7Vimy6TxlQUwofHs2PWpBll4WMYA1cEHiVJYdowZ0QRgeCVzfvXhBrZRUHmSRfkEnIRqCEeKCQebSsaVoVIdB2T6dEM/SjEGfRTwvMs6RQVYKQ72S/5VBHfrNWrYtm0FCudY3EcqgQZUp00QwvqRBETWBp6WgqUHfu880kamvQX9BShElj7NBMujs4D0quEFO8Gbr/tq9QQ==\",\"dtype\":\"float64\",\"shape\":[50]}},\"selected\":{\"id\":\"19929\",\"type\":\"Selection\"},\"selection_policy\":{\"id\":\"19930\",\"type\":\"UnionRenderers\"}},\"id\":\"19769\",\"type\":\"ColumnDataSource\"},{\"attributes\":{\"source\":{\"id\":\"19691\",\"type\":\"ColumnDataSource\"}},\"id\":\"19695\",\"type\":\"CDSView\"},{\"attributes\":{\"callback\":null,\"data\":{\"x\":{\"__ndarray__\":\"AAAAAAAAJEBlm5whrLUoQHrj1I5Chy5AAY++W8/bMkDzMfI3rUw3QHYvvYNByTxAZXt8d0vIQUCaRfpFSPhFQNh4Ml60JEtAJNzrtoDEUEDN8KxRULdUQD8eNkQnmFlASzaMyRKfX0A+wSCOqYhjQBowWpQ7ImhAOKhgzxnRbUDUAZtgSGtyQMhguq+mwXZAzwJuBX4dfEAQE/JzMF6BQCBNptUwdYVALkFvQb6CikDBmXDZc2CQQHKj+g+0O5RA1EExVG//mEC9fOhsZOKeQB1sNS8bFKNAHxlyyDqSp0BL7xv8Lx+tQM2iX9Vg/bFA++YTtN05tkDR8+hru3W7QHhq846O9sBA0XOXmif1xEAhzUaMjuTJQJQL5fF3/c9AQh/iX/nC00AmjxalRmrYQIzM2OYbKt5A/hNhSkSi4kDskn48lQXnQL9GfL9rcexAI0mpEwmS8UA7FCzvPrX1QCETwtPh0fpADKrABleRAEEienVZGngEQV1uTLgOSglBK6GRVpY+D0HMt2YQD00TQQ==\",\"dtype\":\"float64\",\"shape\":[50]},\"y\":{\"__ndarray__\":\"SLMS2omS00BVxis/by7YQHYdKgwt4N1A3lRmY5h04kAPM1QXKM3mQNaZrwS1K+xASBiIafhm8UA6FlwmCoD1QKn3wpQlkPpARaV2hbtoAEFEM4Dh7kUEQZ6IkdUSDAlBVkJC1gHyDkHr/BmNwB0TQdh4tKQlnhdBi1tGRektHUEERA1HeQYiQQCNynQaRSZB8ouxmZ2DK0ETlDkfIv8wQUljYi/A/zRBAoFI5aXxOUGvfiI90gZAQS1EOCf3zENBS2qUvJ52SEFSjxskXDlOQeb72Bmwq1JBRdqf/DgRV0GOzcItzX9cQZrVyD/rmmFBVt2iojjAZUHFcCsqcd9qQVikWmq3mXBBX0SYtHOCdEFmAzT011Z5QeXD3VxiTn9BMRPFOdFWg0ERVCVppuSHQRSpvDYEhY1BAR1JQkg8kkHTgMI1lYeWQc3cvPq/1ZtB0SPd/N4xoUFsNd20bz6lQX2Db1UYP6pBKFrv2ak2sEExNW7eEgi0QaLkYLalv7hBsu61dpWTvkFd40BGbOPCQQ==\",\"dtype\":\"float64\",\"shape\":[50]}},\"selected\":{\"id\":\"20013\",\"type\":\"Selection\"},\"selection_policy\":{\"id\":\"20014\",\"type\":\"UnionRenderers\"}},\"id\":\"19849\",\"type\":\"ColumnDataSource\"},{\"attributes\":{},\"id\":\"19847\",\"type\":\"Selection\"},{\"attributes\":{\"source\":{\"id\":\"19769\",\"type\":\"ColumnDataSource\"}},\"id\":\"19773\",\"type\":\"CDSView\"},{\"attributes\":{\"label\":{\"value\":\"20190611\"},\"renderers\":[{\"id\":\"19617\",\"type\":\"GlyphRenderer\"},{\"id\":\"19694\",\"type\":\"GlyphRenderer\"},{\"id\":\"19772\",\"type\":\"GlyphRenderer\"},{\"id\":\"19852\",\"type\":\"GlyphRenderer\"}]},\"id\":\"19690\",\"type\":\"LegendItem\"},{\"attributes\":{\"data_source\":{\"id\":\"19691\",\"type\":\"ColumnDataSource\"},\"glyph\":{\"id\":\"19692\",\"type\":\"Circle\"},\"hover_glyph\":null,\"muted_glyph\":null,\"nonselection_glyph\":{\"id\":\"19693\",\"type\":\"Circle\"},\"selection_glyph\":null,\"view\":{\"id\":\"19695\",\"type\":\"CDSView\"}},\"id\":\"19694\",\"type\":\"GlyphRenderer\"},{\"attributes\":{\"line_color\":\"#7292C7\",\"x\":{\"field\":\"x\"},\"y\":{\"field\":\"y\"}},\"id\":\"19770\",\"type\":\"Line\"},{\"attributes\":{\"source\":{\"id\":\"19614\",\"type\":\"ColumnDataSource\"}},\"id\":\"19618\",\"type\":\"CDSView\"},{\"attributes\":{\"source\":{\"id\":\"19849\",\"type\":\"ColumnDataSource\"}},\"id\":\"19853\",\"type\":\"CDSView\"},{\"attributes\":{},\"id\":\"19929\",\"type\":\"Selection\"},{\"attributes\":{\"callback\":null,\"data\":{\"x\":{\"__ndarray__\":\"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\",\"dtype\":\"float64\",\"shape\":[314]},\"y\":{\"__ndarray__\":\"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\",\"dtype\":\"float64\",\"shape\":[314]}},\"selected\":{\"id\":\"20100\",\"type\":\"Selection\"},\"selection_policy\":{\"id\":\"20101\",\"type\":\"UnionRenderers\"}},\"id\":\"19931\",\"type\":\"ColumnDataSource\"},{\"attributes\":{},\"id\":\"19767\",\"type\":\"Selection\"},{\"attributes\":{},\"id\":\"19848\",\"type\":\"UnionRenderers\"},{\"attributes\":{},\"id\":\"19930\",\"type\":\"UnionRenderers\"},{\"attributes\":{\"fill_alpha\":{\"value\":0.1},\"fill_color\":{\"value\":\"#1f77b4\"},\"line_alpha\":{\"value\":0.1},\"line_color\":{\"value\":\"#1f77b4\"},\"size\":{\"units\":\"screen\",\"value\":1},\"x\":{\"field\":\"x\"},\"y\":{\"field\":\"y\"}},\"id\":\"19933\",\"type\":\"Circle\"},{\"attributes\":{\"fill_alpha\":{\"value\":0.5},\"fill_color\":{\"value\":\"#C76A6A\"},\"line_alpha\":{\"value\":0.5},\"line_color\":{\"value\":\"#C76A6A\"},\"size\":{\"units\":\"screen\",\"value\":1},\"x\":{\"field\":\"x\"},\"y\":{\"field\":\"y\"}},\"id\":\"19932\",\"type\":\"Circle\"},{\"attributes\":{\"line_color\":\"#7292C7\",\"x\":{\"field\":\"x\"},\"y\":{\"field\":\"y\"}},\"id\":\"19850\",\"type\":\"Line\"},{\"attributes\":{\"line_alpha\":0.1,\"line_color\":\"#1f77b4\",\"x\":{\"field\":\"x\"},\"y\":{\"field\":\"y\"}},\"id\":\"19851\",\"type\":\"Line\"},{\"attributes\":{\"line_alpha\":0.1,\"line_color\":\"#1f77b4\",\"x\":{\"field\":\"x\"},\"y\":{\"field\":\"y\"}},\"id\":\"19771\",\"type\":\"Line\"},{\"attributes\":{\"fill_alpha\":{\"value\":0.5},\"fill_color\":{\"value\":\"#F38227\"},\"line_alpha\":{\"value\":0.5},\"line_color\":{\"value\":\"#F38227\"},\"size\":{\"units\":\"screen\",\"value\":1},\"x\":{\"field\":\"x\"},\"y\":{\"field\":\"y\"}},\"id\":\"18292\",\"type\":\"Circle\"},{\"attributes\":{\"source\":{\"id\":\"18291\",\"type\":\"ColumnDataSource\"}},\"id\":\"18295\",\"type\":\"CDSView\"},{\"attributes\":{},\"id\":\"18310\",\"type\":\"UnionRenderers\"},{\"attributes\":{\"fill_alpha\":{\"value\":0.5},\"fill_color\":{\"value\":\"#5F2E88\"},\"line_alpha\":{\"value\":0.5},\"line_color\":{\"value\":\"#5F2E88\"},\"size\":{\"units\":\"screen\",\"value\":1},\"x\":{\"field\":\"x\"},\"y\":{\"field\":\"y\"}},\"id\":\"18230\",\"type\":\"Circle\"},{\"attributes\":{},\"id\":\"18290\",\"type\":\"UnionRenderers\"},{\"attributes\":{\"fill_alpha\":{\"value\":0.1},\"fill_color\":{\"value\":\"#1f77b4\"},\"line_alpha\":{\"value\":0.1},\"line_color\":{\"value\":\"#1f77b4\"},\"size\":{\"units\":\"screen\",\"value\":1},\"x\":{\"field\":\"x\"},\"y\":{\"field\":\"y\"}},\"id\":\"18293\",\"type\":\"Circle\"},{\"attributes\":{\"label\":{\"value\":\"20181024\"},\"renderers\":[{\"id\":\"18294\",\"type\":\"GlyphRenderer\"},{\"id\":\"18315\",\"type\":\"GlyphRenderer\"},{\"id\":\"18337\",\"type\":\"GlyphRenderer\"},{\"id\":\"18361\",\"type\":\"GlyphRenderer\"}]},\"id\":\"18311\",\"type\":\"LegendItem\"},{\"attributes\":{\"source\":{\"id\":\"18312\",\"type\":\"ColumnDataSource\"}},\"id\":\"18316\",\"type\":\"CDSView\"},{\"attributes\":{\"line_alpha\":0.1,\"line_color\":\"#1f77b4\",\"x\":{\"field\":\"x\"},\"y\":{\"field\":\"y\"}},\"id\":\"18336\",\"type\":\"Line\"},{\"attributes\":{\"overlay\":{\"id\":\"18240\",\"type\":\"BoxAnnotation\"}},\"id\":\"18218\",\"type\":\"BoxZoomTool\"},{\"attributes\":{\"fill_color\":{\"value\":\"#F38227\"},\"line_color\":{\"value\":\"#F38227\"},\"size\":{\"units\":\"screen\",\"value\":6},\"x\":{\"field\":\"x\"},\"y\":{\"field\":\"y\"}},\"id\":\"18313\",\"type\":\"Circle\"},{\"attributes\":{\"callback\":null,\"data\":{\"x\":{\"__ndarray__\":\"AAAAAAAA+H8AAAAAAAD4fwAAAAAAAPh/AAAAAAAA+H8AAAAAAAD4fwAAAAAAAPh/AAAAAAAA+H8AAAAAAAD4fwAAAAAAAPh/AAAAAAAA+H8AAAAAAAD4fwAAAAAAAPh/AAAAAAAA+H8AAAAAAAD4fwAAAAAAAPh/AAAAAAAA+H8AAAAAAAD4fwAAAAAAAPh/RQYRSQ4Gf0CsbHwjlw6EQJynZCgozoVAckdbcqXzjUD2QKd8CFeSQEOIhr7Vp5ZAzH/qe56um0CQtNEohHuhQEmv6Bj7sqVAtjyUUNJIqkCJkCAArCiwQJYaosbe+rNArhmYobTiuEArFGLxuoy+QCvh8GWm0sJAm43XuDTixkC3keBLNYPNQAGu7BvdqtFAXNEjUYm/1UBc9DKT6GfbQJIod1qDg+BAghuBIwrK5EDja4Y4JEzqQLbnAh72r+9AMCucvsrl80DpWeFaaHH3QCLwYikUG/5AumU93PXrAkHy4TN+qa0EQUBWkMJOVQpBAAAAAAAA+H8=\",\"dtype\":\"float64\",\"shape\":[49]},\"y\":{\"__ndarray__\":\"AAAAAAAA+H8AAAAAAAD4fwAAAAAAAPh/AAAAAAAA+H8AAAAAAAD4fwAAAAAAAPh/AAAAAAAA+H8AAAAAAAD4fwAAAAAAAPh/AAAAAAAA+H8AAAAAAAD4fwAAAAAAAPh/AAAAAAAA+H8AAAAAAAD4fwAAAAAAAPh/AAAAAAAA+H8AAAAAAAD4fwAAAAAAAPh/izum/H8v2kBHW69BaCvyQOtL5kAsZCJAyGPhIHrhAEGXUmMEkEUNQW01Ik6t9QRBd7VJAlV2EUH4gxVoTw4QQaD/9HbQbw9BZ39a5HIDF0H6sK+fD2QIQTwIaSPucTJB6MjMZ0Y7KkGOxXEc9boiQW88fYKLryxBVc3nLBV2O0HnF1dgj65LQfHRDa9txVVBGXkW5acyZEF5TnXMYVVZQeDJeifWU21BlxyTa8PIfUHax71lMUtwQdLhlPSxC5ZBZSdWyFhngUEhhQGXC3OUQc+ZAh1S97RBLZ/Mt4lXsEF2f3QP/nTtQWiAdr0yOoBBAAAAAAAA+H8=\",\"dtype\":\"float64\",\"shape\":[49]}},\"selected\":{\"id\":\"18356\",\"type\":\"Selection\"},\"selection_policy\":{\"id\":\"18357\",\"type\":\"UnionRenderers\"}},\"id\":\"18312\",\"type\":\"ColumnDataSource\"},{\"attributes\":{\"callback\":null,\"data\":{\"x\":{\"__ndarray__\":\"AAAAAAAAJEBlm5whrLUoQHrj1I5Chy5AAY++W8/bMkDzMfI3rUw3QHYvvYNByTxAZXt8d0vIQUCaRfpFSPhFQNh4Ml60JEtAJNzrtoDEUEDN8KxRULdUQD8eNkQnmFlASzaMyRKfX0A+wSCOqYhjQBowWpQ7ImhAOKhgzxnRbUDUAZtgSGtyQMhguq+mwXZAzwJuBX4dfEAQE/JzMF6BQCBNptUwdYVALkFvQb6CikDBmXDZc2CQQHKj+g+0O5RA1EExVG//mEC9fOhsZOKeQB1sNS8bFKNAHxlyyDqSp0BL7xv8Lx+tQM2iX9Vg/bFA++YTtN05tkDR8+hru3W7QHhq846O9sBA0XOXmif1xEAhzUaMjuTJQJQL5fF3/c9AQh/iX/nC00AmjxalRmrYQIzM2OYbKt5A/hNhSkSi4kDskn48lQXnQL9GfL9rcexAI0mpEwmS8UA7FCzvPrX1QCETwtPh0fpADKrABleRAEEienVZGngEQV1uTLgOSglBK6GRVpY+D0HMt2YQD00TQQ==\",\"dtype\":\"float64\",\"shape\":[50]},\"y\":{\"__ndarray__\":\"YvJw/ydHrUApw22SERayQOJyIN5eWLZApgelgmubu0CbySyV1g3BQHcppxzrEcVAlzdBCRgIykBiwjHerxTQQIp8xagY3tNAikNP9MiL2EAOYJxBglPeQPDXWFXXu+JAI7Pm/i0l50Aa15VFdZjsQOrHmn0mqvFABIzYFArT9UBT63cJsfb6QN5XNCIUqABBId5SOjKUBEE4S58pxGwJQcdhiSZ4aQ9BI0CEg4xnE0HFJABXUvkXQRGOO02Onh1BQ3tVGw9MIkFYoywjE5smQRVcCfPU7StBMP9cWL9AMUEsyO7d0FA1QZ29mnrNVTpBbkg837BEQEG62HSDZxlEQS2dZhwP1UhB2YJGowmuTkHDRB66w/NSQQGPsqdFaldB6KmBEtLtXEERtwTf4d5hQcH0xlUwFGZBrujkuy5Ha0HjC2ogzdlwQQGdTa6g0XRBOIoc7am4eUHfX4BKPcd/QdoV4Ht5oYNBkhVaR+NAiEHIAheC+faNQTc42c+tgpJBU3DDh47elkGlcNZmNEGcQQ==\",\"dtype\":\"float64\",\"shape\":[50]}},\"selected\":{\"id\":\"18382\",\"type\":\"Selection\"},\"selection_policy\":{\"id\":\"18383\",\"type\":\"UnionRenderers\"}},\"id\":\"18334\",\"type\":\"ColumnDataSource\"},{\"attributes\":{},\"id\":\"18332\",\"type\":\"Selection\"},{\"attributes\":{\"data_source\":{\"id\":\"18291\",\"type\":\"ColumnDataSource\"},\"glyph\":{\"id\":\"18292\",\"type\":\"Circle\"},\"hover_glyph\":null,\"muted_glyph\":null,\"nonselection_glyph\":{\"id\":\"18293\",\"type\":\"Circle\"},\"selection_glyph\":null,\"view\":{\"id\":\"18295\",\"type\":\"CDSView\"}},\"id\":\"18294\",\"type\":\"GlyphRenderer\"},{\"attributes\":{\"data_source\":{\"id\":\"18312\",\"type\":\"ColumnDataSource\"},\"glyph\":{\"id\":\"18313\",\"type\":\"Circle\"},\"hover_glyph\":null,\"muted_glyph\":null,\"nonselection_glyph\":{\"id\":\"18314\",\"type\":\"Circle\"},\"selection_glyph\":null,\"view\":{\"id\":\"18316\",\"type\":\"CDSView\"}},\"id\":\"18315\",\"type\":\"GlyphRenderer\"},{\"attributes\":{\"callback\":null,\"data\":{\"x\":{\"__ndarray__\":\"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\",\"dtype\":\"float64\",\"shape\":[451]},\"y\":{\"__ndarray__\":\"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\",\"dtype\":\"float64\",\"shape\":[451]}},\"selected\":{\"id\":\"18332\",\"type\":\"Selection\"},\"selection_policy\":{\"id\":\"18333\",\"type\":\"UnionRenderers\"}},\"id\":\"18291\",\"type\":\"ColumnDataSource\"},{\"attributes\":{},\"id\":\"18410\",\"type\":\"Selection\"},{\"attributes\":{\"fill_alpha\":{\"value\":0.1},\"fill_color\":{\"value\":\"#1f77b4\"},\"line_alpha\":{\"value\":0.1},\"line_color\":{\"value\":\"#1f77b4\"},\"size\":{\"units\":\"screen\",\"value\":6},\"x\":{\"field\":\"x\"},\"y\":{\"field\":\"y\"}},\"id\":\"18314\",\"type\":\"Circle\"},{\"attributes\":{\"line_color\":\"#F38227\",\"x\":{\"field\":\"x\"},\"y\":{\"field\":\"y\"}},\"id\":\"18335\",\"type\":\"Line\"},{\"attributes\":{\"background_fill_alpha\":{\"value\":0.75},\"background_fill_color\":{\"value\":\"#EEEEEE\"},\"border_line_color\":{\"value\":\"slategray\"},\"border_line_width\":{\"value\":0.75},\"click_policy\":\"hide\",\"items\":[{\"id\":\"18242\",\"type\":\"LegendItem\"},{\"id\":\"18311\",\"type\":\"LegendItem\"},{\"id\":\"18412\",\"type\":\"LegendItem\"},{\"id\":\"18545\",\"type\":\"LegendItem\"},{\"id\":\"18710\",\"type\":\"LegendItem\"},{\"id\":\"18907\",\"type\":\"LegendItem\"},{\"id\":\"19136\",\"type\":\"LegendItem\"},{\"id\":\"19397\",\"type\":\"LegendItem\"},{\"id\":\"19690\",\"type\":\"LegendItem\"},{\"id\":\"20015\",\"type\":\"LegendItem\"}],\"location\":\"top_left\"},\"id\":\"18241\",\"type\":\"Legend\"},{\"attributes\":{\"source\":{\"id\":\"19398\",\"type\":\"ColumnDataSource\"}},\"id\":\"19402\",\"type\":\"CDSView\"},{\"attributes\":{\"ticker\":null},\"id\":\"18236\",\"type\":\"LogTickFormatter\"},{\"attributes\":{\"source\":{\"id\":\"19468\",\"type\":\"ColumnDataSource\"}},\"id\":\"19472\",\"type\":\"CDSView\"},{\"attributes\":{\"line_alpha\":0.1,\"line_color\":\"#1f77b4\",\"x\":{\"field\":\"x\"},\"y\":{\"field\":\"y\"}},\"id\":\"18759\",\"type\":\"Line\"},{\"attributes\":{\"line_color\":\"#E39943\",\"x\":{\"field\":\"x\"},\"y\":{\"field\":\"y\"}},\"id\":\"19541\",\"type\":\"Line\"},{\"attributes\":{\"callback\":null,\"data\":{\"x\":{\"__ndarray__\":\"Tstc9AfwB0H1N8TMibMJQfCPpMFajxFBcrVT0OuoBUHGEF/9oAYGQTt1TAD9JxNBdUz6nZcQAkEUQ/6HwhAAQeLaevpwEARB8mcoBNyN/EB85ug1pn4DQY5KKp1tePdARqagHPAZ+kD6ARec4rTzQGQHY+fLQvdAugNVQSZ+/UDwZOA5gUkHQfDSGmWpbQJB+tGyZFg880CnUhyOQzTzQJpOo5Vg+/RANuNF4l05/EDOcViaJU/xQPICf5w7vvFAwCXJTqu0BEHi2nr6OMjyQMhFpC3vagRBUYaOa7v+A0EjEJkhLo39QJyK4FplFPlAMT1+vGzU/UBXFKR1J1YAQRG4MEiRdvlAQszE9GBkAEHMYJ4TL5n1QNTKKHR7mfxA0NEgCUrx70DqjBuudNn3QPV/2h+RKfZAche1bclC9EDcoFTRZuv5QMWKcraTEQNBmDbxeTNmCkFyI477K6YCQQwXShvcGAdBEHzzgny7BkGWVzRZCDgHQTauALL38fdAE+iUfwva+UAu8IZwcYn8QLHGJ5dEbxFBvlBMjYFa8UAMqQ/wIzwOQRBhdwpuH+xAaJ4JtYcUAkEfBlnCJCADQfrdi/Lq9QFBnoPoxTZx+UCT5Bg1tLv3QClicWa1VvVAe/6aUctj+kCGEAR0S/D2QDEsxDUW7/5AOglquoapAEFCmseOxYryQJRv5nStKwRBrJ8T2q6O80D3qEbCjGvxQBSxOLOCpwBBMoctPvVPAUGkQWIHXbfwQLk1Uqf5sgJBJPHucNofBEGsh2G+QXYBQd3SUTcyNghBTtWcUyFK+kDkFri/Lf72QAjdI/K5Df1AOMuTxsgD9EDo4qO9f0gAQUCXf8R6QwFBLuSt4taj8UBSho5rOyMEQS6TBswfGAdBlKjbbycWAkEyAUH3vzcLQVCZoNcT5hJBnAQ1XbcYFEFaSeml5UoAQWA0f1RLYwVBbHHtR7AhAkH38vVDXaEBQV1J6aXlQwBBZivukHsN9kBmN8ceNmj5QHEXtW2BZANBZA5bfGr1+0Cmo8OksqUFQdCJCrba//lAoHIuPwD69kCAP7kP1CwCQZ/EBoQnovRA28Z4qc9/AUEwb3siSJgJQR6AbHsP2wxBZp4Jtb9kBEFusgsGCfwDQcNhBhRYtP5A4JUq3xVW3kD2bAn9Z0QAQV6FJmt6o/tAvhQPyIxb9UBYhSZrqrX+QMSiJNLIpvBA2pR7Q7zS/0D1T3bodlr5QPQaMbigIv5AoNy4n2zfCEGHOwlFkPgDQS+TBszPDABBNDaGJ94KA0Gmo8OkijYHQbIhUFagIwBBFLE4swq/A0FMoFcjy1v9QLqvZWBcVQRB\",\"dtype\":\"float64\",\"shape\":[126]},\"y\":{\"__ndarray__\":\"tHgoqCCroUF17oTilbrEQShUGow8eMFBn+FXkbH3pkEBxdNXfkeQQSXW/ACpCcBBT40h8Hfu2EEIarrcCBHAQchBLRoujIBBquSsLNqKT0HRQPDZNQKxQZf56rhrb4VBdhK75JcUS0HKBb0xk+51QUNydOlnKYpBARCxzBkme0Gqf+JYhoi7Qdf9DmpKE5FB5CSSgv9ogEEKzDaHgJ1+Qft8TcdLfJBB7EZ17GXF00GwoiwM3mNlQWXQS1qTbZdBJy7JWs42wUGCYoFhDZaiQT0N30g1Z5hBe04IzCdCtkHDP2QCrti3QZVIi4owmidBKy7I8YkDp0E2QTf8JUcgQYW3oYOTrKBBuzp5bOOem0H/07z957m3QQdOnTLLhaFBoyTKk9DAiUFG4vmeWQqxQSHo5JfdoatB8EF3ZxJMlEGpHBHd64KvQX2ybigFMdJBSn9WQAFFBkL6/mOpybnzQZYYxikER6ZBQXEFcWPptEFvxG+wZeCqQSHpxPGF7UlBaO9WGAs3n0EX6+EawKqiQb9yE7Liw+5Bf4wdyd5tAEF0o+0GPAHRQd8n9cqvywxB5n2X2sjcokGbakxHpv15QaAErNk1Q+FB4Y9/7/S4cUFwKYM5ofmAQc1TPitIQUpBAaEaDfQcckH5yEZUBKiCQe404k7SnrZB5S47AVV0sEGEQN/f8ABjQcx8mgkjdoxBGtCLtL+7NUFSA7UMv702QdBxevmUtKtBBaUNGssKhEGrpsyDBHXGQZYbhExMJb9BM85QNEwUtkFs7JDjyf1KQUtxmUYSEcRBSPHFiM+Ih0GeMJny6A97QafTBqcMf+BBlLNSFnP+kEGkiJ3tV9XTQdZ/lfaTZ1pAt6NgCRy6uUF85XinuUjZQfJnz6sghcdBWSlmlJVdIEHOn4sMu8q1QT+C36lH5PVBDoUVEDkD9kE9ohmZHOn9QEmm8IHZLX1BKeYh45xUR0FUussn0zuMQem5R+nUoGBBV/1w1GaR2UCYZEC6GhJfQeOoUzZaDMdBeMIhM3YFckEA/oj8z0T5Qd91ABpSZGFBjwY/eJM+ukFLwYXax223QUe1Ie/IQ41BrTOXhg82rEGG5fZGfc0hQUH3RPxpy9BBq2z1rlaNc0HVVwhWR4+UQawQOHviTYdBoFvdlwbdKEHGR2u1LhKiQZ3hwEx+w4VBAAnrmxHSqkFDdINeUt2FQRvr229osUZBfkzvoTTrqkEz4EJDaR4EQYyj9unzsdZBDBgk2BtYUEFp3CahXpy8QX9CMShBvWJBpdlcKTNLZUFDcrVmj28GQrW4myEKNpZB+6LDA5KVnEEDsNxDkR/DQYSHQSI662ZB\",\"dtype\":\"float64\",\"shape\":[126]}},\"selected\":{\"id\":\"18255\",\"type\":\"Selection\"},\"selection_policy\":{\"id\":\"18256\",\"type\":\"UnionRenderers\"}},\"id\":\"18229\",\"type\":\"ColumnDataSource\"},{\"attributes\":{},\"id\":\"18804\",\"type\":\"UnionRenderers\"},{\"attributes\":{\"data_source\":{\"id\":\"18711\",\"type\":\"ColumnDataSource\"},\"glyph\":{\"id\":\"18712\",\"type\":\"Circle\"},\"hover_glyph\":null,\"muted_glyph\":null,\"nonselection_glyph\":{\"id\":\"18713\",\"type\":\"Circle\"},\"selection_glyph\":null,\"view\":{\"id\":\"18715\",\"type\":\"CDSView\"}},\"id\":\"18714\",\"type\":\"GlyphRenderer\"},{\"attributes\":{\"line_color\":\"#9C372F\",\"x\":{\"field\":\"x\"},\"y\":{\"field\":\"y\"}},\"id\":\"18806\",\"type\":\"Line\"},{\"attributes\":{\"line_alpha\":0.1,\"line_color\":\"#1f77b4\",\"x\":{\"field\":\"x\"},\"y\":{\"field\":\"y\"}},\"id\":\"19470\",\"type\":\"Line\"},{\"attributes\":{\"align\":\"left\",\"offset\":2,\"text\":\"\",\"text_color\":{\"value\":\"black\"},\"text_font\":\"Helvetica\",\"text_font_style\":\"italic\"},\"id\":\"18235\",\"type\":\"Title\"},{\"attributes\":{\"data_source\":{\"id\":\"18757\",\"type\":\"ColumnDataSource\"},\"glyph\":{\"id\":\"18758\",\"type\":\"Line\"},\"hover_glyph\":null,\"muted_glyph\":null,\"nonselection_glyph\":{\"id\":\"18759\",\"type\":\"Line\"},\"selection_glyph\":null,\"view\":{\"id\":\"18761\",\"type\":\"CDSView\"}},\"id\":\"18760\",\"type\":\"GlyphRenderer\"},{\"attributes\":{\"fill_alpha\":{\"value\":0.1},\"fill_color\":{\"value\":\"#1f77b4\"},\"line_alpha\":{\"value\":0.1},\"line_color\":{\"value\":\"#1f77b4\"},\"size\":{\"units\":\"screen\",\"value\":6},\"x\":{\"field\":\"x\"},\"y\":{\"field\":\"y\"}},\"id\":\"18713\",\"type\":\"Circle\"},{\"attributes\":{\"data_source\":{\"id\":\"18805\",\"type\":\"ColumnDataSource\"},\"glyph\":{\"id\":\"18806\",\"type\":\"Line\"},\"hover_glyph\":null,\"muted_glyph\":null,\"nonselection_glyph\":{\"id\":\"18807\",\"type\":\"Line\"},\"selection_glyph\":null,\"view\":{\"id\":\"18809\",\"type\":\"CDSView\"}},\"id\":\"18808\",\"type\":\"GlyphRenderer\"},{\"attributes\":{\"callback\":null,\"data\":{\"x\":{\"__ndarray__\":\"AAAAAAAAJEBlm5whrLUoQHrj1I5Chy5AAY++W8/bMkDzMfI3rUw3QHYvvYNByTxAZXt8d0vIQUCaRfpFSPhFQNh4Ml60JEtAJNzrtoDEUEDN8KxRULdUQD8eNkQnmFlASzaMyRKfX0A+wSCOqYhjQBowWpQ7ImhAOKhgzxnRbUDUAZtgSGtyQMhguq+mwXZAzwJuBX4dfEAQE/JzMF6BQCBNptUwdYVALkFvQb6CikDBmXDZc2CQQHKj+g+0O5RA1EExVG//mEC9fOhsZOKeQB1sNS8bFKNAHxlyyDqSp0BL7xv8Lx+tQM2iX9Vg/bFA++YTtN05tkDR8+hru3W7QHhq846O9sBA0XOXmif1xEAhzUaMjuTJQJQL5fF3/c9AQh/iX/nC00AmjxalRmrYQIzM2OYbKt5A/hNhSkSi4kDskn48lQXnQL9GfL9rcexAI0mpEwmS8UA7FCzvPrX1QCETwtPh0fpADKrABleRAEEienVZGngEQV1uTLgOSglBK6GRVpY+D0HMt2YQD00TQQ==\",\"dtype\":\"float64\",\"shape\":[50]},\"y\":{\"__ndarray__\":\"qxeY1zfmwkBvuoUkiVnHQFaZaqEk2cxANCuP5BvS0UDe9i9VaATWQOzWV2GvM9tA8HS0wsHN4ECx2CA8v8LkQER+vmtHpulAyxn1e4aw70Ctjc1vcZPzQCIBrV2NL/hAGsP3io7h/UCFS8rBcnUCQQiYxuE1zgZB9GMZVwItDEEZEapRxmcRQUM0TIsIgRVBug6C4V+RGkG6smatfWkgQQiE3cHeRiRBtVKNMjsNKUEY+hb9b/MuQVnI/byiHjNBglL4Fz2fN0F5CNCGQi89Qecpdo5OB0JBUnxt9SFGRkEKrjYn44RLQdZhvDrr/1BBK5JhprgAVUFirKPe2PJZQdTtkN6PB2BBYgJFcOHNY0GozDIxwHdoQRRwJ8LBOm5ByP8aBI2sckF7OXHsSRJ3Qcg/MmMegXxBvWaVjrubgUEo5Pv+OcGFQWNpJyGv4IpBHlLh1XuakEHx5AdhZoOUQX9/4cUDWJlB8724yNRPn0H7u90MtlejQVDvnR7B5adB1Q3sfmGGrUE1cl4GID2yQQ==\",\"dtype\":\"float64\",\"shape\":[50]}},\"selected\":{\"id\":\"19612\",\"type\":\"Selection\"},\"selection_policy\":{\"id\":\"19613\",\"type\":\"UnionRenderers\"}},\"id\":\"19468\",\"type\":\"ColumnDataSource\"},{\"attributes\":{\"callback\":null,\"data\":{\"x\":{\"__ndarray__\":\"AAAAAAAA+H8AAAAAAAD4fwAAAAAAAPh/AAAAAAAA+H8AAAAAAAD4fwAAAAAAAPh/AAAAAAAA+H8AAAAAAAD4fwAAAAAAAPh/AAAAAAAA+H8AAAAAAAD4fwAAAAAAAPh/AAAAAAAA+H8AAAAAAAD4fwAAAAAAAPh/AAAAAAAA+H8AAAAAAAD4fwAAAAAAAPh/AAAAAAAA+H/hBqhBvyeDQP0rmrE7sIVAAAAAAAAA+H8AAAAAAAD4f0/5zpJ2hJdAAAAAAAAA+H8AAAAAAAD4fwAAAAAAAPh/AAAAAAAA+H8AAAAAAAD4fwAAAAAAAPh/WqGcHNL0uEDLR2pOJsy7QGYw8i5RXcJAAMx/20RNx0ABu5a7b9rNQI71kM5hP9FAHF4yCOxP1UBDOGBg5hHbQJayjz/FcuFAerE98NRT5UArd3YTEh3rQAAAAAAAAPh/f7nfZKhp8kAyFjplBLj3QNX0RclP6PxAal2H3piiAkEAAAAAAAD4fwAAAAAAAPh/AAAAAAAA+H8=\",\"dtype\":\"float64\",\"shape\":[49]},\"y\":{\"__ndarray__\":\"AAAAAAAA+H8AAAAAAAD4fwAAAAAAAPh/AAAAAAAA+H8AAAAAAAD4fwAAAAAAAPh/AAAAAAAA+H8AAAAAAAD4fwAAAAAAAPh/AAAAAAAA+H8AAAAAAAD4fwAAAAAAAPh/AAAAAAAA+H8AAAAAAAD4fwAAAAAAAPh/AAAAAAAA+H8AAAAAAAD4fwAAAAAAAPh/AAAAAAAA+H/YJIZ6zA3BQFy5yQ2bwglBAAAAAAAA+H8AAAAAAAD4f7rHqa2We5JAAAAAAAAA+H8AAAAAAAD4fwAAAAAAAPh/AAAAAAAA+H8AAAAAAAD4fwAAAAAAAPh/ohm+s8g3U0E3MxB26/piQRWG9xhqhFhB2zwIBwHkTEG155hI/BN3QS95V0sNbi5BaJWK/t7nc0HZSBdmgZN7QaAWZOzGM5ZBuouNYEsXYUEZZILhEQKxQQAAAAAAAPh/H9N7gfpNqkHJY+3YzKuNQSDsmvNS5adBZ40kWksKxkEAAAAAAAD4fwAAAAAAAPh/AAAAAAAA+H8=\",\"dtype\":\"float64\",\"shape\":[49]}},\"selected\":{\"id\":\"19538\",\"type\":\"Selection\"},\"selection_policy\":{\"id\":\"19539\",\"type\":\"UnionRenderers\"}},\"id\":\"19398\",\"type\":\"ColumnDataSource\"},{\"attributes\":{\"fill_alpha\":{\"value\":0.5},\"fill_color\":{\"value\":\"#E39943\"},\"line_alpha\":{\"value\":0.5},\"line_color\":{\"value\":\"#E39943\"},\"size\":{\"units\":\"screen\",\"value\":1},\"x\":{\"field\":\"x\"},\"y\":{\"field\":\"y\"}},\"id\":\"19330\",\"type\":\"Circle\"},{\"attributes\":{\"data_source\":{\"id\":\"19398\",\"type\":\"ColumnDataSource\"},\"glyph\":{\"id\":\"19399\",\"type\":\"Circle\"},\"hover_glyph\":null,\"muted_glyph\":null,\"nonselection_glyph\":{\"id\":\"19400\",\"type\":\"Circle\"},\"selection_glyph\":null,\"view\":{\"id\":\"19402\",\"type\":\"CDSView\"}},\"id\":\"19401\",\"type\":\"GlyphRenderer\"},{\"attributes\":{\"data_source\":{\"id\":\"19468\",\"type\":\"ColumnDataSource\"},\"glyph\":{\"id\":\"19469\",\"type\":\"Line\"},\"hover_glyph\":null,\"muted_glyph\":null,\"nonselection_glyph\":{\"id\":\"19470\",\"type\":\"Line\"},\"selection_glyph\":null,\"view\":{\"id\":\"19472\",\"type\":\"CDSView\"}},\"id\":\"19471\",\"type\":\"GlyphRenderer\"},{\"attributes\":{\"callback\":null,\"data\":{\"x\":{\"__ndarray__\":\"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\",\"dtype\":\"float64\",\"shape\":[188]},\"y\":{\"__ndarray__\":\"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\",\"dtype\":\"float64\",\"shape\":[188]}},\"selected\":{\"id\":\"18755\",\"type\":\"Selection\"},\"selection_policy\":{\"id\":\"18756\",\"type\":\"UnionRenderers\"}},\"id\":\"18666\",\"type\":\"ColumnDataSource\"},{\"attributes\":{},\"id\":\"19539\",\"type\":\"UnionRenderers\"},{\"attributes\":{},\"id\":\"19396\",\"type\":\"UnionRenderers\"},{\"attributes\":{\"callback\":null,\"data\":{\"x\":{\"__ndarray__\":\"AAAAAAAAJEBlm5whrLUoQHrj1I5Chy5AAY++W8/bMkDzMfI3rUw3QHYvvYNByTxAZXt8d0vIQUCaRfpFSPhFQNh4Ml60JEtAJNzrtoDEUEDN8KxRULdUQD8eNkQnmFlASzaMyRKfX0A+wSCOqYhjQBowWpQ7ImhAOKhgzxnRbUDUAZtgSGtyQMhguq+mwXZAzwJuBX4dfEAQE/JzMF6BQCBNptUwdYVALkFvQb6CikDBmXDZc2CQQHKj+g+0O5RA1EExVG//mEC9fOhsZOKeQB1sNS8bFKNAHxlyyDqSp0BL7xv8Lx+tQM2iX9Vg/bFA++YTtN05tkDR8+hru3W7QHhq846O9sBA0XOXmif1xEAhzUaMjuTJQJQL5fF3/c9AQh/iX/nC00AmjxalRmrYQIzM2OYbKt5A/hNhSkSi4kDskn48lQXnQL9GfL9rcexAI0mpEwmS8UA7FCzvPrX1QCETwtPh0fpADKrABleRAEEienVZGngEQV1uTLgOSglBK6GRVpY+D0HMt2YQD00TQQ==\",\"dtype\":\"float64\",\"shape\":[50]},\"y\":{\"__ndarray__\":\"0hHOcR/d1ECVEA+p3cbZQOroqS3J2N9As/kRT1Cs40BVLQqHR07oQBi+BQ2FB+5AMao8SOaM8kD/G3MiL+v2QK+SmzrOUPxARqebO+N9AUGV652BWpwFQZ5+Ls0gswpBm+c4iFd+EEGySeSVoWAUQVmBsf4OLRlBpTjzc8IaH0Emad817TYjQX+83Og/vSdBr9uog1ZULUF8S5ImNh4yQQKkN1RuYjZB/A3dctmnO0EGLKoyhBVBQReAiphnG0VB4LbxYtATSkHYQQdP7RtQQUn9uI0K51NBFjNhFNaWWEEIlZeXKWFeQdcMFoxGxGJBq1ndqpkvZ0Gjx3QiVaVsQX4DT3sasnFBHFZ1g93cdUG2Vm7P1AJ7QTHNGO+Tr4BB7/q6G3adhEEN55GUNniJQW5rrKGcd49BLzjvCElwk0FVTQKGHQSYQY598yrkq51BhoxL/ktUokH5YnOhQKWmQRWb4P1n+qtBt6WL4YNIsUHjH0GraVq1Qa5W2NCoYbpBB/7m7ANMwEFEwCAcdCLEQQ==\",\"dtype\":\"float64\",\"shape\":[50]}},\"selected\":{\"id\":\"18708\",\"type\":\"Selection\"},\"selection_policy\":{\"id\":\"18709\",\"type\":\"UnionRenderers\"}},\"id\":\"18624\",\"type\":\"ColumnDataSource\"},{\"attributes\":{\"ticker\":null},\"id\":\"18238\",\"type\":\"LogTickFormatter\"},{\"attributes\":{},\"id\":\"18756\",\"type\":\"UnionRenderers\"},{\"attributes\":{},\"id\":\"20013\",\"type\":\"Selection\"},{\"attributes\":{\"source\":{\"id\":\"18757\",\"type\":\"ColumnDataSource\"}},\"id\":\"18761\",\"type\":\"CDSView\"},{\"attributes\":{\"line_color\":\"#9C372F\",\"x\":{\"field\":\"x\"},\"y\":{\"field\":\"y\"}},\"id\":\"18758\",\"type\":\"Line\"},{\"attributes\":{\"source\":{\"id\":\"18805\",\"type\":\"ColumnDataSource\"}},\"id\":\"18809\",\"type\":\"CDSView\"},{\"attributes\":{},\"id\":\"19613\",\"type\":\"UnionRenderers\"},{\"attributes\":{\"callback\":null,\"data\":{\"x\":{\"__ndarray__\":\"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\",\"dtype\":\"float64\",\"shape\":[293]},\"y\":{\"__ndarray__\":\"vir+siI8IUFBZsVQedI5QRhmDYsDkiFBV2fyt6GnRUG6x7SNNv2/QXvK6nf1tlpBNMUEETpT7ECmTqC0L+ueQH3Da777OlNBbiDY8KoFYEEJlpu4NCBvQVZMHCAx6mJBSHHRrWu2oEGYOINcsggnQU3s7m6HsgBBuQq89ZBCikGPGfRKO9nmQBXaoDjZdvZAHn/Tsza+HkEVF5arzwVUQV1Tmy7OHYlBj//VIyGUTUGq//8PwhF9QfsR6Vx1nJNAp72yelVIGUHkjIQJ+4zpQJU3t6+a9DdBTc2Cq3P9cUCBfWd1pSo6QR2FZKFUodNApR2Akk0m6UAjOsp3MdiTQCLU8P0X6DZBwgWrN7LPS0HYIblZaQijQYE4DXSEGvdAJiywtEvDD0GIme7KNFcSQbphfNY0xVNBFmZzu7SAYkHBnxIgYfm3QRH70FZPgvdAW6SsTzLdA0FhwYOiWMAAQXfwHkBM3GJBaIJGtrLJCkFJ/EEPMthBQWfstc36wXpBEiXZbQeaBkEUrZe+ysMCQaYgjsufTMhB618ai24SGEEex83B4A/WQIuJtDQNZvlAqb4Gs+NTKkGumkblovMzQU1qPlPTFyNBvwas/XphhEHdJ4AoUNWBQXw/vNnsqENBKJ55MXRsrUGFk6f09wPNQOe1GkwmFRhBK0J2I1ZwKkEScRVykQHiQK979HkJWBVBFUMKKHs4RUFY5lH4hP52QRhddX1N5+dAS9AqLUj7S0HyKOpGUzUBQb3kCuveaRtBRVzy84Ph+kDF7FqilEeQQA8SSZCsdBpBTyLUGxi7iEFLNgjw/Eg4QRqK46l30ZZBn08yk0Sr1ECZSH8O27mDQNhLBH4iuepAZqjc02SEO0Ebq/ZmZg4+QUH9wJN3snlAXfkTRsoC3kFUlqsoCyUlQaKFTlkBvTRB2fv//485+EAnmTfxanqrQE/sk8Q9OBdB/cNOMd6dHkHUjhWKKNI0QbIHZParqjlBL35bf2zXZkFMBZuKjXXRQLTL+KpopQBBYcsuy5MWP0FrTfqSkbXKQBTSSO7IQfhAy4bD1ZBT7kDY4oLfg6s+QQyTEyAuQSlBqCMk0Jb+ukGtaVd4lBuJQcZ4s1lSyplB+Ks8sV0IhUEZ0g92c5FMQQGfYp5drgBBBqtlKxGQBUCiQHRPsETpQLlO4P29a0VBVe2YOWO28kBpzbrM+vo3QbL8sArJaWVB0a2/ARrenkGHeoLPA/e2QZsOIup012VBvLe9/lDOekG18f3GYWGBQVAqW96cgfpAJkBCQWXKLEGg0LmtfFneQfBZ6NPiOaNB6exBwLqaw0Fu8WVTyZCGQfCP6U1omhVBChlBsuVqUkEE0gm1eV8OQQgwaQtOjp1AaMfNFGTDFUFKX0f4vOvyQLE/dRiNj+dAdhaqqIxhj0Gn2HE1wVWKQFUaRFJz4wZBEumZg7D6F0HuKIwWCujAQKHpLSK6cOFAdyKhG/1cjUEH7Y/Q3M1dQbisMU7B7uZA5Kqfc2VPMkFOh7R6RTAbQZI/C70uwyRB8LlWnT3OZEF5FomvfC19QSY/Gdke1z1BIBdSe3lZREE8amQiyDUaQS0cTYMAWohBxkOxevkHcUFiFUrUeNupQFPW7oWMmDxBdufSe6pbGUHityqok4gkQeVEDN5FVD9BHWnkc8cJH0H8zWvbuS2FQa31QHYmR6BBzj1B+xmkbkFb7vRlSC1pQdYqH0o9KlVBZeo5kMPDCUGQKHoA8sUxQay8cPIuURFByXvzCR7NAEE0G/J+4ujlQJyYrPqdAaJAd/HZrw1kYkF88glwLfljQdV19uDyJPtAT4NiA/myjUFb8U99Bi2VQF8Hm5SdPJJAknjz4lPqKkHdA+degOTQQKbUyfdqykJBVu/c/K/1FkEk56SARQXNQJ9zo6LkNP5A2i4ZO7by50ClW8kWeeULQSbYARlQgPJA7CyyvJUDO0G64wM/ccMMQcim9hbxHYRBYAWqQhszh0AW1I//fF0lQSz76Lgm/QlBulpOLceQRUG2bc0HYNFhQd/2pV/cYR1BiP3///9guECtMbkPV7YoQSMJh6AKFlZBMOg7GMCsZUEsy6hCzxNOQUU7AuJbyQFBjS1XvoWCRUGtfywfraQnQSXpYaPxpYNAzEUmQNY8F0Hadjyb/SVOQamb1d0yYmBBMZvpL6jtDUHW+hOpgMYdQcOmA8Gqj7RBtLJybguyYUGoenQxjcpHQc+AeF25codBQfnzSclOFEE+xkjkzm4yQdK89SfyPQhB2P+zSzGLE0FG69wMMnsmQQB3Q3EMIXJBxcjQBEnCFUFVeuJXIDINQcssoGaD2AFB3NeCBozNN0GYe5qiq8/AQB6yoBmKgtNAkQpoSGNZI0F8f1X4PjcGQfexgZ5jnWJBgXraeSDqrECU9EUrFKPQQLD4e8BE9ypBWBiTDSXhBEFp5GANLDESQQV65dNKAV5Bldu/Na2GbEGbICxeotoAQeSkfTXGBwZBLGVO5jOuMkH4otPWxqmoQBSzsTYH5idBxJYbG7rrvkDl5vIQ0zrXQJDUXant0BBB3IG0IpwnGUEPxEnoKvCAQUiTItSjJQFBtr+qEQdk10HzxS8bOgmlQe5HDZTwQOFAJr3UAYXSYEFVoaOT2fxMQXPzaHfHIEVBBPc8WvcvfEF1VeAsc/PEQe////9Y+HJB7k2+Wr6qV0E4JmvBmLMQQWxhXK7jIx9BQB0P44dpSkE10cS0QS87QQj5pY3rEJBBl1ks6ocDsUEWpWiBDElCQW0P1F5RY+VAqCtM+fgoDEGQxifkxkLtQIsivPgDJxlBsDTMTtKWE0EYb5vfePRdQV0LCgAyC4pBh0e8pzMQGEEAAAAAwuQlQcY4KHO3qdBAoeQ76MazJ0H9Nfhd/00QQQ+vLGbKnxNB+9tyFa2tcEDHxsk0aaNnQSiYTQ7Sh81ARjgy5NgXG0FXpOHxCZEiQfrIWSN3UyBBP7ZicxW7ZUE64dfnera2QUf8Lpawy5tBhaRKCV+ddEEPodTTBlFmQeYIv2uDT7tBxhaLY3uJy0A4pF8APGUaQfSH8RHQmVNB9eN8ljRXd0HhdnHLCGx8QcQJPLMr0aVB7zkgEuTqgUFFs5/Rb+QOQQ==\",\"dtype\":\"float64\",\"shape\":[293]}},\"selected\":{\"id\":\"18960\",\"type\":\"Selection\"},\"selection_policy\":{\"id\":\"18961\",\"type\":\"UnionRenderers\"}},\"id\":\"18855\",\"type\":\"ColumnDataSource\"},{\"attributes\":{},\"id\":\"18623\",\"type\":\"UnionRenderers\"},{\"attributes\":{\"bottom_units\":\"screen\",\"fill_alpha\":{\"value\":0.5},\"fill_color\":{\"value\":\"lightgrey\"},\"left_units\":\"screen\",\"level\":\"overlay\",\"line_alpha\":{\"value\":1.0},\"line_color\":{\"value\":\"black\"},\"line_dash\":[4,4],\"line_width\":{\"value\":2},\"render_mode\":\"css\",\"right_units\":\"screen\",\"top_units\":\"screen\"},\"id\":\"18240\",\"type\":\"BoxAnnotation\"},{\"attributes\":{\"fill_color\":{\"value\":\"#9C372F\"},\"line_color\":{\"value\":\"#9C372F\"},\"size\":{\"units\":\"screen\",\"value\":6},\"x\":{\"field\":\"x\"},\"y\":{\"field\":\"y\"}},\"id\":\"18712\",\"type\":\"Circle\"},{\"attributes\":{\"source\":{\"id\":\"19540\",\"type\":\"ColumnDataSource\"}},\"id\":\"19544\",\"type\":\"CDSView\"},{\"attributes\":{},\"id\":\"18853\",\"type\":\"Selection\"},{\"attributes\":{\"fill_alpha\":{\"value\":0.5},\"fill_color\":{\"value\":\"#7292C7\"},\"line_alpha\":{\"value\":0.5},\"line_color\":{\"value\":\"#7292C7\"},\"size\":{\"units\":\"screen\",\"value\":1},\"x\":{\"field\":\"x\"},\"y\":{\"field\":\"y\"}},\"id\":\"19615\",\"type\":\"Circle\"},{\"attributes\":{\"source\":{\"id\":\"18584\",\"type\":\"ColumnDataSource\"}},\"id\":\"18588\",\"type\":\"CDSView\"},{\"attributes\":{},\"id\":\"19612\",\"type\":\"Selection\"},{\"attributes\":{\"line_alpha\":0.1,\"line_color\":\"#1f77b4\",\"x\":{\"field\":\"x\"},\"y\":{\"field\":\"y\"}},\"id\":\"18807\",\"type\":\"Line\"},{\"attributes\":{},\"id\":\"19538\",\"type\":\"Selection\"},{\"attributes\":{\"callback\":null,\"data\":{\"x\":{\"__ndarray__\":\"AAAAAAAA+H8AAAAAAAD4fwAAAAAAAPh/AAAAAAAA+H8AAAAAAAD4fwAAAAAAAPh/AAAAAAAA+H8AAAAAAAD4fwAAAAAAAPh/AAAAAAAA+H8AAAAAAAD4fwAAAAAAAPh/AAAAAAAA+H8AAAAAAAD4fwAAAAAAAPh/AAAAAAAA+H8AAAAAAAD4fwAAAAAAAPh/AAAAAAAA+H8AAAAAAAD4fwAAAAAAAPh/AAAAAAAA+H8AAAAAAAD4fwAAAAAAAPh/AAAAAAAA+H8AAAAAAAD4fwAAAAAAAPh/AAAAAAAA+H8AAAAAAAD4fwAAAAAAAPh/AAAAAAAA+H8AAAAAAAD4fwAAAAAAAPh/AAAAAAAA+H8AAAAAAAD4fwAAAAAAAPh/AAAAAAAA+H8AAAAAAAD4f+CVKt8VVt5AAAAAAAAA+H8QYXcKbh/sQHnJVSFV5/BAiphuVevF80BPH1tzL4L4QKw508oQiP5AR11vU8bRAkHOe/Kt0MoGQQSsp8x+VQtBS1kuDCxDEkE=\",\"dtype\":\"float64\",\"shape\":[49]},\"y\":{\"__ndarray__\":\"AAAAAAAA+H8AAAAAAAD4fwAAAAAAAPh/AAAAAAAA+H8AAAAAAAD4fwAAAAAAAPh/AAAAAAAA+H8AAAAAAAD4fwAAAAAAAPh/AAAAAAAA+H8AAAAAAAD4fwAAAAAAAPh/AAAAAAAA+H8AAAAAAAD4fwAAAAAAAPh/AAAAAAAA+H8AAAAAAAD4fwAAAAAAAPh/AAAAAAAA+H8AAAAAAAD4fwAAAAAAAPh/AAAAAAAA+H8AAAAAAAD4fwAAAAAAAPh/AAAAAAAA+H8AAAAAAAD4fwAAAAAAAPh/AAAAAAAA+H8AAAAAAAD4fwAAAAAAAPh/AAAAAAAA+H8AAAAAAAD4fwAAAAAAAPh/AAAAAAAA+H8AAAAAAAD4fwAAAAAAAPh/AAAAAAAA+H8AAAAAAAD4f6Bb3ZcG3ShBAAAAAAAA+H/fJ/XKr8sMQdnXvRzQW6BBNg8QN9AFm0FbOE46S4eUQaO2Z56JAbdBiXtoZEGWv0H/deg59/zXQUG8KZ49++JBdBBG2jq75EE=\",\"dtype\":\"float64\",\"shape\":[49]}},\"selected\":{\"id\":\"18271\",\"type\":\"Selection\"},\"selection_policy\":{\"id\":\"18272\",\"type\":\"UnionRenderers\"}},\"id\":\"18243\",\"type\":\"ColumnDataSource\"},{\"attributes\":{},\"id\":\"18622\",\"type\":\"Selection\"},{\"attributes\":{},\"id\":\"19466\",\"type\":\"Selection\"},{\"attributes\":{\"source\":{\"id\":\"19329\",\"type\":\"ColumnDataSource\"}},\"id\":\"19333\",\"type\":\"CDSView\"},{\"attributes\":{\"line_alpha\":0.1,\"line_color\":\"#1f77b4\",\"x\":{\"field\":\"x\"},\"y\":{\"field\":\"y\"}},\"id\":\"18626\",\"type\":\"Line\"},{\"attributes\":{\"callback\":null,\"data\":{\"x\":{\"__ndarray__\":\"AAAAAAAA+H8AAAAAAAD4fwAAAAAAAPh/AAAAAAAA+H8AAAAAAAD4fwAAAAAAAPh/AAAAAAAA+H8AAAAAAAD4fwAAAAAAAPh/AAAAAAAA+H8AAAAAAAD4fwAAAAAAAPh/AAAAAAAA+H8AAAAAAAD4fwAAAAAAAPh/ARdbe3qnb0BBCNo6xnl2QAAAAAAAAPh/J1uRfNkrf0DBWQV28qSCQCQov3dIvohAqgOg6goikEDtaktmBb6SQBv8bbhLOJZAWK50SmHYm0BQZQHo4xmhQCcfJdq2h6RAU5uSmvVuqkAD0X1BHW6wQBPc+ZZvJ7RADXrnCFpSuEC3XFp5cea9QMMw32+YzcNAsgD+C+L8xUC4oFDH3OzNQIW8ht6AfNFAyRQYRISe1UB88H8ViEnbQC97ghYL5+BAozp48Z8z5UDO0OBLJCLqQLZo9AsWcu5A6WdObGZZ80COrjIynl/2QPuEp3byKv5A6M2VRZReA0GTMKVgR/IGQT0WDgQ30QtBKnoF4ruhEUE=\",\"dtype\":\"float64\",\"shape\":[49]},\"y\":{\"__ndarray__\":\"AAAAAAAA+H8AAAAAAAD4fwAAAAAAAPh/AAAAAAAA+H8AAAAAAAD4fwAAAAAAAPh/AAAAAAAA+H8AAAAAAAD4fwAAAAAAAPh/AAAAAAAA+H8AAAAAAAD4fwAAAAAAAPh/AAAAAAAA+H8AAAAAAAD4fwAAAAAAAPh/XcmMybRV6UDAbelkTcbiQAAAAAAAAPh/4ZXn7pByu0Brr+l7/6/3QJkGr62tmA9BVxiEvehbIUGwhJ/W9bwgQYCuBhAxQAlBl1m599mM80DutFBSJzf2QD9j/4I/9hhBJk9lTAtCOkHSCUxZ9tJBQWxvBuy360BB/RaYoUsQSUGIZcbXRMlQQYm9CVbXnzRBhrb2Vy6aUUHJToraj+U0QSJwruL4OmZB2U8GrRtNTEGuVw79r41tQfTAY/++Ym5BJoENoZLSgEH3oqWNoF9zQQZcepFhcYJBsX1NUUPVjUEjXOGXYfXTQV+ciDm+5JtBO6i7fljbuEHLqDvPaX68QS7CkEUDQsFBqMeEb74M3UE=\",\"dtype\":\"float64\",\"shape\":[49]}},\"selected\":{\"id\":\"18803\",\"type\":\"Selection\"},\"selection_policy\":{\"id\":\"18804\",\"type\":\"UnionRenderers\"}},\"id\":\"18711\",\"type\":\"ColumnDataSource\"},{\"attributes\":{},\"id\":\"18803\",\"type\":\"Selection\"},{\"attributes\":{\"fill_color\":{\"value\":\"#E39943\"},\"line_color\":{\"value\":\"#E39943\"},\"size\":{\"units\":\"screen\",\"value\":6},\"x\":{\"field\":\"x\"},\"y\":{\"field\":\"y\"}},\"id\":\"19399\",\"type\":\"Circle\"},{\"attributes\":{\"line_color\":\"#3F60AC\",\"x\":{\"field\":\"x\"},\"y\":{\"field\":\"y\"}},\"id\":\"18625\",\"type\":\"Line\"},{\"attributes\":{\"fill_alpha\":{\"value\":0.1},\"fill_color\":{\"value\":\"#1f77b4\"},\"line_alpha\":{\"value\":0.1},\"line_color\":{\"value\":\"#1f77b4\"},\"size\":{\"units\":\"screen\",\"value\":6},\"x\":{\"field\":\"x\"},\"y\":{\"field\":\"y\"}},\"id\":\"19400\",\"type\":\"Circle\"},{\"attributes\":{},\"id\":\"18755\",\"type\":\"Selection\"},{\"attributes\":{},\"id\":\"19467\",\"type\":\"UnionRenderers\"},{\"attributes\":{\"label\":{\"value\":\"20190104\"},\"renderers\":[{\"id\":\"19332\",\"type\":\"GlyphRenderer\"},{\"id\":\"19401\",\"type\":\"GlyphRenderer\"},{\"id\":\"19471\",\"type\":\"GlyphRenderer\"},{\"id\":\"19543\",\"type\":\"GlyphRenderer\"}]},\"id\":\"19397\",\"type\":\"LegendItem\"},{\"attributes\":{\"callback\":null,\"data\":{\"x\":{\"__ndarray__\":\"AAAAAAAAJEBlm5whrLUoQHrj1I5Chy5AAY++W8/bMkDzMfI3rUw3QHYvvYNByTxAZXt8d0vIQUCaRfpFSPhFQNh4Ml60JEtAJNzrtoDEUEDN8KxRULdUQD8eNkQnmFlASzaMyRKfX0A+wSCOqYhjQBowWpQ7ImhAOKhgzxnRbUDUAZtgSGtyQMhguq+mwXZAzwJuBX4dfEAQE/JzMF6BQCBNptUwdYVALkFvQb6CikDBmXDZc2CQQHKj+g+0O5RA1EExVG//mEC9fOhsZOKeQB1sNS8bFKNAHxlyyDqSp0BL7xv8Lx+tQM2iX9Vg/bFA++YTtN05tkDR8+hru3W7QHhq846O9sBA0XOXmif1xEAhzUaMjuTJQJQL5fF3/c9AQh/iX/nC00AmjxalRmrYQIzM2OYbKt5A/hNhSkSi4kDskn48lQXnQL9GfL9rcexAI0mpEwmS8UA7FCzvPrX1QCETwtPh0fpADKrABleRAEEienVZGngEQV1uTLgOSglBK6GRVpY+D0HMt2YQD00TQQ==\",\"dtype\":\"float64\",\"shape\":[50]},\"y\":{\"__ndarray__\":\"Y8qngLJ/0UAjUz3elp7VQOt72PHjtdpAq3AhXQyA4EC+K5hIvWLkQKArWcipL+lAI1n7Qfod70DRPtsb6jjzQBX1FKW0v/dAwo9QTl9X/UCD4s0BFiACQaDr7S6/ZAZBXCz76LWqC0GLg2+rSBcRQa+D8p2WHRVBubUqDIMWGkFBsmn1lx0gQTQWHKwZ6SNB/MxjU2GZKEGliRMyTmQuQeBMiJU3xjJBDYV+v/8xN0FQARbSS6g8QV5QSyfvs0FBmWutjCDfRUEIYgkzoAVLQQR3BdxNsVBBmc2FGZifVEH40bIk2XpZQSrB5greel9BmscQ3ktyY0FU8xuXmQZoQXbGdQT2rm1Ba+H6cTFWckFizu5lmKd2QZIChP5M/XtBNlIFoU1KgUFp0m41n1yFQU2lzodjZIpBkKXojLNNkEGGmg1giSSUQZbX+RDQ4phBabjItwe/nkGV0ajzQv6iQbG936w9d6dB8LKE5tf9rEE1aoy9x+ixQbQAHuNqILZB8v0+ekpWu0FsbmFkIuPAQQ==\",\"dtype\":\"float64\",\"shape\":[50]}},\"selected\":{\"id\":\"18905\",\"type\":\"Selection\"},\"selection_policy\":{\"id\":\"18906\",\"type\":\"UnionRenderers\"}},\"id\":\"18805\",\"type\":\"ColumnDataSource\"},{\"attributes\":{},\"id\":\"18219\",\"type\":\"SaveTool\"},{\"attributes\":{\"source\":{\"id\":\"18666\",\"type\":\"ColumnDataSource\"}},\"id\":\"18670\",\"type\":\"CDSView\"},{\"attributes\":{\"line_alpha\":0.1,\"line_color\":\"#1f77b4\",\"x\":{\"field\":\"x\"},\"y\":{\"field\":\"y\"}},\"id\":\"19542\",\"type\":\"Line\"},{\"attributes\":{\"callback\":null,\"data\":{\"x\":{\"__ndarray__\":\"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\",\"dtype\":\"float64\",\"shape\":[470]},\"y\":{\"__ndarray__\":\"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\",\"dtype\":\"float64\",\"shape\":[470]}},\"selected\":{\"id\":\"19767\",\"type\":\"Selection\"},\"selection_policy\":{\"id\":\"19768\",\"type\":\"UnionRenderers\"}},\"id\":\"19614\",\"type\":\"ColumnDataSource\"},{\"attributes\":{},\"id\":\"19134\",\"type\":\"Selection\"},{\"attributes\":{\"line_alpha\":0.1,\"line_color\":\"#1f77b4\",\"x\":{\"field\":\"x\"},\"y\":{\"field\":\"y\"}},\"id\":\"20192\",\"type\":\"Line\"},{\"attributes\":{},\"id\":\"18854\",\"type\":\"UnionRenderers\"},{\"attributes\":{\"label\":{\"value\":\"20181021\"},\"renderers\":[{\"id\":\"18232\",\"type\":\"GlyphRenderer\"},{\"id\":\"18246\",\"type\":\"GlyphRenderer\"},{\"id\":\"18260\",\"type\":\"GlyphRenderer\"},{\"id\":\"18276\",\"type\":\"GlyphRenderer\"}]},\"id\":\"18242\",\"type\":\"LegendItem\"},{\"attributes\":{},\"id\":\"18220\",\"type\":\"ResetTool\"},{\"attributes\":{},\"id\":\"18709\",\"type\":\"UnionRenderers\"},{\"attributes\":{\"data_source\":{\"id\":\"19329\",\"type\":\"ColumnDataSource\"},\"glyph\":{\"id\":\"19330\",\"type\":\"Circle\"},\"hover_glyph\":null,\"muted_glyph\":null,\"nonselection_glyph\":{\"id\":\"19331\",\"type\":\"Circle\"},\"selection_glyph\":null,\"view\":{\"id\":\"19333\",\"type\":\"CDSView\"}},\"id\":\"19332\",\"type\":\"GlyphRenderer\"},{\"attributes\":{\"source\":{\"id\":\"18711\",\"type\":\"ColumnDataSource\"}},\"id\":\"18715\",\"type\":\"CDSView\"},{\"attributes\":{\"callback\":null,\"data\":{\"x\":{\"__ndarray__\":\"thsgBz+890D9K5qxO7CFQLKnse7SW/dACopuddSg3EBO3C29ZkbQQE/5zpJ2hJdAisVKMEKU/kBq5yRljObhQJ3kI7TENvlAifcbFn+t60B9X5f/VbHXQMKw8uo6kfZA5EKKFVNoAUG6/ZjSHEHhQMzPcLUonsZAaJbi0MrEwUB2Mdyo4zrUQK0WIP4RG95AlOlgLm/w8kAgJEFiXTz7QP5g8JgsgNhAteCyayVczUDNOBOKzyXBQKKrqTUGd7pAhh+weFTDxUCOjnlBmGXaQOaeiUmODdxAwK/L/8rP1UAGJLtEGBbDQIrFSjDSqOFAMsxDKO2ZuEAw2AvzoZ24QKroZKdfhd1AUvV3dz7w40CwdF5kUYbJQM8O9N9cONJAWNQ+EC+32ECZIJry5gjaQKgfNpaZ+uBApIAmLwb3zEBwNI7bUILUQMtHak4mzLtAahEUuvpJtkCrz+qXIzzPQJrtoSFqrNlA9jSDGKqi8UD8r+RWTlXrQD1KDQz4r+lA9A2759+p8kDhBqhBvyeDQPB3hKfe3ANBVdl7inkO1EBgzhccknTDQOzqy9SCwetAo20DaWu35kAw5uQiuZLVQFTFAYSKz7pA\",\"dtype\":\"float64\",\"shape\":[57]},\"y\":{\"__ndarray__\":\"HnqEVP1KpkFcuckNm8IJQbqpxE0VPXZBHqKHVwR/VEGKiVQjEtw9QbrHqa2We5JAQOpiWRmYtkEUakJP+8WpQVvSsPoKX4JBc6pBkChfeUGLOiuBp25lQTzT/UHAoeZAQl67tjKDk0GlrpCbFsGeQeP15tw+NiJB/KCIkh46eEE1tHdxtn5qQfsmnvxzb6FBiCuaC/LJpUEDHoCjmdN0QSnHvktVo4RBHLh6C11dVkFzvmWfkvLCQEh0dum7CRxBuQq8lU0TPUFLjWQdESjYQKj1gBw3PYhBgMHp/tGUgEH86Rj3yqoLQSgJSyZTGFlBEXk08dP3MUH5WTIYjh0vQT0APwRBcUlBOGnHWZM2SEHvPMAkM+VgQaj0XQBlP+JA+/zngj4LXkEDwBs/wSgoQYKcWBQlwnNBRND8MlSsFEF3vuqC209rQTczEHbr+mJBVHe9cPzDREHsChAj9qiPQYL55t9X1kJBMHxu+QQGikGqSpYaUVLQQUQcvDOvv3BBZNc+HT5PuUHYJIZ6zA3BQIPXuC4Y0tRB/01EPoq/gkHCjMYsnpfwQJhRiXCfFT1BJj2p6vEgbEG0FTmEyU9mQe48G7Oq5HJB\",\"dtype\":\"float64\",\"shape\":[57]}},\"selected\":{\"id\":\"19466\",\"type\":\"Selection\"},\"selection_policy\":{\"id\":\"19467\",\"type\":\"UnionRenderers\"}},\"id\":\"19329\",\"type\":\"ColumnDataSource\"},{\"attributes\":{\"callback\":null,\"data\":{\"x\":{\"__ndarray__\":\"AAAAAAAAJEBlm5whrLUoQHrj1I5Chy5AAY++W8/bMkDzMfI3rUw3QHYvvYNByTxAZXt8d0vIQUCaRfpFSPhFQNh4Ml60JEtAJNzrtoDEUEDN8KxRULdUQD8eNkQnmFlASzaMyRKfX0A+wSCOqYhjQBowWpQ7ImhAOKhgzxnRbUDUAZtgSGtyQMhguq+mwXZAzwJuBX4dfEAQE/JzMF6BQCBNptUwdYVALkFvQb6CikDBmXDZc2CQQHKj+g+0O5RA1EExVG//mEC9fOhsZOKeQB1sNS8bFKNAHxlyyDqSp0BL7xv8Lx+tQM2iX9Vg/bFA++YTtN05tkDR8+hru3W7QHhq846O9sBA0XOXmif1xEAhzUaMjuTJQJQL5fF3/c9AQh/iX/nC00AmjxalRmrYQIzM2OYbKt5A/hNhSkSi4kDskn48lQXnQL9GfL9rcexAI0mpEwmS8UA7FCzvPrX1QCETwtPh0fpADKrABleRAEEienVZGngEQV1uTLgOSglBK6GRVpY+D0HMt2YQD00TQQ==\",\"dtype\":\"float64\",\"shape\":[50]},\"y\":{\"__ndarray__\":\"m8xjdgmIyECRUAzS4E7OQIS4Ygr7uNJAS6CtQqUh10Dxq6V8F5TcQF9KE/1zp+FAWlFa+rTP5UAHMc8Kk/LqQK28kAmJpfBA+Q0/zw2R9EAhykxR4mj5QHbeo0WsZP9A7JOWAJZkA0FG20E2qfUHQQYIB38Img1Bzuzg4UNJEkE5xmZ9n5cWQTeCyjeR6RtBg8X67xw+IUHyGs+lj00lQRR0Ag3IUSpBjKyc8zRCMEFU1T/YVRY0QfV2PG5E0ThBArj8YFqpPkFcsCPl3vBCQYv8r16yZkdBacbKQGfpTEHJYzlRJ9xRQeJgoEjREFZBNhjicgRDW0EmqCRwOtdgQc/Y5uFyzmRBAZT+fby0aUE1Ry4YY8JvQYiaqSB6nnNBfLofOS89eEFR66MzZvJ9QQPrUz/af4JB9VsnlBDbhkFIBpfw4zyMQVY38M6VcZFBvGg9cieNlUHN2552WaCaQdAZEte9cqBBMUH1lExSpEGjsvAAWhupQaZNFAXiBK9Birk/l2kps0H+htibjay3QQ==\",\"dtype\":\"float64\",\"shape\":[50]}},\"selected\":{\"id\":\"18853\",\"type\":\"Selection\"},\"selection_policy\":{\"id\":\"18854\",\"type\":\"UnionRenderers\"}},\"id\":\"18757\",\"type\":\"ColumnDataSource\"},{\"attributes\":{\"callback\":null,\"data\":{\"x\":{\"__ndarray__\":\"AAAAAAAAJEBlm5whrLUoQHrj1I5Chy5AAY++W8/bMkDzMfI3rUw3QHYvvYNByTxAZXt8d0vIQUCaRfpFSPhFQNh4Ml60JEtAJNzrtoDEUEDN8KxRULdUQD8eNkQnmFlASzaMyRKfX0A+wSCOqYhjQBowWpQ7ImhAOKhgzxnRbUDUAZtgSGtyQMhguq+mwXZAzwJuBX4dfEAQE/JzMF6BQCBNptUwdYVALkFvQb6CikDBmXDZc2CQQHKj+g+0O5RA1EExVG//mEC9fOhsZOKeQB1sNS8bFKNAHxlyyDqSp0BL7xv8Lx+tQM2iX9Vg/bFA++YTtN05tkDR8+hru3W7QHhq846O9sBA0XOXmif1xEAhzUaMjuTJQJQL5fF3/c9AQh/iX/nC00AmjxalRmrYQIzM2OYbKt5A/hNhSkSi4kDskn48lQXnQL9GfL9rcexAI0mpEwmS8UA7FCzvPrX1QCETwtPh0fpADKrABleRAEEienVZGngEQV1uTLgOSglBK6GRVpY+D0HMt2YQD00TQQ==\",\"dtype\":\"float64\",\"shape\":[50]},\"y\":{\"__ndarray__\":\"dHBFmp1r0kASqxT7D8LWQBuGThwAHtxA00+D0IBe4UCZW7QelHXlQA9gxes4g+pAsuj2n79g8EAhOYauETz0QB3vcv7i//hAppnfU/Pi/kCtwQV2cxQDQQG55NinkgdBaTRYu7YfDUHBl4IStP0RQYa8JotEOhZB0BGPejp2G0EViQIM3fYgQaDlOJOI9SRBtNSuWgblKUHYLaj2C/4vQQ8e0M9UwzNBB0cvnbdqOEFbnCF5pyo+QeDqdIKaokJB6yErwv8FR0GVfLNa73FMQQ8aH2BaklFBY1OcYKO1VUF+dUXsXdJaQRTWeq+jkWBBfjx5D3l4ZEElttW7g0ppQVIOH+gmP29BbFG8XmhNc0HnyZNPBtl3QQCfGEundn1Bh5Zt32gzgkH3+oXznnyGQQpZEeU0yItB3rrSOYEpkUHoYqqYGTSVQczPIxxTMppBJhP3UMYuoEEVPZTEU/6jQWEgzw6bs6hB+AqR5bSErkFpo5SQO9qyQQNipFa6SrdBiyojKNnGvEF6nIu3zsbBQQ==\",\"dtype\":\"float64\",\"shape\":[50]}},\"selected\":{\"id\":\"19688\",\"type\":\"Selection\"},\"selection_policy\":{\"id\":\"19689\",\"type\":\"UnionRenderers\"}},\"id\":\"19540\",\"type\":\"ColumnDataSource\"},{\"attributes\":{\"data_source\":{\"id\":\"19540\",\"type\":\"ColumnDataSource\"},\"glyph\":{\"id\":\"19541\",\"type\":\"Line\"},\"hover_glyph\":null,\"muted_glyph\":null,\"nonselection_glyph\":{\"id\":\"19542\",\"type\":\"Line\"},\"selection_glyph\":null,\"view\":{\"id\":\"19544\",\"type\":\"CDSView\"}},\"id\":\"19543\",\"type\":\"GlyphRenderer\"},{\"attributes\":{\"data_source\":{\"id\":\"18666\",\"type\":\"ColumnDataSource\"},\"glyph\":{\"id\":\"18667\",\"type\":\"Circle\"},\"hover_glyph\":null,\"muted_glyph\":null,\"nonselection_glyph\":{\"id\":\"18668\",\"type\":\"Circle\"},\"selection_glyph\":null,\"view\":{\"id\":\"18670\",\"type\":\"CDSView\"}},\"id\":\"18669\",\"type\":\"GlyphRenderer\"},{\"attributes\":{\"fill_alpha\":{\"value\":0.1},\"fill_color\":{\"value\":\"#1f77b4\"},\"line_alpha\":{\"value\":0.1},\"line_color\":{\"value\":\"#1f77b4\"},\"size\":{\"units\":\"screen\",\"value\":1},\"x\":{\"field\":\"x\"},\"y\":{\"field\":\"y\"}},\"id\":\"19331\",\"type\":\"Circle\"},{\"attributes\":{\"line_color\":\"#E39943\",\"x\":{\"field\":\"x\"},\"y\":{\"field\":\"y\"}},\"id\":\"19469\",\"type\":\"Line\"},{\"attributes\":{\"fill_alpha\":{\"value\":0.5},\"fill_color\":{\"value\":\"#9C372F\"},\"line_alpha\":{\"value\":0.5},\"line_color\":{\"value\":\"#9C372F\"},\"size\":{\"units\":\"screen\",\"value\":1},\"x\":{\"field\":\"x\"},\"y\":{\"field\":\"y\"}},\"id\":\"18667\",\"type\":\"Circle\"},{\"attributes\":{\"fill_alpha\":{\"value\":0.1},\"fill_color\":{\"value\":\"#1f77b4\"},\"line_alpha\":{\"value\":0.1},\"line_color\":{\"value\":\"#1f77b4\"},\"size\":{\"units\":\"screen\",\"value\":1},\"x\":{\"field\":\"x\"},\"y\":{\"field\":\"y\"}},\"id\":\"18668\",\"type\":\"Circle\"},{\"attributes\":{\"label\":{\"value\":\"20181127\"},\"renderers\":[{\"id\":\"18669\",\"type\":\"GlyphRenderer\"},{\"id\":\"18714\",\"type\":\"GlyphRenderer\"},{\"id\":\"18760\",\"type\":\"GlyphRenderer\"},{\"id\":\"18808\",\"type\":\"GlyphRenderer\"}]},\"id\":\"18710\",\"type\":\"LegendItem\"},{\"attributes\":{\"source\":{\"id\":\"18962\",\"type\":\"ColumnDataSource\"}},\"id\":\"18966\",\"type\":\"CDSView\"},{\"attributes\":{\"source\":{\"id\":\"20190\",\"type\":\"ColumnDataSource\"}},\"id\":\"20194\",\"type\":\"CDSView\"},{\"attributes\":{\"callback\":null,\"data\":{\"x\":{\"__ndarray__\":\"AAAAAAAA+H8AAAAAAAD4fwAAAAAAAPh/AAAAAAAA+H8AAAAAAAD4fwAAAAAAAPh/AAAAAAAA+H8AAAAAAAD4fwAAAAAAAPh/AAAAAAAA+H8AAAAAAAD4f5QLN3uHwVtAAAAAAAAA+H8AAAAAAAD4fwAAAAAAAPh/AAAAAAAA+H/aZMXX+lV2QAAAAAAAAPh/AAAAAAAA+H/Oa2s3pJSDQAAAAAAAAPh/IkQiJRPwjUALeNLVKeGRQOrLSq1C1pVArj53ZFyxm0CkVaAhG32gQF5TheWCE6VAsNngHR5fqkDsF8trSECvQMuVfjknS7RAQKx3H9J/uEDWM8KPPny9QFvCgNYdKsJAjjGZhK4qx0CQTw0PjIzMQGbkj3IpA9JAJrLhNl2e1UAcqIrMIXnbQMdY29806OBA6tRT/p/a5EA9cAhvWhHpQEaeHYhlB/BAAVZQ/CBb80AC69JqLeT3QN2ENgfo2f1AeO7ouuAjAkGYHAuDfjYIQR5Xs5CYOgxBAAAAAAAA+H8=\",\"dtype\":\"float64\",\"shape\":[49]},\"y\":{\"__ndarray__\":\"AAAAAAAA+H8AAAAAAAD4fwAAAAAAAPh/AAAAAAAA+H8AAAAAAAD4fwAAAAAAAPh/AAAAAAAA+H8AAAAAAAD4fwAAAAAAAPh/AAAAAAAA+H8AAAAAAAD4fxPGjKKQjX1AAAAAAAAA+H8AAAAAAAD4fwAAAAAAAPh/AAAAAAAA+H8SlT3njUr2QAAAAAAAAPh/AAAAAAAA+H9siN0TwlPvQAAAAAAAAPh/LAIAAJBl/UAwulx1YmL+QG7oYvJEdwVBTkdCJtcwCEGCOjvJ9+cNQTqZUprWphBBKTHbLkmvQ0H4wBbyQ6ceQX1ENKBjnR5BV+yp62T6H0HjiQYW4VVNQUKyxS2Z6h1BKxfU7Rj6S0GBvA6j5GtPQedQQ4u+EnVB01lnKMhLZ0GSMkTrzpOTQausvTTHH5pBzOulsb9/YUHCnf4rOUOEQb+10dKSYJVBuAacgoQIeEHyJqiN0/KIQZs9i0xvV5dB25mPNaZHqEGDk0XGaV0RQpcAfeValHtBAAAAAAAA+H8=\",\"dtype\":\"float64\",\"shape\":[49]}},\"selected\":{\"id\":\"18473\",\"type\":\"Selection\"},\"selection_policy\":{\"id\":\"18474\",\"type\":\"UnionRenderers\"}},\"id\":\"18413\",\"type\":\"ColumnDataSource\"},{\"attributes\":{\"source\":{\"id\":\"18624\",\"type\":\"ColumnDataSource\"}},\"id\":\"18628\",\"type\":\"CDSView\"},{\"attributes\":{},\"id\":\"18442\",\"type\":\"UnionRenderers\"},{\"attributes\":{\"fill_alpha\":{\"value\":0.1},\"fill_color\":{\"value\":\"#1f77b4\"},\"line_alpha\":{\"value\":0.1},\"line_color\":{\"value\":\"#1f77b4\"},\"size\":{\"units\":\"screen\",\"value\":6},\"x\":{\"field\":\"x\"},\"y\":{\"field\":\"y\"}},\"id\":\"18910\",\"type\":\"Circle\"},{\"attributes\":{\"fill_alpha\":{\"value\":0.1},\"fill_color\":{\"value\":\"#1f77b4\"},\"line_alpha\":{\"value\":0.1},\"line_color\":{\"value\":\"#1f77b4\"},\"size\":{\"units\":\"screen\",\"value\":6},\"x\":{\"field\":\"x\"},\"y\":{\"field\":\"y\"}},\"id\":\"18415\",\"type\":\"Circle\"},{\"attributes\":{\"line_color\":\"#395A34\",\"x\":{\"field\":\"x\"},\"y\":{\"field\":\"y\"}},\"id\":\"18963\",\"type\":\"Line\"},{\"attributes\":{\"source\":{\"id\":\"19018\",\"type\":\"ColumnDataSource\"}},\"id\":\"19022\",\"type\":\"CDSView\"},{\"attributes\":{},\"id\":\"18357\",\"type\":\"UnionRenderers\"},{\"attributes\":{},\"id\":\"18441\",\"type\":\"Selection\"},{\"attributes\":{\"fill_alpha\":{\"value\":0.1},\"fill_color\":{\"value\":\"#1f77b4\"},\"line_alpha\":{\"value\":0.1},\"line_color\":{\"value\":\"#1f77b4\"},\"size\":{\"units\":\"screen\",\"value\":1},\"x\":{\"field\":\"x\"},\"y\":{\"field\":\"y\"}},\"id\":\"18857\",\"type\":\"Circle\"},{\"attributes\":{},\"id\":\"18665\",\"type\":\"UnionRenderers\"},{\"attributes\":{\"line_alpha\":0.1,\"line_color\":\"#1f77b4\",\"x\":{\"field\":\"x\"},\"y\":{\"field\":\"y\"}},\"id\":\"18445\",\"type\":\"Line\"},{\"attributes\":{\"line_alpha\":0.1,\"line_color\":\"#1f77b4\",\"x\":{\"field\":\"x\"},\"y\":{\"field\":\"y\"}},\"id\":\"18259\",\"type\":\"Line\"},{\"attributes\":{\"line_alpha\":0.1,\"line_color\":\"#1f77b4\",\"x\":{\"field\":\"x\"},\"y\":{\"field\":\"y\"}},\"id\":\"18275\",\"type\":\"Line\"},{\"attributes\":{\"data_source\":{\"id\":\"18413\",\"type\":\"ColumnDataSource\"},\"glyph\":{\"id\":\"18414\",\"type\":\"Circle\"},\"hover_glyph\":null,\"muted_glyph\":null,\"nonselection_glyph\":{\"id\":\"18415\",\"type\":\"Circle\"},\"selection_glyph\":null,\"view\":{\"id\":\"18417\",\"type\":\"CDSView\"}},\"id\":\"18416\",\"type\":\"GlyphRenderer\"},{\"attributes\":{\"callback\":null,\"data\":{\"x\":{\"__ndarray__\":\"AAAAAAAAJEBlm5whrLUoQHrj1I5Chy5AAY++W8/bMkDzMfI3rUw3QHYvvYNByTxAZXt8d0vIQUCaRfpFSPhFQNh4Ml60JEtAJNzrtoDEUEDN8KxRULdUQD8eNkQnmFlASzaMyRKfX0A+wSCOqYhjQBowWpQ7ImhAOKhgzxnRbUDUAZtgSGtyQMhguq+mwXZAzwJuBX4dfEAQE/JzMF6BQCBNptUwdYVALkFvQb6CikDBmXDZc2CQQHKj+g+0O5RA1EExVG//mEC9fOhsZOKeQB1sNS8bFKNAHxlyyDqSp0BL7xv8Lx+tQM2iX9Vg/bFA++YTtN05tkDR8+hru3W7QHhq846O9sBA0XOXmif1xEAhzUaMjuTJQJQL5fF3/c9AQh/iX/nC00AmjxalRmrYQIzM2OYbKt5A/hNhSkSi4kDskn48lQXnQL9GfL9rcexAI0mpEwmS8UA7FCzvPrX1QCETwtPh0fpADKrABleRAEEienVZGngEQV1uTLgOSglBK6GRVpY+D0HMt2YQD00TQQ==\",\"dtype\":\"float64\",\"shape\":[50]},\"y\":{\"__ndarray__\":\"2wifNrCQrUAiBfERfkOyQD/Fl619kLZAohFxdcHgu0CsGyR2qzjBQCOhMgjWRsVAQLQsBnlJykAZs8L/Ej3QQMkwlXr+D9RAp84yym7J2EB1HKpxrJ/eQCuJCSzk6uJANykPME9f50B6BNy6RuDsQCaSOPOD1vFAAW85B9oJ9kC092JEaTr7QI94A3Hp0QBBWpj4ZOHHBEEEa+EKn6wJQb3M4XBcuA9BgHRumUiYE0Eu9YJUiDUYQZTp3QXy6B1BrkbfMwN6IkHoUP152dMmQbtha+D5MyxBkeVWFRRsMUG73VDBWYY1QeaqQKLxlzpBsH3ZkIxtQEEVVkVJ4ktEQUkauvlsE0lBliW0MBf7TkFOPK4EXSNTQT1ouF8UpVdBSE1463k2XUE1dJDEwwtiQW1f4eejS2ZBWCRhHrGLa0GEp09QHwRxQaAkNiLqBXVB/k+PbEP5eUFUehaLhguAQY/YAQ3H0oNBu184As19iEFkkHBLO0KOQYfHMRYrsZJBE28HWv4Xl0E+VKy4KoicQQ==\",\"dtype\":\"float64\",\"shape\":[50]}},\"selected\":{\"id\":\"19074\",\"type\":\"Selection\"},\"selection_policy\":{\"id\":\"19075\",\"type\":\"UnionRenderers\"}},\"id\":\"18962\",\"type\":\"ColumnDataSource\"},{\"attributes\":{},\"id\":\"18356\",\"type\":\"Selection\"},{\"attributes\":{\"line_color\":\"#F38227\",\"x\":{\"field\":\"x\"},\"y\":{\"field\":\"y\"}},\"id\":\"18359\",\"type\":\"Line\"},{\"attributes\":{\"callback\":null,\"data\":{\"x\":{\"__ndarray__\":\"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\",\"dtype\":\"float64\",\"shape\":[263]},\"y\":{\"__ndarray__\":\"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\",\"dtype\":\"float64\",\"shape\":[263]}},\"selected\":{\"id\":\"19197\",\"type\":\"Selection\"},\"selection_policy\":{\"id\":\"19198\",\"type\":\"UnionRenderers\"}},\"id\":\"19076\",\"type\":\"ColumnDataSource\"},{\"attributes\":{\"data_source\":{\"id\":\"20190\",\"type\":\"ColumnDataSource\"},\"glyph\":{\"id\":\"20191\",\"type\":\"Line\"},\"hover_glyph\":null,\"muted_glyph\":null,\"nonselection_glyph\":{\"id\":\"20192\",\"type\":\"Line\"},\"selection_glyph\":null,\"view\":{\"id\":\"20194\",\"type\":\"CDSView\"}},\"id\":\"20193\",\"type\":\"GlyphRenderer\"},{\"attributes\":{},\"id\":\"18217\",\"type\":\"WheelZoomTool\"},{\"attributes\":{\"data_source\":{\"id\":\"18962\",\"type\":\"ColumnDataSource\"},\"glyph\":{\"id\":\"18963\",\"type\":\"Line\"},\"hover_glyph\":null,\"muted_glyph\":null,\"nonselection_glyph\":{\"id\":\"18964\",\"type\":\"Line\"},\"selection_glyph\":null,\"view\":{\"id\":\"18966\",\"type\":\"CDSView\"}},\"id\":\"18965\",\"type\":\"GlyphRenderer\"},{\"attributes\":{\"callback\":null,\"data\":{\"x\":{\"__ndarray__\":\"AAAAAAAAJEBlm5whrLUoQHrj1I5Chy5AAY++W8/bMkDzMfI3rUw3QHYvvYNByTxAZXt8d0vIQUCaRfpFSPhFQNh4Ml60JEtAJNzrtoDEUEDN8KxRULdUQD8eNkQnmFlASzaMyRKfX0A+wSCOqYhjQBowWpQ7ImhAOKhgzxnRbUDUAZtgSGtyQMhguq+mwXZAzwJuBX4dfEAQE/JzMF6BQCBNptUwdYVALkFvQb6CikDBmXDZc2CQQHKj+g+0O5RA1EExVG//mEC9fOhsZOKeQB1sNS8bFKNAHxlyyDqSp0BL7xv8Lx+tQM2iX9Vg/bFA++YTtN05tkDR8+hru3W7QHhq846O9sBA0XOXmif1xEAhzUaMjuTJQJQL5fF3/c9AQh/iX/nC00AmjxalRmrYQIzM2OYbKt5A/hNhSkSi4kDskn48lQXnQL9GfL9rcexAI0mpEwmS8UA7FCzvPrX1QCETwtPh0fpADKrABleRAEEienVZGngEQV1uTLgOSglBK6GRVpY+D0HMt2YQD00TQQ==\",\"dtype\":\"float64\",\"shape\":[50]},\"y\":{\"__ndarray__\":\"eLqOx+PMskCzp7gxPjq3QMIDpj17srxA/xpw3Tm6wUBLEFeO5ubFQGtSftE6D8tAuZN5pjy30EBsUC+K7KbUQNnt9XPng9lA7xZCRg6G30AuK+A4NXnjQAu3BpkjD+hAkg7SyoK57UDf02bTtVzyQBZvX6elr/ZAqLnnoz8H/ECVeTzMclABQRhJ9dQ2ZAVBgWz418RtCkEU++nwflMQQTomNxSyKxRBCXMnV6jrGEHmLpow9ckeQbyC7xADBSNB1HIju5R/J0FPVqu5JQgtQfL17zsl7zFB9dFIGUgoNkHvOBjEAWA7QTQ9ruQi6UBBZDj+5ZLkREFLLHhJEtBJQQs3DsAo5E9BUn9P6FazU0EML1Cq9VZYQbnyzXY+El5Bfr3ZPIaTYkH/gGZ1XvNmQf1KRvfqWmxBUKsoZyKEcUFHPO5AEqR1QQXcsc2pvHpB4F2ycDuEgEGnPoaU6GeEQTsQY7EMNolB6cdUKd4lj0GykxXjyT2TQfjZ5UC6xZdB+VLh789enUF0l52TriSiQQ==\",\"dtype\":\"float64\",\"shape\":[50]}},\"selected\":{\"id\":\"18410\",\"type\":\"Selection\"},\"selection_policy\":{\"id\":\"18411\",\"type\":\"UnionRenderers\"}},\"id\":\"18358\",\"type\":\"ColumnDataSource\"},{\"attributes\":{},\"id\":\"18289\",\"type\":\"Selection\"},{\"attributes\":{},\"id\":\"18960\",\"type\":\"Selection\"},{\"attributes\":{\"fill_color\":{\"value\":\"#5F2E88\"},\"line_color\":{\"value\":\"#5F2E88\"},\"size\":{\"units\":\"screen\",\"value\":6},\"x\":{\"field\":\"x\"},\"y\":{\"field\":\"y\"}},\"id\":\"18244\",\"type\":\"Circle\"},{\"attributes\":{\"source\":{\"id\":\"18384\",\"type\":\"ColumnDataSource\"}},\"id\":\"18388\",\"type\":\"CDSView\"},{\"attributes\":{\"source\":{\"id\":\"18229\",\"type\":\"ColumnDataSource\"}},\"id\":\"18233\",\"type\":\"CDSView\"},{\"attributes\":{\"source\":{\"id\":\"18334\",\"type\":\"ColumnDataSource\"}},\"id\":\"18338\",\"type\":\"CDSView\"},{\"attributes\":{\"data_source\":{\"id\":\"18229\",\"type\":\"ColumnDataSource\"},\"glyph\":{\"id\":\"18230\",\"type\":\"Circle\"},\"hover_glyph\":null,\"muted_glyph\":null,\"nonselection_glyph\":{\"id\":\"18231\",\"type\":\"Circle\"},\"selection_glyph\":null,\"view\":{\"id\":\"18233\",\"type\":\"CDSView\"}},\"id\":\"18232\",\"type\":\"GlyphRenderer\"},{\"attributes\":{\"data_source\":{\"id\":\"18908\",\"type\":\"ColumnDataSource\"},\"glyph\":{\"id\":\"18909\",\"type\":\"Circle\"},\"hover_glyph\":null,\"muted_glyph\":null,\"nonselection_glyph\":{\"id\":\"18910\",\"type\":\"Circle\"},\"selection_glyph\":null,\"view\":{\"id\":\"18912\",\"type\":\"CDSView\"}},\"id\":\"18911\",\"type\":\"GlyphRenderer\"},{\"attributes\":{\"line_alpha\":0.1,\"line_color\":\"#1f77b4\",\"x\":{\"field\":\"x\"},\"y\":{\"field\":\"y\"}},\"id\":\"18360\",\"type\":\"Line\"},{\"attributes\":{\"line_color\":\"#444147\",\"x\":{\"field\":\"x\"},\"y\":{\"field\":\"y\"}},\"id\":\"18444\",\"type\":\"Line\"},{\"attributes\":{},\"id\":\"19075\",\"type\":\"UnionRenderers\"},{\"attributes\":{\"line_color\":\"#5F2E88\",\"x\":{\"field\":\"x\"},\"y\":{\"field\":\"y\"}},\"id\":\"18258\",\"type\":\"Line\"},{\"attributes\":{\"active_drag\":\"auto\",\"active_inspect\":\"auto\",\"active_multi\":null,\"active_scroll\":\"auto\",\"active_tap\":\"auto\",\"tools\":[{\"id\":\"18216\",\"type\":\"PanTool\"},{\"id\":\"18217\",\"type\":\"WheelZoomTool\"},{\"id\":\"18218\",\"type\":\"BoxZoomTool\"},{\"id\":\"18219\",\"type\":\"SaveTool\"},{\"id\":\"18220\",\"type\":\"ResetTool\"},{\"id\":\"18221\",\"type\":\"HelpTool\"}]},\"id\":\"18222\",\"type\":\"Toolbar\"},{\"attributes\":{},\"id\":\"18255\",\"type\":\"Selection\"},{\"attributes\":{\"source\":{\"id\":\"18257\",\"type\":\"ColumnDataSource\"}},\"id\":\"18261\",\"type\":\"CDSView\"},{\"attributes\":{\"callback\":null,\"data\":{\"x\":{\"__ndarray__\":\"AAAAAAAAJEBlm5whrLUoQHrj1I5Chy5AAY++W8/bMkDzMfI3rUw3QHYvvYNByTxAZXt8d0vIQUCaRfpFSPhFQNh4Ml60JEtAJNzrtoDEUEDN8KxRULdUQD8eNkQnmFlASzaMyRKfX0A+wSCOqYhjQBowWpQ7ImhAOKhgzxnRbUDUAZtgSGtyQMhguq+mwXZAzwJuBX4dfEAQE/JzMF6BQCBNptUwdYVALkFvQb6CikDBmXDZc2CQQHKj+g+0O5RA1EExVG//mEC9fOhsZOKeQB1sNS8bFKNAHxlyyDqSp0BL7xv8Lx+tQM2iX9Vg/bFA++YTtN05tkDR8+hru3W7QHhq846O9sBA0XOXmif1xEAhzUaMjuTJQJQL5fF3/c9AQh/iX/nC00AmjxalRmrYQIzM2OYbKt5A/hNhSkSi4kDskn48lQXnQL9GfL9rcexAI0mpEwmS8UA7FCzvPrX1QCETwtPh0fpADKrABleRAEEienVZGngEQV1uTLgOSglBK6GRVpY+D0HMt2YQD00TQQ==\",\"dtype\":\"float64\",\"shape\":[50]},\"y\":{\"__ndarray__\":\"tpody9JbtUDzf5j6ZmO6QLzG8IkXTcBANSwkoMgjxEB0z2rt4eHIQMK3WYDhvc5AiUi5M4390kDr1mcgXXbXQFT8cHnC/NxARsXiXBzo4UDPdTEnlx/mQMe5OeJEVetAZHd1y4Di8ECICj/tYNz0QJ6rZUfyxflAgJJaXqbX/0CiqOGpnKsDQUgcL5RpTQhBFGdM1nIGDkFoapPjPIwSQSgiJ9pd6hZBdYMCqstPHEFOb7KBQ30hQYXe1CqVmyVBADcW/iyyKkGc2tTrwH0wQYpyIYLnXzRB0pKGGSksOUHZU95rphk/Qbo8m8A9NkNBOi1ZIme8R0HaJCOxSlNNQQPwqLSQHVJBGjOv7KFhVkEziBfp3KZbQYVM0jHoFGFBLytB26YaZUHJDKFC4hJqQVq1UDVaG3BBqDJD0FTmc0EaR/iK9ZV4QRA6Sy4UYH5Br/vBLZvDgkGfGtPxxS6HQYeq/41PpIxB5YWW5HixkUGdM5XfFdyVQct8hijeAZtB/20bkfuuoEGCXn/cuZykQQ==\",\"dtype\":\"float64\",\"shape\":[50]}},\"selected\":{\"id\":\"19134\",\"type\":\"Selection\"},\"selection_policy\":{\"id\":\"19135\",\"type\":\"UnionRenderers\"}},\"id\":\"19018\",\"type\":\"ColumnDataSource\"},{\"attributes\":{\"data_source\":{\"id\":\"18334\",\"type\":\"ColumnDataSource\"},\"glyph\":{\"id\":\"18335\",\"type\":\"Line\"},\"hover_glyph\":null,\"muted_glyph\":null,\"nonselection_glyph\":{\"id\":\"18336\",\"type\":\"Line\"},\"selection_glyph\":null,\"view\":{\"id\":\"18338\",\"type\":\"CDSView\"}},\"id\":\"18337\",\"type\":\"GlyphRenderer\"},{\"attributes\":{\"data_source\":{\"id\":\"18358\",\"type\":\"ColumnDataSource\"},\"glyph\":{\"id\":\"18359\",\"type\":\"Line\"},\"hover_glyph\":null,\"muted_glyph\":null,\"nonselection_glyph\":{\"id\":\"18360\",\"type\":\"Line\"},\"selection_glyph\":null,\"view\":{\"id\":\"18362\",\"type\":\"CDSView\"}},\"id\":\"18361\",\"type\":\"GlyphRenderer\"},{\"attributes\":{\"fill_alpha\":{\"value\":0.1},\"fill_color\":{\"value\":\"#1f77b4\"},\"line_alpha\":{\"value\":0.1},\"line_color\":{\"value\":\"#1f77b4\"},\"size\":{\"units\":\"screen\",\"value\":1},\"x\":{\"field\":\"x\"},\"y\":{\"field\":\"y\"}},\"id\":\"18231\",\"type\":\"Circle\"},{\"attributes\":{\"source\":{\"id\":\"18273\",\"type\":\"ColumnDataSource\"}},\"id\":\"18277\",\"type\":\"CDSView\"},{\"attributes\":{},\"id\":\"18221\",\"type\":\"HelpTool\"},{\"attributes\":{\"line_alpha\":0.1,\"line_color\":\"#1f77b4\",\"x\":{\"field\":\"x\"},\"y\":{\"field\":\"y\"}},\"id\":\"19020\",\"type\":\"Line\"},{\"attributes\":{\"data_source\":{\"id\":\"18257\",\"type\":\"ColumnDataSource\"},\"glyph\":{\"id\":\"18258\",\"type\":\"Line\"},\"hover_glyph\":null,\"muted_glyph\":null,\"nonselection_glyph\":{\"id\":\"18259\",\"type\":\"Line\"},\"selection_glyph\":null,\"view\":{\"id\":\"18261\",\"type\":\"CDSView\"}},\"id\":\"18260\",\"type\":\"GlyphRenderer\"},{\"attributes\":{\"data_source\":{\"id\":\"18855\",\"type\":\"ColumnDataSource\"},\"glyph\":{\"id\":\"18856\",\"type\":\"Circle\"},\"hover_glyph\":null,\"muted_glyph\":null,\"nonselection_glyph\":{\"id\":\"18857\",\"type\":\"Circle\"},\"selection_glyph\":null,\"view\":{\"id\":\"18859\",\"type\":\"CDSView\"}},\"id\":\"18858\",\"type\":\"GlyphRenderer\"},{\"attributes\":{},\"id\":\"18543\",\"type\":\"Selection\"},{\"attributes\":{\"data_source\":{\"id\":\"19018\",\"type\":\"ColumnDataSource\"},\"glyph\":{\"id\":\"19019\",\"type\":\"Line\"},\"hover_glyph\":null,\"muted_glyph\":null,\"nonselection_glyph\":{\"id\":\"19020\",\"type\":\"Line\"},\"selection_glyph\":null,\"view\":{\"id\":\"19022\",\"type\":\"CDSView\"}},\"id\":\"19021\",\"type\":\"GlyphRenderer\"},{\"attributes\":{\"source\":{\"id\":\"18243\",\"type\":\"ColumnDataSource\"}},\"id\":\"18247\",\"type\":\"CDSView\"},{\"attributes\":{},\"id\":\"19017\",\"type\":\"UnionRenderers\"},{\"attributes\":{\"callback\":null,\"data\":{\"x\":{\"__ndarray__\":\"AAAAAAAAJEBlm5whrLUoQHrj1I5Chy5AAY++W8/bMkDzMfI3rUw3QHYvvYNByTxAZXt8d0vIQUCaRfpFSPhFQNh4Ml60JEtAJNzrtoDEUEDN8KxRULdUQD8eNkQnmFlASzaMyRKfX0A+wSCOqYhjQBowWpQ7ImhAOKhgzxnRbUDUAZtgSGtyQMhguq+mwXZAzwJuBX4dfEAQE/JzMF6BQCBNptUwdYVALkFvQb6CikDBmXDZc2CQQHKj+g+0O5RA1EExVG//mEC9fOhsZOKeQB1sNS8bFKNAHxlyyDqSp0BL7xv8Lx+tQM2iX9Vg/bFA++YTtN05tkDR8+hru3W7QHhq846O9sBA0XOXmif1xEAhzUaMjuTJQJQL5fF3/c9AQh/iX/nC00AmjxalRmrYQIzM2OYbKt5A/hNhSkSi4kDskn48lQXnQL9GfL9rcexAI0mpEwmS8UA7FCzvPrX1QCETwtPh0fpADKrABleRAEEienVZGngEQV1uTLgOSglBK6GRVpY+D0HMt2YQD00TQQ==\",\"dtype\":\"float64\",\"shape\":[50]},\"y\":{\"__ndarray__\":\"BgXaI3aK2kDjlWFvOGXgQLijPhOYQeRAZdLsc7YG6UDsCn9IYuvuQPVVKSOpGfNADkzelBeZ90BNmbR6qif9QAjvTaOdAgJB/0CNPlZABkGzfaoMun0LQZotZth++xBBJqTUm0H7FEEHI9JgGOwZQfywyxtkAyBBTRkDPbrII0Er2MZXYnEoQQlshBvkMi5B6j+0GbGnMkHL800WSQw3QehK/qazeTxB+wMroSaXQUGBV0LdkLtFQYXlhcCw2UpBkQ5Z2CmWUEFuiGXyD35UQTcjxZFrUVlB3BKXCa9HX0GngR+ZrVJjQTwKUUKJ32dBXZyBx7J+bUHJfEQaYThyQTN8+8TCgnZBbrZq2crPe0EINQXaMC6BQX9mpbbjOYVBxxaBPXo5ikGSrzp7MTOQQTW1kU3JA5RB9zlGsFm6mEFHyJQeCo2eQdHuR1hh36JBPC/lbhZRp0GHhdWjtM6sQechI0upy7FB80KqC3H8tUGMKTXg1ym7QfnFtlutx8BBVa6SUzy7xEGcO0+z/5zJQQ==\",\"dtype\":\"float64\",\"shape\":[50]}},\"selected\":{\"id\":\"18289\",\"type\":\"Selection\"},\"selection_policy\":{\"id\":\"18290\",\"type\":\"UnionRenderers\"}},\"id\":\"18257\",\"type\":\"ColumnDataSource\"},{\"attributes\":{\"line_color\":\"#395A34\",\"x\":{\"field\":\"x\"},\"y\":{\"field\":\"y\"}},\"id\":\"19019\",\"type\":\"Line\"},{\"attributes\":{\"label\":{\"value\":\"20190102\"},\"renderers\":[{\"id\":\"18858\",\"type\":\"GlyphRenderer\"},{\"id\":\"18911\",\"type\":\"GlyphRenderer\"},{\"id\":\"18965\",\"type\":\"GlyphRenderer\"},{\"id\":\"19021\",\"type\":\"GlyphRenderer\"}]},\"id\":\"18907\",\"type\":\"LegendItem\"},{\"attributes\":{},\"id\":\"18333\",\"type\":\"UnionRenderers\"},{\"attributes\":{\"line_color\":\"#5F2E88\",\"x\":{\"field\":\"x\"},\"y\":{\"field\":\"y\"}},\"id\":\"18274\",\"type\":\"Line\"},{\"attributes\":{\"source\":{\"id\":\"18908\",\"type\":\"ColumnDataSource\"}},\"id\":\"18912\",\"type\":\"CDSView\"},{\"attributes\":{},\"id\":\"18411\",\"type\":\"UnionRenderers\"},{\"attributes\":{\"fill_alpha\":{\"value\":0.1},\"fill_color\":{\"value\":\"#1f77b4\"},\"line_alpha\":{\"value\":0.1},\"line_color\":{\"value\":\"#1f77b4\"},\"size\":{\"units\":\"screen\",\"value\":1},\"x\":{\"field\":\"x\"},\"y\":{\"field\":\"y\"}},\"id\":\"18386\",\"type\":\"Circle\"},{\"attributes\":{\"fill_alpha\":{\"value\":0.5},\"fill_color\":{\"value\":\"#444147\"},\"line_alpha\":{\"value\":0.5},\"line_color\":{\"value\":\"#444147\"},\"size\":{\"units\":\"screen\",\"value\":1},\"x\":{\"field\":\"x\"},\"y\":{\"field\":\"y\"}},\"id\":\"18385\",\"type\":\"Circle\"},{\"attributes\":{},\"id\":\"18271\",\"type\":\"Selection\"},{\"attributes\":{},\"id\":\"19395\",\"type\":\"Selection\"},{\"attributes\":{\"data_source\":{\"id\":\"18384\",\"type\":\"ColumnDataSource\"},\"glyph\":{\"id\":\"18385\",\"type\":\"Circle\"},\"hover_glyph\":null,\"muted_glyph\":null,\"nonselection_glyph\":{\"id\":\"18386\",\"type\":\"Circle\"},\"selection_glyph\":null,\"view\":{\"id\":\"18388\",\"type\":\"CDSView\"}},\"id\":\"18387\",\"type\":\"GlyphRenderer\"},{\"attributes\":{\"fill_color\":{\"value\":\"#395A34\"},\"line_color\":{\"value\":\"#395A34\"},\"size\":{\"units\":\"screen\",\"value\":6},\"x\":{\"field\":\"x\"},\"y\":{\"field\":\"y\"}},\"id\":\"18909\",\"type\":\"Circle\"},{\"attributes\":{},\"id\":\"18382\",\"type\":\"Selection\"},{\"attributes\":{},\"id\":\"19074\",\"type\":\"Selection\"},{\"attributes\":{\"callback\":null,\"data\":{\"x\":{\"__ndarray__\":\"AAAAAAAA+H8AAAAAAAD4fwAAAAAAAPh/AAAAAAAA+H8AAAAAAAD4fwAAAAAAAPh/AAAAAAAA+H8AAAAAAAD4fwAAAAAAAPh/AAAAAAAA+H8AAAAAAAD4fwAAAAAAAPh/AAAAAAAA+H8AAAAAAAD4fwAAAAAAAPh/AAAAAAAA+H/O5isNkzR1QAAAAAAAAPh/iiwTS1OKgECgn/4Kkv6DQGlRtvrfIYhA/EB2PaDwjUCD/9bAUy+SQE8J31sho5ZAVhVVQQaynEDZwC1c8rmhQKELiYtBzqVAhnslaLFQqkCRIoAjrwiwQAgLVtMV+LNAhHWsaQcmuUD2tOOtbei+QEecV/FqncJA6VZDwytfx0Cl8Jtv2SDNQDs8EojpttFAIuCtCpOZ1UDe9KDBO3jbQJguyU22AuFA5PmfGDCm5EDiqJo/BUvpQNWwH5f8pO5AU0ba6MSE80AVLpCif3P3QMdlBU4Ki/1AERXQ1x2KAkGYiNVCgnsHQbIlu7Nx4gtBIxOKvm8aEEE=\",\"dtype\":\"float64\",\"shape\":[49]},\"y\":{\"__ndarray__\":\"AAAAAAAA+H8AAAAAAAD4fwAAAAAAAPh/AAAAAAAA+H8AAAAAAAD4fwAAAAAAAPh/AAAAAAAA+H8AAAAAAAD4fwAAAAAAAPh/AAAAAAAA+H8AAAAAAAD4fwAAAAAAAPh/AAAAAAAA+H8AAAAAAAD4fwAAAAAAAPh/AAAAAAAA+H+xP3UYjY/nQAAAAAAAAPh/MHyBGgYY8UD9bW1dqqHrQO945vXGiRRB6HpaTTNaEkGNecA9fGL3QDzM1tDDYhVBqKyXTAQ4A0EGLLOaTIkUQe+xtMYrrvBAWDV83cPNHkGJBCpMRVAVQSC+yr0T5AhBTCvBonumCEHGOHaT0b8iQSUrUQqacjZBRFpjT1ljQkFNS81sW3BAQaWgBzxTL1tBekYrakQ7SkGbMQJ6eTlqQaKFkxssgmNB7CzK6GWphUFFJM+KKvdiQUUnc6y3yYtBW3FcAeUMmEFMszNaU6GiQfjmSGcAhplBlesYeVTMpkHAjExt1o2oQZ9RxRgCHJ5BI+bEwxu1xEE=\",\"dtype\":\"float64\",\"shape\":[49]}},\"selected\":{\"id\":\"19016\",\"type\":\"Selection\"},\"selection_policy\":{\"id\":\"19017\",\"type\":\"UnionRenderers\"}},\"id\":\"18908\",\"type\":\"ColumnDataSource\"},{\"attributes\":{},\"id\":\"18272\",\"type\":\"UnionRenderers\"},{\"attributes\":{\"source\":{\"id\":\"18358\",\"type\":\"ColumnDataSource\"}},\"id\":\"18362\",\"type\":\"CDSView\"},{\"attributes\":{\"line_alpha\":0.1,\"line_color\":\"#1f77b4\",\"x\":{\"field\":\"x\"},\"y\":{\"field\":\"y\"}},\"id\":\"18964\",\"type\":\"Line\"},{\"attributes\":{\"data_source\":{\"id\":\"18624\",\"type\":\"ColumnDataSource\"},\"glyph\":{\"id\":\"18625\",\"type\":\"Line\"},\"hover_glyph\":null,\"muted_glyph\":null,\"nonselection_glyph\":{\"id\":\"18626\",\"type\":\"Line\"},\"selection_glyph\":null,\"view\":{\"id\":\"18628\",\"type\":\"CDSView\"}},\"id\":\"18627\",\"type\":\"GlyphRenderer\"},{\"attributes\":{\"source\":{\"id\":\"18413\",\"type\":\"ColumnDataSource\"}},\"id\":\"18417\",\"type\":\"CDSView\"},{\"attributes\":{},\"id\":\"18256\",\"type\":\"UnionRenderers\"},{\"attributes\":{\"callback\":null,\"data\":{\"x\":{\"__ndarray__\":\"AAAAAAAAJEBlm5whrLUoQHrj1I5Chy5AAY++W8/bMkDzMfI3rUw3QHYvvYNByTxAZXt8d0vIQUCaRfpFSPhFQNh4Ml60JEtAJNzrtoDEUEDN8KxRULdUQD8eNkQnmFlASzaMyRKfX0A+wSCOqYhjQBowWpQ7ImhAOKhgzxnRbUDUAZtgSGtyQMhguq+mwXZAzwJuBX4dfEAQE/JzMF6BQCBNptUwdYVALkFvQb6CikDBmXDZc2CQQHKj+g+0O5RA1EExVG//mEC9fOhsZOKeQB1sNS8bFKNAHxlyyDqSp0BL7xv8Lx+tQM2iX9Vg/bFA++YTtN05tkDR8+hru3W7QHhq846O9sBA0XOXmif1xEAhzUaMjuTJQJQL5fF3/c9AQh/iX/nC00AmjxalRmrYQIzM2OYbKt5A/hNhSkSi4kDskn48lQXnQL9GfL9rcexAI0mpEwmS8UA7FCzvPrX1QCETwtPh0fpADKrABleRAEEienVZGngEQV1uTLgOSglBK6GRVpY+D0HMt2YQD00TQQ==\",\"dtype\":\"float64\",\"shape\":[50]},\"y\":{\"__ndarray__\":\"peHWhkvzxED4xN5cQuLJQIqGjkCh+s9AXmRhdzjB00B++cUGHGjYQKVjIK5uJ95AiHgzAJ2g4kCLqeBEigPnQJB/gqHlbuxAVvSI8XmQ8UDVeNjPUbP1QHfzOpWAz/pAmbPDq96PAEEWWmdeSXYEQV1Yhj7QRwlBYGlSldA7D0HmRHueWEsTQapOlUh61hdBHgiJuYFzHUGsLlo9dzEiQX+YUiI4eiZB3id2TD3FK0FzHev9qycxQYwEo93VMTVBUHja3IYvOkEur1XcCy1AQYzXHx8x/ENBuVaJr/ewSEFGcmp8coFOQdP3Wh042FJBoCI4gj1IV0GFhk9dxsNcQbjYya7oxGFB1Y9nYBn0ZUHDPRdLiR9rQe0ZgWVPwXBBZIFeiV6zdEEOd5CyR5N5QSoK7m8NmX9B2RA9ZvGEg0ECXxA1ox2IQZcxHWxsy41Bt588j8ZnkkFkZ6ZyUb2WQTNab5MjGJxBYD0/3+FaoUGIOf7lGnGlQRX09QSyfapBh1HdlFVdsEFYWe3Q2Te0QQ==\",\"dtype\":\"float64\",\"shape\":[50]}},\"selected\":{\"id\":\"18507\",\"type\":\"Selection\"},\"selection_policy\":{\"id\":\"18508\",\"type\":\"UnionRenderers\"}},\"id\":\"18443\",\"type\":\"ColumnDataSource\"},{\"attributes\":{\"source\":{\"id\":\"18855\",\"type\":\"ColumnDataSource\"}},\"id\":\"18859\",\"type\":\"CDSView\"},{\"attributes\":{\"fill_alpha\":{\"value\":0.5},\"fill_color\":{\"value\":\"#395A34\"},\"line_alpha\":{\"value\":0.5},\"line_color\":{\"value\":\"#395A34\"},\"size\":{\"units\":\"screen\",\"value\":1},\"x\":{\"field\":\"x\"},\"y\":{\"field\":\"y\"}},\"id\":\"18856\",\"type\":\"Circle\"},{\"attributes\":{},\"id\":\"18905\",\"type\":\"Selection\"},{\"attributes\":{\"fill_color\":{\"value\":\"#444147\"},\"line_color\":{\"value\":\"#444147\"},\"size\":{\"units\":\"screen\",\"value\":6},\"x\":{\"field\":\"x\"},\"y\":{\"field\":\"y\"}},\"id\":\"18414\",\"type\":\"Circle\"},{\"attributes\":{},\"id\":\"18906\",\"type\":\"UnionRenderers\"},{\"attributes\":{},\"id\":\"18664\",\"type\":\"Selection\"},{\"attributes\":{\"callback\":null,\"data\":{\"x\":{\"__ndarray__\":\"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\",\"dtype\":\"float64\",\"shape\":[198]},\"y\":{\"__ndarray__\":\"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\",\"dtype\":\"float64\",\"shape\":[198]}},\"selected\":{\"id\":\"18441\",\"type\":\"Selection\"},\"selection_policy\":{\"id\":\"18442\",\"type\":\"UnionRenderers\"}},\"id\":\"18384\",\"type\":\"ColumnDataSource\"},{\"attributes\":{\"data_source\":{\"id\":\"18243\",\"type\":\"ColumnDataSource\"},\"glyph\":{\"id\":\"18244\",\"type\":\"Circle\"},\"hover_glyph\":null,\"muted_glyph\":null,\"nonselection_glyph\":{\"id\":\"18245\",\"type\":\"Circle\"},\"selection_glyph\":null,\"view\":{\"id\":\"18247\",\"type\":\"CDSView\"}},\"id\":\"18246\",\"type\":\"GlyphRenderer\"},{\"attributes\":{},\"id\":\"18961\",\"type\":\"UnionRenderers\"},{\"attributes\":{\"callback\":null,\"data\":{\"x\":{\"__ndarray__\":\"AAAAAAAAJEBlm5whrLUoQHrj1I5Chy5AAY++W8/bMkDzMfI3rUw3QHYvvYNByTxAZXt8d0vIQUCaRfpFSPhFQNh4Ml60JEtAJNzrtoDEUEDN8KxRULdUQD8eNkQnmFlASzaMyRKfX0A+wSCOqYhjQBowWpQ7ImhAOKhgzxnRbUDUAZtgSGtyQMhguq+mwXZAzwJuBX4dfEAQE/JzMF6BQCBNptUwdYVALkFvQb6CikDBmXDZc2CQQHKj+g+0O5RA1EExVG//mEC9fOhsZOKeQB1sNS8bFKNAHxlyyDqSp0BL7xv8Lx+tQM2iX9Vg/bFA++YTtN05tkDR8+hru3W7QHhq846O9sBA0XOXmif1xEAhzUaMjuTJQJQL5fF3/c9AQh/iX/nC00AmjxalRmrYQIzM2OYbKt5A/hNhSkSi4kDskn48lQXnQL9GfL9rcexAI0mpEwmS8UA7FCzvPrX1QCETwtPh0fpADKrABleRAEEienVZGngEQV1uTLgOSglBK6GRVpY+D0HMt2YQD00TQQ==\",\"dtype\":\"float64\",\"shape\":[50]},\"y\":{\"__ndarray__\":\"mu6q3wXn40BODjRM0JboQBwN3HIiYe5A9flmIkLE8kDl1yg3lC/3QBkeFmZOpfxAkg4YUhayAUE1Ymdf2NwFQWvbd3XOAgtBUxmsApCvEEEd7cdCcZ0UQevsZZcweBlBQ0x3O5V3H0EK0c12RHAjQd0yVeAXBChBTMvXMN2rLUHfKvGuR1QyQdHjRk47pTZBsQ6zaWH6O0HqsyjRf0hBQXvq36VkWkVB0MnHnKJhSkEbk+MXAExQQU1MGmBvIlRBpTFzYDfgWEFJsF2B0rteQVsMnqdH/GJBzFkh68p0Z0H0BpuN0fpsQaHY3GTp5nFBvDH65RsedkFGHylScFN7QV7aGFhf4YBBk7TAUPvahEHxy8x0OMSJQdykFoGE1Y9BVxHpdUuqk0GIGmX4yEuYQfWI1h9wBJ5BQOj47f6KokEfec4E1eimQXjKPlPmTaxBxT1SsRd8sUECq5XAIpq1QWmj4VljsLpBsYSWN6Z8wEGFVHY7il7EQdGdO5N5KslB/Ei2R5EXz0Egv69o9DTTQQ==\",\"dtype\":\"float64\",\"shape\":[50]}},\"selected\":{\"id\":\"18309\",\"type\":\"Selection\"},\"selection_policy\":{\"id\":\"18310\",\"type\":\"UnionRenderers\"}},\"id\":\"18273\",\"type\":\"ColumnDataSource\"},{\"attributes\":{\"fill_alpha\":{\"value\":0.1},\"fill_color\":{\"value\":\"#1f77b4\"},\"line_alpha\":{\"value\":0.1},\"line_color\":{\"value\":\"#1f77b4\"},\"size\":{\"units\":\"screen\",\"value\":6},\"x\":{\"field\":\"x\"},\"y\":{\"field\":\"y\"}},\"id\":\"18245\",\"type\":\"Circle\"},{\"attributes\":{},\"id\":\"18383\",\"type\":\"UnionRenderers\"},{\"attributes\":{\"label\":{\"value\":\"20181025\"},\"renderers\":[{\"id\":\"18387\",\"type\":\"GlyphRenderer\"},{\"id\":\"18416\",\"type\":\"GlyphRenderer\"},{\"id\":\"18446\",\"type\":\"GlyphRenderer\"},{\"id\":\"18478\",\"type\":\"GlyphRenderer\"}]},\"id\":\"18412\",\"type\":\"LegendItem\"},{\"attributes\":{\"data_source\":{\"id\":\"18273\",\"type\":\"ColumnDataSource\"},\"glyph\":{\"id\":\"18274\",\"type\":\"Line\"},\"hover_glyph\":null,\"muted_glyph\":null,\"nonselection_glyph\":{\"id\":\"18275\",\"type\":\"Line\"},\"selection_glyph\":null,\"view\":{\"id\":\"18277\",\"type\":\"CDSView\"}},\"id\":\"18276\",\"type\":\"GlyphRenderer\"},{\"attributes\":{},\"id\":\"19016\",\"type\":\"Selection\"},{\"attributes\":{},\"id\":\"18474\",\"type\":\"UnionRenderers\"},{\"attributes\":{\"line_color\":\"#3F60AC\",\"x\":{\"field\":\"x\"},\"y\":{\"field\":\"y\"}},\"id\":\"18585\",\"type\":\"Line\"},{\"attributes\":{},\"id\":\"18583\",\"type\":\"UnionRenderers\"},{\"attributes\":{\"fill_alpha\":{\"value\":0.5},\"fill_color\":{\"value\":\"#3F60AC\"},\"line_alpha\":{\"value\":0.5},\"line_color\":{\"value\":\"#3F60AC\"},\"size\":{\"units\":\"screen\",\"value\":1},\"x\":{\"field\":\"x\"},\"y\":{\"field\":\"y\"}},\"id\":\"18510\",\"type\":\"Circle\"},{\"attributes\":{\"source\":{\"id\":\"18443\",\"type\":\"ColumnDataSource\"}},\"id\":\"18447\",\"type\":\"CDSView\"},{\"attributes\":{\"data_source\":{\"id\":\"18584\",\"type\":\"ColumnDataSource\"},\"glyph\":{\"id\":\"18585\",\"type\":\"Line\"},\"hover_glyph\":null,\"muted_glyph\":null,\"nonselection_glyph\":{\"id\":\"18586\",\"type\":\"Line\"},\"selection_glyph\":null,\"view\":{\"id\":\"18588\",\"type\":\"CDSView\"}},\"id\":\"18587\",\"type\":\"GlyphRenderer\"},{\"attributes\":{\"line_color\":\"#444147\",\"x\":{\"field\":\"x\"},\"y\":{\"field\":\"y\"}},\"id\":\"18476\",\"type\":\"Line\"},{\"attributes\":{},\"id\":\"18708\",\"type\":\"Selection\"},{\"attributes\":{\"data_source\":{\"id\":\"18509\",\"type\":\"ColumnDataSource\"},\"glyph\":{\"id\":\"18510\",\"type\":\"Circle\"},\"hover_glyph\":null,\"muted_glyph\":null,\"nonselection_glyph\":{\"id\":\"18511\",\"type\":\"Circle\"},\"selection_glyph\":null,\"view\":{\"id\":\"18513\",\"type\":\"CDSView\"}},\"id\":\"18512\",\"type\":\"GlyphRenderer\"},{\"attributes\":{\"callback\":null,\"data\":{\"x\":{\"__ndarray__\":\"AAAAAAAAJEBlm5whrLUoQHrj1I5Chy5AAY++W8/bMkDzMfI3rUw3QHYvvYNByTxAZXt8d0vIQUCaRfpFSPhFQNh4Ml60JEtAJNzrtoDEUEDN8KxRULdUQD8eNkQnmFlASzaMyRKfX0A+wSCOqYhjQBowWpQ7ImhAOKhgzxnRbUDUAZtgSGtyQMhguq+mwXZAzwJuBX4dfEAQE/JzMF6BQCBNptUwdYVALkFvQb6CikDBmXDZc2CQQHKj+g+0O5RA1EExVG//mEC9fOhsZOKeQB1sNS8bFKNAHxlyyDqSp0BL7xv8Lx+tQM2iX9Vg/bFA++YTtN05tkDR8+hru3W7QHhq846O9sBA0XOXmif1xEAhzUaMjuTJQJQL5fF3/c9AQh/iX/nC00AmjxalRmrYQIzM2OYbKt5A/hNhSkSi4kDskn48lQXnQL9GfL9rcexAI0mpEwmS8UA7FCzvPrX1QCETwtPh0fpADKrABleRAEEienVZGngEQV1uTLgOSglBK6GRVpY+D0HMt2YQD00TQQ==\",\"dtype\":\"float64\",\"shape\":[50]},\"y\":{\"__ndarray__\":\"jenWaJhLzkCsFUbi87bSQEYY7NkjH9dANkNsCf+Q3ECaUZV1iqXhQHXIQyxYzeVAO4/i0Kfv6kCs7Nlxu6PwQG29DoXTjvRAMF76uyFm+UDkwXzFRWH/QOloDEJ8YgNBBIqL1hDzB0ElFHSs05YNQa6sg9NIRxJB6xDcBy2VFkFmPgY9i+YbQRmkc9E+PCFBArWF8EBLJUEnkLI97k4qQfTfKh5yQDBBEt/p2CgUNEHtrxRFlM44QSChAisIpj5BcuRBr9HuQkFZijd7KWRHQcaH+I9F5kxBD6BnFDjaUUGD8xdtbQ5WQTvRXIIQQFtBO1B/dmfVYEGaSU3xMcxkQX1oX7HzsWlBzORvcfK+b0EJkd0cWpxzQXDSJBqPOnhB5c7FzifvfUE0zlBH2X2CQXqdhtCW2IZBrSpd79Q5jEHm3CQdsm+RQYr/ltnRipVBHAi0JHedmkG4us+/9XCgQSIj5BYZUKRBOlGC0aEYqUFfbhTlhQGvQVpxhkFWJ7NB2GtVJ/2pt0Fjk1Cmijy9QQ==\",\"dtype\":\"float64\",\"shape\":[50]}},\"selected\":{\"id\":\"18664\",\"type\":\"Selection\"},\"selection_policy\":{\"id\":\"18665\",\"type\":\"UnionRenderers\"}},\"id\":\"18584\",\"type\":\"ColumnDataSource\"},{\"attributes\":{\"data_source\":{\"id\":\"18443\",\"type\":\"ColumnDataSource\"},\"glyph\":{\"id\":\"18444\",\"type\":\"Line\"},\"hover_glyph\":null,\"muted_glyph\":null,\"nonselection_glyph\":{\"id\":\"18445\",\"type\":\"Line\"},\"selection_glyph\":null,\"view\":{\"id\":\"18447\",\"type\":\"CDSView\"}},\"id\":\"18446\",\"type\":\"GlyphRenderer\"},{\"attributes\":{\"label\":{\"value\":\"20181121\"},\"renderers\":[{\"id\":\"18512\",\"type\":\"GlyphRenderer\"},{\"id\":\"18549\",\"type\":\"GlyphRenderer\"},{\"id\":\"18587\",\"type\":\"GlyphRenderer\"},{\"id\":\"18627\",\"type\":\"GlyphRenderer\"}]},\"id\":\"18545\",\"type\":\"LegendItem\"},{\"attributes\":{},\"id\":\"18544\",\"type\":\"UnionRenderers\"},{\"attributes\":{\"callback\":null,\"data\":{\"x\":{\"__ndarray__\":\"AAAAAAAA+H8AAAAAAAD4fwAAAAAAAPh/AAAAAAAA+H8AAAAAAAD4fwAAAAAAAPh/AAAAAAAA+H8AAAAAAAD4fwAAAAAAAPh/AAAAAAAA+H8AAAAAAAD4fwAAAAAAAPh/TDgHRtTaYkAAAAAAAAD4fwAAAAAAAPh/AAAAAAAA+H/qMqY4Z95zQAAAAAAAAPh/AAAAAAAA+H8AAAAAAAD4f/4iNTNN2YlACi8aFTvzjkBfN1gJDg+SQChTgH3LbZdAQMkRptz3nEB+kVUQA4qgQDp5S16Nw6RAaifm+gX3qkA9ewVUooKwQI6GcdoTNrRArxuhNLAmuUD2J+nrAli/QBUMT4+8vsJAOlZMtuxJx0DCcFZOb3DNQLv8H3ZamNFAwo5j7vZl1kBZ4zmRQwnbQI98H3Z2neFAWMbuYT9S5UDpSabWoCDnQJgBEBEiyu1AdwE5Joo+9UAwiRb7bR76QH0d2go6cf1Ab52k62PZAkHgqp5vJNMGQVmGlUCWOAxBqLiPYUM/EUE=\",\"dtype\":\"float64\",\"shape\":[49]},\"y\":{\"__ndarray__\":\"AAAAAAAA+H8AAAAAAAD4fwAAAAAAAPh/AAAAAAAA+H8AAAAAAAD4fwAAAAAAAPh/AAAAAAAA+H8AAAAAAAD4fwAAAAAAAPh/AAAAAAAA+H8AAAAAAAD4fwAAAAAAAPh/VVi0PMeZ1UAAAAAAAAD4fwAAAAAAAPh/AAAAAAAA+H91t7Ygirq4QAAAAAAAAPh/AAAAAAAA+H8AAAAAAAD4f3h+kHCbpRBBvYjUg3BbEkEwAQAAIHEhQYy5xq36ZxBBWJIhVDM2FkFEeDYfdtcSQdWgoq/rKDRBJAY63wmBOkHEnFZeXd4+QeqABx8XGCZB9D+qsk9jSUEGF/z5bu5YQVz3Ap3G3UNB1ARJDkJEV0EOWYaRIE1SQenwy8fEv1JB3n7NKvRga0FN9tA8cP6SQaa5pdhzSWpBd3l6f5PkkUFtOde7sPRRQT3IGdGFTIJBAq29lAN1aEHQ8FHpEPzbQU6GH0Vg/r5BJAFeSQiOwUEy/Z592SDUQfpKljmz6sVB5ygT7DunuEE=\",\"dtype\":\"float64\",\"shape\":[49]}},\"selected\":{\"id\":\"18622\",\"type\":\"Selection\"},\"selection_policy\":{\"id\":\"18623\",\"type\":\"UnionRenderers\"}},\"id\":\"18546\",\"type\":\"ColumnDataSource\"},{\"attributes\":{\"data_source\":{\"id\":\"18475\",\"type\":\"ColumnDataSource\"},\"glyph\":{\"id\":\"18476\",\"type\":\"Line\"},\"hover_glyph\":null,\"muted_glyph\":null,\"nonselection_glyph\":{\"id\":\"18477\",\"type\":\"Line\"},\"selection_glyph\":null,\"view\":{\"id\":\"18479\",\"type\":\"CDSView\"}},\"id\":\"18478\",\"type\":\"GlyphRenderer\"},{\"attributes\":{\"source\":{\"id\":\"18475\",\"type\":\"ColumnDataSource\"}},\"id\":\"18479\",\"type\":\"CDSView\"},{\"attributes\":{},\"id\":\"18473\",\"type\":\"Selection\"},{\"attributes\":{\"callback\":null,\"data\":{\"x\":{\"__ndarray__\":\"AAAAAAAAJEBlm5whrLUoQHrj1I5Chy5AAY++W8/bMkDzMfI3rUw3QHYvvYNByTxAZXt8d0vIQUCaRfpFSPhFQNh4Ml60JEtAJNzrtoDEUEDN8KxRULdUQD8eNkQnmFlASzaMyRKfX0A+wSCOqYhjQBowWpQ7ImhAOKhgzxnRbUDUAZtgSGtyQMhguq+mwXZAzwJuBX4dfEAQE/JzMF6BQCBNptUwdYVALkFvQb6CikDBmXDZc2CQQHKj+g+0O5RA1EExVG//mEC9fOhsZOKeQB1sNS8bFKNAHxlyyDqSp0BL7xv8Lx+tQM2iX9Vg/bFA++YTtN05tkDR8+hru3W7QHhq846O9sBA0XOXmif1xEAhzUaMjuTJQJQL5fF3/c9AQh/iX/nC00AmjxalRmrYQIzM2OYbKt5A/hNhSkSi4kDskn48lQXnQL9GfL9rcexAI0mpEwmS8UA7FCzvPrX1QCETwtPh0fpADKrABleRAEEienVZGngEQV1uTLgOSglBK6GRVpY+D0HMt2YQD00TQQ==\",\"dtype\":\"float64\",\"shape\":[50]},\"y\":{\"__ndarray__\":\"6kxabMfszUCxGUx0YXzSQBh/dX3G1tZAzwcjRZc33EC2D7u8T27hQKxUEgYcieVA7zVvN1qb6kCf1amYp2/wQDOqyz98TvRABjPpwqMW+UAJ8GW6D//+QI+g0fnQJQNBj+9pNByoB0HJ2Q1yODoNQSFijuMTDhJBcLESdn9OFkHOv2HxOI8bQcXQtaRNBiFB/qW+8JsIJUGrTySrl/wpQZi1kQKVDTBBb+bOfVHVM0Fdv++d8IA4QbwmkiMcRj5ByQNiaJCzQkHZG24Z9BpHQeuF2OfSi0xBEdQVfViiUUGtXoiVZclVQR/XM0DH6lpBghN/J7igYEFg2YWaGotkQc5sNWyIYWlB6hodOZdbb0HYfiS5+V5zQdu+tba67ndBadxNIniRfUE1ssCR+UOCQVv6YkIWkYZBN01i+H3hi0FvlLDpHzmRQV8o2+dlR5VBZecOxypKmkFIVwPOgD2gQVmYUSSGEKRBSGUxZhbKqEGC6MGFe6CuQQvazRdk67JB9WNdO+1ft0EcoKP9CeG8QQ==\",\"dtype\":\"float64\",\"shape\":[50]}},\"selected\":{\"id\":\"18543\",\"type\":\"Selection\"},\"selection_policy\":{\"id\":\"18544\",\"type\":\"UnionRenderers\"}},\"id\":\"18475\",\"type\":\"ColumnDataSource\"},{\"attributes\":{\"callback\":null,\"data\":{\"x\":{\"__ndarray__\":\"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\",\"dtype\":\"float64\",\"shape\":[224]},\"y\":{\"__ndarray__\":\"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\",\"dtype\":\"float64\",\"shape\":[224]}},\"selected\":{\"id\":\"18582\",\"type\":\"Selection\"},\"selection_policy\":{\"id\":\"18583\",\"type\":\"UnionRenderers\"}},\"id\":\"18509\",\"type\":\"ColumnDataSource\"},{\"attributes\":{\"source\":{\"id\":\"18509\",\"type\":\"ColumnDataSource\"}},\"id\":\"18513\",\"type\":\"CDSView\"},{\"attributes\":{\"fill_color\":{\"value\":\"#3F60AC\"},\"line_color\":{\"value\":\"#3F60AC\"},\"size\":{\"units\":\"screen\",\"value\":6},\"x\":{\"field\":\"x\"},\"y\":{\"field\":\"y\"}},\"id\":\"18547\",\"type\":\"Circle\"},{\"attributes\":{},\"id\":\"18508\",\"type\":\"UnionRenderers\"},{\"attributes\":{\"data_source\":{\"id\":\"19931\",\"type\":\"ColumnDataSource\"},\"glyph\":{\"id\":\"19932\",\"type\":\"Circle\"},\"hover_glyph\":null,\"muted_glyph\":null,\"nonselection_glyph\":{\"id\":\"19933\",\"type\":\"Circle\"},\"selection_glyph\":null,\"view\":{\"id\":\"19935\",\"type\":\"CDSView\"}},\"id\":\"19934\",\"type\":\"GlyphRenderer\"},{\"attributes\":{},\"id\":\"18582\",\"type\":\"Selection\"},{\"attributes\":{},\"id\":\"18507\",\"type\":\"Selection\"},{\"attributes\":{\"line_alpha\":0.1,\"line_color\":\"#1f77b4\",\"x\":{\"field\":\"x\"},\"y\":{\"field\":\"y\"}},\"id\":\"18586\",\"type\":\"Line\"},{\"attributes\":{\"fill_alpha\":{\"value\":0.1},\"fill_color\":{\"value\":\"#1f77b4\"},\"line_alpha\":{\"value\":0.1},\"line_color\":{\"value\":\"#1f77b4\"},\"size\":{\"units\":\"screen\",\"value\":6},\"x\":{\"field\":\"x\"},\"y\":{\"field\":\"y\"}},\"id\":\"18548\",\"type\":\"Circle\"},{\"attributes\":{\"line_alpha\":0.1,\"line_color\":\"#1f77b4\",\"x\":{\"field\":\"x\"},\"y\":{\"field\":\"y\"}},\"id\":\"18477\",\"type\":\"Line\"},{\"attributes\":{\"fill_alpha\":{\"value\":0.1},\"fill_color\":{\"value\":\"#1f77b4\"},\"line_alpha\":{\"value\":0.1},\"line_color\":{\"value\":\"#1f77b4\"},\"size\":{\"units\":\"screen\",\"value\":1},\"x\":{\"field\":\"x\"},\"y\":{\"field\":\"y\"}},\"id\":\"18511\",\"type\":\"Circle\"},{\"attributes\":{\"data_source\":{\"id\":\"18546\",\"type\":\"ColumnDataSource\"},\"glyph\":{\"id\":\"18547\",\"type\":\"Circle\"},\"hover_glyph\":null,\"muted_glyph\":null,\"nonselection_glyph\":{\"id\":\"18548\",\"type\":\"Circle\"},\"selection_glyph\":null,\"view\":{\"id\":\"18550\",\"type\":\"CDSView\"}},\"id\":\"18549\",\"type\":\"GlyphRenderer\"},{\"attributes\":{\"source\":{\"id\":\"18546\",\"type\":\"ColumnDataSource\"}},\"id\":\"18550\",\"type\":\"CDSView\"},{\"attributes\":{},\"id\":\"18216\",\"type\":\"PanTool\"},{\"attributes\":{},\"id\":\"18309\",\"type\":\"Selection\"},{\"attributes\":{},\"id\":\"20951\",\"type\":\"UnionRenderers\"},{\"attributes\":{},\"id\":\"18204\",\"type\":\"LogScale\"},{\"attributes\":{\"num_minor_ticks\":10},\"id\":\"18212\",\"type\":\"LogTicker\"},{\"attributes\":{\"axis_line_color\":{\"value\":\"black\"},\"formatter\":{\"id\":\"18236\",\"type\":\"LogTickFormatter\"},\"major_tick_line_color\":{\"value\":null},\"minor_tick_line_color\":{\"value\":null},\"ticker\":{\"id\":\"18212\",\"type\":\"LogTicker\"}},\"id\":\"18211\",\"type\":\"LogAxis\"},{\"attributes\":{\"callback\":null},\"id\":\"18200\",\"type\":\"DataRange1d\"},{\"attributes\":{},\"id\":\"20950\",\"type\":\"Selection\"},{\"attributes\":{\"callback\":null},\"id\":\"18198\",\"type\":\"DataRange1d\"},{\"attributes\":{},\"id\":\"18202\",\"type\":\"LogScale\"},{\"attributes\":{\"dimension\":1,\"grid_line_color\":\"#FFFFFF\",\"grid_line_width\":0.75,\"ticker\":{\"id\":\"18212\",\"type\":\"LogTicker\"}},\"id\":\"18215\",\"type\":\"Grid\"},{\"attributes\":{\"axis_line_color\":{\"value\":\"black\"},\"formatter\":{\"id\":\"18238\",\"type\":\"LogTickFormatter\"},\"major_tick_line_color\":{\"value\":null},\"minor_tick_line_color\":{\"value\":null},\"ticker\":{\"id\":\"18207\",\"type\":\"LogTicker\"}},\"id\":\"18206\",\"type\":\"LogAxis\"},{\"attributes\":{\"grid_line_color\":\"#FFFFFF\",\"grid_line_width\":0.75,\"ticker\":{\"id\":\"18207\",\"type\":\"LogTicker\"}},\"id\":\"18210\",\"type\":\"Grid\"},{\"attributes\":{\"num_minor_ticks\":10},\"id\":\"18207\",\"type\":\"LogTicker\"},{\"attributes\":{},\"id\":\"19688\",\"type\":\"Selection\"},{\"attributes\":{\"line_color\":\"#C76A6A\",\"x\":{\"field\":\"x\"},\"y\":{\"field\":\"y\"}},\"id\":\"20103\",\"type\":\"Line\"},{\"attributes\":{\"data_source\":{\"id\":\"20016\",\"type\":\"ColumnDataSource\"},\"glyph\":{\"id\":\"20017\",\"type\":\"Circle\"},\"hover_glyph\":null,\"muted_glyph\":null,\"nonselection_glyph\":{\"id\":\"20018\",\"type\":\"Circle\"},\"selection_glyph\":null,\"view\":{\"id\":\"20020\",\"type\":\"CDSView\"}},\"id\":\"20019\",\"type\":\"GlyphRenderer\"},{\"attributes\":{\"callback\":null,\"data\":{\"x\":{\"__ndarray__\":\"AAAAAAAAJEBlm5whrLUoQHrj1I5Chy5AAY++W8/bMkDzMfI3rUw3QHYvvYNByTxAZXt8d0vIQUCaRfpFSPhFQNh4Ml60JEtAJNzrtoDEUEDN8KxRULdUQD8eNkQnmFlASzaMyRKfX0A+wSCOqYhjQBowWpQ7ImhAOKhgzxnRbUDUAZtgSGtyQMhguq+mwXZAzwJuBX4dfEAQE/JzMF6BQCBNptUwdYVALkFvQb6CikDBmXDZc2CQQHKj+g+0O5RA1EExVG//mEC9fOhsZOKeQB1sNS8bFKNAHxlyyDqSp0BL7xv8Lx+tQM2iX9Vg/bFA++YTtN05tkDR8+hru3W7QHhq846O9sBA0XOXmif1xEAhzUaMjuTJQJQL5fF3/c9AQh/iX/nC00AmjxalRmrYQIzM2OYbKt5A/hNhSkSi4kDskn48lQXnQL9GfL9rcexAI0mpEwmS8UA7FCzvPrX1QCETwtPh0fpADKrABleRAEEienVZGngEQV1uTLgOSglBK6GRVpY+D0HMt2YQD00TQQ==\",\"dtype\":\"float64\",\"shape\":[50]},\"y\":{\"__ndarray__\":\"MFrhCEgDwkAKJkPEKEHGQJ5RbCW+fstAnSuQhB/80EDbWuodCPzUQBjvsaEN7dlA+FGdnPsD4EB1/P1qdcnjQIMAn5lJcuhAWghi0gE07kCEZBWZYajyQPK+mCUjDfdAJi+3D8F6/EDZjwEOzZcBQRG7znpevAVBBDhQya7aCkE3NczFxpYQQVmkAdTRfhRBjuM+G1tSGUEAUjn71kgfQZZgOWpkUyNBn6xGIGvgJ0GpPozVyX8tQVmogXwNOTJBBi8jv5eDNkGPQZv60dA7QSuj0WXTLkFBN6hPiaw6RUG4T4BacjpKQSyIT8DKM1BBP9ZPqoYEVEGJ3HWkQ7tYQeAqWiorjl5BBROJ5hPgYkF56CEJ81FnQY2qyTDFz2xB80vIqFHMcUFLmQIPQf11QV9RVd/YKntBXXCeHUzIgEG2efN3ALyEQQHr1wfynYlBHVmStzqmj0Eem9E2FY2TQYBbirmxJ5hBF6TSMdnXnUH+FVN0c2+iQb1ltgrNxqZB4Vqm09ojrEE+1jOiHmKxQQ==\",\"dtype\":\"float64\",\"shape\":[50]}},\"selected\":{\"id\":\"19327\",\"type\":\"Selection\"},\"selection_policy\":{\"id\":\"19328\",\"type\":\"UnionRenderers\"}},\"id\":\"19199\",\"type\":\"ColumnDataSource\"},{\"attributes\":{},\"id\":\"19262\",\"type\":\"UnionRenderers\"},{\"attributes\":{\"label\":{\"value\":\"20190103\"},\"renderers\":[{\"id\":\"19079\",\"type\":\"GlyphRenderer\"},{\"id\":\"19140\",\"type\":\"GlyphRenderer\"},{\"id\":\"19202\",\"type\":\"GlyphRenderer\"},{\"id\":\"19266\",\"type\":\"GlyphRenderer\"}]},\"id\":\"19136\",\"type\":\"LegendItem\"},{\"attributes\":{\"line_color\":\"#7E59A2\",\"x\":{\"field\":\"x\"},\"y\":{\"field\":\"y\"}},\"id\":\"19200\",\"type\":\"Line\"},{\"attributes\":{\"callback\":null,\"data\":{\"x\":{\"__ndarray__\":\"AAAAAAAAJEBlm5whrLUoQHrj1I5Chy5AAY++W8/bMkDzMfI3rUw3QHYvvYNByTxAZXt8d0vIQUCaRfpFSPhFQNh4Ml60JEtAJNzrtoDEUEDN8KxRULdUQD8eNkQnmFlASzaMyRKfX0A+wSCOqYhjQBowWpQ7ImhAOKhgzxnRbUDUAZtgSGtyQMhguq+mwXZAzwJuBX4dfEAQE/JzMF6BQCBNptUwdYVALkFvQb6CikDBmXDZc2CQQHKj+g+0O5RA1EExVG//mEC9fOhsZOKeQB1sNS8bFKNAHxlyyDqSp0BL7xv8Lx+tQM2iX9Vg/bFA++YTtN05tkDR8+hru3W7QHhq846O9sBA0XOXmif1xEAhzUaMjuTJQJQL5fF3/c9AQh/iX/nC00AmjxalRmrYQIzM2OYbKt5A/hNhSkSi4kDskn48lQXnQL9GfL9rcexAI0mpEwmS8UA7FCzvPrX1QCETwtPh0fpADKrABleRAEEienVZGngEQV1uTLgOSglBK6GRVpY+D0HMt2YQD00TQQ==\",\"dtype\":\"float64\",\"shape\":[50]},\"y\":{\"__ndarray__\":\"d7s+wIoiy0D/T+24KsPQQHrbJ8uptdRAdbhTPh2W2UD6dDrWjZzfQEV6fiQbh+NAIYH2WE8g6EAZVnaquc7tQLjBlLPQafJAsSCai9a/9kCNgjKVQBv8QJ2nWzfOXAFBG7hkLntzBUG4y9mKoYAKQRexEtQlXxBB5ZqeYhc6FEGalCh5cf0YQdTp7oHu3x5BUU3bDpYSI0EDuiUGWpAnQdhn6wPeHC1BcKT26fH7MUH8h21hGDg2QYZfUVmLcztBbGMNlDT1QEFwFsMmfPNEQQrPEHB+4klBhiFKeev6T0H+qutQZsFTQSOnTaxUaFhBQ8iEqrQnXkF6JuY7yKBiQck71K6/A2dBuFpxnydvbEHXGJ61opBxQfpxci2Es3VBDOMNz77PekFn5EYcBZCAQSNAMNx4doRBUINC6wpIiUFM2i4TGTyPQegBcWaFS5NBuQocnLHWl0E9ZVQUxnOdQdMxFXehMaJByUmPTWx6pkGY4KDAfcWrQahdwc7TJ7FBs162DgcytUGG/2Gjwy+6QQ==\",\"dtype\":\"float64\",\"shape\":[50]}},\"selected\":{\"id\":\"19395\",\"type\":\"Selection\"},\"selection_policy\":{\"id\":\"19396\",\"type\":\"UnionRenderers\"}},\"id\":\"19263\",\"type\":\"ColumnDataSource\"},{\"attributes\":{\"fill_alpha\":{\"value\":0.1},\"fill_color\":{\"value\":\"#1f77b4\"},\"line_alpha\":{\"value\":0.1},\"line_color\":{\"value\":\"#1f77b4\"},\"size\":{\"units\":\"screen\",\"value\":1},\"x\":{\"field\":\"x\"},\"y\":{\"field\":\"y\"}},\"id\":\"19078\",\"type\":\"Circle\"},{\"attributes\":{\"fill_alpha\":{\"value\":0.1},\"fill_color\":{\"value\":\"#1f77b4\"},\"line_alpha\":{\"value\":0.1},\"line_color\":{\"value\":\"#1f77b4\"},\"size\":{\"units\":\"screen\",\"value\":6},\"x\":{\"field\":\"x\"},\"y\":{\"field\":\"y\"}},\"id\":\"20018\",\"type\":\"Circle\"},{\"attributes\":{},\"id\":\"19327\",\"type\":\"Selection\"},{\"attributes\":{\"callback\":null,\"data\":{\"x\":{\"__ndarray__\":\"AAAAAAAA+H8AAAAAAAD4fwAAAAAAAPh/AAAAAAAA+H8AAAAAAAD4fwAAAAAAAPh/AAAAAAAA+H8AAAAAAAD4fwAAAAAAAPh/AAAAAAAA+H8AAAAAAAD4fwAAAAAAAPh/AAAAAAAA+H8AAAAAAAD4fwAAAAAAAPh/IhANEFRhckBKRTD936ByQAAAAAAAAPh/AAAAAAAA+H8Q7O5X2j6EQD1L7EBel4dAty6e8mPzjUAd3UPoLA2SQGsflS/7aphAxe3WGuqdm0CEg/bFxHefQN/taNrux6RAgHspJIbkqEBgN1nJPUawQFwKobHBVrNAh1Dv/QuZuECSSIHwgZu+QDUi0nHan8NAJKPQHS5sx0BLjcQXPlvNQGOyKxmUjdFAhumFwfEQ1kAJiZTrdmTbQA4V+ux7K+FANBs0QUiy5EC0UTRj4oTpQGydKfjFru9Ao4en+FWw80D4zZ5dHBf4QA5I7I3tgv1AzfcJLT0SAkFMYGXJSMoHQdxlzkhwkQtBMkgrlAv1EUE=\",\"dtype\":\"float64\",\"shape\":[49]},\"y\":{\"__ndarray__\":\"AAAAAAAA+H8AAAAAAAD4fwAAAAAAAPh/AAAAAAAA+H8AAAAAAAD4fwAAAAAAAPh/AAAAAAAA+H8AAAAAAAD4fwAAAAAAAPh/AAAAAAAA+H8AAAAAAAD4fwAAAAAAAPh/AAAAAAAA+H8AAAAAAAD4fwAAAAAAAPh/kyZgK97EikDyLnIge2CyQAAAAAAAAPh/AAAAAAAA+H9A1x0a5aQBQUfhWcXJ5+1Az3ricyg8EEEZvFrDzmQRQaiyIowhDyhBjfyaGZgSCkG7H1kO1e4lQUdClWv8XCBB53Gqj+JgJ0G1ZqIkEyYwQcaZ2jc8CzJBZrDFdp4AF0Fks6er195XQQsuMm0YRlpBOKBI+VHFWUFbxmGYrsBnQQH4QebT5YJBSHhl2dJ5akHdOpcwsOBlQaG8gPHrs4RBchoTyniLmUF1fqPzDA2XQTk6lNPUeKZB0V68yZN5fkEZeoL2CHWvQU4GuUqdtZZBIO0zK9ZNskGtWYHNIIWlQdvSgopztbNBV6O2B0XO0kE=\",\"dtype\":\"float64\",\"shape\":[49]}},\"selected\":{\"id\":\"19261\",\"type\":\"Selection\"},\"selection_policy\":{\"id\":\"19262\",\"type\":\"UnionRenderers\"}},\"id\":\"19137\",\"type\":\"ColumnDataSource\"},{\"attributes\":{\"data_source\":{\"id\":\"19263\",\"type\":\"ColumnDataSource\"},\"glyph\":{\"id\":\"19264\",\"type\":\"Line\"},\"hover_glyph\":null,\"muted_glyph\":null,\"nonselection_glyph\":{\"id\":\"19265\",\"type\":\"Line\"},\"selection_glyph\":null,\"view\":{\"id\":\"19267\",\"type\":\"CDSView\"}},\"id\":\"19266\",\"type\":\"GlyphRenderer\"},{\"attributes\":{\"data_source\":{\"id\":\"19199\",\"type\":\"ColumnDataSource\"},\"glyph\":{\"id\":\"19200\",\"type\":\"Line\"},\"hover_glyph\":null,\"muted_glyph\":null,\"nonselection_glyph\":{\"id\":\"19201\",\"type\":\"Line\"},\"selection_glyph\":null,\"view\":{\"id\":\"19203\",\"type\":\"CDSView\"}},\"id\":\"19202\",\"type\":\"GlyphRenderer\"},{\"attributes\":{\"source\":{\"id\":\"20102\",\"type\":\"ColumnDataSource\"}},\"id\":\"20106\",\"type\":\"CDSView\"},{\"attributes\":{\"line_alpha\":0.1,\"line_color\":\"#1f77b4\",\"x\":{\"field\":\"x\"},\"y\":{\"field\":\"y\"}},\"id\":\"20104\",\"type\":\"Line\"},{\"attributes\":{},\"id\":\"19135\",\"type\":\"UnionRenderers\"},{\"attributes\":{\"line_color\":\"#C76A6A\",\"x\":{\"field\":\"x\"},\"y\":{\"field\":\"y\"}},\"id\":\"20191\",\"type\":\"Line\"},{\"attributes\":{\"fill_color\":{\"value\":\"#7E59A2\"},\"line_color\":{\"value\":\"#7E59A2\"},\"size\":{\"units\":\"screen\",\"value\":6},\"x\":{\"field\":\"x\"},\"y\":{\"field\":\"y\"}},\"id\":\"19138\",\"type\":\"Circle\"},{\"attributes\":{\"source\":{\"id\":\"19931\",\"type\":\"ColumnDataSource\"}},\"id\":\"19935\",\"type\":\"CDSView\"},{\"attributes\":{\"data_source\":{\"id\":\"20102\",\"type\":\"ColumnDataSource\"},\"glyph\":{\"id\":\"20103\",\"type\":\"Line\"},\"hover_glyph\":null,\"muted_glyph\":null,\"nonselection_glyph\":{\"id\":\"20104\",\"type\":\"Line\"},\"selection_glyph\":null,\"view\":{\"id\":\"20106\",\"type\":\"CDSView\"}},\"id\":\"20105\",\"type\":\"GlyphRenderer\"},{\"attributes\":{\"source\":{\"id\":\"19263\",\"type\":\"ColumnDataSource\"}},\"id\":\"19267\",\"type\":\"CDSView\"},{\"attributes\":{},\"id\":\"20188\",\"type\":\"Selection\"},{\"attributes\":{\"data_source\":{\"id\":\"19076\",\"type\":\"ColumnDataSource\"},\"glyph\":{\"id\":\"19077\",\"type\":\"Circle\"},\"hover_glyph\":null,\"muted_glyph\":null,\"nonselection_glyph\":{\"id\":\"19078\",\"type\":\"Circle\"},\"selection_glyph\":null,\"view\":{\"id\":\"19080\",\"type\":\"CDSView\"}},\"id\":\"19079\",\"type\":\"GlyphRenderer\"},{\"attributes\":{\"source\":{\"id\":\"19199\",\"type\":\"ColumnDataSource\"}},\"id\":\"19203\",\"type\":\"CDSView\"},{\"attributes\":{\"source\":{\"id\":\"19137\",\"type\":\"ColumnDataSource\"}},\"id\":\"19141\",\"type\":\"CDSView\"},{\"attributes\":{\"data_source\":{\"id\":\"19137\",\"type\":\"ColumnDataSource\"},\"glyph\":{\"id\":\"19138\",\"type\":\"Circle\"},\"hover_glyph\":null,\"muted_glyph\":null,\"nonselection_glyph\":{\"id\":\"19139\",\"type\":\"Circle\"},\"selection_glyph\":null,\"view\":{\"id\":\"19141\",\"type\":\"CDSView\"}},\"id\":\"19140\",\"type\":\"GlyphRenderer\"},{\"attributes\":{\"fill_color\":{\"value\":\"#C76A6A\"},\"line_color\":{\"value\":\"#C76A6A\"},\"size\":{\"units\":\"screen\",\"value\":6},\"x\":{\"field\":\"x\"},\"y\":{\"field\":\"y\"}},\"id\":\"20017\",\"type\":\"Circle\"},{\"attributes\":{\"label\":{\"value\":\"20190617\"},\"renderers\":[{\"id\":\"19934\",\"type\":\"GlyphRenderer\"},{\"id\":\"20019\",\"type\":\"GlyphRenderer\"},{\"id\":\"20105\",\"type\":\"GlyphRenderer\"},{\"id\":\"20193\",\"type\":\"GlyphRenderer\"}]},\"id\":\"20015\",\"type\":\"LegendItem\"},{\"attributes\":{\"line_alpha\":0.1,\"line_color\":\"#1f77b4\",\"x\":{\"field\":\"x\"},\"y\":{\"field\":\"y\"}},\"id\":\"19201\",\"type\":\"Line\"},{\"attributes\":{\"fill_alpha\":{\"value\":0.1},\"fill_color\":{\"value\":\"#1f77b4\"},\"line_alpha\":{\"value\":0.1},\"line_color\":{\"value\":\"#1f77b4\"},\"size\":{\"units\":\"screen\",\"value\":6},\"x\":{\"field\":\"x\"},\"y\":{\"field\":\"y\"}},\"id\":\"19139\",\"type\":\"Circle\"},{\"attributes\":{\"source\":{\"id\":\"20016\",\"type\":\"ColumnDataSource\"}},\"id\":\"20020\",\"type\":\"CDSView\"},{\"attributes\":{},\"id\":\"19198\",\"type\":\"UnionRenderers\"},{\"attributes\":{\"fill_alpha\":{\"value\":0.5},\"fill_color\":{\"value\":\"#7E59A2\"},\"line_alpha\":{\"value\":0.5},\"line_color\":{\"value\":\"#7E59A2\"},\"size\":{\"units\":\"screen\",\"value\":1},\"x\":{\"field\":\"x\"},\"y\":{\"field\":\"y\"}},\"id\":\"19077\",\"type\":\"Circle\"},{\"attributes\":{},\"id\":\"20279\",\"type\":\"UnionRenderers\"},{\"attributes\":{},\"id\":\"20100\",\"type\":\"Selection\"},{\"attributes\":{\"callback\":null,\"data\":{\"x\":{\"__ndarray__\":\"AAAAAAAA+H8AAAAAAAD4fwAAAAAAAPh/AAAAAAAA+H8AAAAAAAD4fwAAAAAAAPh/AAAAAAAA+H8AAAAAAAD4fwAAAAAAAPh/AAAAAAAA+H8AAAAAAAD4fwAAAAAAAPh/AAAAAAAA+H8AAAAAAAD4fwAAAAAAAPh/VsMOVQJbckAAAAAAAAD4fwAAAAAAAPh/AAAAAAAA+H/ek/6w7cODQAAAAAAAAPh/0k3OkkKXjkAqMmQ6uXiSQMas6MZu4JZAyJK1ACU9nkB0MmCHTSOhQFOZ5Plt3KZAPSKnwSzlqUDzoNu30FKwQEGBdXpNp7NAAGqJ+WjouUAzU7YkTCK+QKtahgdDfsJABf6bM1JXx0BITfeXWLjNQFbxMFxcx9FA4QauJ0fy1UBcasmaKqXaQOMST+Fs3+BAS+v67eYb5UCPFQJ8YfvpQOJUXixjl+9ApMjFYBxN80Dsf9CkM6b3QAIYO+T4L/1AgI6gRQ0KAkG+1EJddp0FQZdOmWOrsAlBAAAAAAAA+H8=\",\"dtype\":\"float64\",\"shape\":[49]},\"y\":{\"__ndarray__\":\"AAAAAAAA+H8AAAAAAAD4fwAAAAAAAPh/AAAAAAAA+H8AAAAAAAD4fwAAAAAAAPh/AAAAAAAA+H8AAAAAAAD4fwAAAAAAAPh/AAAAAAAA+H8AAAAAAAD4fwAAAAAAAPh/AAAAAAAA+H8AAAAAAAD4fwAAAAAAAPh/DrShsAJQ4UAAAAAAAAD4fwAAAAAAAPh/AAAAAAAA+H85pUxQEnahQAAAAAAAAPh/tqfTLwMo/EDWtATWLAnzQMawi+5AofRAt01nL6NBJkEcyBD/KmEUQezgpTKaBBRBMLa+PiahPUHgifTNiFM9QVuOjmAhii9BXf/UVsnZSkFb0PBwG7ZSQYHmEXx3D0xB0VKNMr30VEEX+CjuR7F1QUmInyYVLXZBjmWsVwBWgEH0HI1IHdV2QbdvRdbEUIdBO2Ws9D5CpEEFgpxX5CeiQXIqq2iDEqFBF/dSXgOanEGfkJh3doW0QXLj5n96WL1BLF0wvbcMwUGFpzl9jPnfQUlGLbpbNJZBAAAAAAAA+H8=\",\"dtype\":\"float64\",\"shape\":[49]}},\"selected\":{\"id\":\"20188\",\"type\":\"Selection\"},\"selection_policy\":{\"id\":\"20189\",\"type\":\"UnionRenderers\"}},\"id\":\"20016\",\"type\":\"ColumnDataSource\"},{\"attributes\":{},\"id\":\"19197\",\"type\":\"Selection\"},{\"attributes\":{},\"id\":\"20014\",\"type\":\"UnionRenderers\"},{\"attributes\":{},\"id\":\"19328\",\"type\":\"UnionRenderers\"},{\"attributes\":{\"callback\":null,\"data\":{\"x\":{\"__ndarray__\":\"AAAAAAAAJEBlm5whrLUoQHrj1I5Chy5AAY++W8/bMkDzMfI3rUw3QHYvvYNByTxAZXt8d0vIQUCaRfpFSPhFQNh4Ml60JEtAJNzrtoDEUEDN8KxRULdUQD8eNkQnmFlASzaMyRKfX0A+wSCOqYhjQBowWpQ7ImhAOKhgzxnRbUDUAZtgSGtyQMhguq+mwXZAzwJuBX4dfEAQE/JzMF6BQCBNptUwdYVALkFvQb6CikDBmXDZc2CQQHKj+g+0O5RA1EExVG//mEC9fOhsZOKeQB1sNS8bFKNAHxlyyDqSp0BL7xv8Lx+tQM2iX9Vg/bFA++YTtN05tkDR8+hru3W7QHhq846O9sBA0XOXmif1xEAhzUaMjuTJQJQL5fF3/c9AQh/iX/nC00AmjxalRmrYQIzM2OYbKt5A/hNhSkSi4kDskn48lQXnQL9GfL9rcexAI0mpEwmS8UA7FCzvPrX1QCETwtPh0fpADKrABleRAEEienVZGngEQV1uTLgOSglBK6GRVpY+D0HMt2YQD00TQQ==\",\"dtype\":\"float64\",\"shape\":[50]},\"y\":{\"__ndarray__\":\"HuZo11kP1kAtCqaYNEHbQGY5rOUb1uBA/G+13RDN5EDZrGkcB7PpQCi7rbdGwO9AA894UCyd80DbdnbNkjv4QEmLxqlo8P1A3137e59+AkFDMMCxi9kGQTId1HoDOwxB+aQfAm1wEUEeUj7BuIsVQRfII2yUnhpBG0Rb+qVxIEHRvCPR8lAkQbtFKdGuGSlBVpXxPNICL0HFFeKOIygzQfXTDM36qjdBEG7PBsQ9PUHABxKKRBBCQQEZoCI0UUZBR/rUupCSS0GXzmZMXghRQfjyrBUpC1VBTwb5nb7/WUH5399+hw9gQda1oFy512NBGfemg+mDaEGmc+42yEluQfzPpCHVtXJBzenQksEdd0HH0StVSY98QQlzQxJ8pIFBrMj6HArMhUEChkUXC+6KQdO6w3y8opBBssM3hpiNlEHBRBKQnGSZQXva6fRkX59B1ZYiPVNho0GfXz3gofGnQby7V0wOla1B7SnnwTBGskFBCrAC05O2QZGPgLzf5LtBA2iBuzY7wUFSV4iq+knFQQ==\",\"dtype\":\"float64\",\"shape\":[50]}},\"selected\":{\"id\":\"20278\",\"type\":\"Selection\"},\"selection_policy\":{\"id\":\"20279\",\"type\":\"UnionRenderers\"}},\"id\":\"20102\",\"type\":\"ColumnDataSource\"},{\"attributes\":{\"line_alpha\":0.1,\"line_color\":\"#1f77b4\",\"x\":{\"field\":\"x\"},\"y\":{\"field\":\"y\"}},\"id\":\"19265\",\"type\":\"Line\"},{\"attributes\":{},\"id\":\"20101\",\"type\":\"UnionRenderers\"},{\"attributes\":{\"line_color\":\"#7E59A2\",\"x\":{\"field\":\"x\"},\"y\":{\"field\":\"y\"}},\"id\":\"19264\",\"type\":\"Line\"},{\"attributes\":{},\"id\":\"20278\",\"type\":\"Selection\"},{\"attributes\":{\"source\":{\"id\":\"19076\",\"type\":\"ColumnDataSource\"}},\"id\":\"19080\",\"type\":\"CDSView\"},{\"attributes\":{},\"id\":\"20189\",\"type\":\"UnionRenderers\"},{\"attributes\":{},\"id\":\"19261\",\"type\":\"Selection\"}],\"root_ids\":[\"18197\"]},\"title\":\"Bokeh Application\",\"version\":\"1.2.0\"}};\n",
       "  var render_items = [{\"docid\":\"9c1aa6a2-ef98-4c0f-95bc-7520618919d1\",\"roots\":{\"18197\":\"c9b97e50-25f5-40ca-b7ee-0f9a9c251981\"}}];\n",
       "  root.Bokeh.embed.embed_items_notebook(docs_json, render_items);\n",
       "\n",
       "  }\n",
       "  if (root.Bokeh !== undefined) {\n",
       "    embed_document(root);\n",
       "  } else {\n",
       "    var attempts = 0;\n",
       "    var timer = setInterval(function(root) {\n",
       "      if (root.Bokeh !== undefined) {\n",
       "        embed_document(root);\n",
       "        clearInterval(timer);\n",
       "      }\n",
       "      attempts++;\n",
       "      if (attempts > 100) {\n",
       "        console.log(\"Bokeh: ERROR: Unable to run BokehJS code because BokehJS library is missing\");\n",
       "        clearInterval(timer);\n",
       "      }\n",
       "    }, 10, root)\n",
       "  }\n",
       "})(window);"
      ],
      "application/vnd.bokehjs_exec.v0+json": ""
     },
     "metadata": {
      "application/vnd.bokehjs_exec.v0+json": {
       "id": "18197"
      }
     },
     "output_type": "display_data"
    }
   ],
   "source": [
    "samp['summed'] = samp['I_1_tot'] + samp['I_2_tot']\n",
    "samp['fluct'] = (samp['I_1_tot'] - samp['I_2_tot'])**2\n",
    "p = bokeh.plotting.figure(x_axis_type='log', y_axis_type='log', width=800, height=300)\n",
    "\n",
    "\n",
    "i = 0\n",
    "for g, d in samp.groupby(['date']):\n",
    "    alpha_max = stats_dfs[stats_dfs['date']==g]['alpha_max'].values[0]\n",
    "    alpha_min = stats_dfs[stats_dfs['date']==g]['alpha_min'].values[0]\n",
    "    bins = np.logspace(1, 5.5)\n",
    "    p.circle(d['summed'], d['fluct'], size=1, color=color_list[i], alpha=0.5,legend=str(g))\n",
    "    binned = bin_by_value(d, bins)\n",
    "    p.circle(binned['summed_mean'], binned['fluct_mean'], size=6, color=color_list[i], legend=str(g))\n",
    "    p.line(bins, alpha_min * bins, color=color_list[i], legend=str(g))\n",
    "    p.line(bins, alpha_max * bins, color=color_list[i], legend=str(g))\n",
    "    i+=1 \n",
    "    \n",
    "p.legend.click_policy = 'hide'\n",
    "p.legend.location = 'top_left'\n",
    "bokeh.io.show(p)"
   ]
  },
  {
   "cell_type": "code",
   "execution_count": 38,
   "metadata": {},
   "outputs": [
    {
     "data": {
      "text/html": [
       "<div>\n",
       "<style scoped>\n",
       "    .dataframe tbody tr th:only-of-type {\n",
       "        vertical-align: middle;\n",
       "    }\n",
       "\n",
       "    .dataframe tbody tr th {\n",
       "        vertical-align: top;\n",
       "    }\n",
       "\n",
       "    .dataframe thead th {\n",
       "        text-align: right;\n",
       "    }\n",
       "</style>\n",
       "<table border=\"1\" class=\"dataframe\">\n",
       "  <thead>\n",
       "    <tr style=\"text-align: right;\">\n",
       "      <th></th>\n",
       "      <th>alpha_max</th>\n",
       "      <th>alpha_min</th>\n",
       "      <th>date</th>\n",
       "      <th>mean_alpha</th>\n",
       "      <th>run_number</th>\n",
       "    </tr>\n",
       "  </thead>\n",
       "  <tbody>\n",
       "    <tr>\n",
       "      <th>0</th>\n",
       "      <td>1724.949262</td>\n",
       "      <td>1223.610274</td>\n",
       "      <td>20181019.0</td>\n",
       "      <td>1467.449526</td>\n",
       "      <td>1.0</td>\n",
       "    </tr>\n",
       "    <tr>\n",
       "      <th>1</th>\n",
       "      <td>1894.730574</td>\n",
       "      <td>1488.625673</td>\n",
       "      <td>20181022.0</td>\n",
       "      <td>1691.186303</td>\n",
       "      <td>1.0</td>\n",
       "    </tr>\n",
       "    <tr>\n",
       "      <th>2</th>\n",
       "      <td>954.216774</td>\n",
       "      <td>741.597977</td>\n",
       "      <td>20181023.0</td>\n",
       "      <td>845.017646</td>\n",
       "      <td>1.0</td>\n",
       "    </tr>\n",
       "    <tr>\n",
       "      <th>3</th>\n",
       "      <td>1041.573840</td>\n",
       "      <td>852.633636</td>\n",
       "      <td>20181025.0</td>\n",
       "      <td>942.392566</td>\n",
       "      <td>1.0</td>\n",
       "    </tr>\n",
       "    <tr>\n",
       "      <th>4</th>\n",
       "      <td>964.067797</td>\n",
       "      <td>717.978347</td>\n",
       "      <td>20181030.0</td>\n",
       "      <td>832.490136</td>\n",
       "      <td>1.0</td>\n",
       "    </tr>\n",
       "    <tr>\n",
       "      <th>5</th>\n",
       "      <td>1035.358367</td>\n",
       "      <td>734.467307</td>\n",
       "      <td>20181123.0</td>\n",
       "      <td>877.590809</td>\n",
       "      <td>1.0</td>\n",
       "    </tr>\n",
       "    <tr>\n",
       "      <th>6</th>\n",
       "      <td>644.094581</td>\n",
       "      <td>242.345625</td>\n",
       "      <td>20190306.0</td>\n",
       "      <td>404.252308</td>\n",
       "      <td>1.0</td>\n",
       "    </tr>\n",
       "    <tr>\n",
       "      <th>7</th>\n",
       "      <td>2975.426823</td>\n",
       "      <td>1664.891409</td>\n",
       "      <td>20190308.0</td>\n",
       "      <td>2287.298286</td>\n",
       "      <td>1.0</td>\n",
       "    </tr>\n",
       "    <tr>\n",
       "      <th>8</th>\n",
       "      <td>1209.379827</td>\n",
       "      <td>934.200665</td>\n",
       "      <td>20190318.0</td>\n",
       "      <td>1064.040771</td>\n",
       "      <td>1.0</td>\n",
       "    </tr>\n",
       "    <tr>\n",
       "      <th>9</th>\n",
       "      <td>2070.981273</td>\n",
       "      <td>1062.560130</td>\n",
       "      <td>20190327.0</td>\n",
       "      <td>1537.990227</td>\n",
       "      <td>1.0</td>\n",
       "    </tr>\n",
       "  </tbody>\n",
       "</table>\n",
       "</div>"
      ],
      "text/plain": [
       "     alpha_max    alpha_min        date   mean_alpha  run_number\n",
       "0  1724.949262  1223.610274  20181019.0  1467.449526         1.0\n",
       "1  1894.730574  1488.625673  20181022.0  1691.186303         1.0\n",
       "2   954.216774   741.597977  20181023.0   845.017646         1.0\n",
       "3  1041.573840   852.633636  20181025.0   942.392566         1.0\n",
       "4   964.067797   717.978347  20181030.0   832.490136         1.0\n",
       "5  1035.358367   734.467307  20181123.0   877.590809         1.0\n",
       "6   644.094581   242.345625  20190306.0   404.252308         1.0\n",
       "7  2975.426823  1664.891409  20190308.0  2287.298286         1.0\n",
       "8  1209.379827   934.200665  20190318.0  1064.040771         1.0\n",
       "9  2070.981273  1062.560130  20190327.0  1537.990227         1.0"
      ]
     },
     "execution_count": 38,
     "metadata": {},
     "output_type": "execute_result"
    }
   ],
   "source": []
  },
  {
   "cell_type": "code",
   "execution_count": null,
   "metadata": {},
   "outputs": [],
   "source": []
  }
 ],
 "metadata": {
  "kernelspec": {
   "display_name": "Python 3",
   "language": "python",
   "name": "python3"
  },
  "language_info": {
   "codemirror_mode": {
    "name": "ipython",
    "version": 3
   },
   "file_extension": ".py",
   "mimetype": "text/x-python",
   "name": "python",
   "nbconvert_exporter": "python",
   "pygments_lexer": "ipython3",
   "version": "3.7.3"
  }
 },
 "nbformat": 4,
 "nbformat_minor": 4
}
