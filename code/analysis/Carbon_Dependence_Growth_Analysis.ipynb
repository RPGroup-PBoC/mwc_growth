{
 "cells": [
  {
   "cell_type": "markdown",
   "metadata": {},
   "source": [
    "# Collection & Analysis of Growth Rates in Varying Carbon Sources"
   ]
  },
  {
   "cell_type": "markdown",
   "metadata": {},
   "source": [
    "© 2019 Zofii Kaczmarek. This work is licensed under a [Creative Commons Attribution License CC-BY 4.0](https://creativecommons.org/licenses/by/4.0/). All code contained herein is licensed under an [MIT license](https://opensource.org/licenses/MIT).\n",
    "\n",
    "--- "
   ]
  },
  {
   "cell_type": "code",
   "execution_count": 1,
   "metadata": {},
   "outputs": [],
   "source": [
    "import glob\n",
    "import numpy as np\n",
    "import pandas as pd\n",
    "import scipy\n",
    "import matplotlib.pyplot as plt\n",
    "import sys\n",
    "sys.path.insert(0, '../../')\n",
    "import mwc.io\n",
    "from matplotlib.ticker import ScalarFormatter, FormatStrFormatter"
   ]
  },
  {
   "cell_type": "markdown",
   "metadata": {},
   "source": [
    "## Per-Well Analyses: `deltaLacI` in Glucose"
   ]
  },
  {
   "cell_type": "markdown",
   "metadata": {},
   "source": [
    "We consider data from running Gaussian processing each well separately.\n",
    "\n",
    "First we collect and tidy the data. "
   ]
  },
  {
   "cell_type": "code",
   "execution_count": 2,
   "metadata": {},
   "outputs": [],
   "source": [
    "# Collect and concat gaussian processing output statistics for accepted experiments\n",
    "data_dir = '../processing/growth_curves_plate_reader/'\n",
    "growth_exp = glob.glob(f'{data_dir}*mixedmedia*growth')\n",
    "growth_dfs = []\n",
    "for _, d in enumerate(growth_exp):\n",
    "    sub_exps = glob.glob(f'{d}/output/delta_*/per_well_stats.csv')\n",
    "    for _, s in enumerate(sub_exps):\n",
    "        if s != []:\n",
    "            state = mwc.io.scrape_frontmatter(d)\n",
    "            if state['status'].lower() == 'accepted':\n",
    "                growth_df = pd.read_csv(s).drop(columns = 'strain')\n",
    "                growth_df['date'] = d.split('/')[-1].split('_')[0]\n",
    "                growth_df['temp_C'] = d.split('/')[-1].split('_')[2][0:2]\n",
    "                growth_df['carbon'] = s.split('/')[-2].split('_')[1]\n",
    "                growth_dfs.append(growth_df)\n",
    "growth_df_pw = pd.concat(growth_dfs)\n",
    "growth_df_pw['operator'] = 'O2'\n",
    "#growth_df_pw.to_csv('carbon_quality_analysis/compiled_per_well_stats.csv', index=False)"
   ]
  },
  {
   "cell_type": "code",
   "execution_count": 3,
   "metadata": {},
   "outputs": [],
   "source": [
    "# # Load the previously compiled dataframe of per-well growth rates.\n",
    "# growth_df_pw = pd.read_csv('carbon_quality_analysis/compiled_per_well_stats.csv')"
   ]
  },
  {
   "cell_type": "code",
   "execution_count": 4,
   "metadata": {},
   "outputs": [],
   "source": [
    "# Select the first derivative and standard deviation parameters\n",
    "growth_rate_df_pw = growth_df_pw[\n",
    "    (growth_df_pw['parameter'] == 'max df') | (growth_df_pw['parameter'] == 'max df std')].copy().reset_index(drop=True)\n",
    "\n",
    "# Rename\n",
    "growth_rate_df_pw.loc[growth_rate_df_pw['parameter'] == 'max df','parameter'] = 'growth_rate'\n",
    "growth_rate_df_pw.loc[growth_rate_df_pw['parameter'] == 'max df std','parameter'] = 'growth_rate_std'\n",
    "\n",
    "# Add unique tag to allow pivoting\n",
    "named = growth_rate_df_pw.copy()\n",
    "named['date'] = named['date'].astype('str')\n",
    "named['well_id'] = named['well_id'].astype('str')\n",
    "named['unique_id'] = named['date']+named['well_id']\n",
    "# Reshape\n",
    "wide = named.pivot(index = 'unique_id', columns='parameter', values='value').reset_index()\n",
    "long = named[['unique_id','temp_C','carbon','operator']].drop_duplicates()\n",
    "stats_df_pw = pd.merge(long,wide, how='left', on='unique_id').sort_values('unique_id')\n",
    "# Recover date and well id from unique id\n",
    "stats_df_pw['date'] = stats_df_pw['unique_id'].str[:-2]\n",
    "stats_df_pw['well_id'] = stats_df_pw['unique_id'].str[8:]\n",
    "#stats_df_pw = stats_df_pw.drop(columns = ['unique_id'])\n",
    "\n",
    "# Calculate doubling times and standard deviations from first derivative\n",
    "stats_df_pw['doub_time_minutes'] = np.log(2)/stats_df_pw['growth_rate']\n",
    "stats_df_pw['doub_time_std'] = np.log(2)*stats_df_pw['growth_rate_std']/(stats_df_pw['growth_rate'])**2\n",
    "\n",
    "# Convert temperatures from strings to ints\n",
    "stats_df_pw['temp_C'] = stats_df_pw['temp_C'].astype('int')\n",
    "\n",
    "stats_df_pw = stats_df_pw.sort_values('temp_C')"
   ]
  },
  {
   "cell_type": "code",
   "execution_count": 5,
   "metadata": {},
   "outputs": [
    {
     "data": {
      "text/html": [
       "<div>\n",
       "<style scoped>\n",
       "    .dataframe tbody tr th:only-of-type {\n",
       "        vertical-align: middle;\n",
       "    }\n",
       "\n",
       "    .dataframe tbody tr th {\n",
       "        vertical-align: top;\n",
       "    }\n",
       "\n",
       "    .dataframe thead th {\n",
       "        text-align: right;\n",
       "    }\n",
       "</style>\n",
       "<table border=\"1\" class=\"dataframe\">\n",
       "  <thead>\n",
       "    <tr style=\"text-align: right;\">\n",
       "      <th></th>\n",
       "      <th></th>\n",
       "      <th>growth_rate</th>\n",
       "      <th>growth_rate_std</th>\n",
       "      <th>doub_time_minutes</th>\n",
       "      <th>doub_time_std</th>\n",
       "    </tr>\n",
       "    <tr>\n",
       "      <th>carbon</th>\n",
       "      <th>temp_C</th>\n",
       "      <th></th>\n",
       "      <th></th>\n",
       "      <th></th>\n",
       "      <th></th>\n",
       "    </tr>\n",
       "  </thead>\n",
       "  <tbody>\n",
       "    <tr>\n",
       "      <th>LB</th>\n",
       "      <th>37</th>\n",
       "      <td>0.027473</td>\n",
       "      <td>0.000458</td>\n",
       "      <td>25.311486</td>\n",
       "      <td>0.420340</td>\n",
       "    </tr>\n",
       "    <tr>\n",
       "      <th>acetate</th>\n",
       "      <th>37</th>\n",
       "      <td>0.044224</td>\n",
       "      <td>0.008558</td>\n",
       "      <td>201.304598</td>\n",
       "      <td>1.599877</td>\n",
       "    </tr>\n",
       "    <tr>\n",
       "      <th>glucose</th>\n",
       "      <th>37</th>\n",
       "      <td>0.010669</td>\n",
       "      <td>0.000148</td>\n",
       "      <td>65.097344</td>\n",
       "      <td>0.877721</td>\n",
       "    </tr>\n",
       "    <tr>\n",
       "      <th>glycerol</th>\n",
       "      <th>37</th>\n",
       "      <td>0.006538</td>\n",
       "      <td>0.000036</td>\n",
       "      <td>106.292894</td>\n",
       "      <td>0.577947</td>\n",
       "    </tr>\n",
       "  </tbody>\n",
       "</table>\n",
       "</div>"
      ],
      "text/plain": [
       "                 growth_rate  growth_rate_std  doub_time_minutes  \\\n",
       "carbon   temp_C                                                    \n",
       "LB       37         0.027473         0.000458          25.311486   \n",
       "acetate  37         0.044224         0.008558         201.304598   \n",
       "glucose  37         0.010669         0.000148          65.097344   \n",
       "glycerol 37         0.006538         0.000036         106.292894   \n",
       "\n",
       "                 doub_time_std  \n",
       "carbon   temp_C                 \n",
       "LB       37           0.420340  \n",
       "acetate  37           1.599877  \n",
       "glucose  37           0.877721  \n",
       "glycerol 37           0.577947  "
      ]
     },
     "execution_count": 5,
     "metadata": {},
     "output_type": "execute_result"
    }
   ],
   "source": [
    "stats_df_pw.groupby(['carbon', 'temp_C']).mean()"
   ]
  },
  {
   "cell_type": "markdown",
   "metadata": {},
   "source": [
    "### Removal of Pathological Fits"
   ]
  },
  {
   "cell_type": "markdown",
   "metadata": {},
   "source": [
    "Some wells were fit to pathological derivative curves, with large error regions on the fits. This sometimes led to extremely high or low growth rates.\n",
    "\n",
    "* 20190124 D9 (45)"
   ]
  },
  {
   "cell_type": "code",
   "execution_count": 22,
   "metadata": {},
   "outputs": [
    {
     "data": {
      "text/html": [
       "<div>\n",
       "<style scoped>\n",
       "    .dataframe tbody tr th:only-of-type {\n",
       "        vertical-align: middle;\n",
       "    }\n",
       "\n",
       "    .dataframe tbody tr th {\n",
       "        vertical-align: top;\n",
       "    }\n",
       "\n",
       "    .dataframe thead th {\n",
       "        text-align: right;\n",
       "    }\n",
       "</style>\n",
       "<table border=\"1\" class=\"dataframe\">\n",
       "  <thead>\n",
       "    <tr style=\"text-align: right;\">\n",
       "      <th></th>\n",
       "      <th>unique_id</th>\n",
       "      <th>temp_C</th>\n",
       "      <th>carbon</th>\n",
       "      <th>operator</th>\n",
       "      <th>growth_rate</th>\n",
       "      <th>growth_rate_std</th>\n",
       "      <th>date</th>\n",
       "      <th>well_id</th>\n",
       "      <th>doub_time_minutes</th>\n",
       "      <th>doub_time_std</th>\n",
       "    </tr>\n",
       "  </thead>\n",
       "  <tbody>\n",
       "    <tr>\n",
       "      <th>103</th>\n",
       "      <td>2019012445</td>\n",
       "      <td>37</td>\n",
       "      <td>acetate</td>\n",
       "      <td>O2</td>\n",
       "      <td>2.820059</td>\n",
       "      <td>0.588605</td>\n",
       "      <td>20190124</td>\n",
       "      <td>45</td>\n",
       "      <td>0.245792</td>\n",
       "      <td>0.051302</td>\n",
       "    </tr>\n",
       "  </tbody>\n",
       "</table>\n",
       "</div>"
      ],
      "text/plain": [
       "      unique_id  temp_C   carbon operator  growth_rate  growth_rate_std  \\\n",
       "103  2019012445      37  acetate       O2     2.820059         0.588605   \n",
       "\n",
       "         date well_id  doub_time_minutes  doub_time_std  \n",
       "103  20190124      45           0.245792       0.051302  "
      ]
     },
     "execution_count": 22,
     "metadata": {},
     "output_type": "execute_result"
    }
   ],
   "source": [
    "stats_df_pw[stats_df_pw['unique_id'].isin(['2019012445'])]"
   ]
  },
  {
   "cell_type": "code",
   "execution_count": 55,
   "metadata": {},
   "outputs": [],
   "source": [
    "stats_df_pw_filt = stats_df_pw[~stats_df_pw['unique_id'].isin(['2019012445'])].sort_values('doub_time_minutes')"
   ]
  },
  {
   "cell_type": "markdown",
   "metadata": {},
   "source": [
    "### Per-Well Growth Rates and Model Fit Errors\n",
    "No averaging or error propogation. Errors from model fits only."
   ]
  },
  {
   "cell_type": "code",
   "execution_count": 115,
   "metadata": {},
   "outputs": [
    {
     "data": {
      "image/png": "[encoded data removed]",
      "text/plain": [
       "<Figure size 720x360 with 2 Axes>"
      ]
     },
     "metadata": {
      "needs_background": "light"
     },
     "output_type": "display_data"
    }
   ],
   "source": [
    "fig, ax = plt.subplots(ncols = 2, figsize = (10, 5))\n",
    "\n",
    "ax[0].scatter(stats_df_pw_filt['carbon'], stats_df_pw_filt['doub_time_minutes'])\n",
    "ax[1].scatter(stats_df_pw_filt['carbon'], stats_df_pw_filt['growth_rate'])\n",
    "\n",
    "ax[0].set_ylabel('doubling time (min)')\n",
    "ax[1].set_ylabel('growth rate (min^-1)')\n",
    "ax[1].set_ylim(0.0015,0.0305)\n",
    "\n",
    "plt.tight_layout()\n",
    "fig.suptitle('Doubling Times and Growth Rates for Four Carbon Sources')\n",
    "fig.subplots_adjust(top=0.92)\n",
    "\n",
    "#plt.savefig('carbon_quality_analysis/delta_37_growth_rate_vs_carbon_pw.png')"
   ]
  },
  {
   "cell_type": "markdown",
   "metadata": {},
   "source": [
    "### Per-Well Mean Growth Rates\n",
    "Averaged data, no error bars shown."
   ]
  },
  {
   "cell_type": "code",
   "execution_count": 102,
   "metadata": {},
   "outputs": [],
   "source": [
    "stats_df_pw_avgd = stats_df_pw_filt.drop(columns = ['growth_rate_std', 'doub_time_std']).groupby(\n",
    "    ['temp_C','carbon','operator']).agg(['mean','sem','std','count'])\n",
    "stats_df_pw_avgd.columns = ['_'.join(col) for col in stats_df_pw_avgd.columns.values]\n",
    "stats_df_pw_avgd = stats_df_pw_avgd.reset_index()\n",
    "stats_df_pw_avgd = stats_df_pw_avgd.drop(columns = 'growth_rate_count')\n",
    "stats_df_pw_avgd = stats_df_pw_avgd.rename(columns = {'doub_time_minutes_count':'num_well_replicates'})\n",
    "stats_df_pw_avgd = stats_df_pw_avgd.sort_values('doub_time_minutes_mean')"
   ]
  },
  {
   "cell_type": "code",
   "execution_count": 103,
   "metadata": {},
   "outputs": [
    {
     "data": {
      "text/html": [
       "<div>\n",
       "<style scoped>\n",
       "    .dataframe tbody tr th:only-of-type {\n",
       "        vertical-align: middle;\n",
       "    }\n",
       "\n",
       "    .dataframe tbody tr th {\n",
       "        vertical-align: top;\n",
       "    }\n",
       "\n",
       "    .dataframe thead th {\n",
       "        text-align: right;\n",
       "    }\n",
       "</style>\n",
       "<table border=\"1\" class=\"dataframe\">\n",
       "  <thead>\n",
       "    <tr style=\"text-align: right;\">\n",
       "      <th></th>\n",
       "      <th>temp_C</th>\n",
       "      <th>carbon</th>\n",
       "      <th>operator</th>\n",
       "      <th>growth_rate_mean</th>\n",
       "      <th>growth_rate_sem</th>\n",
       "      <th>growth_rate_std</th>\n",
       "      <th>doub_time_minutes_mean</th>\n",
       "      <th>doub_time_minutes_sem</th>\n",
       "      <th>doub_time_minutes_std</th>\n",
       "      <th>num_well_replicates</th>\n",
       "    </tr>\n",
       "  </thead>\n",
       "  <tbody>\n",
       "    <tr>\n",
       "      <th>0</th>\n",
       "      <td>37</td>\n",
       "      <td>LB</td>\n",
       "      <td>O2</td>\n",
       "      <td>0.027473</td>\n",
       "      <td>0.000367</td>\n",
       "      <td>0.001556</td>\n",
       "      <td>25.311486</td>\n",
       "      <td>0.361142</td>\n",
       "      <td>1.532197</td>\n",
       "      <td>18</td>\n",
       "    </tr>\n",
       "    <tr>\n",
       "      <th>2</th>\n",
       "      <td>37</td>\n",
       "      <td>glucose</td>\n",
       "      <td>O2</td>\n",
       "      <td>0.010669</td>\n",
       "      <td>0.000058</td>\n",
       "      <td>0.000483</td>\n",
       "      <td>65.097344</td>\n",
       "      <td>0.351212</td>\n",
       "      <td>2.938450</td>\n",
       "      <td>70</td>\n",
       "    </tr>\n",
       "    <tr>\n",
       "      <th>3</th>\n",
       "      <td>37</td>\n",
       "      <td>glycerol</td>\n",
       "      <td>O2</td>\n",
       "      <td>0.006538</td>\n",
       "      <td>0.000038</td>\n",
       "      <td>0.000321</td>\n",
       "      <td>106.292894</td>\n",
       "      <td>0.697079</td>\n",
       "      <td>5.873690</td>\n",
       "      <td>71</td>\n",
       "    </tr>\n",
       "    <tr>\n",
       "      <th>1</th>\n",
       "      <td>37</td>\n",
       "      <td>acetate</td>\n",
       "      <td>O2</td>\n",
       "      <td>0.003403</td>\n",
       "      <td>0.000022</td>\n",
       "      <td>0.000182</td>\n",
       "      <td>204.261345</td>\n",
       "      <td>1.314787</td>\n",
       "      <td>10.842009</td>\n",
       "      <td>68</td>\n",
       "    </tr>\n",
       "  </tbody>\n",
       "</table>\n",
       "</div>"
      ],
      "text/plain": [
       "   temp_C    carbon operator  growth_rate_mean  growth_rate_sem  \\\n",
       "0      37        LB       O2          0.027473         0.000367   \n",
       "2      37   glucose       O2          0.010669         0.000058   \n",
       "3      37  glycerol       O2          0.006538         0.000038   \n",
       "1      37   acetate       O2          0.003403         0.000022   \n",
       "\n",
       "   growth_rate_std  doub_time_minutes_mean  doub_time_minutes_sem  \\\n",
       "0         0.001556               25.311486               0.361142   \n",
       "2         0.000483               65.097344               0.351212   \n",
       "3         0.000321              106.292894               0.697079   \n",
       "1         0.000182              204.261345               1.314787   \n",
       "\n",
       "   doub_time_minutes_std  num_well_replicates  \n",
       "0               1.532197                   18  \n",
       "2               2.938450                   70  \n",
       "3               5.873690                   71  \n",
       "1              10.842009                   68  "
      ]
     },
     "execution_count": 103,
     "metadata": {},
     "output_type": "execute_result"
    }
   ],
   "source": [
    "stats_df_pw_avgd"
   ]
  },
  {
   "cell_type": "code",
   "execution_count": 116,
   "metadata": {},
   "outputs": [
    {
     "data": {
      "image/png": "[encoded data removed]",
      "text/plain": [
       "<Figure size 432x360 with 2 Axes>"
      ]
     },
     "metadata": {
      "needs_background": "light"
     },
     "output_type": "display_data"
    }
   ],
   "source": [
    "fig, ax1 = plt.subplots(figsize = (6, 5))\n",
    "\n",
    "ax1.scatter(stats_df_pw_avgd['carbon'], stats_df_pw_avgd['doub_time_minutes_mean'], color = ['r','k','b','m'])\n",
    "\n",
    "ax2 = ax1.twinx()\n",
    "ax2.scatter(stats_df_pw_avgd['carbon'], stats_df_pw_avgd['growth_rate_mean'], color = ['r','k','b','m'], alpha = 0.5)\n",
    "ax2.set_ylim(0.0023,0.0285)\n",
    "\n",
    "ax1.set_ylabel('doubling time (min)')\n",
    "ax2.set_ylabel('growth rate (min^-1)')\n",
    "\n",
    "plt.tight_layout()\n",
    "fig.suptitle('Mean Doubling Times and Growth Rates for Four Carbon Sources')\n",
    "fig.subplots_adjust(top=0.92)\n",
    "\n",
    "#plt.savefig('carbon_quality_analysis/delta_37_growth_rate_vs_carbon_pw_mean.png')"
   ]
  },
  {
   "cell_type": "markdown",
   "metadata": {},
   "source": [
    "### Per-Well Mean Growth Rates and SEM\n",
    "Averaged data, with standard errors of the mean, plotted without data point markers to show errors clearly."
   ]
  },
  {
   "cell_type": "code",
   "execution_count": 118,
   "metadata": {},
   "outputs": [
    {
     "data": {
      "image/png": "[encoded data removed]",
      "text/plain": [
       "<Figure size 432x360 with 2 Axes>"
      ]
     },
     "metadata": {
      "needs_background": "light"
     },
     "output_type": "display_data"
    }
   ],
   "source": [
    "fig, ax1 = plt.subplots(figsize = (6, 5))\n",
    "\n",
    "ax1.errorbar(stats_df_pw_avgd['carbon'], stats_df_pw_avgd['doub_time_minutes_mean'], \n",
    "             yerr = stats_df_pw_avgd['doub_time_minutes_sem'], ls = '', color = 'k')\n",
    "\n",
    "ax2 = ax1.twinx()\n",
    "ax2.errorbar(stats_df_pw_avgd['carbon'], stats_df_pw_avgd['growth_rate_mean'], \n",
    "             yerr = stats_df_pw_avgd['growth_rate_sem'], ls = '', color = 'b')\n",
    "ax2.set_ylim(0.0023,0.0285)\n",
    "\n",
    "ax1.set_ylabel('doubling time (min)')\n",
    "ax2.set_ylabel('growth rate (min^-1)')\n",
    "\n",
    "plt.tight_layout()\n",
    "fig.suptitle('SEM for Growth Rates for Four Carbon Sources')\n",
    "fig.subplots_adjust(top=0.92)\n",
    "\n",
    "#plt.savefig('carbon_quality_analysis/delta_37_growth_rate_vs_carbon_pw_sem.png')"
   ]
  },
  {
   "cell_type": "markdown",
   "metadata": {},
   "source": [
    "### Per-Well Mean Growth Rates and Standard Deviation\n",
    "Averaged data, plotted with standard devation of replicates."
   ]
  },
  {
   "cell_type": "code",
   "execution_count": 119,
   "metadata": {},
   "outputs": [
    {
     "data": {
      "image/png": "[encoded data removed]",
      "text/plain": [
       "<Figure size 432x360 with 2 Axes>"
      ]
     },
     "metadata": {
      "needs_background": "light"
     },
     "output_type": "display_data"
    }
   ],
   "source": [
    "fig, ax1 = plt.subplots(figsize = (6, 5))\n",
    "\n",
    "ax1.errorbar(stats_df_pw_avgd['carbon'], stats_df_pw_avgd['doub_time_minutes_mean'], \n",
    "             yerr = stats_df_pw_avgd['doub_time_minutes_std'], ls='', color = 'k', zorder=0)\n",
    "ax1.scatter(stats_df_pw_avgd['carbon'], stats_df_pw_avgd['doub_time_minutes_mean'], color=['r','k','b','m'], alpha=0.8)\n",
    "\n",
    "ax2 = ax1.twinx()\n",
    "ax2.errorbar(stats_df_pw_avgd['carbon'], stats_df_pw_avgd['growth_rate_mean'], \n",
    "             yerr = stats_df_pw_avgd['growth_rate_std'], ls='', color = 'k',zorder=0)\n",
    "ax2.scatter(stats_df_pw_avgd['carbon'], stats_df_pw_avgd['growth_rate_mean'], color=['r','k','b','m'], alpha=0.5)\n",
    "ax2.set_ylim(0.0023,0.0285)\n",
    "\n",
    "ax1.set_ylabel('doubling time (min)')\n",
    "ax2.set_ylabel('growth rate (min^-1)')\n",
    "\n",
    "plt.tight_layout()\n",
    "fig.suptitle('Growth Rates and Standard Deviations for Four Carbon Sources')\n",
    "fig.subplots_adjust(top=0.92)\n",
    "\n",
    "#plt.savefig('carbon_quality_analysis/delta_37_growth_rate_vs_carbon_pw_std.png')"
   ]
  },
  {
   "cell_type": "markdown",
   "metadata": {},
   "source": [
    "And finally, let's look at the numbers for growth rates at each temperature."
   ]
  },
  {
   "cell_type": "code",
   "execution_count": 99,
   "metadata": {},
   "outputs": [
    {
     "data": {
      "text/html": [
       "<div>\n",
       "<style scoped>\n",
       "    .dataframe tbody tr th:only-of-type {\n",
       "        vertical-align: middle;\n",
       "    }\n",
       "\n",
       "    .dataframe tbody tr th {\n",
       "        vertical-align: top;\n",
       "    }\n",
       "\n",
       "    .dataframe thead th {\n",
       "        text-align: right;\n",
       "    }\n",
       "</style>\n",
       "<table border=\"1\" class=\"dataframe\">\n",
       "  <thead>\n",
       "    <tr style=\"text-align: right;\">\n",
       "      <th></th>\n",
       "      <th>temp_C</th>\n",
       "      <th>carbon</th>\n",
       "      <th>operator</th>\n",
       "      <th>growth_rate_mean</th>\n",
       "      <th>growth_rate_sem</th>\n",
       "      <th>growth_rate_std</th>\n",
       "      <th>doub_time_minutes_mean</th>\n",
       "      <th>doub_time_minutes_sem</th>\n",
       "      <th>doub_time_minutes_std</th>\n",
       "    </tr>\n",
       "  </thead>\n",
       "  <tbody>\n",
       "    <tr>\n",
       "      <th>0</th>\n",
       "      <td>37</td>\n",
       "      <td>LB</td>\n",
       "      <td>O2</td>\n",
       "      <td>0.027473</td>\n",
       "      <td>0.000367</td>\n",
       "      <td>0.001556</td>\n",
       "      <td>25.311486</td>\n",
       "      <td>0.361142</td>\n",
       "      <td>1.532197</td>\n",
       "    </tr>\n",
       "    <tr>\n",
       "      <th>2</th>\n",
       "      <td>37</td>\n",
       "      <td>glucose</td>\n",
       "      <td>O2</td>\n",
       "      <td>0.010669</td>\n",
       "      <td>0.000058</td>\n",
       "      <td>0.000483</td>\n",
       "      <td>65.097344</td>\n",
       "      <td>0.351212</td>\n",
       "      <td>2.938450</td>\n",
       "    </tr>\n",
       "    <tr>\n",
       "      <th>3</th>\n",
       "      <td>37</td>\n",
       "      <td>glycerol</td>\n",
       "      <td>O2</td>\n",
       "      <td>0.006538</td>\n",
       "      <td>0.000038</td>\n",
       "      <td>0.000321</td>\n",
       "      <td>106.292894</td>\n",
       "      <td>0.697079</td>\n",
       "      <td>5.873690</td>\n",
       "    </tr>\n",
       "    <tr>\n",
       "      <th>1</th>\n",
       "      <td>37</td>\n",
       "      <td>acetate</td>\n",
       "      <td>O2</td>\n",
       "      <td>0.003403</td>\n",
       "      <td>0.000022</td>\n",
       "      <td>0.000182</td>\n",
       "      <td>204.261345</td>\n",
       "      <td>1.314787</td>\n",
       "      <td>10.842009</td>\n",
       "    </tr>\n",
       "  </tbody>\n",
       "</table>\n",
       "</div>"
      ],
      "text/plain": [
       "   temp_C    carbon operator  growth_rate_mean  growth_rate_sem  \\\n",
       "0      37        LB       O2          0.027473         0.000367   \n",
       "2      37   glucose       O2          0.010669         0.000058   \n",
       "3      37  glycerol       O2          0.006538         0.000038   \n",
       "1      37   acetate       O2          0.003403         0.000022   \n",
       "\n",
       "   growth_rate_std  doub_time_minutes_mean  doub_time_minutes_sem  \\\n",
       "0         0.001556               25.311486               0.361142   \n",
       "2         0.000483               65.097344               0.351212   \n",
       "3         0.000321              106.292894               0.697079   \n",
       "1         0.000182              204.261345               1.314787   \n",
       "\n",
       "   doub_time_minutes_std  \n",
       "0               1.532197  \n",
       "2               2.938450  \n",
       "3               5.873690  \n",
       "1              10.842009  "
      ]
     },
     "execution_count": 99,
     "metadata": {},
     "output_type": "execute_result"
    }
   ],
   "source": [
    "stats_df_pw_avgd"
   ]
  },
  {
   "cell_type": "code",
   "execution_count": 104,
   "metadata": {},
   "outputs": [
    {
     "data": {
      "text/plain": [
       "0    1.648406\n",
       "2    0.640159\n",
       "3    0.392307\n",
       "1    0.204177\n",
       "Name: growth_rate_mean, dtype: float64"
      ]
     },
     "execution_count": 104,
     "metadata": {},
     "output_type": "execute_result"
    }
   ],
   "source": [
    "stats_df_pw_avgd['growth_rate_mean']*60"
   ]
  },
  {
   "cell_type": "code",
   "execution_count": null,
   "metadata": {},
   "outputs": [],
   "source": []
  }
 ],
 "metadata": {
  "kernelspec": {
   "display_name": "Python 3",
   "language": "python",
   "name": "python3"
  },
  "language_info": {
   "codemirror_mode": {
    "name": "ipython",
    "version": 3
   },
   "file_extension": ".py",
   "mimetype": "text/x-python",
   "name": "python",
   "nbconvert_exporter": "python",
   "pygments_lexer": "ipython3",
   "version": "3.7.0"
  }
 },
 "nbformat": 4,
 "nbformat_minor": 2
}
