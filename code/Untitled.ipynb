{
 "cells": [
  {
   "cell_type": "markdown",
   "metadata": {},
   "source": [
    "# Tidying data from Promega GLOMax plate reader "
   ]
  },
  {
   "cell_type": "code",
   "execution_count": 35,
   "metadata": {},
   "outputs": [],
   "source": [
    "import numpy as np\n",
    "import matplotlib.pyplot as plt\n",
    "import seaborn as sns\n",
    "import pandas as pd\n",
    "import sys\n",
    "sys.path.insert(0, '../../')\n",
    "import mwc_growth as mwc"
   ]
  },
  {
   "cell_type": "markdown",
   "metadata": {},
   "source": [
    "As expected, the plate reader returns the data in a truly hideoous data format. This notebook is  my effort at using pandas to make it tidy format."
   ]
  },
  {
   "cell_type": "code",
   "execution_count": 45,
   "metadata": {},
   "outputs": [],
   "source": [
    "# Load in the data. \n",
    "data = pd.read_excel('../../data/mbl_2017/csv/20160221_plate_reader_test.xlsx',\n",
    "                    sheetname='Results By Well', skiprows=5, header=1)\n",
    "# Drop the columns with Nans. \n",
    "names = ['A:1', 'n', 't(sec)', 'value']\n",
    "data = pd.DataFrame([data[i] for i in names]).T"
   ]
  },
  {
   "cell_type": "code",
   "execution_count": 48,
   "metadata": {},
   "outputs": [
    {
     "data": {
      "text/plain": [
       "array([nan, 'A:2', 'A:3', 'A:4', 'A:5', 'B:1', 'B:2', 'B:3', 'B:4', 'C:1',\n",
       "       'C:2', 'C:3', 'C:4', 'D:1', 'D:2', 'D:3', 'D:4', 'E:1', 'E:2',\n",
       "       'E:3', 'E:4', 'F:1', 'F:2', 'F:3', 'F:4'], dtype=object)"
      ]
     },
     "execution_count": 48,
     "metadata": {},
     "output_type": "execute_result"
    }
   ],
   "source": [
    "data['A:1'].unique()"
   ]
  },
  {
   "cell_type": "code",
   "execution_count": null,
   "metadata": {
    "collapsed": true
   },
   "outputs": [],
   "source": []
  }
 ],
 "metadata": {
  "kernelspec": {
   "display_name": "Python 3",
   "language": "python",
   "name": "python3"
  },
  "language_info": {
   "codemirror_mode": {
    "name": "ipython",
    "version": 3
   },
   "file_extension": ".py",
   "mimetype": "text/x-python",
   "name": "python",
   "nbconvert_exporter": "python",
   "pygments_lexer": "ipython3",
   "version": "3.6.1"
  }
 },
 "nbformat": 4,
 "nbformat_minor": 2
}
